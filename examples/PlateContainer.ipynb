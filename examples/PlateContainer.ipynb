{
 "cells": [
  {
   "cell_type": "code",
   "execution_count": 1,
   "outputs": [],
   "source": [
    "%load_ext dotenv\n",
    "%dotenv\n",
    "import os\n",
    "\n",
    "SN_API_HOST = os.getenv('SN_API_HOST')\n",
    "SN_API_KEY = os.getenv('SN_API_KEY')"
   ],
   "metadata": {
    "collapsed": false,
    "pycharm": {
     "name": "#%%\n"
    }
   }
  },
  {
   "cell_type": "code",
   "execution_count": 2,
   "outputs": [
    {
     "data": {
      "text/plain": "<signals_notebook.api.SignalsNotebookApi at 0x20729e9b490>"
     },
     "execution_count": 2,
     "metadata": {},
     "output_type": "execute_result"
    }
   ],
   "source": [
    "from signals_notebook.api import SignalsNotebookApi\n",
    "SignalsNotebookApi.init(SN_API_HOST, SN_API_KEY)"
   ],
   "metadata": {
    "collapsed": false,
    "pycharm": {
     "name": "#%%\n"
    }
   }
  },
  {
   "cell_type": "code",
   "execution_count": 3,
   "outputs": [],
   "source": [
    "from signals_notebook.entities import EntityStore\n",
    "\n",
    "experiment = EntityStore.get(\"experiment:1cf65229-dea3-4bdb-b6c5-daf8565e39a0\")"
   ],
   "metadata": {
    "collapsed": false,
    "pycharm": {
     "name": "#%%\n"
    }
   }
  },
  {
   "cell_type": "code",
   "execution_count": 4,
   "outputs": [],
   "source": [
    "plate_container = list(experiment.get_children())[-1]"
   ],
   "metadata": {
    "collapsed": false,
    "pycharm": {
     "name": "#%%\n"
    }
   }
  },
  {
   "cell_type": "code",
   "execution_count": 5,
   "outputs": [
    {
     "name": "stderr",
     "output_type": "stream",
     "text": [
      "IOPub data rate exceeded.\n",
      "The notebook server will temporarily stop sending output\n",
      "to the client in order to avoid crashing it.\n",
      "To change this limit, set the config variable\n",
      "`--NotebookApp.iopub_data_rate_limit`.\n",
      "\n",
      "Current values:\n",
      "NotebookApp.iopub_data_rate_limit=1000000.0 (bytes/sec)\n",
      "NotebookApp.rate_limit_window=3.0 (secs)\n",
      "\n"
     ]
    }
   ],
   "source": [
    "for item in plate_container:\n",
    "    print(item)"
   ],
   "metadata": {
    "collapsed": false,
    "pycharm": {
     "name": "#%%\n"
    }
   }
  },
  {
   "cell_type": "code",
   "execution_count": 6,
   "outputs": [
    {
     "data": {
      "text/plain": "PlateContainer(type=<EntityType.PLATE_CONTAINER: 'plateContainer'>, eid='plateContainer:8728059f-8472-4872-929b-fa033e724fe3', digest='34718742', name='Plates-1', description='', created_at=datetime.datetime(2022, 7, 13, 9, 37, 5, 73000, tzinfo=datetime.timezone.utc), edited_at=datetime.datetime(2022, 7, 13, 9, 37, 29, 391000, tzinfo=datetime.timezone.utc))"
     },
     "execution_count": 6,
     "metadata": {},
     "output_type": "execute_result"
    }
   ],
   "source": [
    "plate_container"
   ],
   "metadata": {
    "collapsed": false,
    "pycharm": {
     "name": "#%%\n"
    }
   }
  },
  {
   "cell_type": "code",
   "execution_count": 7,
   "outputs": [
    {
     "data": {
      "text/plain": "PlateRow(id=UUID('869491dc-bf8b-3c43-a225-629e2c10900a'), type=<ObjectType.PLATE_ROW: 'plateRow'>, cells=[Cell(id=UUID('76a7d17a-75b7-39a5-8549-05f073a064e3'), type=<ColumnDataType.TEXT: 'TEXT'>, name='Well ID', content=CellContent(user='A1', value='A1', values=None)), Cell(id=UUID('59f9b60c-a571-3c8e-982d-cdfe7e88e23c'), type=<ColumnDataType.TEXT: 'TEXT'>, name='Row', content=CellContent(user='A', value='A', values=None)), Cell(id=UUID('b5ff1ac8-310e-3848-9367-a4b8f4dc7ecc'), type=<ColumnDataType.INTEGER: 'INTEGER'>, name='Column', content=CellContent(user='1', value=1, values=None)), Cell(id=UUID('5a79aad4-7b07-39f1-9634-a2669a149a5b'), type=<ColumnDataType.TEXT: 'TEXT'>, name='Plate', content=CellContent(user='Plate-1', value='Plate-1', values=None)), Cell(id=UUID('43a9fcf2-bf40-3ed0-ba54-204275f053df'), type=<ColumnDataType.INTEGER: 'INTEGER'>, name='Order', content=CellContent(user='1', value=1, values=None)), Cell(id=UUID('f2053c2d-985d-3343-97e4-ae35b7fbe9d3'), type=<ColumnDataType.TEXT: 'TEXT'>, name='Plate ID', content=CellContent(user='d', value='d', values=None))])"
     },
     "execution_count": 7,
     "metadata": {},
     "output_type": "execute_result"
    }
   ],
   "source": [
    "plate_container[0]"
   ],
   "metadata": {
    "collapsed": false,
    "pycharm": {
     "name": "#%%\n"
    }
   }
  },
  {
   "cell_type": "code",
   "execution_count": 8,
   "outputs": [
    {
     "data": {
      "text/plain": "Cell(id=UUID('76a7d17a-75b7-39a5-8549-05f073a064e3'), type=<ColumnDataType.TEXT: 'TEXT'>, name='Well ID', content=CellContent(user='A1', value='A1', values=None))"
     },
     "execution_count": 8,
     "metadata": {},
     "output_type": "execute_result"
    }
   ],
   "source": [
    "plate_container[0][0]"
   ],
   "metadata": {
    "collapsed": false,
    "pycharm": {
     "name": "#%%\n"
    }
   }
  },
  {
   "cell_type": "code",
   "execution_count": 8,
   "outputs": [],
   "source": [],
   "metadata": {
    "collapsed": false,
    "pycharm": {
     "name": "#%%\n"
    }
   }
  }
 ],
 "metadata": {
  "kernelspec": {
   "display_name": "Python 3",
   "language": "python",
   "name": "python3"
  },
  "language_info": {
   "codemirror_mode": {
    "name": "ipython",
    "version": 2
   },
   "file_extension": ".py",
   "mimetype": "text/x-python",
   "name": "python",
   "nbconvert_exporter": "python",
   "pygments_lexer": "ipython2",
   "version": "2.7.6"
  }
 },
 "nbformat": 4,
 "nbformat_minor": 0
}
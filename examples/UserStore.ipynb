{
 "cells": [
  {
   "cell_type": "code",
   "execution_count": 14,
   "outputs": [
    {
     "name": "stdout",
     "output_type": "stream",
     "text": [
      "The dotenv extension is already loaded. To reload it, use:\n",
      "  %reload_ext dotenv\n"
     ]
    }
   ],
   "source": [
    "%load_ext dotenv\n",
    "%dotenv\n",
    "import os\n",
    "\n",
    "SN_API_HOST = os.getenv('SN_API_HOST')\n",
    "SN_API_KEY = os.getenv('SN_API_KEY')"
   ],
   "metadata": {
    "collapsed": false,
    "pycharm": {
     "name": "#%%\n"
    }
   }
  },
  {
   "cell_type": "code",
   "execution_count": 15,
   "outputs": [
    {
     "data": {
      "text/plain": "<signals_notebook.api.SignalsNotebookApi at 0x185aa413bb0>"
     },
     "execution_count": 15,
     "metadata": {},
     "output_type": "execute_result"
    }
   ],
   "source": [
    "from signals_notebook.api import SignalsNotebookApi\n",
    "SignalsNotebookApi.init(SN_API_HOST, SN_API_KEY)"
   ],
   "metadata": {
    "collapsed": false,
    "pycharm": {
     "name": "#%%\n"
    }
   }
  },
  {
   "cell_type": "code",
   "execution_count": 16,
   "outputs": [
    {
     "data": {
      "text/plain": "User(is_enabled=True, id='119', username='evgeniy.pokidov@quantori.com', email='evgeniy.pokidov@quantori.com', alias=None, first_name='Evgeniy', last_name='Pokidov', country='USA', organization='quantori', created_at=datetime.datetime(2022, 1, 24, 13, 25, 24, 180000, tzinfo=datetime.timezone.utc), last_login_at=datetime.datetime(2022, 6, 24, 13, 15, 28, 657000, tzinfo=datetime.timezone.utc))"
     },
     "execution_count": 16,
     "metadata": {},
     "output_type": "execute_result"
    }
   ],
   "source": [
    "from signals_notebook.entities import UserStore\n",
    "\n",
    "user = UserStore.get('119')\n",
    "user"
   ],
   "metadata": {
    "collapsed": false,
    "pycharm": {
     "name": "#%%\n"
    }
   }
  },
  {
   "cell_type": "code",
   "execution_count": 20,
   "outputs": [
    {
     "data": {
      "text/plain": "User(is_enabled=True, id='103', username='sergey.kuznetsov@quantori.com', email='sergey.kuznetsov@quantori.com', alias=None, first_name='Sergey', last_name='Kuznetsov', country='USA', organization='quantori', created_at=datetime.datetime(2021, 11, 3, 3, 0, 6, 567000, tzinfo=datetime.timezone.utc), last_login_at=datetime.datetime(2022, 7, 1, 11, 48, 58, 901000, tzinfo=datetime.timezone.utc))"
     },
     "execution_count": 20,
     "metadata": {},
     "output_type": "execute_result"
    }
   ],
   "source": [
    "current_user_profile = UserStore.get_current_user()\n",
    "current_user = UserStore.get(current_user_profile.id)\n",
    "current_user"
   ],
   "metadata": {
    "collapsed": false,
    "pycharm": {
     "name": "#%%\n"
    }
   }
  },
  {
   "cell_type": "code",
   "execution_count": 22,
   "outputs": [],
   "source": [
    "from signals_notebook.common_types import File\n",
    "\n",
    "file = current_user.picture\n",
    "assert isinstance(file, File)"
   ],
   "metadata": {
    "collapsed": false,
    "pycharm": {
     "name": "#%%\n"
    }
   }
  },
  {
   "cell_type": "code",
   "execution_count": 6,
   "outputs": [
    {
     "data": {
      "text/plain": "[Group(type=<ObjectType.GROUP: 'group'>, eid='group:102', id='102', is_system=True),\n Group(type=<ObjectType.GROUP: 'group'>, eid='group:101', id='101', is_system=True)]"
     },
     "execution_count": 6,
     "metadata": {},
     "output_type": "execute_result"
    }
   ],
   "source": [
    "user.get_system_groups()"
   ],
   "metadata": {
    "collapsed": false,
    "pycharm": {
     "name": "#%%\n"
    }
   }
  },
  {
   "cell_type": "code",
   "execution_count": 7,
   "outputs": [
    {
     "data": {
      "text/plain": "User(is_enabled=True, id='119', username='evgeniy.pokidov@quantori.com', email='evgeniy.pokidov@quantori.com', alias=None, first_name='NEW', last_name='Pokidov', country='USA', organization='quantori', created_at=datetime.datetime(2022, 1, 24, 13, 25, 24, 180000, tzinfo=datetime.timezone.utc), last_login_at=datetime.datetime(2022, 6, 24, 13, 15, 28, 657000, tzinfo=datetime.timezone.utc))"
     },
     "execution_count": 7,
     "metadata": {},
     "output_type": "execute_result"
    }
   ],
   "source": [
    "user.first_name = 'NEW'\n",
    "user"
   ],
   "metadata": {
    "collapsed": false,
    "pycharm": {
     "name": "#%%\n"
    }
   }
  },
  {
   "cell_type": "code",
   "execution_count": 8,
   "outputs": [
    {
     "data": {
      "text/plain": "User(is_enabled=True, id='119', username='evgeniy.pokidov@quantori.com', email='evgeniy.pokidov@quantori.com', alias=None, first_name='Evgeniy', last_name='Pokidov', country='USA', organization='quantori', created_at=datetime.datetime(2022, 1, 24, 13, 25, 24, 180000, tzinfo=datetime.timezone.utc), last_login_at=datetime.datetime(2022, 6, 24, 13, 15, 28, 657000, tzinfo=datetime.timezone.utc))"
     },
     "execution_count": 8,
     "metadata": {},
     "output_type": "execute_result"
    }
   ],
   "source": [
    "UserStore.refresh(user)\n",
    "user"
   ],
   "metadata": {
    "collapsed": false,
    "pycharm": {
     "name": "#%%\n"
    }
   }
  },
  {
   "cell_type": "code",
   "execution_count": 11,
   "outputs": [],
   "source": [
    "from signals_notebook.entities import User\n",
    "\n",
    "users = UserStore.get_list()\n",
    "for user in users:\n",
    "    assert isinstance(user, User)"
   ],
   "metadata": {
    "collapsed": false,
    "pycharm": {
     "name": "#%%\n"
    }
   }
  },
  {
   "cell_type": "markdown",
   "source": [],
   "metadata": {
    "collapsed": false,
    "pycharm": {
     "name": "#%% md\n"
    }
   }
  },
  {
   "cell_type": "code",
   "execution_count": null,
   "outputs": [],
   "source": [],
   "metadata": {
    "collapsed": false,
    "pycharm": {
     "name": "#%%\n"
    }
   }
  }
 ],
 "metadata": {
  "kernelspec": {
   "display_name": "Python 3",
   "language": "python",
   "name": "python3"
  },
  "language_info": {
   "codemirror_mode": {
    "name": "ipython",
    "version": 2
   },
   "file_extension": ".py",
   "mimetype": "text/x-python",
   "name": "python",
   "nbconvert_exporter": "python",
   "pygments_lexer": "ipython2",
   "version": "2.7.6"
  }
 },
 "nbformat": 4,
 "nbformat_minor": 0
}
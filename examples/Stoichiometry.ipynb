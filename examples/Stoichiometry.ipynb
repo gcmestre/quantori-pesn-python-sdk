{
 "cells": [
  {
   "cell_type": "code",
   "execution_count": 1,
   "outputs": [],
   "source": [
    "%load_ext dotenv\n",
    "%dotenv\n",
    "import os\n",
    "\n",
    "SN_API_HOST = os.getenv('SN_API_HOST')\n",
    "SN_API_KEY = os.getenv('SN_API_KEY')"
   ],
   "metadata": {
    "collapsed": false,
    "pycharm": {
     "name": "#%%\n"
    }
   }
  },
  {
   "cell_type": "code",
   "execution_count": 2,
   "metadata": {
    "pycharm": {
     "name": "#%%\n"
    }
   },
   "outputs": [
    {
     "data": {
      "text/plain": "<signals_notebook.api.SignalsNotebookApi at 0x1df492279d0>"
     },
     "execution_count": 2,
     "metadata": {},
     "output_type": "execute_result"
    }
   ],
   "source": [
    "from signals_notebook.api import SignalsNotebookApi\n",
    "SignalsNotebookApi.init(SN_API_HOST, SN_API_KEY)"
   ]
  },
  {
   "cell_type": "code",
   "execution_count": 3,
   "metadata": {
    "pycharm": {
     "name": "#%%\n"
    }
   },
   "outputs": [],
   "source": [
    "from signals_notebook.entities.entity_store import EntityStore\n",
    "chemical_drawing = EntityStore.get('chemicalDrawing:2fc7a20f-e74c-4142-b4fa-cfa2fab41c58')"
   ]
  },
  {
   "cell_type": "code",
   "execution_count": 6,
   "metadata": {
    "pycharm": {
     "name": "#%%\n"
    }
   },
   "outputs": [
    {
     "data": {
      "text/plain": "Reactants(__root__=[Reactant(row_id='10', rxnid=Cell(value='I', display='', units=None), name=Cell(value='HCl', display='', units=None), cas=Cell(value='7647-01-0', display='', units=None), formula=Cell(value='ClH', display='', units=None), mf=Cell(value=Decimal('36.46'), display='36.46 g/mol', units='g/mol'), mw=Cell(value=Decimal('36.46'), display='36.46 g/mol', units='g/mol'), em=Cell(value=Decimal('35.97668'), display='35.97668', units=None), limit=Cell(value=True, display='', units=None), eq=Cell(value=True, display='1', units=None), sm=None, moles=None, loading=None, molarity=None, volume=None, density=Cell(value=Decimal('1.49'), display='1.490 g/ml', units='g/mL'), wt=None, supplier=None, lot=None, iupac_name=Cell(value='hydrogen chloride', display='', units=None), barcode=None, material_id=None, container_id=None, inchi='InChI=1S/ClH/h1H', hash='da873297923efb8e6452ccf77bc0701b6add1e9507b261004cb50ba2f8fd2cda'), Reactant(row_id='1', rxnid=Cell(value='II', display='', units=None), name=Cell(value='NaOH', display='', units=None), cas=Cell(value='1310-73-2', display='', units=None), formula=Cell(value='HNaO', display='', units=None), mf=Cell(value=Decimal('40.0'), display='40 g/mol', units='g/mol'), mw=Cell(value=Decimal('40.0'), display='40.00 g/mol', units='g/mol'), em=Cell(value=Decimal('39.99251'), display='39.99251', units=None), limit=None, eq=Cell(value=True, display='1', units=None), sm=None, moles=None, loading=None, molarity=None, volume=None, density=None, wt=None, supplier=None, lot=None, iupac_name=Cell(value='sodium hydroxide', display='', units=None), barcode=None, material_id=None, container_id=None, inchi='InChI=1S/Na.H2O/h;1H2/q+1;/p-1', hash='eeffcce664ef646a8b1c42f8f665a207d0c096b0e03ad0ff2978fa5411b5cfdd')])"
     },
     "execution_count": 6,
     "metadata": {},
     "output_type": "execute_result"
    }
   ],
   "source": [
    "chemical_drawing.stoichiometry.reactants"
   ]
  },
  {
   "cell_type": "code",
   "execution_count": 8,
   "metadata": {
    "pycharm": {
     "name": "#%%\n"
    }
   },
   "outputs": [
    {
     "data": {
      "text/plain": "Products(__root__=[Product(row_id='19', rxnid=Cell(value='III', display='', units=None), product_id=Cell(value='P1', display='', units=None), name=Cell(value='H2O', display='', units=None), formula=Cell(value='H<sub>2</sub>O', display='', units=None), mf=Cell(value=Decimal('18.02'), display='18.02 g/mol', units='g/mol'), mw=Cell(value=Decimal('18.02'), display='18.02 g/mol', units='g/mol'), em=Cell(value=Decimal('18.01056'), display='18.01056', units=None), theo_mass=None, actual_mass=None, purity=None, density=Cell(value=True, display='1.000 g/ml', units='g/mL'), yield_=None, theo_mol=None, actual_mol=None, conversion=None, iupac_name=Cell(value='water', display='', units=None), barcode=None, material_id=None, container_id=None, inchi='InChI=1S/H2O/h1H2', hash='576635f2354d849d2aa1354b734cb232e7847b32dcaad66c92bbcf40717281ba'), Product(row_id='54', rxnid=Cell(value='IV', display='', units=None), product_id=Cell(value='P2', display='', units=None), name=Cell(value='sodium chloride', display='', units=None), formula=Cell(value='ClNa', display='', units=None), mf=Cell(value=Decimal('58.44'), display='58.44 g/mol', units='g/mol'), mw=Cell(value=Decimal('58.44'), display='58.44 g/mol', units='g/mol'), em=Cell(value=Decimal('57.95862'), display='57.95862', units=None), theo_mass=None, actual_mass=None, purity=None, density=None, yield_=None, theo_mol=None, actual_mol=None, conversion=None, iupac_name=Cell(value='sodium chloride', display='', units=None), barcode=None, material_id=None, container_id=None, inchi='InChI=1S/ClH.Na/h1H;/q;+1/p-1', hash='7648352f4554de83c3e515ea2cdc6116a1c1ee5ffd5f01f93382fa997a6b30e7')])"
     },
     "execution_count": 8,
     "metadata": {},
     "output_type": "execute_result"
    }
   ],
   "source": [
    "chemical_drawing.stoichiometry.products"
   ]
  },
  {
   "cell_type": "code",
   "execution_count": 9,
   "metadata": {
    "pycharm": {
     "name": "#%%\n"
    }
   },
   "outputs": [
    {
     "data": {
      "text/plain": "Solvents(__root__=[Solvent(row_id=UUID('5a78ff52-4dd5-4ce2-9b84-78a4da0199d4'), solvent=Cell(value='1,4-Dioxane', display='', units=None), ratio=Cell(value=True, display='1', units=None), volume=None)])"
     },
     "execution_count": 9,
     "metadata": {},
     "output_type": "execute_result"
    }
   ],
   "source": [
    "chemical_drawing.stoichiometry.solvents"
   ]
  },
  {
   "cell_type": "code",
   "execution_count": 10,
   "metadata": {
    "pycharm": {
     "name": "#%%\n"
    }
   },
   "outputs": [
    {
     "data": {
      "text/plain": "Conditions(__root__=[Condition(row_id=UUID('ca785cab-2f92-42f1-a1d7-5645c1d02ccc'), pressure=Cell(value=True, display='1 atm', units='atm'), temperature=Cell(value=Decimal('100.0'), display='100 °C', units='°C'), duration=Cell(value=Decimal('0.8333333333333334'), display='50 s', units='min'))])"
     },
     "execution_count": 10,
     "metadata": {},
     "output_type": "execute_result"
    }
   ],
   "source": [
    "chemical_drawing.stoichiometry.conditions"
   ]
  },
  {
   "cell_type": "code",
   "execution_count": 11,
   "metadata": {
    "pycharm": {
     "name": "#%%\n"
    }
   },
   "outputs": [
    {
     "data": {
      "text/plain": "'HCl'"
     },
     "execution_count": 11,
     "metadata": {},
     "output_type": "execute_result"
    }
   ],
   "source": [
    "chemical_drawing.stoichiometry.reactants[0].name.value"
   ]
  },
  {
   "cell_type": "code",
   "execution_count": 12,
   "metadata": {
    "pycharm": {
     "name": "#%%\n"
    }
   },
   "outputs": [
    {
     "data": {
      "text/plain": "Decimal('36.46')"
     },
     "execution_count": 12,
     "metadata": {},
     "output_type": "execute_result"
    }
   ],
   "source": [
    "chemical_drawing.stoichiometry.reactants[0].mf.value"
   ]
  },
  {
   "cell_type": "code",
   "execution_count": 13,
   "metadata": {
    "pycharm": {
     "name": "#%%\n"
    }
   },
   "outputs": [
    {
     "data": {
      "text/plain": "'g/mol'"
     },
     "execution_count": 13,
     "metadata": {},
     "output_type": "execute_result"
    }
   ],
   "source": [
    "chemical_drawing.stoichiometry.reactants[0].mf.units"
   ]
  },
  {
   "cell_type": "code",
   "execution_count": 14,
   "metadata": {
    "pycharm": {
     "name": "#%%\n"
    }
   },
   "outputs": [
    {
     "data": {
      "text/plain": "'36.46 g/mol'"
     },
     "execution_count": 14,
     "metadata": {},
     "output_type": "execute_result"
    }
   ],
   "source": [
    "chemical_drawing.stoichiometry.reactants[0].mf.display"
   ]
  },
  {
   "cell_type": "code",
   "execution_count": 15,
   "metadata": {
    "pycharm": {
     "name": "#%%\n"
    }
   },
   "outputs": [
    {
     "data": {
      "text/plain": "Reactant(row_id='10', rxnid=Cell(value='I', display='', units=None), name=Cell(value='HCl', display='', units=None), cas=Cell(value='7647-01-0', display='', units=None), formula=Cell(value='ClH', display='', units=None), mf=Cell(value=Decimal('36.46'), display='36.46 g/mol', units='g/mol'), mw=Cell(value=Decimal('36.46'), display='36.46 g/mol', units='g/mol'), em=Cell(value=Decimal('35.97668'), display='35.97668', units=None), limit=Cell(value=True, display='', units=None), eq=Cell(value=True, display='1', units=None), sm=None, moles=None, loading=None, molarity=None, volume=None, density=Cell(value=Decimal('1.49'), display='1.490 g/ml', units='g/mL'), wt=None, supplier=None, lot=None, iupac_name=Cell(value='hydrogen chloride', display='', units=None), barcode=None, material_id=None, container_id=None, inchi='InChI=1S/ClH/h1H', hash='da873297923efb8e6452ccf77bc0701b6add1e9507b261004cb50ba2f8fd2cda')"
     },
     "execution_count": 15,
     "metadata": {},
     "output_type": "execute_result"
    }
   ],
   "source": [
    "chemical_drawing.stoichiometry.reactants['10']"
   ]
  },
  {
   "cell_type": "code",
   "execution_count": 18,
   "metadata": {
    "pycharm": {
     "name": "#%%\n"
    }
   },
   "outputs": [
    {
     "data": {
      "text/plain": "Solvent(row_id=UUID('5a78ff52-4dd5-4ce2-9b84-78a4da0199d4'), solvent=Cell(value='1,4-Dioxane', display='', units=None), ratio=Cell(value=True, display='1', units=None), volume=None)"
     },
     "execution_count": 18,
     "metadata": {},
     "output_type": "execute_result"
    }
   ],
   "source": [
    "chemical_drawing.stoichiometry.solvents['5a78ff52-4dd5-4ce2-9b84-78a4da0199d4']"
   ]
  },
  {
   "cell_type": "code",
   "execution_count": 21,
   "metadata": {
    "pycharm": {
     "name": "#%%\n"
    }
   },
   "outputs": [
    {
     "data": {
      "text/plain": "<IPython.core.display.SVG object>",
      "image/svg+xml": "<svg xmlns=\"http://www.w3.org/2000/svg\" xmlns:xlink=\"http://www.w3.org/1999/xlink\" width=\"21px\" height=\"14px\" viewBox=\"0 0 21 14\" style=\"background-color: #ffffffff\" version=\"1.1\">\n<text x=\"0\" y=\"0\" stroke=\"none\" fill=\"#000000\" transform=\"matrix(0.05 0 0 0.05 2.20999 11.01)\" font-style=\"normal\" font-weight=\"normal\" font-size=\"200px\" font-family=\"Arial\">\nHCl</text>\n</svg>"
     },
     "execution_count": 21,
     "metadata": {},
     "output_type": "execute_result"
    }
   ],
   "source": [
    "from IPython.display import SVG\n",
    "from signals_notebook.entities import ChemicalDrawingFormat\n",
    "\n",
    "svg_file = chemical_drawing.stoichiometry.fetch_structure(row_id='10', format=ChemicalDrawingFormat.SVG)\n",
    "SVG(data=svg_file.content)"
   ]
  },
  {
   "cell_type": "code",
   "execution_count": 23,
   "metadata": {
    "pycharm": {
     "name": "#%%\n"
    }
   },
   "outputs": [
    {
     "name": "stdout",
     "output_type": "stream",
     "text": [
      "b''\n"
     ]
    }
   ],
   "source": [
    "# Structure available only for reactants and products\n",
    "svg_file = chemical_drawing.stoichiometry.fetch_structure(\n",
    "    row_id='5a78ff52-4dd5-4ce2-9b84-78a4da0199d4', format=ChemicalDrawingFormat.SVG\n",
    ")\n",
    "print(svg_file.content)"
   ]
  },
  {
   "cell_type": "code",
   "execution_count": 24,
   "metadata": {
    "pycharm": {
     "name": "#%%\n"
    }
   },
   "outputs": [],
   "source": [
    "experiment = EntityStore.get('experiment:f7fb12b2-1180-4fa0-9bcd-ccc2f7ec0e8f')"
   ]
  },
  {
   "cell_type": "code",
   "execution_count": 28,
   "metadata": {
    "pycharm": {
     "name": "#%%\n"
    }
   },
   "outputs": [
    {
     "data": {
      "text/plain": "Reactants(__root__=[Reactant(row_id='10', rxnid=Cell(value='I', display='', units=None), name=Cell(value='HCl', display='', units=None), cas=Cell(value='7647-01-0', display='', units=None), formula=Cell(value='ClH', display='', units=None), mf=Cell(value=Decimal('36.46'), display='36.46 g/mol', units='g/mol'), mw=Cell(value=Decimal('36.46'), display='36.46 g/mol', units='g/mol'), em=Cell(value=Decimal('35.97668'), display='35.97668', units=None), limit=Cell(value=True, display='', units=None), eq=Cell(value=True, display='1', units=None), sm=None, moles=None, loading=None, molarity=None, volume=None, density=Cell(value=Decimal('1.49'), display='1.490 g/ml', units='g/mL'), wt=None, supplier=None, lot=None, iupac_name=Cell(value='hydrogen chloride', display='', units=None), barcode=None, material_id=None, container_id=None, inchi='InChI=1S/ClH/h1H', hash='da873297923efb8e6452ccf77bc0701b6add1e9507b261004cb50ba2f8fd2cda'), Reactant(row_id='1', rxnid=Cell(value='II', display='', units=None), name=Cell(value='NaOH', display='', units=None), cas=Cell(value='1310-73-2', display='', units=None), formula=Cell(value='HNaO', display='', units=None), mf=Cell(value=Decimal('40.0'), display='40 g/mol', units='g/mol'), mw=Cell(value=Decimal('40.0'), display='40.00 g/mol', units='g/mol'), em=Cell(value=Decimal('39.99251'), display='39.99251', units=None), limit=None, eq=Cell(value=True, display='1', units=None), sm=None, moles=None, loading=None, molarity=None, volume=None, density=None, wt=None, supplier=None, lot=None, iupac_name=Cell(value='sodium hydroxide', display='', units=None), barcode=None, material_id=None, container_id=None, inchi='InChI=1S/Na.H2O/h;1H2/q+1;/p-1', hash='eeffcce664ef646a8b1c42f8f665a207d0c096b0e03ad0ff2978fa5411b5cfdd')])"
     },
     "execution_count": 28,
     "metadata": {},
     "output_type": "execute_result"
    }
   ],
   "source": [
    "stoichiometry_list = experiment.stoichiometry\n",
    "stoichiometry_list[0].reactants"
   ]
  }
 ],
 "metadata": {
  "kernelspec": {
   "display_name": "Python 3 (ipykernel)",
   "language": "python",
   "name": "python3"
  },
  "language_info": {
   "codemirror_mode": {
    "name": "ipython",
    "version": 3
   },
   "file_extension": ".py",
   "mimetype": "text/x-python",
   "name": "python",
   "nbconvert_exporter": "python",
   "pygments_lexer": "ipython3",
   "version": "3.9.12"
  }
 },
 "nbformat": 4,
 "nbformat_minor": 1
}
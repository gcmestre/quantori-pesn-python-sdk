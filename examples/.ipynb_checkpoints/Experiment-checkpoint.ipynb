{
 "cells": [
  {
   "cell_type": "code",
   "execution_count": 65,
   "metadata": {
    "pycharm": {
     "name": "#%%\n"
    }
   },
   "outputs": [
    {
     "name": "stdout",
     "output_type": "stream",
     "text": [
      "The dotenv extension is already loaded. To reload it, use:\n",
      "  %reload_ext dotenv\n"
     ]
    }
   ],
   "source": [
    "%load_ext dotenv\n",
    "%dotenv\n",
    "import os\n",
    "\n",
    "SN_API_HOST = os.getenv('SN_API_HOST')\n",
    "SN_API_KEY = os.getenv('SN_API_KEY')"
   ]
  },
  {
   "cell_type": "code",
   "execution_count": 66,
   "metadata": {
    "pycharm": {
     "name": "#%%\n"
    }
   },
   "outputs": [
    {
     "data": {
      "text/plain": [
       "<signals_notebook.api.SignalsNotebookApi at 0x1dbb00c8310>"
      ]
     },
     "execution_count": 66,
     "metadata": {},
     "output_type": "execute_result"
    }
   ],
   "source": [
    "from signals_notebook.api import SignalsNotebookApi\n",
    "\n",
    "SignalsNotebookApi.init(SN_API_HOST, SN_API_KEY)"
   ]
  },
  {
   "cell_type": "code",
   "execution_count": null,
   "metadata": {
    "pycharm": {
     "name": "#%%\n"
    }
   },
   "outputs": [],
   "source": [
    "from signals_notebook.entities import EntityStore\n",
    "\n",
    "experiment = EntityStore.get(\"experiment:f7fb12b2-1180-4fa0-9bcd-ccc2f7ec0e8f\")"
   ]
  },
  {
   "cell_type": "code",
   "execution_count": 62,
   "metadata": {
    "pycharm": {
     "name": "#%%\n"
    }
   },
   "outputs": [
    {
     "name": "stderr",
     "output_type": "stream",
     "text": [
      "C:\\Users\\d.cherednichenko\\AppData\\Local\\Temp\\ipykernel_11052\\4164847963.py:1: DeprecationWarning: Importing display from IPython.core.display is deprecated since IPython 7.14, please import from IPython display\n",
      "  from IPython.core.display import display, HTML\n"
     ]
    },
    {
     "data": {
      "text/html": [
       "<!DOCTYPE html>\n",
       "<html lang=\"en\">\n",
       "<head>\n",
       "    <meta charset=\"utf-8\">\n",
       "    <meta name=\"viewport\" content=\"width=device-width, initial-scale=1.0\">\n",
       "    <link rel=\"icon\" href=\"data:;base64,iVBORw0KGgo=\">\n",
       "    <title>self.name</title>\n",
       "    <style>\n",
       "        h1 {\n",
       "            margin-top: 1.7rem;\n",
       "            margin-bottom: 0.3rem;\n",
       "            font-size: 1.6rem;\n",
       "        }\n",
       "\n",
       "        h2 {\n",
       "            margin-top: 1.2rem;\n",
       "            margin-bottom: 0.3rem;\n",
       "            font-size: 1.2rem;\n",
       "        }\n",
       "\n",
       "        table.props th, table.props td {\n",
       "            text-align: left;\n",
       "            padding: 3px;\n",
       "        }\n",
       "\n",
       "        table.dataframe {\n",
       "            border-collapse: collapse;\n",
       "            min-width: 600px;\n",
       "        }\n",
       "\n",
       "        table.dataframe td, table.dataframe th {\n",
       "            padding: 0.4rem 0.8rem;\n",
       "            text-align: left;\n",
       "            border: 1px solid #666;\n",
       "            font-size: 0.7rem;\n",
       "        }\n",
       "    </style>\n",
       "</head>\n",
       "<body>\n",
       "<table class=\"props\">\n",
       "   <tr>\n",
       "       <th>Experiment name:</th>\n",
       "       <td>self.name</td>\n",
       "   </tr>\n",
       "   <tr>\n",
       "       <th>Description:</th>\n",
       "       <td>Created by Eugene Pokidov</td>\n",
       "   </tr>\n",
       "   <tr>\n",
       "       <th>State:</th>\n",
       "       <td>ExperimentState.OPEN</td>\n",
       "   </tr>\n",
       "</table>\n",
       "\n",
       "<!---->\n",
       "\n",
       "\n",
       "\n",
       "</body>\n",
       "</html>"
      ],
      "text/plain": [
       "<IPython.core.display.HTML object>"
      ]
     },
     "metadata": {},
     "output_type": "display_data"
    }
   ],
   "source": [
    "from IPython.core.display import display, HTML\n",
    "\n",
    "experiment_html = experiment.get_html()\n",
    "display(HTML(data=experiment_html))"
   ]
  },
  {
   "cell_type": "code",
   "execution_count": 63,
   "metadata": {
    "pycharm": {
     "name": "#%%\n"
    }
   },
   "outputs": [
    {
     "name": "stderr",
     "output_type": "stream",
     "text": [
      "UsageError: Cell magic `%%jinja2` not found.\n"
     ]
    }
   ],
   "source": [
    "experiment.get_html()"
   ]
  },
  {
   "cell_type": "code",
   "execution_count": 61,
   "metadata": {
    "pycharm": {
     "name": "#%%\n"
    }
   },
   "outputs": [
    {
     "data": {
      "text/plain": [
       "[Table(type=<EntityType.GRID: 'grid'>, eid='grid:9b128b10-8eab-458d-8048-24d5153c6de7', digest='53746220', name='All Table Column Types (SK)', description='', created_at=datetime.datetime(2022, 2, 28, 12, 55, 21, 267000, tzinfo=datetime.timezone.utc), edited_at=datetime.datetime(2022, 5, 12, 13, 18, 30, 574000, tzinfo=datetime.timezone.utc)),\n",
       " Text(type=<EntityType.TEXT: 'text'>, eid='text:673c33e3-dbef-4ec8-9c83-dc96202d8b09', digest='58190111', name='Andrey-1.txt', description='', created_at=datetime.datetime(2022, 5, 17, 7, 2, 27, 413000, tzinfo=datetime.timezone.utc), edited_at=datetime.datetime(2022, 5, 17, 7, 3, 34, 101000, tzinfo=datetime.timezone.utc)),\n",
       " Text(type=<EntityType.TEXT: 'text'>, eid='text:120c3e96-b35e-4043-b394-1008d6d26c94', digest='44481776', name='Andrey.txt', description='', created_at=datetime.datetime(2022, 5, 16, 14, 32, 59, 928000, tzinfo=datetime.timezone.utc), edited_at=datetime.datetime(2022, 5, 16, 14, 33, 1, 993000, tzinfo=datetime.timezone.utc)),\n",
       " Text(type=<EntityType.TEXT: 'text'>, eid='text:2e8b503e-714a-412d-bc60-49f8fb41539b', digest='11414164', name='Auto', description='', created_at=datetime.datetime(2022, 2, 13, 9, 59, 52, 449000, tzinfo=datetime.timezone.utc), edited_at=datetime.datetime(2022, 2, 13, 10, 10, 21, 409000, tzinfo=datetime.timezone.utc)),\n",
       " Text(type=<EntityType.TEXT: 'text'>, eid='text:e38a2ee6-1129-4c8b-86d8-25f425135fc6', digest='63331037', name='Auto-1.txt', description='', created_at=datetime.datetime(2022, 5, 10, 16, 2, 11, 544000, tzinfo=datetime.timezone.utc), edited_at=datetime.datetime(2022, 5, 10, 16, 2, 17, 788000, tzinfo=datetime.timezone.utc)),\n",
       " Text(type=<EntityType.TEXT: 'text'>, eid='text:0bb0b613-d587-4f20-91a2-cf1e42912fc6', digest='16706517', name='Auto-2.txt', description='', created_at=datetime.datetime(2022, 5, 16, 12, 51, 45, 163000, tzinfo=datetime.timezone.utc), edited_at=datetime.datetime(2022, 5, 16, 13, 35, 57, 68000, tzinfo=datetime.timezone.utc)),\n",
       " Text(type=<EntityType.TEXT: 'text'>, eid='text:3924c0d8-9096-4e5b-9e37-e67612f16923', digest='23492534', name='Auto-3.txt', description='', created_at=datetime.datetime(2022, 5, 16, 14, 2, 47, 378000, tzinfo=datetime.timezone.utc), edited_at=datetime.datetime(2022, 5, 16, 14, 2, 52, 145000, tzinfo=datetime.timezone.utc)),\n",
       " Text(type=<EntityType.TEXT: 'text'>, eid='text:6278d8b9-e7a3-4246-8443-3ca1f059d41d', digest='65528187', name='Auto.txt', description='', created_at=datetime.datetime(2022, 5, 10, 16, 1, 51, 207000, tzinfo=datetime.timezone.utc), edited_at=datetime.datetime(2022, 5, 10, 16, 1, 54, 767000, tzinfo=datetime.timezone.utc)),\n",
       " Table(type=<EntityType.GRID: 'grid'>, eid='grid:f964c4af-49e1-4d4f-a53f-ed539b881fbf', digest='46212054', name='Bioidentity test', description='', created_at=datetime.datetime(2022, 2, 17, 11, 32, 11, 587000, tzinfo=datetime.timezone.utc), edited_at=datetime.datetime(2022, 2, 28, 12, 32, 12, 987000, tzinfo=datetime.timezone.utc)),\n",
       " ChemicalDrawing(type=<EntityType.CHEMICAL_DRAWING: 'chemicalDrawing'>, eid='chemicalDrawing:2fc7a20f-e74c-4142-b4fa-cfa2fab41c58', digest='60887038', name='ChemDraw Document', description='', created_at=datetime.datetime(2022, 2, 13, 13, 19, 50, 766000, tzinfo=datetime.timezone.utc), edited_at=datetime.datetime(2022, 5, 10, 13, 34, 43, 30000, tzinfo=datetime.timezone.utc)),\n",
       " Entity(type='viewonly', eid='viewonly:18f6ceb6-89b5-468c-bf11-27a8c48138ea', digest='57084332', name='Document.docx', description='', created_at=datetime.datetime(2022, 5, 10, 15, 38, 52, 852000, tzinfo=datetime.timezone.utc), edited_at=datetime.datetime(2022, 5, 10, 15, 38, 52, 852000, tzinfo=datetime.timezone.utc)),\n",
       " Entity(type='materialsTable', eid='materialsTable:593d69a2-f3b3-4d3a-ab55-5e4e4869cfe5', digest='24610741', name='Materials Table', description='', created_at=datetime.datetime(2022, 4, 1, 9, 24, 3, 192000, tzinfo=datetime.timezone.utc), edited_at=datetime.datetime(2022, 4, 1, 9, 34, 48, 807000, tzinfo=datetime.timezone.utc)),\n",
       " Text(type=<EntityType.TEXT: 'text'>, eid='text:8e1dce4b-f798-4885-95b6-72edb547b939', digest='25405595', name='My text.txt', description='', created_at=datetime.datetime(2022, 3, 10, 17, 21, 44, 992000, tzinfo=datetime.timezone.utc), edited_at=datetime.datetime(2022, 3, 10, 17, 21, 46, 807000, tzinfo=datetime.timezone.utc)),\n",
       " Entity(type='plateContainer', eid='plateContainer:814da316-3181-4e92-8c62-1357d51def73', digest='18053614', name='Plates', description='', created_at=datetime.datetime(2022, 5, 5, 7, 8, 11, 440000, tzinfo=datetime.timezone.utc), edited_at=datetime.datetime(2022, 5, 5, 7, 8, 11, 440000, tzinfo=datetime.timezone.utc)),\n",
       " Text(type=<EntityType.TEXT: 'text'>, eid='text:150d47cc-b724-4bc8-aec5-276f9537d4b3', digest='83482819', name='Test', description='', created_at=datetime.datetime(2022, 2, 10, 14, 16, 28, 254000, tzinfo=datetime.timezone.utc), edited_at=datetime.datetime(2022, 3, 10, 14, 15, 11, 805000, tzinfo=datetime.timezone.utc)),\n",
       " ChemicalDrawing(type=<EntityType.CHEMICAL_DRAWING: 'chemicalDrawing'>, eid='chemicalDrawing:8b55beb9-c6f6-4f03-a8ba-65353a0178eb', digest='39856945', name='Test chemDraw creation.cdxml', description='', created_at=datetime.datetime(2022, 2, 15, 13, 25, 30, 665000, tzinfo=datetime.timezone.utc), edited_at=datetime.datetime(2022, 2, 15, 13, 25, 45, 189000, tzinfo=datetime.timezone.utc)),\n",
       " ChemicalDrawing(type=<EntityType.CHEMICAL_DRAWING: 'chemicalDrawing'>, eid='chemicalDrawing:10cb63cc-a922-4dfc-8ce4-75f54b1d2753', digest='71685354', name='Test chemDraw creation.mol', description='', created_at=datetime.datetime(2022, 2, 15, 13, 25, 31, 567000, tzinfo=datetime.timezone.utc), edited_at=datetime.datetime(2022, 2, 15, 13, 25, 34, 680000, tzinfo=datetime.timezone.utc)),\n",
       " Entity(type='uploadedResource', eid='uploadedResource:178c8f9f-1918-40b6-9199-a43806656de3', digest='98726441', name='Test chemDraw creation.smi', description='', created_at=datetime.datetime(2022, 2, 15, 13, 25, 32, 199000, tzinfo=datetime.timezone.utc), edited_at=datetime.datetime(2022, 2, 15, 13, 25, 34, 707000, tzinfo=datetime.timezone.utc)),\n",
       " Entity(type='uploadedResource', eid='uploadedResource:7b88ff58-5759-4a05-b10c-d797bfadc08f', digest='89425595', name='Test chemDraw creation.svg', description='', created_at=datetime.datetime(2022, 2, 15, 13, 25, 37, 103000, tzinfo=datetime.timezone.utc), edited_at=datetime.datetime(2022, 2, 15, 13, 25, 44, 994000, tzinfo=datetime.timezone.utc)),\n",
       " Text(type=<EntityType.TEXT: 'text'>, eid='text:e92b8caf-f9ff-4461-a2df-a3b46f8f4f05', digest='17987838', name='Third', description='', created_at=datetime.datetime(2022, 5, 10, 16, 0, 42, 221000, tzinfo=datetime.timezone.utc), edited_at=datetime.datetime(2022, 5, 10, 16, 0, 47, 656000, tzinfo=datetime.timezone.utc))]"
      ]
     },
     "execution_count": 61,
     "metadata": {},
     "output_type": "execute_result"
    }
   ],
   "source": [
    "experiment.get_children()"
   ]
  },
  {
   "cell_type": "code",
   "execution_count": 64,
   "metadata": {
    "pycharm": {
     "name": "#%%\n"
    }
   },
   "outputs": [
    {
     "data": {
      "text/plain": [
       "[Stoichiometry(eid='chemicalDrawing:2fc7a20f-e74c-4142-b4fa-cfa2fab41c58', reactants=Reactants(__root__=[Reactant(row_id='10', rxnid=Cell(value='I', display='', units=None), name=Cell(value='HCl', display='', units=None), cas=Cell(value='7647-01-0', display='', units=None), formula=Cell(value='ClH', display='', units=None), mf=Cell(value=Decimal('36.46'), display='36.46 g/mol', units='g/mol'), mw=Cell(value=Decimal('36.46'), display='36.46 g/mol', units='g/mol'), em=Cell(value=Decimal('35.97668'), display='35.97668', units=None), limit=Cell(value=True, display='', units=None), eq=Cell(value=True, display='1', units=None), sm=None, moles=None, loading=None, molarity=None, volume=None, density=Cell(value=Decimal('1.49'), display='1.490 g/ml', units='g/mL'), wt=None, supplier=None, lot=None, iupac_name=Cell(value='hydrogen chloride', display='', units=None), barcode=None, material_id=None, container_id=None, inchi='InChI=1S/ClH/h1H', hash='da873297923efb8e6452ccf77bc0701b6add1e9507b261004cb50ba2f8fd2cda'), Reactant(row_id='1', rxnid=Cell(value='II', display='', units=None), name=Cell(value='NaOH', display='', units=None), cas=Cell(value='1310-73-2', display='', units=None), formula=Cell(value='HNaO', display='', units=None), mf=Cell(value=Decimal('40.0'), display='40 g/mol', units='g/mol'), mw=Cell(value=Decimal('40.0'), display='40.00 g/mol', units='g/mol'), em=Cell(value=Decimal('39.99251'), display='39.99251', units=None), limit=None, eq=Cell(value=True, display='1', units=None), sm=None, moles=None, loading=None, molarity=None, volume=None, density=None, wt=None, supplier=None, lot=None, iupac_name=Cell(value='sodium hydroxide', display='', units=None), barcode=None, material_id=None, container_id=None, inchi='InChI=1S/Na.H2O/h;1H2/q+1;/p-1', hash='eeffcce664ef646a8b1c42f8f665a207d0c096b0e03ad0ff2978fa5411b5cfdd')]), products=Products(__root__=[Product(row_id='19', rxnid=Cell(value='III', display='', units=None), product_id=Cell(value='P1', display='', units=None), name=Cell(value='H2O', display='', units=None), formula=Cell(value='H<sub>2</sub>O', display='', units=None), mf=Cell(value=Decimal('18.02'), display='18.02 g/mol', units='g/mol'), mw=Cell(value=Decimal('18.02'), display='18.02 g/mol', units='g/mol'), em=Cell(value=Decimal('18.01056'), display='18.01056', units=None), theo_mass=None, actual_mass=None, purity=None, density=Cell(value=True, display='1.000 g/ml', units='g/mL'), yield_=None, theo_mol=None, actual_mol=None, conversion=None, iupac_name=Cell(value='water', display='', units=None), barcode=None, material_id=None, container_id=None, inchi='InChI=1S/H2O/h1H2', hash='576635f2354d849d2aa1354b734cb232e7847b32dcaad66c92bbcf40717281ba'), Product(row_id='54', rxnid=Cell(value='IV', display='', units=None), product_id=Cell(value='P2', display='', units=None), name=Cell(value='sodium chloride', display='', units=None), formula=Cell(value='ClNa', display='', units=None), mf=Cell(value=Decimal('58.44'), display='58.44 g/mol', units='g/mol'), mw=Cell(value=Decimal('58.44'), display='58.44 g/mol', units='g/mol'), em=Cell(value=Decimal('57.95862'), display='57.95862', units=None), theo_mass=None, actual_mass=None, purity=None, density=None, yield_=None, theo_mol=None, actual_mol=None, conversion=None, iupac_name=Cell(value='sodium chloride', display='', units=None), barcode=None, material_id=None, container_id=None, inchi='InChI=1S/ClH.Na/h1H;/q;+1/p-1', hash='7648352f4554de83c3e515ea2cdc6116a1c1ee5ffd5f01f93382fa997a6b30e7')]), solvents=Solvents(__root__=[Solvent(row_id=UUID('5a78ff52-4dd5-4ce2-9b84-78a4da0199d4'), solvent=Cell(value='1,4-Dioxane', display='', units=None), ratio=Cell(value=True, display='1', units=None), volume=None)]), conditions=Conditions(__root__=[Condition(row_id=UUID('ca785cab-2f92-42f1-a1d7-5645c1d02ccc'), pressure=Cell(value=True, display='1 atm', units='atm'), temperature=Cell(value=Decimal('100.0'), display='100 °C', units='°C'), duration=Cell(value=Decimal('0.8333333333333334'), display='50 s', units='min'))])),\n",
       " Stoichiometry(eid='chemicalDrawing:8b55beb9-c6f6-4f03-a8ba-65353a0178eb', reactants=Reactants(__root__=[Reactant(row_id='10', rxnid=Cell(value='I', display='', units=None), name=Cell(value='hydrogen chloride', display='', units=None), cas=None, formula=Cell(value='ClH', display='', units=None), mf=Cell(value=Decimal('36.46'), display='36.46 g/mol', units='g/mol'), mw=Cell(value=Decimal('36.46'), display='36.46 g/mol', units='g/mol'), em=Cell(value=Decimal('35.97668'), display='35.97668', units=None), limit=Cell(value=True, display='', units=None), eq=Cell(value=True, display='1', units=None), sm=None, moles=None, loading=None, molarity=None, volume=None, density=None, wt=None, supplier=None, lot=None, iupac_name=Cell(value='hydrogen chloride', display='', units=None), barcode=None, material_id=None, container_id=None, inchi='InChI=1S/ClH/h1H', hash='da873297923efb8e6452ccf77bc0701b6add1e9507b261004cb50ba2f8fd2cda'), Reactant(row_id='1', rxnid=Cell(value='II', display='', units=None), name=Cell(value='sodium hydroxide', display='', units=None), cas=None, formula=Cell(value='HNaO', display='', units=None), mf=Cell(value=Decimal('40.0'), display='40 g/mol', units='g/mol'), mw=Cell(value=Decimal('40.0'), display='40.00 g/mol', units='g/mol'), em=Cell(value=Decimal('39.99251'), display='39.99251', units=None), limit=None, eq=Cell(value=True, display='1', units=None), sm=None, moles=None, loading=None, molarity=None, volume=None, density=None, wt=None, supplier=None, lot=None, iupac_name=Cell(value='sodium hydroxide', display='', units=None), barcode=None, material_id=None, container_id=None, inchi='InChI=1S/Na.H2O/h;1H2/q+1;/p-1', hash='eeffcce664ef646a8b1c42f8f665a207d0c096b0e03ad0ff2978fa5411b5cfdd')]), products=Products(__root__=[Product(row_id='19', rxnid=Cell(value='III', display='', units=None), product_id=Cell(value='P1', display='', units=None), name=Cell(value='water', display='', units=None), formula=Cell(value='H<sub>2</sub>O', display='', units=None), mf=Cell(value=Decimal('18.02'), display='18.02 g/mol', units='g/mol'), mw=Cell(value=Decimal('18.02'), display='18.02 g/mol', units='g/mol'), em=Cell(value=Decimal('18.01056'), display='18.01056', units=None), theo_mass=None, actual_mass=None, purity=None, density=None, yield_=None, theo_mol=None, actual_mol=None, conversion=None, iupac_name=Cell(value='water', display='', units=None), barcode=None, material_id=None, container_id=None, inchi='InChI=1S/H2O/h1H2', hash='576635f2354d849d2aa1354b734cb232e7847b32dcaad66c92bbcf40717281ba'), Product(row_id='54', rxnid=Cell(value='IV', display='', units=None), product_id=Cell(value='P2', display='', units=None), name=Cell(value='sodium chloride', display='', units=None), formula=Cell(value='ClNa', display='', units=None), mf=Cell(value=Decimal('58.44'), display='58.44 g/mol', units='g/mol'), mw=Cell(value=Decimal('58.44'), display='58.44 g/mol', units='g/mol'), em=Cell(value=Decimal('57.95862'), display='57.95862', units=None), theo_mass=None, actual_mass=None, purity=None, density=None, yield_=None, theo_mol=None, actual_mol=None, conversion=None, iupac_name=Cell(value='sodium chloride', display='', units=None), barcode=None, material_id=None, container_id=None, inchi='InChI=1S/ClH.Na/h1H;/q;+1/p-1', hash='7648352f4554de83c3e515ea2cdc6116a1c1ee5ffd5f01f93382fa997a6b30e7')]), solvents=Solvents(__root__=[]), conditions=Conditions(__root__=[])),\n",
       " Stoichiometry(eid='chemicalDrawing:10cb63cc-a922-4dfc-8ce4-75f54b1d2753', reactants=Reactants(__root__=[]), products=Products(__root__=[]), solvents=Solvents(__root__=[]), conditions=Conditions(__root__=[]))]"
      ]
     },
     "execution_count": 64,
     "metadata": {},
     "output_type": "execute_result"
    }
   ],
   "source": [
    "experiment.stoichiometry"
   ]
  },
  {
   "cell_type": "code",
   "execution_count": 10,
   "metadata": {
    "pycharm": {
     "name": "#%%\n"
    }
   },
   "outputs": [],
   "source": [
    "from signals_notebook.entities import Experiment\n",
    "\n",
    "notebook = EntityStore.get(\"journal:111a8a0d-2772-47b0-b5b8-2e4faf04119e\")\n",
    "experiment = Experiment.create(\n",
    "    name='Example experiment created by SDK',\n",
    "    description='Delete if you see this in UI',\n",
    "    notebook=notebook\n",
    ")"
   ]
  },
  {
   "cell_type": "code",
   "execution_count": 11,
   "metadata": {
    "pycharm": {
     "name": "#%%\n"
    }
   },
   "outputs": [],
   "source": [
    "EntityStore.delete(experiment.eid)"
   ]
  },
  {
   "cell_type": "code",
   "execution_count": 11,
   "metadata": {
    "pycharm": {
     "name": "#%%\n"
    }
   },
   "outputs": [],
   "source": []
  },
  {
   "cell_type": "code",
   "execution_count": 12,
   "metadata": {
    "pycharm": {
     "name": "#%%\n"
    }
   },
   "outputs": [
    {
     "name": "stderr",
     "output_type": "stream",
     "text": [
      "C:\\Users\\d.cherednichenko\\AppData\\Local\\Temp\\ipykernel_14120\\4098154986.py:2: DeprecationWarning: Importing display from IPython.core.display is deprecated since IPython 7.14, please import from IPython display\n",
      "  from IPython.core.display import display, HTML\n"
     ]
    }
   ],
   "source": [
    "# experiment get html\n",
    "from IPython.core.display import display, HTML"
   ]
  },
  {
   "cell_type": "code",
   "execution_count": 13,
   "metadata": {
    "pycharm": {
     "name": "#%%\n"
    }
   },
   "outputs": [
    {
     "ename": "SignalsNotebookError",
     "evalue": "<SignalsNotebookError status=404 code=NotFound> title=The resource your required is not found. detail=>",
     "output_type": "error",
     "traceback": [
      "\u001b[1;31m---------------------------------------------------------------------------\u001b[0m",
      "\u001b[1;31mSignalsNotebookError\u001b[0m                      Traceback (most recent call last)",
      "Input \u001b[1;32mIn [13]\u001b[0m, in \u001b[0;36m<cell line: 1>\u001b[1;34m()\u001b[0m\n\u001b[1;32m----> 1\u001b[0m stoichiometry_html \u001b[38;5;241m=\u001b[39m \u001b[43mexperiment\u001b[49m\u001b[38;5;241;43m.\u001b[39;49m\u001b[43mstoichiometry\u001b[49m[\u001b[38;5;241m0\u001b[39m]\u001b[38;5;241m.\u001b[39mget_html()\n",
      "File \u001b[1;32m~\\AppData\\Local\\Programs\\Python\\Python39\\lib\\functools.py:969\u001b[0m, in \u001b[0;36mcached_property.__get__\u001b[1;34m(self, instance, owner)\u001b[0m\n\u001b[0;32m    967\u001b[0m val \u001b[38;5;241m=\u001b[39m cache\u001b[38;5;241m.\u001b[39mget(\u001b[38;5;28mself\u001b[39m\u001b[38;5;241m.\u001b[39mattrname, _NOT_FOUND)\n\u001b[0;32m    968\u001b[0m \u001b[38;5;28;01mif\u001b[39;00m val \u001b[38;5;129;01mis\u001b[39;00m _NOT_FOUND:\n\u001b[1;32m--> 969\u001b[0m     val \u001b[38;5;241m=\u001b[39m \u001b[38;5;28;43mself\u001b[39;49m\u001b[38;5;241;43m.\u001b[39;49m\u001b[43mfunc\u001b[49m\u001b[43m(\u001b[49m\u001b[43minstance\u001b[49m\u001b[43m)\u001b[49m\n\u001b[0;32m    970\u001b[0m     \u001b[38;5;28;01mtry\u001b[39;00m:\n\u001b[0;32m    971\u001b[0m         cache[\u001b[38;5;28mself\u001b[39m\u001b[38;5;241m.\u001b[39mattrname] \u001b[38;5;241m=\u001b[39m val\n",
      "File \u001b[1;32mC:\\coding\\pesn-python-sdk\\src\\signals_notebook\\entities\\experiment.py:88\u001b[0m, in \u001b[0;36mExperiment.stoichiometry\u001b[1;34m(self)\u001b[0m\n\u001b[0;32m     86\u001b[0m \u001b[38;5;129m@cached_property\u001b[39m\n\u001b[0;32m     87\u001b[0m \u001b[38;5;28;01mdef\u001b[39;00m \u001b[38;5;21mstoichiometry\u001b[39m(\u001b[38;5;28mself\u001b[39m) \u001b[38;5;241m-\u001b[39m\u001b[38;5;241m>\u001b[39m Union[Stoichiometry, \u001b[38;5;28mlist\u001b[39m[Stoichiometry]]:\n\u001b[1;32m---> 88\u001b[0m     \u001b[38;5;28;01mreturn\u001b[39;00m \u001b[43mStoichiometry\u001b[49m\u001b[38;5;241;43m.\u001b[39;49m\u001b[43mfetch_data\u001b[49m\u001b[43m(\u001b[49m\u001b[38;5;28;43mself\u001b[39;49m\u001b[38;5;241;43m.\u001b[39;49m\u001b[43meid\u001b[49m\u001b[43m)\u001b[49m\n",
      "File \u001b[1;32mC:\\coding\\pesn-python-sdk\\src\\signals_notebook\\entities\\stoichiometry\\stoichiometry.py:70\u001b[0m, in \u001b[0;36mStoichiometry.fetch_data\u001b[1;34m(cls, entity_eid)\u001b[0m\n\u001b[0;32m     67\u001b[0m api \u001b[38;5;241m=\u001b[39m SignalsNotebookApi\u001b[38;5;241m.\u001b[39mget_default_api()\n\u001b[0;32m     68\u001b[0m fields \u001b[38;5;241m=\u001b[39m \u001b[38;5;124m'\u001b[39m\u001b[38;5;124m, \u001b[39m\u001b[38;5;124m'\u001b[39m\u001b[38;5;241m.\u001b[39mjoin(DataGridKind)\n\u001b[1;32m---> 70\u001b[0m response \u001b[38;5;241m=\u001b[39m \u001b[43mapi\u001b[49m\u001b[38;5;241;43m.\u001b[39;49m\u001b[43mcall\u001b[49m\u001b[43m(\u001b[49m\n\u001b[0;32m     71\u001b[0m \u001b[43m    \u001b[49m\u001b[43mmethod\u001b[49m\u001b[38;5;241;43m=\u001b[39;49m\u001b[38;5;124;43m'\u001b[39;49m\u001b[38;5;124;43mGET\u001b[39;49m\u001b[38;5;124;43m'\u001b[39;49m\u001b[43m,\u001b[49m\n\u001b[0;32m     72\u001b[0m \u001b[43m    \u001b[49m\u001b[43mpath\u001b[49m\u001b[38;5;241;43m=\u001b[39;49m\u001b[43m(\u001b[49m\u001b[38;5;28;43mcls\u001b[39;49m\u001b[38;5;241;43m.\u001b[39;49m\u001b[43m_get_endpoint\u001b[49m\u001b[43m(\u001b[49m\u001b[43m)\u001b[49m\u001b[43m,\u001b[49m\u001b[43m \u001b[49m\u001b[43mentity_eid\u001b[49m\u001b[43m)\u001b[49m\u001b[43m,\u001b[49m\n\u001b[0;32m     73\u001b[0m \u001b[43m    \u001b[49m\u001b[43mparams\u001b[49m\u001b[38;5;241;43m=\u001b[39;49m\u001b[43m{\u001b[49m\u001b[38;5;124;43m'\u001b[39;49m\u001b[38;5;124;43mfields\u001b[39;49m\u001b[38;5;124;43m'\u001b[39;49m\u001b[43m:\u001b[49m\u001b[43m \u001b[49m\u001b[43mfields\u001b[49m\u001b[43m,\u001b[49m\u001b[43m \u001b[49m\u001b[38;5;124;43m'\u001b[39;49m\u001b[38;5;124;43mvalue\u001b[39;49m\u001b[38;5;124;43m'\u001b[39;49m\u001b[43m:\u001b[49m\u001b[43m \u001b[49m\u001b[38;5;124;43m'\u001b[39;49m\u001b[38;5;124;43mnormalized\u001b[39;49m\u001b[38;5;124;43m'\u001b[39;49m\u001b[43m}\u001b[49m\u001b[43m,\u001b[49m\n\u001b[0;32m     74\u001b[0m \u001b[43m\u001b[49m\u001b[43m)\u001b[49m\n\u001b[0;32m     76\u001b[0m result \u001b[38;5;241m=\u001b[39m StoichiometryDataResponse(\u001b[38;5;241m*\u001b[39m\u001b[38;5;241m*\u001b[39mresponse\u001b[38;5;241m.\u001b[39mjson())\n\u001b[0;32m     77\u001b[0m data \u001b[38;5;241m=\u001b[39m cast(ResponseData, result\u001b[38;5;241m.\u001b[39mdata)\n",
      "File \u001b[1;32mC:\\coding\\pesn-python-sdk\\src\\signals_notebook\\api.py:101\u001b[0m, in \u001b[0;36mSignalsNotebookApi.call\u001b[1;34m(self, method, path, params, data, json, headers)\u001b[0m\n\u001b[0;32m     93\u001b[0m     response \u001b[38;5;241m=\u001b[39m \u001b[38;5;28mself\u001b[39m\u001b[38;5;241m.\u001b[39m_session\u001b[38;5;241m.\u001b[39mrequest(\n\u001b[0;32m     94\u001b[0m         method\u001b[38;5;241m=\u001b[39mmethod,\n\u001b[0;32m     95\u001b[0m         url\u001b[38;5;241m=\u001b[39m\u001b[38;5;28mself\u001b[39m\u001b[38;5;241m.\u001b[39m_prepare_path(path),\n\u001b[0;32m     96\u001b[0m         params\u001b[38;5;241m=\u001b[39mparams,\n\u001b[0;32m     97\u001b[0m         headers\u001b[38;5;241m=\u001b[39mheaders,\n\u001b[0;32m     98\u001b[0m     )\n\u001b[0;32m    100\u001b[0m \u001b[38;5;28;01mif\u001b[39;00m \u001b[38;5;129;01mnot\u001b[39;00m response\u001b[38;5;241m.\u001b[39mok:\n\u001b[1;32m--> 101\u001b[0m     \u001b[38;5;28;01mraise\u001b[39;00m SignalsNotebookError(response)\n\u001b[0;32m    103\u001b[0m \u001b[38;5;28;01mreturn\u001b[39;00m response\n",
      "\u001b[1;31mSignalsNotebookError\u001b[0m: <SignalsNotebookError status=404 code=NotFound> title=The resource your required is not found. detail=>"
     ]
    }
   ],
   "source": [
    "stoichiometry_html = experiment.stoichiometry[0].get_html()"
   ]
  },
  {
   "cell_type": "code",
   "execution_count": 14,
   "metadata": {
    "pycharm": {
     "name": "#%%\n"
    }
   },
   "outputs": [],
   "source": [
    "# display(HTML(stoichiometry_html))"
   ]
  },
  {
   "cell_type": "code",
   "execution_count": 1,
   "metadata": {
    "pycharm": {
     "name": "#%%\n"
    }
   },
   "outputs": [
    {
     "ename": "NameError",
     "evalue": "name 'experiment' is not defined",
     "output_type": "error",
     "traceback": [
      "\u001b[1;31m---------------------------------------------------------------------------\u001b[0m",
      "\u001b[1;31mNameError\u001b[0m                                 Traceback (most recent call last)",
      "Input \u001b[1;32mIn [1]\u001b[0m, in \u001b[0;36m<cell line: 1>\u001b[1;34m()\u001b[0m\n\u001b[1;32m----> 1\u001b[0m experiment_html \u001b[38;5;241m=\u001b[39m \u001b[43mexperiment\u001b[49m\u001b[38;5;241m.\u001b[39mget_html()\n",
      "\u001b[1;31mNameError\u001b[0m: name 'experiment' is not defined"
     ]
    }
   ],
   "source": [
    "experiment_html = experiment.get_html()"
   ]
  },
  {
   "cell_type": "code",
   "execution_count": 22,
   "metadata": {
    "pycharm": {
     "name": "#%%\n"
    }
   },
   "outputs": [
    {
     "data": {
      "text/html": [
       "<!DOCTYPE html>\n",
       "<html lang=\"en\">\n",
       "<head>\n",
       "    <meta charset=\"utf-8\">\n",
       "    <meta name=\"viewport\" content=\"width=device-width, initial-scale=1.0\">\n",
       "    <link rel=\"icon\" href=\"data:;base64,iVBORw0KGgo=\">\n",
       "    <title></title>\n",
       "    <style>\n",
       "        h1 {\n",
       "            margin-top: 1.7rem;\n",
       "            margin-bottom: 0.3rem;\n",
       "            font-size: 1.6rem;\n",
       "        }\n",
       "\n",
       "        h2 {\n",
       "            margin-top: 1.2rem;\n",
       "            margin-bottom: 0.3rem;\n",
       "            font-size: 1.2rem;\n",
       "        }\n",
       "\n",
       "        table.props th, table.props td {\n",
       "            text-align: left;\n",
       "            padding: 3px;\n",
       "        }\n",
       "\n",
       "        table.dataframe {\n",
       "            border-collapse: collapse;\n",
       "            min-width: 600px;\n",
       "        }\n",
       "\n",
       "        table.dataframe td, table.dataframe th {\n",
       "            padding: 0.4rem 0.8rem;\n",
       "            text-align: left;\n",
       "            border: 1px solid #666;\n",
       "            font-size: 0.7rem;\n",
       "        }\n",
       "    </style>\n",
       "</head>\n",
       "<body>\n",
       "<table class=\"props\">\n",
       "    <tr>\n",
       "        <th>Experiment name:</th>\n",
       "        <td></td>\n",
       "    </tr>\n",
       "    <tr>\n",
       "        <th>Description:</th>\n",
       "        <td></td>\n",
       "    </tr>\n",
       "    <tr>\n",
       "        <th>State:</th>\n",
       "        <td></td>\n",
       "    </tr>\n",
       "</table>\n",
       "\n",
       "\n",
       "    1\n",
       "\n",
       "    2\n",
       "\n",
       "    4\n",
       "\n",
       "    5\n",
       "\n",
       "\n",
       "</body>\n",
       "</html>"
      ],
      "text/plain": [
       "<IPython.core.display.HTML object>"
      ]
     },
     "metadata": {},
     "output_type": "display_data"
    }
   ],
   "source": [
    "display(HTML(experiment_html))"
   ]
  },
  {
   "cell_type": "code",
   "execution_count": 23,
   "metadata": {
    "pycharm": {
     "name": "#%%\n"
    }
   },
   "outputs": [],
   "source": []
  },
  {
   "cell_type": "code",
   "execution_count": null,
   "metadata": {
    "pycharm": {
     "name": "#%%\n"
    }
   },
   "outputs": [],
   "source": []
  }
 ],
 "metadata": {
  "kernelspec": {
   "display_name": "Python 3 (ipykernel)",
   "language": "python",
   "name": "python3"
  },
  "language_info": {
   "codemirror_mode": {
    "name": "ipython",
    "version": 3
   },
   "file_extension": ".py",
   "mimetype": "text/x-python",
   "name": "python",
   "nbconvert_exporter": "python",
   "pygments_lexer": "ipython3",
   "version": "3.9.7"
  }
 },
 "nbformat": 4,
 "nbformat_minor": 1
}

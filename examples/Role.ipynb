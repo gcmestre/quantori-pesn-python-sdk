{
 "cells": [
  {
   "cell_type": "code",
   "execution_count": 1,
   "outputs": [],
   "source": [
    "%load_ext dotenv\n",
    "%dotenv\n",
    "import os\n",
    "\n",
    "SN_API_HOST = os.getenv('SN_API_HOST')\n",
    "SN_API_KEY = os.getenv('SN_API_KEY')"
   ],
   "metadata": {
    "collapsed": false,
    "pycharm": {
     "name": "#%%\n"
    }
   }
  },
  {
   "cell_type": "code",
   "execution_count": 2,
   "outputs": [
    {
     "data": {
      "text/plain": "<signals_notebook.api.SignalsNotebookApi at 0x204ac0e1220>"
     },
     "execution_count": 2,
     "metadata": {},
     "output_type": "execute_result"
    }
   ],
   "source": [
    "from signals_notebook.api import SignalsNotebookApi\n",
    "SignalsNotebookApi.init(SN_API_HOST, SN_API_KEY)"
   ],
   "metadata": {
    "collapsed": false,
    "pycharm": {
     "name": "#%%\n"
    }
   }
  },
  {
   "cell_type": "code",
   "execution_count": 3,
   "outputs": [
    {
     "data": {
      "text/plain": "[Role(id=1, name='System Admin', description='Users with this role have all privileges.', privileges=RolePrivelege(can_move_experiments=True, can_manage_system_templates=True, can_trash_requests=True, can_trash_samples=True, can_share=True, can_add_materials=True, can_trash_experiments=True, can_trash_materials=True, can_trash_notebooks=True, can_view_materials=True, can_manage_material_libraries=True, can_share_templates=True, can_manage_attributes=True, can_manage_groups=True, can_search_eln_archive=True, can_configure=True, can_edit_materials=True)),\n Role(id=2, name='Config Admin', description='Users with this role have privileges for accessing SNConfig and managing metadata.', privileges=RolePrivelege(can_move_experiments=True, can_manage_system_templates=True, can_trash_requests=True, can_trash_samples=True, can_share=True, can_add_materials=True, can_trash_experiments=True, can_trash_materials=True, can_trash_notebooks=True, can_view_materials=True, can_manage_material_libraries=True, can_share_templates=True, can_manage_attributes=True, can_manage_groups=True, can_search_eln_archive=True, can_configure=True, can_edit_materials=True)),\n Role(id=3, name='Standard User', description='All users in the system will always have this role.', privileges=RolePrivelege(can_move_experiments=True, can_manage_system_templates=True, can_trash_requests=True, can_trash_samples=True, can_share=True, can_add_materials=True, can_trash_experiments=True, can_trash_materials=True, can_trash_notebooks=True, can_view_materials=True, can_manage_material_libraries=True, can_share_templates=True, can_manage_attributes=True, can_manage_groups=True, can_search_eln_archive=True, can_configure=True, can_edit_materials=True)),\n Role(id=4, name='Inventory Admin', description='Users with this role have privileges of inventory admin.', privileges=RolePrivelege(can_move_experiments=True, can_manage_system_templates=True, can_trash_requests=True, can_trash_samples=True, can_share=True, can_add_materials=True, can_trash_experiments=True, can_trash_materials=True, can_trash_notebooks=True, can_view_materials=True, can_manage_material_libraries=True, can_share_templates=True, can_manage_attributes=True, can_manage_groups=True, can_search_eln_archive=True, can_configure=True, can_edit_materials=True))]"
     },
     "execution_count": 3,
     "metadata": {},
     "output_type": "execute_result"
    }
   ],
   "source": [
    "from signals_notebook.entities import Role\n",
    "\n",
    "role = Role.get_list()\n",
    "list(role)"
   ],
   "metadata": {
    "collapsed": false,
    "pycharm": {
     "name": "#%%\n"
    }
   }
  },
  {
   "cell_type": "code",
   "execution_count": 4,
   "outputs": [
    {
     "data": {
      "text/plain": "Role(id=1, name='System Admin', description='Users with this role have all privileges.', privileges=RolePrivelege(can_move_experiments=True, can_manage_system_templates=True, can_trash_requests=True, can_trash_samples=True, can_share=True, can_add_materials=True, can_trash_experiments=True, can_trash_materials=True, can_trash_notebooks=True, can_view_materials=True, can_manage_material_libraries=True, can_share_templates=True, can_manage_attributes=True, can_manage_groups=True, can_search_eln_archive=True, can_configure=True, can_edit_materials=True))"
     },
     "execution_count": 4,
     "metadata": {},
     "output_type": "execute_result"
    }
   ],
   "source": [
    "role_by_id = Role.get('1')\n",
    "role_by_id"
   ],
   "metadata": {
    "collapsed": false,
    "pycharm": {
     "name": "#%%\n"
    }
   }
  },
  {
   "cell_type": "markdown",
   "source": [],
   "metadata": {
    "collapsed": false,
    "pycharm": {
     "name": "#%% md\n"
    }
   }
  }
 ],
 "metadata": {
  "kernelspec": {
   "display_name": "Python 3",
   "language": "python",
   "name": "python3"
  },
  "language_info": {
   "codemirror_mode": {
    "name": "ipython",
    "version": 2
   },
   "file_extension": ".py",
   "mimetype": "text/x-python",
   "name": "python",
   "nbconvert_exporter": "python",
   "pygments_lexer": "ipython2",
   "version": "2.7.6"
  }
 },
 "nbformat": 4,
 "nbformat_minor": 0
}
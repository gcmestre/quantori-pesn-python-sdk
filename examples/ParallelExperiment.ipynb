{
 "cells": [
  {
   "cell_type": "code",
   "execution_count": 1,
   "outputs": [],
   "source": [
    "%load_ext dotenv\n",
    "%dotenv\n",
    "import os\n",
    "\n",
    "SN_API_HOST = os.getenv('SN_API_HOST')\n",
    "SN_API_KEY = os.getenv('SN_API_KEY')"
   ],
   "metadata": {
    "collapsed": false,
    "pycharm": {
     "name": "#%%\n"
    }
   }
  },
  {
   "cell_type": "code",
   "execution_count": 2,
   "outputs": [
    {
     "data": {
      "text/plain": "<signals_notebook.api.SignalsNotebookApi at 0x1cd132bb490>"
     },
     "execution_count": 2,
     "metadata": {},
     "output_type": "execute_result"
    }
   ],
   "source": [
    "from signals_notebook.api import SignalsNotebookApi\n",
    "\n",
    "SignalsNotebookApi.init(SN_API_HOST, SN_API_KEY)"
   ],
   "metadata": {
    "collapsed": false,
    "pycharm": {
     "name": "#%%\n"
    }
   }
  },
  {
   "cell_type": "code",
   "execution_count": 3,
   "outputs": [
    {
     "data": {
      "text/plain": "ParallelExperiment(type=<EntityType.PARALLEL_EXPERIMENT: 'paraexp'>, eid='paraexp:8383d5d8-5ea3-4d9f-a824-5f7e902581eb', digest='67996587', name='Example parallel experiment created by SDK', description='Delete if you see this in UI', created_at=datetime.datetime(2022, 8, 3, 6, 13, 12, 984000, tzinfo=datetime.timezone.utc), edited_at=datetime.datetime(2022, 8, 3, 6, 13, 12, 984000, tzinfo=datetime.timezone.utc), state=<ParaExperimentState.OPEN: 'open'>)"
     },
     "execution_count": 3,
     "metadata": {},
     "output_type": "execute_result"
    }
   ],
   "source": [
    "from signals_notebook.entities import ParallelExperiment\n",
    "from signals_notebook.entities import EntityStore\n",
    "\n",
    "notebook = EntityStore.get('journal:9801ad65-9869-404f-80e8-5139a8d9ce03')\n",
    "\n",
    "parallel_experiment = ParallelExperiment.create(\n",
    "    name='Example parallel experiment created by SDK',\n",
    "    description='Delete if you see this in UI',\n",
    "    notebook=notebook,\n",
    ")\n",
    "parallel_experiment"
   ],
   "metadata": {
    "collapsed": false,
    "pycharm": {
     "name": "#%%\n"
    }
   }
  },
  {
   "cell_type": "code",
   "execution_count": 4,
   "outputs": [],
   "source": [
    "EntityStore.delete(parallel_experiment.eid)"
   ],
   "metadata": {
    "collapsed": false,
    "pycharm": {
     "name": "#%%\n"
    }
   }
  },
  {
   "cell_type": "code",
   "execution_count": 5,
   "outputs": [
    {
     "data": {
      "text/plain": "ParallelExperiment(type=<EntityType.PARALLEL_EXPERIMENT: 'paraexp'>, eid='paraexp:973e9bc9-bfa3-4e7e-a91e-51a8a9bf35ba', digest='40214317', name='create-experiment-example', description='', created_at=datetime.datetime(2022, 8, 1, 14, 12, 29, 33000, tzinfo=datetime.timezone.utc), edited_at=datetime.datetime(2022, 8, 2, 6, 34, 17, 263000, tzinfo=datetime.timezone.utc), state=<ParaExperimentState.OPEN: 'open'>)"
     },
     "execution_count": 5,
     "metadata": {},
     "output_type": "execute_result"
    }
   ],
   "source": [
    "from signals_notebook.entities import EntityStore\n",
    "\n",
    "parallel_experiment = EntityStore.get(\"paraexp:973e9bc9-bfa3-4e7e-a91e-51a8a9bf35ba\")\n",
    "\n",
    "parallel_experiment"
   ],
   "metadata": {
    "collapsed": false,
    "pycharm": {
     "name": "#%%\n"
    }
   }
  },
  {
   "cell_type": "code",
   "execution_count": 6,
   "outputs": [
    {
     "data": {
      "text/plain": "[SubExperimentSummary(type=<EntityType.SUB_EXPERIMENT_SUMMARY: 'paragrid'>, eid='paragrid:11270066-1b19-49a7-a753-7fcdf19ec41f', digest='94695124', name='Reactions', description='', created_at=datetime.datetime(2022, 8, 1, 14, 12, 29, 33000, tzinfo=datetime.timezone.utc), edited_at=datetime.datetime(2022, 8, 3, 6, 10, 21, 408000, tzinfo=datetime.timezone.utc)),\n Text(type=<EntityType.TEXT: 'text'>, eid='text:c567d4d3-ca30-4816-bc99-6fb56caa2ce3', digest='0', name='Procedure', description='', created_at=datetime.datetime(2022, 8, 1, 14, 12, 29, 33000, tzinfo=datetime.timezone.utc), edited_at=datetime.datetime(2022, 8, 1, 14, 12, 29, 33000, tzinfo=datetime.timezone.utc)),\n SubExperimentSummary(type=<EntityType.SUB_EXPERIMENT_SUMMARY: 'paragrid'>, eid='paragrid:9a7f9c17-3ba8-4916-b63d-68f0be6e117f', digest='70377809', name='Subexperiment Summary', description='', created_at=datetime.datetime(2022, 8, 1, 14, 12, 29, 33000, tzinfo=datetime.timezone.utc), edited_at=datetime.datetime(2022, 8, 3, 6, 10, 21, 408000, tzinfo=datetime.timezone.utc)),\n SubExperimentSummary(type=<EntityType.SUB_EXPERIMENT_SUMMARY: 'paragrid'>, eid='paragrid:821e6102-7f8c-44c1-b1b5-3d89d8fa897e', digest='60747174', name='Reactants', description='', created_at=datetime.datetime(2022, 8, 1, 14, 12, 29, 33000, tzinfo=datetime.timezone.utc), edited_at=datetime.datetime(2022, 8, 3, 6, 10, 21, 408000, tzinfo=datetime.timezone.utc)),\n Entity(type='paraenum', eid='paraenum:066e6f7c-b818-4a88-b85e-8defd7ec53c0', digest='0', name='Enumerator', description='', created_at=datetime.datetime(2022, 8, 1, 14, 12, 29, 33000, tzinfo=datetime.timezone.utc), edited_at=datetime.datetime(2022, 8, 1, 14, 12, 29, 33000, tzinfo=datetime.timezone.utc)),\n SubExperimentSummary(type=<EntityType.SUB_EXPERIMENT_SUMMARY: 'paragrid'>, eid='paragrid:634f5577-e435-4a10-b4a9-e20cb87d5715', digest='44569734', name='Products', description='', created_at=datetime.datetime(2022, 8, 1, 14, 12, 29, 33000, tzinfo=datetime.timezone.utc), edited_at=datetime.datetime(2022, 8, 3, 6, 10, 21, 408000, tzinfo=datetime.timezone.utc)),\n ChemicalDrawing(type=<EntityType.CHEMICAL_DRAWING: 'chemicalDrawing'>, eid='chemicalDrawing:91876f5d-35e9-44f5-a883-3b6639160e3f', digest='87041936', name='Generic Reaction', description='', created_at=datetime.datetime(2022, 8, 1, 14, 12, 29, 33000, tzinfo=datetime.timezone.utc), edited_at=datetime.datetime(2022, 8, 1, 14, 28, 13, 573000, tzinfo=datetime.timezone.utc)),\n SubExperiment(type=<EntityType.SUB_EXPERIMENT: 'parasubexp'>, eid='parasubexp:ea4b04cb-c262-4d4a-bd84-2321030c4af1', digest='15207708', name='Sub-experiment-1', description='', created_at=datetime.datetime(2022, 8, 1, 14, 41, 31, 575000, tzinfo=datetime.timezone.utc), edited_at=datetime.datetime(2022, 8, 1, 14, 41, 31, 575000, tzinfo=datetime.timezone.utc)),\n SubExperiment(type=<EntityType.SUB_EXPERIMENT: 'parasubexp'>, eid='parasubexp:50865f97-f858-4d33-bcf0-4f1455ad68a8', digest='89730139', name='Sub-experiment-2', description='', created_at=datetime.datetime(2022, 8, 1, 14, 51, 20, 99000, tzinfo=datetime.timezone.utc), edited_at=datetime.datetime(2022, 8, 1, 14, 51, 20, 99000, tzinfo=datetime.timezone.utc)),\n SubExperiment(type=<EntityType.SUB_EXPERIMENT: 'parasubexp'>, eid='parasubexp:782d4af3-a17a-4bbc-b039-cfb7a6e6a215', digest='36759963', name='Sub-experiment-3', description='Test SubExperiment', created_at=datetime.datetime(2022, 8, 1, 15, 10, 23, 369000, tzinfo=datetime.timezone.utc), edited_at=datetime.datetime(2022, 8, 1, 15, 10, 23, 369000, tzinfo=datetime.timezone.utc)),\n SubExperiment(type=<EntityType.SUB_EXPERIMENT: 'parasubexp'>, eid='parasubexp:bdc4287c-eff0-4f8f-a6bf-a611d5599309', digest='70889074', name='Sub-experiment-4', description='Test SubExperiment', created_at=datetime.datetime(2022, 8, 1, 15, 10, 38, 991000, tzinfo=datetime.timezone.utc), edited_at=datetime.datetime(2022, 8, 1, 15, 10, 38, 991000, tzinfo=datetime.timezone.utc)),\n SubExperiment(type=<EntityType.SUB_EXPERIMENT: 'parasubexp'>, eid='parasubexp:ae124ee6-7601-4785-b3e7-6adba789e06c', digest='53632686', name='Sub-experiment-5', description='Test SubExperiment', created_at=datetime.datetime(2022, 8, 1, 15, 10, 51, 249000, tzinfo=datetime.timezone.utc), edited_at=datetime.datetime(2022, 8, 1, 15, 10, 51, 249000, tzinfo=datetime.timezone.utc)),\n SubExperiment(type=<EntityType.SUB_EXPERIMENT: 'parasubexp'>, eid='parasubexp:c88fb21c-7cc5-4bdd-b189-19c03100d59b', digest='10476249', name='Sub-experiment-6', description='Test SubExperiment', created_at=datetime.datetime(2022, 8, 1, 15, 33, 17, 383000, tzinfo=datetime.timezone.utc), edited_at=datetime.datetime(2022, 8, 1, 15, 33, 17, 383000, tzinfo=datetime.timezone.utc)),\n SubExperiment(type=<EntityType.SUB_EXPERIMENT: 'parasubexp'>, eid='parasubexp:d386a052-f0be-4633-acac-635375cea1f6', digest='27061768', name='Sub-experiment-7', description='Test SubExperiment', created_at=datetime.datetime(2022, 8, 1, 15, 40, 56, 694000, tzinfo=datetime.timezone.utc), edited_at=datetime.datetime(2022, 8, 1, 15, 40, 56, 694000, tzinfo=datetime.timezone.utc)),\n Entity(type='paraLayout', eid='paraLayout:78a83746-1563-4360-aa68-22c08acddc7d', digest='38068960', name='Subexperiment Layout', description='', created_at=datetime.datetime(2022, 8, 2, 6, 27, 22, 295000, tzinfo=datetime.timezone.utc), edited_at=datetime.datetime(2022, 8, 2, 6, 27, 54, 797000, tzinfo=datetime.timezone.utc)),\n SubExperimentSummary(type=<EntityType.SUB_EXPERIMENT_SUMMARY: 'paragrid'>, eid='paragrid:ae3378fd-d9b1-458d-b30c-e94ddc9353c2', digest='28904350', name='Subexperiment Summary-1', description='', created_at=datetime.datetime(2022, 8, 2, 6, 34, 15, 370000, tzinfo=datetime.timezone.utc), edited_at=datetime.datetime(2022, 8, 3, 6, 10, 21, 408000, tzinfo=datetime.timezone.utc)),\n SubExperiment(type=<EntityType.SUB_EXPERIMENT: 'parasubexp'>, eid='parasubexp:7bb5b7de-8313-4b57-b3a0-6fa168e8e472', digest='83102160', name='Sub-experiment-8', description='', created_at=datetime.datetime(2022, 8, 3, 6, 10, 21, 408000, tzinfo=datetime.timezone.utc), edited_at=datetime.datetime(2022, 8, 3, 6, 10, 21, 408000, tzinfo=datetime.timezone.utc))]"
     },
     "execution_count": 6,
     "metadata": {},
     "output_type": "execute_result"
    }
   ],
   "source": [
    "list(parallel_experiment.get_children())"
   ],
   "metadata": {
    "collapsed": false,
    "pycharm": {
     "name": "#%%\n"
    }
   }
  },
  {
   "cell_type": "code",
   "execution_count": 8,
   "outputs": [
    {
     "ename": "SignalsNotebookError",
     "evalue": "<SignalsNotebookError status=404 code=MethodNotFound> title=The resource your required is not found. detail=>",
     "output_type": "error",
     "traceback": [
      "\u001B[1;31m---------------------------------------------------------------------------\u001B[0m",
      "\u001B[1;31mSignalsNotebookError\u001B[0m                      Traceback (most recent call last)",
      "Input \u001B[1;32mIn [8]\u001B[0m, in \u001B[0;36m<cell line: 6>\u001B[1;34m()\u001B[0m\n\u001B[0;32m      2\u001B[0m warnings\u001B[38;5;241m.\u001B[39mfilterwarnings(\u001B[38;5;124m'\u001B[39m\u001B[38;5;124mignore\u001B[39m\u001B[38;5;124m'\u001B[39m)\n\u001B[0;32m      4\u001B[0m \u001B[38;5;28;01mfrom\u001B[39;00m \u001B[38;5;21;01mIPython\u001B[39;00m\u001B[38;5;21;01m.\u001B[39;00m\u001B[38;5;21;01mcore\u001B[39;00m\u001B[38;5;21;01m.\u001B[39;00m\u001B[38;5;21;01mdisplay\u001B[39;00m \u001B[38;5;28;01mimport\u001B[39;00m display, HTML\n\u001B[1;32m----> 6\u001B[0m parallel_experiment_html \u001B[38;5;241m=\u001B[39m \u001B[43mparallel_experiment\u001B[49m\u001B[38;5;241;43m.\u001B[39;49m\u001B[43mget_html\u001B[49m\u001B[43m(\u001B[49m\u001B[43m)\u001B[49m\n\u001B[0;32m      7\u001B[0m display(HTML(data\u001B[38;5;241m=\u001B[39mparallel_experiment_html))\n",
      "File \u001B[1;32m~\\PycharmProjects\\pesn-python-sdk\\src\\signals_notebook\\entities\\parallel_experiment\\parallel_experiment.py:150\u001B[0m, in \u001B[0;36mParallelExperiment.get_html\u001B[1;34m(self)\u001B[0m\n\u001B[0;32m    147\u001B[0m template \u001B[38;5;241m=\u001B[39m env\u001B[38;5;241m.\u001B[39mget_template(\u001B[38;5;28mself\u001B[39m\u001B[38;5;241m.\u001B[39m_template_name)\n\u001B[0;32m    148\u001B[0m log\u001B[38;5;241m.\u001B[39minfo(\u001B[38;5;124m'\u001B[39m\u001B[38;5;124mHtml template for \u001B[39m\u001B[38;5;132;01m%s\u001B[39;00m\u001B[38;5;124m:\u001B[39m\u001B[38;5;132;01m%s\u001B[39;00m\u001B[38;5;124m has been rendered.\u001B[39m\u001B[38;5;124m'\u001B[39m, \u001B[38;5;28mself\u001B[39m\u001B[38;5;241m.\u001B[39m\u001B[38;5;18m__class__\u001B[39m\u001B[38;5;241m.\u001B[39m\u001B[38;5;18m__name__\u001B[39m, \u001B[38;5;28mself\u001B[39m\u001B[38;5;241m.\u001B[39meid)\n\u001B[1;32m--> 150\u001B[0m \u001B[38;5;28;01mreturn\u001B[39;00m \u001B[43mtemplate\u001B[49m\u001B[38;5;241;43m.\u001B[39;49m\u001B[43mrender\u001B[49m\u001B[43m(\u001B[49m\u001B[43mdata\u001B[49m\u001B[38;5;241;43m=\u001B[39;49m\u001B[43mdata\u001B[49m\u001B[43m)\u001B[49m\n",
      "File \u001B[1;32mc:\\users\\andrey.shishkin\\pycharmprojects\\pesn-python-sdk\\venv\\lib\\site-packages\\jinja2\\environment.py:1301\u001B[0m, in \u001B[0;36mTemplate.render\u001B[1;34m(self, *args, **kwargs)\u001B[0m\n\u001B[0;32m   1299\u001B[0m     \u001B[38;5;28;01mreturn\u001B[39;00m \u001B[38;5;28mself\u001B[39m\u001B[38;5;241m.\u001B[39menvironment\u001B[38;5;241m.\u001B[39mconcat(\u001B[38;5;28mself\u001B[39m\u001B[38;5;241m.\u001B[39mroot_render_func(ctx))  \u001B[38;5;66;03m# type: ignore\u001B[39;00m\n\u001B[0;32m   1300\u001B[0m \u001B[38;5;28;01mexcept\u001B[39;00m \u001B[38;5;167;01mException\u001B[39;00m:\n\u001B[1;32m-> 1301\u001B[0m     \u001B[38;5;28;43mself\u001B[39;49m\u001B[38;5;241;43m.\u001B[39;49m\u001B[43menvironment\u001B[49m\u001B[38;5;241;43m.\u001B[39;49m\u001B[43mhandle_exception\u001B[49m\u001B[43m(\u001B[49m\u001B[43m)\u001B[49m\n",
      "File \u001B[1;32mc:\\users\\andrey.shishkin\\pycharmprojects\\pesn-python-sdk\\venv\\lib\\site-packages\\jinja2\\environment.py:936\u001B[0m, in \u001B[0;36mEnvironment.handle_exception\u001B[1;34m(self, source)\u001B[0m\n\u001B[0;32m    931\u001B[0m \u001B[38;5;124;03m\"\"\"Exception handling helper.  This is used internally to either raise\u001B[39;00m\n\u001B[0;32m    932\u001B[0m \u001B[38;5;124;03mrewritten exceptions or return a rendered traceback for the template.\u001B[39;00m\n\u001B[0;32m    933\u001B[0m \u001B[38;5;124;03m\"\"\"\u001B[39;00m\n\u001B[0;32m    934\u001B[0m \u001B[38;5;28;01mfrom\u001B[39;00m \u001B[38;5;21;01m.\u001B[39;00m\u001B[38;5;21;01mdebug\u001B[39;00m \u001B[38;5;28;01mimport\u001B[39;00m rewrite_traceback_stack\n\u001B[1;32m--> 936\u001B[0m \u001B[38;5;28;01mraise\u001B[39;00m rewrite_traceback_stack(source\u001B[38;5;241m=\u001B[39msource)\n",
      "File \u001B[1;32m~\\PycharmProjects\\pesn-python-sdk\\src\\signals_notebook\\templates\\para_experiment.html:87\u001B[0m, in \u001B[0;36mtop-level template code\u001B[1;34m()\u001B[0m\n\u001B[0;32m     85\u001B[0m \n\u001B[0;32m     86\u001B[0m {% for item in data['children'] %}\n\u001B[1;32m---> 87\u001B[0m {{ item.get_html() | safe }}\n\u001B[0;32m     88\u001B[0m {% endfor %}\n\u001B[0;32m     89\u001B[0m \n",
      "File \u001B[1;32m~\\PycharmProjects\\pesn-python-sdk\\src\\signals_notebook\\entities\\contentful_entity.py:47\u001B[0m, in \u001B[0;36mContentfulEntity.get_html\u001B[1;34m(self)\u001B[0m\n\u001B[0;32m     41\u001B[0m \u001B[38;5;28;01mdef\u001B[39;00m \u001B[38;5;21mget_html\u001B[39m(\u001B[38;5;28mself\u001B[39m) \u001B[38;5;241m-\u001B[39m\u001B[38;5;241m>\u001B[39m \u001B[38;5;28mstr\u001B[39m:\n\u001B[0;32m     42\u001B[0m     \u001B[38;5;124;03m\"\"\"Get in HTML format\u001B[39;00m\n\u001B[0;32m     43\u001B[0m \n\u001B[0;32m     44\u001B[0m \u001B[38;5;124;03m    Returns:\u001B[39;00m\n\u001B[0;32m     45\u001B[0m \u001B[38;5;124;03m        Rendered template as a string\u001B[39;00m\n\u001B[0;32m     46\u001B[0m \u001B[38;5;124;03m    \"\"\"\u001B[39;00m\n\u001B[1;32m---> 47\u001B[0m     file \u001B[38;5;241m=\u001B[39m \u001B[38;5;28;43mself\u001B[39;49m\u001B[38;5;241;43m.\u001B[39;49m\u001B[43m_get_content\u001B[49m\u001B[43m(\u001B[49m\u001B[43m)\u001B[49m\n\u001B[0;32m     48\u001B[0m     data \u001B[38;5;241m=\u001B[39m {\n\u001B[0;32m     49\u001B[0m         \u001B[38;5;124m'\u001B[39m\u001B[38;5;124mname\u001B[39m\u001B[38;5;124m'\u001B[39m: \u001B[38;5;28mself\u001B[39m\u001B[38;5;241m.\u001B[39mname,\n\u001B[0;32m     50\u001B[0m         \u001B[38;5;124m'\u001B[39m\u001B[38;5;124mcontent\u001B[39m\u001B[38;5;124m'\u001B[39m: \u001B[38;5;124m'\u001B[39m\u001B[38;5;124mdata:\u001B[39m\u001B[38;5;132;01m{}\u001B[39;00m\u001B[38;5;124m;base64,\u001B[39m\u001B[38;5;132;01m{}\u001B[39;00m\u001B[38;5;124m'\u001B[39m\u001B[38;5;241m.\u001B[39mformat(file\u001B[38;5;241m.\u001B[39mcontent_type, file\u001B[38;5;241m.\u001B[39mbase64\u001B[38;5;241m.\u001B[39mdecode(\u001B[38;5;124m'\u001B[39m\u001B[38;5;124mascii\u001B[39m\u001B[38;5;124m'\u001B[39m)),\n\u001B[0;32m     51\u001B[0m     }\n\u001B[0;32m     52\u001B[0m     template \u001B[38;5;241m=\u001B[39m env\u001B[38;5;241m.\u001B[39mget_template(\u001B[38;5;28mself\u001B[39m\u001B[38;5;241m.\u001B[39m_template_name)\n",
      "File \u001B[1;32m~\\PycharmProjects\\pesn-python-sdk\\src\\signals_notebook\\entities\\contentful_entity.py:24\u001B[0m, in \u001B[0;36mContentfulEntity._get_content\u001B[1;34m(self, format)\u001B[0m\n\u001B[0;32m     21\u001B[0m api \u001B[38;5;241m=\u001B[39m SignalsNotebookApi\u001B[38;5;241m.\u001B[39mget_default_api()\n\u001B[0;32m     22\u001B[0m log\u001B[38;5;241m.\u001B[39mdebug(\u001B[38;5;124m'\u001B[39m\u001B[38;5;124mGet content for: \u001B[39m\u001B[38;5;132;01m%s\u001B[39;00m\u001B[38;5;124m| \u001B[39m\u001B[38;5;132;01m%s\u001B[39;00m\u001B[38;5;124m'\u001B[39m, \u001B[38;5;28mself\u001B[39m\u001B[38;5;241m.\u001B[39m\u001B[38;5;18m__class__\u001B[39m\u001B[38;5;241m.\u001B[39m\u001B[38;5;18m__name__\u001B[39m, \u001B[38;5;28mself\u001B[39m\u001B[38;5;241m.\u001B[39meid)\n\u001B[1;32m---> 24\u001B[0m response \u001B[38;5;241m=\u001B[39m \u001B[43mapi\u001B[49m\u001B[38;5;241;43m.\u001B[39;49m\u001B[43mcall\u001B[49m\u001B[43m(\u001B[49m\n\u001B[0;32m     25\u001B[0m \u001B[43m    \u001B[49m\u001B[43mmethod\u001B[49m\u001B[38;5;241;43m=\u001B[39;49m\u001B[38;5;124;43m'\u001B[39;49m\u001B[38;5;124;43mGET\u001B[39;49m\u001B[38;5;124;43m'\u001B[39;49m\u001B[43m,\u001B[49m\n\u001B[0;32m     26\u001B[0m \u001B[43m    \u001B[49m\u001B[43mpath\u001B[49m\u001B[38;5;241;43m=\u001B[39;49m\u001B[43m(\u001B[49m\u001B[38;5;28;43mself\u001B[39;49m\u001B[38;5;241;43m.\u001B[39;49m\u001B[43m_get_endpoint\u001B[49m\u001B[43m(\u001B[49m\u001B[43m)\u001B[49m\u001B[43m,\u001B[49m\u001B[43m \u001B[49m\u001B[38;5;28;43mself\u001B[39;49m\u001B[38;5;241;43m.\u001B[39;49m\u001B[43meid\u001B[49m\u001B[43m,\u001B[49m\u001B[43m \u001B[49m\u001B[38;5;124;43m'\u001B[39;49m\u001B[38;5;124;43mexport\u001B[39;49m\u001B[38;5;124;43m'\u001B[39;49m\u001B[43m)\u001B[49m\u001B[43m,\u001B[49m\n\u001B[0;32m     27\u001B[0m \u001B[43m    \u001B[49m\u001B[43mparams\u001B[49m\u001B[38;5;241;43m=\u001B[39;49m\u001B[43m{\u001B[49m\n\u001B[0;32m     28\u001B[0m \u001B[43m        \u001B[49m\u001B[38;5;124;43m'\u001B[39;49m\u001B[38;5;124;43mformat\u001B[39;49m\u001B[38;5;124;43m'\u001B[39;49m\u001B[43m:\u001B[49m\u001B[43m \u001B[49m\u001B[38;5;28;43mformat\u001B[39;49m\u001B[43m,\u001B[49m\n\u001B[0;32m     29\u001B[0m \u001B[43m    \u001B[49m\u001B[43m}\u001B[49m\u001B[43m,\u001B[49m\n\u001B[0;32m     30\u001B[0m \u001B[43m\u001B[49m\u001B[43m)\u001B[49m\n\u001B[0;32m     32\u001B[0m content_disposition \u001B[38;5;241m=\u001B[39m response\u001B[38;5;241m.\u001B[39mheaders\u001B[38;5;241m.\u001B[39mget(\u001B[38;5;124m'\u001B[39m\u001B[38;5;124mcontent-disposition\u001B[39m\u001B[38;5;124m'\u001B[39m, \u001B[38;5;124m'\u001B[39m\u001B[38;5;124m'\u001B[39m)\n\u001B[0;32m     33\u001B[0m _, params \u001B[38;5;241m=\u001B[39m cgi\u001B[38;5;241m.\u001B[39mparse_header(content_disposition)\n",
      "File \u001B[1;32m~\\PycharmProjects\\pesn-python-sdk\\src\\signals_notebook\\api.py:152\u001B[0m, in \u001B[0;36mSignalsNotebookApi.call\u001B[1;34m(self, method, path, params, data, json, headers)\u001B[0m\n\u001B[0;32m    146\u001B[0m \u001B[38;5;28;01mif\u001B[39;00m \u001B[38;5;129;01mnot\u001B[39;00m response\u001B[38;5;241m.\u001B[39mok:\n\u001B[0;32m    147\u001B[0m     log\u001B[38;5;241m.\u001B[39merror(\n\u001B[0;32m    148\u001B[0m         \u001B[38;5;124m'\u001B[39m\u001B[38;5;124mError has been occurred while getting response, status code: \u001B[39m\u001B[38;5;132;01m%s\u001B[39;00m\u001B[38;5;124m'\u001B[39m,\n\u001B[0;32m    149\u001B[0m         response\u001B[38;5;241m.\u001B[39mstatus_code,\n\u001B[0;32m    150\u001B[0m         extra\u001B[38;5;241m=\u001B[39m{\u001B[38;5;124m'\u001B[39m\u001B[38;5;124mresponse\u001B[39m\u001B[38;5;124m'\u001B[39m: response},\n\u001B[0;32m    151\u001B[0m     )\n\u001B[1;32m--> 152\u001B[0m     \u001B[38;5;28;01mraise\u001B[39;00m SignalsNotebookError(response)\n\u001B[0;32m    153\u001B[0m log\u001B[38;5;241m.\u001B[39minfo(\u001B[38;5;124m'\u001B[39m\u001B[38;5;124mSuccessful request - HTTP url: \u001B[39m\u001B[38;5;132;01m%s\u001B[39;00m\u001B[38;5;124m, status code: \u001B[39m\u001B[38;5;132;01m%s\u001B[39;00m\u001B[38;5;124m'\u001B[39m, response\u001B[38;5;241m.\u001B[39murl, response\u001B[38;5;241m.\u001B[39mstatus_code)\n\u001B[0;32m    155\u001B[0m \u001B[38;5;28;01mreturn\u001B[39;00m response\n",
      "\u001B[1;31mSignalsNotebookError\u001B[0m: <SignalsNotebookError status=404 code=MethodNotFound> title=The resource your required is not found. detail=>"
     ]
    }
   ],
   "source": [
    "import warnings # added to ignore deprecation warnings\n",
    "warnings.filterwarnings('ignore')\n",
    "\n",
    "from IPython.core.display import display, HTML\n",
    "\n",
    "parallel_experiment_html = parallel_experiment.get_html()\n",
    "display(HTML(data=parallel_experiment_html))  # pycharm cannot display html correctly. Use web version to see html response."
   ],
   "metadata": {
    "collapsed": false,
    "pycharm": {
     "name": "#%%\n"
    }
   }
  }
 ],
 "metadata": {
  "kernelspec": {
   "display_name": "Python 3",
   "language": "python",
   "name": "python3"
  },
  "language_info": {
   "codemirror_mode": {
    "name": "ipython",
    "version": 2
   },
   "file_extension": ".py",
   "mimetype": "text/x-python",
   "name": "python",
   "nbconvert_exporter": "python",
   "pygments_lexer": "ipython2",
   "version": "2.7.6"
  }
 },
 "nbformat": 4,
 "nbformat_minor": 0
}
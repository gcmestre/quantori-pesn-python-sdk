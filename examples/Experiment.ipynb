{
 "cells": [
  {
   "cell_type": "code",
   "execution_count": 20,
   "metadata": {
    "pycharm": {
     "name": "#%%\n"
    }
   },
   "outputs": [
    {
     "name": "stdout",
     "output_type": "stream",
     "text": [
      "The dotenv extension is already loaded. To reload it, use:\n",
      "  %reload_ext dotenv\n"
     ]
    }
   ],
   "source": [
    "%load_ext dotenv\n",
    "%dotenv\n",
    "import os\n",
    "\n",
    "SN_API_HOST = os.getenv('SN_API_HOST')\n",
    "SN_API_KEY = os.getenv('SN_API_KEY')"
   ]
  },
  {
   "cell_type": "code",
   "execution_count": 21,
   "metadata": {
    "pycharm": {
     "name": "#%%\n"
    }
   },
   "outputs": [
    {
     "data": {
      "text/plain": "<signals_notebook.api.SignalsNotebookApi at 0x28c291bb460>"
     },
     "execution_count": 21,
     "metadata": {},
     "output_type": "execute_result"
    }
   ],
   "source": [
    "from signals_notebook.api import SignalsNotebookApi\n",
    "\n",
    "SignalsNotebookApi.init(SN_API_HOST, SN_API_KEY)"
   ]
  },
  {
   "cell_type": "code",
   "execution_count": 22,
   "metadata": {
    "pycharm": {
     "name": "#%%\n"
    }
   },
   "outputs": [],
   "source": [
    "from signals_notebook.entities import EntityStore\n",
    "\n",
    "experiment = EntityStore.get(\"experiment:f7fb12b2-1180-4fa0-9bcd-ccc2f7ec0e8f\")"
   ]
  },
  {
   "cell_type": "code",
   "execution_count": null,
   "metadata": {
    "pycharm": {
     "name": "#%%\n",
     "is_executing": true
    }
   },
   "outputs": [],
   "source": [
    "import warnings # added to ignore deprecation warnings\n",
    "warnings.filterwarnings('ignore')\n",
    "\n",
    "from IPython.core.display import display, HTML\n",
    "\n",
    "experiment_html = experiment.get_html()\n",
    "display(HTML(data=experiment_html))  # pycharm cannot display html correctly. Use web version to see html response."
   ]
  },
  {
   "cell_type": "code",
   "execution_count": 24,
   "metadata": {
    "pycharm": {
     "name": "#%%\n"
    }
   },
   "outputs": [
    {
     "data": {
      "text/plain": "[Text(type=<EntityType.TEXT: 'text'>, eid='text:150d47cc-b724-4bc8-aec5-276f9537d4b3', digest='83482819', name='Test', description='', created_at=datetime.datetime(2022, 2, 10, 14, 16, 28, 254000, tzinfo=datetime.timezone.utc), edited_at=datetime.datetime(2022, 3, 10, 14, 15, 11, 805000, tzinfo=datetime.timezone.utc)),\n Text(type=<EntityType.TEXT: 'text'>, eid='text:2e8b503e-714a-412d-bc60-49f8fb41539b', digest='11414164', name='Auto', description='', created_at=datetime.datetime(2022, 2, 13, 9, 59, 52, 449000, tzinfo=datetime.timezone.utc), edited_at=datetime.datetime(2022, 2, 13, 10, 10, 21, 409000, tzinfo=datetime.timezone.utc)),\n ChemicalDrawing(type=<EntityType.CHEMICAL_DRAWING: 'chemicalDrawing'>, eid='chemicalDrawing:2fc7a20f-e74c-4142-b4fa-cfa2fab41c58', digest='60887038', name='ChemDraw Document', description='', created_at=datetime.datetime(2022, 2, 13, 13, 19, 50, 766000, tzinfo=datetime.timezone.utc), edited_at=datetime.datetime(2022, 5, 10, 13, 34, 43, 30000, tzinfo=datetime.timezone.utc)),\n ChemicalDrawing(type=<EntityType.CHEMICAL_DRAWING: 'chemicalDrawing'>, eid='chemicalDrawing:8b55beb9-c6f6-4f03-a8ba-65353a0178eb', digest='39856945', name='Test chemDraw creation.cdxml', description='', created_at=datetime.datetime(2022, 2, 15, 13, 25, 30, 665000, tzinfo=datetime.timezone.utc), edited_at=datetime.datetime(2022, 2, 15, 13, 25, 45, 189000, tzinfo=datetime.timezone.utc)),\n ChemicalDrawing(type=<EntityType.CHEMICAL_DRAWING: 'chemicalDrawing'>, eid='chemicalDrawing:10cb63cc-a922-4dfc-8ce4-75f54b1d2753', digest='71685354', name='Test chemDraw creation.mol', description='', created_at=datetime.datetime(2022, 2, 15, 13, 25, 31, 567000, tzinfo=datetime.timezone.utc), edited_at=datetime.datetime(2022, 2, 15, 13, 25, 34, 680000, tzinfo=datetime.timezone.utc)),\n Entity(type='uploadedResource', eid='uploadedResource:178c8f9f-1918-40b6-9199-a43806656de3', digest='98726441', name='Test chemDraw creation.smi', description='', created_at=datetime.datetime(2022, 2, 15, 13, 25, 32, 199000, tzinfo=datetime.timezone.utc), edited_at=datetime.datetime(2022, 2, 15, 13, 25, 34, 707000, tzinfo=datetime.timezone.utc)),\n Entity(type='uploadedResource', eid='uploadedResource:7b88ff58-5759-4a05-b10c-d797bfadc08f', digest='89425595', name='Test chemDraw creation.svg', description='', created_at=datetime.datetime(2022, 2, 15, 13, 25, 37, 103000, tzinfo=datetime.timezone.utc), edited_at=datetime.datetime(2022, 2, 15, 13, 25, 44, 994000, tzinfo=datetime.timezone.utc)),\n Table(type=<EntityType.GRID: 'grid'>, eid='grid:f964c4af-49e1-4d4f-a53f-ed539b881fbf', digest='21544916', name='Bioidentity test', description='', created_at=datetime.datetime(2022, 2, 17, 11, 32, 11, 587000, tzinfo=datetime.timezone.utc), edited_at=datetime.datetime(2022, 5, 20, 12, 2, 33, 19000, tzinfo=datetime.timezone.utc)),\n Table(type=<EntityType.GRID: 'grid'>, eid='grid:9b128b10-8eab-458d-8048-24d5153c6de7', digest='56393124', name='All Table Column Types (SK)', description='', created_at=datetime.datetime(2022, 2, 28, 12, 55, 21, 267000, tzinfo=datetime.timezone.utc), edited_at=datetime.datetime(2022, 5, 20, 12, 2, 58, 100000, tzinfo=datetime.timezone.utc)),\n Text(type=<EntityType.TEXT: 'text'>, eid='text:8e1dce4b-f798-4885-95b6-72edb547b939', digest='25405595', name='My text.txt', description='', created_at=datetime.datetime(2022, 3, 10, 17, 21, 44, 992000, tzinfo=datetime.timezone.utc), edited_at=datetime.datetime(2022, 3, 10, 17, 21, 46, 807000, tzinfo=datetime.timezone.utc)),\n Image(type=<EntityType.IMAGE_RESOURCE: 'imageResource'>, eid='imageResource:66f74ec9-ce79-4a06-828a-aed52df68140', digest='11783816', name='sodiumbicarbonate2.png', description='', created_at=datetime.datetime(2022, 3, 18, 12, 3, 24, 781000, tzinfo=datetime.timezone.utc), edited_at=datetime.datetime(2022, 3, 18, 12, 3, 27, 720000, tzinfo=datetime.timezone.utc)),\n Entity(type='materialsTable', eid='materialsTable:593d69a2-f3b3-4d3a-ab55-5e4e4869cfe5', digest='24610741', name='Materials Table', description='', created_at=datetime.datetime(2022, 4, 1, 9, 24, 3, 192000, tzinfo=datetime.timezone.utc), edited_at=datetime.datetime(2022, 4, 1, 9, 34, 48, 807000, tzinfo=datetime.timezone.utc)),\n Entity(type='plateContainer', eid='plateContainer:814da316-3181-4e92-8c62-1357d51def73', digest='18053614', name='Plates', description='', created_at=datetime.datetime(2022, 5, 5, 7, 8, 11, 440000, tzinfo=datetime.timezone.utc), edited_at=datetime.datetime(2022, 5, 5, 7, 8, 11, 440000, tzinfo=datetime.timezone.utc)),\n Word(type=<EntityType.WORD: 'viewonly'>, eid='viewonly:18f6ceb6-89b5-468c-bf11-27a8c48138ea', digest='57084332', name='Document.docx', description='', created_at=datetime.datetime(2022, 5, 10, 15, 38, 52, 852000, tzinfo=datetime.timezone.utc), edited_at=datetime.datetime(2022, 5, 10, 15, 38, 52, 852000, tzinfo=datetime.timezone.utc)),\n Text(type=<EntityType.TEXT: 'text'>, eid='text:e92b8caf-f9ff-4461-a2df-a3b46f8f4f05', digest='17987838', name='Third', description='', created_at=datetime.datetime(2022, 5, 10, 16, 0, 42, 221000, tzinfo=datetime.timezone.utc), edited_at=datetime.datetime(2022, 5, 10, 16, 0, 47, 656000, tzinfo=datetime.timezone.utc)),\n Text(type=<EntityType.TEXT: 'text'>, eid='text:dc023925-847c-4d25-9aa2-c9f58fa0fc8a', digest='45834490', name='Auto.txt', description='', created_at=datetime.datetime(2022, 5, 19, 8, 5, 11, 995000, tzinfo=datetime.timezone.utc), edited_at=datetime.datetime(2022, 5, 19, 8, 52, 58, 951000, tzinfo=datetime.timezone.utc)),\n Text(type=<EntityType.TEXT: 'text'>, eid='text:481b627c-686f-45a4-bd2c-3a79998c32b7', digest='49201516', name='Auto-1.txt', description='', created_at=datetime.datetime(2022, 5, 19, 8, 6, 1, 415000, tzinfo=datetime.timezone.utc), edited_at=datetime.datetime(2022, 5, 19, 8, 52, 58, 986000, tzinfo=datetime.timezone.utc)),\n Text(type=<EntityType.TEXT: 'text'>, eid='text:47a1f131-b745-4e11-9f68-4fff155451e7', digest='74137864', name='Auto-2.txt', description='', created_at=datetime.datetime(2022, 5, 19, 8, 13, 34, 951000, tzinfo=datetime.timezone.utc), edited_at=datetime.datetime(2022, 5, 19, 8, 52, 58, 918000, tzinfo=datetime.timezone.utc))]"
     },
     "execution_count": 24,
     "metadata": {},
     "output_type": "execute_result"
    }
   ],
   "source": [
    "experiment.get_children()"
   ]
  },
  {
   "cell_type": "code",
   "execution_count": 25,
   "metadata": {
    "pycharm": {
     "name": "#%%\n"
    }
   },
   "outputs": [
    {
     "data": {
      "text/plain": "[Stoichiometry(eid='chemicalDrawing:2fc7a20f-e74c-4142-b4fa-cfa2fab41c58', reactants=Reactants(__root__=[Reactant(row_id='10', rxnid=Cell(value='I', display='', units=None), name=Cell(value='HCl', display='', units=None), cas=Cell(value='7647-01-0', display='', units=None), formula=Cell(value='ClH', display='', units=None), mf=Cell(value=Decimal('36.46'), display='36.46 g/mol', units='g/mol'), mw=Cell(value=Decimal('36.46'), display='36.46 g/mol', units='g/mol'), em=Cell(value=Decimal('35.97668'), display='35.97668', units=None), limit=Cell(value=True, display='', units=None), eq=Cell(value=True, display='1', units=None), sm=None, moles=None, loading=None, molarity=None, volume=None, density=Cell(value=Decimal('1.49'), display='1.490 g/ml', units='g/mL'), wt=None, supplier=None, lot=None, iupac_name=Cell(value='hydrogen chloride', display='', units=None), barcode=None, material_id=None, container_id=None, inchi='InChI=1S/ClH/h1H', hash='da873297923efb8e6452ccf77bc0701b6add1e9507b261004cb50ba2f8fd2cda'), Reactant(row_id='1', rxnid=Cell(value='II', display='', units=None), name=Cell(value='NaOH', display='', units=None), cas=Cell(value='1310-73-2', display='', units=None), formula=Cell(value='HNaO', display='', units=None), mf=Cell(value=Decimal('40.0'), display='40 g/mol', units='g/mol'), mw=Cell(value=Decimal('40.0'), display='40.00 g/mol', units='g/mol'), em=Cell(value=Decimal('39.99251'), display='39.99251', units=None), limit=None, eq=Cell(value=True, display='1', units=None), sm=None, moles=None, loading=None, molarity=None, volume=None, density=None, wt=None, supplier=None, lot=None, iupac_name=Cell(value='sodium hydroxide', display='', units=None), barcode=None, material_id=None, container_id=None, inchi='InChI=1S/Na.H2O/h;1H2/q+1;/p-1', hash='eeffcce664ef646a8b1c42f8f665a207d0c096b0e03ad0ff2978fa5411b5cfdd')]), products=Products(__root__=[Product(row_id='19', rxnid=Cell(value='III', display='', units=None), product_id=Cell(value='P1', display='', units=None), name=Cell(value='H2O', display='', units=None), formula=Cell(value='H<sub>2</sub>O', display='', units=None), mf=Cell(value=Decimal('18.02'), display='18.02 g/mol', units='g/mol'), mw=Cell(value=Decimal('18.02'), display='18.02 g/mol', units='g/mol'), em=Cell(value=Decimal('18.01056'), display='18.01056', units=None), theo_mass=None, actual_mass=None, purity=None, density=Cell(value=True, display='1.000 g/ml', units='g/mL'), yield_=None, theo_mol=None, actual_mol=None, conversion=None, iupac_name=Cell(value='water', display='', units=None), barcode=None, material_id=None, container_id=None, inchi='InChI=1S/H2O/h1H2', hash='576635f2354d849d2aa1354b734cb232e7847b32dcaad66c92bbcf40717281ba'), Product(row_id='54', rxnid=Cell(value='IV', display='', units=None), product_id=Cell(value='P2', display='', units=None), name=Cell(value='sodium chloride', display='', units=None), formula=Cell(value='ClNa', display='', units=None), mf=Cell(value=Decimal('58.44'), display='58.44 g/mol', units='g/mol'), mw=Cell(value=Decimal('58.44'), display='58.44 g/mol', units='g/mol'), em=Cell(value=Decimal('57.95862'), display='57.95862', units=None), theo_mass=None, actual_mass=None, purity=None, density=None, yield_=None, theo_mol=None, actual_mol=None, conversion=None, iupac_name=Cell(value='sodium chloride', display='', units=None), barcode=None, material_id=None, container_id=None, inchi='InChI=1S/ClH.Na/h1H;/q;+1/p-1', hash='7648352f4554de83c3e515ea2cdc6116a1c1ee5ffd5f01f93382fa997a6b30e7')]), solvents=Solvents(__root__=[Solvent(row_id=UUID('5a78ff52-4dd5-4ce2-9b84-78a4da0199d4'), solvent=Cell(value='1,4-Dioxane', display='', units=None), ratio=Cell(value=True, display='1', units=None), volume=None)]), conditions=Conditions(__root__=[Condition(row_id=UUID('ca785cab-2f92-42f1-a1d7-5645c1d02ccc'), pressure=Cell(value=True, display='1 atm', units='atm'), temperature=Cell(value=Decimal('100.0'), display='100 °C', units='°C'), duration=Cell(value=Decimal('0.8333333333333334'), display='50 s', units='min'))])),\n Stoichiometry(eid='chemicalDrawing:8b55beb9-c6f6-4f03-a8ba-65353a0178eb', reactants=Reactants(__root__=[Reactant(row_id='10', rxnid=Cell(value='I', display='', units=None), name=Cell(value='hydrogen chloride', display='', units=None), cas=None, formula=Cell(value='ClH', display='', units=None), mf=Cell(value=Decimal('36.46'), display='36.46 g/mol', units='g/mol'), mw=Cell(value=Decimal('36.46'), display='36.46 g/mol', units='g/mol'), em=Cell(value=Decimal('35.97668'), display='35.97668', units=None), limit=Cell(value=True, display='', units=None), eq=Cell(value=True, display='1', units=None), sm=None, moles=None, loading=None, molarity=None, volume=None, density=None, wt=None, supplier=None, lot=None, iupac_name=Cell(value='hydrogen chloride', display='', units=None), barcode=None, material_id=None, container_id=None, inchi='InChI=1S/ClH/h1H', hash='da873297923efb8e6452ccf77bc0701b6add1e9507b261004cb50ba2f8fd2cda'), Reactant(row_id='1', rxnid=Cell(value='II', display='', units=None), name=Cell(value='sodium hydroxide', display='', units=None), cas=None, formula=Cell(value='HNaO', display='', units=None), mf=Cell(value=Decimal('40.0'), display='40 g/mol', units='g/mol'), mw=Cell(value=Decimal('40.0'), display='40.00 g/mol', units='g/mol'), em=Cell(value=Decimal('39.99251'), display='39.99251', units=None), limit=None, eq=Cell(value=True, display='1', units=None), sm=None, moles=None, loading=None, molarity=None, volume=None, density=None, wt=None, supplier=None, lot=None, iupac_name=Cell(value='sodium hydroxide', display='', units=None), barcode=None, material_id=None, container_id=None, inchi='InChI=1S/Na.H2O/h;1H2/q+1;/p-1', hash='eeffcce664ef646a8b1c42f8f665a207d0c096b0e03ad0ff2978fa5411b5cfdd')]), products=Products(__root__=[Product(row_id='19', rxnid=Cell(value='III', display='', units=None), product_id=Cell(value='P1', display='', units=None), name=Cell(value='water', display='', units=None), formula=Cell(value='H<sub>2</sub>O', display='', units=None), mf=Cell(value=Decimal('18.02'), display='18.02 g/mol', units='g/mol'), mw=Cell(value=Decimal('18.02'), display='18.02 g/mol', units='g/mol'), em=Cell(value=Decimal('18.01056'), display='18.01056', units=None), theo_mass=None, actual_mass=None, purity=None, density=None, yield_=None, theo_mol=None, actual_mol=None, conversion=None, iupac_name=Cell(value='water', display='', units=None), barcode=None, material_id=None, container_id=None, inchi='InChI=1S/H2O/h1H2', hash='576635f2354d849d2aa1354b734cb232e7847b32dcaad66c92bbcf40717281ba'), Product(row_id='54', rxnid=Cell(value='IV', display='', units=None), product_id=Cell(value='P2', display='', units=None), name=Cell(value='sodium chloride', display='', units=None), formula=Cell(value='ClNa', display='', units=None), mf=Cell(value=Decimal('58.44'), display='58.44 g/mol', units='g/mol'), mw=Cell(value=Decimal('58.44'), display='58.44 g/mol', units='g/mol'), em=Cell(value=Decimal('57.95862'), display='57.95862', units=None), theo_mass=None, actual_mass=None, purity=None, density=None, yield_=None, theo_mol=None, actual_mol=None, conversion=None, iupac_name=Cell(value='sodium chloride', display='', units=None), barcode=None, material_id=None, container_id=None, inchi='InChI=1S/ClH.Na/h1H;/q;+1/p-1', hash='7648352f4554de83c3e515ea2cdc6116a1c1ee5ffd5f01f93382fa997a6b30e7')]), solvents=Solvents(__root__=[]), conditions=Conditions(__root__=[])),\n Stoichiometry(eid='chemicalDrawing:10cb63cc-a922-4dfc-8ce4-75f54b1d2753', reactants=Reactants(__root__=[]), products=Products(__root__=[]), solvents=Solvents(__root__=[]), conditions=Conditions(__root__=[]))]"
     },
     "execution_count": 25,
     "metadata": {},
     "output_type": "execute_result"
    }
   ],
   "source": [
    "experiment.stoichiometry"
   ]
  },
  {
   "cell_type": "code",
   "execution_count": 26,
   "metadata": {
    "pycharm": {
     "name": "#%%\n"
    }
   },
   "outputs": [],
   "source": [
    "from signals_notebook.entities import Experiment\n",
    "\n",
    "notebook = EntityStore.get('journal:111a8a0d-2772-47b0-b5b8-2e4faf04119e')\n",
    "experiment = Experiment.create(\n",
    "    name='Example experiment created by SDK',\n",
    "    description='Delete if you see this in UI',\n",
    "    notebook=notebook,\n",
    ")"
   ]
  },
  {
   "cell_type": "code",
   "execution_count": 27,
   "metadata": {
    "pycharm": {
     "name": "#%%\n"
    }
   },
   "outputs": [],
   "source": [
    "EntityStore.delete(experiment.eid)"
   ]
  },
  {
   "cell_type": "code",
   "execution_count": null,
   "metadata": {
    "pycharm": {
     "name": "#%%\n"
    }
   },
   "outputs": [],
   "source": []
  }
 ],
 "metadata": {
  "kernelspec": {
   "display_name": "Python 3 (ipykernel)",
   "language": "python",
   "name": "python3"
  },
  "language_info": {
   "codemirror_mode": {
    "name": "ipython",
    "version": 3
   },
   "file_extension": ".py",
   "mimetype": "text/x-python",
   "name": "python",
   "nbconvert_exporter": "python",
   "pygments_lexer": "ipython3",
   "version": "3.9.7"
  }
 },
 "nbformat": 4,
 "nbformat_minor": 1
}
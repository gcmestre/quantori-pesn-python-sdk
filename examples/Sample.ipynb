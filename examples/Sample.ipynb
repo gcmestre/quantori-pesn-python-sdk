{
 "cells": [
  {
   "cell_type": "code",
   "execution_count": 1,
   "outputs": [],
   "source": [
    "%load_ext dotenv\n",
    "%dotenv\n",
    "import os\n",
    "\n",
    "SN_API_HOST = os.getenv('SN_API_HOST')\n",
    "SN_API_KEY = os.getenv('SN_API_KEY')"
   ],
   "metadata": {
    "collapsed": false,
    "pycharm": {
     "name": "#%%\n"
    }
   }
  },
  {
   "cell_type": "code",
   "execution_count": 2,
   "outputs": [
    {
     "data": {
      "text/plain": "<signals_notebook.api.SignalsNotebookApi at 0x1e5d05194c0>"
     },
     "execution_count": 2,
     "metadata": {},
     "output_type": "execute_result"
    }
   ],
   "source": [
    "from signals_notebook.api import SignalsNotebookApi\n",
    "SignalsNotebookApi.init(SN_API_HOST, SN_API_KEY)"
   ],
   "metadata": {
    "collapsed": false,
    "pycharm": {
     "name": "#%%\n"
    }
   }
  },
  {
   "cell_type": "code",
   "execution_count": 3,
   "outputs": [],
   "source": [
    "from signals_notebook.entities.entity_store import EntityStore"
   ],
   "metadata": {
    "collapsed": false,
    "pycharm": {
     "name": "#%%\n"
    }
   }
  },
  {
   "cell_type": "code",
   "execution_count": 4,
   "outputs": [],
   "source": [
    "sample = EntityStore.get('sample:ef8f39e5-3309-4f85-abd6-3ceedce0d8a6')"
   ],
   "metadata": {
    "collapsed": false,
    "pycharm": {
     "name": "#%%\n"
    }
   }
  },
  {
   "cell_type": "code",
   "execution_count": 5,
   "outputs": [
    {
     "data": {
      "text/plain": "Sample(type=<EntityType.SAMPLE: 'sample'>, eid='sample:ef8f39e5-3309-4f85-abd6-3ceedce0d8a6', digest='31720794', name='Sample-1777', description='', created_at=datetime.datetime(2022, 6, 13, 13, 55, 51, 150000, tzinfo=datetime.timezone.utc), edited_at=datetime.datetime(2022, 6, 16, 11, 24, 24, 461000, tzinfo=datetime.timezone.utc))"
     },
     "execution_count": 5,
     "metadata": {},
     "output_type": "execute_result"
    }
   ],
   "source": [
    "sample"
   ],
   "metadata": {
    "collapsed": false,
    "pycharm": {
     "name": "#%%\n"
    }
   }
  },
  {
   "cell_type": "code",
   "execution_count": 6,
   "outputs": [],
   "source": [
    "for item in sample:\n",
    "    if item.id == '2':\n",
    "        item.content.set_value('5545')"
   ],
   "metadata": {
    "collapsed": false,
    "pycharm": {
     "name": "#%%\n"
    }
   }
  },
  {
   "cell_type": "code",
   "execution_count": 7,
   "outputs": [
    {
     "name": "stdout",
     "output_type": "stream",
     "text": [
      "id=UUID('b718adec-73e0-3ce3-ac72-0dd11a06a308') name='ID' content=CellPropertyContent(value='Sample-1777', name=None, eid=None, values=None)\n",
      "id=UUID('278c491b-dd8a-3361-8c14-9c4ac790da34') name='Template' content=CellPropertyContent(value='Sample', name=None, eid=None, values=None)\n",
      "id='digests.self' name=None content=CellPropertyContent(value=None, name=None, eid=None, values=None)\n",
      "id='digests.external' name=None content=CellPropertyContent(value=None, name=None, eid=None, values=None)\n",
      "id='1' name='Created Date' content=CellPropertyContent(value='2022-06-13T13:55:51.211451408Z', name=None, eid=None, values=None)\n",
      "id='2' name='Description' content=CellPropertyContent(value='5545', name=None, eid=None, values=None)\n",
      "id='3' name='Comments' content=CellPropertyContent(value='999', name=None, eid=None, values=None)\n",
      "id='4' name='Amount' content=CellPropertyContent(value=None, name=None, eid=None, values=None)\n",
      "id='10' name='Attached Docs' content=CellPropertyContent(value='0', name=None, eid='sample:ef8f39e5-3309-4f85-abd6-3ceedce0d8a6', values=None)\n",
      "id='sampleId' name='ID' content=CellPropertyContent(value='sample:ef8f39e5-3309-4f85-abd6-3ceedce0d8a6', name=None, eid=None, values=None)\n",
      "id='sourceName' name='Template' content=CellPropertyContent(value='Sample', name=None, eid=None, values=None)\n"
     ]
    }
   ],
   "source": [
    "for item in sample:\n",
    "    print(item)"
   ],
   "metadata": {
    "collapsed": false,
    "pycharm": {
     "name": "#%%\n"
    }
   }
  },
  {
   "cell_type": "code",
   "execution_count": 8,
   "outputs": [],
   "source": [
    "sample.save()"
   ],
   "metadata": {
    "collapsed": false,
    "pycharm": {
     "name": "#%%\n"
    }
   }
  },
  {
   "cell_type": "code",
   "execution_count": 9,
   "outputs": [],
   "source": [
    "from signals_notebook.entities import Sample\n",
    "experiment = EntityStore.get(\"experiment:f7fb12b2-1180-4fa0-9bcd-ccc2f7ec0e8f\")"
   ],
   "metadata": {
    "collapsed": false,
    "pycharm": {
     "name": "#%%\n"
    }
   }
  },
  {
   "cell_type": "code",
   "execution_count": 10,
   "outputs": [],
   "source": [
    "from signals_notebook.entities import SampleProperty\n",
    "from signals_notebook.entities.samples.cell import CellPropertyContent\n",
    "\n",
    "new_sample_property = SampleProperty(\n",
    "    id='3',\n",
    "    content=CellPropertyContent(value='create_NEW_SAMPLE'),\n",
    ")\n",
    "template_sample = EntityStore.get('sample:fcaa5e11-ace8-4d2c-a212-293dad3c2122')\n",
    "new_sample = Sample.create(\n",
    "    properties=[new_sample_property],\n",
    "    template=template_sample,\n",
    "    ancestors=[experiment],\n",
    ")"
   ],
   "metadata": {
    "collapsed": false,
    "pycharm": {
     "name": "#%%\n"
    }
   }
  },
  {
   "cell_type": "code",
   "execution_count": 11,
   "outputs": [
    {
     "data": {
      "text/plain": "Sample(type=<EntityType.SAMPLE: 'sample'>, eid='sample:8c1abb55-7aed-48f2-9147-d7d1f5cffa26', digest='87234418', name='Sample-1783', description='', created_at=datetime.datetime(2022, 6, 17, 9, 30, 40, 774000, tzinfo=datetime.timezone.utc), edited_at=datetime.datetime(2022, 6, 17, 9, 30, 40, 774000, tzinfo=datetime.timezone.utc))"
     },
     "execution_count": 11,
     "metadata": {},
     "output_type": "execute_result"
    }
   ],
   "source": [
    "new_sample"
   ],
   "metadata": {
    "collapsed": false,
    "pycharm": {
     "name": "#%%\n"
    }
   }
  },
  {
   "cell_type": "code",
   "execution_count": 12,
   "outputs": [],
   "source": [
    "new_sample.delete()"
   ],
   "metadata": {
    "collapsed": false,
    "pycharm": {
     "name": "#%%\n"
    }
   }
  }
 ],
 "metadata": {
  "kernelspec": {
   "display_name": "Python 3",
   "language": "python",
   "name": "python3"
  },
  "language_info": {
   "codemirror_mode": {
    "name": "ipython",
    "version": 2
   },
   "file_extension": ".py",
   "mimetype": "text/x-python",
   "name": "python",
   "nbconvert_exporter": "python",
   "pygments_lexer": "ipython2",
   "version": "2.7.6"
  }
 },
 "nbformat": 4,
 "nbformat_minor": 0
}
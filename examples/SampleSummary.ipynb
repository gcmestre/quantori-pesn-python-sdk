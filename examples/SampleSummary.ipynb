{
 "cells": [
  {
   "cell_type": "code",
   "execution_count": 1,
   "outputs": [],
   "source": [
    "%load_ext dotenv\n",
    "%dotenv\n",
    "import os\n",
    "\n",
    "SN_API_HOST = os.getenv('SN_API_HOST')\n",
    "SN_API_KEY = os.getenv('SN_API_KEY')"
   ],
   "metadata": {
    "collapsed": false,
    "pycharm": {
     "name": "#%%\n"
    }
   }
  },
  {
   "cell_type": "code",
   "execution_count": 2,
   "outputs": [
    {
     "data": {
      "text/plain": "<signals_notebook.api.SignalsNotebookApi at 0x2375bb84400>"
     },
     "execution_count": 2,
     "metadata": {},
     "output_type": "execute_result"
    }
   ],
   "source": [
    "from signals_notebook.api import SignalsNotebookApi\n",
    "SignalsNotebookApi.init(SN_API_HOST, SN_API_KEY)"
   ],
   "metadata": {
    "collapsed": false,
    "pycharm": {
     "name": "#%%\n"
    }
   }
  },
  {
   "cell_type": "code",
   "execution_count": 3,
   "outputs": [],
   "source": [
    "from signals_notebook.entities.entity_store import EntityStore\n",
    "sample_summary = EntityStore.get('paraSamplesGrid:7ceaecb1-65e8-4e91-baa6-9401d93f8538')"
   ],
   "metadata": {
    "collapsed": false,
    "pycharm": {
     "name": "#%%\n"
    }
   }
  },
  {
   "cell_type": "code",
   "execution_count": 4,
   "outputs": [
    {
     "data": {
      "text/plain": "SampleSummary(type=<EntityType.SAMPLE_SUMMARY: 'paraSamplesGrid'>, eid='paraSamplesGrid:7ceaecb1-65e8-4e91-baa6-9401d93f8538', digest='44192643', name='Sample Summary', description='', created_at=datetime.datetime(2022, 6, 6, 8, 47, 49, 213000, tzinfo=datetime.timezone.utc), edited_at=datetime.datetime(2022, 6, 8, 10, 35, 27, 253000, tzinfo=datetime.timezone.utc))"
     },
     "execution_count": 4,
     "metadata": {},
     "output_type": "execute_result"
    }
   ],
   "source": [
    "sample_summary"
   ],
   "metadata": {
    "collapsed": false,
    "pycharm": {
     "name": "#%%\n"
    }
   }
  },
  {
   "cell_type": "code",
   "execution_count": 5,
   "outputs": [
    {
     "data": {
      "text/plain": "[Sample(type=<EntityType.SAMPLE: 'sample'>, eid='sample:0f96db87-a4af-46ae-9aff-711867f23d73', digest='82858260', name='Sample-1764', description='', created_at=datetime.datetime(2022, 6, 6, 8, 54, 51, 624000, tzinfo=datetime.timezone.utc), edited_at=datetime.datetime(2022, 6, 6, 8, 54, 51, 624000, tzinfo=datetime.timezone.utc), fields={'Amount': FieldData(display='1 g', value='1', units='g', eid=None), 'Attached Docs': FieldData(display=None, value='0', units=None, eid='sample:0f96db87-a4af-46ae-9aff-711867f23d73'), 'Comments': FieldData(display=None, value='Comments 1', units=None, eid=None), 'Created Date': FieldData(display=None, value='2022-06-06T08:54:51.677884071Z', units=None, eid=None), 'Description': FieldData(display=None, value='Description 1', units=None, eid=None), 'ID': FieldData(display='Sample-1764', value='sample:0f96db87-a4af-46ae-9aff-711867f23d73', units=None, eid=None), 'Name': FieldData(display='Sub-experiment-1', value='parasubexp:413779cf-16b9-49ce-bb85-85b2fa6964da', units=None, eid=None), 'Template': FieldData(display=None, value='Sample', units=None, eid=None)}),\n Sample(type=<EntityType.SAMPLE: 'sample'>, eid='sample:ba804b7d-f61c-4a8b-b2f9-4be4652b6286', digest='47537404', name='Sample-1774', description='', created_at=datetime.datetime(2022, 6, 8, 10, 35, 27, 253000, tzinfo=datetime.timezone.utc), edited_at=datetime.datetime(2022, 6, 8, 10, 35, 27, 253000, tzinfo=datetime.timezone.utc), fields={'Attached Docs': FieldData(display=None, value='0', units=None, eid='sample:ba804b7d-f61c-4a8b-b2f9-4be4652b6286'), 'Created Date': FieldData(display=None, value='2022-06-08T10:35:27.346810619Z', units=None, eid=None), 'ID': FieldData(display='Sample-1774', value='sample:ba804b7d-f61c-4a8b-b2f9-4be4652b6286', units=None, eid=None), 'Name': FieldData(display='Sub-experiment-3', value='parasubexp:797df7e4-81b1-43b5-93b1-933f2b6082a5', units=None, eid=None), 'Template': FieldData(display=None, value='Sample', units=None, eid=None)})]"
     },
     "execution_count": 5,
     "metadata": {},
     "output_type": "execute_result"
    }
   ],
   "source": [
    "list(sample_summary.fetch_samples_from_sample_summary())"
   ],
   "metadata": {
    "collapsed": false,
    "pycharm": {
     "name": "#%%\n"
    }
   }
  },
  {
   "cell_type": "code",
   "execution_count": 6,
   "outputs": [
    {
     "ename": "SignalsNotebookError",
     "evalue": "<SignalsNotebookError status=400 code=BadRequest> title= detail=Sample id(s) is in wrong format.>",
     "output_type": "error",
     "traceback": [
      "\u001B[1;31m---------------------------------------------------------------------------\u001B[0m",
      "\u001B[1;31mSignalsNotebookError\u001B[0m                      Traceback (most recent call last)",
      "Input \u001B[1;32mIn [6]\u001B[0m, in \u001B[0;36m<cell line: 1>\u001B[1;34m()\u001B[0m\n\u001B[1;32m----> 1\u001B[0m \u001B[43msample_summary\u001B[49m\u001B[38;5;241;43m.\u001B[39;49m\u001B[43mfetch_sample_from_table\u001B[49m\u001B[43m(\u001B[49m\u001B[38;5;124;43m'\u001B[39;49m\u001B[38;5;124;43msamplesContainer:b66ca054-3288-4b32-8892-2da8c2282bb8\u001B[39;49m\u001B[38;5;124;43m'\u001B[39;49m\u001B[43m)\u001B[49m\n",
      "File \u001B[1;32mC:\\coding\\pesn-python-sdk\\src\\signals_notebook\\entities\\samples\\sample_tables_base.py:33\u001B[0m, in \u001B[0;36mSamplesTableBase.fetch_sample_from_table\u001B[1;34m(self, sample_ids, fields)\u001B[0m\n\u001B[0;32m     30\u001B[0m         sample_fields \u001B[38;5;241m+\u001B[39m\u001B[38;5;241m=\u001B[39m \u001B[38;5;124m'\u001B[39m\u001B[38;5;124m&fields[samplesTableColumn]=\u001B[39m\u001B[38;5;124m'\u001B[39m \u001B[38;5;241m+\u001B[39m field\n\u001B[0;32m     31\u001B[0m     sample_fields \u001B[38;5;241m=\u001B[39m sample_fields[\u001B[38;5;241m1\u001B[39m:]\n\u001B[1;32m---> 33\u001B[0m response \u001B[38;5;241m=\u001B[39m \u001B[43mapi\u001B[49m\u001B[38;5;241;43m.\u001B[39;49m\u001B[43mcall\u001B[49m\u001B[43m(\u001B[49m\n\u001B[0;32m     34\u001B[0m \u001B[43m    \u001B[49m\u001B[43mmethod\u001B[49m\u001B[38;5;241;43m=\u001B[39;49m\u001B[38;5;124;43m'\u001B[39;49m\u001B[38;5;124;43mGET\u001B[39;49m\u001B[38;5;124;43m'\u001B[39;49m\u001B[43m,\u001B[49m\n\u001B[0;32m     35\u001B[0m \u001B[43m    \u001B[49m\u001B[43mpath\u001B[49m\u001B[38;5;241;43m=\u001B[39;49m\u001B[43m(\u001B[49m\u001B[38;5;28;43mself\u001B[39;49m\u001B[38;5;241;43m.\u001B[39;49m\u001B[43m_get_sample_tables_endpoint\u001B[49m\u001B[43m(\u001B[49m\u001B[43m)\u001B[49m\u001B[43m,\u001B[49m\u001B[43m \u001B[49m\u001B[38;5;28;43mself\u001B[39;49m\u001B[38;5;241;43m.\u001B[39;49m\u001B[43meid\u001B[49m\u001B[43m,\u001B[49m\u001B[43m \u001B[49m\u001B[38;5;124;43m'\u001B[39;49m\u001B[38;5;124;43mrows\u001B[39;49m\u001B[38;5;124;43m'\u001B[39;49m\u001B[43m)\u001B[49m\u001B[43m,\u001B[49m\n\u001B[0;32m     36\u001B[0m \u001B[43m    \u001B[49m\u001B[43mparams\u001B[49m\u001B[38;5;241;43m=\u001B[39;49m\u001B[43m{\u001B[49m\n\u001B[0;32m     37\u001B[0m \u001B[43m        \u001B[49m\u001B[38;5;124;43m'\u001B[39;49m\u001B[38;5;124;43msampleIds\u001B[39;49m\u001B[38;5;124;43m'\u001B[39;49m\u001B[43m:\u001B[49m\u001B[43m \u001B[49m\u001B[43msample_ids\u001B[49m\u001B[43m,\u001B[49m\n\u001B[0;32m     38\u001B[0m \u001B[43m        \u001B[49m\u001B[38;5;124;43m'\u001B[39;49m\u001B[38;5;124;43mfields\u001B[39;49m\u001B[38;5;124;43m'\u001B[39;49m\u001B[43m:\u001B[49m\u001B[43m \u001B[49m\u001B[43msample_fields\u001B[49m\u001B[43m,\u001B[49m\n\u001B[0;32m     39\u001B[0m \u001B[43m    \u001B[49m\u001B[43m}\u001B[49m\u001B[43m,\u001B[49m\n\u001B[0;32m     40\u001B[0m \u001B[43m\u001B[49m\u001B[43m)\u001B[49m\n\u001B[0;32m     41\u001B[0m \u001B[38;5;28mprint\u001B[39m(response\u001B[38;5;241m.\u001B[39mjson())\n",
      "File \u001B[1;32mC:\\coding\\pesn-python-sdk\\src\\signals_notebook\\api.py:118\u001B[0m, in \u001B[0;36mSignalsNotebookApi.call\u001B[1;34m(self, method, path, params, data, json, headers)\u001B[0m\n\u001B[0;32m    112\u001B[0m \u001B[38;5;28;01mif\u001B[39;00m \u001B[38;5;129;01mnot\u001B[39;00m response\u001B[38;5;241m.\u001B[39mok:\n\u001B[0;32m    113\u001B[0m     log\u001B[38;5;241m.\u001B[39merror(\n\u001B[0;32m    114\u001B[0m         \u001B[38;5;124m'\u001B[39m\u001B[38;5;124mError has been occurred while getting response, status code: \u001B[39m\u001B[38;5;132;01m%s\u001B[39;00m\u001B[38;5;124m'\u001B[39m,\n\u001B[0;32m    115\u001B[0m         response\u001B[38;5;241m.\u001B[39mstatus_code,\n\u001B[0;32m    116\u001B[0m         extra\u001B[38;5;241m=\u001B[39m{\u001B[38;5;124m'\u001B[39m\u001B[38;5;124mresponse\u001B[39m\u001B[38;5;124m'\u001B[39m: response},\n\u001B[0;32m    117\u001B[0m     )\n\u001B[1;32m--> 118\u001B[0m     \u001B[38;5;28;01mraise\u001B[39;00m SignalsNotebookError(response)\n\u001B[0;32m    119\u001B[0m log\u001B[38;5;241m.\u001B[39minfo(\u001B[38;5;124m'\u001B[39m\u001B[38;5;124mSuccessful request - HTTP url: \u001B[39m\u001B[38;5;132;01m%s\u001B[39;00m\u001B[38;5;124m, status code: \u001B[39m\u001B[38;5;132;01m%s\u001B[39;00m\u001B[38;5;124m'\u001B[39m, response\u001B[38;5;241m.\u001B[39murl, response\u001B[38;5;241m.\u001B[39mstatus_code)\n\u001B[0;32m    121\u001B[0m \u001B[38;5;28;01mreturn\u001B[39;00m response\n",
      "\u001B[1;31mSignalsNotebookError\u001B[0m: <SignalsNotebookError status=400 code=BadRequest> title= detail=Sample id(s) is in wrong format.>"
     ]
    }
   ],
   "source": [
    "sample_summary.fetch_sample_from_table('samplesContainer:b66ca054-3288-4b32-8892-2da8c2282bb8')"
   ],
   "metadata": {
    "collapsed": false,
    "pycharm": {
     "name": "#%%\n"
    }
   }
  }
 ],
 "metadata": {
  "kernelspec": {
   "display_name": "Python 3",
   "language": "python",
   "name": "python3"
  },
  "language_info": {
   "codemirror_mode": {
    "name": "ipython",
    "version": 2
   },
   "file_extension": ".py",
   "mimetype": "text/x-python",
   "name": "python",
   "nbconvert_exporter": "python",
   "pygments_lexer": "ipython2",
   "version": "2.7.6"
  }
 },
 "nbformat": 4,
 "nbformat_minor": 0
}
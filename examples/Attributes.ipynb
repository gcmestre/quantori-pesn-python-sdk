{
 "cells": [
  {
   "cell_type": "code",
   "execution_count": 1,
   "outputs": [],
   "source": [
    "%load_ext dotenv\n",
    "%dotenv\n",
    "import os\n",
    "\n",
    "SN_API_HOST = os.getenv('SN_API_HOST')\n",
    "SN_API_KEY = os.getenv('SN_API_KEY')"
   ],
   "metadata": {
    "collapsed": false,
    "pycharm": {
     "name": "#%%\n"
    }
   }
  },
  {
   "cell_type": "code",
   "execution_count": 2,
   "metadata": {
    "collapsed": true,
    "pycharm": {
     "name": "#%%\n"
    }
   },
   "outputs": [
    {
     "data": {
      "text/plain": "<signals_notebook.api.SignalsNotebookApi at 0x208d1e101f0>"
     },
     "execution_count": 2,
     "metadata": {},
     "output_type": "execute_result"
    }
   ],
   "source": [
    "from signals_notebook.api import SignalsNotebookApi\n",
    "SignalsNotebookApi.init(SN_API_HOST, SN_API_KEY)"
   ]
  },
  {
   "cell_type": "code",
   "execution_count": 3,
   "outputs": [],
   "source": [
    "from signals_notebook.attributes.attribute import Attribute\n"
   ],
   "metadata": {
    "collapsed": false,
    "pycharm": {
     "name": "#%%\n"
    }
   }
  },
  {
   "cell_type": "code",
   "execution_count": 4,
   "outputs": [
    {
     "data": {
      "text/plain": "Attribute(type='date', id='attribute:2', name='Date')"
     },
     "execution_count": 4,
     "metadata": {},
     "output_type": "execute_result"
    }
   ],
   "source": [
    "attribute = Attribute.get('attribute:2')\n",
    "attribute"
   ],
   "metadata": {
    "collapsed": false,
    "pycharm": {
     "name": "#%%\n"
    }
   }
  },
  {
   "cell_type": "code",
   "execution_count": 5,
   "outputs": [
    {
     "data": {
      "text/plain": "[AttributeOption(id='CURRENT_DATE', key='CURRENT_DATE', value='CURRENT_DATE')]"
     },
     "execution_count": 5,
     "metadata": {},
     "output_type": "execute_result"
    }
   ],
   "source": [
    "attribute.options"
   ],
   "metadata": {
    "collapsed": false,
    "pycharm": {
     "name": "#%%\n"
    }
   }
  },
  {
   "cell_type": "code",
   "execution_count": 6,
   "outputs": [
    {
     "data": {
      "text/plain": "[Attribute(type='attribute', id='attribute:8', name='GHS Signal Words'),\n Attribute(type='attribute', id='attribute:10', name='Hazard Statements'),\n Attribute(type='attribute', id='attribute:11', name='GHS Hazards'),\n Attribute(type='attribute', id='attribute:14', name='Task Status'),\n Attribute(type='attribute', id='attribute:9', name='Precautionary Statements'),\n Attribute(type='attribute', id='attribute:4', name='Material Library Type'),\n Attribute(type='attribute', id='attribute:24', name='HPLC Sample Type'),\n Attribute(type='attribute', id='attribute:26', name='newAttribute'),\n Attribute(type='attribute', id='attribute:20', name='My List Attribute 1 (SK)'),\n Attribute(type='attribute', id='attribute:28', name='test'),\n Attribute(type='attribute', id='attribute:17', name='Inventory Container Library'),\n Attribute(type='attribute', id='attribute:16', name='Inventory Location Library'),\n Attribute(type='attribute', id='attribute:32', name='test1'),\n Attribute(type='attribute', id='attribute:21', name='My Ext List Attribute 1 (SK)'),\n Attribute(type='attribute', id='attribute:40', name='test2'),\n Attribute(type='attribute', id='attribute:41', name='test3'),\n Attribute(type='attribute', id='attribute:42', name='test37'),\n Attribute(type='attribute', id='attribute:25', name='Primer. Forward or Reverse'),\n Attribute(type='attribute', id='attribute:44', name='test327'),\n Attribute(type='attribute', id='attribute:23', name='HPLC Method'),\n Attribute(type='attribute', id='attribute:18', name='Inventory Security'),\n Attribute(type='attribute', id='attribute:19', name='My Number Sequence Attribute 1 (SK)'),\n Attribute(type='attribute', id='attribute:5', name='Product Id'),\n Attribute(type='attribute', id='attribute:6', name='Parallel Subexperiment Id'),\n Attribute(type='attribute', id='attribute:12', name='Sample Id'),\n Attribute(type='attribute', id='attribute:13', name='Task Id'),\n Attribute(type='attribute', id='attribute:15', name='Order Id')]"
     },
     "execution_count": 6,
     "metadata": {},
     "output_type": "execute_result"
    }
   ],
   "source": [
    "attributes = Attribute.get_list()\n",
    "all_attributes = list(attributes)\n",
    "all_attributes"
   ],
   "metadata": {
    "collapsed": false,
    "pycharm": {
     "name": "#%%\n"
    }
   }
  },
  {
   "cell_type": "code",
   "execution_count": 7,
   "outputs": [
    {
     "ename": "SignalsNotebookError",
     "evalue": "<SignalsNotebookError status=409 code=Conflict> title= detail=Failed to create entity  Conflict:{\"error\":409,\"description\":\"com.perkinelmer.elements.commons.exceptions.AttributeAlreadyExistsException: Attribute with name test327 already exists.\",\"causes\":[{\"description\":\"com.perkinelmer.elements.commons.exceptions.AttributeAlreadyExistsException: Attribute with name test327 already exists.\"}]}>",
     "output_type": "error",
     "traceback": [
      "\u001B[1;31m---------------------------------------------------------------------------\u001B[0m",
      "\u001B[1;31mSignalsNotebookError\u001B[0m                      Traceback (most recent call last)",
      "Input \u001B[1;32mIn [7]\u001B[0m, in \u001B[0;36m<cell line: 4>\u001B[1;34m()\u001B[0m\n\u001B[0;32m      1\u001B[0m \u001B[38;5;28;01mfrom\u001B[39;00m \u001B[38;5;21;01msignals_notebook\u001B[39;00m\u001B[38;5;21;01m.\u001B[39;00m\u001B[38;5;21;01mattributes\u001B[39;00m\u001B[38;5;21;01m.\u001B[39;00m\u001B[38;5;21;01mattribute\u001B[39;00m \u001B[38;5;28;01mimport\u001B[39;00m AttributeOption\n\u001B[0;32m      3\u001B[0m option \u001B[38;5;241m=\u001B[39m AttributeOption(\u001B[38;5;28mid\u001B[39m\u001B[38;5;241m=\u001B[39m\u001B[38;5;124m'\u001B[39m\u001B[38;5;124m1\u001B[39m\u001B[38;5;124m'\u001B[39m, key\u001B[38;5;241m=\u001B[39m\u001B[38;5;124m'\u001B[39m\u001B[38;5;124mkey\u001B[39m\u001B[38;5;124m'\u001B[39m, value\u001B[38;5;241m=\u001B[39m\u001B[38;5;124m'\u001B[39m\u001B[38;5;124mvalue\u001B[39m\u001B[38;5;124m'\u001B[39m)\n\u001B[1;32m----> 4\u001B[0m new_attribute \u001B[38;5;241m=\u001B[39m \u001B[43mAttribute\u001B[49m\u001B[38;5;241;43m.\u001B[39;49m\u001B[43mcreate\u001B[49m\u001B[43m(\u001B[49m\u001B[43mname\u001B[49m\u001B[38;5;241;43m=\u001B[39;49m\u001B[38;5;124;43m'\u001B[39;49m\u001B[38;5;124;43mtest327\u001B[39;49m\u001B[38;5;124;43m'\u001B[39;49m\u001B[43m,\u001B[49m\u001B[43m \u001B[49m\u001B[38;5;28;43mtype\u001B[39;49m\u001B[38;5;241;43m=\u001B[39;49m\u001B[38;5;124;43m'\u001B[39;49m\u001B[38;5;124;43mchoice\u001B[39;49m\u001B[38;5;124;43m'\u001B[39;49m\u001B[43m,\u001B[49m\u001B[43m \u001B[49m\u001B[43mdescription\u001B[49m\u001B[38;5;241;43m=\u001B[39;49m\u001B[38;5;124;43m'\u001B[39;49m\u001B[38;5;124;43mdescriptions\u001B[39;49m\u001B[38;5;124;43m'\u001B[39;49m\u001B[43m,\u001B[49m\u001B[43m \u001B[49m\u001B[43moptions\u001B[49m\u001B[38;5;241;43m=\u001B[39;49m\u001B[43m[\u001B[49m\u001B[43moption\u001B[49m\u001B[43m]\u001B[49m\u001B[43m)\u001B[49m\n",
      "File \u001B[1;32mC:\\coding\\pesn-python-sdk\\src\\signals_notebook\\attributes\\attribute.py:190\u001B[0m, in \u001B[0;36mAttribute.create\u001B[1;34m(cls, name, type, description, options)\u001B[0m\n\u001B[0;32m    186\u001B[0m api \u001B[38;5;241m=\u001B[39m SignalsNotebookApi\u001B[38;5;241m.\u001B[39mget_default_api()\n\u001B[0;32m    188\u001B[0m log\u001B[38;5;241m.\u001B[39mdebug(\u001B[38;5;124m'\u001B[39m\u001B[38;5;124mCreate Attribute: \u001B[39m\u001B[38;5;132;01m%s\u001B[39;00m\u001B[38;5;124m...\u001B[39m\u001B[38;5;124m'\u001B[39m, \u001B[38;5;28mcls\u001B[39m\u001B[38;5;241m.\u001B[39m\u001B[38;5;18m__name__\u001B[39m)\n\u001B[1;32m--> 190\u001B[0m response \u001B[38;5;241m=\u001B[39m \u001B[43mapi\u001B[49m\u001B[38;5;241;43m.\u001B[39;49m\u001B[43mcall\u001B[49m\u001B[43m(\u001B[49m\n\u001B[0;32m    191\u001B[0m \u001B[43m    \u001B[49m\u001B[43mmethod\u001B[49m\u001B[38;5;241;43m=\u001B[39;49m\u001B[38;5;124;43m'\u001B[39;49m\u001B[38;5;124;43mPOST\u001B[39;49m\u001B[38;5;124;43m'\u001B[39;49m\u001B[43m,\u001B[49m\n\u001B[0;32m    192\u001B[0m \u001B[43m    \u001B[49m\u001B[43mpath\u001B[49m\u001B[38;5;241;43m=\u001B[39;49m\u001B[43m(\u001B[49m\u001B[38;5;28;43mcls\u001B[39;49m\u001B[38;5;241;43m.\u001B[39;49m\u001B[43m_get_endpoint\u001B[49m\u001B[43m(\u001B[49m\u001B[43m)\u001B[49m\u001B[43m,\u001B[49m\u001B[43m)\u001B[49m\u001B[43m,\u001B[49m\n\u001B[0;32m    193\u001B[0m \u001B[43m    \u001B[49m\u001B[43mjson\u001B[49m\u001B[38;5;241;43m=\u001B[39;49m\u001B[43m{\u001B[49m\n\u001B[0;32m    194\u001B[0m \u001B[43m        \u001B[49m\u001B[38;5;124;43m'\u001B[39;49m\u001B[38;5;124;43mdata\u001B[39;49m\u001B[38;5;124;43m'\u001B[39;49m\u001B[43m:\u001B[49m\u001B[43m \u001B[49m\u001B[43m{\u001B[49m\n\u001B[0;32m    195\u001B[0m \u001B[43m            \u001B[49m\u001B[38;5;124;43m'\u001B[39;49m\u001B[38;5;124;43mtype\u001B[39;49m\u001B[38;5;124;43m'\u001B[39;49m\u001B[43m:\u001B[49m\u001B[43m \u001B[49m\u001B[43mObjectType\u001B[49m\u001B[38;5;241;43m.\u001B[39;49m\u001B[43mATTRIBUTE\u001B[49m\u001B[43m,\u001B[49m\n\u001B[0;32m    196\u001B[0m \u001B[43m            \u001B[49m\u001B[38;5;124;43m'\u001B[39;49m\u001B[38;5;124;43mattributes\u001B[39;49m\u001B[38;5;124;43m'\u001B[39;49m\u001B[43m:\u001B[49m\u001B[43m \u001B[49m\u001B[43m{\u001B[49m\n\u001B[0;32m    197\u001B[0m \u001B[43m                \u001B[49m\u001B[38;5;124;43m'\u001B[39;49m\u001B[38;5;124;43mname\u001B[39;49m\u001B[38;5;124;43m'\u001B[39;49m\u001B[43m:\u001B[49m\u001B[43m \u001B[49m\u001B[43mname\u001B[49m\u001B[43m,\u001B[49m\n\u001B[0;32m    198\u001B[0m \u001B[43m                \u001B[49m\u001B[38;5;124;43m'\u001B[39;49m\u001B[38;5;124;43mtype\u001B[39;49m\u001B[38;5;124;43m'\u001B[39;49m\u001B[43m:\u001B[49m\u001B[43m \u001B[49m\u001B[38;5;28;43mtype\u001B[39;49m\u001B[43m,\u001B[49m\n\u001B[0;32m    199\u001B[0m \u001B[43m                \u001B[49m\u001B[38;5;124;43m'\u001B[39;49m\u001B[38;5;124;43mdescription\u001B[39;49m\u001B[38;5;124;43m'\u001B[39;49m\u001B[43m:\u001B[49m\u001B[43m \u001B[49m\u001B[43mdescription\u001B[49m\u001B[43m,\u001B[49m\n\u001B[0;32m    200\u001B[0m \u001B[43m                \u001B[49m\u001B[38;5;124;43m'\u001B[39;49m\u001B[38;5;124;43moptions\u001B[39;49m\u001B[38;5;124;43m'\u001B[39;49m\u001B[43m:\u001B[49m\u001B[43m \u001B[49m\u001B[43m[\u001B[49m\u001B[43moption\u001B[49m\u001B[38;5;241;43m.\u001B[39;49m\u001B[43mid\u001B[49m\u001B[43m \u001B[49m\u001B[38;5;28;43;01mfor\u001B[39;49;00m\u001B[43m \u001B[49m\u001B[43moption\u001B[49m\u001B[43m \u001B[49m\u001B[38;5;129;43;01min\u001B[39;49;00m\u001B[43m \u001B[49m\u001B[43moptions\u001B[49m\u001B[43m]\u001B[49m\u001B[43m \u001B[49m\u001B[38;5;28;43;01mif\u001B[39;49;00m\u001B[43m \u001B[49m\u001B[43moptions\u001B[49m\u001B[43m \u001B[49m\u001B[38;5;28;43;01melse\u001B[39;49;00m\u001B[43m \u001B[49m\u001B[43m[\u001B[49m\u001B[43m]\u001B[49m\u001B[43m,\u001B[49m\n\u001B[0;32m    201\u001B[0m \u001B[43m            \u001B[49m\u001B[43m}\u001B[49m\u001B[43m,\u001B[49m\n\u001B[0;32m    202\u001B[0m \u001B[43m        \u001B[49m\u001B[43m}\u001B[49m\n\u001B[0;32m    203\u001B[0m \u001B[43m    \u001B[49m\u001B[43m}\u001B[49m\u001B[43m,\u001B[49m\n\u001B[0;32m    204\u001B[0m \u001B[43m\u001B[49m\u001B[43m)\u001B[49m\n\u001B[0;32m    205\u001B[0m log\u001B[38;5;241m.\u001B[39mdebug(\u001B[38;5;124m'\u001B[39m\u001B[38;5;124mAttribute: \u001B[39m\u001B[38;5;132;01m%s\u001B[39;00m\u001B[38;5;124m was created.\u001B[39m\u001B[38;5;124m'\u001B[39m, \u001B[38;5;28mcls\u001B[39m\u001B[38;5;241m.\u001B[39m\u001B[38;5;18m__name__\u001B[39m)\n\u001B[0;32m    207\u001B[0m result \u001B[38;5;241m=\u001B[39m AttributeResponse(\u001B[38;5;241m*\u001B[39m\u001B[38;5;241m*\u001B[39mresponse\u001B[38;5;241m.\u001B[39mjson())\n",
      "File \u001B[1;32mC:\\coding\\pesn-python-sdk\\src\\signals_notebook\\api.py:152\u001B[0m, in \u001B[0;36mSignalsNotebookApi.call\u001B[1;34m(self, method, path, params, data, json, headers)\u001B[0m\n\u001B[0;32m    146\u001B[0m \u001B[38;5;28;01mif\u001B[39;00m \u001B[38;5;129;01mnot\u001B[39;00m response\u001B[38;5;241m.\u001B[39mok:\n\u001B[0;32m    147\u001B[0m     log\u001B[38;5;241m.\u001B[39merror(\n\u001B[0;32m    148\u001B[0m         \u001B[38;5;124m'\u001B[39m\u001B[38;5;124mError has been occurred while getting response, status code: \u001B[39m\u001B[38;5;132;01m%s\u001B[39;00m\u001B[38;5;124m'\u001B[39m,\n\u001B[0;32m    149\u001B[0m         response\u001B[38;5;241m.\u001B[39mstatus_code,\n\u001B[0;32m    150\u001B[0m         extra\u001B[38;5;241m=\u001B[39m{\u001B[38;5;124m'\u001B[39m\u001B[38;5;124mresponse\u001B[39m\u001B[38;5;124m'\u001B[39m: response},\n\u001B[0;32m    151\u001B[0m     )\n\u001B[1;32m--> 152\u001B[0m     \u001B[38;5;28;01mraise\u001B[39;00m SignalsNotebookError(response)\n\u001B[0;32m    153\u001B[0m log\u001B[38;5;241m.\u001B[39minfo(\u001B[38;5;124m'\u001B[39m\u001B[38;5;124mSuccessful request - HTTP url: \u001B[39m\u001B[38;5;132;01m%s\u001B[39;00m\u001B[38;5;124m, status code: \u001B[39m\u001B[38;5;132;01m%s\u001B[39;00m\u001B[38;5;124m'\u001B[39m, response\u001B[38;5;241m.\u001B[39murl, response\u001B[38;5;241m.\u001B[39mstatus_code)\n\u001B[0;32m    155\u001B[0m \u001B[38;5;28;01mreturn\u001B[39;00m response\n",
      "\u001B[1;31mSignalsNotebookError\u001B[0m: <SignalsNotebookError status=409 code=Conflict> title= detail=Failed to create entity  Conflict:{\"error\":409,\"description\":\"com.perkinelmer.elements.commons.exceptions.AttributeAlreadyExistsException: Attribute with name test327 already exists.\",\"causes\":[{\"description\":\"com.perkinelmer.elements.commons.exceptions.AttributeAlreadyExistsException: Attribute with name test327 already exists.\"}]}>"
     ]
    }
   ],
   "source": [
    "from signals_notebook.attributes.attribute import AttributeOption\n",
    "\n",
    "option = AttributeOption(id='1', key='key', value='value')\n",
    "new_attribute = Attribute.create(name='test327', type='choice', description='descriptions', options=[option])"
   ],
   "metadata": {
    "collapsed": false,
    "pycharm": {
     "name": "#%%\n"
    }
   }
  },
  {
   "cell_type": "code",
   "execution_count": null,
   "outputs": [],
   "source": [
    "new_attribute"
   ],
   "metadata": {
    "collapsed": false,
    "pycharm": {
     "name": "#%%\n"
    }
   }
  },
  {
   "cell_type": "code",
   "execution_count": null,
   "outputs": [],
   "source": [
    "new_attribute.options"
   ],
   "metadata": {
    "collapsed": false,
    "pycharm": {
     "name": "#%%\n"
    }
   }
  },
  {
   "cell_type": "code",
   "execution_count": null,
   "outputs": [],
   "source": [
    "new_attribute.delete()"
   ],
   "metadata": {
    "collapsed": false,
    "pycharm": {
     "name": "#%%\n"
    }
   }
  },
  {
   "cell_type": "code",
   "execution_count": null,
   "outputs": [],
   "source": [
    "attribute['CURRENT_DATE']"
   ],
   "metadata": {
    "collapsed": false,
    "pycharm": {
     "name": "#%%\n"
    }
   }
  },
  {
   "cell_type": "code",
   "execution_count": null,
   "outputs": [],
   "source": [
    "attribute['Invalid']"
   ],
   "metadata": {
    "collapsed": false,
    "pycharm": {
     "name": "#%%\n"
    }
   }
  },
  {
   "cell_type": "code",
   "execution_count": null,
   "outputs": [],
   "source": [
    "attribute = Attribute.get('attribute:18')\n",
    "attribute"
   ],
   "metadata": {
    "collapsed": false,
    "pycharm": {
     "name": "#%%\n"
    }
   }
  },
  {
   "cell_type": "code",
   "execution_count": null,
   "outputs": [],
   "source": [
    "attribute.options"
   ],
   "metadata": {
    "collapsed": false,
    "pycharm": {
     "name": "#%%\n"
    }
   }
  },
  {
   "cell_type": "code",
   "execution_count": null,
   "outputs": [],
   "source": [
    "attribute.options[0].is_deleted"
   ],
   "metadata": {
    "collapsed": false,
    "pycharm": {
     "name": "#%%\n"
    }
   }
  },
  {
   "cell_type": "code",
   "execution_count": null,
   "outputs": [],
   "source": [
    "attribute.append(option)\n",
    "attribute.options"
   ],
   "metadata": {
    "collapsed": false,
    "pycharm": {
     "name": "#%%\n"
    }
   }
  },
  {
   "cell_type": "code",
   "execution_count": null,
   "outputs": [],
   "source": [
    "attribute.save()\n",
    "attribute.options"
   ],
   "metadata": {
    "collapsed": false,
    "pycharm": {
     "name": "#%%\n"
    }
   }
  },
  {
   "cell_type": "code",
   "execution_count": null,
   "outputs": [],
   "source": [
    "attribute.options[-1].delete()\n",
    "attribute.options[-1].is_deleted"
   ],
   "metadata": {
    "collapsed": false,
    "pycharm": {
     "name": "#%%\n"
    }
   }
  },
  {
   "cell_type": "code",
   "execution_count": null,
   "outputs": [],
   "source": [
    "attribute.save()\n",
    "attribute.options"
   ],
   "metadata": {
    "collapsed": false,
    "pycharm": {
     "name": "#%%\n"
    }
   }
  },
  {
   "cell_type": "code",
   "execution_count": 8,
   "outputs": [
    {
     "data": {
      "text/plain": "Attribute(type='choice', id='attribute:18', name='Inventory Security')"
     },
     "execution_count": 8,
     "metadata": {},
     "output_type": "execute_result"
    }
   ],
   "source": [
    "attribute2 = Attribute.get('attribute:18')\n",
    "attribute2"
   ],
   "metadata": {
    "collapsed": false,
    "pycharm": {
     "name": "#%%\n"
    }
   }
  },
  {
   "cell_type": "code",
   "execution_count": 9,
   "outputs": [
    {
     "data": {
      "text/plain": "[AttributeOption(id='option1', key='option1', value='option1'),\n AttributeOption(id='option2', key='option2', value='option2'),\n AttributeOption(id='option3', key='option3', value='option3'),\n AttributeOption(id='option10', key='option10', value='option10'),\n AttributeOption(id='value', key='value', value='value')]"
     },
     "execution_count": 9,
     "metadata": {},
     "output_type": "execute_result"
    }
   ],
   "source": [
    "attribute2.options"
   ],
   "metadata": {
    "collapsed": false,
    "pycharm": {
     "name": "#%%\n"
    }
   }
  },
  {
   "cell_type": "code",
   "execution_count": 10,
   "outputs": [
    {
     "ename": "SignalsNotebookError",
     "evalue": "<SignalsNotebookError status=400 code=BadRequest> title=The request parameters are in bad format. detail=The option with same value exists. Option:value.>",
     "output_type": "error",
     "traceback": [
      "\u001B[1;31m---------------------------------------------------------------------------\u001B[0m",
      "\u001B[1;31mSignalsNotebookError\u001B[0m                      Traceback (most recent call last)",
      "Input \u001B[1;32mIn [10]\u001B[0m, in \u001B[0;36m<cell line: 1>\u001B[1;34m()\u001B[0m\n\u001B[1;32m----> 1\u001B[0m \u001B[43mattribute2\u001B[49m\u001B[38;5;241;43m.\u001B[39;49m\u001B[43mappend\u001B[49m\u001B[43m(\u001B[49m\u001B[43moption\u001B[49m\u001B[43m)\u001B[49m\n\u001B[0;32m      2\u001B[0m attribute2\u001B[38;5;241m.\u001B[39moptions\n",
      "File \u001B[1;32mC:\\coding\\pesn-python-sdk\\src\\signals_notebook\\attributes\\attribute.py:215\u001B[0m, in \u001B[0;36mAttribute.append\u001B[1;34m(self, option)\u001B[0m\n\u001B[0;32m    213\u001B[0m \u001B[38;5;28mself\u001B[39m\u001B[38;5;241m.\u001B[39m_options\u001B[38;5;241m.\u001B[39mappend(option)\n\u001B[0;32m    214\u001B[0m \u001B[38;5;28mself\u001B[39m\u001B[38;5;241m.\u001B[39m_options_by_id[option\u001B[38;5;241m.\u001B[39mkey] \u001B[38;5;241m=\u001B[39m option\n\u001B[1;32m--> 215\u001B[0m \u001B[38;5;28;43mself\u001B[39;49m\u001B[38;5;241;43m.\u001B[39;49m\u001B[43msave\u001B[49m\u001B[43m(\u001B[49m\u001B[43m)\u001B[49m\n\u001B[0;32m    216\u001B[0m option\u001B[38;5;241m.\u001B[39mswitch_created()\n",
      "File \u001B[1;32mC:\\coding\\pesn-python-sdk\\src\\signals_notebook\\attributes\\attribute.py:234\u001B[0m, in \u001B[0;36mAttribute.save\u001B[1;34m(self)\u001B[0m\n\u001B[0;32m    231\u001B[0m     \u001B[38;5;28;01mreturn\u001B[39;00m\n\u001B[0;32m    233\u001B[0m api \u001B[38;5;241m=\u001B[39m SignalsNotebookApi\u001B[38;5;241m.\u001B[39mget_default_api()\n\u001B[1;32m--> 234\u001B[0m \u001B[43mapi\u001B[49m\u001B[38;5;241;43m.\u001B[39;49m\u001B[43mcall\u001B[49m\u001B[43m(\u001B[49m\n\u001B[0;32m    235\u001B[0m \u001B[43m    \u001B[49m\u001B[43mmethod\u001B[49m\u001B[38;5;241;43m=\u001B[39;49m\u001B[38;5;124;43m'\u001B[39;49m\u001B[38;5;124;43mPATCH\u001B[39;49m\u001B[38;5;124;43m'\u001B[39;49m\u001B[43m,\u001B[49m\n\u001B[0;32m    236\u001B[0m \u001B[43m    \u001B[49m\u001B[43mpath\u001B[49m\u001B[38;5;241;43m=\u001B[39;49m\u001B[43m(\u001B[49m\u001B[38;5;28;43mself\u001B[39;49m\u001B[38;5;241;43m.\u001B[39;49m\u001B[43m_get_endpoint\u001B[49m\u001B[43m(\u001B[49m\u001B[43m)\u001B[49m\u001B[43m,\u001B[49m\u001B[43m \u001B[49m\u001B[38;5;28;43mself\u001B[39;49m\u001B[38;5;241;43m.\u001B[39;49m\u001B[43mid\u001B[49m\u001B[43m,\u001B[49m\u001B[43m \u001B[49m\u001B[38;5;124;43m'\u001B[39;49m\u001B[38;5;124;43moptions\u001B[39;49m\u001B[38;5;124;43m'\u001B[39;49m\u001B[43m)\u001B[49m\u001B[43m,\u001B[49m\n\u001B[0;32m    237\u001B[0m \u001B[43m    \u001B[49m\u001B[43mjson\u001B[49m\u001B[38;5;241;43m=\u001B[39;49m\u001B[43m{\u001B[49m\u001B[38;5;124;43m'\u001B[39;49m\u001B[38;5;124;43mdata\u001B[39;49m\u001B[38;5;124;43m'\u001B[39;49m\u001B[43m:\u001B[49m\u001B[43m \u001B[49m\u001B[43moptions\u001B[49m\u001B[43m}\u001B[49m\u001B[43m,\u001B[49m\n\u001B[0;32m    238\u001B[0m \u001B[43m\u001B[49m\u001B[43m)\u001B[49m\n\u001B[0;32m    239\u001B[0m \u001B[38;5;28mself\u001B[39m\u001B[38;5;241m.\u001B[39m_reload_options()\n\u001B[0;32m    240\u001B[0m log\u001B[38;5;241m.\u001B[39mdebug(\u001B[38;5;124m'\u001B[39m\u001B[38;5;124mAttribute: \u001B[39m\u001B[38;5;132;01m%s\u001B[39;00m\u001B[38;5;124m was saved successfully\u001B[39m\u001B[38;5;124m'\u001B[39m, \u001B[38;5;28mself\u001B[39m\u001B[38;5;241m.\u001B[39mid)\n",
      "File \u001B[1;32mC:\\coding\\pesn-python-sdk\\src\\signals_notebook\\api.py:152\u001B[0m, in \u001B[0;36mSignalsNotebookApi.call\u001B[1;34m(self, method, path, params, data, json, headers)\u001B[0m\n\u001B[0;32m    146\u001B[0m \u001B[38;5;28;01mif\u001B[39;00m \u001B[38;5;129;01mnot\u001B[39;00m response\u001B[38;5;241m.\u001B[39mok:\n\u001B[0;32m    147\u001B[0m     log\u001B[38;5;241m.\u001B[39merror(\n\u001B[0;32m    148\u001B[0m         \u001B[38;5;124m'\u001B[39m\u001B[38;5;124mError has been occurred while getting response, status code: \u001B[39m\u001B[38;5;132;01m%s\u001B[39;00m\u001B[38;5;124m'\u001B[39m,\n\u001B[0;32m    149\u001B[0m         response\u001B[38;5;241m.\u001B[39mstatus_code,\n\u001B[0;32m    150\u001B[0m         extra\u001B[38;5;241m=\u001B[39m{\u001B[38;5;124m'\u001B[39m\u001B[38;5;124mresponse\u001B[39m\u001B[38;5;124m'\u001B[39m: response},\n\u001B[0;32m    151\u001B[0m     )\n\u001B[1;32m--> 152\u001B[0m     \u001B[38;5;28;01mraise\u001B[39;00m SignalsNotebookError(response)\n\u001B[0;32m    153\u001B[0m log\u001B[38;5;241m.\u001B[39minfo(\u001B[38;5;124m'\u001B[39m\u001B[38;5;124mSuccessful request - HTTP url: \u001B[39m\u001B[38;5;132;01m%s\u001B[39;00m\u001B[38;5;124m, status code: \u001B[39m\u001B[38;5;132;01m%s\u001B[39;00m\u001B[38;5;124m'\u001B[39m, response\u001B[38;5;241m.\u001B[39murl, response\u001B[38;5;241m.\u001B[39mstatus_code)\n\u001B[0;32m    155\u001B[0m \u001B[38;5;28;01mreturn\u001B[39;00m response\n",
      "\u001B[1;31mSignalsNotebookError\u001B[0m: <SignalsNotebookError status=400 code=BadRequest> title=The request parameters are in bad format. detail=The option with same value exists. Option:value.>"
     ]
    }
   ],
   "source": [
    "attribute2.append(option)\n",
    "attribute2.options"
   ],
   "metadata": {
    "collapsed": false,
    "pycharm": {
     "name": "#%%\n"
    }
   }
  },
  {
   "cell_type": "code",
   "execution_count": 11,
   "outputs": [
    {
     "name": "stdout",
     "output_type": "stream",
     "text": [
      "False False False\n",
      "False False False\n",
      "False False False\n",
      "False False False\n",
      "False False False\n",
      "False False True\n"
     ]
    }
   ],
   "source": [
    "for item in attribute2.options:\n",
    "    print(item.is_deleted, item.is_changed, item.is_created)"
   ],
   "metadata": {
    "collapsed": false,
    "pycharm": {
     "name": "#%%\n"
    }
   }
  },
  {
   "cell_type": "code",
   "execution_count": null,
   "outputs": [],
   "source": [
    "[option.representation for option in attribute2._options]"
   ],
   "metadata": {
    "collapsed": false,
    "pycharm": {
     "name": "#%%\n"
    }
   }
  },
  {
   "cell_type": "code",
   "execution_count": null,
   "outputs": [],
   "source": [],
   "metadata": {
    "collapsed": false,
    "pycharm": {
     "name": "#%%\n"
    }
   }
  }
 ],
 "metadata": {
  "kernelspec": {
   "display_name": "Python 3",
   "language": "python",
   "name": "python3"
  },
  "language_info": {
   "codemirror_mode": {
    "name": "ipython",
    "version": 2
   },
   "file_extension": ".py",
   "mimetype": "text/x-python",
   "name": "python",
   "nbconvert_exporter": "python",
   "pygments_lexer": "ipython2",
   "version": "2.7.6"
  }
 },
 "nbformat": 4,
 "nbformat_minor": 0
}
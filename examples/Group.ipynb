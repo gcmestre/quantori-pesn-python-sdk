{
 "cells": [
  {
   "cell_type": "code",
   "execution_count": 1,
   "outputs": [],
   "source": [
    "%load_ext dotenv\n",
    "%dotenv\n",
    "import os\n",
    "\n",
    "SN_API_HOST = os.getenv('SN_API_HOST')\n",
    "SN_API_KEY = os.getenv('SN_API_KEY')"
   ],
   "metadata": {
    "collapsed": false,
    "pycharm": {
     "name": "#%%\n"
    }
   }
  },
  {
   "cell_type": "code",
   "execution_count": 2,
   "outputs": [
    {
     "data": {
      "text/plain": "<signals_notebook.api.SignalsNotebookApi at 0x12022cc71f0>"
     },
     "execution_count": 2,
     "metadata": {},
     "output_type": "execute_result"
    }
   ],
   "source": [
    "from signals_notebook.api import SignalsNotebookApi\n",
    "SignalsNotebookApi.init(SN_API_HOST, SN_API_KEY)"
   ],
   "metadata": {
    "collapsed": false,
    "pycharm": {
     "name": "#%%\n"
    }
   }
  },
  {
   "cell_type": "code",
   "execution_count": 3,
   "outputs": [
    {
     "data": {
      "text/plain": "[Group(type=<ObjectType.GROUP: 'group'>, eid='group:101', id='101', is_system=True, name='Administrators', description='Group containing all administrators', created_at=datetime.datetime(2021, 10, 22, 13, 35, 58, 444000, tzinfo=datetime.timezone.utc), edited_at=datetime.datetime(2021, 10, 22, 13, 35, 58, 444000, tzinfo=datetime.timezone.utc), digest='13385924'),\n Group(type=<ObjectType.GROUP: 'group'>, eid='group:155', id='155', is_system=False, name='test group2', description='test', created_at=datetime.datetime(2022, 7, 6, 12, 57, 48, 304000, tzinfo=datetime.timezone.utc), edited_at=datetime.datetime(2022, 7, 6, 12, 57, 48, 304000, tzinfo=datetime.timezone.utc), digest='98434818'),\n Group(type=<ObjectType.GROUP: 'group'>, eid='group:121', id='121', is_system=True, name='ASG', description='The group dedicated to the synthesis, QC, and pre-clinical trials of alprostadil', created_at=datetime.datetime(2021, 11, 21, 10, 54, 45, 346000, tzinfo=datetime.timezone.utc), edited_at=datetime.datetime(2021, 11, 21, 10, 57, 27, 267000, tzinfo=datetime.timezone.utc), digest='35011372'),\n Group(type=<ObjectType.GROUP: 'group'>, eid='group:102', id='102', is_system=True, name='All users', description='Group containing all users', created_at=datetime.datetime(2021, 10, 22, 13, 35, 58, 625000, tzinfo=datetime.timezone.utc), edited_at=datetime.datetime(2021, 10, 22, 13, 35, 58, 625000, tzinfo=datetime.timezone.utc), digest='46357805'),\n Group(type=<ObjectType.GROUP: 'group'>, eid='group:152', id='152', is_system=False, name='test group', description='test', created_at=datetime.datetime(2022, 7, 6, 12, 32, 16, 957000, tzinfo=datetime.timezone.utc), edited_at=datetime.datetime(2022, 7, 6, 12, 32, 16, 957000, tzinfo=datetime.timezone.utc), digest='33844877')]"
     },
     "execution_count": 3,
     "metadata": {},
     "output_type": "execute_result"
    }
   ],
   "source": [
    "from signals_notebook.entities import Group\n",
    "\n",
    "group = Group.get_list()\n",
    "list(group)"
   ],
   "metadata": {
    "collapsed": false,
    "pycharm": {
     "name": "#%%\n"
    }
   }
  },
  {
   "cell_type": "code",
   "execution_count": 4,
   "outputs": [
    {
     "data": {
      "text/plain": "Group(type=<ObjectType.GROUP: 'group'>, eid='group:101', id='101', is_system=True, name='Administrators', description='Group containing all administrators', created_at=datetime.datetime(2021, 10, 22, 13, 35, 58, 444000, tzinfo=datetime.timezone.utc), edited_at=datetime.datetime(2021, 10, 22, 13, 35, 58, 444000, tzinfo=datetime.timezone.utc), digest='13385924')"
     },
     "execution_count": 4,
     "metadata": {},
     "output_type": "execute_result"
    }
   ],
   "source": [
    "group = Group.get('101')\n",
    "group"
   ],
   "metadata": {
    "collapsed": false,
    "pycharm": {
     "name": "#%%\n"
    }
   }
  },
  {
   "cell_type": "code",
   "execution_count": 5,
   "outputs": [
    {
     "data": {
      "text/plain": "Group(type=<ObjectType.GROUP: 'group'>, eid='group:160', id='160', is_system=True, name='name', description='test', created_at=datetime.datetime(2022, 7, 6, 13, 49, 50, 215000, tzinfo=datetime.timezone.utc), edited_at=datetime.datetime(2022, 7, 6, 13, 49, 50, 215000, tzinfo=datetime.timezone.utc), digest='80413457')"
     },
     "execution_count": 5,
     "metadata": {},
     "output_type": "execute_result"
    }
   ],
   "source": [
    "from signals_notebook.entities.users.profile import GroupRequestBody\n",
    "\n",
    "request = GroupRequestBody(name='name', description='test', is_system=True)\n",
    "\n",
    "group = Group.create(request=request)\n",
    "\n",
    "group"
   ],
   "metadata": {
    "collapsed": false,
    "pycharm": {
     "name": "#%%\n"
    }
   }
  },
  {
   "cell_type": "code",
   "execution_count": 6,
   "outputs": [],
   "source": [
    "group.description = 'New'\n",
    "group.save()"
   ],
   "metadata": {
    "collapsed": false,
    "pycharm": {
     "name": "#%%\n"
    }
   }
  },
  {
   "cell_type": "code",
   "execution_count": 7,
   "outputs": [],
   "source": [
    "group.delete()"
   ],
   "metadata": {
    "collapsed": false,
    "pycharm": {
     "name": "#%%\n"
    }
   }
  },
  {
   "cell_type": "code",
   "execution_count": 9,
   "outputs": [
    {
     "data": {
      "text/plain": "[GroupMember(user_id='107', user_name='yana.ivanova@quantori.com', first_name='Yana', last_name='Ivanova'),\n GroupMember(user_id='109', user_name='anatoliy.kind@quantori.com', first_name='Anatoliy', last_name='Kind'),\n GroupMember(user_id='104', user_name='ricardas.ralys@quantori.com', first_name='Ricardas', last_name='Ralys'),\n GroupMember(user_id='103', user_name='sergey.kuznetsov@quantori.com', first_name='Sergey', last_name='Kuznetsov'),\n GroupMember(user_id='125', user_name='sergey.ruzin@quantori.com', first_name='Sergey', last_name='Ruzin'),\n GroupMember(user_id='106', user_name='darya.korkina@quantori.com', first_name='Darya', last_name='Korkina'),\n GroupMember(user_id='105', user_name='denis.sapegin@quantori.com', first_name='Denis', last_name='Sapegin'),\n GroupMember(user_id='122', user_name='vladislav.teryaev@quantori.com', first_name='Vladislav', last_name='Teryaev'),\n GroupMember(user_id='100', user_name='stephen.tharp@perkinelmer.com', first_name='Stephen', last_name='Tharp'),\n GroupMember(user_id='121', user_name='pavel.bogdanov@quantori.com', first_name='Pavel', last_name='Bogdanov'),\n GroupMember(user_id='102', user_name='vitaliy.aronov@quantori.com', first_name='Vitaliy', last_name='Aronov'),\n GroupMember(user_id='146', user_name='elena.test_this@perkinelmer.com', first_name='test', last_name='account'),\n GroupMember(user_id='124', user_name='andrey.brovko@quantori.com', first_name='Andrey', last_name='Brovko'),\n GroupMember(user_id='145', user_name='test.account@perkinelmer.com', first_name='test', last_name='account'),\n GroupMember(user_id='101', user_name='richard.golob@quantori.com', first_name='Richard', last_name='Golob'),\n GroupMember(user_id='140', user_name='alexander.shlyonov@quantori.com', first_name='Alexander', last_name='Shlyonov'),\n GroupMember(user_id='120', user_name='elena.krutenkova@quantori.com', first_name='Elena', last_name='Krutenkova'),\n GroupMember(user_id='142', user_name='ksenia.yankovskaya@quantori.com', first_name='Ksenia', last_name='Yankovskaya'),\n GroupMember(user_id='141', user_name='evgenia.tikeeva@quantori.com', first_name='Evgenia', last_name='Tikeeva'),\n GroupMember(user_id='119', user_name='evgeniy.pokidov@quantori.com', first_name='Evgeniy', last_name='Pokidov'),\n GroupMember(user_id='118', user_name='roman.voronov@quantori.com', first_name='Roman', last_name='Voronov'),\n GroupMember(user_id='137', user_name='david.paskoshev@quantori.com', first_name='David', last_name='Paskoshev'),\n GroupMember(user_id='115', user_name='vladislav.kuznetsov@quantori.com', first_name='Vlad', last_name='Kuznetsov'),\n GroupMember(user_id='136', user_name='daniil.cherednichenko@quantori.com', first_name='Daniil', last_name='Cherednichenko'),\n GroupMember(user_id='114', user_name='roman.maksimov@quantori.com', first_name='Roman', last_name='Maksimov'),\n GroupMember(user_id='139', user_name='andrey.guschin@quantori.com', first_name='Andrey', last_name='Guschin'),\n GroupMember(user_id='117', user_name='grigol.tchkoidze@quantori.com', first_name='Grigol', last_name='Tchkoidze'),\n GroupMember(user_id='133', user_name='andrey.shishkin@quantori.com', first_name='Andrey', last_name='Shishkin'),\n GroupMember(user_id='111', user_name='lidiya.smyshlyaeva@quantori.com', first_name='Lidiya', last_name='Smyshlyaeva'),\n GroupMember(user_id='110', user_name='fedor.kortikov@quantori.com', first_name='Fedor', last_name='Kortikov'),\n GroupMember(user_id='113', user_name='vladimir.arefyev@quantori.com', first_name='Vladimir', last_name='Arefyev'),\n GroupMember(user_id='112', user_name='dmitry.lushnikov@quantori.com', first_name='Dmitry', last_name='Lushnikov'),\n GroupMember(user_id='134', user_name='sayat.petrosyan@quantori.com', first_name='Sayat', last_name='Petrosyan')]"
     },
     "execution_count": 9,
     "metadata": {},
     "output_type": "execute_result"
    }
   ],
   "source": [
    "group = Group.get('101')\n",
    "\n",
    "members = group.get_members()\n",
    "list(members)"
   ],
   "metadata": {
    "collapsed": false,
    "pycharm": {
     "name": "#%%\n"
    }
   }
  },
  {
   "cell_type": "markdown",
   "source": [],
   "metadata": {
    "collapsed": false,
    "pycharm": {
     "name": "#%% md\n"
    }
   }
  }
 ],
 "metadata": {
  "kernelspec": {
   "display_name": "Python 3",
   "language": "python",
   "name": "python3"
  },
  "language_info": {
   "codemirror_mode": {
    "name": "ipython",
    "version": 2
   },
   "file_extension": ".py",
   "mimetype": "text/x-python",
   "name": "python",
   "nbconvert_exporter": "python",
   "pygments_lexer": "ipython2",
   "version": "2.7.6"
  }
 },
 "nbformat": 4,
 "nbformat_minor": 0
}
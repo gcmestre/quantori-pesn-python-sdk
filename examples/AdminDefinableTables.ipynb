{
 "cells": [
  {
   "cell_type": "code",
   "execution_count": 1,
   "outputs": [],
   "source": [
    "%load_ext dotenv\n",
    "%dotenv\n",
    "import os\n",
    "\n",
    "SN_API_HOST = os.getenv('SN_API_HOST')\n",
    "SN_API_KEY = os.getenv('SN_API_KEY')"
   ],
   "metadata": {
    "collapsed": false,
    "pycharm": {
     "name": "#%%\n"
    }
   }
  },
  {
   "cell_type": "code",
   "execution_count": 2,
   "metadata": {
    "collapsed": true,
    "pycharm": {
     "name": "#%%\n"
    }
   },
   "outputs": [
    {
     "data": {
      "text/plain": "<signals_notebook.api.SignalsNotebookApi at 0x1086f94f0>"
     },
     "execution_count": 2,
     "metadata": {},
     "output_type": "execute_result"
    }
   ],
   "source": [
    "from signals_notebook.api import SignalsNotebookApi\n",
    "SignalsNotebookApi.init(SN_API_HOST, SN_API_KEY)"
   ]
  },
  {
   "cell_type": "code",
   "execution_count": 3,
   "outputs": [],
   "source": [
    "from signals_notebook.entities import Table, EntityStore"
   ],
   "metadata": {
    "collapsed": false,
    "pycharm": {
     "name": "#%%\n"
    }
   }
  },
  {
   "cell_type": "code",
   "execution_count": 4,
   "outputs": [
    {
     "data": {
      "text/plain": "<generator object EntityStore.get_list at 0x108433c80>"
     },
     "execution_count": 4,
     "metadata": {},
     "output_type": "execute_result"
    }
   ],
   "source": [
    "Table.get_list()"
   ],
   "metadata": {
    "collapsed": false,
    "pycharm": {
     "name": "#%%\n"
    }
   }
  },
  {
   "cell_type": "code",
   "execution_count": 5,
   "outputs": [
    {
     "data": {
      "text/plain": "[ColumnDefinition(key=UUID('4afd1582-5ce4-4f83-9504-8cff6accf526'), title='Primer', type=<ColumnDataType.LINK: 'link'>, is_external_key=None, is_user_defined=None, saved=True, read_only=False),\n ColumnDefinition(key=UUID('fcc2a70b-beaf-442b-8fa2-d4a2d370baf4'), title='Forward or Reverse', type=<ColumnDataType.ATTRIBUTE_LIST: 'attributeList'>, is_external_key=None, is_user_defined=None, saved=True, read_only=True),\n ColumnDefinition(key=UUID('205ea27e-623c-410c-87ef-673f500570ba'), title='Target Sequence File', type=<ColumnDataType.LINK: 'link'>, is_external_key=None, is_user_defined=None, saved=True, read_only=True)]"
     },
     "execution_count": 5,
     "metadata": {},
     "output_type": "execute_result"
    }
   ],
   "source": [
    "table = EntityStore.get('grid:7c1fe3ba-7efc-46d8-a470-96892dbf2590')\n",
    "table.get_column_definitions_list()"
   ],
   "metadata": {
    "collapsed": false,
    "pycharm": {
     "name": "#%%\n"
    }
   }
  },
  {
   "cell_type": "code",
   "execution_count": 6,
   "outputs": [
    {
     "data": {
      "text/plain": "Asset(asset_type_id='6172be4052faff00075011b1', eid='asset:6202d73d9a486b3ddae616a7', library_name='Primers', digest='56300536', name='PKI-000022', created_at=datetime.datetime(2022, 2, 8, 20, 49, 1, 985000, tzinfo=datetime.timezone.utc), edited_at=datetime.datetime(2022, 2, 8, 20, 49, 1, 985000, tzinfo=datetime.timezone.utc), fields={'Description': MaterialField(value=''), 'Forward or Reverse Primer': MaterialField(value='Forward'), 'Intended Use': MaterialField(value='For testing purpose only'), 'Material Library Type': MaterialField(value='Primers'), 'Melting Temperature': MaterialField(value='57.7'), 'Name': MaterialField(value='PKI-000022'), 'Primer Name': MaterialField(value='New test primer'), 'Target Sequence': MaterialField(value='CGTGGGTCTCTCGCGGTATCATTGCAGCACTGAAAAAAAAAACTGGGGCCAGATGGGTAAGCCCTCCCCCCGGCGACGGCGGAGTCAGGCTGATGATGATTTTTTTAAGAACTCTGTAGCACCGCC')}, type=<MaterialType.ASSET: 'asset'>)"
     },
     "execution_count": 6,
     "metadata": {},
     "output_type": "execute_result"
    }
   ],
   "source": [
    "table[0][0].object"
   ],
   "metadata": {
    "collapsed": false,
    "pycharm": {
     "name": "#%%\n"
    }
   }
  },
  {
   "cell_type": "code",
   "execution_count": 7,
   "outputs": [
    {
     "data": {
      "text/plain": "                                                              Primer  \\\n68da04ae-42a4-4d97-b864-e375a24fe1ea  asset:6202d73d9a486b3ddae616a7   \n35ee08cf-ce6b-4d75-a25d-a3b3a8ebdab0  asset:6203b6029a486b3ddae616cb   \n\n                                                                  Target Sequence File  \\\n68da04ae-42a4-4d97-b864-e375a24fe1ea  bioSequence:00d15d0a-93c2-4ae2-bcb4-d313625ef5a1   \n35ee08cf-ce6b-4d75-a25d-a3b3a8ebdab0  bioSequence:00d15d0a-93c2-4ae2-bcb4-d313625ef5a1   \n\n                                     Forward or Reverse  \n68da04ae-42a4-4d97-b864-e375a24fe1ea            Forward  \n35ee08cf-ce6b-4d75-a25d-a3b3a8ebdab0            Reverse  ",
      "text/html": "<div>\n<style scoped>\n    .dataframe tbody tr th:only-of-type {\n        vertical-align: middle;\n    }\n\n    .dataframe tbody tr th {\n        vertical-align: top;\n    }\n\n    .dataframe thead th {\n        text-align: right;\n    }\n</style>\n<table border=\"1\" class=\"dataframe\">\n  <thead>\n    <tr style=\"text-align: right;\">\n      <th></th>\n      <th>Primer</th>\n      <th>Target Sequence File</th>\n      <th>Forward or Reverse</th>\n    </tr>\n  </thead>\n  <tbody>\n    <tr>\n      <th>68da04ae-42a4-4d97-b864-e375a24fe1ea</th>\n      <td>asset:6202d73d9a486b3ddae616a7</td>\n      <td>bioSequence:00d15d0a-93c2-4ae2-bcb4-d313625ef5a1</td>\n      <td>Forward</td>\n    </tr>\n    <tr>\n      <th>35ee08cf-ce6b-4d75-a25d-a3b3a8ebdab0</th>\n      <td>asset:6203b6029a486b3ddae616cb</td>\n      <td>bioSequence:00d15d0a-93c2-4ae2-bcb4-d313625ef5a1</td>\n      <td>Reverse</td>\n    </tr>\n  </tbody>\n</table>\n</div>"
     },
     "execution_count": 7,
     "metadata": {},
     "output_type": "execute_result"
    }
   ],
   "source": [
    "table.as_dataframe()"
   ],
   "metadata": {
    "collapsed": false,
    "pycharm": {
     "name": "#%%\n"
    }
   }
  },
  {
   "cell_type": "code",
   "execution_count": 8,
   "outputs": [
    {
     "data": {
      "text/plain": "[{'Primer': 'asset:6202d73d9a486b3ddae616a7',\n  'Target Sequence File': 'bioSequence:00d15d0a-93c2-4ae2-bcb4-d313625ef5a1',\n  'Forward or Reverse': 'Forward'},\n {'Primer': 'asset:6203b6029a486b3ddae616cb',\n  'Target Sequence File': 'bioSequence:00d15d0a-93c2-4ae2-bcb4-d313625ef5a1',\n  'Forward or Reverse': 'Reverse'}]"
     },
     "execution_count": 8,
     "metadata": {},
     "output_type": "execute_result"
    }
   ],
   "source": [
    "table.as_raw_data()"
   ],
   "metadata": {
    "collapsed": false,
    "pycharm": {
     "name": "#%%\n"
    }
   }
  },
  {
   "cell_type": "code",
   "execution_count": 9,
   "outputs": [
    {
     "data": {
      "text/plain": "Row(id=UUID('35ee08cf-ce6b-4d75-a25d-a3b3a8ebdab0'), type=<ObjectType.ADT_ROW: 'adtRow'>, cells=[LinkCell(id=UUID('4afd1582-5ce4-4f83-9504-8cff6accf526'), type=<ColumnDataType.LINK: 'link'>, name='Primer', content=CellContent[Union[signals_notebook.common_types.EID, signals_notebook.common_types.MID]](value='asset:6203b6029a486b3ddae616cb', values=None, type=<EntityType.ASSET: 'asset'>, display='PKI-000026')), LinkCell(id=UUID('205ea27e-623c-410c-87ef-673f500570ba'), type=<ColumnDataType.LINK: 'link'>, name='Target Sequence File', content=CellContent[Union[signals_notebook.common_types.EID, signals_notebook.common_types.MID]](value='bioSequence:00d15d0a-93c2-4ae2-bcb4-d313625ef5a1', values=None, type=<EntityType.BIO_SEQUENCE: 'bioSequence'>, display='sequence_test.gb')), AttributeListCell(id=UUID('fcc2a70b-beaf-442b-8fa2-d4a2d370baf4'), type=<ColumnDataType.ATTRIBUTE_LIST: 'attributeList'>, name='Forward or Reverse', content=CellContent[str](value='Reverse', values=None, type=None, display=None))])"
     },
     "execution_count": 9,
     "metadata": {},
     "output_type": "execute_result"
    }
   ],
   "source": [
    "table[1]"
   ],
   "metadata": {
    "collapsed": false,
    "pycharm": {
     "name": "#%%\n"
    }
   }
  },
  {
   "cell_type": "code",
   "execution_count": 10,
   "outputs": [
    {
     "data": {
      "text/plain": "Row(id=UUID('68da04ae-42a4-4d97-b864-e375a24fe1ea'), type=<ObjectType.ADT_ROW: 'adtRow'>, cells=[LinkCell(id=UUID('4afd1582-5ce4-4f83-9504-8cff6accf526'), type=<ColumnDataType.LINK: 'link'>, name='Primer', content=CellContent[Union[signals_notebook.common_types.EID, signals_notebook.common_types.MID]](value='asset:6202d73d9a486b3ddae616a7', values=None, type=<EntityType.ASSET: 'asset'>, display='PKI-000022')), LinkCell(id=UUID('205ea27e-623c-410c-87ef-673f500570ba'), type=<ColumnDataType.LINK: 'link'>, name='Target Sequence File', content=CellContent[Union[signals_notebook.common_types.EID, signals_notebook.common_types.MID]](value='bioSequence:00d15d0a-93c2-4ae2-bcb4-d313625ef5a1', values=None, type=<EntityType.BIO_SEQUENCE: 'bioSequence'>, display='sequence_test.gb')), AttributeListCell(id=UUID('fcc2a70b-beaf-442b-8fa2-d4a2d370baf4'), type=<ColumnDataType.ATTRIBUTE_LIST: 'attributeList'>, name='Forward or Reverse', content=CellContent[str](value='Forward', values=None, type=None, display=None))])"
     },
     "execution_count": 10,
     "metadata": {},
     "output_type": "execute_result"
    }
   ],
   "source": [
    "table['68da04ae-42a4-4d97-b864-e375a24fe1ea']"
   ],
   "metadata": {
    "collapsed": false,
    "pycharm": {
     "name": "#%%\n"
    }
   }
  },
  {
   "cell_type": "code",
   "execution_count": 11,
   "outputs": [
    {
     "data": {
      "text/plain": "Row(id=UUID('35ee08cf-ce6b-4d75-a25d-a3b3a8ebdab0'), type=<ObjectType.ADT_ROW: 'adtRow'>, cells=[LinkCell(id=UUID('4afd1582-5ce4-4f83-9504-8cff6accf526'), type=<ColumnDataType.LINK: 'link'>, name='Primer', content=CellContent[Union[signals_notebook.common_types.EID, signals_notebook.common_types.MID]](value='asset:6203b6029a486b3ddae616cb', values=None, type=<EntityType.ASSET: 'asset'>, display='PKI-000026')), LinkCell(id=UUID('205ea27e-623c-410c-87ef-673f500570ba'), type=<ColumnDataType.LINK: 'link'>, name='Target Sequence File', content=CellContent[Union[signals_notebook.common_types.EID, signals_notebook.common_types.MID]](value='bioSequence:00d15d0a-93c2-4ae2-bcb4-d313625ef5a1', values=None, type=<EntityType.BIO_SEQUENCE: 'bioSequence'>, display='sequence_test.gb')), AttributeListCell(id=UUID('fcc2a70b-beaf-442b-8fa2-d4a2d370baf4'), type=<ColumnDataType.ATTRIBUTE_LIST: 'attributeList'>, name='Forward or Reverse', content=CellContent[str](value='Reverse', values=None, type=None, display=None))])"
     },
     "execution_count": 11,
     "metadata": {},
     "output_type": "execute_result"
    }
   ],
   "source": [
    "from uuid import UUID\n",
    "key = UUID('35ee08cf-ce6b-4d75-a25d-a3b3a8ebdab0')\n",
    "table[key]"
   ],
   "metadata": {
    "collapsed": false,
    "pycharm": {
     "name": "#%%\n"
    }
   }
  },
  {
   "cell_type": "code",
   "execution_count": 12,
   "outputs": [
    {
     "name": "stdout",
     "output_type": "stream",
     "text": [
      "68da04ae-42a4-4d97-b864-e375a24fe1ea\n",
      "35ee08cf-ce6b-4d75-a25d-a3b3a8ebdab0\n"
     ]
    }
   ],
   "source": [
    "for row in table:\n",
    "    print(row.id)"
   ],
   "metadata": {
    "collapsed": false,
    "pycharm": {
     "name": "#%%\n"
    }
   }
  },
  {
   "cell_type": "code",
   "execution_count": 13,
   "outputs": [
    {
     "data": {
      "text/plain": "LinkCell(id=UUID('4afd1582-5ce4-4f83-9504-8cff6accf526'), type=<ColumnDataType.LINK: 'link'>, name='Primer', content=CellContent[Union[signals_notebook.common_types.EID, signals_notebook.common_types.MID]](value='asset:6202d73d9a486b3ddae616a7', values=None, type=<EntityType.ASSET: 'asset'>, display='PKI-000022'))"
     },
     "execution_count": 13,
     "metadata": {},
     "output_type": "execute_result"
    }
   ],
   "source": [
    "table[0][0]"
   ],
   "metadata": {
    "collapsed": false,
    "pycharm": {
     "name": "#%%\n"
    }
   }
  },
  {
   "cell_type": "code",
   "execution_count": 14,
   "outputs": [
    {
     "data": {
      "text/plain": "'asset:6202d73d9a486b3ddae616a7'"
     },
     "execution_count": 14,
     "metadata": {},
     "output_type": "execute_result"
    }
   ],
   "source": [
    "table[0]['4afd1582-5ce4-4f83-9504-8cff6accf526'].value"
   ],
   "metadata": {
    "collapsed": false,
    "pycharm": {
     "name": "#%%\n"
    }
   }
  },
  {
   "cell_type": "code",
   "execution_count": 15,
   "outputs": [
    {
     "data": {
      "text/plain": "'bioSequence:00d15d0a-93c2-4ae2-bcb4-d313625ef5a1'"
     },
     "execution_count": 15,
     "metadata": {},
     "output_type": "execute_result"
    }
   ],
   "source": [
    "table[0]['Target Sequence File'].object.eid"
   ],
   "metadata": {
    "collapsed": false,
    "pycharm": {
     "name": "#%%\n"
    }
   }
  },
  {
   "cell_type": "markdown",
   "source": [
    "# Table with all column types\n"
   ],
   "metadata": {
    "collapsed": false,
    "pycharm": {
     "name": "#%% md\n"
    }
   }
  },
  {
   "cell_type": "code",
   "execution_count": 16,
   "outputs": [
    {
     "data": {
      "text/plain": "[ColumnDefinition(key=UUID('49b2cf34-b4bb-4868-af67-931f31b46581'), title='Col. Text', type=<ColumnDataType.TEXT: 'text'>, is_external_key=None, is_user_defined=None, saved=True, read_only=True),\n ColumnDefinition(key=UUID('dff966b1-ed21-4f94-9446-78b00b01bdf8'), title='Col. Date/Time', type=<ColumnDataType.DATE_TIME: 'datetime'>, is_external_key=None, is_user_defined=None, saved=True, read_only=True),\n ColumnDefinition(key=UUID('7dce6a7f-e491-4b70-8bf7-d6f342bedec7'), title='Col. Number', type=<ColumnDataType.NUMBER: 'number'>, is_external_key=None, is_user_defined=None, saved=True, read_only=True),\n UnitColumnDefinition(key=UUID('f0eb0e49-0460-4f84-8616-b17cebac69a3'), title='Col. Number w/Unit', type=<ColumnDataType.UNIT: 'unit'>, is_external_key=None, is_user_defined=None, saved=True, read_only=True, measure='temperature', default_unit='C'),\n ColumnDefinition(key=UUID('ce8034b6-c29a-4027-b69b-b321a54c5f74'), title='Col. Ext. Hyperlink', type=<ColumnDataType.EXTERNAL_LINK: 'externalLink'>, is_external_key=None, is_user_defined=None, saved=True, read_only=True),\n ColumnDefinition(key=UUID('77f80aae-014b-4a1d-aaee-5c3b88a5dd66'), title='Col. Autotext List', type=<ColumnDataType.AUTOTEXT_LIST: 'autotextList'>, is_external_key=None, is_user_defined=None, saved=True, read_only=True),\n ColumnDefinition(key=UUID('24ab5ee9-aab4-476b-9dbc-050772d5711c'), title='Col. Checkbox', type=<ColumnDataType.BOOLEAN: 'boolean'>, is_external_key=None, is_user_defined=None, saved=True, read_only=True),\n ColumnDefinition(key=UUID('1bdf51d0-08ab-4f56-9d51-4153d5feb228'), title='Col. Internal Reference', type=<ColumnDataType.LINK: 'link'>, is_external_key=None, is_user_defined=None, saved=True, read_only=True),\n ListColumnDefinition(key=UUID('e1f0fcb3-2319-47e7-af49-0ac9e6d66c6c'), title='Col. List', type=<ColumnDataType.LIST: 'list'>, is_external_key=None, is_user_defined=None, saved=True, read_only=True, options=['Option 1', 'Option 2', 'Option 3']),\n ColumnDefinition(key=UUID('6ed558b6-7ba7-41a3-8f5e-0e16acb71f1c'), title='Col. Integer', type=<ColumnDataType.INTEGER: 'integer'>, is_external_key=None, is_user_defined=None, saved=True, read_only=True),\n MultiSelectColumnDefinition(key=UUID('c07d1a47-fad7-4ae0-b38c-8c7c25b49fa8'), title='Col. Multi Select List', type=<ColumnDataType.MULTI_SELECT: 'multiSelect'>, is_external_key=None, is_user_defined=None, saved=True, read_only=True, options=['Multi Option 1', 'Multi Option 2', 'Multi Option 3']),\n ColumnDefinition(key=UUID('36ff8edc-e72e-40e2-a0d2-331b565fee90'), title='Col. Attribute List', type=<ColumnDataType.ATTRIBUTE_LIST: 'attributeList'>, is_external_key=None, is_user_defined=None, saved=True, read_only=True),\n ColumnDefinition(key=UUID('5b0b3a99-dc4f-4b3f-89d3-ed48c7adffe8'), title='Col. Multi Attribute List', type=<ColumnDataType.ATTRIBUTE_LIST: 'attributeList'>, is_external_key=None, is_user_defined=None, saved=True, read_only=True)]"
     },
     "execution_count": 16,
     "metadata": {},
     "output_type": "execute_result"
    }
   ],
   "source": [
    "table = EntityStore.get('grid:9b128b10-8eab-458d-8048-24d5153c6de7')\n",
    "table.get_column_definitions_list()"
   ],
   "metadata": {
    "collapsed": false,
    "pycharm": {
     "name": "#%%\n"
    }
   }
  },
  {
   "cell_type": "code",
   "execution_count": 17,
   "outputs": [
    {
     "name": "stdout",
     "output_type": "stream",
     "text": [
      "TextCell => ColumnDataType.TEXT Text  \n",
      "DateTimeCell => ColumnDataType.DATE_TIME 2021-12-31 20:00:00+00:00  \n",
      "NumberCell => ColumnDataType.NUMBER 123.0 123 \n",
      "UnitCell => ColumnDataType.UNIT -150.14999999999998 123 K \n",
      "ExternalLink => ColumnDataType.EXTERNAL_LINK https://www.google.com/ link \n",
      "AutotextListCell => ColumnDataType.AUTOTEXT_LIST Autotext list option 1  \n",
      "BooleanCell => ColumnDataType.BOOLEAN True  \n",
      "LinkCell => ColumnDataType.LINK chemicalDrawing:2fc7a20f-e74c-4142-b4fa-cfa2fab41c58 ChemDraw Document \n",
      "ListCell => ColumnDataType.LIST Option 1  \n",
      "IntegerCell => ColumnDataType.INTEGER 123 123 \n",
      "MultiSelectCell => ColumnDataType.MULTI_SELECT ['Multi Option 1', 'Multi Option 2']  \n",
      "AttributeListCell => ColumnDataType.ATTRIBUTE_LIST Option 1  \n",
      "AttributeListCell => ColumnDataType.ATTRIBUTE_LIST ['Option 1', 'Option 2']  \n"
     ]
    }
   ],
   "source": [
    "for cell in table[0]:\n",
    "    print(cell.__class__.__name__, '=>', cell.type, cell.value, cell.display, getattr(cell, 'entity', ''))\n"
   ],
   "metadata": {
    "collapsed": false,
    "pycharm": {
     "name": "#%%\n"
    }
   }
  },
  {
   "cell_type": "code",
   "execution_count": 18,
   "outputs": [],
   "source": [
    "from datetime import datetime, timezone\n",
    "table[0]['Col. Date/Time'].set_value(datetime.now(tz=timezone.utc))\n",
    "table[0]['Col. Text'].set_value('Test')\n",
    "table[0]['Col. Number'].set_value(9876.14)\n",
    "table[0]['Col. Number w/Unit'].set_value(11.225)\n",
    "table[0]['Col. Ext. Hyperlink'].set_value('http://example.com', 'Example dot com')\n",
    "table[0]['Col. Checkbox'].set_value(True)\n",
    "table[0]['Col. Internal Reference'].set_value('chemicalDrawing:8b55beb9-c6f6-4f03-a8ba-65353a0178eb', 'ChemDraw')\n",
    "table[0]['Col. Autotext List'].set_value('Autotext list option 4')\n",
    "table[0]['Col. List'].set_value('Option 2')\n",
    "table[0]['Col. Integer'].set_value(12)\n",
    "table[0]['Col. Multi Select List'].set_value(['Multi Option 3', 'Multi Option 1'])\n",
    "#table[0]['Col. Multi Select List'].set_value('Multi Option 2')\n",
    "table[0]['Col. Attribute List'].set_value('Option 3')\n",
    "#table[0]['Col. Multi Attribute List'].set_value(['Option 2', 'Option 4'])\n",
    "table[0]['Col. Multi Attribute List'].set_value('Option 2')\n",
    "table.save()"
   ],
   "metadata": {
    "collapsed": false,
    "pycharm": {
     "name": "#%%\n"
    }
   }
  },
  {
   "cell_type": "code",
   "execution_count": null,
   "outputs": [],
   "source": [
    "row_data = {\n",
    "    'Col. Date/Time': {'value': datetime.now(tz=timezone.utc)},\n",
    "    'Col. Text': {'value': 'by column title'},\n",
    "    'Col. Number': {'value': 3.14},\n",
    "    'Col. Number w/Unit': {'value': 36.6, 'display': '36.6 C'},\n",
    "    'Col. Ext. Hyperlink': {'value': 'https://ya.ru', 'display': 'Yandex'},\n",
    "    'Col. Checkbox': {'value': False},\n",
    "    'Col. Internal Reference': {'value': 'imageResource:66f74ec9-ce79-4a06-828a-aed52df68140', 'display':'Picture below', 'type': 'imageResource'},\n",
    "    'Col. Autotext List': {'value': 'Autotext list option 3'},\n",
    "    'Col. List': {'value': 'Option 1'},\n",
    "    'Col. Integer': {'value': 42},\n",
    "    'Col. Multi Select List': {'value': 'Multi Option 2, Multi Option 3'},\n",
    "    'Col. Attribute List': {'value': 'Option 3'},\n",
    "    'Col. Multi Attribute List': {'value': 'Option 2, Option 4', 'values': ['Option 2', 'Option 4']},\n",
    "}\n",
    "table.add_row(row_data)\n",
    "table.save()"
   ],
   "metadata": {
    "collapsed": false,
    "pycharm": {
     "name": "#%%\n"
    }
   }
  },
  {
   "cell_type": "code",
   "execution_count": 19,
   "outputs": [],
   "source": [
    "row_data = {\n",
    "    'dff966b1-ed21-4f94-9446-78b00b01bdf8': {'value': datetime.now(tz=timezone.utc)},\n",
    "    '49b2cf34-b4bb-4868-af67-931f31b46581': {'value': 'by column key'},\n",
    "    '7dce6a7f-e491-4b70-8bf7-d6f342bedec7': {'value': 22.4},\n",
    "    'f0eb0e49-0460-4f84-8616-b17cebac69a3': {'value': 451, 'display': '451 F'},\n",
    "    'ce8034b6-c29a-4027-b69b-b321a54c5f74': {'value': 'https://ya.ru', 'display': 'Yandex'},\n",
    "    '24ab5ee9-aab4-476b-9dbc-050772d5711c': {'value': False},\n",
    "    '1bdf51d0-08ab-4f56-9d51-4153d5feb228': {'value': 'imageResource:66f74ec9-ce79-4a06-828a-aed52df68140', 'display':'Picture below', 'type': 'imageResource'},\n",
    "    '77f80aae-014b-4a1d-aaee-5c3b88a5dd66': {'value': 'Autotext list option 3'},\n",
    "    'e1f0fcb3-2319-47e7-af49-0ac9e6d66c6c': {'value': 'Option 1'},\n",
    "    '6ed558b6-7ba7-41a3-8f5e-0e16acb71f1c': {'value': 42},\n",
    "    'c07d1a47-fad7-4ae0-b38c-8c7c25b49fa8': {'value': 'Multi Option 2, Multi Option 3'},\n",
    "    '36ff8edc-e72e-40e2-a0d2-331b565fee90': {'value': 'Option 3'},\n",
    "    '5b0b3a99-dc4f-4b3f-89d3-ed48c7adffe8': {'value': 'Option 2, Option 4', 'values': ['Option 2', 'Option 4']},\n",
    "}\n",
    "table.add_row(row_data)\n",
    "table.add_row(row_data)\n",
    "table.save()"
   ],
   "metadata": {
    "collapsed": false,
    "pycharm": {
     "name": "#%%\n"
    }
   }
  },
  {
   "cell_type": "code",
   "execution_count": 20,
   "outputs": [],
   "source": [
    "for row in table:\n",
    "    row.delete()\n",
    "table.save()"
   ],
   "metadata": {
    "collapsed": false,
    "pycharm": {
     "name": "#%%\n"
    }
   }
  },
  {
   "cell_type": "code",
   "execution_count": null,
   "outputs": [],
   "source": [],
   "metadata": {
    "collapsed": false,
    "pycharm": {
     "name": "#%%\n"
    }
   }
  }
 ],
 "metadata": {
  "kernelspec": {
   "display_name": "Python 3",
   "language": "python",
   "name": "python3"
  },
  "language_info": {
   "codemirror_mode": {
    "name": "ipython",
    "version": 2
   },
   "file_extension": ".py",
   "mimetype": "text/x-python",
   "name": "python",
   "nbconvert_exporter": "python",
   "pygments_lexer": "ipython2",
   "version": "2.7.6"
  }
 },
 "nbformat": 4,
 "nbformat_minor": 0
}
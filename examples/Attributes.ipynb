{
 "cells": [
  {
   "cell_type": "code",
   "execution_count": 1,
   "outputs": [],
   "source": [
    "%load_ext dotenv\n",
    "%dotenv\n",
    "import os\n",
    "\n",
    "SN_API_HOST = os.getenv('SN_API_HOST')\n",
    "SN_API_KEY = os.getenv('SN_API_KEY')"
   ],
   "metadata": {
    "collapsed": false,
    "pycharm": {
     "name": "#%%\n"
    }
   }
  },
  {
   "cell_type": "code",
   "execution_count": 2,
   "metadata": {
    "collapsed": true,
    "pycharm": {
     "name": "#%%\n"
    }
   },
   "outputs": [
    {
     "data": {
      "text/plain": "<signals_notebook.api.SignalsNotebookApi at 0x295a5f9c1f0>"
     },
     "execution_count": 2,
     "metadata": {},
     "output_type": "execute_result"
    }
   ],
   "source": [
    "from signals_notebook.api import SignalsNotebookApi\n",
    "SignalsNotebookApi.init(SN_API_HOST, SN_API_KEY)"
   ]
  },
  {
   "cell_type": "code",
   "execution_count": 3,
   "outputs": [],
   "source": [
    "from signals_notebook.attributes.attribute import Attribute"
   ],
   "metadata": {
    "collapsed": false,
    "pycharm": {
     "name": "#%%\n"
    }
   }
  },
  {
   "cell_type": "code",
   "execution_count": 4,
   "outputs": [
    {
     "data": {
      "text/plain": "Attribute(type=<ObjectType.CHOICE: 'choice'>, id='attribute:2', name='Date')"
     },
     "execution_count": 4,
     "metadata": {},
     "output_type": "execute_result"
    }
   ],
   "source": [
    "attribute = Attribute.get('attribute:2')\n",
    "attribute"
   ],
   "metadata": {
    "collapsed": false,
    "pycharm": {
     "name": "#%%\n"
    }
   }
  },
  {
   "cell_type": "code",
   "execution_count": 5,
   "outputs": [
    {
     "data": {
      "text/plain": "['CURRENT_DATE']"
     },
     "execution_count": 5,
     "metadata": {},
     "output_type": "execute_result"
    }
   ],
   "source": [
    "attribute.options"
   ],
   "metadata": {
    "collapsed": false,
    "pycharm": {
     "name": "#%%\n"
    }
   }
  },
  {
   "cell_type": "code",
   "execution_count": 6,
   "outputs": [
    {
     "data": {
      "text/plain": "[Attribute(type=<ObjectType.CHOICE: 'choice'>, id='attribute:8', name='GHS Signal Words'),\n Attribute(type=<ObjectType.CHOICE: 'choice'>, id='attribute:10', name='Hazard Statements'),\n Attribute(type=<ObjectType.CHOICE: 'choice'>, id='attribute:11', name='GHS Hazards'),\n Attribute(type=<ObjectType.CHOICE: 'choice'>, id='attribute:14', name='Task Status'),\n Attribute(type=<ObjectType.CHOICE: 'choice'>, id='attribute:9', name='Precautionary Statements'),\n Attribute(type=<ObjectType.CHOICE: 'choice'>, id='attribute:4', name='Material Library Type'),\n Attribute(type=<ObjectType.CHOICE: 'choice'>, id='attribute:24', name='HPLC Sample Type'),\n Attribute(type=<ObjectType.CHOICE: 'choice'>, id='attribute:26', name='newAttribute'),\n Attribute(type=<ObjectType.CHOICE: 'choice'>, id='attribute:20', name='My List Attribute 1 (SK)'),\n Attribute(type=<ObjectType.CHOICE: 'choice'>, id='attribute:28', name='test'),\n Attribute(type=<ObjectType.CHOICE: 'choice'>, id='attribute:17', name='Inventory Container Library'),\n Attribute(type=<ObjectType.CHOICE: 'choice'>, id='attribute:16', name='Inventory Location Library'),\n Attribute(type=<ObjectType.CHOICE: 'choice'>, id='attribute:32', name='test1'),\n Attribute(type=<ObjectType.CHOICE: 'choice'>, id='attribute:21', name='My Ext List Attribute 1 (SK)'),\n Attribute(type=<ObjectType.CHOICE: 'choice'>, id='attribute:40', name='test2'),\n Attribute(type=<ObjectType.CHOICE: 'choice'>, id='attribute:41', name='test3'),\n Attribute(type=<ObjectType.CHOICE: 'choice'>, id='attribute:42', name='test37'),\n Attribute(type=<ObjectType.CHOICE: 'choice'>, id='attribute:25', name='Primer. Forward or Reverse'),\n Attribute(type=<ObjectType.CHOICE: 'choice'>, id='attribute:44', name='test327'),\n Attribute(type=<ObjectType.CHOICE: 'choice'>, id='attribute:23', name='HPLC Method'),\n Attribute(type=<ObjectType.CHOICE: 'choice'>, id='attribute:48', name='test32733'),\n Attribute(type=<ObjectType.CHOICE: 'choice'>, id='attribute:18', name='Inventory Security'),\n Attribute(type=<ObjectType.CHOICE: 'choice'>, id='attribute:19', name='My Number Sequence Attribute 1 (SK)'),\n Attribute(type=<ObjectType.CHOICE: 'choice'>, id='attribute:5', name='Product Id'),\n Attribute(type=<ObjectType.CHOICE: 'choice'>, id='attribute:6', name='Parallel Subexperiment Id'),\n Attribute(type=<ObjectType.CHOICE: 'choice'>, id='attribute:12', name='Sample Id'),\n Attribute(type=<ObjectType.CHOICE: 'choice'>, id='attribute:13', name='Task Id'),\n Attribute(type=<ObjectType.CHOICE: 'choice'>, id='attribute:15', name='Order Id')]"
     },
     "execution_count": 6,
     "metadata": {},
     "output_type": "execute_result"
    }
   ],
   "source": [
    "attributes = Attribute.get_list()\n",
    "all_attributes = list(attributes)\n",
    "all_attributes"
   ],
   "metadata": {
    "collapsed": false,
    "pycharm": {
     "name": "#%%\n"
    }
   }
  },
  {
   "cell_type": "code",
   "execution_count": 7,
   "outputs": [],
   "source": [
    "# CREATION\n",
    "new_attribute = Attribute.create(name='test3273', description='descriptions', options=['option'])"
   ],
   "metadata": {
    "collapsed": false,
    "pycharm": {
     "name": "#%%\n"
    }
   }
  },
  {
   "cell_type": "code",
   "execution_count": 8,
   "outputs": [
    {
     "data": {
      "text/plain": "Attribute(type=<ObjectType.CHOICE: 'choice'>, id='attribute:50', name='test3273')"
     },
     "execution_count": 8,
     "metadata": {},
     "output_type": "execute_result"
    }
   ],
   "source": [
    "new_attribute"
   ],
   "metadata": {
    "collapsed": false,
    "pycharm": {
     "name": "#%%\n"
    }
   }
  },
  {
   "cell_type": "code",
   "execution_count": 9,
   "outputs": [
    {
     "data": {
      "text/plain": "['option']"
     },
     "execution_count": 9,
     "metadata": {},
     "output_type": "execute_result"
    }
   ],
   "source": [
    "new_attribute.options"
   ],
   "metadata": {
    "collapsed": false,
    "pycharm": {
     "name": "#%%\n"
    }
   }
  },
  {
   "cell_type": "code",
   "execution_count": 10,
   "outputs": [
    {
     "data": {
      "text/plain": "['option', 'WARNING']"
     },
     "execution_count": 10,
     "metadata": {},
     "output_type": "execute_result"
    }
   ],
   "source": [
    "new_attribute.add_option('WARNING')\n",
    "new_attribute.options"
   ],
   "metadata": {
    "collapsed": false,
    "pycharm": {
     "name": "#%%\n"
    }
   }
  },
  {
   "cell_type": "code",
   "execution_count": 11,
   "outputs": [
    {
     "data": {
      "text/plain": "['option', 'IMPORTANT']"
     },
     "execution_count": 11,
     "metadata": {},
     "output_type": "execute_result"
    }
   ],
   "source": [
    "new_attribute.update_option('WARNING', 'IMPORTANT')\n",
    "new_attribute.options"
   ],
   "metadata": {
    "collapsed": false,
    "pycharm": {
     "name": "#%%\n"
    }
   }
  },
  {
   "cell_type": "code",
   "execution_count": 12,
   "outputs": [
    {
     "data": {
      "text/plain": "['option']"
     },
     "execution_count": 12,
     "metadata": {},
     "output_type": "execute_result"
    }
   ],
   "source": [
    "new_attribute.delete_option('IMPORTANT')\n",
    "new_attribute.options"
   ],
   "metadata": {
    "collapsed": false,
    "pycharm": {
     "name": "#%%\n"
    }
   }
  },
  {
   "cell_type": "code",
   "execution_count": 13,
   "outputs": [],
   "source": [
    "new_attribute.delete()"
   ],
   "metadata": {
    "collapsed": false,
    "pycharm": {
     "name": "#%%\n"
    }
   }
  },
  {
   "cell_type": "code",
   "execution_count": 16,
   "outputs": [],
   "source": [
    "# CREATION\n",
    "new_attribute = Attribute.create(name='test3273', description='descriptions', options=['option'])"
   ],
   "metadata": {
    "collapsed": false,
    "pycharm": {
     "name": "#%%\n"
    }
   }
  },
  {
   "cell_type": "code",
   "execution_count": 17,
   "outputs": [
    {
     "data": {
      "text/plain": "Attribute(type=<ObjectType.CHOICE: 'choice'>, id='attribute:51', name='test3273')"
     },
     "execution_count": 17,
     "metadata": {},
     "output_type": "execute_result"
    }
   ],
   "source": [
    "new_attribute"
   ],
   "metadata": {
    "collapsed": false,
    "pycharm": {
     "name": "#%%\n"
    }
   }
  },
  {
   "cell_type": "code",
   "execution_count": 18,
   "outputs": [
    {
     "data": {
      "text/plain": "['option']"
     },
     "execution_count": 18,
     "metadata": {},
     "output_type": "execute_result"
    }
   ],
   "source": [
    "new_attribute.options"
   ],
   "metadata": {
    "collapsed": false,
    "pycharm": {
     "name": "#%%\n"
    }
   }
  },
  {
   "cell_type": "code",
   "execution_count": 19,
   "outputs": [
    {
     "data": {
      "text/plain": "['option', 'WARNING']"
     },
     "execution_count": 19,
     "metadata": {},
     "output_type": "execute_result"
    }
   ],
   "source": [
    "new_attribute.add_option('WARNING')\n",
    "new_attribute.options"
   ],
   "metadata": {
    "collapsed": false,
    "pycharm": {
     "name": "#%%\n"
    }
   }
  },
  {
   "cell_type": "code",
   "execution_count": 20,
   "outputs": [
    {
     "data": {
      "text/plain": "['option', 'IMPORTANT']"
     },
     "execution_count": 20,
     "metadata": {},
     "output_type": "execute_result"
    }
   ],
   "source": [
    "new_attribute.update_option('WARNING', 'IMPORTANT')\n",
    "new_attribute.options"
   ],
   "metadata": {
    "collapsed": false,
    "pycharm": {
     "name": "#%%\n"
    }
   }
  },
  {
   "cell_type": "code",
   "execution_count": 21,
   "outputs": [
    {
     "data": {
      "text/plain": "['option']"
     },
     "execution_count": 21,
     "metadata": {},
     "output_type": "execute_result"
    }
   ],
   "source": [
    "new_attribute.delete_option('IMPORTANT')\n",
    "new_attribute.options"
   ],
   "metadata": {
    "collapsed": false,
    "pycharm": {
     "name": "#%%\n"
    }
   }
  },
  {
   "cell_type": "code",
   "execution_count": 22,
   "outputs": [],
   "source": [
    "new_attribute.delete()"
   ],
   "metadata": {
    "collapsed": false,
    "pycharm": {
     "name": "#%%\n"
    }
   }
  },
  {
   "cell_type": "code",
   "execution_count": null,
   "outputs": [],
   "source": [],
   "metadata": {
    "collapsed": false,
    "pycharm": {
     "name": "#%%\n"
    }
   }
  }
 ],
 "metadata": {
  "kernelspec": {
   "display_name": "Python 3",
   "language": "python",
   "name": "python3"
  },
  "language_info": {
   "codemirror_mode": {
    "name": "ipython",
    "version": 2
   },
   "file_extension": ".py",
   "mimetype": "text/x-python",
   "name": "python",
   "nbconvert_exporter": "python",
   "pygments_lexer": "ipython2",
   "version": "2.7.6"
  }
 },
 "nbformat": 4,
 "nbformat_minor": 0
}
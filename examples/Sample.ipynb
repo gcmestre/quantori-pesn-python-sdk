{
 "cells": [
  {
   "cell_type": "code",
   "execution_count": 1,
   "outputs": [],
   "source": [
    "%load_ext dotenv\n",
    "%dotenv\n",
    "import os\n",
    "\n",
    "SN_API_HOST = os.getenv('SN_API_HOST')\n",
    "SN_API_KEY = os.getenv('SN_API_KEY')"
   ],
   "metadata": {
    "collapsed": false,
    "pycharm": {
     "name": "#%%\n"
    }
   }
  },
  {
   "cell_type": "code",
   "execution_count": 2,
   "outputs": [
    {
     "data": {
      "text/plain": "<signals_notebook.api.SignalsNotebookApi at 0x2b33d4e5400>"
     },
     "execution_count": 2,
     "metadata": {},
     "output_type": "execute_result"
    }
   ],
   "source": [
    "from signals_notebook.api import SignalsNotebookApi\n",
    "SignalsNotebookApi.init(SN_API_HOST, SN_API_KEY)"
   ],
   "metadata": {
    "collapsed": false,
    "pycharm": {
     "name": "#%%\n"
    }
   }
  },
  {
   "cell_type": "code",
   "execution_count": 3,
   "outputs": [],
   "source": [
    "from signals_notebook.entities.entity_store import EntityStore"
   ],
   "metadata": {
    "collapsed": false,
    "pycharm": {
     "name": "#%%\n"
    }
   }
  },
  {
   "cell_type": "code",
   "execution_count": 4,
   "outputs": [],
   "source": [
    "sample = EntityStore.get('sample:f356dfe9-3bd7-4ab6-885a-c73d4cc72f13')"
   ],
   "metadata": {
    "collapsed": false,
    "pycharm": {
     "name": "#%%\n"
    }
   }
  },
  {
   "cell_type": "code",
   "execution_count": 5,
   "outputs": [
    {
     "data": {
      "text/plain": "Sample(type=<EntityType.SAMPLE: 'sample'>, eid='sample:f356dfe9-3bd7-4ab6-885a-c73d4cc72f13', digest='47317282', name='Sample-1756', description='', created_at=datetime.datetime(2022, 6, 2, 7, 27, 9, 819000, tzinfo=datetime.timezone.utc), edited_at=datetime.datetime(2022, 6, 8, 14, 27, 31, 315000, tzinfo=datetime.timezone.utc), fields=None)"
     },
     "execution_count": 5,
     "metadata": {},
     "output_type": "execute_result"
    }
   ],
   "source": [
    "sample"
   ],
   "metadata": {
    "collapsed": false,
    "pycharm": {
     "name": "#%%\n"
    }
   }
  },
  {
   "cell_type": "code",
   "execution_count": 6,
   "outputs": [
    {
     "data": {
      "text/plain": "[SampleProperty(id=UUID('b718adec-73e0-3ce3-ac72-0dd11a06a308'), name='ID', content=CellPropertyContent(value='Sample-1756', name=None, eid=None, values=None)),\n SampleProperty(id=UUID('278c491b-dd8a-3361-8c14-9c4ac790da34'), name='Template', content=CellPropertyContent(value='Sample', name=None, eid=None, values=None)),\n SampleProperty(id='digests.self', name=None, content=None),\n SampleProperty(id='digests.external', name=None, content=None),\n SampleProperty(id='1', name='Created Date', content=CellPropertyContent(value='2022-06-02T07:27:10.072365283Z', name=None, eid=None, values=None)),\n SampleProperty(id='2', name='Description', content=CellPropertyContent(value='simple', name=None, eid=None, values=None)),\n SampleProperty(id='3', name='Comments', content=CellPropertyContent(value='555', name=None, eid=None, values=None)),\n SampleProperty(id='4', name='Amount', content=None),\n SampleProperty(id='10', name='Attached Docs', content=CellPropertyContent(value='0', name=None, eid='sample:f356dfe9-3bd7-4ab6-885a-c73d4cc72f13', values=None)),\n SampleProperty(id='sampleId', name='ID', content=CellPropertyContent(value='sample:f356dfe9-3bd7-4ab6-885a-c73d4cc72f13', name=None, eid=None, values=None)),\n SampleProperty(id='sourceName', name='Template', content=CellPropertyContent(value='Sample', name=None, eid=None, values=None)),\n SampleProperty(id='5', name='Chemical Name', content=None),\n SampleProperty(id='6', name='FM', content=None),\n SampleProperty(id='7', name='EM', content=None),\n SampleProperty(id='8', name='MF', content=None),\n SampleProperty(id='9', name='MW', content=None)]"
     },
     "execution_count": 6,
     "metadata": {},
     "output_type": "execute_result"
    }
   ],
   "source": [
    "properties = sample.get_properties()\n",
    "list(properties)"
   ],
   "metadata": {
    "collapsed": false,
    "pycharm": {
     "name": "#%%\n"
    }
   }
  },
  {
   "cell_type": "code",
   "execution_count": 7,
   "outputs": [
    {
     "data": {
      "text/plain": "generator"
     },
     "execution_count": 7,
     "metadata": {},
     "output_type": "execute_result"
    }
   ],
   "source": [
    "type(properties)"
   ],
   "metadata": {
    "collapsed": false,
    "pycharm": {
     "name": "#%%\n"
    }
   }
  },
  {
   "cell_type": "code",
   "execution_count": 8,
   "outputs": [
    {
     "data": {
      "text/plain": "SampleProperty(id='3', name='Comments', content=CellPropertyContent(value='555', name=None, eid=None, values=None))"
     },
     "execution_count": 8,
     "metadata": {},
     "output_type": "execute_result"
    }
   ],
   "source": [
    "sample_property = sample.get_property_by_id('3')\n",
    "sample_property"
   ],
   "metadata": {
    "collapsed": false,
    "pycharm": {
     "name": "#%%\n"
    }
   }
  },
  {
   "cell_type": "code",
   "execution_count": 9,
   "outputs": [],
   "source": [
    "for item in sample.properties:\n",
    "    if item.id == '3':\n",
    "        item.content.set_value('555')"
   ],
   "metadata": {
    "collapsed": false,
    "pycharm": {
     "name": "#%%\n"
    }
   }
  },
  {
   "cell_type": "code",
   "execution_count": 10,
   "outputs": [
    {
     "data": {
      "text/plain": "SampleProperty(id='3', name='Comments', content=CellPropertyContent(value='5', name=None, eid=None, values=None))"
     },
     "execution_count": 10,
     "metadata": {},
     "output_type": "execute_result"
    }
   ],
   "source": [
    "from signals_notebook.entities.samples.sample import SampleProperty\n",
    "from typing import cast\n",
    "\n",
    "property = cast(SampleProperty, sample_property)\n",
    "property.content.set_value('5')\n",
    "property"
   ],
   "metadata": {
    "collapsed": false,
    "pycharm": {
     "name": "#%%\n"
    }
   }
  },
  {
   "cell_type": "code",
   "execution_count": 11,
   "outputs": [
    {
     "data": {
      "text/plain": "[SampleProperty(id=UUID('b718adec-73e0-3ce3-ac72-0dd11a06a308'), name='ID', content=CellPropertyContent(value='Sample-1756', name=None, eid=None, values=None)),\n SampleProperty(id=UUID('278c491b-dd8a-3361-8c14-9c4ac790da34'), name='Template', content=CellPropertyContent(value='Sample', name=None, eid=None, values=None)),\n SampleProperty(id='digests.self', name=None, content=None),\n SampleProperty(id='digests.external', name=None, content=None),\n SampleProperty(id='1', name='Created Date', content=CellPropertyContent(value='2022-06-02T07:27:10.072365283Z', name=None, eid=None, values=None)),\n SampleProperty(id='2', name='Description', content=CellPropertyContent(value='simple', name=None, eid=None, values=None)),\n SampleProperty(id='3', name='Comments', content=CellPropertyContent(value='555', name=None, eid=None, values=None)),\n SampleProperty(id='4', name='Amount', content=None),\n SampleProperty(id='10', name='Attached Docs', content=CellPropertyContent(value='0', name=None, eid='sample:f356dfe9-3bd7-4ab6-885a-c73d4cc72f13', values=None)),\n SampleProperty(id='sampleId', name='ID', content=CellPropertyContent(value='sample:f356dfe9-3bd7-4ab6-885a-c73d4cc72f13', name=None, eid=None, values=None)),\n SampleProperty(id='sourceName', name='Template', content=CellPropertyContent(value='Sample', name=None, eid=None, values=None)),\n SampleProperty(id='5', name='Chemical Name', content=None),\n SampleProperty(id='6', name='FM', content=None),\n SampleProperty(id='7', name='EM', content=None),\n SampleProperty(id='8', name='MF', content=None),\n SampleProperty(id='9', name='MW', content=None)]"
     },
     "execution_count": 11,
     "metadata": {},
     "output_type": "execute_result"
    }
   ],
   "source": [
    "sample.properties"
   ],
   "metadata": {
    "collapsed": false,
    "pycharm": {
     "name": "#%%\n"
    }
   }
  },
  {
   "cell_type": "code",
   "execution_count": 12,
   "outputs": [
    {
     "name": "stdout",
     "output_type": "stream",
     "text": [
      "<class 'signals_notebook.entities.samples.sample.SampleProperty'>\n",
      "<class 'signals_notebook.entities.samples.sample.SampleProperty'>\n",
      "<class 'signals_notebook.entities.samples.sample.SampleProperty'>\n",
      "<class 'signals_notebook.entities.samples.sample.SampleProperty'>\n",
      "<class 'signals_notebook.entities.samples.sample.SampleProperty'>\n",
      "<class 'signals_notebook.entities.samples.sample.SampleProperty'>\n",
      "<class 'signals_notebook.entities.samples.sample.SampleProperty'>\n",
      "<class 'signals_notebook.entities.samples.sample.SampleProperty'>\n",
      "<class 'signals_notebook.entities.samples.sample.SampleProperty'>\n",
      "<class 'signals_notebook.entities.samples.sample.SampleProperty'>\n",
      "<class 'signals_notebook.entities.samples.sample.SampleProperty'>\n",
      "<class 'signals_notebook.entities.samples.sample.SampleProperty'>\n",
      "<class 'signals_notebook.entities.samples.sample.SampleProperty'>\n",
      "<class 'signals_notebook.entities.samples.sample.SampleProperty'>\n",
      "<class 'signals_notebook.entities.samples.sample.SampleProperty'>\n",
      "<class 'signals_notebook.entities.samples.sample.SampleProperty'>\n"
     ]
    }
   ],
   "source": [
    "for item in sample.properties:\n",
    "    print(type(item))"
   ],
   "metadata": {
    "collapsed": false,
    "pycharm": {
     "name": "#%%\n"
    }
   }
  },
  {
   "cell_type": "code",
   "execution_count": 13,
   "outputs": [
    {
     "name": "stdout",
     "output_type": "stream",
     "text": [
      "[{'id': '3', 'type': 'property', 'attributes': {'content': {'value': '555', 'name': None, 'eid': None, 'values': None}}}]\n"
     ]
    },
    {
     "ename": "SignalsNotebookError",
     "evalue": "<SignalsNotebookError status=400 code=BadRequest> title=The request parameters are in bad format. detail=[ERROR - [Path '/data/attributes'] Instance failed to match exactly one schema (matched 0 out of 2): [/properties/data/properties/attributes/oneOf/0: Object instance has properties which are not allowed by the schema: [\"eid\"], /properties/data/properties/attributes/oneOf/0: Instance type (null) does not match any allowed primitive type (allowed: [\"string\"]), /properties/data/properties/attributes/oneOf/0: Instance type (null) does not match any allowed primitive type (allowed: [\"array\"]), /properties/data/properties/attributes/oneOf/1: Object instance has properties which are not allowed by the schema: [\"data\"], /properties/data/properties/attributes/oneOf/1: Object has missing required properties ([\"content\"])]\n\tERROR - [Path '/data/attributes/data/0/attributes/content'] Object instance has properties which are not allowed by the schema: [\"eid\"]: []\n\tERROR - [Path '/data/attributes/data/0/attributes/content/name'] Instance type (null) does not match any allowed primitive type (allowed: [\"string\"]): []\n\tERROR - [Path '/data/attributes/data/0/attributes/content/values'] Instance type (null) does not match any allowed primitive type (allowed: [\"array\"]): []\n\tERROR - [Path '/data/attributes'] Object instance has properties which are not allowed by the schema: [\"data\"]: []\n\tERROR - [Path '/data/attributes'] Object has missing required properties ([\"content\"]): []]>",
     "output_type": "error",
     "traceback": [
      "\u001B[1;31m---------------------------------------------------------------------------\u001B[0m",
      "\u001B[1;31mSignalsNotebookError\u001B[0m                      Traceback (most recent call last)",
      "Input \u001B[1;32mIn [13]\u001B[0m, in \u001B[0;36m<cell line: 1>\u001B[1;34m()\u001B[0m\n\u001B[1;32m----> 1\u001B[0m sample_property_patched \u001B[38;5;241m=\u001B[39m \u001B[43msample\u001B[49m\u001B[38;5;241;43m.\u001B[39;49m\u001B[43msave\u001B[49m\u001B[43m(\u001B[49m\u001B[43m)\u001B[49m\n",
      "File \u001B[1;32mC:\\coding\\pesn-python-sdk\\src\\signals_notebook\\entities\\samples\\sample.py:140\u001B[0m, in \u001B[0;36mSample.save\u001B[1;34m(self, force)\u001B[0m\n\u001B[0;32m    138\u001B[0m         request_body\u001B[38;5;241m.\u001B[39mappend(item\u001B[38;5;241m.\u001B[39mrepresentation_for_update\u001B[38;5;241m.\u001B[39mdict())\n\u001B[0;32m    139\u001B[0m \u001B[38;5;28mprint\u001B[39m(request_body)  \u001B[38;5;66;03m# TODO: fix patch here\u001B[39;00m\n\u001B[1;32m--> 140\u001B[0m \u001B[43mapi\u001B[49m\u001B[38;5;241;43m.\u001B[39;49m\u001B[43mcall\u001B[49m\u001B[43m(\u001B[49m\n\u001B[0;32m    141\u001B[0m \u001B[43m    \u001B[49m\u001B[43mmethod\u001B[49m\u001B[38;5;241;43m=\u001B[39;49m\u001B[38;5;124;43m'\u001B[39;49m\u001B[38;5;124;43mPATCH\u001B[39;49m\u001B[38;5;124;43m'\u001B[39;49m\u001B[43m,\u001B[49m\n\u001B[0;32m    142\u001B[0m \u001B[43m    \u001B[49m\u001B[43mpath\u001B[49m\u001B[38;5;241;43m=\u001B[39;49m\u001B[43m(\u001B[49m\u001B[38;5;28;43mself\u001B[39;49m\u001B[38;5;241;43m.\u001B[39;49m\u001B[43m_get_samples_endpoint\u001B[49m\u001B[43m(\u001B[49m\u001B[43m)\u001B[49m\u001B[43m,\u001B[49m\u001B[43m \u001B[49m\u001B[38;5;28;43mself\u001B[39;49m\u001B[38;5;241;43m.\u001B[39;49m\u001B[43meid\u001B[49m\u001B[43m,\u001B[49m\u001B[43m \u001B[49m\u001B[38;5;124;43m'\u001B[39;49m\u001B[38;5;124;43mproperties\u001B[39;49m\u001B[38;5;124;43m'\u001B[39;49m\u001B[43m)\u001B[49m\u001B[43m,\u001B[49m\n\u001B[0;32m    143\u001B[0m \u001B[43m    \u001B[49m\u001B[43mparams\u001B[49m\u001B[38;5;241;43m=\u001B[39;49m\u001B[43m{\u001B[49m\n\u001B[0;32m    144\u001B[0m \u001B[43m        \u001B[49m\u001B[38;5;124;43m'\u001B[39;49m\u001B[38;5;124;43mforce\u001B[39;49m\u001B[38;5;124;43m'\u001B[39;49m\u001B[43m:\u001B[49m\u001B[43m \u001B[49m\u001B[43mjson\u001B[49m\u001B[38;5;241;43m.\u001B[39;49m\u001B[43mdumps\u001B[49m\u001B[43m(\u001B[49m\u001B[43mforce\u001B[49m\u001B[43m)\u001B[49m\u001B[43m,\u001B[49m\n\u001B[0;32m    145\u001B[0m \u001B[43m        \u001B[49m\u001B[38;5;124;43m'\u001B[39;49m\u001B[38;5;124;43mvalue\u001B[39;49m\u001B[38;5;124;43m'\u001B[39;49m\u001B[43m:\u001B[49m\u001B[43m \u001B[49m\u001B[38;5;124;43m'\u001B[39;49m\u001B[38;5;124;43mnormalized\u001B[39;49m\u001B[38;5;124;43m'\u001B[39;49m\u001B[43m,\u001B[49m\n\u001B[0;32m    146\u001B[0m \u001B[43m    \u001B[49m\u001B[43m}\u001B[49m\u001B[43m,\u001B[49m\n\u001B[0;32m    147\u001B[0m \u001B[43m    \u001B[49m\u001B[43mjson\u001B[49m\u001B[38;5;241;43m=\u001B[39;49m\u001B[43m{\u001B[49m\n\u001B[0;32m    148\u001B[0m \u001B[43m        \u001B[49m\u001B[38;5;124;43m'\u001B[39;49m\u001B[38;5;124;43mdata\u001B[39;49m\u001B[38;5;124;43m'\u001B[39;49m\u001B[43m:\u001B[49m\u001B[43m \u001B[49m\u001B[43m{\u001B[49m\u001B[38;5;124;43m'\u001B[39;49m\u001B[38;5;124;43mattributes\u001B[39;49m\u001B[38;5;124;43m'\u001B[39;49m\u001B[43m:\u001B[49m\u001B[43m \u001B[49m\u001B[43m{\u001B[49m\u001B[38;5;124;43m'\u001B[39;49m\u001B[38;5;124;43mdata\u001B[39;49m\u001B[38;5;124;43m'\u001B[39;49m\u001B[43m:\u001B[49m\u001B[43m \u001B[49m\u001B[43mrequest_body\u001B[49m\u001B[43m}\u001B[49m\u001B[43m}\u001B[49m\u001B[43m,\u001B[49m\n\u001B[0;32m    149\u001B[0m \u001B[43m    \u001B[49m\u001B[43m}\u001B[49m\u001B[43m,\u001B[49m\n\u001B[0;32m    150\u001B[0m \u001B[43m\u001B[49m\u001B[43m)\u001B[49m\n\u001B[0;32m    151\u001B[0m \u001B[38;5;28mself\u001B[39m\u001B[38;5;241m.\u001B[39m_reload_properties()\n",
      "File \u001B[1;32mC:\\coding\\pesn-python-sdk\\src\\signals_notebook\\api.py:118\u001B[0m, in \u001B[0;36mSignalsNotebookApi.call\u001B[1;34m(self, method, path, params, data, json, headers)\u001B[0m\n\u001B[0;32m    112\u001B[0m \u001B[38;5;28;01mif\u001B[39;00m \u001B[38;5;129;01mnot\u001B[39;00m response\u001B[38;5;241m.\u001B[39mok:\n\u001B[0;32m    113\u001B[0m     log\u001B[38;5;241m.\u001B[39merror(\n\u001B[0;32m    114\u001B[0m         \u001B[38;5;124m'\u001B[39m\u001B[38;5;124mError has been occurred while getting response, status code: \u001B[39m\u001B[38;5;132;01m%s\u001B[39;00m\u001B[38;5;124m'\u001B[39m,\n\u001B[0;32m    115\u001B[0m         response\u001B[38;5;241m.\u001B[39mstatus_code,\n\u001B[0;32m    116\u001B[0m         extra\u001B[38;5;241m=\u001B[39m{\u001B[38;5;124m'\u001B[39m\u001B[38;5;124mresponse\u001B[39m\u001B[38;5;124m'\u001B[39m: response},\n\u001B[0;32m    117\u001B[0m     )\n\u001B[1;32m--> 118\u001B[0m     \u001B[38;5;28;01mraise\u001B[39;00m SignalsNotebookError(response)\n\u001B[0;32m    119\u001B[0m log\u001B[38;5;241m.\u001B[39minfo(\u001B[38;5;124m'\u001B[39m\u001B[38;5;124mSuccessful request - HTTP url: \u001B[39m\u001B[38;5;132;01m%s\u001B[39;00m\u001B[38;5;124m, status code: \u001B[39m\u001B[38;5;132;01m%s\u001B[39;00m\u001B[38;5;124m'\u001B[39m, response\u001B[38;5;241m.\u001B[39murl, response\u001B[38;5;241m.\u001B[39mstatus_code)\n\u001B[0;32m    121\u001B[0m \u001B[38;5;28;01mreturn\u001B[39;00m response\n",
      "\u001B[1;31mSignalsNotebookError\u001B[0m: <SignalsNotebookError status=400 code=BadRequest> title=The request parameters are in bad format. detail=[ERROR - [Path '/data/attributes'] Instance failed to match exactly one schema (matched 0 out of 2): [/properties/data/properties/attributes/oneOf/0: Object instance has properties which are not allowed by the schema: [\"eid\"], /properties/data/properties/attributes/oneOf/0: Instance type (null) does not match any allowed primitive type (allowed: [\"string\"]), /properties/data/properties/attributes/oneOf/0: Instance type (null) does not match any allowed primitive type (allowed: [\"array\"]), /properties/data/properties/attributes/oneOf/1: Object instance has properties which are not allowed by the schema: [\"data\"], /properties/data/properties/attributes/oneOf/1: Object has missing required properties ([\"content\"])]\n\tERROR - [Path '/data/attributes/data/0/attributes/content'] Object instance has properties which are not allowed by the schema: [\"eid\"]: []\n\tERROR - [Path '/data/attributes/data/0/attributes/content/name'] Instance type (null) does not match any allowed primitive type (allowed: [\"string\"]): []\n\tERROR - [Path '/data/attributes/data/0/attributes/content/values'] Instance type (null) does not match any allowed primitive type (allowed: [\"array\"]): []\n\tERROR - [Path '/data/attributes'] Object instance has properties which are not allowed by the schema: [\"data\"]: []\n\tERROR - [Path '/data/attributes'] Object has missing required properties ([\"content\"]): []]>"
     ]
    }
   ],
   "source": [
    "sample_property_patched = sample.save()"
   ],
   "metadata": {
    "collapsed": false,
    "pycharm": {
     "name": "#%%\n"
    }
   }
  },
  {
   "cell_type": "code",
   "execution_count": null,
   "outputs": [],
   "source": [
    "sample_property_patched"
   ],
   "metadata": {
    "collapsed": false,
    "pycharm": {
     "name": "#%%\n"
    }
   }
  },
  {
   "cell_type": "code",
   "execution_count": null,
   "outputs": [],
   "source": [
    "# if we are trying to change this property again - we will get an exception\n",
    "sample_property_pathed_again = sample.patch_property_by_id('3')"
   ],
   "metadata": {
    "collapsed": false,
    "pycharm": {
     "name": "#%%\n"
    }
   }
  },
  {
   "cell_type": "code",
   "execution_count": 14,
   "outputs": [],
   "source": [
    "from signals_notebook.entities import Sample\n",
    "experiment = EntityStore.get(\"experiment:f7fb12b2-1180-4fa0-9bcd-ccc2f7ec0e8f\")"
   ],
   "metadata": {
    "collapsed": false,
    "pycharm": {
     "name": "#%%\n"
    }
   }
  },
  {
   "cell_type": "code",
   "execution_count": 17,
   "outputs": [],
   "source": [
    "from signals_notebook.entities.samples.cell import CellPropertyContent\n",
    "\n",
    "new_sample_property = SampleProperty(\n",
    "    id='3',\n",
    "    content=CellPropertyContent(value='create_NEW_SAMPLE'),\n",
    ")\n",
    "\n",
    "new_sample = Sample.create(\n",
    "    sample_eid='sample:fcaa5e11-ace8-4d2c-a212-293dad3c2122',\n",
    "    fields=[new_sample_property],\n",
    "    template=experiment,\n",
    ")"
   ],
   "metadata": {
    "collapsed": false,
    "pycharm": {
     "name": "#%%\n"
    }
   }
  },
  {
   "cell_type": "code",
   "execution_count": 18,
   "outputs": [
    {
     "data": {
      "text/plain": "Sample(type=<EntityType.SAMPLE: 'sample'>, eid='sample:fa34c835-6271-4c59-b320-ff26089e89c6', digest='96611128', name='Sample-1776', description='', created_at=datetime.datetime(2022, 6, 13, 13, 54, 43, 40000, tzinfo=datetime.timezone.utc), edited_at=datetime.datetime(2022, 6, 13, 13, 54, 43, 40000, tzinfo=datetime.timezone.utc), fields={'Description': FieldData(display=None, value='', units=None, eid=None), 'Name': FieldData(display=None, value='Sample-1776', units=None, eid=None)})"
     },
     "execution_count": 18,
     "metadata": {},
     "output_type": "execute_result"
    }
   ],
   "source": [
    "new_sample"
   ],
   "metadata": {
    "collapsed": false,
    "pycharm": {
     "name": "#%%\n"
    }
   }
  },
  {
   "cell_type": "code",
   "execution_count": null,
   "outputs": [],
   "source": [
    "new_sample.delete()"
   ],
   "metadata": {
    "collapsed": false,
    "pycharm": {
     "name": "#%%\n"
    }
   }
  },
  {
   "cell_type": "code",
   "execution_count": null,
   "outputs": [],
   "source": [],
   "metadata": {
    "collapsed": false,
    "pycharm": {
     "name": "#%%\n"
    }
   }
  }
 ],
 "metadata": {
  "kernelspec": {
   "display_name": "Python 3",
   "language": "python",
   "name": "python3"
  },
  "language_info": {
   "codemirror_mode": {
    "name": "ipython",
    "version": 2
   },
   "file_extension": ".py",
   "mimetype": "text/x-python",
   "name": "python",
   "nbconvert_exporter": "python",
   "pygments_lexer": "ipython2",
   "version": "2.7.6"
  }
 },
 "nbformat": 4,
 "nbformat_minor": 0
}
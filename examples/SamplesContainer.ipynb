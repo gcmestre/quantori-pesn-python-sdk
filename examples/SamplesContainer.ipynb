{
 "cells": [
  {
   "cell_type": "code",
   "execution_count": 1,
   "outputs": [],
   "source": [
    "%load_ext dotenv\n",
    "%dotenv\n",
    "import os\n",
    "\n",
    "SN_API_HOST = os.getenv('SN_API_HOST')\n",
    "SN_API_KEY = os.getenv('SN_API_KEY')"
   ],
   "metadata": {
    "collapsed": false,
    "pycharm": {
     "name": "#%%\n"
    }
   }
  },
  {
   "cell_type": "code",
   "execution_count": 2,
   "outputs": [
    {
     "data": {
      "text/plain": "<signals_notebook.api.SignalsNotebookApi at 0x195a99773a0>"
     },
     "execution_count": 2,
     "metadata": {},
     "output_type": "execute_result"
    }
   ],
   "source": [
    "from signals_notebook.api import SignalsNotebookApi\n",
    "SignalsNotebookApi.init(SN_API_HOST, SN_API_KEY)"
   ],
   "metadata": {
    "collapsed": false,
    "pycharm": {
     "name": "#%%\n"
    }
   }
  },
  {
   "cell_type": "code",
   "execution_count": 3,
   "outputs": [],
   "source": [
    "from signals_notebook.entities.entity_store import EntityStore\n",
    "samplesContainer = EntityStore.get('samplesContainer:3cd945e0-134d-4ae5-94a9-b6aee55528b2')"
   ],
   "metadata": {
    "collapsed": false,
    "pycharm": {
     "name": "#%%\n"
    }
   }
  },
  {
   "cell_type": "code",
   "execution_count": 4,
   "outputs": [
    {
     "data": {
      "text/plain": "File(name='Samples+Table.csv', content=b'ID,Created Date,Description,Comments,Amount,Attached Docs,Template\\r\\nSample-1776,2022-06-13T13:54:43.380521116Z,,5555,,0,Sample\\r\\nSample-1777,2022-06-13T13:55:51.211451408Z,555,,,0,Sample\\r\\nSample-1778,2022-06-13T13:59:34.535249108Z,,,,0,Sample\\r\\nSample-1779,2022-06-13T14:00:31.649713156Z,,,,0,Sample\\r\\nSample-1781,2022-06-14T09:51:10.942740735Z,,create_NEW_SAMPLE,,0,Sample\\r\\n', content_type='text/csv')"
     },
     "execution_count": 4,
     "metadata": {},
     "output_type": "execute_result"
    }
   ],
   "source": [
    "samplesContainer.get_content()"
   ],
   "metadata": {
    "collapsed": false,
    "pycharm": {
     "name": "#%%\n"
    }
   }
  },
  {
   "cell_type": "code",
   "execution_count": 5,
   "outputs": [
    {
     "name": "stderr",
     "output_type": "stream",
     "text": [
      "C:\\Users\\d.cherednichenko\\AppData\\Local\\Temp\\ipykernel_23876\\3925987743.py:1: DeprecationWarning: Importing display from IPython.core.display is deprecated since IPython 7.14, please import from IPython display\n",
      "  from IPython.core.display import display, HTML\n"
     ]
    },
    {
     "data": {
      "text/plain": "<IPython.core.display.HTML object>",
      "text/html": "\n<div class=\"table-wrapper\" style=\"margin: 10px 10px; padding: 6px 10px; border: solid 1px #f5f5f5;\">\n    <div class=\"table-scroll\">\n        <h2>Samples Table</h2>\n        <table>\n            <thead>\n                <tr>\n                \n                    <th>ID</th>\n                \n                    <th>Created Date</th>\n                \n                    <th>Description</th>\n                \n                    <th>Comments</th>\n                \n                    <th>Amount</th>\n                \n                    <th>Attached Docs</th>\n                \n                    <th>Template</th>\n                \n                </tr>\n            </thead>\n            <tbody>\n            \n                <tr>\n                \n                    <td>Sample-1776</td>\n                \n                    <td>2022-06-13T13:54:43.380521116Z</td>\n                \n                    <td></td>\n                \n                    <td>5555</td>\n                \n                    <td></td>\n                \n                    <td>0</td>\n                \n                    <td>Sample</td>\n                \n                </tr>\n            \n                <tr>\n                \n                    <td>Sample-1777</td>\n                \n                    <td>2022-06-13T13:55:51.211451408Z</td>\n                \n                    <td>555</td>\n                \n                    <td></td>\n                \n                    <td></td>\n                \n                    <td>0</td>\n                \n                    <td>Sample</td>\n                \n                </tr>\n            \n                <tr>\n                \n                    <td>Sample-1778</td>\n                \n                    <td>2022-06-13T13:59:34.535249108Z</td>\n                \n                    <td></td>\n                \n                    <td></td>\n                \n                    <td></td>\n                \n                    <td>0</td>\n                \n                    <td>Sample</td>\n                \n                </tr>\n            \n                <tr>\n                \n                    <td>Sample-1779</td>\n                \n                    <td>2022-06-13T14:00:31.649713156Z</td>\n                \n                    <td></td>\n                \n                    <td></td>\n                \n                    <td></td>\n                \n                    <td>0</td>\n                \n                    <td>Sample</td>\n                \n                </tr>\n            \n                <tr>\n                \n                    <td>Sample-1781</td>\n                \n                    <td>2022-06-14T09:51:10.942740735Z</td>\n                \n                    <td></td>\n                \n                    <td>create_NEW_SAMPLE</td>\n                \n                    <td></td>\n                \n                    <td>0</td>\n                \n                    <td>Sample</td>\n                \n                </tr>\n            \n            </tbody>\n        </table>\n    </div>\n</div>\n"
     },
     "metadata": {},
     "output_type": "display_data"
    }
   ],
   "source": [
    "from IPython.core.display import display, HTML\n",
    "\n",
    "samples_container_html = samplesContainer.get_html()\n",
    "display(HTML(data=samples_container_html))"
   ],
   "metadata": {
    "collapsed": false,
    "pycharm": {
     "name": "#%%\n"
    }
   }
  },
  {
   "cell_type": "code",
   "execution_count": 6,
   "outputs": [],
   "source": [
    "samples_generator = samplesContainer.get_samples()"
   ],
   "metadata": {
    "collapsed": false,
    "pycharm": {
     "name": "#%%\n"
    }
   }
  },
  {
   "cell_type": "code",
   "execution_count": 7,
   "outputs": [
    {
     "name": "stdout",
     "output_type": "stream",
     "text": [
      "{'links': {'self': 'https://quantori.signalsnotebook.perkinelmer.cloud/api/rest/v1.0/entities/samplesContainer:3cd945e0-134d-4ae5-94a9-b6aee55528b2/children?page[offset]=0&page[limit]=20', 'first': 'https://quantori.signalsnotebook.perkinelmer.cloud/api/rest/v1.0/entities/samplesContainer:3cd945e0-134d-4ae5-94a9-b6aee55528b2/children?page[offset]=0&page[limit]=20'}, 'data': [{'type': 'entity', 'id': 'sample:fa34c835-6271-4c59-b320-ff26089e89c6', 'links': {'self': 'https://quantori.signalsnotebook.perkinelmer.cloud/api/rest/v1.0/entities/sample:fa34c835-6271-4c59-b320-ff26089e89c6'}, 'attributes': {'id': 'sample:fa34c835-6271-4c59-b320-ff26089e89c6', 'eid': 'sample:fa34c835-6271-4c59-b320-ff26089e89c6', 'name': 'Sample-1776', 'description': '', 'createdAt': '2022-06-13T13:54:43.040Z', 'editedAt': '2022-06-15T12:20:52.715Z', 'type': 'sample', 'digest': '58181453', 'fields': {'Description': {'value': ''}, 'Name': {'value': 'Sample-1776'}}, 'flags': {'canEdit': True}}, 'relationships': {'createdBy': {'links': {'self': 'https://quantori.signalsnotebook.perkinelmer.cloud/api/rest/v1.0/users/103'}, 'data': {'type': 'user', 'id': '103'}}, 'editedBy': {'links': {'self': 'https://quantori.signalsnotebook.perkinelmer.cloud/api/rest/v1.0/users/103'}, 'data': {'type': 'user', 'id': '103'}}, 'ancestors': {'links': {'self': 'https://quantori.signalsnotebook.perkinelmer.cloud/api/rest/v1.0/entities/sample:fa34c835-6271-4c59-b320-ff26089e89c6/ancestors'}, 'data': [{'type': 'entity', 'id': 'journal:111a8a0d-2772-47b0-b5b8-2e4faf04119e', 'meta': {'links': {'self': 'https://quantori.signalsnotebook.perkinelmer.cloud/api/rest/v1.0/entities/journal:111a8a0d-2772-47b0-b5b8-2e4faf04119e'}}}, {'type': 'entity', 'id': 'experiment:f7fb12b2-1180-4fa0-9bcd-ccc2f7ec0e8f', 'meta': {'links': {'self': 'https://quantori.signalsnotebook.perkinelmer.cloud/api/rest/v1.0/entities/experiment:f7fb12b2-1180-4fa0-9bcd-ccc2f7ec0e8f'}}}, {'type': 'entity', 'id': 'samplesContainer:3cd945e0-134d-4ae5-94a9-b6aee55528b2', 'meta': {'links': {'self': 'https://quantori.signalsnotebook.perkinelmer.cloud/api/rest/v1.0/entities/samplesContainer:3cd945e0-134d-4ae5-94a9-b6aee55528b2'}}}]}, 'owner': {'links': {'self': 'https://quantori.signalsnotebook.perkinelmer.cloud/api/rest/v1.0/users/103'}, 'data': {'type': 'user', 'id': '103'}}, 'properties': {'links': {'self': 'https://quantori.signalsnotebook.perkinelmer.cloud/api/rest/v1.0/samples/sample:fa34c835-6271-4c59-b320-ff26089e89c6/properties'}}, 'chemical': {'links': {'self': 'https://quantori.signalsnotebook.perkinelmer.cloud/api/rest/v1.0/samples/sample:fa34c835-6271-4c59-b320-ff26089e89c6/export?format=mol'}}}}, {'type': 'entity', 'id': 'sample:ef8f39e5-3309-4f85-abd6-3ceedce0d8a6', 'links': {'self': 'https://quantori.signalsnotebook.perkinelmer.cloud/api/rest/v1.0/entities/sample:ef8f39e5-3309-4f85-abd6-3ceedce0d8a6'}, 'attributes': {'id': 'sample:ef8f39e5-3309-4f85-abd6-3ceedce0d8a6', 'eid': 'sample:ef8f39e5-3309-4f85-abd6-3ceedce0d8a6', 'name': 'Sample-1777', 'description': '', 'createdAt': '2022-06-13T13:55:51.150Z', 'editedAt': '2022-06-14T10:46:52.907Z', 'type': 'sample', 'digest': '78660064', 'fields': {'Description': {'value': ''}, 'Name': {'value': 'Sample-1777'}}, 'flags': {'canEdit': True}}, 'relationships': {'createdBy': {'links': {'self': 'https://quantori.signalsnotebook.perkinelmer.cloud/api/rest/v1.0/users/136'}, 'data': {'type': 'user', 'id': '136'}}, 'editedBy': {'links': {'self': 'https://quantori.signalsnotebook.perkinelmer.cloud/api/rest/v1.0/users/103'}, 'data': {'type': 'user', 'id': '103'}}, 'ancestors': {'links': {'self': 'https://quantori.signalsnotebook.perkinelmer.cloud/api/rest/v1.0/entities/sample:ef8f39e5-3309-4f85-abd6-3ceedce0d8a6/ancestors'}, 'data': [{'type': 'entity', 'id': 'journal:111a8a0d-2772-47b0-b5b8-2e4faf04119e', 'meta': {'links': {'self': 'https://quantori.signalsnotebook.perkinelmer.cloud/api/rest/v1.0/entities/journal:111a8a0d-2772-47b0-b5b8-2e4faf04119e'}}}, {'type': 'entity', 'id': 'experiment:f7fb12b2-1180-4fa0-9bcd-ccc2f7ec0e8f', 'meta': {'links': {'self': 'https://quantori.signalsnotebook.perkinelmer.cloud/api/rest/v1.0/entities/experiment:f7fb12b2-1180-4fa0-9bcd-ccc2f7ec0e8f'}}}, {'type': 'entity', 'id': 'samplesContainer:3cd945e0-134d-4ae5-94a9-b6aee55528b2', 'meta': {'links': {'self': 'https://quantori.signalsnotebook.perkinelmer.cloud/api/rest/v1.0/entities/samplesContainer:3cd945e0-134d-4ae5-94a9-b6aee55528b2'}}}]}, 'owner': {'links': {'self': 'https://quantori.signalsnotebook.perkinelmer.cloud/api/rest/v1.0/users/103'}, 'data': {'type': 'user', 'id': '103'}}, 'properties': {'links': {'self': 'https://quantori.signalsnotebook.perkinelmer.cloud/api/rest/v1.0/samples/sample:ef8f39e5-3309-4f85-abd6-3ceedce0d8a6/properties'}}, 'chemical': {'links': {'self': 'https://quantori.signalsnotebook.perkinelmer.cloud/api/rest/v1.0/samples/sample:ef8f39e5-3309-4f85-abd6-3ceedce0d8a6/export?format=mol'}}}}, {'type': 'entity', 'id': 'sample:3ef80703-612e-465a-b930-f3e154dd1937', 'links': {'self': 'https://quantori.signalsnotebook.perkinelmer.cloud/api/rest/v1.0/entities/sample:3ef80703-612e-465a-b930-f3e154dd1937'}, 'attributes': {'id': 'sample:3ef80703-612e-465a-b930-f3e154dd1937', 'eid': 'sample:3ef80703-612e-465a-b930-f3e154dd1937', 'name': 'Sample-1778', 'description': '', 'createdAt': '2022-06-13T13:59:34.447Z', 'editedAt': '2022-06-13T13:59:34.447Z', 'type': 'sample', 'digest': '18903856', 'fields': {'Description': {'value': ''}, 'Name': {'value': 'Sample-1778'}}, 'flags': {'canEdit': True}}, 'relationships': {'createdBy': {'links': {'self': 'https://quantori.signalsnotebook.perkinelmer.cloud/api/rest/v1.0/users/136'}, 'data': {'type': 'user', 'id': '136'}}, 'editedBy': {'links': {'self': 'https://quantori.signalsnotebook.perkinelmer.cloud/api/rest/v1.0/users/136'}, 'data': {'type': 'user', 'id': '136'}}, 'ancestors': {'links': {'self': 'https://quantori.signalsnotebook.perkinelmer.cloud/api/rest/v1.0/entities/sample:3ef80703-612e-465a-b930-f3e154dd1937/ancestors'}, 'data': [{'type': 'entity', 'id': 'journal:111a8a0d-2772-47b0-b5b8-2e4faf04119e', 'meta': {'links': {'self': 'https://quantori.signalsnotebook.perkinelmer.cloud/api/rest/v1.0/entities/journal:111a8a0d-2772-47b0-b5b8-2e4faf04119e'}}}, {'type': 'entity', 'id': 'experiment:f7fb12b2-1180-4fa0-9bcd-ccc2f7ec0e8f', 'meta': {'links': {'self': 'https://quantori.signalsnotebook.perkinelmer.cloud/api/rest/v1.0/entities/experiment:f7fb12b2-1180-4fa0-9bcd-ccc2f7ec0e8f'}}}, {'type': 'entity', 'id': 'samplesContainer:3cd945e0-134d-4ae5-94a9-b6aee55528b2', 'meta': {'links': {'self': 'https://quantori.signalsnotebook.perkinelmer.cloud/api/rest/v1.0/entities/samplesContainer:3cd945e0-134d-4ae5-94a9-b6aee55528b2'}}}]}, 'owner': {'links': {'self': 'https://quantori.signalsnotebook.perkinelmer.cloud/api/rest/v1.0/users/103'}, 'data': {'type': 'user', 'id': '103'}}, 'properties': {'links': {'self': 'https://quantori.signalsnotebook.perkinelmer.cloud/api/rest/v1.0/samples/sample:3ef80703-612e-465a-b930-f3e154dd1937/properties'}}, 'chemical': {'links': {'self': 'https://quantori.signalsnotebook.perkinelmer.cloud/api/rest/v1.0/samples/sample:3ef80703-612e-465a-b930-f3e154dd1937/export?format=mol'}}}}, {'type': 'entity', 'id': 'sample:20080759-ae7b-4529-972b-85a089f9e6fd', 'links': {'self': 'https://quantori.signalsnotebook.perkinelmer.cloud/api/rest/v1.0/entities/sample:20080759-ae7b-4529-972b-85a089f9e6fd'}, 'attributes': {'id': 'sample:20080759-ae7b-4529-972b-85a089f9e6fd', 'eid': 'sample:20080759-ae7b-4529-972b-85a089f9e6fd', 'name': 'Sample-1779', 'description': '', 'createdAt': '2022-06-13T14:00:31.590Z', 'editedAt': '2022-06-13T14:00:31.590Z', 'type': 'sample', 'digest': '78266344', 'fields': {'Description': {'value': ''}, 'Name': {'value': 'Sample-1779'}}, 'flags': {'canEdit': True}}, 'relationships': {'createdBy': {'links': {'self': 'https://quantori.signalsnotebook.perkinelmer.cloud/api/rest/v1.0/users/136'}, 'data': {'type': 'user', 'id': '136'}}, 'editedBy': {'links': {'self': 'https://quantori.signalsnotebook.perkinelmer.cloud/api/rest/v1.0/users/136'}, 'data': {'type': 'user', 'id': '136'}}, 'ancestors': {'links': {'self': 'https://quantori.signalsnotebook.perkinelmer.cloud/api/rest/v1.0/entities/sample:20080759-ae7b-4529-972b-85a089f9e6fd/ancestors'}, 'data': [{'type': 'entity', 'id': 'journal:111a8a0d-2772-47b0-b5b8-2e4faf04119e', 'meta': {'links': {'self': 'https://quantori.signalsnotebook.perkinelmer.cloud/api/rest/v1.0/entities/journal:111a8a0d-2772-47b0-b5b8-2e4faf04119e'}}}, {'type': 'entity', 'id': 'experiment:f7fb12b2-1180-4fa0-9bcd-ccc2f7ec0e8f', 'meta': {'links': {'self': 'https://quantori.signalsnotebook.perkinelmer.cloud/api/rest/v1.0/entities/experiment:f7fb12b2-1180-4fa0-9bcd-ccc2f7ec0e8f'}}}, {'type': 'entity', 'id': 'samplesContainer:3cd945e0-134d-4ae5-94a9-b6aee55528b2', 'meta': {'links': {'self': 'https://quantori.signalsnotebook.perkinelmer.cloud/api/rest/v1.0/entities/samplesContainer:3cd945e0-134d-4ae5-94a9-b6aee55528b2'}}}]}, 'owner': {'links': {'self': 'https://quantori.signalsnotebook.perkinelmer.cloud/api/rest/v1.0/users/103'}, 'data': {'type': 'user', 'id': '103'}}, 'properties': {'links': {'self': 'https://quantori.signalsnotebook.perkinelmer.cloud/api/rest/v1.0/samples/sample:20080759-ae7b-4529-972b-85a089f9e6fd/properties'}}, 'chemical': {'links': {'self': 'https://quantori.signalsnotebook.perkinelmer.cloud/api/rest/v1.0/samples/sample:20080759-ae7b-4529-972b-85a089f9e6fd/export?format=mol'}}}}, {'type': 'entity', 'id': 'sample:2d9c3f5c-065a-4d56-992f-c0b2003eb9be', 'links': {'self': 'https://quantori.signalsnotebook.perkinelmer.cloud/api/rest/v1.0/entities/sample:2d9c3f5c-065a-4d56-992f-c0b2003eb9be'}, 'attributes': {'id': 'sample:2d9c3f5c-065a-4d56-992f-c0b2003eb9be', 'eid': 'sample:2d9c3f5c-065a-4d56-992f-c0b2003eb9be', 'name': 'Sample-1781', 'description': '', 'createdAt': '2022-06-14T09:51:10.765Z', 'editedAt': '2022-06-14T09:51:10.765Z', 'type': 'sample', 'digest': '25881025', 'fields': {'Description': {'value': ''}, 'Name': {'value': 'Sample-1781'}}, 'flags': {'canEdit': True}}, 'relationships': {'createdBy': {'links': {'self': 'https://quantori.signalsnotebook.perkinelmer.cloud/api/rest/v1.0/users/103'}, 'data': {'type': 'user', 'id': '103'}}, 'editedBy': {'links': {'self': 'https://quantori.signalsnotebook.perkinelmer.cloud/api/rest/v1.0/users/103'}, 'data': {'type': 'user', 'id': '103'}}, 'ancestors': {'links': {'self': 'https://quantori.signalsnotebook.perkinelmer.cloud/api/rest/v1.0/entities/sample:2d9c3f5c-065a-4d56-992f-c0b2003eb9be/ancestors'}, 'data': [{'type': 'entity', 'id': 'journal:111a8a0d-2772-47b0-b5b8-2e4faf04119e', 'meta': {'links': {'self': 'https://quantori.signalsnotebook.perkinelmer.cloud/api/rest/v1.0/entities/journal:111a8a0d-2772-47b0-b5b8-2e4faf04119e'}}}, {'type': 'entity', 'id': 'experiment:f7fb12b2-1180-4fa0-9bcd-ccc2f7ec0e8f', 'meta': {'links': {'self': 'https://quantori.signalsnotebook.perkinelmer.cloud/api/rest/v1.0/entities/experiment:f7fb12b2-1180-4fa0-9bcd-ccc2f7ec0e8f'}}}, {'type': 'entity', 'id': 'samplesContainer:3cd945e0-134d-4ae5-94a9-b6aee55528b2', 'meta': {'links': {'self': 'https://quantori.signalsnotebook.perkinelmer.cloud/api/rest/v1.0/entities/samplesContainer:3cd945e0-134d-4ae5-94a9-b6aee55528b2'}}}]}, 'owner': {'links': {'self': 'https://quantori.signalsnotebook.perkinelmer.cloud/api/rest/v1.0/users/103'}, 'data': {'type': 'user', 'id': '103'}}, 'properties': {'links': {'self': 'https://quantori.signalsnotebook.perkinelmer.cloud/api/rest/v1.0/samples/sample:2d9c3f5c-065a-4d56-992f-c0b2003eb9be/properties'}}, 'chemical': {'links': {'self': 'https://quantori.signalsnotebook.perkinelmer.cloud/api/rest/v1.0/samples/sample:2d9c3f5c-065a-4d56-992f-c0b2003eb9be/export?format=mol'}}}}], 'included': [{'type': 'entity', 'id': 'samplesContainer:3cd945e0-134d-4ae5-94a9-b6aee55528b2', 'links': {'self': 'https://quantori.signalsnotebook.perkinelmer.cloud/api/rest/v1.0/entities/samplesContainer:3cd945e0-134d-4ae5-94a9-b6aee55528b2'}, 'attributes': {'type': 'samplesContainer', 'eid': 'samplesContainer:3cd945e0-134d-4ae5-94a9-b6aee55528b2', 'name': 'Samples Table', 'digest': '12690236', 'fields': {'Description': {'value': ''}, 'Name': {'value': 'Samples Table'}}, 'flags': {}}}, {'type': 'entity', 'id': 'journal:111a8a0d-2772-47b0-b5b8-2e4faf04119e', 'links': {'self': 'https://quantori.signalsnotebook.perkinelmer.cloud/api/rest/v1.0/entities/journal:111a8a0d-2772-47b0-b5b8-2e4faf04119e'}, 'attributes': {'type': 'journal', 'eid': 'journal:111a8a0d-2772-47b0-b5b8-2e4faf04119e', 'name': 'Test creation by SDK', 'digest': '49635439', 'fields': {'Description': {'value': 'Created by Eugene Pokidov'}, 'My Notebook Field 1 (SK)': {'value': ''}, 'My Notebook Field 2 (SK)': {'value': ''}, 'Name': {'value': 'Test creation by SDK'}}, 'flags': {}}}, {'type': 'entity', 'id': 'experiment:f7fb12b2-1180-4fa0-9bcd-ccc2f7ec0e8f', 'links': {'self': 'https://quantori.signalsnotebook.perkinelmer.cloud/api/rest/v1.0/entities/experiment:f7fb12b2-1180-4fa0-9bcd-ccc2f7ec0e8f'}, 'attributes': {'type': 'experiment', 'eid': 'experiment:f7fb12b2-1180-4fa0-9bcd-ccc2f7ec0e8f', 'name': 'Test experiment creation by SDK', 'digest': '76946054', 'fields': {'Description': {'value': 'Created by Eugene Pokidov'}, 'Name': {'value': 'Test experiment creation by SDK'}}, 'flags': {}}}, {'type': 'user', 'id': '103', 'links': {'self': 'https://quantori.signalsnotebook.perkinelmer.cloud/api/rest/v1.0/users/103'}, 'attributes': {'userId': '103', 'userName': 'sergey.kuznetsov@quantori.com', 'email': 'sergey.kuznetsov@quantori.com', 'firstName': 'Sergey', 'lastName': 'Kuznetsov', 'isEnabled': True}, 'relationships': {'picture': {'links': {'self': 'https://quantori.signalsnotebook.perkinelmer.cloud/api/rest/v1.0/users/103/picture'}}, 'systemGroups': {'links': {'self': 'https://quantori.signalsnotebook.perkinelmer.cloud/api/rest/v1.0/users/103/systemGroups'}}}}, {'type': 'user', 'id': '136', 'links': {'self': 'https://quantori.signalsnotebook.perkinelmer.cloud/api/rest/v1.0/users/136'}, 'attributes': {'userId': '136', 'userName': 'daniil.cherednichenko@quantori.com', 'email': 'daniil.cherednichenko@quantori.com', 'firstName': 'Daniil', 'lastName': 'Cherednichenko', 'isEnabled': True}, 'relationships': {'systemGroups': {'links': {'self': 'https://quantori.signalsnotebook.perkinelmer.cloud/api/rest/v1.0/users/136/systemGroups'}}}}]}\n"
     ]
    }
   ],
   "source": [
    "samples = list(samples_generator)"
   ],
   "metadata": {
    "collapsed": false,
    "pycharm": {
     "name": "#%%\n"
    }
   }
  },
  {
   "cell_type": "code",
   "execution_count": 8,
   "outputs": [
    {
     "data": {
      "text/plain": "[Sample(type=<EntityType.SAMPLE: 'sample'>, eid='sample:fa34c835-6271-4c59-b320-ff26089e89c6', digest='58181453', name='Sample-1776', description='', created_at=datetime.datetime(2022, 6, 13, 13, 54, 43, 40000, tzinfo=datetime.timezone.utc), edited_at=datetime.datetime(2022, 6, 15, 12, 20, 52, 715000, tzinfo=datetime.timezone.utc), fields={'Description': FieldData(display=None, value='', units=None, eid=None), 'Name': FieldData(display=None, value='Sample-1776', units=None, eid=None)}),\n Sample(type=<EntityType.SAMPLE: 'sample'>, eid='sample:ef8f39e5-3309-4f85-abd6-3ceedce0d8a6', digest='78660064', name='Sample-1777', description='', created_at=datetime.datetime(2022, 6, 13, 13, 55, 51, 150000, tzinfo=datetime.timezone.utc), edited_at=datetime.datetime(2022, 6, 14, 10, 46, 52, 907000, tzinfo=datetime.timezone.utc), fields={'Description': FieldData(display=None, value='', units=None, eid=None), 'Name': FieldData(display=None, value='Sample-1777', units=None, eid=None)}),\n Sample(type=<EntityType.SAMPLE: 'sample'>, eid='sample:3ef80703-612e-465a-b930-f3e154dd1937', digest='18903856', name='Sample-1778', description='', created_at=datetime.datetime(2022, 6, 13, 13, 59, 34, 447000, tzinfo=datetime.timezone.utc), edited_at=datetime.datetime(2022, 6, 13, 13, 59, 34, 447000, tzinfo=datetime.timezone.utc), fields={'Description': FieldData(display=None, value='', units=None, eid=None), 'Name': FieldData(display=None, value='Sample-1778', units=None, eid=None)}),\n Sample(type=<EntityType.SAMPLE: 'sample'>, eid='sample:20080759-ae7b-4529-972b-85a089f9e6fd', digest='78266344', name='Sample-1779', description='', created_at=datetime.datetime(2022, 6, 13, 14, 0, 31, 590000, tzinfo=datetime.timezone.utc), edited_at=datetime.datetime(2022, 6, 13, 14, 0, 31, 590000, tzinfo=datetime.timezone.utc), fields={'Description': FieldData(display=None, value='', units=None, eid=None), 'Name': FieldData(display=None, value='Sample-1779', units=None, eid=None)}),\n Sample(type=<EntityType.SAMPLE: 'sample'>, eid='sample:2d9c3f5c-065a-4d56-992f-c0b2003eb9be', digest='25881025', name='Sample-1781', description='', created_at=datetime.datetime(2022, 6, 14, 9, 51, 10, 765000, tzinfo=datetime.timezone.utc), edited_at=datetime.datetime(2022, 6, 14, 9, 51, 10, 765000, tzinfo=datetime.timezone.utc), fields={'Description': FieldData(display=None, value='', units=None, eid=None), 'Name': FieldData(display=None, value='Sample-1781', units=None, eid=None)})]"
     },
     "execution_count": 8,
     "metadata": {},
     "output_type": "execute_result"
    }
   ],
   "source": [
    "samples"
   ],
   "metadata": {
    "collapsed": false,
    "pycharm": {
     "name": "#%%\n"
    }
   }
  },
  {
   "cell_type": "code",
   "execution_count": 9,
   "outputs": [],
   "source": [
    "NEW_VALUE = '5555'\n",
    "samples[0].properties\n",
    "samples[0].properties[6].set_value(NEW_VALUE)\n",
    "# samplesContainer.update_samples()"
   ],
   "metadata": {
    "collapsed": false,
    "pycharm": {
     "name": "#%%\n"
    }
   }
  },
  {
   "cell_type": "code",
   "execution_count": 10,
   "outputs": [
    {
     "data": {
      "text/plain": "[SampleProperty(id=UUID('b718adec-73e0-3ce3-ac72-0dd11a06a308'), name='ID', content=CellPropertyContent(value='Sample-1776', name=None, eid=None, values=None)),\n SampleProperty(id=UUID('278c491b-dd8a-3361-8c14-9c4ac790da34'), name='Template', content=CellPropertyContent(value='Sample', name=None, eid=None, values=None)),\n SampleProperty(id='digests.self', name=None, content=CellPropertyContent(value=None, name=None, eid=None, values=None)),\n SampleProperty(id='digests.external', name=None, content=CellPropertyContent(value=None, name=None, eid=None, values=None)),\n SampleProperty(id='1', name='Created Date', content=CellPropertyContent(value='2022-06-13T13:54:43.380521116Z', name=None, eid=None, values=None)),\n SampleProperty(id='2', name='Description', content=CellPropertyContent(value=None, name=None, eid=None, values=None)),\n SampleProperty(id='3', name='Comments', content=CellPropertyContent(value='5555', name=None, eid=None, values=None)),\n SampleProperty(id='4', name='Amount', content=CellPropertyContent(value=None, name=None, eid=None, values=None)),\n SampleProperty(id='10', name='Attached Docs', content=CellPropertyContent(value='0', name=None, eid='sample:fa34c835-6271-4c59-b320-ff26089e89c6', values=None)),\n SampleProperty(id='sampleId', name='ID', content=CellPropertyContent(value='sample:fa34c835-6271-4c59-b320-ff26089e89c6', name=None, eid=None, values=None)),\n SampleProperty(id='sourceName', name='Template', content=CellPropertyContent(value='Sample', name=None, eid=None, values=None))]"
     },
     "execution_count": 10,
     "metadata": {},
     "output_type": "execute_result"
    }
   ],
   "source": [
    "samples[0].properties"
   ],
   "metadata": {
    "collapsed": false,
    "pycharm": {
     "name": "#%%\n"
    }
   }
  },
  {
   "cell_type": "code",
   "execution_count": 11,
   "outputs": [
    {
     "data": {
      "text/plain": "True"
     },
     "execution_count": 11,
     "metadata": {},
     "output_type": "execute_result"
    }
   ],
   "source": [
    "samples[0].properties[6].is_changed"
   ],
   "metadata": {
    "collapsed": false,
    "pycharm": {
     "name": "#%%\n"
    }
   }
  },
  {
   "cell_type": "code",
   "execution_count": 12,
   "outputs": [],
   "source": [
    "samples[0].save()"
   ],
   "metadata": {
    "collapsed": false,
    "pycharm": {
     "name": "#%%\n"
    }
   }
  },
  {
   "cell_type": "code",
   "execution_count": 13,
   "outputs": [
    {
     "name": "stdout",
     "output_type": "stream",
     "text": [
      "{'links': {'self': 'https://quantori.signalsnotebook.perkinelmer.cloud/api/rest/v1.0/entities/samplesContainer:3cd945e0-134d-4ae5-94a9-b6aee55528b2/children?page[offset]=0&page[limit]=20', 'first': 'https://quantori.signalsnotebook.perkinelmer.cloud/api/rest/v1.0/entities/samplesContainer:3cd945e0-134d-4ae5-94a9-b6aee55528b2/children?page[offset]=0&page[limit]=20'}, 'data': [{'type': 'entity', 'id': 'sample:fa34c835-6271-4c59-b320-ff26089e89c6', 'links': {'self': 'https://quantori.signalsnotebook.perkinelmer.cloud/api/rest/v1.0/entities/sample:fa34c835-6271-4c59-b320-ff26089e89c6'}, 'attributes': {'id': 'sample:fa34c835-6271-4c59-b320-ff26089e89c6', 'eid': 'sample:fa34c835-6271-4c59-b320-ff26089e89c6', 'name': 'Sample-1776', 'description': '', 'createdAt': '2022-06-13T13:54:43.040Z', 'editedAt': '2022-06-15T13:15:43.370Z', 'type': 'sample', 'digest': '63466091', 'fields': {'Description': {'value': ''}, 'Name': {'value': 'Sample-1776'}}, 'flags': {'canEdit': True}}, 'relationships': {'createdBy': {'links': {'self': 'https://quantori.signalsnotebook.perkinelmer.cloud/api/rest/v1.0/users/103'}, 'data': {'type': 'user', 'id': '103'}}, 'editedBy': {'links': {'self': 'https://quantori.signalsnotebook.perkinelmer.cloud/api/rest/v1.0/users/103'}, 'data': {'type': 'user', 'id': '103'}}, 'ancestors': {'links': {'self': 'https://quantori.signalsnotebook.perkinelmer.cloud/api/rest/v1.0/entities/sample:fa34c835-6271-4c59-b320-ff26089e89c6/ancestors'}, 'data': [{'type': 'entity', 'id': 'journal:111a8a0d-2772-47b0-b5b8-2e4faf04119e', 'meta': {'links': {'self': 'https://quantori.signalsnotebook.perkinelmer.cloud/api/rest/v1.0/entities/journal:111a8a0d-2772-47b0-b5b8-2e4faf04119e'}}}, {'type': 'entity', 'id': 'experiment:f7fb12b2-1180-4fa0-9bcd-ccc2f7ec0e8f', 'meta': {'links': {'self': 'https://quantori.signalsnotebook.perkinelmer.cloud/api/rest/v1.0/entities/experiment:f7fb12b2-1180-4fa0-9bcd-ccc2f7ec0e8f'}}}, {'type': 'entity', 'id': 'samplesContainer:3cd945e0-134d-4ae5-94a9-b6aee55528b2', 'meta': {'links': {'self': 'https://quantori.signalsnotebook.perkinelmer.cloud/api/rest/v1.0/entities/samplesContainer:3cd945e0-134d-4ae5-94a9-b6aee55528b2'}}}]}, 'owner': {'links': {'self': 'https://quantori.signalsnotebook.perkinelmer.cloud/api/rest/v1.0/users/103'}, 'data': {'type': 'user', 'id': '103'}}, 'properties': {'links': {'self': 'https://quantori.signalsnotebook.perkinelmer.cloud/api/rest/v1.0/samples/sample:fa34c835-6271-4c59-b320-ff26089e89c6/properties'}}, 'chemical': {'links': {'self': 'https://quantori.signalsnotebook.perkinelmer.cloud/api/rest/v1.0/samples/sample:fa34c835-6271-4c59-b320-ff26089e89c6/export?format=mol'}}}}, {'type': 'entity', 'id': 'sample:ef8f39e5-3309-4f85-abd6-3ceedce0d8a6', 'links': {'self': 'https://quantori.signalsnotebook.perkinelmer.cloud/api/rest/v1.0/entities/sample:ef8f39e5-3309-4f85-abd6-3ceedce0d8a6'}, 'attributes': {'id': 'sample:ef8f39e5-3309-4f85-abd6-3ceedce0d8a6', 'eid': 'sample:ef8f39e5-3309-4f85-abd6-3ceedce0d8a6', 'name': 'Sample-1777', 'description': '', 'createdAt': '2022-06-13T13:55:51.150Z', 'editedAt': '2022-06-14T10:46:52.907Z', 'type': 'sample', 'digest': '78660064', 'fields': {'Description': {'value': ''}, 'Name': {'value': 'Sample-1777'}}, 'flags': {'canEdit': True}}, 'relationships': {'createdBy': {'links': {'self': 'https://quantori.signalsnotebook.perkinelmer.cloud/api/rest/v1.0/users/136'}, 'data': {'type': 'user', 'id': '136'}}, 'editedBy': {'links': {'self': 'https://quantori.signalsnotebook.perkinelmer.cloud/api/rest/v1.0/users/103'}, 'data': {'type': 'user', 'id': '103'}}, 'ancestors': {'links': {'self': 'https://quantori.signalsnotebook.perkinelmer.cloud/api/rest/v1.0/entities/sample:ef8f39e5-3309-4f85-abd6-3ceedce0d8a6/ancestors'}, 'data': [{'type': 'entity', 'id': 'journal:111a8a0d-2772-47b0-b5b8-2e4faf04119e', 'meta': {'links': {'self': 'https://quantori.signalsnotebook.perkinelmer.cloud/api/rest/v1.0/entities/journal:111a8a0d-2772-47b0-b5b8-2e4faf04119e'}}}, {'type': 'entity', 'id': 'experiment:f7fb12b2-1180-4fa0-9bcd-ccc2f7ec0e8f', 'meta': {'links': {'self': 'https://quantori.signalsnotebook.perkinelmer.cloud/api/rest/v1.0/entities/experiment:f7fb12b2-1180-4fa0-9bcd-ccc2f7ec0e8f'}}}, {'type': 'entity', 'id': 'samplesContainer:3cd945e0-134d-4ae5-94a9-b6aee55528b2', 'meta': {'links': {'self': 'https://quantori.signalsnotebook.perkinelmer.cloud/api/rest/v1.0/entities/samplesContainer:3cd945e0-134d-4ae5-94a9-b6aee55528b2'}}}]}, 'owner': {'links': {'self': 'https://quantori.signalsnotebook.perkinelmer.cloud/api/rest/v1.0/users/103'}, 'data': {'type': 'user', 'id': '103'}}, 'properties': {'links': {'self': 'https://quantori.signalsnotebook.perkinelmer.cloud/api/rest/v1.0/samples/sample:ef8f39e5-3309-4f85-abd6-3ceedce0d8a6/properties'}}, 'chemical': {'links': {'self': 'https://quantori.signalsnotebook.perkinelmer.cloud/api/rest/v1.0/samples/sample:ef8f39e5-3309-4f85-abd6-3ceedce0d8a6/export?format=mol'}}}}, {'type': 'entity', 'id': 'sample:3ef80703-612e-465a-b930-f3e154dd1937', 'links': {'self': 'https://quantori.signalsnotebook.perkinelmer.cloud/api/rest/v1.0/entities/sample:3ef80703-612e-465a-b930-f3e154dd1937'}, 'attributes': {'id': 'sample:3ef80703-612e-465a-b930-f3e154dd1937', 'eid': 'sample:3ef80703-612e-465a-b930-f3e154dd1937', 'name': 'Sample-1778', 'description': '', 'createdAt': '2022-06-13T13:59:34.447Z', 'editedAt': '2022-06-13T13:59:34.447Z', 'type': 'sample', 'digest': '18903856', 'fields': {'Description': {'value': ''}, 'Name': {'value': 'Sample-1778'}}, 'flags': {'canEdit': True}}, 'relationships': {'createdBy': {'links': {'self': 'https://quantori.signalsnotebook.perkinelmer.cloud/api/rest/v1.0/users/136'}, 'data': {'type': 'user', 'id': '136'}}, 'editedBy': {'links': {'self': 'https://quantori.signalsnotebook.perkinelmer.cloud/api/rest/v1.0/users/136'}, 'data': {'type': 'user', 'id': '136'}}, 'ancestors': {'links': {'self': 'https://quantori.signalsnotebook.perkinelmer.cloud/api/rest/v1.0/entities/sample:3ef80703-612e-465a-b930-f3e154dd1937/ancestors'}, 'data': [{'type': 'entity', 'id': 'journal:111a8a0d-2772-47b0-b5b8-2e4faf04119e', 'meta': {'links': {'self': 'https://quantori.signalsnotebook.perkinelmer.cloud/api/rest/v1.0/entities/journal:111a8a0d-2772-47b0-b5b8-2e4faf04119e'}}}, {'type': 'entity', 'id': 'experiment:f7fb12b2-1180-4fa0-9bcd-ccc2f7ec0e8f', 'meta': {'links': {'self': 'https://quantori.signalsnotebook.perkinelmer.cloud/api/rest/v1.0/entities/experiment:f7fb12b2-1180-4fa0-9bcd-ccc2f7ec0e8f'}}}, {'type': 'entity', 'id': 'samplesContainer:3cd945e0-134d-4ae5-94a9-b6aee55528b2', 'meta': {'links': {'self': 'https://quantori.signalsnotebook.perkinelmer.cloud/api/rest/v1.0/entities/samplesContainer:3cd945e0-134d-4ae5-94a9-b6aee55528b2'}}}]}, 'owner': {'links': {'self': 'https://quantori.signalsnotebook.perkinelmer.cloud/api/rest/v1.0/users/103'}, 'data': {'type': 'user', 'id': '103'}}, 'properties': {'links': {'self': 'https://quantori.signalsnotebook.perkinelmer.cloud/api/rest/v1.0/samples/sample:3ef80703-612e-465a-b930-f3e154dd1937/properties'}}, 'chemical': {'links': {'self': 'https://quantori.signalsnotebook.perkinelmer.cloud/api/rest/v1.0/samples/sample:3ef80703-612e-465a-b930-f3e154dd1937/export?format=mol'}}}}, {'type': 'entity', 'id': 'sample:20080759-ae7b-4529-972b-85a089f9e6fd', 'links': {'self': 'https://quantori.signalsnotebook.perkinelmer.cloud/api/rest/v1.0/entities/sample:20080759-ae7b-4529-972b-85a089f9e6fd'}, 'attributes': {'id': 'sample:20080759-ae7b-4529-972b-85a089f9e6fd', 'eid': 'sample:20080759-ae7b-4529-972b-85a089f9e6fd', 'name': 'Sample-1779', 'description': '', 'createdAt': '2022-06-13T14:00:31.590Z', 'editedAt': '2022-06-13T14:00:31.590Z', 'type': 'sample', 'digest': '78266344', 'fields': {'Description': {'value': ''}, 'Name': {'value': 'Sample-1779'}}, 'flags': {'canEdit': True}}, 'relationships': {'createdBy': {'links': {'self': 'https://quantori.signalsnotebook.perkinelmer.cloud/api/rest/v1.0/users/136'}, 'data': {'type': 'user', 'id': '136'}}, 'editedBy': {'links': {'self': 'https://quantori.signalsnotebook.perkinelmer.cloud/api/rest/v1.0/users/136'}, 'data': {'type': 'user', 'id': '136'}}, 'ancestors': {'links': {'self': 'https://quantori.signalsnotebook.perkinelmer.cloud/api/rest/v1.0/entities/sample:20080759-ae7b-4529-972b-85a089f9e6fd/ancestors'}, 'data': [{'type': 'entity', 'id': 'journal:111a8a0d-2772-47b0-b5b8-2e4faf04119e', 'meta': {'links': {'self': 'https://quantori.signalsnotebook.perkinelmer.cloud/api/rest/v1.0/entities/journal:111a8a0d-2772-47b0-b5b8-2e4faf04119e'}}}, {'type': 'entity', 'id': 'experiment:f7fb12b2-1180-4fa0-9bcd-ccc2f7ec0e8f', 'meta': {'links': {'self': 'https://quantori.signalsnotebook.perkinelmer.cloud/api/rest/v1.0/entities/experiment:f7fb12b2-1180-4fa0-9bcd-ccc2f7ec0e8f'}}}, {'type': 'entity', 'id': 'samplesContainer:3cd945e0-134d-4ae5-94a9-b6aee55528b2', 'meta': {'links': {'self': 'https://quantori.signalsnotebook.perkinelmer.cloud/api/rest/v1.0/entities/samplesContainer:3cd945e0-134d-4ae5-94a9-b6aee55528b2'}}}]}, 'owner': {'links': {'self': 'https://quantori.signalsnotebook.perkinelmer.cloud/api/rest/v1.0/users/103'}, 'data': {'type': 'user', 'id': '103'}}, 'properties': {'links': {'self': 'https://quantori.signalsnotebook.perkinelmer.cloud/api/rest/v1.0/samples/sample:20080759-ae7b-4529-972b-85a089f9e6fd/properties'}}, 'chemical': {'links': {'self': 'https://quantori.signalsnotebook.perkinelmer.cloud/api/rest/v1.0/samples/sample:20080759-ae7b-4529-972b-85a089f9e6fd/export?format=mol'}}}}, {'type': 'entity', 'id': 'sample:2d9c3f5c-065a-4d56-992f-c0b2003eb9be', 'links': {'self': 'https://quantori.signalsnotebook.perkinelmer.cloud/api/rest/v1.0/entities/sample:2d9c3f5c-065a-4d56-992f-c0b2003eb9be'}, 'attributes': {'id': 'sample:2d9c3f5c-065a-4d56-992f-c0b2003eb9be', 'eid': 'sample:2d9c3f5c-065a-4d56-992f-c0b2003eb9be', 'name': 'Sample-1781', 'description': '', 'createdAt': '2022-06-14T09:51:10.765Z', 'editedAt': '2022-06-14T09:51:10.765Z', 'type': 'sample', 'digest': '25881025', 'fields': {'Description': {'value': ''}, 'Name': {'value': 'Sample-1781'}}, 'flags': {'canEdit': True}}, 'relationships': {'createdBy': {'links': {'self': 'https://quantori.signalsnotebook.perkinelmer.cloud/api/rest/v1.0/users/103'}, 'data': {'type': 'user', 'id': '103'}}, 'editedBy': {'links': {'self': 'https://quantori.signalsnotebook.perkinelmer.cloud/api/rest/v1.0/users/103'}, 'data': {'type': 'user', 'id': '103'}}, 'ancestors': {'links': {'self': 'https://quantori.signalsnotebook.perkinelmer.cloud/api/rest/v1.0/entities/sample:2d9c3f5c-065a-4d56-992f-c0b2003eb9be/ancestors'}, 'data': [{'type': 'entity', 'id': 'journal:111a8a0d-2772-47b0-b5b8-2e4faf04119e', 'meta': {'links': {'self': 'https://quantori.signalsnotebook.perkinelmer.cloud/api/rest/v1.0/entities/journal:111a8a0d-2772-47b0-b5b8-2e4faf04119e'}}}, {'type': 'entity', 'id': 'experiment:f7fb12b2-1180-4fa0-9bcd-ccc2f7ec0e8f', 'meta': {'links': {'self': 'https://quantori.signalsnotebook.perkinelmer.cloud/api/rest/v1.0/entities/experiment:f7fb12b2-1180-4fa0-9bcd-ccc2f7ec0e8f'}}}, {'type': 'entity', 'id': 'samplesContainer:3cd945e0-134d-4ae5-94a9-b6aee55528b2', 'meta': {'links': {'self': 'https://quantori.signalsnotebook.perkinelmer.cloud/api/rest/v1.0/entities/samplesContainer:3cd945e0-134d-4ae5-94a9-b6aee55528b2'}}}]}, 'owner': {'links': {'self': 'https://quantori.signalsnotebook.perkinelmer.cloud/api/rest/v1.0/users/103'}, 'data': {'type': 'user', 'id': '103'}}, 'properties': {'links': {'self': 'https://quantori.signalsnotebook.perkinelmer.cloud/api/rest/v1.0/samples/sample:2d9c3f5c-065a-4d56-992f-c0b2003eb9be/properties'}}, 'chemical': {'links': {'self': 'https://quantori.signalsnotebook.perkinelmer.cloud/api/rest/v1.0/samples/sample:2d9c3f5c-065a-4d56-992f-c0b2003eb9be/export?format=mol'}}}}], 'included': [{'type': 'entity', 'id': 'samplesContainer:3cd945e0-134d-4ae5-94a9-b6aee55528b2', 'links': {'self': 'https://quantori.signalsnotebook.perkinelmer.cloud/api/rest/v1.0/entities/samplesContainer:3cd945e0-134d-4ae5-94a9-b6aee55528b2'}, 'attributes': {'type': 'samplesContainer', 'eid': 'samplesContainer:3cd945e0-134d-4ae5-94a9-b6aee55528b2', 'name': 'Samples Table', 'digest': '77320177', 'fields': {'Description': {'value': ''}, 'Name': {'value': 'Samples Table'}}, 'flags': {}}}, {'type': 'entity', 'id': 'journal:111a8a0d-2772-47b0-b5b8-2e4faf04119e', 'links': {'self': 'https://quantori.signalsnotebook.perkinelmer.cloud/api/rest/v1.0/entities/journal:111a8a0d-2772-47b0-b5b8-2e4faf04119e'}, 'attributes': {'type': 'journal', 'eid': 'journal:111a8a0d-2772-47b0-b5b8-2e4faf04119e', 'name': 'Test creation by SDK', 'digest': '49635439', 'fields': {'Description': {'value': 'Created by Eugene Pokidov'}, 'My Notebook Field 1 (SK)': {'value': ''}, 'My Notebook Field 2 (SK)': {'value': ''}, 'Name': {'value': 'Test creation by SDK'}}, 'flags': {}}}, {'type': 'entity', 'id': 'experiment:f7fb12b2-1180-4fa0-9bcd-ccc2f7ec0e8f', 'links': {'self': 'https://quantori.signalsnotebook.perkinelmer.cloud/api/rest/v1.0/entities/experiment:f7fb12b2-1180-4fa0-9bcd-ccc2f7ec0e8f'}, 'attributes': {'type': 'experiment', 'eid': 'experiment:f7fb12b2-1180-4fa0-9bcd-ccc2f7ec0e8f', 'name': 'Test experiment creation by SDK', 'digest': '76946054', 'fields': {'Description': {'value': 'Created by Eugene Pokidov'}, 'Name': {'value': 'Test experiment creation by SDK'}}, 'flags': {}}}, {'type': 'user', 'id': '103', 'links': {'self': 'https://quantori.signalsnotebook.perkinelmer.cloud/api/rest/v1.0/users/103'}, 'attributes': {'userId': '103', 'userName': 'sergey.kuznetsov@quantori.com', 'email': 'sergey.kuznetsov@quantori.com', 'firstName': 'Sergey', 'lastName': 'Kuznetsov', 'isEnabled': True}, 'relationships': {'picture': {'links': {'self': 'https://quantori.signalsnotebook.perkinelmer.cloud/api/rest/v1.0/users/103/picture'}}, 'systemGroups': {'links': {'self': 'https://quantori.signalsnotebook.perkinelmer.cloud/api/rest/v1.0/users/103/systemGroups'}}}}, {'type': 'user', 'id': '136', 'links': {'self': 'https://quantori.signalsnotebook.perkinelmer.cloud/api/rest/v1.0/users/136'}, 'attributes': {'userId': '136', 'userName': 'daniil.cherednichenko@quantori.com', 'email': 'daniil.cherednichenko@quantori.com', 'firstName': 'Daniil', 'lastName': 'Cherednichenko', 'isEnabled': True}, 'relationships': {'systemGroups': {'links': {'self': 'https://quantori.signalsnotebook.perkinelmer.cloud/api/rest/v1.0/users/136/systemGroups'}}}}]}\n"
     ]
    }
   ],
   "source": [
    "samples_generator = samplesContainer.get_samples()\n",
    "samples = list(samples_generator)\n",
    "samples[0].properties[6]\n",
    "\n",
    "assert samples[0].properties[6].content.value == NEW_VALUE"
   ],
   "metadata": {
    "collapsed": false,
    "pycharm": {
     "name": "#%%\n"
    }
   }
  }
 ],
 "metadata": {
  "kernelspec": {
   "display_name": "Python 3",
   "language": "python",
   "name": "python3"
  },
  "language_info": {
   "codemirror_mode": {
    "name": "ipython",
    "version": 2
   },
   "file_extension": ".py",
   "mimetype": "text/x-python",
   "name": "python",
   "nbconvert_exporter": "python",
   "pygments_lexer": "ipython2",
   "version": "2.7.6"
  }
 },
 "nbformat": 4,
 "nbformat_minor": 0
}
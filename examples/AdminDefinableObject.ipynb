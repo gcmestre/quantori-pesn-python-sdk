{
 "cells": [
  {
   "cell_type": "code",
   "execution_count": 1,
   "outputs": [],
   "source": [
    "%load_ext dotenv\n",
    "%dotenv\n",
    "import os\n",
    "\n",
    "SN_API_HOST = os.getenv('SN_API_HOST')\n",
    "SN_API_KEY = os.getenv('SN_API_KEY')"
   ],
   "metadata": {
    "collapsed": false,
    "pycharm": {
     "name": "#%%\n"
    }
   }
  },
  {
   "cell_type": "code",
   "execution_count": 2,
   "outputs": [
    {
     "data": {
      "text/plain": "<signals_notebook.api.SignalsNotebookApi at 0x205ae5a0d30>"
     },
     "execution_count": 2,
     "metadata": {},
     "output_type": "execute_result"
    }
   ],
   "source": [
    "from signals_notebook.api import SignalsNotebookApi\n",
    "\n",
    "SignalsNotebookApi.init(SN_API_HOST, SN_API_KEY)"
   ],
   "metadata": {
    "collapsed": false,
    "pycharm": {
     "name": "#%%\n"
    }
   }
  },
  {
   "cell_type": "code",
   "execution_count": 3,
   "outputs": [],
   "source": [
    "from signals_notebook.entities import EntityStore\n",
    "\n",
    "ado = EntityStore.get(\"ado-2:263eb93b-2404-461f-85e0-1a71d0567cd3\")"
   ],
   "metadata": {
    "collapsed": false,
    "pycharm": {
     "name": "#%%\n"
    }
   }
  },
  {
   "cell_type": "code",
   "execution_count": 4,
   "outputs": [
    {
     "data": {
      "text/plain": "AdminDefinedObject(type=<EntityType.ADO: 'ado'>, eid='ado-2:263eb93b-2404-461f-85e0-1a71d0567cd3', digest='76548067', name='TEST121233', description='', created_at=datetime.datetime(2022, 8, 9, 11, 5, 31, 614000, tzinfo=datetime.timezone.utc), edited_at=datetime.datetime(2022, 8, 9, 11, 5, 31, 614000, tzinfo=datetime.timezone.utc))"
     },
     "execution_count": 4,
     "metadata": {},
     "output_type": "execute_result"
    }
   ],
   "source": [
    "ado"
   ],
   "metadata": {
    "collapsed": false,
    "pycharm": {
     "name": "#%%\n"
    }
   }
  },
  {
   "cell_type": "code",
   "execution_count": 7,
   "outputs": [],
   "source": [
    "children = list(ado.get_children())"
   ],
   "metadata": {
    "collapsed": false,
    "pycharm": {
     "name": "#%%\n"
    }
   }
  },
  {
   "cell_type": "code",
   "execution_count": 8,
   "outputs": [
    {
     "data": {
      "text/plain": "[TodoList(type=<EntityType.TODO_LIST: 'linkedTaskContainer'>, eid='linkedTaskContainer:81e3b116-ec7b-4666-9038-b5a725b9948f', digest='0', name='Tasks to do', description='', created_at=datetime.datetime(2022, 8, 9, 11, 5, 31, 614000, tzinfo=datetime.timezone.utc), edited_at=datetime.datetime(2022, 8, 9, 11, 5, 31, 614000, tzinfo=datetime.timezone.utc)),\n Text(type=<EntityType.TEXT: 'text'>, eid='text:70fc9f66-1534-4346-9ff9-872d722f546b', digest='0', name='Text', description='', created_at=datetime.datetime(2022, 8, 9, 11, 5, 31, 614000, tzinfo=datetime.timezone.utc), edited_at=datetime.datetime(2022, 8, 9, 11, 5, 31, 614000, tzinfo=datetime.timezone.utc))]"
     },
     "execution_count": 8,
     "metadata": {},
     "output_type": "execute_result"
    }
   ],
   "source": [
    "children"
   ],
   "metadata": {
    "collapsed": false,
    "pycharm": {
     "name": "#%%\n"
    }
   }
  },
  {
   "cell_type": "code",
   "execution_count": null,
   "outputs": [],
   "source": [
    "from signals_notebook.entities import AdminDefinedObject\n",
    "\n",
    "notebook = EntityStore.get('journal:111a8a0d-2772-47b0-b5b8-2e4faf04119e')\n",
    "new_ado = AdminDefinedObject.create(\n",
    "    name='AdminDefinedObject experiment created by SDK',\n",
    "    description='Delete if you see this in UI',\n",
    "    notebook=notebook,\n",
    ")"
   ],
   "metadata": {
    "collapsed": false,
    "pycharm": {
     "name": "#%%\n"
    }
   }
  },
  {
   "cell_type": "code",
   "execution_count": null,
   "outputs": [],
   "source": [
    "EntityStore.delete(new_ado.eid)"
   ],
   "metadata": {
    "collapsed": false,
    "pycharm": {
     "name": "#%%\n"
    }
   }
  }
 ],
 "metadata": {
  "kernelspec": {
   "display_name": "Python 3",
   "language": "python",
   "name": "python3"
  },
  "language_info": {
   "codemirror_mode": {
    "name": "ipython",
    "version": 2
   },
   "file_extension": ".py",
   "mimetype": "text/x-python",
   "name": "python",
   "nbconvert_exporter": "python",
   "pygments_lexer": "ipython2",
   "version": "2.7.6"
  }
 },
 "nbformat": 4,
 "nbformat_minor": 0
}
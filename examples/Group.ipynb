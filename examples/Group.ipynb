{
 "cells": [
  {
   "cell_type": "code",
   "execution_count": 1,
   "outputs": [],
   "source": [
    "%load_ext dotenv\n",
    "%dotenv\n",
    "import os\n",
    "\n",
    "SN_API_HOST = os.getenv('SN_API_HOST')\n",
    "SN_API_KEY = os.getenv('SN_API_KEY')"
   ],
   "metadata": {
    "collapsed": false,
    "pycharm": {
     "name": "#%%\n"
    }
   }
  },
  {
   "cell_type": "code",
   "execution_count": 2,
   "outputs": [
    {
     "data": {
      "text/plain": "<signals_notebook.api.SignalsNotebookApi at 0x150d63c74c0>"
     },
     "execution_count": 2,
     "metadata": {},
     "output_type": "execute_result"
    }
   ],
   "source": [
    "from signals_notebook.api import SignalsNotebookApi\n",
    "SignalsNotebookApi.init(SN_API_HOST, SN_API_KEY)"
   ],
   "metadata": {
    "collapsed": false,
    "pycharm": {
     "name": "#%%\n"
    }
   }
  },
  {
   "cell_type": "code",
   "execution_count": 3,
   "outputs": [
    {
     "data": {
      "text/plain": "[Group(type=<ObjectType.GROUP: 'group'>, eid='group:101', id='101', is_system=True, name='Administrators', description='Group containing all administrators', created_at=datetime.datetime(2021, 10, 22, 13, 35, 58, 444000, tzinfo=datetime.timezone.utc), edited_at=datetime.datetime(2021, 10, 22, 13, 35, 58, 444000, tzinfo=datetime.timezone.utc), digest='13385924'),\n Group(type=<ObjectType.GROUP: 'group'>, eid='group:156', id='156', is_system=True, name='test group3', description='test', created_at=datetime.datetime(2022, 7, 6, 12, 58, 56, 897000, tzinfo=datetime.timezone.utc), edited_at=datetime.datetime(2022, 7, 6, 12, 58, 56, 897000, tzinfo=datetime.timezone.utc), digest='55642538'),\n Group(type=<ObjectType.GROUP: 'group'>, eid='group:155', id='155', is_system=False, name='test group2', description='test', created_at=datetime.datetime(2022, 7, 6, 12, 57, 48, 304000, tzinfo=datetime.timezone.utc), edited_at=datetime.datetime(2022, 7, 6, 12, 57, 48, 304000, tzinfo=datetime.timezone.utc), digest='98434818'),\n Group(type=<ObjectType.GROUP: 'group'>, eid='group:121', id='121', is_system=True, name='ASG', description='The group dedicated to the synthesis, QC, and pre-clinical trials of alprostadil', created_at=datetime.datetime(2021, 11, 21, 10, 54, 45, 346000, tzinfo=datetime.timezone.utc), edited_at=datetime.datetime(2021, 11, 21, 10, 57, 27, 267000, tzinfo=datetime.timezone.utc), digest='35011372'),\n Group(type=<ObjectType.GROUP: 'group'>, eid='group:102', id='102', is_system=True, name='All users', description='Group containing all users', created_at=datetime.datetime(2021, 10, 22, 13, 35, 58, 625000, tzinfo=datetime.timezone.utc), edited_at=datetime.datetime(2021, 10, 22, 13, 35, 58, 625000, tzinfo=datetime.timezone.utc), digest='46357805'),\n Group(type=<ObjectType.GROUP: 'group'>, eid='group:152', id='152', is_system=False, name='test group', description='test', created_at=datetime.datetime(2022, 7, 6, 12, 32, 16, 957000, tzinfo=datetime.timezone.utc), edited_at=datetime.datetime(2022, 7, 6, 12, 32, 16, 957000, tzinfo=datetime.timezone.utc), digest='33844877')]"
     },
     "execution_count": 3,
     "metadata": {},
     "output_type": "execute_result"
    }
   ],
   "source": [
    "from signals_notebook.entities import Group\n",
    "\n",
    "group = Group.get_list()\n",
    "list(group)"
   ],
   "metadata": {
    "collapsed": false,
    "pycharm": {
     "name": "#%%\n"
    }
   }
  },
  {
   "cell_type": "code",
   "execution_count": 4,
   "outputs": [
    {
     "data": {
      "text/plain": "Group(type=<ObjectType.GROUP: 'group'>, eid='group:156', id='156', is_system=True, name='test group3', description='test', created_at=datetime.datetime(2022, 7, 6, 12, 58, 56, 897000, tzinfo=datetime.timezone.utc), edited_at=datetime.datetime(2022, 7, 6, 12, 58, 56, 897000, tzinfo=datetime.timezone.utc), digest='55642538')"
     },
     "execution_count": 4,
     "metadata": {},
     "output_type": "execute_result"
    }
   ],
   "source": [
    "group = Group.get('156')\n",
    "group"
   ],
   "metadata": {
    "collapsed": false,
    "pycharm": {
     "name": "#%%\n"
    }
   }
  },
  {
   "cell_type": "code",
   "execution_count": 5,
   "outputs": [],
   "source": [
    "from signals_notebook.entities.users.profile import GroupRequestBody\n",
    "\n",
    "request = GroupRequestBody(name='test group3', description='test', is_system=True)\n",
    "\n",
    "group = Group.create(request=request)\n",
    "\n",
    "group"
   ],
   "metadata": {
    "collapsed": false,
    "pycharm": {
     "name": "#%%\n"
    }
   }
  },
  {
   "cell_type": "code",
   "execution_count": 6,
   "outputs": [],
   "source": [
    "group.description = 'New'\n",
    "group.save()"
   ],
   "metadata": {
    "collapsed": false,
    "pycharm": {
     "name": "#%%\n"
    }
   }
  },
  {
   "cell_type": "markdown",
   "source": [],
   "metadata": {
    "collapsed": false,
    "pycharm": {
     "name": "#%% md\n"
    }
   }
  }
 ],
 "metadata": {
  "kernelspec": {
   "display_name": "Python 3",
   "language": "python",
   "name": "python3"
  },
  "language_info": {
   "codemirror_mode": {
    "name": "ipython",
    "version": 2
   },
   "file_extension": ".py",
   "mimetype": "text/x-python",
   "name": "python",
   "nbconvert_exporter": "python",
   "pygments_lexer": "ipython2",
   "version": "2.7.6"
  }
 },
 "nbformat": 4,
 "nbformat_minor": 0
}
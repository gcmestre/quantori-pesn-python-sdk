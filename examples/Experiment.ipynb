{
 "cells": [
  {
   "cell_type": "code",
   "execution_count": 1,
   "metadata": {
    "pycharm": {
     "name": "#%%\n"
    }
   },
   "outputs": [],
   "source": [
    "%load_ext dotenv\n",
    "%dotenv\n",
    "import os\n",
    "\n",
    "SN_API_HOST = os.getenv('SN_API_HOST')\n",
    "SN_API_KEY = os.getenv('SN_API_KEY')"
   ]
  },
  {
   "cell_type": "code",
   "execution_count": 2,
   "metadata": {
    "pycharm": {
     "name": "#%%\n"
    }
   },
   "outputs": [
    {
     "data": {
      "text/plain": [
       "<signals_notebook.api.SignalsNotebookApi at 0x1f3c0c7c4c0>"
      ]
     },
     "execution_count": 2,
     "metadata": {},
     "output_type": "execute_result"
    }
   ],
   "source": [
    "from signals_notebook.api import SignalsNotebookApi\n",
    "\n",
    "SignalsNotebookApi.init(SN_API_HOST, SN_API_KEY)"
   ]
  },
  {
   "cell_type": "code",
   "execution_count": 3,
   "metadata": {
    "pycharm": {
     "name": "#%%\n"
    }
   },
   "outputs": [],
   "source": [
    "from signals_notebook.entities import EntityStore\n",
    "\n",
    "experiment = EntityStore.get(\"experiment:f7fb12b2-1180-4fa0-9bcd-ccc2f7ec0e8f\")"
   ]
  },
  {
   "cell_type": "code",
   "execution_count": 4,
   "metadata": {
    "pycharm": {
     "name": "#%%\n"
    }
   },
   "outputs": [
    {
     "name": "stderr",
     "output_type": "stream",
     "text": [
      "C:\\Users\\d.cherednichenko\\AppData\\Local\\Temp\\ipykernel_17988\\4164847963.py:1: DeprecationWarning: Importing display from IPython.core.display is deprecated since IPython 7.14, please import from IPython display\n",
      "  from IPython.core.display import display, HTML\n"
     ]
    },
    {
     "ename": "AttributeError",
     "evalue": "'list' object has no attribute 'body'",
     "output_type": "error",
     "traceback": [
      "\u001B[1;31m---------------------------------------------------------------------------\u001B[0m",
      "\u001B[1;31mAttributeError\u001B[0m                            Traceback (most recent call last)",
      "Input \u001B[1;32mIn [4]\u001B[0m, in \u001B[0;36m<cell line: 3>\u001B[1;34m()\u001B[0m\n\u001B[0;32m      1\u001B[0m \u001B[38;5;28;01mfrom\u001B[39;00m \u001B[38;5;21;01mIPython\u001B[39;00m\u001B[38;5;21;01m.\u001B[39;00m\u001B[38;5;21;01mcore\u001B[39;00m\u001B[38;5;21;01m.\u001B[39;00m\u001B[38;5;21;01mdisplay\u001B[39;00m \u001B[38;5;28;01mimport\u001B[39;00m display, HTML\n\u001B[1;32m----> 3\u001B[0m experiment_html \u001B[38;5;241m=\u001B[39m \u001B[43mexperiment\u001B[49m\u001B[38;5;241;43m.\u001B[39;49m\u001B[43mget_html\u001B[49m\u001B[43m(\u001B[49m\u001B[43m)\u001B[49m\n\u001B[0;32m      4\u001B[0m display(HTML(data\u001B[38;5;241m=\u001B[39mexperiment_html))\n",
      "File \u001B[1;32mC:\\coding\\pesn-python-sdk\\src\\signals_notebook\\entities\\experiment.py:102\u001B[0m, in \u001B[0;36mExperiment.get_html\u001B[1;34m(self)\u001B[0m\n\u001B[0;32m     92\u001B[0m data \u001B[38;5;241m=\u001B[39m {\n\u001B[0;32m     93\u001B[0m     \u001B[38;5;124m'\u001B[39m\u001B[38;5;124mtitle\u001B[39m\u001B[38;5;124m'\u001B[39m: \u001B[38;5;28mself\u001B[39m\u001B[38;5;241m.\u001B[39mname,\n\u001B[0;32m     94\u001B[0m     \u001B[38;5;124m'\u001B[39m\u001B[38;5;124mdescription\u001B[39m\u001B[38;5;124m'\u001B[39m: \u001B[38;5;28mself\u001B[39m\u001B[38;5;241m.\u001B[39mdescription,\n\u001B[1;32m   (...)\u001B[0m\n\u001B[0;32m     97\u001B[0m     \u001B[38;5;124m'\u001B[39m\u001B[38;5;124mchildren\u001B[39m\u001B[38;5;124m'\u001B[39m: \u001B[38;5;28mself\u001B[39m\u001B[38;5;241m.\u001B[39mget_children()\n\u001B[0;32m     98\u001B[0m }\n\u001B[0;32m    100\u001B[0m template \u001B[38;5;241m=\u001B[39m env\u001B[38;5;241m.\u001B[39mget_template(\u001B[38;5;28mself\u001B[39m\u001B[38;5;241m.\u001B[39m_template_name)\n\u001B[1;32m--> 102\u001B[0m \u001B[38;5;28;01mreturn\u001B[39;00m \u001B[43mtemplate\u001B[49m\u001B[38;5;241;43m.\u001B[39;49m\u001B[43mrender\u001B[49m\u001B[43m(\u001B[49m\u001B[43mdata\u001B[49m\u001B[38;5;241;43m=\u001B[39;49m\u001B[43mdata\u001B[49m\u001B[43m)\u001B[49m\n",
      "File \u001B[1;32mC:\\coding\\pesn-python-sdk\\venv\\lib\\site-packages\\jinja2\\environment.py:1301\u001B[0m, in \u001B[0;36mTemplate.render\u001B[1;34m(self, *args, **kwargs)\u001B[0m\n\u001B[0;32m   1299\u001B[0m     \u001B[38;5;28;01mreturn\u001B[39;00m \u001B[38;5;28mself\u001B[39m\u001B[38;5;241m.\u001B[39menvironment\u001B[38;5;241m.\u001B[39mconcat(\u001B[38;5;28mself\u001B[39m\u001B[38;5;241m.\u001B[39mroot_render_func(ctx))  \u001B[38;5;66;03m# type: ignore\u001B[39;00m\n\u001B[0;32m   1300\u001B[0m \u001B[38;5;28;01mexcept\u001B[39;00m \u001B[38;5;167;01mException\u001B[39;00m:\n\u001B[1;32m-> 1301\u001B[0m     \u001B[38;5;28;43mself\u001B[39;49m\u001B[38;5;241;43m.\u001B[39;49m\u001B[43menvironment\u001B[49m\u001B[38;5;241;43m.\u001B[39;49m\u001B[43mhandle_exception\u001B[49m\u001B[43m(\u001B[49m\u001B[43m)\u001B[49m\n",
      "File \u001B[1;32mC:\\coding\\pesn-python-sdk\\venv\\lib\\site-packages\\jinja2\\environment.py:936\u001B[0m, in \u001B[0;36mEnvironment.handle_exception\u001B[1;34m(self, source)\u001B[0m\n\u001B[0;32m    931\u001B[0m \u001B[38;5;124;03m\"\"\"Exception handling helper.  This is used internally to either raise\u001B[39;00m\n\u001B[0;32m    932\u001B[0m \u001B[38;5;124;03mrewritten exceptions or return a rendered traceback for the template.\u001B[39;00m\n\u001B[0;32m    933\u001B[0m \u001B[38;5;124;03m\"\"\"\u001B[39;00m\n\u001B[0;32m    934\u001B[0m \u001B[38;5;28;01mfrom\u001B[39;00m \u001B[38;5;21;01m.\u001B[39;00m\u001B[38;5;21;01mdebug\u001B[39;00m \u001B[38;5;28;01mimport\u001B[39;00m rewrite_traceback_stack\n\u001B[1;32m--> 936\u001B[0m \u001B[38;5;28;01mraise\u001B[39;00m rewrite_traceback_stack(source\u001B[38;5;241m=\u001B[39msource)\n",
      "File \u001B[1;32mC:\\coding\\pesn-python-sdk\\src\\signals_notebook\\templates\\experiment.html:63\u001B[0m, in \u001B[0;36mtop-level template code\u001B[1;34m()\u001B[0m\n\u001B[0;32m     61\u001B[0m \n\u001B[0;32m     62\u001B[0m {% for item in data['children'] %}\n\u001B[1;32m---> 63\u001B[0m     {{ item.get_html() | safe }}\n\u001B[0;32m     64\u001B[0m {% endfor %}\n\u001B[0;32m     65\u001B[0m \n",
      "File \u001B[1;32mC:\\coding\\pesn-python-sdk\\src\\signals_notebook\\entities\\tables\\table.py:206\u001B[0m, in \u001B[0;36mTable.get_html\u001B[1;34m(self, template_name)\u001B[0m\n\u001B[0;32m    204\u001B[0m rows \u001B[38;5;241m=\u001B[39m []\n\u001B[0;32m    205\u001B[0m \u001B[38;5;66;03m#\u001B[39;00m\n\u001B[1;32m--> 206\u001B[0m \u001B[38;5;28;01mfor\u001B[39;00m elem \u001B[38;5;129;01min\u001B[39;00m \u001B[38;5;28;43mself\u001B[39;49m\u001B[38;5;241;43m.\u001B[39;49m\u001B[43mget_table_content\u001B[49m\u001B[43m(\u001B[49m\u001B[43m)\u001B[49m\u001B[38;5;241;43m.\u001B[39;49m\u001B[43mbody\u001B[49m:\n\u001B[0;32m    207\u001B[0m     \u001B[38;5;28mprint\u001B[39m(elem)\n\u001B[0;32m    209\u001B[0m \u001B[38;5;66;03m# for row in self.get_table_content().body:\u001B[39;00m\n\u001B[0;32m    210\u001B[0m \u001B[38;5;66;03m#     reformatted_row = {}\u001B[39;00m\n\u001B[0;32m    211\u001B[0m \u001B[38;5;66;03m#\u001B[39;00m\n\u001B[1;32m   (...)\u001B[0m\n\u001B[0;32m    223\u001B[0m \u001B[38;5;66;03m#     reformatted_row[column_definition.title] = '' if cell is None else cell\u001B[39;00m\n\u001B[0;32m    224\u001B[0m \u001B[38;5;66;03m#     rows.append(reformatted_row)\u001B[39;00m\n",
      "\u001B[1;31mAttributeError\u001B[0m: 'list' object has no attribute 'body'"
     ]
    }
   ],
   "source": [
    "from IPython.core.display import display, HTML\n",
    "\n",
    "experiment_html = experiment.get_html()\n",
    "display(HTML(data=experiment_html))"
   ]
  },
  {
   "cell_type": "code",
   "execution_count": null,
   "metadata": {
    "pycharm": {
     "name": "#%%\n"
    }
   },
   "outputs": [],
   "source": [
    "5 доделать вывод с колонками"
   ]
  },
  {
   "cell_type": "code",
   "execution_count": null,
   "metadata": {
    "pycharm": {
     "name": "#%%\n"
    }
   },
   "outputs": [],
   "source": [
    "## experiment.get_html()"
   ]
  },
  {
   "cell_type": "markdown",
   "metadata": {
    "pycharm": {
     "name": "#%%\n"
    }
   },
   "source": [
    "## experiment.get_html()"
   ]
  },
  {
   "cell_type": "code",
   "execution_count": null,
   "metadata": {
    "pycharm": {
     "name": "#%%\n"
    }
   },
   "outputs": [],
   "source": [
    "experiment.get_children()"
   ]
  },
  {
   "cell_type": "code",
   "execution_count": 64,
   "metadata": {
    "pycharm": {
     "name": "#%%\n"
    }
   },
   "outputs": [
    {
     "data": {
      "text/plain": [
       "[Stoichiometry(eid='chemicalDrawing:2fc7a20f-e74c-4142-b4fa-cfa2fab41c58', reactants=Reactants(__root__=[Reactant(row_id='10', rxnid=Cell(value='I', display='', units=None), name=Cell(value='HCl', display='', units=None), cas=Cell(value='7647-01-0', display='', units=None), formula=Cell(value='ClH', display='', units=None), mf=Cell(value=Decimal('36.46'), display='36.46 g/mol', units='g/mol'), mw=Cell(value=Decimal('36.46'), display='36.46 g/mol', units='g/mol'), em=Cell(value=Decimal('35.97668'), display='35.97668', units=None), limit=Cell(value=True, display='', units=None), eq=Cell(value=True, display='1', units=None), sm=None, moles=None, loading=None, molarity=None, volume=None, density=Cell(value=Decimal('1.49'), display='1.490 g/ml', units='g/mL'), wt=None, supplier=None, lot=None, iupac_name=Cell(value='hydrogen chloride', display='', units=None), barcode=None, material_id=None, container_id=None, inchi='InChI=1S/ClH/h1H', hash='da873297923efb8e6452ccf77bc0701b6add1e9507b261004cb50ba2f8fd2cda'), Reactant(row_id='1', rxnid=Cell(value='II', display='', units=None), name=Cell(value='NaOH', display='', units=None), cas=Cell(value='1310-73-2', display='', units=None), formula=Cell(value='HNaO', display='', units=None), mf=Cell(value=Decimal('40.0'), display='40 g/mol', units='g/mol'), mw=Cell(value=Decimal('40.0'), display='40.00 g/mol', units='g/mol'), em=Cell(value=Decimal('39.99251'), display='39.99251', units=None), limit=None, eq=Cell(value=True, display='1', units=None), sm=None, moles=None, loading=None, molarity=None, volume=None, density=None, wt=None, supplier=None, lot=None, iupac_name=Cell(value='sodium hydroxide', display='', units=None), barcode=None, material_id=None, container_id=None, inchi='InChI=1S/Na.H2O/h;1H2/q+1;/p-1', hash='eeffcce664ef646a8b1c42f8f665a207d0c096b0e03ad0ff2978fa5411b5cfdd')]), products=Products(__root__=[Product(row_id='19', rxnid=Cell(value='III', display='', units=None), product_id=Cell(value='P1', display='', units=None), name=Cell(value='H2O', display='', units=None), formula=Cell(value='H<sub>2</sub>O', display='', units=None), mf=Cell(value=Decimal('18.02'), display='18.02 g/mol', units='g/mol'), mw=Cell(value=Decimal('18.02'), display='18.02 g/mol', units='g/mol'), em=Cell(value=Decimal('18.01056'), display='18.01056', units=None), theo_mass=None, actual_mass=None, purity=None, density=Cell(value=True, display='1.000 g/ml', units='g/mL'), yield_=None, theo_mol=None, actual_mol=None, conversion=None, iupac_name=Cell(value='water', display='', units=None), barcode=None, material_id=None, container_id=None, inchi='InChI=1S/H2O/h1H2', hash='576635f2354d849d2aa1354b734cb232e7847b32dcaad66c92bbcf40717281ba'), Product(row_id='54', rxnid=Cell(value='IV', display='', units=None), product_id=Cell(value='P2', display='', units=None), name=Cell(value='sodium chloride', display='', units=None), formula=Cell(value='ClNa', display='', units=None), mf=Cell(value=Decimal('58.44'), display='58.44 g/mol', units='g/mol'), mw=Cell(value=Decimal('58.44'), display='58.44 g/mol', units='g/mol'), em=Cell(value=Decimal('57.95862'), display='57.95862', units=None), theo_mass=None, actual_mass=None, purity=None, density=None, yield_=None, theo_mol=None, actual_mol=None, conversion=None, iupac_name=Cell(value='sodium chloride', display='', units=None), barcode=None, material_id=None, container_id=None, inchi='InChI=1S/ClH.Na/h1H;/q;+1/p-1', hash='7648352f4554de83c3e515ea2cdc6116a1c1ee5ffd5f01f93382fa997a6b30e7')]), solvents=Solvents(__root__=[Solvent(row_id=UUID('5a78ff52-4dd5-4ce2-9b84-78a4da0199d4'), solvent=Cell(value='1,4-Dioxane', display='', units=None), ratio=Cell(value=True, display='1', units=None), volume=None)]), conditions=Conditions(__root__=[Condition(row_id=UUID('ca785cab-2f92-42f1-a1d7-5645c1d02ccc'), pressure=Cell(value=True, display='1 atm', units='atm'), temperature=Cell(value=Decimal('100.0'), display='100 °C', units='°C'), duration=Cell(value=Decimal('0.8333333333333334'), display='50 s', units='min'))])),\n",
       " Stoichiometry(eid='chemicalDrawing:8b55beb9-c6f6-4f03-a8ba-65353a0178eb', reactants=Reactants(__root__=[Reactant(row_id='10', rxnid=Cell(value='I', display='', units=None), name=Cell(value='hydrogen chloride', display='', units=None), cas=None, formula=Cell(value='ClH', display='', units=None), mf=Cell(value=Decimal('36.46'), display='36.46 g/mol', units='g/mol'), mw=Cell(value=Decimal('36.46'), display='36.46 g/mol', units='g/mol'), em=Cell(value=Decimal('35.97668'), display='35.97668', units=None), limit=Cell(value=True, display='', units=None), eq=Cell(value=True, display='1', units=None), sm=None, moles=None, loading=None, molarity=None, volume=None, density=None, wt=None, supplier=None, lot=None, iupac_name=Cell(value='hydrogen chloride', display='', units=None), barcode=None, material_id=None, container_id=None, inchi='InChI=1S/ClH/h1H', hash='da873297923efb8e6452ccf77bc0701b6add1e9507b261004cb50ba2f8fd2cda'), Reactant(row_id='1', rxnid=Cell(value='II', display='', units=None), name=Cell(value='sodium hydroxide', display='', units=None), cas=None, formula=Cell(value='HNaO', display='', units=None), mf=Cell(value=Decimal('40.0'), display='40 g/mol', units='g/mol'), mw=Cell(value=Decimal('40.0'), display='40.00 g/mol', units='g/mol'), em=Cell(value=Decimal('39.99251'), display='39.99251', units=None), limit=None, eq=Cell(value=True, display='1', units=None), sm=None, moles=None, loading=None, molarity=None, volume=None, density=None, wt=None, supplier=None, lot=None, iupac_name=Cell(value='sodium hydroxide', display='', units=None), barcode=None, material_id=None, container_id=None, inchi='InChI=1S/Na.H2O/h;1H2/q+1;/p-1', hash='eeffcce664ef646a8b1c42f8f665a207d0c096b0e03ad0ff2978fa5411b5cfdd')]), products=Products(__root__=[Product(row_id='19', rxnid=Cell(value='III', display='', units=None), product_id=Cell(value='P1', display='', units=None), name=Cell(value='water', display='', units=None), formula=Cell(value='H<sub>2</sub>O', display='', units=None), mf=Cell(value=Decimal('18.02'), display='18.02 g/mol', units='g/mol'), mw=Cell(value=Decimal('18.02'), display='18.02 g/mol', units='g/mol'), em=Cell(value=Decimal('18.01056'), display='18.01056', units=None), theo_mass=None, actual_mass=None, purity=None, density=None, yield_=None, theo_mol=None, actual_mol=None, conversion=None, iupac_name=Cell(value='water', display='', units=None), barcode=None, material_id=None, container_id=None, inchi='InChI=1S/H2O/h1H2', hash='576635f2354d849d2aa1354b734cb232e7847b32dcaad66c92bbcf40717281ba'), Product(row_id='54', rxnid=Cell(value='IV', display='', units=None), product_id=Cell(value='P2', display='', units=None), name=Cell(value='sodium chloride', display='', units=None), formula=Cell(value='ClNa', display='', units=None), mf=Cell(value=Decimal('58.44'), display='58.44 g/mol', units='g/mol'), mw=Cell(value=Decimal('58.44'), display='58.44 g/mol', units='g/mol'), em=Cell(value=Decimal('57.95862'), display='57.95862', units=None), theo_mass=None, actual_mass=None, purity=None, density=None, yield_=None, theo_mol=None, actual_mol=None, conversion=None, iupac_name=Cell(value='sodium chloride', display='', units=None), barcode=None, material_id=None, container_id=None, inchi='InChI=1S/ClH.Na/h1H;/q;+1/p-1', hash='7648352f4554de83c3e515ea2cdc6116a1c1ee5ffd5f01f93382fa997a6b30e7')]), solvents=Solvents(__root__=[]), conditions=Conditions(__root__=[])),\n",
       " Stoichiometry(eid='chemicalDrawing:10cb63cc-a922-4dfc-8ce4-75f54b1d2753', reactants=Reactants(__root__=[]), products=Products(__root__=[]), solvents=Solvents(__root__=[]), conditions=Conditions(__root__=[]))]"
      ]
     },
     "execution_count": 64,
     "metadata": {},
     "output_type": "execute_result"
    }
   ],
   "source": [
    "experiment.stoichiometry"
   ]
  },
  {
   "cell_type": "code",
   "execution_count": 10,
   "metadata": {
    "pycharm": {
     "name": "#%%\n"
    }
   },
   "outputs": [],
   "source": [
    "from signals_notebook.entities import Experiment\n",
    "\n",
    "notebook = EntityStore.get(\"journal:111a8a0d-2772-47b0-b5b8-2e4faf04119e\")\n",
    "experiment = Experiment.create(\n",
    "    name='Example experiment created by SDK',\n",
    "    description='Delete if you see this in UI',\n",
    "    notebook=notebook\n",
    ")"
   ]
  },
  {
   "cell_type": "code",
   "execution_count": 11,
   "metadata": {
    "pycharm": {
     "name": "#%%\n"
    }
   },
   "outputs": [],
   "source": [
    "EntityStore.delete(experiment.eid)"
   ]
  },
  {
   "cell_type": "code",
   "execution_count": 11,
   "metadata": {
    "pycharm": {
     "name": "#%%\n"
    }
   },
   "outputs": [],
   "source": []
  },
  {
   "cell_type": "code",
   "execution_count": 12,
   "metadata": {
    "pycharm": {
     "name": "#%%\n"
    }
   },
   "outputs": [
    {
     "name": "stderr",
     "output_type": "stream",
     "text": [
      "C:\\Users\\d.cherednichenko\\AppData\\Local\\Temp\\ipykernel_14120\\4098154986.py:2: DeprecationWarning: Importing display from IPython.core.display is deprecated since IPython 7.14, please import from IPython display\n",
      "  from IPython.core.display import display, HTML\n"
     ]
    }
   ],
   "source": [
    "# experiment get html\n",
    "from IPython.core.display import display, HTML"
   ]
  },
  {
   "cell_type": "code",
   "execution_count": 13,
   "metadata": {
    "pycharm": {
     "name": "#%%\n"
    }
   },
   "outputs": [
    {
     "ename": "SignalsNotebookError",
     "evalue": "<SignalsNotebookError status=404 code=NotFound> title=The resource your required is not found. detail=>",
     "output_type": "error",
     "traceback": [
      "\u001B[1;31m---------------------------------------------------------------------------\u001B[0m",
      "\u001B[1;31mSignalsNotebookError\u001B[0m                      Traceback (most recent call last)",
      "Input \u001B[1;32mIn [13]\u001B[0m, in \u001B[0;36m<cell line: 1>\u001B[1;34m()\u001B[0m\n\u001B[1;32m----> 1\u001B[0m stoichiometry_html \u001B[38;5;241m=\u001B[39m \u001B[43mexperiment\u001B[49m\u001B[38;5;241;43m.\u001B[39;49m\u001B[43mstoichiometry\u001B[49m[\u001B[38;5;241m0\u001B[39m]\u001B[38;5;241m.\u001B[39mget_html()\n",
      "File \u001B[1;32m~\\AppData\\Local\\Programs\\Python\\Python39\\lib\\functools.py:969\u001B[0m, in \u001B[0;36mcached_property.__get__\u001B[1;34m(self, instance, owner)\u001B[0m\n\u001B[0;32m    967\u001B[0m val \u001B[38;5;241m=\u001B[39m cache\u001B[38;5;241m.\u001B[39mget(\u001B[38;5;28mself\u001B[39m\u001B[38;5;241m.\u001B[39mattrname, _NOT_FOUND)\n\u001B[0;32m    968\u001B[0m \u001B[38;5;28;01mif\u001B[39;00m val \u001B[38;5;129;01mis\u001B[39;00m _NOT_FOUND:\n\u001B[1;32m--> 969\u001B[0m     val \u001B[38;5;241m=\u001B[39m \u001B[38;5;28;43mself\u001B[39;49m\u001B[38;5;241;43m.\u001B[39;49m\u001B[43mfunc\u001B[49m\u001B[43m(\u001B[49m\u001B[43minstance\u001B[49m\u001B[43m)\u001B[49m\n\u001B[0;32m    970\u001B[0m     \u001B[38;5;28;01mtry\u001B[39;00m:\n\u001B[0;32m    971\u001B[0m         cache[\u001B[38;5;28mself\u001B[39m\u001B[38;5;241m.\u001B[39mattrname] \u001B[38;5;241m=\u001B[39m val\n",
      "File \u001B[1;32mC:\\coding\\pesn-python-sdk\\src\\signals_notebook\\entities\\experiment.py:88\u001B[0m, in \u001B[0;36mExperiment.stoichiometry\u001B[1;34m(self)\u001B[0m\n\u001B[0;32m     86\u001B[0m \u001B[38;5;129m@cached_property\u001B[39m\n\u001B[0;32m     87\u001B[0m \u001B[38;5;28;01mdef\u001B[39;00m \u001B[38;5;21mstoichiometry\u001B[39m(\u001B[38;5;28mself\u001B[39m) \u001B[38;5;241m-\u001B[39m\u001B[38;5;241m>\u001B[39m Union[Stoichiometry, \u001B[38;5;28mlist\u001B[39m[Stoichiometry]]:\n\u001B[1;32m---> 88\u001B[0m     \u001B[38;5;28;01mreturn\u001B[39;00m \u001B[43mStoichiometry\u001B[49m\u001B[38;5;241;43m.\u001B[39;49m\u001B[43mfetch_data\u001B[49m\u001B[43m(\u001B[49m\u001B[38;5;28;43mself\u001B[39;49m\u001B[38;5;241;43m.\u001B[39;49m\u001B[43meid\u001B[49m\u001B[43m)\u001B[49m\n",
      "File \u001B[1;32mC:\\coding\\pesn-python-sdk\\src\\signals_notebook\\entities\\stoichiometry\\stoichiometry.py:70\u001B[0m, in \u001B[0;36mStoichiometry.fetch_data\u001B[1;34m(cls, entity_eid)\u001B[0m\n\u001B[0;32m     67\u001B[0m api \u001B[38;5;241m=\u001B[39m SignalsNotebookApi\u001B[38;5;241m.\u001B[39mget_default_api()\n\u001B[0;32m     68\u001B[0m fields \u001B[38;5;241m=\u001B[39m \u001B[38;5;124m'\u001B[39m\u001B[38;5;124m, \u001B[39m\u001B[38;5;124m'\u001B[39m\u001B[38;5;241m.\u001B[39mjoin(DataGridKind)\n\u001B[1;32m---> 70\u001B[0m response \u001B[38;5;241m=\u001B[39m \u001B[43mapi\u001B[49m\u001B[38;5;241;43m.\u001B[39;49m\u001B[43mcall\u001B[49m\u001B[43m(\u001B[49m\n\u001B[0;32m     71\u001B[0m \u001B[43m    \u001B[49m\u001B[43mmethod\u001B[49m\u001B[38;5;241;43m=\u001B[39;49m\u001B[38;5;124;43m'\u001B[39;49m\u001B[38;5;124;43mGET\u001B[39;49m\u001B[38;5;124;43m'\u001B[39;49m\u001B[43m,\u001B[49m\n\u001B[0;32m     72\u001B[0m \u001B[43m    \u001B[49m\u001B[43mpath\u001B[49m\u001B[38;5;241;43m=\u001B[39;49m\u001B[43m(\u001B[49m\u001B[38;5;28;43mcls\u001B[39;49m\u001B[38;5;241;43m.\u001B[39;49m\u001B[43m_get_endpoint\u001B[49m\u001B[43m(\u001B[49m\u001B[43m)\u001B[49m\u001B[43m,\u001B[49m\u001B[43m \u001B[49m\u001B[43mentity_eid\u001B[49m\u001B[43m)\u001B[49m\u001B[43m,\u001B[49m\n\u001B[0;32m     73\u001B[0m \u001B[43m    \u001B[49m\u001B[43mparams\u001B[49m\u001B[38;5;241;43m=\u001B[39;49m\u001B[43m{\u001B[49m\u001B[38;5;124;43m'\u001B[39;49m\u001B[38;5;124;43mfields\u001B[39;49m\u001B[38;5;124;43m'\u001B[39;49m\u001B[43m:\u001B[49m\u001B[43m \u001B[49m\u001B[43mfields\u001B[49m\u001B[43m,\u001B[49m\u001B[43m \u001B[49m\u001B[38;5;124;43m'\u001B[39;49m\u001B[38;5;124;43mvalue\u001B[39;49m\u001B[38;5;124;43m'\u001B[39;49m\u001B[43m:\u001B[49m\u001B[43m \u001B[49m\u001B[38;5;124;43m'\u001B[39;49m\u001B[38;5;124;43mnormalized\u001B[39;49m\u001B[38;5;124;43m'\u001B[39;49m\u001B[43m}\u001B[49m\u001B[43m,\u001B[49m\n\u001B[0;32m     74\u001B[0m \u001B[43m\u001B[49m\u001B[43m)\u001B[49m\n\u001B[0;32m     76\u001B[0m result \u001B[38;5;241m=\u001B[39m StoichiometryDataResponse(\u001B[38;5;241m*\u001B[39m\u001B[38;5;241m*\u001B[39mresponse\u001B[38;5;241m.\u001B[39mjson())\n\u001B[0;32m     77\u001B[0m data \u001B[38;5;241m=\u001B[39m cast(ResponseData, result\u001B[38;5;241m.\u001B[39mdata)\n",
      "File \u001B[1;32mC:\\coding\\pesn-python-sdk\\src\\signals_notebook\\api.py:101\u001B[0m, in \u001B[0;36mSignalsNotebookApi.call\u001B[1;34m(self, method, path, params, data, json, headers)\u001B[0m\n\u001B[0;32m     93\u001B[0m     response \u001B[38;5;241m=\u001B[39m \u001B[38;5;28mself\u001B[39m\u001B[38;5;241m.\u001B[39m_session\u001B[38;5;241m.\u001B[39mrequest(\n\u001B[0;32m     94\u001B[0m         method\u001B[38;5;241m=\u001B[39mmethod,\n\u001B[0;32m     95\u001B[0m         url\u001B[38;5;241m=\u001B[39m\u001B[38;5;28mself\u001B[39m\u001B[38;5;241m.\u001B[39m_prepare_path(path),\n\u001B[0;32m     96\u001B[0m         params\u001B[38;5;241m=\u001B[39mparams,\n\u001B[0;32m     97\u001B[0m         headers\u001B[38;5;241m=\u001B[39mheaders,\n\u001B[0;32m     98\u001B[0m     )\n\u001B[0;32m    100\u001B[0m \u001B[38;5;28;01mif\u001B[39;00m \u001B[38;5;129;01mnot\u001B[39;00m response\u001B[38;5;241m.\u001B[39mok:\n\u001B[1;32m--> 101\u001B[0m     \u001B[38;5;28;01mraise\u001B[39;00m SignalsNotebookError(response)\n\u001B[0;32m    103\u001B[0m \u001B[38;5;28;01mreturn\u001B[39;00m response\n",
      "\u001B[1;31mSignalsNotebookError\u001B[0m: <SignalsNotebookError status=404 code=NotFound> title=The resource your required is not found. detail=>"
     ]
    }
   ],
   "source": [
    "stoichiometry_html = experiment.stoichiometry[0].get_html()"
   ]
  },
  {
   "cell_type": "code",
   "execution_count": 14,
   "metadata": {
    "pycharm": {
     "name": "#%%\n"
    }
   },
   "outputs": [],
   "source": [
    "# display(HTML(stoichiometry_html))"
   ]
  },
  {
   "cell_type": "code",
   "execution_count": 1,
   "metadata": {
    "pycharm": {
     "name": "#%%\n"
    }
   },
   "outputs": [
    {
     "ename": "NameError",
     "evalue": "name 'experiment' is not defined",
     "output_type": "error",
     "traceback": [
      "\u001B[1;31m---------------------------------------------------------------------------\u001B[0m",
      "\u001B[1;31mNameError\u001B[0m                                 Traceback (most recent call last)",
      "Input \u001B[1;32mIn [1]\u001B[0m, in \u001B[0;36m<cell line: 1>\u001B[1;34m()\u001B[0m\n\u001B[1;32m----> 1\u001B[0m experiment_html \u001B[38;5;241m=\u001B[39m \u001B[43mexperiment\u001B[49m\u001B[38;5;241m.\u001B[39mget_html()\n",
      "\u001B[1;31mNameError\u001B[0m: name 'experiment' is not defined"
     ]
    }
   ],
   "source": [
    "experiment_html = experiment.get_html()"
   ]
  },
  {
   "cell_type": "code",
   "execution_count": 22,
   "metadata": {
    "pycharm": {
     "name": "#%%\n"
    }
   },
   "outputs": [
    {
     "data": {
      "text/html": [
       "<!DOCTYPE html>\n",
       "<html lang=\"en\">\n",
       "<head>\n",
       "    <meta charset=\"utf-8\">\n",
       "    <meta name=\"viewport\" content=\"width=device-width, initial-scale=1.0\">\n",
       "    <link rel=\"icon\" href=\"data:;base64,iVBORw0KGgo=\">\n",
       "    <title></title>\n",
       "    <style>\n",
       "        h1 {\n",
       "            margin-top: 1.7rem;\n",
       "            margin-bottom: 0.3rem;\n",
       "            font-size: 1.6rem;\n",
       "        }\n",
       "\n",
       "        h2 {\n",
       "            margin-top: 1.2rem;\n",
       "            margin-bottom: 0.3rem;\n",
       "            font-size: 1.2rem;\n",
       "        }\n",
       "\n",
       "        table.props th, table.props td {\n",
       "            text-align: left;\n",
       "            padding: 3px;\n",
       "        }\n",
       "\n",
       "        table.dataframe {\n",
       "            border-collapse: collapse;\n",
       "            min-width: 600px;\n",
       "        }\n",
       "\n",
       "        table.dataframe td, table.dataframe th {\n",
       "            padding: 0.4rem 0.8rem;\n",
       "            text-align: left;\n",
       "            border: 1px solid #666;\n",
       "            font-size: 0.7rem;\n",
       "        }\n",
       "    </style>\n",
       "</head>\n",
       "<body>\n",
       "<table class=\"props\">\n",
       "    <tr>\n",
       "        <th>Experiment name:</th>\n",
       "        <td></td>\n",
       "    </tr>\n",
       "    <tr>\n",
       "        <th>Description:</th>\n",
       "        <td></td>\n",
       "    </tr>\n",
       "    <tr>\n",
       "        <th>State:</th>\n",
       "        <td></td>\n",
       "    </tr>\n",
       "</table>\n",
       "\n",
       "\n",
       "    1\n",
       "\n",
       "    2\n",
       "\n",
       "    4\n",
       "\n",
       "    5\n",
       "\n",
       "\n",
       "</body>\n",
       "</html>"
      ],
      "text/plain": [
       "<IPython.core.display.HTML object>"
      ]
     },
     "metadata": {},
     "output_type": "display_data"
    }
   ],
   "source": [
    "display(HTML(experiment_html))"
   ]
  },
  {
   "cell_type": "code",
   "execution_count": 23,
   "metadata": {
    "pycharm": {
     "name": "#%%\n"
    }
   },
   "outputs": [],
   "source": []
  },
  {
   "cell_type": "code",
   "execution_count": null,
   "metadata": {
    "pycharm": {
     "name": "#%%\n"
    }
   },
   "outputs": [],
   "source": []
  }
 ],
 "metadata": {
  "kernelspec": {
   "display_name": "Python 3 (ipykernel)",
   "language": "python",
   "name": "python3"
  },
  "language_info": {
   "codemirror_mode": {
    "name": "ipython",
    "version": 3
   },
   "file_extension": ".py",
   "mimetype": "text/x-python",
   "name": "python",
   "nbconvert_exporter": "python",
   "pygments_lexer": "ipython3",
   "version": "3.9.7"
  }
 },
 "nbformat": 4,
 "nbformat_minor": 1
}
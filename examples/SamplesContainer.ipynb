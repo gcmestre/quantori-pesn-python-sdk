{
 "cells": [
  {
   "cell_type": "code",
   "execution_count": 1,
   "outputs": [],
   "source": [
    "%load_ext dotenv\n",
    "%dotenv\n",
    "import os\n",
    "\n",
    "SN_API_HOST = os.getenv('SN_API_HOST')\n",
    "SN_API_KEY = os.getenv('SN_API_KEY')"
   ],
   "metadata": {
    "collapsed": false,
    "pycharm": {
     "name": "#%%\n"
    }
   }
  },
  {
   "cell_type": "code",
   "execution_count": 2,
   "outputs": [
    {
     "data": {
      "text/plain": "<signals_notebook.api.SignalsNotebookApi at 0x26c00ec73a0>"
     },
     "execution_count": 2,
     "metadata": {},
     "output_type": "execute_result"
    }
   ],
   "source": [
    "from signals_notebook.api import SignalsNotebookApi\n",
    "SignalsNotebookApi.init(SN_API_HOST, SN_API_KEY)"
   ],
   "metadata": {
    "collapsed": false,
    "pycharm": {
     "name": "#%%\n"
    }
   }
  },
  {
   "cell_type": "code",
   "execution_count": 3,
   "outputs": [],
   "source": [
    "from signals_notebook.entities.entity_store import EntityStore\n",
    "samplesContainer = EntityStore.get('samplesContainer:3cd945e0-134d-4ae5-94a9-b6aee55528b2')"
   ],
   "metadata": {
    "collapsed": false,
    "pycharm": {
     "name": "#%%\n"
    }
   }
  },
  {
   "cell_type": "code",
   "execution_count": 4,
   "outputs": [
    {
     "data": {
      "text/plain": "File(name='Samples+Table.csv', content=b'ID,Created Date,Description,Comments,Amount,Attached Docs,Template\\r\\nSample-1776,2022-06-13T13:54:43.380521116Z,,55555,,0,Sample\\r\\nSample-1777,2022-06-13T13:55:51.211451408Z,555,,,0,Sample\\r\\nSample-1778,2022-06-13T13:59:34.535249108Z,,,,0,Sample\\r\\nSample-1779,2022-06-13T14:00:31.649713156Z,,,,0,Sample\\r\\nSample-1781,2022-06-14T09:51:10.942740735Z,,create_NEW_SAMPLE,,0,Sample\\r\\n', content_type='text/csv')"
     },
     "execution_count": 4,
     "metadata": {},
     "output_type": "execute_result"
    }
   ],
   "source": [
    "samplesContainer.get_content()"
   ],
   "metadata": {
    "collapsed": false,
    "pycharm": {
     "name": "#%%\n"
    }
   }
  },
  {
   "cell_type": "code",
   "execution_count": 5,
   "outputs": [
    {
     "name": "stderr",
     "output_type": "stream",
     "text": [
      "C:\\Users\\d.cherednichenko\\AppData\\Local\\Temp\\ipykernel_28652\\3925987743.py:1: DeprecationWarning: Importing display from IPython.core.display is deprecated since IPython 7.14, please import from IPython display\n",
      "  from IPython.core.display import display, HTML\n"
     ]
    },
    {
     "data": {
      "text/plain": "<IPython.core.display.HTML object>",
      "text/html": "\n<div class=\"table-wrapper\" style=\"margin: 10px 10px; padding: 6px 10px; border: solid 1px #f5f5f5;\">\n    <div class=\"table-scroll\">\n        <h2>Samples Table</h2>\n        <table>\n            <thead>\n                <tr>\n                \n                    <th>ID</th>\n                \n                    <th>Created Date</th>\n                \n                    <th>Description</th>\n                \n                    <th>Comments</th>\n                \n                    <th>Amount</th>\n                \n                    <th>Attached Docs</th>\n                \n                    <th>Template</th>\n                \n                </tr>\n            </thead>\n            <tbody>\n            \n                <tr>\n                \n                    <td>Sample-1776</td>\n                \n                    <td>2022-06-13T13:54:43.380521116Z</td>\n                \n                    <td></td>\n                \n                    <td>55555</td>\n                \n                    <td></td>\n                \n                    <td>0</td>\n                \n                    <td>Sample</td>\n                \n                </tr>\n            \n                <tr>\n                \n                    <td>Sample-1777</td>\n                \n                    <td>2022-06-13T13:55:51.211451408Z</td>\n                \n                    <td>555</td>\n                \n                    <td></td>\n                \n                    <td></td>\n                \n                    <td>0</td>\n                \n                    <td>Sample</td>\n                \n                </tr>\n            \n                <tr>\n                \n                    <td>Sample-1778</td>\n                \n                    <td>2022-06-13T13:59:34.535249108Z</td>\n                \n                    <td></td>\n                \n                    <td></td>\n                \n                    <td></td>\n                \n                    <td>0</td>\n                \n                    <td>Sample</td>\n                \n                </tr>\n            \n                <tr>\n                \n                    <td>Sample-1779</td>\n                \n                    <td>2022-06-13T14:00:31.649713156Z</td>\n                \n                    <td></td>\n                \n                    <td></td>\n                \n                    <td></td>\n                \n                    <td>0</td>\n                \n                    <td>Sample</td>\n                \n                </tr>\n            \n                <tr>\n                \n                    <td>Sample-1781</td>\n                \n                    <td>2022-06-14T09:51:10.942740735Z</td>\n                \n                    <td></td>\n                \n                    <td>create_NEW_SAMPLE</td>\n                \n                    <td></td>\n                \n                    <td>0</td>\n                \n                    <td>Sample</td>\n                \n                </tr>\n            \n            </tbody>\n        </table>\n    </div>\n</div>\n"
     },
     "metadata": {},
     "output_type": "display_data"
    }
   ],
   "source": [
    "from IPython.core.display import display, HTML\n",
    "\n",
    "samples_container_html = samplesContainer.get_html()\n",
    "display(HTML(data=samples_container_html))"
   ],
   "metadata": {
    "collapsed": false,
    "pycharm": {
     "name": "#%%\n"
    }
   }
  },
  {
   "cell_type": "code",
   "execution_count": 14,
   "outputs": [],
   "source": [
    "samples_generator = samplesContainer.get_samples()"
   ],
   "metadata": {
    "collapsed": false,
    "pycharm": {
     "name": "#%%\n"
    }
   }
  },
  {
   "cell_type": "code",
   "execution_count": 15,
   "outputs": [
    {
     "name": "stdout",
     "output_type": "stream",
     "text": [
      "[Sample(type=<EntityType.SAMPLE: 'sample'>, eid='sample:fa34c835-6271-4c59-b320-ff26089e89c6', digest='53126690', name='Sample-1776', description='', created_at=datetime.datetime(2022, 6, 13, 13, 54, 43, 40000, tzinfo=datetime.timezone.utc), edited_at=datetime.datetime(2022, 6, 15, 15, 16, 14, 46000, tzinfo=datetime.timezone.utc), fields={'Description': FieldData(display=None, value='', units=None, eid=None), 'Name': FieldData(display=None, value='Sample-1776', units=None, eid=None)}), Sample(type=<EntityType.SAMPLE: 'sample'>, eid='sample:ef8f39e5-3309-4f85-abd6-3ceedce0d8a6', digest='78660064', name='Sample-1777', description='', created_at=datetime.datetime(2022, 6, 13, 13, 55, 51, 150000, tzinfo=datetime.timezone.utc), edited_at=datetime.datetime(2022, 6, 14, 10, 46, 52, 907000, tzinfo=datetime.timezone.utc), fields={'Description': FieldData(display=None, value='', units=None, eid=None), 'Name': FieldData(display=None, value='Sample-1777', units=None, eid=None)}), Sample(type=<EntityType.SAMPLE: 'sample'>, eid='sample:3ef80703-612e-465a-b930-f3e154dd1937', digest='18903856', name='Sample-1778', description='', created_at=datetime.datetime(2022, 6, 13, 13, 59, 34, 447000, tzinfo=datetime.timezone.utc), edited_at=datetime.datetime(2022, 6, 13, 13, 59, 34, 447000, tzinfo=datetime.timezone.utc), fields={'Description': FieldData(display=None, value='', units=None, eid=None), 'Name': FieldData(display=None, value='Sample-1778', units=None, eid=None)}), Sample(type=<EntityType.SAMPLE: 'sample'>, eid='sample:20080759-ae7b-4529-972b-85a089f9e6fd', digest='78266344', name='Sample-1779', description='', created_at=datetime.datetime(2022, 6, 13, 14, 0, 31, 590000, tzinfo=datetime.timezone.utc), edited_at=datetime.datetime(2022, 6, 13, 14, 0, 31, 590000, tzinfo=datetime.timezone.utc), fields={'Description': FieldData(display=None, value='', units=None, eid=None), 'Name': FieldData(display=None, value='Sample-1779', units=None, eid=None)}), Sample(type=<EntityType.SAMPLE: 'sample'>, eid='sample:2d9c3f5c-065a-4d56-992f-c0b2003eb9be', digest='25881025', name='Sample-1781', description='', created_at=datetime.datetime(2022, 6, 14, 9, 51, 10, 765000, tzinfo=datetime.timezone.utc), edited_at=datetime.datetime(2022, 6, 14, 9, 51, 10, 765000, tzinfo=datetime.timezone.utc), fields={'Description': FieldData(display=None, value='', units=None, eid=None), 'Name': FieldData(display=None, value='Sample-1781', units=None, eid=None)})]\n"
     ]
    }
   ],
   "source": [
    "samples = samplesContainer.samples"
   ],
   "metadata": {
    "collapsed": false,
    "pycharm": {
     "name": "#%%\n"
    }
   }
  },
  {
   "cell_type": "code",
   "execution_count": 16,
   "outputs": [
    {
     "data": {
      "text/plain": "[Sample(type=<EntityType.SAMPLE: 'sample'>, eid='sample:fa34c835-6271-4c59-b320-ff26089e89c6', digest='53126690', name='Sample-1776', description='', created_at=datetime.datetime(2022, 6, 13, 13, 54, 43, 40000, tzinfo=datetime.timezone.utc), edited_at=datetime.datetime(2022, 6, 15, 15, 16, 14, 46000, tzinfo=datetime.timezone.utc), fields={'Description': FieldData(display=None, value='', units=None, eid=None), 'Name': FieldData(display=None, value='Sample-1776', units=None, eid=None)}),\n Sample(type=<EntityType.SAMPLE: 'sample'>, eid='sample:ef8f39e5-3309-4f85-abd6-3ceedce0d8a6', digest='78660064', name='Sample-1777', description='', created_at=datetime.datetime(2022, 6, 13, 13, 55, 51, 150000, tzinfo=datetime.timezone.utc), edited_at=datetime.datetime(2022, 6, 14, 10, 46, 52, 907000, tzinfo=datetime.timezone.utc), fields={'Description': FieldData(display=None, value='', units=None, eid=None), 'Name': FieldData(display=None, value='Sample-1777', units=None, eid=None)}),\n Sample(type=<EntityType.SAMPLE: 'sample'>, eid='sample:3ef80703-612e-465a-b930-f3e154dd1937', digest='18903856', name='Sample-1778', description='', created_at=datetime.datetime(2022, 6, 13, 13, 59, 34, 447000, tzinfo=datetime.timezone.utc), edited_at=datetime.datetime(2022, 6, 13, 13, 59, 34, 447000, tzinfo=datetime.timezone.utc), fields={'Description': FieldData(display=None, value='', units=None, eid=None), 'Name': FieldData(display=None, value='Sample-1778', units=None, eid=None)}),\n Sample(type=<EntityType.SAMPLE: 'sample'>, eid='sample:20080759-ae7b-4529-972b-85a089f9e6fd', digest='78266344', name='Sample-1779', description='', created_at=datetime.datetime(2022, 6, 13, 14, 0, 31, 590000, tzinfo=datetime.timezone.utc), edited_at=datetime.datetime(2022, 6, 13, 14, 0, 31, 590000, tzinfo=datetime.timezone.utc), fields={'Description': FieldData(display=None, value='', units=None, eid=None), 'Name': FieldData(display=None, value='Sample-1779', units=None, eid=None)}),\n Sample(type=<EntityType.SAMPLE: 'sample'>, eid='sample:2d9c3f5c-065a-4d56-992f-c0b2003eb9be', digest='25881025', name='Sample-1781', description='', created_at=datetime.datetime(2022, 6, 14, 9, 51, 10, 765000, tzinfo=datetime.timezone.utc), edited_at=datetime.datetime(2022, 6, 14, 9, 51, 10, 765000, tzinfo=datetime.timezone.utc), fields={'Description': FieldData(display=None, value='', units=None, eid=None), 'Name': FieldData(display=None, value='Sample-1781', units=None, eid=None)})]"
     },
     "execution_count": 16,
     "metadata": {},
     "output_type": "execute_result"
    }
   ],
   "source": [
    "samples"
   ],
   "metadata": {
    "collapsed": false,
    "pycharm": {
     "name": "#%%\n"
    }
   }
  },
  {
   "cell_type": "code",
   "execution_count": 24,
   "outputs": [],
   "source": [
    "NEW_VALUE = '1111'\n",
    "for sample in samples:\n",
    "    created_properties = sample.properties\n",
    "    created_properties[6].set_value(NEW_VALUE)"
   ],
   "metadata": {
    "collapsed": false,
    "pycharm": {
     "name": "#%%\n"
    }
   }
  },
  {
   "cell_type": "code",
   "execution_count": 25,
   "outputs": [
    {
     "name": "stdout",
     "output_type": "stream",
     "text": [
      "id='3' name='Comments' content=CellPropertyContent(value='1111', name=None, eid=None, values=None)\n",
      "True\n",
      "id='3' name='Comments' content=CellPropertyContent(value='1111', name=None, eid=None, values=None)\n",
      "True\n",
      "id='3' name='Comments' content=CellPropertyContent(value='1111', name=None, eid=None, values=None)\n",
      "True\n",
      "id='3' name='Comments' content=CellPropertyContent(value='1111', name=None, eid=None, values=None)\n",
      "True\n",
      "id='3' name='Comments' content=CellPropertyContent(value='1111', name=None, eid=None, values=None)\n",
      "True\n"
     ]
    }
   ],
   "source": [
    "for sample in samples:\n",
    "    print(sample.properties[6])\n",
    "    print(sample.properties[6].is_changed)"
   ],
   "metadata": {
    "collapsed": false,
    "pycharm": {
     "name": "#%%\n"
    }
   }
  },
  {
   "cell_type": "code",
   "execution_count": 26,
   "outputs": [
    {
     "name": "stdout",
     "output_type": "stream",
     "text": [
      "[Sample(type=<EntityType.SAMPLE: 'sample'>, eid='sample:fa34c835-6271-4c59-b320-ff26089e89c6', digest='82328426', name='Sample-1776', description='', created_at=datetime.datetime(2022, 6, 13, 13, 54, 43, 40000, tzinfo=datetime.timezone.utc), edited_at=datetime.datetime(2022, 6, 15, 15, 27, 13, 1000, tzinfo=datetime.timezone.utc), fields={'Description': FieldData(display=None, value='', units=None, eid=None), 'Name': FieldData(display=None, value='Sample-1776', units=None, eid=None)}), Sample(type=<EntityType.SAMPLE: 'sample'>, eid='sample:ef8f39e5-3309-4f85-abd6-3ceedce0d8a6', digest='51456152', name='Sample-1777', description='', created_at=datetime.datetime(2022, 6, 13, 13, 55, 51, 150000, tzinfo=datetime.timezone.utc), edited_at=datetime.datetime(2022, 6, 15, 15, 27, 16, 289000, tzinfo=datetime.timezone.utc), fields={'Description': FieldData(display=None, value='', units=None, eid=None), 'Name': FieldData(display=None, value='Sample-1777', units=None, eid=None)}), Sample(type=<EntityType.SAMPLE: 'sample'>, eid='sample:3ef80703-612e-465a-b930-f3e154dd1937', digest='59454828', name='Sample-1778', description='', created_at=datetime.datetime(2022, 6, 13, 13, 59, 34, 447000, tzinfo=datetime.timezone.utc), edited_at=datetime.datetime(2022, 6, 15, 15, 27, 19, 115000, tzinfo=datetime.timezone.utc), fields={'Description': FieldData(display=None, value='', units=None, eid=None), 'Name': FieldData(display=None, value='Sample-1778', units=None, eid=None)}), Sample(type=<EntityType.SAMPLE: 'sample'>, eid='sample:20080759-ae7b-4529-972b-85a089f9e6fd', digest='15844659', name='Sample-1779', description='', created_at=datetime.datetime(2022, 6, 13, 14, 0, 31, 590000, tzinfo=datetime.timezone.utc), edited_at=datetime.datetime(2022, 6, 15, 15, 27, 21, 735000, tzinfo=datetime.timezone.utc), fields={'Description': FieldData(display=None, value='', units=None, eid=None), 'Name': FieldData(display=None, value='Sample-1779', units=None, eid=None)}), Sample(type=<EntityType.SAMPLE: 'sample'>, eid='sample:2d9c3f5c-065a-4d56-992f-c0b2003eb9be', digest='23886804', name='Sample-1781', description='', created_at=datetime.datetime(2022, 6, 14, 9, 51, 10, 765000, tzinfo=datetime.timezone.utc), edited_at=datetime.datetime(2022, 6, 15, 15, 27, 24, 548000, tzinfo=datetime.timezone.utc), fields={'Description': FieldData(display=None, value='', units=None, eid=None), 'Name': FieldData(display=None, value='Sample-1781', units=None, eid=None)})]\n"
     ]
    }
   ],
   "source": [
    "samplesContainer.update_samples()"
   ],
   "metadata": {
    "collapsed": false,
    "pycharm": {
     "name": "#%%\n"
    }
   }
  },
  {
   "cell_type": "code",
   "execution_count": 27,
   "outputs": [
    {
     "name": "stdout",
     "output_type": "stream",
     "text": [
      "1111\n",
      "1111\n",
      "1111\n",
      "1111\n",
      "1111\n"
     ]
    }
   ],
   "source": [
    "samples_generator = samplesContainer.get_samples()\n",
    "samples = list(samples_generator)\n",
    "\n",
    "for sample in samples:\n",
    "    print(sample.properties[6].content.value)\n",
    "    assert sample.properties[6].content.value == NEW_VALUE"
   ],
   "metadata": {
    "collapsed": false,
    "pycharm": {
     "name": "#%%\n"
    }
   }
  },
  {
   "cell_type": "code",
   "execution_count": null,
   "outputs": [],
   "source": [],
   "metadata": {
    "collapsed": false,
    "pycharm": {
     "name": "#%%\n"
    }
   }
  },
  {
   "cell_type": "code",
   "execution_count": null,
   "outputs": [],
   "source": [],
   "metadata": {
    "collapsed": false,
    "pycharm": {
     "name": "#%%\n"
    }
   }
  }
 ],
 "metadata": {
  "kernelspec": {
   "display_name": "Python 3",
   "language": "python",
   "name": "python3"
  },
  "language_info": {
   "codemirror_mode": {
    "name": "ipython",
    "version": 2
   },
   "file_extension": ".py",
   "mimetype": "text/x-python",
   "name": "python",
   "nbconvert_exporter": "python",
   "pygments_lexer": "ipython2",
   "version": "2.7.6"
  }
 },
 "nbformat": 4,
 "nbformat_minor": 0
}
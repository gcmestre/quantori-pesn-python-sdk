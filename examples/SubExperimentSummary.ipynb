{
 "cells": [
  {
   "cell_type": "code",
   "execution_count": 1,
   "outputs": [],
   "source": [
    "%load_ext dotenv\n",
    "%dotenv\n",
    "import os\n",
    "\n",
    "SN_API_HOST = os.getenv('SN_API_HOST')\n",
    "SN_API_KEY = os.getenv('SN_API_KEY')"
   ],
   "metadata": {
    "collapsed": false,
    "pycharm": {
     "name": "#%%\n"
    }
   }
  },
  {
   "cell_type": "code",
   "execution_count": 2,
   "outputs": [
    {
     "data": {
      "text/plain": "<signals_notebook.api.SignalsNotebookApi at 0x2352e269490>"
     },
     "execution_count": 2,
     "metadata": {},
     "output_type": "execute_result"
    }
   ],
   "source": [
    "from signals_notebook.api import SignalsNotebookApi\n",
    "\n",
    "SignalsNotebookApi.init(SN_API_HOST, SN_API_KEY)"
   ],
   "metadata": {
    "collapsed": false,
    "pycharm": {
     "name": "#%%\n"
    }
   }
  },
  {
   "cell_type": "code",
   "execution_count": 3,
   "outputs": [
    {
     "data": {
      "text/plain": "SubExperimentSummary(type=<EntityType.SUB_EXPERIMENT_SUMMARY: 'paragrid'>, eid='paragrid:634f5577-e435-4a10-b4a9-e20cb87d5715', digest='44569734', name='Products', description='', created_at=datetime.datetime(2022, 8, 1, 14, 12, 29, 33000, tzinfo=datetime.timezone.utc), edited_at=datetime.datetime(2022, 8, 3, 6, 10, 21, 408000, tzinfo=datetime.timezone.utc))"
     },
     "execution_count": 3,
     "metadata": {},
     "output_type": "execute_result"
    }
   ],
   "source": [
    "from signals_notebook.entities import EntityStore\n",
    "\n",
    "sub_experiment_summary = EntityStore.get('paragrid:634f5577-e435-4a10-b4a9-e20cb87d5715')\n",
    "\n",
    "sub_experiment_summary"
   ],
   "metadata": {
    "collapsed": false,
    "pycharm": {
     "name": "#%%\n"
    }
   }
  },
  {
   "cell_type": "code",
   "execution_count": 7,
   "outputs": [],
   "source": [
    "sub_experiment_summary[0]['p1:name'].set_value('test')\n",
    "sub_experiment_summary.save()\n",
    "\n",
    "assert sub_experiment_summary[0]['p1:name'].value=='test'"
   ],
   "metadata": {
    "collapsed": false,
    "pycharm": {
     "name": "#%%\n"
    }
   }
  },
  {
   "cell_type": "code",
   "execution_count": 5,
   "outputs": [
    {
     "name": "stdout",
     "output_type": "stream",
     "text": [
      "id='chemicalDrawing:b71bab5f-302b-4f2b-8abc-c3789311037e' cells=[SubExperimentSummaryCell(key='2', display='Sub-experiment-1', value='parasubexp:ea4b04cb-c262-4d4a-bd84-2321030c4af1'), SubExperimentSummaryCell(key='p1:productid', display=None, value='P1'), SubExperimentSummaryCell(key='p1:name', display=None, value='test'), SubExperimentSummaryCell(key='p1:mf', display='2.02 g/mol', value='2.02'), SubExperimentSummaryCell(key='p1:formula', display=None, value='H<sub>2</sub>'), SubExperimentSummaryCell(key='p1:mw', display='2.02 g/mol', value='2.02'), SubExperimentSummaryCell(key='p1:em', display='2.01565', value='2.01565'), SubExperimentSummaryCell(key='p2:productid', display=None, value='P2'), SubExperimentSummaryCell(key='p2:name', display=None, value='sodium hydroxide'), SubExperimentSummaryCell(key='p2:mf', display='40.00 g/mol', value='40.0'), SubExperimentSummaryCell(key='p2:formula', display=None, value='HNaO'), SubExperimentSummaryCell(key='p2:mw', display='40.00 g/mol', value='40.0'), SubExperimentSummaryCell(key='p2:em', display='39.99251', value='39.99251')]\n",
      "id='chemicalDrawing:ee8f5e33-aaea-44f0-b429-aef793807585' cells=[SubExperimentSummaryCell(key='2', display='Sub-experiment-2', value='parasubexp:50865f97-f858-4d33-bcf0-4f1455ad68a8')]\n",
      "id='chemicalDrawing:c505e999-ac1b-4fe8-a2be-71d3b69ac86c' cells=[SubExperimentSummaryCell(key='2', display='Sub-experiment-3', value='parasubexp:782d4af3-a17a-4bbc-b039-cfb7a6e6a215')]\n",
      "id='chemicalDrawing:885abfce-290c-4a45-8c32-1621b5e2f35b' cells=[SubExperimentSummaryCell(key='2', display='Sub-experiment-4', value='parasubexp:bdc4287c-eff0-4f8f-a6bf-a611d5599309')]\n",
      "id='chemicalDrawing:2d0b2d5f-2a14-42ad-bb24-106a19e48f72' cells=[SubExperimentSummaryCell(key='2', display='Sub-experiment-5', value='parasubexp:ae124ee6-7601-4785-b3e7-6adba789e06c')]\n",
      "id='chemicalDrawing:415a9d15-95d6-49a9-9a92-ee2f8fb21aeb' cells=[SubExperimentSummaryCell(key='2', display='Sub-experiment-6', value='parasubexp:c88fb21c-7cc5-4bdd-b189-19c03100d59b')]\n",
      "id='chemicalDrawing:d0773563-3b64-460f-b555-ba55eca7601b' cells=[SubExperimentSummaryCell(key='2', display='Sub-experiment-7', value='parasubexp:d386a052-f0be-4633-acac-635375cea1f6')]\n",
      "id='chemicalDrawing:875dacd4-3574-4d7d-b0db-35cdc19547ac' cells=[SubExperimentSummaryCell(key='2', display='Sub-experiment-8', value='parasubexp:7bb5b7de-8313-4b57-b3a0-6fa168e8e472')]\n"
     ]
    }
   ],
   "source": [
    "for item in sub_experiment_summary:\n",
    "    print(item)"
   ],
   "metadata": {
    "collapsed": false,
    "pycharm": {
     "name": "#%%\n"
    }
   }
  }
 ],
 "metadata": {
  "kernelspec": {
   "display_name": "Python 3",
   "language": "python",
   "name": "python3"
  },
  "language_info": {
   "codemirror_mode": {
    "name": "ipython",
    "version": 2
   },
   "file_extension": ".py",
   "mimetype": "text/x-python",
   "name": "python",
   "nbconvert_exporter": "python",
   "pygments_lexer": "ipython2",
   "version": "2.7.6"
  }
 },
 "nbformat": 4,
 "nbformat_minor": 0
}
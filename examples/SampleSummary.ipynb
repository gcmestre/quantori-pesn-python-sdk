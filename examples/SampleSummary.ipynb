{
 "cells": [
  {
   "cell_type": "code",
   "execution_count": 1,
   "outputs": [],
   "source": [
    "%load_ext dotenv\n",
    "%dotenv\n",
    "import os\n",
    "\n",
    "SN_API_HOST = os.getenv('SN_API_HOST')\n",
    "SN_API_KEY = os.getenv('SN_API_KEY')"
   ],
   "metadata": {
    "collapsed": false,
    "pycharm": {
     "name": "#%%\n"
    }
   }
  },
  {
   "cell_type": "code",
   "execution_count": 2,
   "outputs": [
    {
     "data": {
      "text/plain": "<signals_notebook.api.SignalsNotebookApi at 0x27e05104400>"
     },
     "execution_count": 2,
     "metadata": {},
     "output_type": "execute_result"
    }
   ],
   "source": [
    "from signals_notebook.api import SignalsNotebookApi\n",
    "SignalsNotebookApi.init(SN_API_HOST, SN_API_KEY)"
   ],
   "metadata": {
    "collapsed": false,
    "pycharm": {
     "name": "#%%\n"
    }
   }
  },
  {
   "cell_type": "code",
   "execution_count": 3,
   "outputs": [],
   "source": [
    "from signals_notebook.entities.entity_store import EntityStore\n",
    "sample_summary = EntityStore.get('paraSamplesGrid:7ceaecb1-65e8-4e91-baa6-9401d93f8538')"
   ],
   "metadata": {
    "collapsed": false,
    "pycharm": {
     "name": "#%%\n"
    }
   }
  },
  {
   "cell_type": "code",
   "execution_count": 4,
   "outputs": [
    {
     "data": {
      "text/plain": "SampleSummary(type=<EntityType.SAMPLE_SUMMARY: 'paraSamplesGrid'>, eid='paraSamplesGrid:7ceaecb1-65e8-4e91-baa6-9401d93f8538', digest='44192643', name='Sample Summary', description='', created_at=datetime.datetime(2022, 6, 6, 8, 47, 49, 213000, tzinfo=datetime.timezone.utc), edited_at=datetime.datetime(2022, 6, 8, 10, 35, 27, 253000, tzinfo=datetime.timezone.utc))"
     },
     "execution_count": 4,
     "metadata": {},
     "output_type": "execute_result"
    }
   ],
   "source": [
    "sample_summary"
   ],
   "metadata": {
    "collapsed": false,
    "pycharm": {
     "name": "#%%\n"
    }
   }
  },
  {
   "cell_type": "code",
   "execution_count": 5,
   "outputs": [
    {
     "name": "stdout",
     "output_type": "stream",
     "text": [
      "{'links': {'self': 'https://quantori.signalsnotebook.perkinelmer.cloud/api/rest/v1.0/sampleSummary/paraSamplesGrid:7ceaecb1-65e8-4e91-baa6-9401d93f8538/samples?page[offset]=0&page[limit]=5000', 'first': 'https://quantori.signalsnotebook.perkinelmer.cloud/api/rest/v1.0/sampleSummary/paraSamplesGrid:7ceaecb1-65e8-4e91-baa6-9401d93f8538/samples?page[offset]=0&page[limit]=5000'}, 'data': [{'type': 'entity', 'id': 'sample:0f96db87-a4af-46ae-9aff-711867f23d73', 'links': {'self': 'https://quantori.signalsnotebook.perkinelmer.cloud/api/rest/v1.0/entities/sample:0f96db87-a4af-46ae-9aff-711867f23d73'}, 'attributes': {'id': 'sample:0f96db87-a4af-46ae-9aff-711867f23d73', 'eid': 'sample:0f96db87-a4af-46ae-9aff-711867f23d73', 'name': 'Sample-1764', 'description': '', 'createdAt': '2022-06-06T08:54:51.624Z', 'editedAt': '2022-06-06T08:54:51.624Z', 'type': 'sample', 'digest': '82858260', 'fields': {'Amount': {'display': '1 g', 'value': '1', 'units': 'g'}, 'Attached Docs': {'value': '0', 'eid': 'sample:0f96db87-a4af-46ae-9aff-711867f23d73'}, 'Comments': {'value': 'Comments 1'}, 'Created Date': {'value': '2022-06-06T08:54:51.677884071Z'}, 'Description': {'value': 'Description 1'}, 'ID': {'type': 'sample', 'display': 'Sample-1764', 'value': 'sample:0f96db87-a4af-46ae-9aff-711867f23d73'}, 'Name': {'type': 'parasubexp', 'display': 'Sub-experiment-1', 'value': 'parasubexp:413779cf-16b9-49ce-bb85-85b2fa6964da'}, 'Template': {'value': 'Sample'}}, 'flags': {'canEdit': True}}, 'relationships': {'createdBy': {'links': {'self': 'https://quantori.signalsnotebook.perkinelmer.cloud/api/rest/v1.0/users/103'}, 'data': {'type': 'user', 'id': '103'}}, 'editedBy': {'links': {'self': 'https://quantori.signalsnotebook.perkinelmer.cloud/api/rest/v1.0/users/103'}, 'data': {'type': 'user', 'id': '103'}}, 'ancestors': {'data': [{'type': 'entity', 'id': 'paraexp:13f0dfb8-4db5-439c-9b41-228f8797ce62', 'meta': {'links': {'self': 'https://quantori.signalsnotebook.perkinelmer.cloud/api/rest/v1.0/entities/paraexp:13f0dfb8-4db5-439c-9b41-228f8797ce62'}}}, {'type': 'entity', 'id': 'parasubexp:413779cf-16b9-49ce-bb85-85b2fa6964da', 'meta': {'links': {'self': 'https://quantori.signalsnotebook.perkinelmer.cloud/api/rest/v1.0/entities/parasubexp:413779cf-16b9-49ce-bb85-85b2fa6964da'}}}, {'type': 'entity', 'id': 'samplesContainer:b76eddae-7896-4485-83c7-934f27bf4c69', 'meta': {'links': {'self': 'https://quantori.signalsnotebook.perkinelmer.cloud/api/rest/v1.0/entities/samplesContainer:b76eddae-7896-4485-83c7-934f27bf4c69'}}}]}, 'owner': {'links': {'self': 'https://quantori.signalsnotebook.perkinelmer.cloud/api/rest/v1.0/users/103'}, 'data': {'type': 'user', 'id': '103'}}, 'properties': {'links': {'self': 'https://quantori.signalsnotebook.perkinelmer.cloud/api/rest/v1.0/samples/sample:0f96db87-a4af-46ae-9aff-711867f23d73/properties'}}}}, {'type': 'entity', 'id': 'sample:ba804b7d-f61c-4a8b-b2f9-4be4652b6286', 'links': {'self': 'https://quantori.signalsnotebook.perkinelmer.cloud/api/rest/v1.0/entities/sample:ba804b7d-f61c-4a8b-b2f9-4be4652b6286'}, 'attributes': {'id': 'sample:ba804b7d-f61c-4a8b-b2f9-4be4652b6286', 'eid': 'sample:ba804b7d-f61c-4a8b-b2f9-4be4652b6286', 'name': 'Sample-1774', 'description': '', 'createdAt': '2022-06-08T10:35:27.253Z', 'editedAt': '2022-06-08T10:35:27.253Z', 'type': 'sample', 'digest': '47537404', 'fields': {'Attached Docs': {'value': '0', 'eid': 'sample:ba804b7d-f61c-4a8b-b2f9-4be4652b6286'}, 'Created Date': {'value': '2022-06-08T10:35:27.346810619Z'}, 'ID': {'type': 'sample', 'display': 'Sample-1774', 'value': 'sample:ba804b7d-f61c-4a8b-b2f9-4be4652b6286'}, 'Name': {'type': 'parasubexp', 'display': 'Sub-experiment-3', 'value': 'parasubexp:797df7e4-81b1-43b5-93b1-933f2b6082a5'}, 'Template': {'value': 'Sample'}}, 'flags': {'canEdit': True}}, 'relationships': {'createdBy': {'links': {'self': 'https://quantori.signalsnotebook.perkinelmer.cloud/api/rest/v1.0/users/136'}, 'data': {'type': 'user', 'id': '136'}}, 'editedBy': {'links': {'self': 'https://quantori.signalsnotebook.perkinelmer.cloud/api/rest/v1.0/users/136'}, 'data': {'type': 'user', 'id': '136'}}, 'ancestors': {'data': [{'type': 'entity', 'id': 'paraexp:13f0dfb8-4db5-439c-9b41-228f8797ce62', 'meta': {'links': {'self': 'https://quantori.signalsnotebook.perkinelmer.cloud/api/rest/v1.0/entities/paraexp:13f0dfb8-4db5-439c-9b41-228f8797ce62'}}}, {'type': 'entity', 'id': 'parasubexp:797df7e4-81b1-43b5-93b1-933f2b6082a5', 'meta': {'links': {'self': 'https://quantori.signalsnotebook.perkinelmer.cloud/api/rest/v1.0/entities/parasubexp:797df7e4-81b1-43b5-93b1-933f2b6082a5'}}}, {'type': 'entity', 'id': 'samplesContainer:f2ef6fe8-dcc3-4693-a37d-bb399c3f4a94', 'meta': {'links': {'self': 'https://quantori.signalsnotebook.perkinelmer.cloud/api/rest/v1.0/entities/samplesContainer:f2ef6fe8-dcc3-4693-a37d-bb399c3f4a94'}}}]}, 'owner': {'links': {'self': 'https://quantori.signalsnotebook.perkinelmer.cloud/api/rest/v1.0/users/103'}, 'data': {'type': 'user', 'id': '103'}}, 'properties': {'links': {'self': 'https://quantori.signalsnotebook.perkinelmer.cloud/api/rest/v1.0/samples/sample:ba804b7d-f61c-4a8b-b2f9-4be4652b6286/properties'}}}}], 'included': [{'type': 'entity', 'id': 'parasubexp:413779cf-16b9-49ce-bb85-85b2fa6964da', 'links': {'self': 'https://quantori.signalsnotebook.perkinelmer.cloud/api/rest/v1.0/entities/parasubexp:413779cf-16b9-49ce-bb85-85b2fa6964da'}, 'attributes': {'type': 'parasubexp', 'eid': 'parasubexp:413779cf-16b9-49ce-bb85-85b2fa6964da', 'name': 'Sub-experiment-1', 'digest': '67252610', 'fields': {'Description': {'value': 'Subexperiment 1'}, 'Name': {'value': 'Sub-experiment-1'}}, 'flags': {}}}, {'type': 'entity', 'id': 'paraexp:13f0dfb8-4db5-439c-9b41-228f8797ce62', 'links': {'self': 'https://quantori.signalsnotebook.perkinelmer.cloud/api/rest/v1.0/entities/paraexp:13f0dfb8-4db5-439c-9b41-228f8797ce62'}, 'attributes': {'type': 'paraexp', 'eid': 'paraexp:13f0dfb8-4db5-439c-9b41-228f8797ce62', 'name': 'My Test Parallel Experiment - 1(SK)', 'digest': '34863454', 'fields': {'Description': {'value': ''}, 'Name': {'value': 'My Test Parallel Experiment - 1(SK)'}}, 'flags': {}}}, {'type': 'entity', 'id': 'parasubexp:797df7e4-81b1-43b5-93b1-933f2b6082a5', 'links': {'self': 'https://quantori.signalsnotebook.perkinelmer.cloud/api/rest/v1.0/entities/parasubexp:797df7e4-81b1-43b5-93b1-933f2b6082a5'}, 'attributes': {'type': 'parasubexp', 'eid': 'parasubexp:797df7e4-81b1-43b5-93b1-933f2b6082a5', 'name': 'Sub-experiment-3', 'digest': '28868127', 'fields': {'Description': {'value': ''}, 'Name': {'value': 'Sub-experiment-3'}}, 'flags': {}}}, {'type': 'entity', 'id': 'samplesContainer:f2ef6fe8-dcc3-4693-a37d-bb399c3f4a94', 'links': {'self': 'https://quantori.signalsnotebook.perkinelmer.cloud/api/rest/v1.0/entities/samplesContainer:f2ef6fe8-dcc3-4693-a37d-bb399c3f4a94'}, 'attributes': {'type': 'samplesContainer', 'eid': 'samplesContainer:f2ef6fe8-dcc3-4693-a37d-bb399c3f4a94', 'name': 'Samples Table', 'digest': '13154140', 'fields': {'Description': {'value': ''}, 'Name': {'value': 'Samples Table'}}, 'flags': {}}}, {'type': 'user', 'id': '103', 'links': {'self': 'https://quantori.signalsnotebook.perkinelmer.cloud/api/rest/v1.0/users/103'}, 'attributes': {'userId': '103', 'userName': 'sergey.kuznetsov@quantori.com', 'email': 'sergey.kuznetsov@quantori.com', 'firstName': 'Sergey', 'lastName': 'Kuznetsov', 'isEnabled': True}, 'relationships': {'picture': {'links': {'self': 'https://quantori.signalsnotebook.perkinelmer.cloud/api/rest/v1.0/users/103/picture'}}, 'systemGroups': {'links': {'self': 'https://quantori.signalsnotebook.perkinelmer.cloud/api/rest/v1.0/users/103/systemGroups'}}}}, {'type': 'user', 'id': '136', 'links': {'self': 'https://quantori.signalsnotebook.perkinelmer.cloud/api/rest/v1.0/users/136'}, 'attributes': {'userId': '136', 'userName': 'daniil.cherednichenko@quantori.com', 'email': 'daniil.cherednichenko@quantori.com', 'firstName': 'Daniil', 'lastName': 'Cherednichenko', 'isEnabled': True}, 'relationships': {'systemGroups': {'links': {'self': 'https://quantori.signalsnotebook.perkinelmer.cloud/api/rest/v1.0/users/136/systemGroups'}}}}, {'type': 'entity', 'id': 'samplesContainer:b76eddae-7896-4485-83c7-934f27bf4c69', 'links': {'self': 'https://quantori.signalsnotebook.perkinelmer.cloud/api/rest/v1.0/entities/samplesContainer:b76eddae-7896-4485-83c7-934f27bf4c69'}, 'attributes': {'type': 'samplesContainer', 'eid': 'samplesContainer:b76eddae-7896-4485-83c7-934f27bf4c69', 'name': 'Samples Table', 'digest': '10261548', 'fields': {'Description': {'value': ''}, 'Name': {'value': 'Samples Table'}}, 'flags': {}}}]}\n"
     ]
    },
    {
     "data": {
      "text/plain": "[Sample(type=<EntityType.SAMPLE: 'sample'>, eid='sample:0f96db87-a4af-46ae-9aff-711867f23d73', digest='82858260', name='Sample-1764', description='', created_at=datetime.datetime(2022, 6, 6, 8, 54, 51, 624000, tzinfo=datetime.timezone.utc), edited_at=datetime.datetime(2022, 6, 6, 8, 54, 51, 624000, tzinfo=datetime.timezone.utc), fields={'Amount': FieldData(display='1 g', value='1', units='g', eid=None), 'Attached Docs': FieldData(display=None, value='0', units=None, eid='sample:0f96db87-a4af-46ae-9aff-711867f23d73'), 'Comments': FieldData(display=None, value='Comments 1', units=None, eid=None), 'Created Date': FieldData(display=None, value='2022-06-06T08:54:51.677884071Z', units=None, eid=None), 'Description': FieldData(display=None, value='Description 1', units=None, eid=None), 'ID': FieldData(display='Sample-1764', value='sample:0f96db87-a4af-46ae-9aff-711867f23d73', units=None, eid=None), 'Name': FieldData(display='Sub-experiment-1', value='parasubexp:413779cf-16b9-49ce-bb85-85b2fa6964da', units=None, eid=None), 'Template': FieldData(display=None, value='Sample', units=None, eid=None)}),\n Sample(type=<EntityType.SAMPLE: 'sample'>, eid='sample:ba804b7d-f61c-4a8b-b2f9-4be4652b6286', digest='47537404', name='Sample-1774', description='', created_at=datetime.datetime(2022, 6, 8, 10, 35, 27, 253000, tzinfo=datetime.timezone.utc), edited_at=datetime.datetime(2022, 6, 8, 10, 35, 27, 253000, tzinfo=datetime.timezone.utc), fields={'Attached Docs': FieldData(display=None, value='0', units=None, eid='sample:ba804b7d-f61c-4a8b-b2f9-4be4652b6286'), 'Created Date': FieldData(display=None, value='2022-06-08T10:35:27.346810619Z', units=None, eid=None), 'ID': FieldData(display='Sample-1774', value='sample:ba804b7d-f61c-4a8b-b2f9-4be4652b6286', units=None, eid=None), 'Name': FieldData(display='Sub-experiment-3', value='parasubexp:797df7e4-81b1-43b5-93b1-933f2b6082a5', units=None, eid=None), 'Template': FieldData(display=None, value='Sample', units=None, eid=None)})]"
     },
     "execution_count": 5,
     "metadata": {},
     "output_type": "execute_result"
    }
   ],
   "source": [
    "list(sample_summary.fetch_samples_from_summary())"
   ],
   "metadata": {
    "collapsed": false,
    "pycharm": {
     "name": "#%%\n"
    }
   }
  },
  {
   "cell_type": "code",
   "execution_count": 6,
   "outputs": [],
   "source": [
    "samples = sample_summary.fetch_samples_from_table(['sample:0f96db87-a4af-46ae-9aff-711867f23d73'])"
   ],
   "metadata": {
    "collapsed": false,
    "pycharm": {
     "name": "#%%\n"
    }
   }
  },
  {
   "cell_type": "code",
   "execution_count": 7,
   "outputs": [
    {
     "data": {
      "text/plain": "[SampleTableRow(type=<ObjectType.SAMPLES_TABLE_ROW: 'samplesTableRow'>, eid='sample:0f96db87-a4af-46ae-9aff-711867f23d73', columns={'subExpName': SampleProperty(id=None, name='Name', content=CellPropertyContent(value='parasubexp:413779cf-16b9-49ce-bb85-85b2fa6964da', name=None, eid=None, values=None)), 'sampleId': SampleProperty(id=None, name='ID', content=CellPropertyContent(value='sample:0f96db87-a4af-46ae-9aff-711867f23d73', name=None, eid=None, values=None)), '1': SampleProperty(id=None, name='Created Date', content=CellPropertyContent(value='2022-06-06T08:54:51.677884071Z', name=None, eid=None, values=None)), '2': SampleProperty(id=None, name='Description', content=CellPropertyContent(value='Description 1', name=None, eid=None, values=None)), '3': SampleProperty(id=None, name='Comments', content=CellPropertyContent(value='Comments 1', name=None, eid=None, values=None)), '4': SampleProperty(id=None, name='Amount', content=CellPropertyContent(value=1.0, name=None, eid=None, values=None)), '10': SampleProperty(id=None, name='Attached Docs', content=CellPropertyContent(value='0', name=None, eid='sample:0f96db87-a4af-46ae-9aff-711867f23d73', values=None)), 'sourceName': SampleProperty(id=None, name='Template', content=CellPropertyContent(value='Sample', name=None, eid=None, values=None))})]"
     },
     "execution_count": 7,
     "metadata": {},
     "output_type": "execute_result"
    }
   ],
   "source": [
    "list(samples)"
   ],
   "metadata": {
    "collapsed": false,
    "pycharm": {
     "name": "#%%\n"
    }
   }
  },
  {
   "cell_type": "code",
   "execution_count": 8,
   "outputs": [
    {
     "data": {
      "text/plain": "File(name='Sample+Summary.csv', content=b'Name,ID,Created Date,Description,Comments,Amount,Attached Docs,Template\\r\\nSub-experiment-1,Sample-1764,2022-06-06T08:54:51.677884071Z,Description 1,Comments 1,1 g,0,Sample\\r\\nSub-experiment-3,Sample-1774,2022-06-08T10:35:27.346810619Z,,,,0,Sample\\r\\n', content_type='text/csv')"
     },
     "execution_count": 8,
     "metadata": {},
     "output_type": "execute_result"
    }
   ],
   "source": [
    "sample_summary.get_content()"
   ],
   "metadata": {
    "collapsed": false,
    "pycharm": {
     "name": "#%%\n"
    }
   }
  },
  {
   "cell_type": "code",
   "execution_count": null,
   "outputs": [],
   "source": [],
   "metadata": {
    "collapsed": false,
    "pycharm": {
     "name": "#%%\n"
    }
   }
  }
 ],
 "metadata": {
  "kernelspec": {
   "display_name": "Python 3",
   "language": "python",
   "name": "python3"
  },
  "language_info": {
   "codemirror_mode": {
    "name": "ipython",
    "version": 2
   },
   "file_extension": ".py",
   "mimetype": "text/x-python",
   "name": "python",
   "nbconvert_exporter": "python",
   "pygments_lexer": "ipython2",
   "version": "2.7.6"
  }
 },
 "nbformat": 4,
 "nbformat_minor": 0
}
{
 "cells": [
  {
   "cell_type": "code",
   "execution_count": 8,
   "outputs": [
    {
     "name": "stdout",
     "output_type": "stream",
     "text": [
      "The dotenv extension is already loaded. To reload it, use:\n",
      "  %reload_ext dotenv\n"
     ]
    }
   ],
   "source": [
    "%load_ext dotenv\n",
    "%dotenv\n",
    "import os\n",
    "\n",
    "SN_API_HOST = os.getenv('SN_API_HOST')\n",
    "SN_API_KEY = os.getenv('SN_API_KEY')"
   ],
   "metadata": {
    "collapsed": false,
    "pycharm": {
     "name": "#%%\n"
    }
   }
  },
  {
   "cell_type": "code",
   "execution_count": 9,
   "outputs": [
    {
     "data": {
      "text/plain": "<signals_notebook.api.SignalsNotebookApi at 0x212754df7c0>"
     },
     "execution_count": 9,
     "metadata": {},
     "output_type": "execute_result"
    }
   ],
   "source": [
    "from signals_notebook.api import SignalsNotebookApi\n",
    "\n",
    "SignalsNotebookApi.init(SN_API_HOST, SN_API_KEY)"
   ],
   "metadata": {
    "collapsed": false,
    "pycharm": {
     "name": "#%%\n"
    }
   }
  },
  {
   "cell_type": "code",
   "execution_count": 10,
   "outputs": [
    {
     "data": {
      "text/plain": "ParallelExperiment(type=<EntityType.PARALLEL_EXPERIMENT: 'paraexp'>, eid='paraexp:1b61fd91-c31c-44eb-a206-5d2eda0d0915', digest='68190752', name='Example parallel experiment created by SDK', description='Delete if you see this in UI', created_at=datetime.datetime(2022, 8, 30, 8, 55, 1, 431000, tzinfo=datetime.timezone.utc), edited_at=datetime.datetime(2022, 8, 30, 8, 55, 1, 431000, tzinfo=datetime.timezone.utc), state=<ParaExperimentState.OPEN: 'open'>)"
     },
     "execution_count": 10,
     "metadata": {},
     "output_type": "execute_result"
    }
   ],
   "source": [
    "from signals_notebook.entities import ParallelExperiment\n",
    "from signals_notebook.entities import EntityStore\n",
    "\n",
    "notebook = EntityStore.get('journal:c54da414-87d0-448f-8987-b3f58d819f1e')\n",
    "\n",
    "parallel_experiment = ParallelExperiment.create(\n",
    "    name='Example parallel experiment created by SDK',\n",
    "    description='Delete if you see this in UI',\n",
    "    notebook=notebook,\n",
    ")\n",
    "parallel_experiment"
   ],
   "metadata": {
    "collapsed": false,
    "pycharm": {
     "name": "#%%\n"
    }
   }
  },
  {
   "cell_type": "code",
   "execution_count": 11,
   "outputs": [],
   "source": [
    "EntityStore.delete(parallel_experiment.eid)"
   ],
   "metadata": {
    "collapsed": false,
    "pycharm": {
     "name": "#%%\n"
    }
   }
  },
  {
   "cell_type": "code",
   "execution_count": 12,
   "outputs": [
    {
     "data": {
      "text/plain": "ParallelExperiment(type=<EntityType.PARALLEL_EXPERIMENT: 'paraexp'>, eid='paraexp:e630b6dc-8b5e-450a-af9b-ef9aa3cd1487', digest='48262518', name='Example ParaExp', description='', created_at=datetime.datetime(2022, 8, 30, 8, 53, 29, 403000, tzinfo=datetime.timezone.utc), edited_at=datetime.datetime(2022, 8, 30, 8, 53, 45, 223000, tzinfo=datetime.timezone.utc), state=<ParaExperimentState.OPEN: 'open'>)"
     },
     "execution_count": 12,
     "metadata": {},
     "output_type": "execute_result"
    }
   ],
   "source": [
    "from signals_notebook.entities import EntityStore\n",
    "\n",
    "parallel_experiment = EntityStore.get(\"paraexp:e630b6dc-8b5e-450a-af9b-ef9aa3cd1487\")\n",
    "\n",
    "parallel_experiment"
   ],
   "metadata": {
    "collapsed": false,
    "pycharm": {
     "name": "#%%\n"
    }
   }
  },
  {
   "cell_type": "code",
   "execution_count": 13,
   "outputs": [
    {
     "data": {
      "text/plain": "[SubExperimentSummary(type=<EntityType.SUB_EXPERIMENT_SUMMARY: 'paragrid'>, eid='paragrid:8d72df38-d396-42e1-99a0-e4f5323b3ef9', digest='0', name='Subexperiment Summary', description='', created_at=datetime.datetime(2022, 8, 30, 8, 53, 29, 403000, tzinfo=datetime.timezone.utc), edited_at=datetime.datetime(2022, 8, 30, 8, 53, 29, 403000, tzinfo=datetime.timezone.utc)),\n Text(type=<EntityType.TEXT: 'text'>, eid='text:d3ce2116-886c-48e2-bd73-c20bad53fd93', digest='47214682', name='Text', description='', created_at=datetime.datetime(2022, 8, 30, 8, 53, 44, 114000, tzinfo=datetime.timezone.utc), edited_at=datetime.datetime(2022, 8, 30, 8, 54, 2, 545000, tzinfo=datetime.timezone.utc))]"
     },
     "execution_count": 13,
     "metadata": {},
     "output_type": "execute_result"
    }
   ],
   "source": [
    "list(parallel_experiment.get_children())"
   ],
   "metadata": {
    "collapsed": false,
    "pycharm": {
     "name": "#%%\n"
    }
   }
  },
  {
   "cell_type": "code",
   "execution_count": 14,
   "outputs": [
    {
     "data": {
      "text/plain": "<IPython.core.display.HTML object>",
      "text/html": "<!DOCTYPE html>\n<html lang=\"en\">\n<head>\n    <meta charset=\"utf-8\">\n    <meta name=\"viewport\" content=\"width=device-width, initial-scale=1.0\">\n    <link rel=\"icon\" href=\"data:;base64,iVBORw0KGgo=\">\n    <title>Example ParaExp</title>\n    <style>\n        h1 {\n            margin-top: 1.7rem;\n            margin-bottom: 0.3rem;\n            font-size: 1.6rem;\n        }\n\n        h2 {\n            margin-top: 1.2rem;\n            margin-bottom: 0.3rem;\n            font-size: 1.2rem;\n            color: #00A0E1;\n        }\n\n        table.props th, table.props td {\n            text-align: left;\n            padding: 3px;\n        }\n        .table-scroll {\n            overflow:auto;\n        }\n        .table-wrapper {\n            position:relative;\n        }\n        table, th, td {\n            border: 1px solid #cccccc;\n            border-collapse: collapse;\n            table-layout: fixed;\n        }\n        .table-wrapper th, td {\n            padding: 10px 20px;\n        }\n        .table-wrapper table td {\n            text-align: center;\n            vertical-align: middle;\n            padding: 5px;\n        }\n        .parent {\n            display: flex;\n            justify-content: center;\n            align-items: center;\n            width: 100%;\n            aspect-ratio: auto;\n        }\n        .image-container {\n            width: 60%;\n            height: 60%;\n            overflow: hidden;\n        }\n\n        .image-container img {\n            width: 100%;\n            min-height: 100%;\n            object-fit: cover;\n        }\n\n    </style>\n</head>\n<body>\n<table class=\"props\" style=\"margin: 10px 10px; padding: 6px 10px;\">\n    <tr>\n        <th>Experiment name:</th>\n        <td>Example ParaExp</td>\n    </tr>\n    <tr>\n        <th>Description:</th>\n        <td></td>\n    </tr>\n    <tr>\n        <th>Last edited at:</th>\n        <td>08:53:45 2022-08-30</td>\n    </tr>\n    <tr>\n        <th>State:</th>\n        <td>open</td>\n    </tr>\n</table>\n\n\n\n\n<div style=\"margin: 10px 10px; padding: 6px 10px; border: solid 1px #f5f5f5;\">\n    <h2>Text</h2>\n    <div>\n        <span><p>TEXT IMPORTANT</p></span>\n    </div>\n</div>\n\n\n\n</body>\n</html>"
     },
     "metadata": {},
     "output_type": "display_data"
    }
   ],
   "source": [
    "import warnings  # added to ignore deprecation warnings\n",
    "\n",
    "warnings.filterwarnings('ignore')\n",
    "\n",
    "from IPython.core.display import display, HTML\n",
    "\n",
    "experiment_html = parallel_experiment.get_html()\n",
    "display(HTML(data=experiment_html))  # pycharm cannot display html correctly. Use web version to see html response."
   ],
   "metadata": {
    "collapsed": false,
    "pycharm": {
     "name": "#%%\n"
    }
   }
  }
 ],
 "metadata": {
  "kernelspec": {
   "display_name": "Python 3",
   "language": "python",
   "name": "python3"
  },
  "language_info": {
   "codemirror_mode": {
    "name": "ipython",
    "version": 2
   },
   "file_extension": ".py",
   "mimetype": "text/x-python",
   "name": "python",
   "nbconvert_exporter": "python",
   "pygments_lexer": "ipython2",
   "version": "2.7.6"
  }
 },
 "nbformat": 4,
 "nbformat_minor": 0
}
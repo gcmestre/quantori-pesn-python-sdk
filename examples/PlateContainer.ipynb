{
 "cells": [
  {
   "cell_type": "code",
   "execution_count": 1,
   "outputs": [],
   "source": [
    "%load_ext dotenv\n",
    "%dotenv\n",
    "import os\n",
    "\n",
    "SN_API_HOST = os.getenv('SN_API_HOST')\n",
    "SN_API_KEY = os.getenv('SN_API_KEY')"
   ],
   "metadata": {
    "collapsed": false,
    "pycharm": {
     "name": "#%%\n"
    }
   }
  },
  {
   "cell_type": "code",
   "execution_count": 2,
   "outputs": [
    {
     "data": {
      "text/plain": "<signals_notebook.api.SignalsNotebookApi at 0x1c12e8b44f0>"
     },
     "execution_count": 2,
     "metadata": {},
     "output_type": "execute_result"
    }
   ],
   "source": [
    "from signals_notebook.api import SignalsNotebookApi\n",
    "SignalsNotebookApi.init(SN_API_HOST, SN_API_KEY)"
   ],
   "metadata": {
    "collapsed": false,
    "pycharm": {
     "name": "#%%\n"
    }
   }
  },
  {
   "cell_type": "code",
   "execution_count": 3,
   "outputs": [],
   "source": [
    "from signals_notebook.entities import EntityStore\n",
    "\n",
    "experiment = EntityStore.get(\"experiment:a16616ef-e1d5-4409-a9b6-c253c359d504\")"
   ],
   "metadata": {
    "collapsed": false,
    "pycharm": {
     "name": "#%%\n"
    }
   }
  },
  {
   "cell_type": "code",
   "execution_count": 4,
   "outputs": [],
   "source": [
    "from signals_notebook.common_types import EntityType\n",
    "\n",
    "plate_container = None\n",
    "for item in experiment.get_children():\n",
    "    if item.type == EntityType.PLATE_CONTAINER:\n",
    "        plate_container = item\n",
    "        break"
   ],
   "metadata": {
    "collapsed": false,
    "pycharm": {
     "name": "#%%\n"
    }
   }
  },
  {
   "cell_type": "code",
   "execution_count": 5,
   "outputs": [
    {
     "data": {
      "text/plain": "PlateContainer(type=<EntityType.PLATE_CONTAINER: 'plateContainer'>, eid='plateContainer:a5e9f256-5b3c-4d69-b5b4-0a81e2193337', digest='17396678', name='Plates', description='', created_at=datetime.datetime(2022, 8, 30, 8, 55, 42, 619000, tzinfo=datetime.timezone.utc), edited_at=datetime.datetime(2022, 8, 30, 8, 55, 42, 619000, tzinfo=datetime.timezone.utc))"
     },
     "execution_count": 5,
     "metadata": {},
     "output_type": "execute_result"
    }
   ],
   "source": [
    "plate_container"
   ],
   "metadata": {
    "collapsed": false,
    "pycharm": {
     "name": "#%%\n"
    }
   }
  },
  {
   "cell_type": "code",
   "execution_count": 6,
   "outputs": [
    {
     "data": {
      "text/plain": "PlateRow(id=UUID('869491dc-bf8b-3c43-a225-629e2c10900a'), type=<ObjectType.PLATE_ROW: 'plateRow'>, cells=[PlateCell(id=UUID('76a7d17a-75b7-39a5-8549-05f073a064e3'), type=<ColumnDataType.TEXT: 'TEXT'>, name='Well ID', content=CellContent(user='A1', value='A1', values=None)), PlateCell(id=UUID('59f9b60c-a571-3c8e-982d-cdfe7e88e23c'), type=<ColumnDataType.TEXT: 'TEXT'>, name='Row', content=CellContent(user='A', value='A', values=None)), PlateCell(id=UUID('b5ff1ac8-310e-3848-9367-a4b8f4dc7ecc'), type=<ColumnDataType.INTEGER: 'INTEGER'>, name='Column', content=CellContent(user='1', value=1, values=None)), PlateCell(id=UUID('5a79aad4-7b07-39f1-9634-a2669a149a5b'), type=<ColumnDataType.TEXT: 'TEXT'>, name='Plate', content=CellContent(user='Plate-1', value='Plate-1', values=None)), PlateCell(id=UUID('43a9fcf2-bf40-3ed0-ba54-204275f053df'), type=<ColumnDataType.INTEGER: 'INTEGER'>, name='Order', content=CellContent(user='1', value=1, values=None)), PlateCell(id=UUID('f2053c2d-985d-3343-97e4-ae35b7fbe9d3'), type=<ColumnDataType.TEXT: 'TEXT'>, name='Plate ID', content=CellContent(user=None, value=None, values=None))])"
     },
     "execution_count": 6,
     "metadata": {},
     "output_type": "execute_result"
    }
   ],
   "source": [
    "plate_container[0]"
   ],
   "metadata": {
    "collapsed": false,
    "pycharm": {
     "name": "#%%\n"
    }
   }
  },
  {
   "cell_type": "code",
   "execution_count": 7,
   "outputs": [
    {
     "data": {
      "text/plain": "PlateCell(id=UUID('76a7d17a-75b7-39a5-8549-05f073a064e3'), type=<ColumnDataType.TEXT: 'TEXT'>, name='Well ID', content=CellContent(user='A1', value='A1', values=None))"
     },
     "execution_count": 7,
     "metadata": {},
     "output_type": "execute_result"
    }
   ],
   "source": [
    "plate_container[0][0]"
   ],
   "metadata": {
    "collapsed": false,
    "pycharm": {
     "name": "#%%\n"
    }
   }
  },
  {
   "cell_type": "code",
   "execution_count": 8,
   "outputs": [],
   "source": [
    "experiment_html = experiment.get_html()"
   ],
   "metadata": {
    "collapsed": false,
    "pycharm": {
     "name": "#%%\n"
    }
   }
  },
  {
   "cell_type": "code",
   "execution_count": 9,
   "outputs": [
    {
     "data": {
      "text/plain": "File(name='Plates', content=b'{\"eid\":\"plateContainer:a5e9f256-5b3c-4d69-b5b4-0a81e2193337\",\"name\":\"Plates\",\"numberOfRows\":4,\"numberOfColumns\":6,\"plates\":[{\"eid\":\"plate:002fc330-9304-4833-a74f-4b48251e5220\",\"name\":\"Plate-1\",\"plateContainerEid\":\"plateContainer:a5e9f256-5b3c-4d69-b5b4-0a81e2193337\",\"isTemplate\":false,\"numberOfRows\":4,\"numberOfColumns\":6,\"annotationLayers\":{},\"fields\":[]}],\"annotationLayers\":[{\"id\":\"ae5f50f7-5bb4-461c-b173-db8bd3d756a9\",\"name\":\"Well Format\",\"isPredefined\":true,\"isHidden\":false,\"annotationClass\":\"wellformat\",\"dataType\":\"TEXT\",\"annotationLayerValues\":{},\"trashed\":false,\"order\":0,\"suggestions\":[]},{\"id\":\"36f73086-095f-4cf9-ab98-8c183ef17dbd\",\"name\":\"Concentration\",\"isPredefined\":true,\"isHidden\":false,\"annotationClass\":\"concentration\",\"dataType\":\"DECIMAL\",\"annotationLayerValues\":{},\"trashed\":false,\"order\":1,\"suggestions\":[]},{\"id\":\"0f9fe882-b021-425e-9ef8-e7bddbbbef2e\",\"name\":\"Material\",\"isPredefined\":true,\"isHidden\":false,\"annotationClass\":\"material\",\"dataType\":\"LINK\",\"annotationLayerValues\":{},\"trashed\":false,\"order\":2,\"suggestions\":[]},{\"id\":\"9de63e26-24bc-40b1-8ac9-e7a2a1093db6\",\"name\":\"Amount\",\"isPredefined\":true,\"isHidden\":false,\"annotationClass\":\"amount\",\"dataType\":\"DECIMAL\",\"annotationLayerValues\":{},\"trashed\":false,\"order\":3,\"suggestions\":[]},{\"id\":\"7fb523ab-1ead-4306-90a5-db26742624da\",\"name\":\"Replicate\",\"isPredefined\":true,\"isHidden\":false,\"annotationClass\":\"replicate\",\"dataType\":\"INTEGER\",\"annotationLayerValues\":{},\"trashed\":false,\"order\":4,\"suggestions\":[]},{\"id\":\"4319b18f-5e5d-4dc2-adf0-b28f14e04d69\",\"name\":\"Deviation\",\"isPredefined\":true,\"isHidden\":false,\"annotationClass\":\"deviation\",\"dataType\":\"TEXT\",\"annotationLayerValues\":{},\"trashed\":false,\"order\":5,\"suggestions\":[]}],\"fields\":[]}', content_type='application/json; charset=utf-8')"
     },
     "execution_count": 9,
     "metadata": {},
     "output_type": "execute_result"
    }
   ],
   "source": [
    "plate_container.get_content()"
   ],
   "metadata": {
    "collapsed": false,
    "pycharm": {
     "name": "#%%\n"
    }
   }
  },
  {
   "cell_type": "code",
   "execution_count": 10,
   "outputs": [],
   "source": [
    "with open('test_file.html', 'w') as f:\n",
    "    f.write(experiment_html)"
   ],
   "metadata": {
    "collapsed": false,
    "pycharm": {
     "name": "#%%\n"
    }
   }
  }
 ],
 "metadata": {
  "kernelspec": {
   "display_name": "Python 3",
   "language": "python",
   "name": "python3"
  },
  "language_info": {
   "codemirror_mode": {
    "name": "ipython",
    "version": 2
   },
   "file_extension": ".py",
   "mimetype": "text/x-python",
   "name": "python",
   "nbconvert_exporter": "python",
   "pygments_lexer": "ipython2",
   "version": "2.7.6"
  }
 },
 "nbformat": 4,
 "nbformat_minor": 0
}
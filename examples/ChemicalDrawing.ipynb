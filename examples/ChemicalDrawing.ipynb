{
 "cells": [
  {
   "cell_type": "code",
   "execution_count": 1,
   "outputs": [],
   "source": [
    "%load_ext dotenv\n",
    "%dotenv\n",
    "import os\n",
    "\n",
    "SN_API_HOST = os.getenv('SN_API_HOST')\n",
    "SN_API_KEY = os.getenv('SN_API_KEY')"
   ],
   "metadata": {
    "collapsed": false,
    "pycharm": {
     "name": "#%%\n"
    }
   }
  },
  {
   "cell_type": "code",
   "execution_count": 2,
   "metadata": {
    "collapsed": true,
    "pycharm": {
     "name": "#%%\n"
    }
   },
   "outputs": [
    {
     "data": {
      "text/plain": "<signals_notebook.api.SignalsNotebookApi at 0x10d5ec4f0>"
     },
     "execution_count": 2,
     "metadata": {},
     "output_type": "execute_result"
    }
   ],
   "source": [
    "from signals_notebook.api import SignalsNotebookApi\n",
    "SignalsNotebookApi.init(SN_API_HOST, SN_API_KEY)"
   ]
  },
  {
   "cell_type": "code",
   "execution_count": null,
   "outputs": [],
   "source": [
    "chemical_drawing_to_update = EntityStore.get(\"chemicalDrawing:7730befb-3ed5-4625-a1d0-e43c1f67c8c5\")\n",
    "for reactant in reactants:\n",
    "    chemical_drawing_to_update.add_structures(structure=reactant, positions=ChemicalDrawingPosition.REACTANTS)\n",
    "for product in products:\n",
    "    chemical_drawing_to_update.add_structures(structure=product, positions=ChemicalDrawingPosition.PRODUCTS)\n",
    "for reagent in reagents:\n",
    "    chemical_drawing_to_update.add_structures(structure=reagent, positions=ChemicalDrawingPosition.REAGENTS)"
   ],
   "metadata": {
    "collapsed": false,
    "pycharm": {
     "name": "#%%\n"
    }
   }
  },
  {
   "cell_type": "code",
   "execution_count": 3,
   "outputs": [
    {
     "ename": "SignalsNotebookError",
     "evalue": "<SignalsNotebookError status=403 code=Forbidden> title=Access forbidden. detail=Not allowed.>",
     "output_type": "error",
     "traceback": [
      "\u001B[1;31m---------------------------------------------------------------------------\u001B[0m",
      "\u001B[1;31mSignalsNotebookError\u001B[0m                      Traceback (most recent call last)",
      "Input \u001B[1;32mIn [3]\u001B[0m, in \u001B[0;36m<cell line: 3>\u001B[1;34m()\u001B[0m\n\u001B[0;32m      1\u001B[0m \u001B[38;5;28;01mfrom\u001B[39;00m \u001B[38;5;21;01msignals_notebook\u001B[39;00m\u001B[38;5;21;01m.\u001B[39;00m\u001B[38;5;21;01mentities\u001B[39;00m \u001B[38;5;28;01mimport\u001B[39;00m EntityStore\n\u001B[0;32m      2\u001B[0m chemical_drawing \u001B[38;5;241m=\u001B[39m EntityStore\u001B[38;5;241m.\u001B[39mget(\u001B[38;5;124m\"\u001B[39m\u001B[38;5;124mchemicalDrawing\u001B[39m\u001B[38;5;124m%\u001B[39m\u001B[38;5;124m3Acd26d662-ed6e-405b-9ad5-1414f8c2a431\u001B[39m\u001B[38;5;124m\"\u001B[39m)\n\u001B[1;32m----> 3\u001B[0m \u001B[43mchemical_drawing\u001B[49m\u001B[38;5;241;43m.\u001B[39;49m\u001B[43mdelete\u001B[49m\u001B[43m(\u001B[49m\u001B[43m)\u001B[49m\n\u001B[0;32m      4\u001B[0m experiment \u001B[38;5;241m=\u001B[39m EntityStore\u001B[38;5;241m.\u001B[39mget(\u001B[38;5;124m\"\u001B[39m\u001B[38;5;124mexperiment:f7fb12b2-1180-4fa0-9bcd-ccc2f7ec0e8f\u001B[39m\u001B[38;5;124m\"\u001B[39m)\n",
      "File \u001B[1;32m~\\PycharmProjects\\pesn-python-sdk\\src\\signals_notebook\\entities\\entity.py:208\u001B[0m, in \u001B[0;36mEntity.delete\u001B[1;34m(self)\u001B[0m\n\u001B[0;32m    201\u001B[0m \u001B[38;5;124;03m\"\"\"Delete entity\u001B[39;00m\n\u001B[0;32m    202\u001B[0m \n\u001B[0;32m    203\u001B[0m \u001B[38;5;124;03mReturns:\u001B[39;00m\n\u001B[0;32m    204\u001B[0m \n\u001B[0;32m    205\u001B[0m \u001B[38;5;124;03m\"\"\"\u001B[39;00m\n\u001B[0;32m    206\u001B[0m \u001B[38;5;28;01mfrom\u001B[39;00m \u001B[38;5;21;01msignals_notebook\u001B[39;00m\u001B[38;5;21;01m.\u001B[39;00m\u001B[38;5;21;01mentities\u001B[39;00m\u001B[38;5;21;01m.\u001B[39;00m\u001B[38;5;21;01mentity_store\u001B[39;00m \u001B[38;5;28;01mimport\u001B[39;00m EntityStore\n\u001B[1;32m--> 208\u001B[0m \u001B[43mEntityStore\u001B[49m\u001B[38;5;241;43m.\u001B[39;49m\u001B[43mdelete\u001B[49m\u001B[43m(\u001B[49m\u001B[38;5;28;43mself\u001B[39;49m\u001B[38;5;241;43m.\u001B[39;49m\u001B[43meid\u001B[49m\u001B[43m)\u001B[49m\n\u001B[0;32m    209\u001B[0m log\u001B[38;5;241m.\u001B[39mdebug(\u001B[38;5;124m'\u001B[39m\u001B[38;5;124mEntity: \u001B[39m\u001B[38;5;132;01m%s\u001B[39;00m\u001B[38;5;124m was deleted from EntityStore\u001B[39m\u001B[38;5;124m'\u001B[39m, \u001B[38;5;28mself\u001B[39m\u001B[38;5;241m.\u001B[39meid)\n",
      "File \u001B[1;32m~\\PycharmProjects\\pesn-python-sdk\\src\\signals_notebook\\entities\\entity_store.py:152\u001B[0m, in \u001B[0;36mEntityStore.delete\u001B[1;34m(cls, eid, digest, force)\u001B[0m\n\u001B[0;32m    149\u001B[0m api \u001B[38;5;241m=\u001B[39m SignalsNotebookApi\u001B[38;5;241m.\u001B[39mget_default_api()\n\u001B[0;32m    150\u001B[0m log\u001B[38;5;241m.\u001B[39mdebug(\u001B[38;5;124m'\u001B[39m\u001B[38;5;124mDeleting Entity: \u001B[39m\u001B[38;5;132;01m%s\u001B[39;00m\u001B[38;5;124m from EntityStore...\u001B[39m\u001B[38;5;124m'\u001B[39m, eid)\n\u001B[1;32m--> 152\u001B[0m \u001B[43mapi\u001B[49m\u001B[38;5;241;43m.\u001B[39;49m\u001B[43mcall\u001B[49m\u001B[43m(\u001B[49m\n\u001B[0;32m    153\u001B[0m \u001B[43m    \u001B[49m\u001B[43mmethod\u001B[49m\u001B[38;5;241;43m=\u001B[39;49m\u001B[38;5;124;43m'\u001B[39;49m\u001B[38;5;124;43mDELETE\u001B[39;49m\u001B[38;5;124;43m'\u001B[39;49m\u001B[43m,\u001B[49m\n\u001B[0;32m    154\u001B[0m \u001B[43m    \u001B[49m\u001B[43mpath\u001B[49m\u001B[38;5;241;43m=\u001B[39;49m\u001B[43m(\u001B[49m\u001B[38;5;28;43mcls\u001B[39;49m\u001B[38;5;241;43m.\u001B[39;49m\u001B[43m_get_endpoint\u001B[49m\u001B[43m(\u001B[49m\u001B[43m)\u001B[49m\u001B[43m,\u001B[49m\u001B[43m \u001B[49m\u001B[43meid\u001B[49m\u001B[43m)\u001B[49m\u001B[43m,\u001B[49m\n\u001B[0;32m    155\u001B[0m \u001B[43m    \u001B[49m\u001B[43mparams\u001B[49m\u001B[38;5;241;43m=\u001B[39;49m\u001B[43m{\u001B[49m\n\u001B[0;32m    156\u001B[0m \u001B[43m        \u001B[49m\u001B[38;5;124;43m'\u001B[39;49m\u001B[38;5;124;43mdigest\u001B[39;49m\u001B[38;5;124;43m'\u001B[39;49m\u001B[43m:\u001B[49m\u001B[43m \u001B[49m\u001B[43mdigest\u001B[49m\u001B[43m,\u001B[49m\n\u001B[0;32m    157\u001B[0m \u001B[43m        \u001B[49m\u001B[38;5;124;43m'\u001B[39;49m\u001B[38;5;124;43mforce\u001B[39;49m\u001B[38;5;124;43m'\u001B[39;49m\u001B[43m:\u001B[49m\u001B[43m \u001B[49m\u001B[43mjson\u001B[49m\u001B[38;5;241;43m.\u001B[39;49m\u001B[43mdumps\u001B[49m\u001B[43m(\u001B[49m\u001B[43mforce\u001B[49m\u001B[43m)\u001B[49m\u001B[43m,\u001B[49m\n\u001B[0;32m    158\u001B[0m \u001B[43m    \u001B[49m\u001B[43m}\u001B[49m\u001B[43m,\u001B[49m\n\u001B[0;32m    159\u001B[0m \u001B[43m\u001B[49m\u001B[43m)\u001B[49m\n\u001B[0;32m    160\u001B[0m log\u001B[38;5;241m.\u001B[39mdebug(\u001B[38;5;124m'\u001B[39m\u001B[38;5;124mEntity: \u001B[39m\u001B[38;5;132;01m%s\u001B[39;00m\u001B[38;5;124m was deleted from EntityStore successfully\u001B[39m\u001B[38;5;124m'\u001B[39m, eid)\n",
      "File \u001B[1;32m~\\PycharmProjects\\pesn-python-sdk\\src\\signals_notebook\\api.py:157\u001B[0m, in \u001B[0;36mSignalsNotebookApi.call\u001B[1;34m(self, method, path, params, data, json, headers)\u001B[0m\n\u001B[0;32m    151\u001B[0m \u001B[38;5;28;01mif\u001B[39;00m \u001B[38;5;129;01mnot\u001B[39;00m response\u001B[38;5;241m.\u001B[39mok:\n\u001B[0;32m    152\u001B[0m     log\u001B[38;5;241m.\u001B[39merror(\n\u001B[0;32m    153\u001B[0m         \u001B[38;5;124m'\u001B[39m\u001B[38;5;124mError has been occurred while getting response, status code: \u001B[39m\u001B[38;5;132;01m%s\u001B[39;00m\u001B[38;5;124m'\u001B[39m,\n\u001B[0;32m    154\u001B[0m         response\u001B[38;5;241m.\u001B[39mstatus_code,\n\u001B[0;32m    155\u001B[0m         extra\u001B[38;5;241m=\u001B[39m{\u001B[38;5;124m'\u001B[39m\u001B[38;5;124mresponse\u001B[39m\u001B[38;5;124m'\u001B[39m: response},\n\u001B[0;32m    156\u001B[0m     )\n\u001B[1;32m--> 157\u001B[0m     \u001B[38;5;28;01mraise\u001B[39;00m SignalsNotebookError(response)\n\u001B[0;32m    158\u001B[0m log\u001B[38;5;241m.\u001B[39minfo(\u001B[38;5;124m'\u001B[39m\u001B[38;5;124mSuccessful request - HTTP url: \u001B[39m\u001B[38;5;132;01m%s\u001B[39;00m\u001B[38;5;124m, status code: \u001B[39m\u001B[38;5;132;01m%s\u001B[39;00m\u001B[38;5;124m'\u001B[39m, response\u001B[38;5;241m.\u001B[39murl, response\u001B[38;5;241m.\u001B[39mstatus_code)\n\u001B[0;32m    160\u001B[0m \u001B[38;5;28;01mreturn\u001B[39;00m response\n",
      "\u001B[1;31mSignalsNotebookError\u001B[0m: <SignalsNotebookError status=403 code=Forbidden> title=Access forbidden. detail=Not allowed.>"
     ]
    }
   ],
   "source": [
    "from signals_notebook.entities import EntityStore\n",
    "chemical_drawing = EntityStore.get(\"chemicalDrawing%3Acd26d662-ed6e-405b-9ad5-1414f8c2a431\")\n",
    "chemical_drawing.delete()\n",
    "experiment = EntityStore.get(\"experiment:f7fb12b2-1180-4fa0-9bcd-ccc2f7ec0e8f\")"
   ],
   "metadata": {
    "collapsed": false,
    "pycharm": {
     "name": "#%%\n"
    }
   }
  },
  {
   "cell_type": "code",
   "execution_count": null,
   "outputs": [],
   "source": [
    "from IPython.display import SVG\n",
    "from signals_notebook.entities import ChemicalDrawingFormat\n",
    "\n",
    "svg_file = chemical_drawing.get_content(format=ChemicalDrawingFormat.SVG)\n",
    "SVG(data=svg_file.content)"
   ],
   "metadata": {
    "collapsed": false,
    "pycharm": {
     "name": "#%%\n"
    }
   }
  },
  {
   "cell_type": "code",
   "execution_count": null,
   "outputs": [],
   "source": [
    "smiles_file = chemical_drawing.get_content(format=ChemicalDrawingFormat.SMILES)\n",
    "print(smiles_file.content.decode('utf-8'))\n"
   ],
   "metadata": {
    "collapsed": false,
    "pycharm": {
     "name": "#%%\n"
    }
   }
  },
  {
   "cell_type": "code",
   "execution_count": null,
   "outputs": [],
   "source": [
    "mol_file = chemical_drawing.get_content(format=ChemicalDrawingFormat.MOL)\n",
    "print(mol_file.content.decode('utf-8'))\n"
   ],
   "metadata": {
    "collapsed": false,
    "pycharm": {
     "name": "#%%\n"
    }
   }
  },
  {
   "cell_type": "code",
   "execution_count": null,
   "outputs": [],
   "source": [
    "cdxml_file = chemical_drawing.get_content(format=ChemicalDrawingFormat.CDXML)\n",
    "print(cdxml_file.content.decode('utf-8'))"
   ],
   "metadata": {
    "collapsed": false,
    "pycharm": {
     "name": "#%%\n"
    }
   }
  },
  {
   "cell_type": "code",
   "execution_count": null,
   "outputs": [],
   "source": [
    "from signals_notebook.entities import ChemicalDrawing\n",
    "chem_draw = ChemicalDrawing.create(container=experiment, name='Test chemDraw', content_type=cdxml_file.content_type, content=cdxml_file.content)\n",
    "chem_draw.delete()"
   ],
   "metadata": {
    "collapsed": false,
    "pycharm": {
     "name": "#%%\n"
    }
   }
  },
  {
   "cell_type": "code",
   "execution_count": null,
   "outputs": [],
   "source": [
    "chem_draw = ChemicalDrawing.create(container=experiment, name='Test chemDraw', content_type=mol_file.content_type, content=mol_file.content)\n",
    "chem_draw.delete()"
   ],
   "metadata": {
    "collapsed": false,
    "pycharm": {
     "name": "#%%\n"
    }
   }
  },
  {
   "cell_type": "code",
   "execution_count": null,
   "outputs": [],
   "source": [
    "chem_draw = ChemicalDrawing.create(container=experiment, name='Test chemDraw', content_type=smiles_file.content_type, content=smiles_file.content)\n",
    "chem_draw.delete()"
   ],
   "metadata": {
    "collapsed": false,
    "pycharm": {
     "name": "#%%\n"
    }
   }
  },
  {
   "cell_type": "code",
   "execution_count": 14,
   "outputs": [],
   "source": [
    "chem_draw = ChemicalDrawing.create(container=experiment, name='Test chemDraw', content_type=svg_file.content_type, content=svg_file.content)\n",
    "chem_draw.delete()"
   ],
   "metadata": {
    "collapsed": false,
    "pycharm": {
     "name": "#%%\n"
    }
   }
  },
  {
   "cell_type": "code",
   "execution_count": null,
   "outputs": [],
   "source": [],
   "metadata": {
    "collapsed": false,
    "pycharm": {
     "name": "#%%\n"
    }
   }
  }
 ],
 "metadata": {
  "kernelspec": {
   "display_name": "Python 3",
   "language": "python",
   "name": "python3"
  },
  "language_info": {
   "codemirror_mode": {
    "name": "ipython",
    "version": 2
   },
   "file_extension": ".py",
   "mimetype": "text/x-python",
   "name": "python",
   "nbconvert_exporter": "python",
   "pygments_lexer": "ipython2",
   "version": "2.7.6"
  }
 },
 "nbformat": 4,
 "nbformat_minor": 0
}
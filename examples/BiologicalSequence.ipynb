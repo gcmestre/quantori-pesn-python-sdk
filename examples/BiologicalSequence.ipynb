{
 "cells": [
  {
   "cell_type": "code",
   "execution_count": 1,
   "outputs": [],
   "source": [
    "%load_ext dotenv\n",
    "%dotenv\n",
    "import os\n",
    "\n",
    "SN_API_HOST = os.getenv('SN_API_HOST')\n",
    "SN_API_KEY = os.getenv('SN_API_KEY')"
   ],
   "metadata": {
    "collapsed": false,
    "pycharm": {
     "name": "#%%\n"
    }
   }
  },
  {
   "cell_type": "code",
   "execution_count": 2,
   "metadata": {
    "collapsed": true,
    "pycharm": {
     "name": "#%%\n"
    }
   },
   "outputs": [
    {
     "data": {
      "text/plain": "<signals_notebook.api.SignalsNotebookApi at 0x180fb0a7970>"
     },
     "execution_count": 2,
     "metadata": {},
     "output_type": "execute_result"
    }
   ],
   "source": [
    "from signals_notebook.api import SignalsNotebookApi\n",
    "SignalsNotebookApi.init(SN_API_HOST, SN_API_KEY)"
   ]
  },
  {
   "cell_type": "code",
   "execution_count": 3,
   "outputs": [],
   "source": [
    "from signals_notebook.entities import EntityStore\n",
    "\n",
    "experiment = EntityStore.get(\"experiment:f7fb12b2-1180-4fa0-9bcd-ccc2f7ec0e8f\")"
   ],
   "metadata": {
    "collapsed": false,
    "pycharm": {
     "name": "#%%\n"
    }
   }
  },
  {
   "cell_type": "code",
   "execution_count": 4,
   "outputs": [],
   "source": [
    "content = \"\"\"\n",
    "LOCUS       Chimeric_DNA_tail_only   2000 bp   DNA     circular BCT 18-Jan-2021\n",
    "KEYWORDS    Chimeric_DNA_tail_only\n",
    "SOURCE      Synthetic organism\n",
    "  ORGANISM  Synthetic organism\n",
    "FEATURES             Location/Qualifiers\n",
    "     misc_feature    12..18\n",
    "                     /label=\"Misc Test feature 1\"\n",
    "     misc_feature    20..30\n",
    "                     /label=\"Misc Test feature 2\"\n",
    "     misc_feature    complement(386..504)\n",
    "                     /label=\"Reverse direction\"\n",
    "                     /direction=\"LEFT\"\n",
    "                     /gene=\"Chimera\"\n",
    "                     /translation=\"MWTGKDYTDTCASHRADVATFIPEYRLEQHHQCSAMWSNRTYWMMNFGK\"\n",
    "     primer_bind     25..78\n",
    "                     /label=\"primer 1\"\n",
    "ORIGIN\n",
    "        1 CGTGGGTCTC TCGCGGTATC ATTGCAGCAC TGAAAAAAAA AACTGGGGCC AGATGGGTAA\n",
    "       61 GCCCTCCCCC CGGCGACGGC GGAGTCAGGC TGATGATGAT TTTTTTAAGA ACTCTGTAGC\n",
    "      121 ACCGCC\n",
    "//\n",
    "\"\"\""
   ],
   "metadata": {
    "collapsed": false,
    "pycharm": {
     "name": "#%%\n"
    }
   }
  },
  {
   "cell_type": "code",
   "execution_count": 5,
   "outputs": [],
   "source": [
    "from signals_notebook.entities.biological_sequence import BiologicalSequence\n",
    "\n",
    "bio_sequence = BiologicalSequence.create(container=experiment, name='bio_sequence', content=content, file_extension='gb', force=True)"
   ],
   "metadata": {
    "collapsed": false,
    "pycharm": {
     "name": "#%%\n"
    }
   }
  },
  {
   "cell_type": "code",
   "execution_count": 6,
   "outputs": [],
   "source": [
    "from signals_notebook.common_types import File\n",
    "from signals_notebook.entities.biological_sequence import BiologicalSequence\n",
    "\n",
    "bio_sequence_file = open('sequence_example.gb')\n",
    "file = File(bio_sequence_file)\n",
    "bio_sequence_file.close()\n",
    "\n",
    "bio_sequence_with_file_content = BiologicalSequence.create(container=experiment, name='bio_sequence', content=file.content, file_extension='gb', force=True)\n"
   ],
   "metadata": {
    "collapsed": false,
    "pycharm": {
     "name": "#%%\n"
    }
   }
  },
  {
   "cell_type": "code",
   "execution_count": 7,
   "outputs": [
    {
     "data": {
      "text/plain": "File(name='bio_sequence.gb.gb', content=b'\\nLOCUS       Chimeric_DNA_tail_only   2000 bp   DNA     circular BCT 18-Jan-2021\\nKEYWORDS    Chimeric_DNA_tail_only\\nSOURCE      Synthetic organism\\n  ORGANISM  Synthetic organism\\nFEATURES             Location/Qualifiers\\n     misc_feature    12..18\\n                     /label=\"Misc Test feature 1\"\\n     misc_feature    20..30\\n                     /label=\"Misc Test feature 2\"\\n     misc_feature    complement(386..504)\\n                     /label=\"Reverse direction\"\\n                     /direction=\"LEFT\"\\n                     /gene=\"Chimera\"\\n                     /translation=\"MWTGKDYTDTCASHRADVATFIPEYRLEQHHQCSAMWSNRTYWMMNFGK\"\\n     primer_bind     25..78\\n                     /label=\"primer 1\"\\nORIGIN\\n        1 CGTGGGTCTC TCGCGGTATC ATTGCAGCAC TGAAAAAAAA AACTGGGGCC AGATGGGTAA\\n       61 GCCCTCCCCC CGGCGACGGC GGAGTCAGGC TGATGATGAT TTTTTTAAGA ACTCTGTAGC\\n      121 ACCGCC\\n//\\n', content_type='biosequence/genbank')"
     },
     "execution_count": 7,
     "metadata": {},
     "output_type": "execute_result"
    }
   ],
   "source": [
    "bio_sequence.get_content()"
   ],
   "metadata": {
    "collapsed": false,
    "pycharm": {
     "name": "#%%\n"
    }
   }
  },
  {
   "cell_type": "code",
   "execution_count": 9,
   "outputs": [],
   "source": [
    "bio_sequence.name = 'bio_seq_new.gb'\n",
    "bio_sequence.save()"
   ],
   "metadata": {
    "collapsed": false,
    "pycharm": {
     "name": "#%%\n"
    }
   }
  },
  {
   "cell_type": "code",
   "execution_count": 11,
   "outputs": [],
   "source": [
    "bio_sequence.delete()\n",
    "bio_sequence_with_file_content.delete()"
   ],
   "metadata": {
    "collapsed": false,
    "pycharm": {
     "name": "#%%\n"
    }
   }
  }
 ],
 "metadata": {
  "kernelspec": {
   "display_name": "Python 3",
   "language": "python",
   "name": "python3"
  },
  "language_info": {
   "codemirror_mode": {
    "name": "ipython",
    "version": 2
   },
   "file_extension": ".py",
   "mimetype": "text/x-python",
   "name": "python",
   "nbconvert_exporter": "python",
   "pygments_lexer": "ipython2",
   "version": "2.7.6"
  }
 },
 "nbformat": 4,
 "nbformat_minor": 0
}
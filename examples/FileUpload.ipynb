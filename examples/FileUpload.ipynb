{
 "cells": [
  {
   "cell_type": "code",
   "execution_count": 44,
   "outputs": [
    {
     "name": "stdout",
     "output_type": "stream",
     "text": [
      "The dotenv extension is already loaded. To reload it, use:\n",
      "  %reload_ext dotenv\n"
     ]
    }
   ],
   "source": [
    "%load_ext dotenv\n",
    "%dotenv\n",
    "import os\n",
    "\n",
    "SN_API_HOST = os.getenv('SN_API_HOST')\n",
    "SN_API_KEY = os.getenv('SN_API_KEY')"
   ],
   "metadata": {
    "collapsed": false,
    "pycharm": {
     "name": "#%%\n"
    }
   }
  },
  {
   "cell_type": "code",
   "execution_count": 45,
   "outputs": [
    {
     "data": {
      "text/plain": "<signals_notebook.api.SignalsNotebookApi at 0x18e170ee130>"
     },
     "execution_count": 45,
     "metadata": {},
     "output_type": "execute_result"
    }
   ],
   "source": [
    "from signals_notebook.api import SignalsNotebookApi\n",
    "\n",
    "SignalsNotebookApi.init(SN_API_HOST, SN_API_KEY)"
   ],
   "metadata": {
    "collapsed": false,
    "pycharm": {
     "name": "#%%\n"
    }
   }
  },
  {
   "cell_type": "code",
   "execution_count": 48,
   "outputs": [],
   "source": [
    "from signals_notebook.entities import EntityStore\n",
    "\n",
    "experiment = EntityStore.get('experiment:1cf65229-dea3-4bdb-b6c5-daf8565e39a0')"
   ],
   "metadata": {
    "collapsed": false,
    "pycharm": {
     "name": "#%%\n"
    }
   }
  },
  {
   "cell_type": "code",
   "execution_count": 49,
   "outputs": [],
   "source": [
    "from signals_notebook.entities import UploadedResource\n",
    "\n",
    "uploaded_resource = UploadedResource.create(container=experiment, name='UploadedResource', content='UploadedResource Content!!!!')"
   ],
   "metadata": {
    "collapsed": false,
    "pycharm": {
     "name": "#%%\n"
    }
   }
  },
  {
   "cell_type": "code",
   "execution_count": 50,
   "outputs": [
    {
     "data": {
      "text/plain": "File(name='UploadedResourceNone', content=b'UploadedResource Content!!!!', content_type='application/octet-stream')"
     },
     "execution_count": 50,
     "metadata": {},
     "output_type": "execute_result"
    }
   ],
   "source": [
    "uploaded_resource.get_content()"
   ],
   "metadata": {
    "collapsed": false,
    "pycharm": {
     "name": "#%%\n"
    }
   }
  },
  {
   "cell_type": "code",
   "execution_count": 51,
   "outputs": [
    {
     "data": {
      "text/plain": "UploadedResource(type=<EntityType.UPLOADED_RESOURCE: 'uploadedResource'>, eid='uploadedResource:03ade164-30e8-4370-94f8-5869438c1c6b', digest='35694341', name='UploadedResourceNone', description='', created_at=datetime.datetime(2022, 7, 11, 12, 46, 38, 49000, tzinfo=datetime.timezone.utc), edited_at=datetime.datetime(2022, 7, 11, 12, 46, 38, 49000, tzinfo=datetime.timezone.utc))"
     },
     "execution_count": 51,
     "metadata": {},
     "output_type": "execute_result"
    }
   ],
   "source": [
    "uploaded_resource"
   ],
   "metadata": {
    "collapsed": false,
    "pycharm": {
     "name": "#%%\n"
    }
   }
  },
  {
   "cell_type": "code",
   "execution_count": 52,
   "outputs": [
    {
     "data": {
      "text/plain": "UploadedResource(type=<EntityType.UPLOADED_RESOURCE: 'uploadedResource'>, eid='uploadedResource:48ec6e2a-3a7b-4fd8-a278-2ddf09b0b7e8', digest='51883370', name='download (1).zip', description='', created_at=datetime.datetime(2022, 7, 11, 11, 16, 44, 32000, tzinfo=datetime.timezone.utc), edited_at=datetime.datetime(2022, 7, 11, 11, 16, 44, 32000, tzinfo=datetime.timezone.utc))"
     },
     "execution_count": 52,
     "metadata": {},
     "output_type": "execute_result"
    }
   ],
   "source": [
    "another_uploaded_resource = EntityStore.get('uploadedResource:48ec6e2a-3a7b-4fd8-a278-2ddf09b0b7e8')\n",
    "another_uploaded_resource"
   ],
   "metadata": {
    "collapsed": false,
    "pycharm": {
     "name": "#%%\n"
    }
   }
  },
  {
   "cell_type": "code",
   "execution_count": 53,
   "outputs": [],
   "source": [
    "file_ur = another_uploaded_resource.get_content()"
   ],
   "metadata": {
    "collapsed": false,
    "pycharm": {
     "name": "#%%\n"
    }
   }
  },
  {
   "cell_type": "code",
   "execution_count": 54,
   "outputs": [
    {
     "name": "stdout",
     "output_type": "stream",
     "text": [
      "download+%281%29.zip\n",
      "application/x-zip-compressed\n"
     ]
    }
   ],
   "source": [
    "print(file_ur.name)\n",
    "print(file_ur.content_type)"
   ],
   "metadata": {
    "collapsed": false,
    "pycharm": {
     "name": "#%%\n"
    }
   }
  },
  {
   "cell_type": "code",
   "execution_count": 55,
   "outputs": [
    {
     "data": {
      "text/plain": "[UploadedResource(type=<EntityType.UPLOADED_RESOURCE: 'uploadedResource'>, eid='uploadedResource:b2e61e0a-9027-4b49-93f8-4b39e698d7c3', digest='91820847', name='download (1).zip', description='', created_at=datetime.datetime(2022, 7, 11, 12, 45, 12, 760000, tzinfo=datetime.timezone.utc), edited_at=datetime.datetime(2022, 7, 11, 12, 45, 12, 760000, tzinfo=datetime.timezone.utc)),\n UploadedResource(type=<EntityType.UPLOADED_RESOURCE: 'uploadedResource'>, eid='uploadedResource:03ade164-30e8-4370-94f8-5869438c1c6b', digest='27219896', name='UploadedResourceNone', description='', created_at=datetime.datetime(2022, 7, 11, 12, 46, 38, 49000, tzinfo=datetime.timezone.utc), edited_at=datetime.datetime(2022, 7, 11, 12, 46, 41, 146000, tzinfo=datetime.timezone.utc))]"
     },
     "execution_count": 55,
     "metadata": {},
     "output_type": "execute_result"
    }
   ],
   "source": [
    "list(experiment.get_children())"
   ],
   "metadata": {
    "collapsed": false,
    "pycharm": {
     "name": "#%%\n"
    }
   }
  },
  {
   "cell_type": "code",
   "execution_count": 56,
   "outputs": [],
   "source": [
    "uploaded_resource.delete()"
   ],
   "metadata": {
    "collapsed": false,
    "pycharm": {
     "name": "#%%\n"
    }
   }
  }
 ],
 "metadata": {
  "kernelspec": {
   "display_name": "Python 3",
   "language": "python",
   "name": "python3"
  },
  "language_info": {
   "codemirror_mode": {
    "name": "ipython",
    "version": 2
   },
   "file_extension": ".py",
   "mimetype": "text/x-python",
   "name": "python",
   "nbconvert_exporter": "python",
   "pygments_lexer": "ipython2",
   "version": "2.7.6"
  }
 },
 "nbformat": 4,
 "nbformat_minor": 0
}
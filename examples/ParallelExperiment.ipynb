{
 "cells": [
  {
   "cell_type": "code",
   "execution_count": 1,
   "outputs": [],
   "source": [
    "%load_ext dotenv\n",
    "%dotenv\n",
    "import os\n",
    "\n",
    "SN_API_HOST = os.getenv('SN_API_HOST')\n",
    "SN_API_KEY = os.getenv('SN_API_KEY')"
   ],
   "metadata": {
    "collapsed": false,
    "pycharm": {
     "name": "#%%\n"
    }
   }
  },
  {
   "cell_type": "code",
   "execution_count": 2,
   "outputs": [
    {
     "data": {
      "text/plain": "<signals_notebook.api.SignalsNotebookApi at 0x24d4dad5210>"
     },
     "execution_count": 2,
     "metadata": {},
     "output_type": "execute_result"
    }
   ],
   "source": [
    "from signals_notebook.api import SignalsNotebookApi\n",
    "\n",
    "SignalsNotebookApi.init(SN_API_HOST, SN_API_KEY)"
   ],
   "metadata": {
    "collapsed": false,
    "pycharm": {
     "name": "#%%\n"
    }
   }
  },
  {
   "cell_type": "code",
   "execution_count": 4,
   "outputs": [],
   "source": [
    "from signals_notebook.entities import EntityStore\n",
    "\n",
    "parallel_experiment = EntityStore.get(\"paraexp:942da096-adcf-4b1e-8bcc-c7da0ee69962\")"
   ],
   "metadata": {
    "collapsed": false,
    "pycharm": {
     "name": "#%%\n"
    }
   }
  },
  {
   "cell_type": "code",
   "execution_count": 5,
   "outputs": [
    {
     "data": {
      "text/plain": "ParallelExperiment(type=<EntityType.PARALLEL_EXPERIMENT: 'paraexp'>, eid='paraexp:942da096-adcf-4b1e-8bcc-c7da0ee69962', digest='53653560', name='PARA EXP', description='', created_at=datetime.datetime(2022, 7, 22, 12, 39, 58, 630000, tzinfo=datetime.timezone.utc), edited_at=datetime.datetime(2022, 7, 22, 12, 40, 1, 615000, tzinfo=datetime.timezone.utc), state=<ParaExperimentState.OPEN: 'open'>)"
     },
     "execution_count": 5,
     "metadata": {},
     "output_type": "execute_result"
    }
   ],
   "source": [
    "parallel_experiment"
   ],
   "metadata": {
    "collapsed": false,
    "pycharm": {
     "name": "#%%\n"
    }
   }
  },
  {
   "cell_type": "code",
   "execution_count": null,
   "outputs": [],
   "source": [
    "import warnings # added to ignore deprecation warnings\n",
    "warnings.filterwarnings('ignore')\n",
    "\n",
    "from IPython.core.display import display, HTML\n",
    "\n",
    "parallel_experiment_html = parallel_experiment.get_html()\n",
    "display(HTML(data=parallel_experiment_html))  # pycharm cannot display html correctly. Use web version to see html response."
   ],
   "metadata": {
    "collapsed": false,
    "pycharm": {
     "name": "#%%\n"
    }
   }
  },
  {
   "cell_type": "code",
   "execution_count": 7,
   "outputs": [
    {
     "ename": "SignalsNotebookError",
     "evalue": "<SignalsNotebookError status=400 code=BadRequest> title=The request parameters are in bad format. detail=Order layout is used for Experiment only.>",
     "output_type": "error",
     "traceback": [
      "\u001B[1;31m---------------------------------------------------------------------------\u001B[0m",
      "\u001B[1;31mSignalsNotebookError\u001B[0m                      Traceback (most recent call last)",
      "Input \u001B[1;32mIn [7]\u001B[0m, in \u001B[0;36m<cell line: 1>\u001B[1;34m()\u001B[0m\n\u001B[1;32m----> 1\u001B[0m \u001B[38;5;28;43mlist\u001B[39;49m\u001B[43m(\u001B[49m\u001B[43mparallel_experiment\u001B[49m\u001B[38;5;241;43m.\u001B[39;49m\u001B[43mget_children\u001B[49m\u001B[43m(\u001B[49m\u001B[43m)\u001B[49m\u001B[43m)\u001B[49m\n",
      "File \u001B[1;32mC:\\coding\\pesn-python-sdk\\src\\signals_notebook\\entities\\container.py:75\u001B[0m, in \u001B[0;36mContainer.get_children\u001B[1;34m(self)\u001B[0m\n\u001B[0;32m     72\u001B[0m api \u001B[38;5;241m=\u001B[39m SignalsNotebookApi\u001B[38;5;241m.\u001B[39mget_default_api()\n\u001B[0;32m     73\u001B[0m log\u001B[38;5;241m.\u001B[39mdebug(\u001B[38;5;124m'\u001B[39m\u001B[38;5;124mGet children for: \u001B[39m\u001B[38;5;132;01m%s\u001B[39;00m\u001B[38;5;124m'\u001B[39m, \u001B[38;5;28mself\u001B[39m\u001B[38;5;241m.\u001B[39meid)\n\u001B[1;32m---> 75\u001B[0m response \u001B[38;5;241m=\u001B[39m \u001B[43mapi\u001B[49m\u001B[38;5;241;43m.\u001B[39;49m\u001B[43mcall\u001B[49m\u001B[43m(\u001B[49m\n\u001B[0;32m     76\u001B[0m \u001B[43m    \u001B[49m\u001B[43mmethod\u001B[49m\u001B[38;5;241;43m=\u001B[39;49m\u001B[38;5;124;43m'\u001B[39;49m\u001B[38;5;124;43mGET\u001B[39;49m\u001B[38;5;124;43m'\u001B[39;49m\u001B[43m,\u001B[49m\n\u001B[0;32m     77\u001B[0m \u001B[43m    \u001B[49m\u001B[43mpath\u001B[49m\u001B[38;5;241;43m=\u001B[39;49m\u001B[43m(\u001B[49m\u001B[38;5;28;43mself\u001B[39;49m\u001B[38;5;241;43m.\u001B[39;49m\u001B[43m_get_endpoint\u001B[49m\u001B[43m(\u001B[49m\u001B[43m)\u001B[49m\u001B[43m,\u001B[49m\u001B[43m \u001B[49m\u001B[38;5;28;43mself\u001B[39;49m\u001B[38;5;241;43m.\u001B[39;49m\u001B[43meid\u001B[49m\u001B[43m,\u001B[49m\u001B[43m \u001B[49m\u001B[38;5;124;43m'\u001B[39;49m\u001B[38;5;124;43mchildren\u001B[39;49m\u001B[38;5;124;43m'\u001B[39;49m\u001B[43m)\u001B[49m\u001B[43m,\u001B[49m\n\u001B[0;32m     78\u001B[0m \u001B[43m    \u001B[49m\u001B[43mparams\u001B[49m\u001B[38;5;241;43m=\u001B[39;49m\u001B[43m{\u001B[49m\n\u001B[0;32m     79\u001B[0m \u001B[43m        \u001B[49m\u001B[38;5;124;43m'\u001B[39;49m\u001B[38;5;124;43morder\u001B[39;49m\u001B[38;5;124;43m'\u001B[39;49m\u001B[43m:\u001B[49m\u001B[43m \u001B[49m\u001B[38;5;124;43m'\u001B[39;49m\u001B[38;5;124;43mlayout\u001B[39;49m\u001B[38;5;124;43m'\u001B[39;49m\u001B[43m,\u001B[49m\n\u001B[0;32m     80\u001B[0m \u001B[43m    \u001B[49m\u001B[43m}\u001B[49m\u001B[43m,\u001B[49m\n\u001B[0;32m     81\u001B[0m \u001B[43m\u001B[49m\u001B[43m)\u001B[49m\n\u001B[0;32m     83\u001B[0m entity_classes \u001B[38;5;241m=\u001B[39m (\u001B[38;5;241m*\u001B[39mEntity\u001B[38;5;241m.\u001B[39mget_subclasses(), Entity)\n\u001B[0;32m     85\u001B[0m result \u001B[38;5;241m=\u001B[39m Response[Union[entity_classes]](\u001B[38;5;241m*\u001B[39m\u001B[38;5;241m*\u001B[39mresponse\u001B[38;5;241m.\u001B[39mjson())  \u001B[38;5;66;03m# type: ignore\u001B[39;00m\n",
      "File \u001B[1;32mC:\\coding\\pesn-python-sdk\\src\\signals_notebook\\api.py:152\u001B[0m, in \u001B[0;36mSignalsNotebookApi.call\u001B[1;34m(self, method, path, params, data, json, headers)\u001B[0m\n\u001B[0;32m    146\u001B[0m \u001B[38;5;28;01mif\u001B[39;00m \u001B[38;5;129;01mnot\u001B[39;00m response\u001B[38;5;241m.\u001B[39mok:\n\u001B[0;32m    147\u001B[0m     log\u001B[38;5;241m.\u001B[39merror(\n\u001B[0;32m    148\u001B[0m         \u001B[38;5;124m'\u001B[39m\u001B[38;5;124mError has been occurred while getting response, status code: \u001B[39m\u001B[38;5;132;01m%s\u001B[39;00m\u001B[38;5;124m'\u001B[39m,\n\u001B[0;32m    149\u001B[0m         response\u001B[38;5;241m.\u001B[39mstatus_code,\n\u001B[0;32m    150\u001B[0m         extra\u001B[38;5;241m=\u001B[39m{\u001B[38;5;124m'\u001B[39m\u001B[38;5;124mresponse\u001B[39m\u001B[38;5;124m'\u001B[39m: response},\n\u001B[0;32m    151\u001B[0m     )\n\u001B[1;32m--> 152\u001B[0m     \u001B[38;5;28;01mraise\u001B[39;00m SignalsNotebookError(response)\n\u001B[0;32m    153\u001B[0m log\u001B[38;5;241m.\u001B[39minfo(\u001B[38;5;124m'\u001B[39m\u001B[38;5;124mSuccessful request - HTTP url: \u001B[39m\u001B[38;5;132;01m%s\u001B[39;00m\u001B[38;5;124m, status code: \u001B[39m\u001B[38;5;132;01m%s\u001B[39;00m\u001B[38;5;124m'\u001B[39m, response\u001B[38;5;241m.\u001B[39murl, response\u001B[38;5;241m.\u001B[39mstatus_code)\n\u001B[0;32m    155\u001B[0m \u001B[38;5;28;01mreturn\u001B[39;00m response\n",
      "\u001B[1;31mSignalsNotebookError\u001B[0m: <SignalsNotebookError status=400 code=BadRequest> title=The request parameters are in bad format. detail=Order layout is used for Experiment only.>"
     ]
    }
   ],
   "source": [
    "list(parallel_experiment.get_children())"
   ],
   "metadata": {
    "collapsed": false,
    "pycharm": {
     "name": "#%%\n"
    }
   }
  },
  {
   "cell_type": "code",
   "execution_count": null,
   "outputs": [],
   "source": [
    "# from signals_notebook.entities import ParallelExperiment\n",
    "#\n",
    "# notebook = EntityStore.get('journal:111a8a0d-2772-47b0-b5b8-2e4faf04119e')\n",
    "# new_parallel_experiment = ParallelExperiment.create(\n",
    "#     name='Parallel Example experiment created by SDK',\n",
    "#     description='Delete if you see this in UI',\n",
    "#     notebook=notebook,\n",
    "# )"
   ],
   "metadata": {
    "collapsed": false,
    "pycharm": {
     "name": "#%%\n"
    }
   }
  },
  {
   "cell_type": "code",
   "execution_count": null,
   "outputs": [],
   "source": [
    "# EntityStore.delete(new_parallel_experiment.eid)"
   ],
   "metadata": {
    "collapsed": false,
    "pycharm": {
     "name": "#%%\n"
    }
   }
  }
 ],
 "metadata": {
  "kernelspec": {
   "display_name": "Python 3",
   "language": "python",
   "name": "python3"
  },
  "language_info": {
   "codemirror_mode": {
    "name": "ipython",
    "version": 2
   },
   "file_extension": ".py",
   "mimetype": "text/x-python",
   "name": "python",
   "nbconvert_exporter": "python",
   "pygments_lexer": "ipython2",
   "version": "2.7.6"
  }
 },
 "nbformat": 4,
 "nbformat_minor": 0
}
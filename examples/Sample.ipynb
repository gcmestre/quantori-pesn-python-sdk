{
 "cells": [
  {
   "cell_type": "code",
   "execution_count": 1,
   "outputs": [],
   "source": [
    "%load_ext dotenv\n",
    "%dotenv\n",
    "import os\n",
    "\n",
    "SN_API_HOST = os.getenv('SN_API_HOST')\n",
    "SN_API_KEY = os.getenv('SN_API_KEY')"
   ],
   "metadata": {
    "collapsed": false,
    "pycharm": {
     "name": "#%%\n"
    }
   }
  },
  {
   "cell_type": "code",
   "execution_count": 2,
   "outputs": [
    {
     "data": {
      "text/plain": "<signals_notebook.api.SignalsNotebookApi at 0x18e00506340>"
     },
     "execution_count": 2,
     "metadata": {},
     "output_type": "execute_result"
    }
   ],
   "source": [
    "from signals_notebook.api import SignalsNotebookApi\n",
    "SignalsNotebookApi.init(SN_API_HOST, SN_API_KEY)"
   ],
   "metadata": {
    "collapsed": false,
    "pycharm": {
     "name": "#%%\n"
    }
   }
  },
  {
   "cell_type": "code",
   "execution_count": 3,
   "outputs": [],
   "source": [
    "from signals_notebook.entities.entity_store import EntityStore\n",
    "samplesContainer = EntityStore.get('samplesContainer:b66ca054-3288-4b32-8892-2da8c2282bb8')"
   ],
   "metadata": {
    "collapsed": false,
    "pycharm": {
     "name": "#%%\n"
    }
   }
  },
  {
   "cell_type": "code",
   "execution_count": 4,
   "outputs": [
    {
     "data": {
      "text/plain": "File(name='Samples+Table.csv', content=b'ID,Created Date,Description,Comments,Amount,Attached Docs,Template,Chemical Name,FM,EM,MF,MW\\r\\nSample-1756,2022-06-02T07:27:10.072365283Z,,,,0,Sample,,,,,\\r\\nSample-1757,2022-06-02T08:00:04.957872846Z,,,,0,Chemical Sample,HCl,36.46 g/mol,35.97668,ClH,36.46 g/mol\\r\\nSample-1758,2022-06-02T08:00:25.418330849Z,,,,0,Chemical Sample,H2O,18.02 g/mol,18.01056,H2O,18.02 g/mol\\r\\nSample-1759,2022-06-02T10:37:06.717628796Z,hh,,,0,Sample,,,,,\\r\\nSample-1760,2022-06-02T10:37:06.718687326Z,hh,,,0,Sample,,,,,\\r\\n', content_type='text/csv')"
     },
     "execution_count": 4,
     "metadata": {},
     "output_type": "execute_result"
    }
   ],
   "source": [
    "samplesContainer.get_content()"
   ],
   "metadata": {
    "collapsed": false,
    "pycharm": {
     "name": "#%%\n"
    }
   }
  },
  {
   "cell_type": "code",
   "execution_count": 5,
   "outputs": [
    {
     "name": "stderr",
     "output_type": "stream",
     "text": [
      "C:\\Users\\d.cherednichenko\\AppData\\Local\\Temp\\ipykernel_10036\\3925987743.py:1: DeprecationWarning: Importing display from IPython.core.display is deprecated since IPython 7.14, please import from IPython display\n",
      "  from IPython.core.display import display, HTML\n"
     ]
    },
    {
     "data": {
      "text/plain": "<IPython.core.display.HTML object>",
      "text/html": "<div class=\"table-wrapper\" style=\"margin: 10px 10px; padding: 6px 10px; border: solid 1px #f5f5f5;\">\n    <div class=\"table-scroll\">\n        <h2>Samples Table</h2>\n        <table>\n            <thead>\n                <tr>\n                \n                    <th>ID</th>\n                \n                    <th>Created Date</th>\n                \n                    <th>Description</th>\n                \n                    <th>Comments</th>\n                \n                    <th>Amount</th>\n                \n                    <th>Attached Docs</th>\n                \n                    <th>Template</th>\n                \n                    <th>Chemical Name</th>\n                \n                    <th>FM</th>\n                \n                    <th>EM</th>\n                \n                    <th>MF</th>\n                \n                    <th>MW</th>\n                \n                </tr>\n            </thead>\n            <tbody>\n            \n                <tr>\n                \n                    <td>Sample-1756</td>\n                \n                    <td>2022-06-02T07:27:10.072365283Z</td>\n                \n                    <td></td>\n                \n                    <td></td>\n                \n                    <td></td>\n                \n                    <td>0</td>\n                \n                    <td>Sample</td>\n                \n                    <td></td>\n                \n                    <td></td>\n                \n                    <td></td>\n                \n                    <td></td>\n                \n                    <td></td>\n                \n                </tr>\n            \n                <tr>\n                \n                    <td>Sample-1757</td>\n                \n                    <td>2022-06-02T08:00:04.957872846Z</td>\n                \n                    <td></td>\n                \n                    <td></td>\n                \n                    <td></td>\n                \n                    <td>0</td>\n                \n                    <td>Chemical Sample</td>\n                \n                    <td>HCl</td>\n                \n                    <td>36.46 g/mol</td>\n                \n                    <td>35.97668</td>\n                \n                    <td>ClH</td>\n                \n                    <td>36.46 g/mol</td>\n                \n                </tr>\n            \n                <tr>\n                \n                    <td>Sample-1758</td>\n                \n                    <td>2022-06-02T08:00:25.418330849Z</td>\n                \n                    <td></td>\n                \n                    <td></td>\n                \n                    <td></td>\n                \n                    <td>0</td>\n                \n                    <td>Chemical Sample</td>\n                \n                    <td>H2O</td>\n                \n                    <td>18.02 g/mol</td>\n                \n                    <td>18.01056</td>\n                \n                    <td>H2O</td>\n                \n                    <td>18.02 g/mol</td>\n                \n                </tr>\n            \n                <tr>\n                \n                    <td>Sample-1759</td>\n                \n                    <td>2022-06-02T10:37:06.717628796Z</td>\n                \n                    <td>hh</td>\n                \n                    <td></td>\n                \n                    <td></td>\n                \n                    <td>0</td>\n                \n                    <td>Sample</td>\n                \n                    <td></td>\n                \n                    <td></td>\n                \n                    <td></td>\n                \n                    <td></td>\n                \n                    <td></td>\n                \n                </tr>\n            \n                <tr>\n                \n                    <td>Sample-1760</td>\n                \n                    <td>2022-06-02T10:37:06.718687326Z</td>\n                \n                    <td>hh</td>\n                \n                    <td></td>\n                \n                    <td></td>\n                \n                    <td>0</td>\n                \n                    <td>Sample</td>\n                \n                    <td></td>\n                \n                    <td></td>\n                \n                    <td></td>\n                \n                    <td></td>\n                \n                    <td></td>\n                \n                </tr>\n            \n            </tbody>\n        </table>\n    </div>\n</div>"
     },
     "metadata": {},
     "output_type": "display_data"
    }
   ],
   "source": [
    "from IPython.core.display import display, HTML\n",
    "\n",
    "samples_container_html = samplesContainer.get_html()\n",
    "display(HTML(data=samples_container_html))"
   ],
   "metadata": {
    "collapsed": false,
    "pycharm": {
     "name": "#%%\n"
    }
   }
  },
  {
   "cell_type": "code",
   "execution_count": 6,
   "outputs": [],
   "source": [
    "sample = EntityStore.get('sample:f356dfe9-3bd7-4ab6-885a-c73d4cc72f13')"
   ],
   "metadata": {
    "collapsed": false,
    "pycharm": {
     "name": "#%%\n"
    }
   }
  },
  {
   "cell_type": "code",
   "execution_count": 7,
   "outputs": [
    {
     "data": {
      "text/plain": "Sample(type=<EntityType.SAMPLE: 'sample'>, eid='sample:f356dfe9-3bd7-4ab6-885a-c73d4cc72f13', digest='57884754', name='Sample-1756', description='', created_at=datetime.datetime(2022, 6, 2, 7, 27, 9, 819000, tzinfo=datetime.timezone.utc), edited_at=datetime.datetime(2022, 6, 2, 7, 27, 9, 819000, tzinfo=datetime.timezone.utc))"
     },
     "execution_count": 7,
     "metadata": {},
     "output_type": "execute_result"
    }
   ],
   "source": [
    "sample"
   ],
   "metadata": {
    "collapsed": false,
    "pycharm": {
     "name": "#%%\n"
    }
   }
  },
  {
   "cell_type": "code",
   "execution_count": 8,
   "outputs": [
    {
     "name": "stdout",
     "output_type": "stream",
     "text": [
      "{'links': {'self': 'https://quantori.signalsnotebook.perkinelmer.cloud/api/rest/v1.0/samples/sample:f356dfe9-3bd7-4ab6-885a-c73d4cc72f13/properties'}, 'data': [{'type': 'property', 'id': 'b718adec-73e0-3ce3-ac72-0dd11a06a308', 'links': {'self': 'https://quantori.signalsnotebook.perkinelmer.cloud/api/rest/v1.0/samples/sample:f356dfe9-3bd7-4ab6-885a-c73d4cc72f13/properties/b718adec-73e0-3ce3-ac72-0dd11a06a308'}, 'meta': {'definition': {'title': 'ID', 'type': 'text', 'key': 'b718adec-73e0-3ce3-ac72-0dd11a06a308'}}, 'attributes': {'id': 'b718adec-73e0-3ce3-ac72-0dd11a06a308', 'name': 'ID', 'content': {'value': 'Sample-1756'}}, 'relationships': {'sample': {'links': {'self': 'https://quantori.signalsnotebook.perkinelmer.cloud/api/rest/v1.0/entities/sample:f356dfe9-3bd7-4ab6-885a-c73d4cc72f13'}, 'data': {'type': 'entity', 'id': 'sample:f356dfe9-3bd7-4ab6-885a-c73d4cc72f13'}}}}, {'type': 'property', 'id': '278c491b-dd8a-3361-8c14-9c4ac790da34', 'links': {'self': 'https://quantori.signalsnotebook.perkinelmer.cloud/api/rest/v1.0/samples/sample:f356dfe9-3bd7-4ab6-885a-c73d4cc72f13/properties/278c491b-dd8a-3361-8c14-9c4ac790da34'}, 'meta': {'definition': {'title': 'Template', 'type': 'text', 'key': '278c491b-dd8a-3361-8c14-9c4ac790da34'}}, 'attributes': {'id': '278c491b-dd8a-3361-8c14-9c4ac790da34', 'name': 'Template', 'content': {'value': 'Sample'}}, 'relationships': {'sample': {'links': {'self': 'https://quantori.signalsnotebook.perkinelmer.cloud/api/rest/v1.0/entities/sample:f356dfe9-3bd7-4ab6-885a-c73d4cc72f13'}, 'data': {'type': 'entity', 'id': 'sample:f356dfe9-3bd7-4ab6-885a-c73d4cc72f13'}}}}, {'type': 'property', 'id': 'digests.self', 'links': {'self': 'https://quantori.signalsnotebook.perkinelmer.cloud/api/rest/v1.0/samples/sample:f356dfe9-3bd7-4ab6-885a-c73d4cc72f13/properties/digests.self'}, 'meta': {'definition': {'type': 'text', 'key': 'digests.self'}}, 'attributes': {'id': 'digests.self'}, 'relationships': {'sample': {'links': {'self': 'https://quantori.signalsnotebook.perkinelmer.cloud/api/rest/v1.0/entities/sample:f356dfe9-3bd7-4ab6-885a-c73d4cc72f13'}, 'data': {'type': 'entity', 'id': 'sample:f356dfe9-3bd7-4ab6-885a-c73d4cc72f13'}}}}, {'type': 'property', 'id': 'digests.external', 'links': {'self': 'https://quantori.signalsnotebook.perkinelmer.cloud/api/rest/v1.0/samples/sample:f356dfe9-3bd7-4ab6-885a-c73d4cc72f13/properties/digests.external'}, 'meta': {'definition': {'type': 'text', 'key': 'digests.external'}}, 'attributes': {'id': 'digests.external'}, 'relationships': {'sample': {'links': {'self': 'https://quantori.signalsnotebook.perkinelmer.cloud/api/rest/v1.0/entities/sample:f356dfe9-3bd7-4ab6-885a-c73d4cc72f13'}, 'data': {'type': 'entity', 'id': 'sample:f356dfe9-3bd7-4ab6-885a-c73d4cc72f13'}}}}, {'type': 'property', 'id': '1', 'links': {'self': 'https://quantori.signalsnotebook.perkinelmer.cloud/api/rest/v1.0/samples/sample:f356dfe9-3bd7-4ab6-885a-c73d4cc72f13/properties/1'}, 'meta': {'definition': {'key': '1', 'title': 'Created Date', 'type': 'date', 'readOnly': True, 'mandatory': True}}, 'attributes': {'id': '1', 'name': 'Created Date', 'content': {'value': '2022-06-02T07:27:10.072365283Z'}}, 'relationships': {'sample': {'links': {'self': 'https://quantori.signalsnotebook.perkinelmer.cloud/api/rest/v1.0/entities/sample:f356dfe9-3bd7-4ab6-885a-c73d4cc72f13'}, 'data': {'type': 'entity', 'id': 'sample:f356dfe9-3bd7-4ab6-885a-c73d4cc72f13'}}}}, {'type': 'property', 'id': '2', 'links': {'self': 'https://quantori.signalsnotebook.perkinelmer.cloud/api/rest/v1.0/samples/sample:f356dfe9-3bd7-4ab6-885a-c73d4cc72f13/properties/2'}, 'meta': {'definition': {'key': '2', 'title': 'Description', 'type': 'text'}}, 'attributes': {'id': '2', 'name': 'Description'}, 'relationships': {'sample': {'links': {'self': 'https://quantori.signalsnotebook.perkinelmer.cloud/api/rest/v1.0/entities/sample:f356dfe9-3bd7-4ab6-885a-c73d4cc72f13'}, 'data': {'type': 'entity', 'id': 'sample:f356dfe9-3bd7-4ab6-885a-c73d4cc72f13'}}}}, {'type': 'property', 'id': '3', 'links': {'self': 'https://quantori.signalsnotebook.perkinelmer.cloud/api/rest/v1.0/samples/sample:f356dfe9-3bd7-4ab6-885a-c73d4cc72f13/properties/3'}, 'meta': {'definition': {'key': '3', 'title': 'Comments', 'type': 'text'}}, 'attributes': {'id': '3', 'name': 'Comments'}, 'relationships': {'sample': {'links': {'self': 'https://quantori.signalsnotebook.perkinelmer.cloud/api/rest/v1.0/entities/sample:f356dfe9-3bd7-4ab6-885a-c73d4cc72f13'}, 'data': {'type': 'entity', 'id': 'sample:f356dfe9-3bd7-4ab6-885a-c73d4cc72f13'}}}}, {'type': 'property', 'id': '4', 'links': {'self': 'https://quantori.signalsnotebook.perkinelmer.cloud/api/rest/v1.0/samples/sample:f356dfe9-3bd7-4ab6-885a-c73d4cc72f13/properties/4'}, 'meta': {'definition': {'key': '4', 'title': 'Amount', 'type': 'unit', 'measure': 'mass'}}, 'attributes': {'id': '4', 'name': 'Amount'}, 'relationships': {'sample': {'links': {'self': 'https://quantori.signalsnotebook.perkinelmer.cloud/api/rest/v1.0/entities/sample:f356dfe9-3bd7-4ab6-885a-c73d4cc72f13'}, 'data': {'type': 'entity', 'id': 'sample:f356dfe9-3bd7-4ab6-885a-c73d4cc72f13'}}}}, {'type': 'property', 'id': '10', 'links': {'self': 'https://quantori.signalsnotebook.perkinelmer.cloud/api/rest/v1.0/samples/sample:f356dfe9-3bd7-4ab6-885a-c73d4cc72f13/properties/10'}, 'meta': {'definition': {'key': '10', 'title': 'Attached Docs', 'type': 'childEntityCount', 'readOnly': True, 'mandatory': True}}, 'attributes': {'id': '10', 'name': 'Attached Docs', 'content': {'value': '0', 'eid': 'sample:f356dfe9-3bd7-4ab6-885a-c73d4cc72f13'}}, 'relationships': {'sample': {'links': {'self': 'https://quantori.signalsnotebook.perkinelmer.cloud/api/rest/v1.0/entities/sample:f356dfe9-3bd7-4ab6-885a-c73d4cc72f13'}, 'data': {'type': 'entity', 'id': 'sample:f356dfe9-3bd7-4ab6-885a-c73d4cc72f13'}}}}, {'type': 'property', 'id': 'sampleId', 'links': {'self': 'https://quantori.signalsnotebook.perkinelmer.cloud/api/rest/v1.0/samples/sample:f356dfe9-3bd7-4ab6-885a-c73d4cc72f13/properties/sampleId'}, 'meta': {'definition': {'key': 'sampleId', 'title': 'ID', 'type': 'link', 'readOnly': True, 'mandatory': True}}, 'attributes': {'id': 'sampleId', 'name': 'ID', 'content': {'type': 'sample', 'display': 'Sample-1756', 'value': 'sample:f356dfe9-3bd7-4ab6-885a-c73d4cc72f13'}}, 'relationships': {'sample': {'links': {'self': 'https://quantori.signalsnotebook.perkinelmer.cloud/api/rest/v1.0/entities/sample:f356dfe9-3bd7-4ab6-885a-c73d4cc72f13'}, 'data': {'type': 'entity', 'id': 'sample:f356dfe9-3bd7-4ab6-885a-c73d4cc72f13'}}}}, {'type': 'property', 'id': 'sourceName', 'links': {'self': 'https://quantori.signalsnotebook.perkinelmer.cloud/api/rest/v1.0/samples/sample:f356dfe9-3bd7-4ab6-885a-c73d4cc72f13/properties/sourceName'}, 'meta': {'definition': {'key': 'sourceName', 'title': 'Template', 'type': 'text', 'readOnly': True, 'mandatory': True}}, 'attributes': {'id': 'sourceName', 'name': 'Template', 'content': {'value': 'Sample'}}, 'relationships': {'sample': {'links': {'self': 'https://quantori.signalsnotebook.perkinelmer.cloud/api/rest/v1.0/entities/sample:f356dfe9-3bd7-4ab6-885a-c73d4cc72f13'}, 'data': {'type': 'entity', 'id': 'sample:f356dfe9-3bd7-4ab6-885a-c73d4cc72f13'}}}}], 'included': [{'type': 'entity', 'id': 'sample:f356dfe9-3bd7-4ab6-885a-c73d4cc72f13', 'links': {'self': 'https://quantori.signalsnotebook.perkinelmer.cloud/api/rest/v1.0/entities/sample:f356dfe9-3bd7-4ab6-885a-c73d4cc72f13'}, 'attributes': {'id': 'sample:f356dfe9-3bd7-4ab6-885a-c73d4cc72f13', 'eid': 'sample:f356dfe9-3bd7-4ab6-885a-c73d4cc72f13', 'name': 'Sample-1756', 'description': '', 'createdAt': '2022-06-02T07:27:09.819Z', 'editedAt': '2022-06-02T07:27:09.819Z', 'type': 'sample', 'digest': '57884754', 'flags': {'canEdit': True}}, 'relationships': {'createdBy': {'links': {'self': 'https://quantori.signalsnotebook.perkinelmer.cloud/api/rest/v1.0/users/136'}, 'data': {'type': 'user', 'id': '136'}}, 'editedBy': {'links': {'self': 'https://quantori.signalsnotebook.perkinelmer.cloud/api/rest/v1.0/users/136'}, 'data': {'type': 'user', 'id': '136'}}, 'ancestors': {'data': [{'type': 'entity', 'id': 'journal:111a8a0d-2772-47b0-b5b8-2e4faf04119e', 'meta': {'links': {'self': 'https://quantori.signalsnotebook.perkinelmer.cloud/api/rest/v1.0/entities/journal:111a8a0d-2772-47b0-b5b8-2e4faf04119e'}}}, {'type': 'entity', 'id': 'experiment:f7fb12b2-1180-4fa0-9bcd-ccc2f7ec0e8f', 'meta': {'links': {'self': 'https://quantori.signalsnotebook.perkinelmer.cloud/api/rest/v1.0/entities/experiment:f7fb12b2-1180-4fa0-9bcd-ccc2f7ec0e8f'}}}, {'type': 'entity', 'id': 'samplesContainer:b66ca054-3288-4b32-8892-2da8c2282bb8', 'meta': {'links': {'self': 'https://quantori.signalsnotebook.perkinelmer.cloud/api/rest/v1.0/entities/samplesContainer:b66ca054-3288-4b32-8892-2da8c2282bb8'}}}]}, 'owner': {'links': {'self': 'https://quantori.signalsnotebook.perkinelmer.cloud/api/rest/v1.0/users/103'}, 'data': {'type': 'user', 'id': '103'}}, 'properties': {'links': {'self': 'https://quantori.signalsnotebook.perkinelmer.cloud/api/rest/v1.0/samples/sample:f356dfe9-3bd7-4ab6-885a-c73d4cc72f13/properties'}}}}, {'type': 'entity', 'id': 'journal:111a8a0d-2772-47b0-b5b8-2e4faf04119e', 'links': {'self': 'https://quantori.signalsnotebook.perkinelmer.cloud/api/rest/v1.0/entities/journal:111a8a0d-2772-47b0-b5b8-2e4faf04119e'}, 'attributes': {'type': 'journal', 'eid': 'journal:111a8a0d-2772-47b0-b5b8-2e4faf04119e', 'name': 'Test creation by SDK', 'digest': '36195376', 'fields': {'Description': {'value': 'Created by Eugene Pokidov'}, 'My Notebook Field 1 (SK)': {'value': ''}, 'My Notebook Field 2 (SK)': {'value': ''}, 'Name': {'value': 'Test creation by SDK'}}, 'flags': {}}}, {'type': 'entity', 'id': 'experiment:f7fb12b2-1180-4fa0-9bcd-ccc2f7ec0e8f', 'links': {'self': 'https://quantori.signalsnotebook.perkinelmer.cloud/api/rest/v1.0/entities/experiment:f7fb12b2-1180-4fa0-9bcd-ccc2f7ec0e8f'}, 'attributes': {'type': 'experiment', 'eid': 'experiment:f7fb12b2-1180-4fa0-9bcd-ccc2f7ec0e8f', 'name': 'Test experiment creation by SDK', 'digest': '56729944', 'fields': {'Description': {'value': 'Created by Eugene Pokidov'}, 'Name': {'value': 'Test experiment creation by SDK'}}, 'flags': {}}}, {'type': 'user', 'id': '136', 'links': {'self': 'https://quantori.signalsnotebook.perkinelmer.cloud/api/rest/v1.0/users/136'}, 'attributes': {'userId': '136', 'userName': 'daniil.cherednichenko@quantori.com', 'email': 'daniil.cherednichenko@quantori.com', 'firstName': 'Daniil', 'lastName': 'Cherednichenko', 'isEnabled': True}, 'relationships': {'systemGroups': {'links': {'self': 'https://quantori.signalsnotebook.perkinelmer.cloud/api/rest/v1.0/users/136/systemGroups'}}}}, {'type': 'user', 'id': '103', 'links': {'self': 'https://quantori.signalsnotebook.perkinelmer.cloud/api/rest/v1.0/users/103'}, 'attributes': {'userId': '103', 'userName': 'sergey.kuznetsov@quantori.com', 'email': 'sergey.kuznetsov@quantori.com', 'firstName': 'Sergey', 'lastName': 'Kuznetsov'}, 'relationships': {'picture': {'links': {'self': 'https://quantori.signalsnotebook.perkinelmer.cloud/api/rest/v1.0/users/103/picture'}}, 'systemGroups': {'links': {'self': 'https://quantori.signalsnotebook.perkinelmer.cloud/api/rest/v1.0/users/103/systemGroups'}}}}, {'type': 'entity', 'id': 'samplesContainer:b66ca054-3288-4b32-8892-2da8c2282bb8', 'links': {'self': 'https://quantori.signalsnotebook.perkinelmer.cloud/api/rest/v1.0/entities/samplesContainer:b66ca054-3288-4b32-8892-2da8c2282bb8'}, 'attributes': {'type': 'samplesContainer', 'eid': 'samplesContainer:b66ca054-3288-4b32-8892-2da8c2282bb8', 'name': 'Samples Table', 'digest': '64616474', 'fields': {'Description': {'value': ''}, 'Name': {'value': 'Samples Table'}}, 'flags': {}}}]}\n"
     ]
    }
   ],
   "source": [
    "sample.get_properties()"
   ],
   "metadata": {
    "collapsed": false,
    "pycharm": {
     "name": "#%%\n"
    }
   }
  },
  {
   "cell_type": "code",
   "execution_count": 9,
   "outputs": [
    {
     "name": "stdout",
     "output_type": "stream",
     "text": [
      "{'links': {'self': 'https://quantori.signalsnotebook.perkinelmer.cloud/api/rest/v1.0/samples/sample:f356dfe9-3bd7-4ab6-885a-c73d4cc72f13/properties/b718adec-73e0-3ce3-ac72-0dd11a06a308'}, 'data': {'type': 'property', 'id': 'b718adec-73e0-3ce3-ac72-0dd11a06a308', 'links': {'self': 'https://quantori.signalsnotebook.perkinelmer.cloud/api/rest/v1.0/samples/sample:f356dfe9-3bd7-4ab6-885a-c73d4cc72f13/properties/b718adec-73e0-3ce3-ac72-0dd11a06a308'}, 'meta': {'definition': {'title': 'ID', 'type': 'text', 'key': 'b718adec-73e0-3ce3-ac72-0dd11a06a308'}}, 'attributes': {'id': 'b718adec-73e0-3ce3-ac72-0dd11a06a308', 'name': 'ID', 'content': {'value': 'Sample-1756'}}, 'relationships': {'sample': {'links': {'self': 'https://quantori.signalsnotebook.perkinelmer.cloud/api/rest/v1.0/entities/sample:f356dfe9-3bd7-4ab6-885a-c73d4cc72f13'}, 'data': {'type': 'entity', 'id': 'sample:f356dfe9-3bd7-4ab6-885a-c73d4cc72f13'}}}}, 'included': [{'type': 'entity', 'id': 'sample:f356dfe9-3bd7-4ab6-885a-c73d4cc72f13', 'links': {'self': 'https://quantori.signalsnotebook.perkinelmer.cloud/api/rest/v1.0/entities/sample:f356dfe9-3bd7-4ab6-885a-c73d4cc72f13'}, 'attributes': {'id': 'sample:f356dfe9-3bd7-4ab6-885a-c73d4cc72f13', 'eid': 'sample:f356dfe9-3bd7-4ab6-885a-c73d4cc72f13', 'name': 'Sample-1756', 'description': '', 'createdAt': '2022-06-02T07:27:09.819Z', 'editedAt': '2022-06-02T07:27:09.819Z', 'type': 'sample', 'digest': '57884754', 'flags': {'canEdit': True}}, 'relationships': {'createdBy': {'links': {'self': 'https://quantori.signalsnotebook.perkinelmer.cloud/api/rest/v1.0/users/136'}, 'data': {'type': 'user', 'id': '136'}}, 'editedBy': {'links': {'self': 'https://quantori.signalsnotebook.perkinelmer.cloud/api/rest/v1.0/users/136'}, 'data': {'type': 'user', 'id': '136'}}, 'ancestors': {'data': [{'type': 'entity', 'id': 'journal:111a8a0d-2772-47b0-b5b8-2e4faf04119e', 'meta': {'links': {'self': 'https://quantori.signalsnotebook.perkinelmer.cloud/api/rest/v1.0/entities/journal:111a8a0d-2772-47b0-b5b8-2e4faf04119e'}}}, {'type': 'entity', 'id': 'experiment:f7fb12b2-1180-4fa0-9bcd-ccc2f7ec0e8f', 'meta': {'links': {'self': 'https://quantori.signalsnotebook.perkinelmer.cloud/api/rest/v1.0/entities/experiment:f7fb12b2-1180-4fa0-9bcd-ccc2f7ec0e8f'}}}, {'type': 'entity', 'id': 'samplesContainer:b66ca054-3288-4b32-8892-2da8c2282bb8', 'meta': {'links': {'self': 'https://quantori.signalsnotebook.perkinelmer.cloud/api/rest/v1.0/entities/samplesContainer:b66ca054-3288-4b32-8892-2da8c2282bb8'}}}]}, 'owner': {'links': {'self': 'https://quantori.signalsnotebook.perkinelmer.cloud/api/rest/v1.0/users/103'}, 'data': {'type': 'user', 'id': '103'}}, 'properties': {'links': {'self': 'https://quantori.signalsnotebook.perkinelmer.cloud/api/rest/v1.0/samples/sample:f356dfe9-3bd7-4ab6-885a-c73d4cc72f13/properties'}}}}, {'type': 'entity', 'id': 'journal:111a8a0d-2772-47b0-b5b8-2e4faf04119e', 'links': {'self': 'https://quantori.signalsnotebook.perkinelmer.cloud/api/rest/v1.0/entities/journal:111a8a0d-2772-47b0-b5b8-2e4faf04119e'}, 'attributes': {'type': 'journal', 'eid': 'journal:111a8a0d-2772-47b0-b5b8-2e4faf04119e', 'name': 'Test creation by SDK', 'digest': '36195376', 'fields': {'Description': {'value': 'Created by Eugene Pokidov'}, 'My Notebook Field 1 (SK)': {'value': ''}, 'My Notebook Field 2 (SK)': {'value': ''}, 'Name': {'value': 'Test creation by SDK'}}, 'flags': {}}}, {'type': 'entity', 'id': 'experiment:f7fb12b2-1180-4fa0-9bcd-ccc2f7ec0e8f', 'links': {'self': 'https://quantori.signalsnotebook.perkinelmer.cloud/api/rest/v1.0/entities/experiment:f7fb12b2-1180-4fa0-9bcd-ccc2f7ec0e8f'}, 'attributes': {'type': 'experiment', 'eid': 'experiment:f7fb12b2-1180-4fa0-9bcd-ccc2f7ec0e8f', 'name': 'Test experiment creation by SDK', 'digest': '56729944', 'fields': {'Description': {'value': 'Created by Eugene Pokidov'}, 'Name': {'value': 'Test experiment creation by SDK'}}, 'flags': {}}}, {'type': 'user', 'id': '136', 'links': {'self': 'https://quantori.signalsnotebook.perkinelmer.cloud/api/rest/v1.0/users/136'}, 'attributes': {'userId': '136', 'userName': 'daniil.cherednichenko@quantori.com', 'email': 'daniil.cherednichenko@quantori.com', 'firstName': 'Daniil', 'lastName': 'Cherednichenko', 'isEnabled': True}, 'relationships': {'systemGroups': {'links': {'self': 'https://quantori.signalsnotebook.perkinelmer.cloud/api/rest/v1.0/users/136/systemGroups'}}}}, {'type': 'user', 'id': '103', 'links': {'self': 'https://quantori.signalsnotebook.perkinelmer.cloud/api/rest/v1.0/users/103'}, 'attributes': {'userId': '103', 'userName': 'sergey.kuznetsov@quantori.com', 'email': 'sergey.kuznetsov@quantori.com', 'firstName': 'Sergey', 'lastName': 'Kuznetsov'}, 'relationships': {'picture': {'links': {'self': 'https://quantori.signalsnotebook.perkinelmer.cloud/api/rest/v1.0/users/103/picture'}}, 'systemGroups': {'links': {'self': 'https://quantori.signalsnotebook.perkinelmer.cloud/api/rest/v1.0/users/103/systemGroups'}}}}, {'type': 'entity', 'id': 'samplesContainer:b66ca054-3288-4b32-8892-2da8c2282bb8', 'links': {'self': 'https://quantori.signalsnotebook.perkinelmer.cloud/api/rest/v1.0/entities/samplesContainer:b66ca054-3288-4b32-8892-2da8c2282bb8'}, 'attributes': {'type': 'samplesContainer', 'eid': 'samplesContainer:b66ca054-3288-4b32-8892-2da8c2282bb8', 'name': 'Samples Table', 'digest': '64616474', 'fields': {'Description': {'value': ''}, 'Name': {'value': 'Samples Table'}}, 'flags': {}}}]}\n"
     ]
    }
   ],
   "source": [
    "sample.get_property_by_id('b718adec-73e0-3ce3-ac72-0dd11a06a308')"
   ],
   "metadata": {
    "collapsed": false,
    "pycharm": {
     "name": "#%%\n"
    }
   }
  },
  {
   "cell_type": "code",
   "execution_count": 10,
   "outputs": [
    {
     "ename": "SignalsNotebookError",
     "evalue": "<SignalsNotebookError status=400 code=BadRequest> title= detail=Unsupported entity type with eid(samplesContainer:b66ca054-3288-4b32-8892-2da8c2282bb8).>",
     "output_type": "error",
     "traceback": [
      "\u001B[1;31m---------------------------------------------------------------------------\u001B[0m",
      "\u001B[1;31mSignalsNotebookError\u001B[0m                      Traceback (most recent call last)",
      "Input \u001B[1;32mIn [10]\u001B[0m, in \u001B[0;36m<cell line: 1>\u001B[1;34m()\u001B[0m\n\u001B[1;32m----> 1\u001B[0m \u001B[43msample\u001B[49m\u001B[38;5;241;43m.\u001B[39;49m\u001B[43mfetch_sample_from_sample_summary\u001B[49m\u001B[43m(\u001B[49m\u001B[38;5;124;43m'\u001B[39;49m\u001B[38;5;124;43msamplesContainer:b66ca054-3288-4b32-8892-2da8c2282bb8\u001B[39;49m\u001B[38;5;124;43m'\u001B[39;49m\u001B[43m)\u001B[49m\n",
      "File \u001B[1;32mC:\\coding\\pesn-python-sdk\\src\\signals_notebook\\entities\\samples\\sample.py:73\u001B[0m, in \u001B[0;36mSample.fetch_sample_from_sample_summary\u001B[1;34m(self, sample_summary_id)\u001B[0m\n\u001B[0;32m     70\u001B[0m \u001B[38;5;28;01mdef\u001B[39;00m \u001B[38;5;21mfetch_sample_from_sample_summary\u001B[39m(\u001B[38;5;28mself\u001B[39m, sample_summary_id):\n\u001B[0;32m     71\u001B[0m     api \u001B[38;5;241m=\u001B[39m SignalsNotebookApi\u001B[38;5;241m.\u001B[39mget_default_api()\n\u001B[1;32m---> 73\u001B[0m     response \u001B[38;5;241m=\u001B[39m \u001B[43mapi\u001B[49m\u001B[38;5;241;43m.\u001B[39;49m\u001B[43mcall\u001B[49m\u001B[43m(\u001B[49m\n\u001B[0;32m     74\u001B[0m \u001B[43m        \u001B[49m\u001B[43mmethod\u001B[49m\u001B[38;5;241;43m=\u001B[39;49m\u001B[38;5;124;43m'\u001B[39;49m\u001B[38;5;124;43mGET\u001B[39;49m\u001B[38;5;124;43m'\u001B[39;49m\u001B[43m,\u001B[49m\n\u001B[0;32m     75\u001B[0m \u001B[43m        \u001B[49m\u001B[43mpath\u001B[49m\u001B[38;5;241;43m=\u001B[39;49m\u001B[43m(\u001B[49m\u001B[38;5;28;43mself\u001B[39;49m\u001B[38;5;241;43m.\u001B[39;49m\u001B[43m_get_sample_summary_endpoint\u001B[49m\u001B[43m(\u001B[49m\u001B[43m)\u001B[49m\u001B[43m,\u001B[49m\u001B[43m \u001B[49m\u001B[43msample_summary_id\u001B[49m\u001B[43m,\u001B[49m\u001B[43m \u001B[49m\u001B[38;5;124;43m'\u001B[39;49m\u001B[38;5;124;43msamples\u001B[39;49m\u001B[38;5;124;43m'\u001B[39;49m\u001B[43m)\u001B[49m\u001B[43m,\u001B[49m\n\u001B[0;32m     76\u001B[0m \u001B[43m    \u001B[49m\u001B[43m)\u001B[49m\n\u001B[0;32m     77\u001B[0m     \u001B[38;5;28mprint\u001B[39m(response\u001B[38;5;241m.\u001B[39mjson())\n",
      "File \u001B[1;32mC:\\coding\\pesn-python-sdk\\src\\signals_notebook\\api.py:101\u001B[0m, in \u001B[0;36mSignalsNotebookApi.call\u001B[1;34m(self, method, path, params, data, json, headers)\u001B[0m\n\u001B[0;32m     93\u001B[0m     response \u001B[38;5;241m=\u001B[39m \u001B[38;5;28mself\u001B[39m\u001B[38;5;241m.\u001B[39m_session\u001B[38;5;241m.\u001B[39mrequest(\n\u001B[0;32m     94\u001B[0m         method\u001B[38;5;241m=\u001B[39mmethod,\n\u001B[0;32m     95\u001B[0m         url\u001B[38;5;241m=\u001B[39m\u001B[38;5;28mself\u001B[39m\u001B[38;5;241m.\u001B[39m_prepare_path(path),\n\u001B[0;32m     96\u001B[0m         params\u001B[38;5;241m=\u001B[39mparams,\n\u001B[0;32m     97\u001B[0m         headers\u001B[38;5;241m=\u001B[39mheaders,\n\u001B[0;32m     98\u001B[0m     )\n\u001B[0;32m    100\u001B[0m \u001B[38;5;28;01mif\u001B[39;00m \u001B[38;5;129;01mnot\u001B[39;00m response\u001B[38;5;241m.\u001B[39mok:\n\u001B[1;32m--> 101\u001B[0m     \u001B[38;5;28;01mraise\u001B[39;00m SignalsNotebookError(response)\n\u001B[0;32m    103\u001B[0m \u001B[38;5;28;01mreturn\u001B[39;00m response\n",
      "\u001B[1;31mSignalsNotebookError\u001B[0m: <SignalsNotebookError status=400 code=BadRequest> title= detail=Unsupported entity type with eid(samplesContainer:b66ca054-3288-4b32-8892-2da8c2282bb8).>"
     ]
    }
   ],
   "source": [
    "sample.fetch_sample_from_sample_summary('samplesContainer:b66ca054-3288-4b32-8892-2da8c2282bb8')"
   ],
   "metadata": {
    "collapsed": false,
    "pycharm": {
     "name": "#%%\n"
    }
   }
  },
  {
   "cell_type": "code",
   "execution_count": 11,
   "outputs": [
    {
     "name": "stdout",
     "output_type": "stream",
     "text": [
      "{'links': {'self': 'https://quantori.signalsnotebook.perkinelmer.cloud/api/rest/v1.0/samplesTables/samplesContainer:b66ca054-3288-4b32-8892-2da8c2282bb8/rows'}, 'data': [{'type': 'samplesTableRow', 'id': 'sample:f356dfe9-3bd7-4ab6-885a-c73d4cc72f13', 'attributes': {'eid': 'sample:f356dfe9-3bd7-4ab6-885a-c73d4cc72f13', 'sourceEid': 'sample:fcaa5e11-ace8-4d2c-a212-293dad3c2122', 'columns': {'sampleId': {'key': 'sampleId', 'type': 'LINK', 'name': 'ID', 'content': {'type': 'sample', 'display': 'Sample-1756', 'value': 'sample:f356dfe9-3bd7-4ab6-885a-c73d4cc72f13'}}, '1': {'key': '1', 'type': 'DATETIME', 'name': 'Created Date', 'content': {'value': '2022-06-02T07:27:10.072365283Z'}}, '10': {'key': '10', 'type': 'CHILD_ENTITY_COUNT', 'name': 'Attached Docs', 'content': {'value': '0', 'eid': 'sample:f356dfe9-3bd7-4ab6-885a-c73d4cc72f13'}}, 'sourceName': {'key': 'sourceName', 'type': 'TEXT', 'name': 'Template', 'content': {'value': 'Sample'}}}}, 'relationships': {'samplesTable': {'links': {'self': 'https://quantori.signalsnotebook.perkinelmer.cloud/api/rest/v1.0/entities/samplesContainer:b66ca054-3288-4b32-8892-2da8c2282bb8'}, 'data': {'type': 'entity', 'id': 'samplesContainer:b66ca054-3288-4b32-8892-2da8c2282bb8'}}, 'columnDefinition': {'data': {'type': 'samplesTableColumnDefinition', 'id': 'samplesContainer:b66ca054-3288-4b32-8892-2da8c2282bb8'}}}}, {'type': 'samplesTableRow', 'id': 'sample:2a82986b-058c-427c-8866-6425a52be5a2', 'attributes': {'eid': 'sample:2a82986b-058c-427c-8866-6425a52be5a2', 'sourceEid': 'sample:d58502d6-2adf-405c-81e2-d2e6c9470cd2', 'stoicRef': {'eid': 'chemicalDrawing:2fc7a20f-e74c-4142-b4fa-cfa2fab41c58', 'rowId': '10'}, 'fragments': {'salts': [], 'solvates': []}, 'columns': {'sampleId': {'key': 'sampleId', 'type': 'LINK', 'name': 'ID', 'content': {'type': 'sample', 'display': 'Sample-1757', 'value': 'sample:2a82986b-058c-427c-8866-6425a52be5a2'}}, '1': {'key': '1', 'type': 'DATETIME', 'name': 'Created Date', 'content': {'value': '2022-06-02T08:00:04.957872846Z'}}, '10': {'key': '10', 'type': 'CHILD_ENTITY_COUNT', 'name': 'Attached Docs', 'content': {'value': '0', 'eid': 'sample:2a82986b-058c-427c-8866-6425a52be5a2'}}, 'sourceName': {'key': 'sourceName', 'type': 'TEXT', 'name': 'Template', 'content': {'value': 'Chemical Sample'}}, '5': {'key': '5', 'type': 'TEXT', 'name': 'Chemical Name', 'content': {'value': 'HCl'}}, '6': {'key': '6', 'type': 'UNIT', 'name': 'FM', 'content': {'display': '36.46 g/mol', 'value': 36.46, 'units': 'g/mol'}}, '7': {'key': '7', 'type': 'UNIT', 'name': 'EM', 'content': {'display': '35.97668', 'value': 35.97668, 'units': 'g/mol'}}, '8': {'key': '8', 'type': 'FORMULA', 'name': 'MF', 'content': {'value': 'ClH'}}, '9': {'key': '9', 'type': 'UNIT', 'name': 'MW', 'content': {'display': '36.46 g/mol', 'value': 36.46, 'units': 'g/mol'}}}}, 'relationships': {'samplesTable': {'links': {'self': 'https://quantori.signalsnotebook.perkinelmer.cloud/api/rest/v1.0/entities/samplesContainer:b66ca054-3288-4b32-8892-2da8c2282bb8'}, 'data': {'type': 'entity', 'id': 'samplesContainer:b66ca054-3288-4b32-8892-2da8c2282bb8'}}, 'columnDefinition': {'data': {'type': 'samplesTableColumnDefinition', 'id': 'samplesContainer:b66ca054-3288-4b32-8892-2da8c2282bb8'}}}}, {'type': 'samplesTableRow', 'id': 'sample:309f66c2-d32b-4a25-89ce-5ff61236f4a8', 'attributes': {'eid': 'sample:309f66c2-d32b-4a25-89ce-5ff61236f4a8', 'sourceEid': 'sample:d58502d6-2adf-405c-81e2-d2e6c9470cd2', 'stoicRef': {'eid': 'chemicalDrawing:2fc7a20f-e74c-4142-b4fa-cfa2fab41c58', 'rowId': '19'}, 'fragments': {'salts': [], 'solvates': []}, 'columns': {'sampleId': {'key': 'sampleId', 'type': 'LINK', 'name': 'ID', 'content': {'type': 'sample', 'display': 'Sample-1758', 'value': 'sample:309f66c2-d32b-4a25-89ce-5ff61236f4a8'}}, '1': {'key': '1', 'type': 'DATETIME', 'name': 'Created Date', 'content': {'value': '2022-06-02T08:00:25.418330849Z'}}, '10': {'key': '10', 'type': 'CHILD_ENTITY_COUNT', 'name': 'Attached Docs', 'content': {'value': '0', 'eid': 'sample:309f66c2-d32b-4a25-89ce-5ff61236f4a8'}}, 'sourceName': {'key': 'sourceName', 'type': 'TEXT', 'name': 'Template', 'content': {'value': 'Chemical Sample'}}, '5': {'key': '5', 'type': 'TEXT', 'name': 'Chemical Name', 'content': {'value': 'H2O'}}, '6': {'key': '6', 'type': 'UNIT', 'name': 'FM', 'content': {'display': '18.02 g/mol', 'value': 18.02, 'units': 'g/mol'}}, '7': {'key': '7', 'type': 'UNIT', 'name': 'EM', 'content': {'display': '18.01056', 'value': 18.01056, 'units': 'g/mol'}}, '8': {'key': '8', 'type': 'FORMULA', 'name': 'MF', 'content': {'display': 'H<sub>2</sub>O', 'value': 'H2O'}}, '9': {'key': '9', 'type': 'UNIT', 'name': 'MW', 'content': {'display': '18.02 g/mol', 'value': 18.02, 'units': 'g/mol'}}}}, 'relationships': {'samplesTable': {'links': {'self': 'https://quantori.signalsnotebook.perkinelmer.cloud/api/rest/v1.0/entities/samplesContainer:b66ca054-3288-4b32-8892-2da8c2282bb8'}, 'data': {'type': 'entity', 'id': 'samplesContainer:b66ca054-3288-4b32-8892-2da8c2282bb8'}}, 'columnDefinition': {'data': {'type': 'samplesTableColumnDefinition', 'id': 'samplesContainer:b66ca054-3288-4b32-8892-2da8c2282bb8'}}}}, {'type': 'samplesTableRow', 'id': 'sample:22b79854-abe6-468c-94f9-e992720f1d34', 'attributes': {'eid': 'sample:22b79854-abe6-468c-94f9-e992720f1d34', 'sourceEid': 'sample:fcaa5e11-ace8-4d2c-a212-293dad3c2122', 'columns': {'sampleId': {'key': 'sampleId', 'type': 'LINK', 'name': 'ID', 'content': {'type': 'sample', 'display': 'Sample-1759', 'value': 'sample:22b79854-abe6-468c-94f9-e992720f1d34'}}, '1': {'key': '1', 'type': 'DATETIME', 'name': 'Created Date', 'content': {'value': '2022-06-02T10:37:06.717628796Z'}}, '2': {'key': '2', 'type': 'TEXT', 'name': 'Description', 'content': {'value': 'hh'}}, '10': {'key': '10', 'type': 'CHILD_ENTITY_COUNT', 'name': 'Attached Docs', 'content': {'value': '0', 'eid': 'sample:22b79854-abe6-468c-94f9-e992720f1d34'}}, 'sourceName': {'key': 'sourceName', 'type': 'TEXT', 'name': 'Template', 'content': {'value': 'Sample'}}}}, 'relationships': {'samplesTable': {'links': {'self': 'https://quantori.signalsnotebook.perkinelmer.cloud/api/rest/v1.0/entities/samplesContainer:b66ca054-3288-4b32-8892-2da8c2282bb8'}, 'data': {'type': 'entity', 'id': 'samplesContainer:b66ca054-3288-4b32-8892-2da8c2282bb8'}}, 'columnDefinition': {'data': {'type': 'samplesTableColumnDefinition', 'id': 'samplesContainer:b66ca054-3288-4b32-8892-2da8c2282bb8'}}}}, {'type': 'samplesTableRow', 'id': 'sample:521db2e1-751b-477d-a9bc-756b052a261d', 'attributes': {'eid': 'sample:521db2e1-751b-477d-a9bc-756b052a261d', 'sourceEid': 'sample:fcaa5e11-ace8-4d2c-a212-293dad3c2122', 'columns': {'sampleId': {'key': 'sampleId', 'type': 'LINK', 'name': 'ID', 'content': {'type': 'sample', 'display': 'Sample-1760', 'value': 'sample:521db2e1-751b-477d-a9bc-756b052a261d'}}, '1': {'key': '1', 'type': 'DATETIME', 'name': 'Created Date', 'content': {'value': '2022-06-02T10:37:06.718687326Z'}}, '2': {'key': '2', 'type': 'TEXT', 'name': 'Description', 'content': {'value': 'hh'}}, '10': {'key': '10', 'type': 'CHILD_ENTITY_COUNT', 'name': 'Attached Docs', 'content': {'value': '0', 'eid': 'sample:521db2e1-751b-477d-a9bc-756b052a261d'}}, 'sourceName': {'key': 'sourceName', 'type': 'TEXT', 'name': 'Template', 'content': {'value': 'Sample'}}}}, 'relationships': {'samplesTable': {'links': {'self': 'https://quantori.signalsnotebook.perkinelmer.cloud/api/rest/v1.0/entities/samplesContainer:b66ca054-3288-4b32-8892-2da8c2282bb8'}, 'data': {'type': 'entity', 'id': 'samplesContainer:b66ca054-3288-4b32-8892-2da8c2282bb8'}}, 'columnDefinition': {'data': {'type': 'samplesTableColumnDefinition', 'id': 'samplesContainer:b66ca054-3288-4b32-8892-2da8c2282bb8'}}}}], 'included': [{'type': 'samplesTableColumnDefinition', 'id': 'samplesContainer:b66ca054-3288-4b32-8892-2da8c2282bb8', 'attributes': {'id': 'samplesContainer:b66ca054-3288-4b32-8892-2da8c2282bb8', 'type': 'samplesTableColumnDefinition', 'columns': [{'key': 'sampleId', 'title': 'ID', 'type': 'LINK', 'dataType': 'LINK'}, {'key': '1', 'title': 'Created Date', 'type': 'DATETIME', 'dataType': 'DATETIME'}, {'key': '2', 'title': 'Description', 'type': 'TEXT', 'dataType': 'TEXT'}, {'key': '3', 'title': 'Comments', 'type': 'TEXT', 'dataType': 'TEXT'}, {'key': '4', 'title': 'Amount', 'type': 'UNIT', 'dataType': 'UNIT', 'measure': 'mass'}, {'key': '10', 'title': 'Attached Docs', 'type': 'CHILD_ENTITY_COUNT', 'dataType': 'CHILD_ENTITY_COUNT'}, {'key': 'sourceName', 'title': 'Template', 'type': 'TEXT', 'dataType': 'TEXT'}, {'key': '5', 'title': 'Chemical Name', 'type': 'TEXT', 'dataType': 'TEXT'}, {'key': '6', 'title': 'FM', 'type': 'UNIT', 'dataType': 'UNIT', 'measure': 'molecular mass'}, {'key': '7', 'title': 'EM', 'type': 'UNIT', 'dataType': 'UNIT', 'measure': 'molecular mass'}, {'key': '8', 'title': 'MF', 'type': 'FORMULA', 'dataType': 'FORMULA'}, {'key': '9', 'title': 'MW', 'type': 'UNIT', 'dataType': 'UNIT', 'measure': 'molecular mass'}]}}, {'type': 'entity', 'id': 'samplesContainer:b66ca054-3288-4b32-8892-2da8c2282bb8', 'links': {'self': 'https://quantori.signalsnotebook.perkinelmer.cloud/api/rest/v1.0/entities/samplesContainer:b66ca054-3288-4b32-8892-2da8c2282bb8'}, 'attributes': {'type': 'samplesContainer', 'eid': 'samplesContainer:b66ca054-3288-4b32-8892-2da8c2282bb8', 'name': 'Samples Table', 'digest': '64616474', 'fields': {'Description': {'value': ''}, 'Name': {'value': 'Samples Table'}}}}]}\n"
     ]
    }
   ],
   "source": [
    "sample.fetch_sample_from_table('samplesContainer:b66ca054-3288-4b32-8892-2da8c2282bb8')"
   ],
   "metadata": {
    "collapsed": false,
    "pycharm": {
     "name": "#%%\n"
    }
   }
  },
  {
   "cell_type": "code",
   "execution_count": null,
   "outputs": [],
   "source": [],
   "metadata": {
    "collapsed": false,
    "pycharm": {
     "name": "#%%\n"
    }
   }
  }
 ],
 "metadata": {
  "kernelspec": {
   "display_name": "Python 3",
   "language": "python",
   "name": "python3"
  },
  "language_info": {
   "codemirror_mode": {
    "name": "ipython",
    "version": 2
   },
   "file_extension": ".py",
   "mimetype": "text/x-python",
   "name": "python",
   "nbconvert_exporter": "python",
   "pygments_lexer": "ipython2",
   "version": "2.7.6"
  }
 },
 "nbformat": 4,
 "nbformat_minor": 0
}
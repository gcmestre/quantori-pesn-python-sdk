{
 "cells": [
  {
   "cell_type": "code",
   "execution_count": 1,
   "outputs": [],
   "source": [
    "%load_ext dotenv\n",
    "%dotenv\n",
    "import os\n",
    "\n",
    "SN_API_HOST = os.getenv('SN_API_HOST')\n",
    "SN_API_KEY = os.getenv('SN_API_KEY')"
   ],
   "metadata": {
    "collapsed": false,
    "pycharm": {
     "name": "#%%\n"
    }
   }
  },
  {
   "cell_type": "code",
   "execution_count": 2,
   "outputs": [
    {
     "data": {
      "text/plain": "<signals_notebook.api.SignalsNotebookApi at 0x187a2675400>"
     },
     "execution_count": 2,
     "metadata": {},
     "output_type": "execute_result"
    }
   ],
   "source": [
    "from signals_notebook.api import SignalsNotebookApi\n",
    "SignalsNotebookApi.init(SN_API_HOST, SN_API_KEY)"
   ],
   "metadata": {
    "collapsed": false,
    "pycharm": {
     "name": "#%%\n"
    }
   }
  },
  {
   "cell_type": "code",
   "execution_count": 3,
   "outputs": [],
   "source": [
    "from signals_notebook.entities.entity_store import EntityStore\n",
    "samplesContainer = EntityStore.get('samplesContainer:b66ca054-3288-4b32-8892-2da8c2282bb8')"
   ],
   "metadata": {
    "collapsed": false,
    "pycharm": {
     "name": "#%%\n"
    }
   }
  },
  {
   "cell_type": "code",
   "execution_count": 4,
   "outputs": [
    {
     "name": "stdout",
     "output_type": "stream",
     "text": [
      "Samples+Table.csv b'ID,Created Date,Description,Comments,Amount,Attached Docs,Template,Chemical Name,FM,EM,MF,MW\\r\\nSample-1756,2022-06-02T07:27:10.072365283Z,,,,0,Sample,,,,,\\r\\nSample-1757,2022-06-02T08:00:04.957872846Z,,,,0,Chemical Sample,HCl,36.46 g/mol,35.97668,ClH,36.46 g/mol\\r\\nSample-1758,2022-06-02T08:00:25.418330849Z,,,,0,Chemical Sample,H2O,18.02 g/mol,18.01056,H2O,18.02 g/mol\\r\\nSample-1759,2022-06-02T10:37:06.717628796Z,hh,,,0,Sample,,,,,\\r\\nSample-1760,2022-06-02T10:37:06.718687326Z,hh,,,0,Sample,,,,,\\r\\nSample-1766,2022-06-06T12:02:27.441740719Z,,,,0,Chemical Sample,sodium chloride,58.44 g/mol,57.95862,ClNa,58.44 g/mol\\r\\nSample-1767,2022-06-06T12:02:27.442275004Z,,,,0,Chemical Sample,sodium chloride,58.44 g/mol,57.95862,ClNa,58.44 g/mol\\r\\n' text/csv\n"
     ]
    },
    {
     "data": {
      "text/plain": "File(name='Samples+Table.csv', content=b'ID,Created Date,Description,Comments,Amount,Attached Docs,Template,Chemical Name,FM,EM,MF,MW\\r\\nSample-1756,2022-06-02T07:27:10.072365283Z,,,,0,Sample,,,,,\\r\\nSample-1757,2022-06-02T08:00:04.957872846Z,,,,0,Chemical Sample,HCl,36.46 g/mol,35.97668,ClH,36.46 g/mol\\r\\nSample-1758,2022-06-02T08:00:25.418330849Z,,,,0,Chemical Sample,H2O,18.02 g/mol,18.01056,H2O,18.02 g/mol\\r\\nSample-1759,2022-06-02T10:37:06.717628796Z,hh,,,0,Sample,,,,,\\r\\nSample-1760,2022-06-02T10:37:06.718687326Z,hh,,,0,Sample,,,,,\\r\\nSample-1766,2022-06-06T12:02:27.441740719Z,,,,0,Chemical Sample,sodium chloride,58.44 g/mol,57.95862,ClNa,58.44 g/mol\\r\\nSample-1767,2022-06-06T12:02:27.442275004Z,,,,0,Chemical Sample,sodium chloride,58.44 g/mol,57.95862,ClNa,58.44 g/mol\\r\\n', content_type='text/csv')"
     },
     "execution_count": 4,
     "metadata": {},
     "output_type": "execute_result"
    }
   ],
   "source": [
    "samplesContainer.get_content()"
   ],
   "metadata": {
    "collapsed": false,
    "pycharm": {
     "name": "#%%\n"
    }
   }
  },
  {
   "cell_type": "code",
   "execution_count": 5,
   "outputs": [
    {
     "name": "stderr",
     "output_type": "stream",
     "text": [
      "C:\\Users\\d.cherednichenko\\AppData\\Local\\Temp\\ipykernel_18864\\3925987743.py:1: DeprecationWarning: Importing display from IPython.core.display is deprecated since IPython 7.14, please import from IPython display\n",
      "  from IPython.core.display import display, HTML\n"
     ]
    },
    {
     "name": "stdout",
     "output_type": "stream",
     "text": [
      "Samples+Table.csv b'ID,Created Date,Description,Comments,Amount,Attached Docs,Template,Chemical Name,FM,EM,MF,MW\\r\\nSample-1756,2022-06-02T07:27:10.072365283Z,,,,0,Sample,,,,,\\r\\nSample-1757,2022-06-02T08:00:04.957872846Z,,,,0,Chemical Sample,HCl,36.46 g/mol,35.97668,ClH,36.46 g/mol\\r\\nSample-1758,2022-06-02T08:00:25.418330849Z,,,,0,Chemical Sample,H2O,18.02 g/mol,18.01056,H2O,18.02 g/mol\\r\\nSample-1759,2022-06-02T10:37:06.717628796Z,hh,,,0,Sample,,,,,\\r\\nSample-1760,2022-06-02T10:37:06.718687326Z,hh,,,0,Sample,,,,,\\r\\nSample-1766,2022-06-06T12:02:27.441740719Z,,,,0,Chemical Sample,sodium chloride,58.44 g/mol,57.95862,ClNa,58.44 g/mol\\r\\nSample-1767,2022-06-06T12:02:27.442275004Z,,,,0,Chemical Sample,sodium chloride,58.44 g/mol,57.95862,ClNa,58.44 g/mol\\r\\n' text/csv\n"
     ]
    },
    {
     "data": {
      "text/plain": "<IPython.core.display.HTML object>",
      "text/html": "\n<div class=\"table-wrapper\" style=\"margin: 10px 10px; padding: 6px 10px; border: solid 1px #f5f5f5;\">\n    <div class=\"table-scroll\">\n        <h2>Samples Table</h2>\n        <table>\n            <thead>\n                <tr>\n                \n                    <th>ID</th>\n                \n                    <th>Created Date</th>\n                \n                    <th>Description</th>\n                \n                    <th>Comments</th>\n                \n                    <th>Amount</th>\n                \n                    <th>Attached Docs</th>\n                \n                    <th>Template</th>\n                \n                    <th>Chemical Name</th>\n                \n                    <th>FM</th>\n                \n                    <th>EM</th>\n                \n                    <th>MF</th>\n                \n                    <th>MW</th>\n                \n                </tr>\n            </thead>\n            <tbody>\n            \n                <tr>\n                \n                    <td>Sample-1756</td>\n                \n                    <td>2022-06-02T07:27:10.072365283Z</td>\n                \n                    <td></td>\n                \n                    <td></td>\n                \n                    <td></td>\n                \n                    <td>0</td>\n                \n                    <td>Sample</td>\n                \n                    <td></td>\n                \n                    <td></td>\n                \n                    <td></td>\n                \n                    <td></td>\n                \n                    <td></td>\n                \n                </tr>\n            \n                <tr>\n                \n                    <td>Sample-1757</td>\n                \n                    <td>2022-06-02T08:00:04.957872846Z</td>\n                \n                    <td></td>\n                \n                    <td></td>\n                \n                    <td></td>\n                \n                    <td>0</td>\n                \n                    <td>Chemical Sample</td>\n                \n                    <td>HCl</td>\n                \n                    <td>36.46 g/mol</td>\n                \n                    <td>35.97668</td>\n                \n                    <td>ClH</td>\n                \n                    <td>36.46 g/mol</td>\n                \n                </tr>\n            \n                <tr>\n                \n                    <td>Sample-1758</td>\n                \n                    <td>2022-06-02T08:00:25.418330849Z</td>\n                \n                    <td></td>\n                \n                    <td></td>\n                \n                    <td></td>\n                \n                    <td>0</td>\n                \n                    <td>Chemical Sample</td>\n                \n                    <td>H2O</td>\n                \n                    <td>18.02 g/mol</td>\n                \n                    <td>18.01056</td>\n                \n                    <td>H2O</td>\n                \n                    <td>18.02 g/mol</td>\n                \n                </tr>\n            \n                <tr>\n                \n                    <td>Sample-1759</td>\n                \n                    <td>2022-06-02T10:37:06.717628796Z</td>\n                \n                    <td>hh</td>\n                \n                    <td></td>\n                \n                    <td></td>\n                \n                    <td>0</td>\n                \n                    <td>Sample</td>\n                \n                    <td></td>\n                \n                    <td></td>\n                \n                    <td></td>\n                \n                    <td></td>\n                \n                    <td></td>\n                \n                </tr>\n            \n                <tr>\n                \n                    <td>Sample-1760</td>\n                \n                    <td>2022-06-02T10:37:06.718687326Z</td>\n                \n                    <td>hh</td>\n                \n                    <td></td>\n                \n                    <td></td>\n                \n                    <td>0</td>\n                \n                    <td>Sample</td>\n                \n                    <td></td>\n                \n                    <td></td>\n                \n                    <td></td>\n                \n                    <td></td>\n                \n                    <td></td>\n                \n                </tr>\n            \n                <tr>\n                \n                    <td>Sample-1766</td>\n                \n                    <td>2022-06-06T12:02:27.441740719Z</td>\n                \n                    <td></td>\n                \n                    <td></td>\n                \n                    <td></td>\n                \n                    <td>0</td>\n                \n                    <td>Chemical Sample</td>\n                \n                    <td>sodium chloride</td>\n                \n                    <td>58.44 g/mol</td>\n                \n                    <td>57.95862</td>\n                \n                    <td>ClNa</td>\n                \n                    <td>58.44 g/mol</td>\n                \n                </tr>\n            \n                <tr>\n                \n                    <td>Sample-1767</td>\n                \n                    <td>2022-06-06T12:02:27.442275004Z</td>\n                \n                    <td></td>\n                \n                    <td></td>\n                \n                    <td></td>\n                \n                    <td>0</td>\n                \n                    <td>Chemical Sample</td>\n                \n                    <td>sodium chloride</td>\n                \n                    <td>58.44 g/mol</td>\n                \n                    <td>57.95862</td>\n                \n                    <td>ClNa</td>\n                \n                    <td>58.44 g/mol</td>\n                \n                </tr>\n            \n            </tbody>\n        </table>\n    </div>\n</div>\n"
     },
     "metadata": {},
     "output_type": "display_data"
    }
   ],
   "source": [
    "from IPython.core.display import display, HTML\n",
    "\n",
    "samples_container_html = samplesContainer.get_html()\n",
    "display(HTML(data=samples_container_html))"
   ],
   "metadata": {
    "collapsed": false,
    "pycharm": {
     "name": "#%%\n"
    }
   }
  },
  {
   "cell_type": "code",
   "execution_count": 5,
   "outputs": [],
   "source": [
    "samplesContainer.fetch_sample_from_table('samplesContainer:b66ca054-3288-4b32-8892-2da8c2282bb8')"
   ],
   "metadata": {
    "collapsed": false,
    "pycharm": {
     "name": "#%%\n"
    }
   }
  }
 ],
 "metadata": {
  "kernelspec": {
   "display_name": "Python 3",
   "language": "python",
   "name": "python3"
  },
  "language_info": {
   "codemirror_mode": {
    "name": "ipython",
    "version": 2
   },
   "file_extension": ".py",
   "mimetype": "text/x-python",
   "name": "python",
   "nbconvert_exporter": "python",
   "pygments_lexer": "ipython2",
   "version": "2.7.6"
  }
 },
 "nbformat": 4,
 "nbformat_minor": 0
}
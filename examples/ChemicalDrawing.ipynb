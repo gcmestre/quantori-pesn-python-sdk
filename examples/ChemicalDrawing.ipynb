{
 "cells": [
  {
   "cell_type": "code",
   "execution_count": 1,
   "outputs": [],
   "source": [
    "%load_ext dotenv\n",
    "%dotenv\n",
    "import os\n",
    "\n",
    "SN_API_HOST = os.getenv('SN_API_HOST')\n",
    "SN_API_KEY = os.getenv('SN_API_KEY')"
   ],
   "metadata": {
    "collapsed": false,
    "pycharm": {
     "name": "#%%\n"
    }
   }
  },
  {
   "cell_type": "code",
   "execution_count": 2,
   "metadata": {
    "collapsed": true,
    "pycharm": {
     "name": "#%%\n"
    }
   },
   "outputs": [
    {
     "data": {
      "text/plain": "<signals_notebook.api.SignalsNotebookApi at 0x10d5ec4f0>"
     },
     "execution_count": 2,
     "metadata": {},
     "output_type": "execute_result"
    }
   ],
   "source": [
    "from signals_notebook.api import SignalsNotebookApi\n",
    "SignalsNotebookApi.init(SN_API_HOST, SN_API_KEY)"
   ]
  },
  {
   "cell_type": "code",
   "execution_count": 10,
   "outputs": [],
   "source": [
    "from signals_notebook.entities import EntityStore\n",
    "chemical_drawing = EntityStore.get(\"chemicalDrawing:2fc7a20f-e74c-4142-b4fa-cfa2fab41c58\")\n",
    "experiment = EntityStore.get(\"experiment:f7fb12b2-1180-4fa0-9bcd-ccc2f7ec0e8f\")"
   ],
   "metadata": {
    "collapsed": false,
    "pycharm": {
     "name": "#%%\n"
    }
   }
  },
  {
   "cell_type": "code",
   "execution_count": 6,
   "outputs": [
    {
     "data": {
      "text/plain": "<IPython.core.display.SVG object>",
      "image/svg+xml": "<svg xmlns=\"http://www.w3.org/2000/svg\" xmlns:xlink=\"http://www.w3.org/1999/xlink\" width=\"235px\" height=\"36px\" viewBox=\"0 0 235 36\" style=\"background-color: #ffffffff\" version=\"1.1\">\n<path stroke=\"none\" fill=\"#000000\" transform=\"matrix(0.05 0 0 0.05 -358 -78)\" d=\"M 9676.04,1763.2 L 9228.6,1763.2 L 9228.6,1751.2 L 9676.04,1751.2 Z \"/>\n<path stroke=\"none\" fill=\"#000000\" transform=\"matrix(0.05 0 0 0.05 -358 -78)\" d=\"M 9832.6,1757.2 C 9832.6,1757.2 9652.6,1803.2 9652.6,1803.2 C 9652.6,1803.2 9675.04,1777.33 9675.04,1757.2 C 9675.04,1736.63 9652.6,1710.2 9652.6,1710.2 C 9652.6,1710.2 9832.6,1757.2 9832.6,1757.2 C 9832.6,1757.2 9832.6,1757.2 9832.6,1757.2 \"/>\n<path stroke=\"#000000\" stroke-width=\"1\" fill=\"none\" transform=\"matrix(0.05 0 0 0.05 -358 -78)\" d=\"M 9832.6,1757.2 C 9832.6,1757.2 9652.6,1803.2 9652.6,1803.2 C 9652.6,1803.2 9675.04,1777.33 9675.04,1757.2 C 9675.04,1736.63 9652.6,1710.2 9652.6,1710.2 C 9652.6,1710.2 9832.6,1757.2 9832.6,1757.2 C 9832.6,1757.2 9832.6,1757.2 9832.6,1757.2 \"/>\n<text x=\"0\" y=\"0\" stroke=\"none\" fill=\"#000000\" transform=\"matrix(0.05 0 0 0.05 54.87 14.48)\" font-style=\"normal\" font-weight=\"normal\" font-size=\"200px\" font-family=\"Arial\">\nNa</text>\n<text x=\"0\" y=\"0\" stroke=\"none\" fill=\"#000000\" transform=\"matrix(0.05 0 0 0.05 67.62 11.03)\" font-style=\"normal\" font-weight=\"normal\" font-size=\"150px\" font-family=\"Arial\">\n+</text>\n<text x=\"0\" y=\"0\" stroke=\"none\" fill=\"#000000\" transform=\"matrix(0.05 0 0 0.05 70.82 14.59)\" font-style=\"normal\" font-weight=\"normal\" font-size=\"200px\" font-family=\"Arial\">\nOH</text>\n<text x=\"0\" y=\"0\" stroke=\"none\" fill=\"#000000\" transform=\"matrix(0.05 0 0 0.05 85.82 11.14)\" font-style=\"normal\" font-weight=\"normal\" font-size=\"150px\" font-family=\"Arial\">\n-</text>\n<text x=\"0\" y=\"0\" stroke=\"none\" fill=\"#000000\" transform=\"matrix(0.05 0 0 0.05 33.92 11.78)\" font-style=\"normal\" font-weight=\"normal\" font-size=\"200px\" font-family=\"Arial\">\n+</text>\n<text x=\"0\" y=\"0\" stroke=\"none\" fill=\"#000000\" transform=\"matrix(0.05 0 0 0.05 2.20999 14.01)\" font-style=\"normal\" font-weight=\"normal\" font-size=\"200px\" font-family=\"Arial\">\nHCl</text>\n<text x=\"0\" y=\"0\" stroke=\"none\" fill=\"#000000\" transform=\"matrix(0.05 0 0 0.05 148.747 13.04)\" font-style=\"normal\" font-weight=\"normal\" font-size=\"200px\" font-family=\"Arial\">\nH</text>\n<text x=\"0\" y=\"0\" stroke=\"none\" fill=\"#000000\" transform=\"matrix(0.05 0 0 0.05 155.947 15.19)\" font-style=\"normal\" font-weight=\"normal\" font-size=\"150px\" font-family=\"Arial\">\n2</text>\n<text x=\"0\" y=\"0\" stroke=\"none\" fill=\"#000000\" transform=\"matrix(0.05 0 0 0.05 160.11 13.04)\" font-style=\"normal\" font-weight=\"normal\" font-size=\"200px\" font-family=\"Arial\">\nO</text>\n<text x=\"0\" y=\"0\" stroke=\"none\" fill=\"#000000\" transform=\"matrix(0.05 0 0 0.05 183 11.78)\" font-style=\"normal\" font-weight=\"normal\" font-size=\"200px\" font-family=\"Arial\">\n+</text>\n<text x=\"0\" y=\"0\" stroke=\"none\" fill=\"#000000\" transform=\"matrix(0.05 0 0 0.05 203.95 14.54)\" font-style=\"normal\" font-weight=\"normal\" font-size=\"200px\" font-family=\"Arial\">\nNa</text>\n<text x=\"0\" y=\"0\" stroke=\"none\" fill=\"#000000\" transform=\"matrix(0.05 0 0 0.05 216.7 11.09)\" font-style=\"normal\" font-weight=\"normal\" font-size=\"150px\" font-family=\"Arial\">\n+</text>\n<text x=\"0\" y=\"0\" stroke=\"none\" fill=\"#000000\" transform=\"matrix(0.05 0 0 0.05 220.2 14.54)\" font-style=\"normal\" font-weight=\"normal\" font-size=\"200px\" font-family=\"Arial\">\nCl</text>\n<text x=\"0\" y=\"0\" stroke=\"none\" fill=\"#000000\" transform=\"matrix(0.05 0 0 0.05 229.6 11.09)\" font-style=\"normal\" font-weight=\"normal\" font-size=\"150px\" font-family=\"Arial\">\n-</text>\n<text x=\"0\" y=\"0\" stroke=\"none\" fill=\"#000000\" transform=\"matrix(0.05 0 0 0.05 6.28999 30.54)\" font-style=\"normal\" font-weight=\"normal\" font-size=\"200px\" font-family=\"Arial\">\n[I]</text>\n<text x=\"0\" y=\"0\" stroke=\"none\" fill=\"#000000\" transform=\"matrix(0.05 0 0 0.05 65.99 31.12)\" font-style=\"normal\" font-weight=\"normal\" font-size=\"200px\" font-family=\"Arial\">\n[II]</text>\n<text x=\"0\" y=\"0\" stroke=\"none\" fill=\"#000000\" transform=\"matrix(0.05 0 0 0.05 151.31 31.52)\" font-style=\"normal\" font-weight=\"normal\" font-size=\"200px\" font-family=\"Arial\">\n[III]</text>\n<text x=\"0\" y=\"0\" stroke=\"none\" fill=\"#000000\" transform=\"matrix(0.05 0 0 0.05 210.505 31.07)\" font-style=\"normal\" font-weight=\"normal\" font-size=\"200px\" font-family=\"Arial\">\n[IV]</text>\n</svg>"
     },
     "execution_count": 6,
     "metadata": {},
     "output_type": "execute_result"
    }
   ],
   "source": [
    "from IPython.display import SVG\n",
    "from signals_notebook.entities import ChemicalDrawingFormat\n",
    "\n",
    "svg_file = chemical_drawing.get_content(format=ChemicalDrawingFormat.SVG)\n",
    "SVG(data=svg_file.content)"
   ],
   "metadata": {
    "collapsed": false,
    "pycharm": {
     "name": "#%%\n"
    }
   }
  },
  {
   "cell_type": "code",
   "execution_count": 7,
   "outputs": [
    {
     "name": "stdout",
     "output_type": "stream",
     "text": [
      "Cl.[Na+].[OH-]>>O.[Na+].[Cl-]\n"
     ]
    }
   ],
   "source": [
    "smiles_file = chemical_drawing.get_content(format=ChemicalDrawingFormat.SMILES)\n",
    "print(smiles_file.content.decode('utf-8'))\n"
   ],
   "metadata": {
    "collapsed": false,
    "pycharm": {
     "name": "#%%\n"
    }
   }
  },
  {
   "cell_type": "code",
   "execution_count": 8,
   "outputs": [
    {
     "name": "stdout",
     "output_type": "stream",
     "text": [
      "\n",
      "  ChemDraw04272211542D\n",
      "\n",
      "  6  0  0  0  0  0  0  0  0  0999 V2000\n",
      "   -5.9036   -0.0112    0.0000 Cl  0  0  0  0  0  0  0  0  0  0  0  0\n",
      "    2.4782    0.0444    0.0000 O   0  0  0  0  0  0  0  0  0  0  0  0\n",
      "    4.9726   -0.0415    0.0000 Na  0  3  0  0  0  0  0  0  0  0  0  0\n",
      "    5.9036   -0.0415    0.0000 Cl  0  5  0  0  0  0  0  0  0  0  0  0\n",
      "   -3.5684   -0.0381    0.0000 Na  0  3  0  0  0  0  0  0  0  0  0  0\n",
      "   -2.6374   -0.0444    0.0000 O   0  5  0  0  0  0  0  0  0  0  0  0\n",
      "M  CHG  4   3   1   4  -1   5   1   6  -1\n",
      "M  STY  1   1 DAT\n",
      "M  SLB  1   1   1\n",
      "M  SDT   1 Text                                                  \n",
      "M  SDD   1    -4.9749   -0.0811    DA    ALL  1       5\n",
      "M  SED   1 +\n",
      "M  STY  1   2 DAT\n",
      "M  SLB  1   2   2\n",
      "M  SDT   2 Text                                                  \n",
      "M  SDD   2     3.5661   -0.0811    DA    ALL  1       5\n",
      "M  SED   2 +\n",
      "M  STY  1   3 DAT\n",
      "M  SLB  1   3   3\n",
      "M  SAL   3  1   1\n",
      "M  SDD   3    -6.5579   -1.1559    DA    ALL  1       5\n",
      "M  SED   3 [I]\n",
      "M  STY  1   4 DAT\n",
      "M  SLB  1   4   4\n",
      "M  SAL   4  2   5   6\n",
      "M  SDD   4    -3.1376   -1.1891    DA    ALL  1       5\n",
      "M  SED   4 [II]\n",
      "M  STY  1   5 DAT\n",
      "M  SLB  1   5   5\n",
      "M  SAL   5  1   2\n",
      "M  SDD   5     1.7505   -1.2120    DA    ALL  1       5\n",
      "M  SED   5 [III]\n",
      "M  STY  1   6 DAT\n",
      "M  SLB  1   6   6\n",
      "M  SAL   6  2   3   4\n",
      "M  SDD   6     5.1419   -1.1862    DA    ALL  1       5\n",
      "M  SED   6 [IV]\n",
      "M  END\n",
      "\n"
     ]
    }
   ],
   "source": [
    "mol_file = chemical_drawing.get_content(format=ChemicalDrawingFormat.MOL)\n",
    "print(mol_file.content.decode('utf-8'))\n"
   ],
   "metadata": {
    "collapsed": false,
    "pycharm": {
     "name": "#%%\n"
    }
   }
  },
  {
   "cell_type": "code",
   "execution_count": 9,
   "outputs": [
    {
     "name": "stdout",
     "output_type": "stream",
     "text": [
      "<?xml version=\"1.0\" encoding=\"UTF-8\" ?>\n",
      "<!DOCTYPE CDXML SYSTEM \"http://www.cambridgesoft.com/xml/cdxml.dtd\" >\n",
      "<CDXML\n",
      " CreationProgram=\"ChemDraw JS 2.0.0.188\"\n",
      " BoundingBox=\"360.15 82.17 590.13 112.04\"\n",
      " WindowPosition=\"0 0\"\n",
      " WindowSize=\"0 0\"\n",
      " FractionalWidths=\"yes\"\n",
      " InterpretChemically=\"yes\"\n",
      " ShowAtomQuery=\"yes\"\n",
      " ShowAtomStereo=\"no\"\n",
      " ShowAtomEnhancedStereo=\"yes\"\n",
      " ShowAtomNumber=\"no\"\n",
      " ShowResidueID=\"no\"\n",
      " ShowBondQuery=\"yes\"\n",
      " ShowBondRxn=\"yes\"\n",
      " ShowBondStereo=\"no\"\n",
      " ShowTerminalCarbonLabels=\"no\"\n",
      " ShowNonTerminalCarbonLabels=\"no\"\n",
      " HideImplicitHydrogens=\"no\"\n",
      " Magnification=\"662\"\n",
      " LabelFont=\"24\"\n",
      " LabelSize=\"10\"\n",
      " LabelFace=\"96\"\n",
      " CaptionFont=\"24\"\n",
      " CaptionSize=\"10\"\n",
      " HashSpacing=\"2.50\"\n",
      " MarginWidth=\"1.60\"\n",
      " LineWidth=\"0.60\"\n",
      " BoldWidth=\"2\"\n",
      " BondLength=\"14.40\"\n",
      " BondSpacing=\"18\"\n",
      " ChainAngle=\"120\"\n",
      " LabelJustification=\"Auto\"\n",
      " CaptionJustification=\"Left\"\n",
      " AminoAcidTermini=\"HOH\"\n",
      " ShowSequenceTermini=\"yes\"\n",
      " ShowSequenceBonds=\"yes\"\n",
      " ShowSequenceUnlinkedBranches=\"no\"\n",
      " ResidueWrapCount=\"40\"\n",
      " ResidueBlockCount=\"10\"\n",
      " ResidueZigZag=\"yes\"\n",
      " NumberResidueBlocks=\"no\"\n",
      " PrintMargins=\"36 36 36 36\"\n",
      " MacPrintInfo=\"0003000000480048000000000318026400000000031802640367052803FC00020000004800480000000003180264000100000064000000010001010100000001270F000100010000000000000000000000000002001901900000000000400000000000000000000100000000000000000000000000000000\"\n",
      " ChemPropName=\"\"\n",
      " ChemPropFormula=\"Chemical Formula: \"\n",
      " ChemPropExactMass=\"Exact Mass: \"\n",
      " ChemPropMolWt=\"Molecular Weight: \"\n",
      " ChemPropMOverZ=\"m/z: \"\n",
      " ChemPropAnalysis=\"Elemental Analysis: \"\n",
      " ChemPropBoilingPt=\"Boiling Point: \"\n",
      " ChemPropMeltingPt=\"Melting Point: \"\n",
      " ChemPropCritTemp=\"Critical Temp: \"\n",
      " ChemPropCritPres=\"Critical Pres: \"\n",
      " ChemPropCritVol=\"Critical Vol: \"\n",
      " ChemPropGibbs=\"Gibbs Energy: \"\n",
      " ChemPropLogP=\"Log P: \"\n",
      " ChemPropMR=\"MR: \"\n",
      " ChemPropHenry=\"Henry&apos;s Law: \"\n",
      " ChemPropEForm=\"Heat of Form: \"\n",
      " ChemProptPSA=\"tPSA: \"\n",
      " ChemPropID=\"\"\n",
      " ChemPropFragmentLabel=\"\"\n",
      " color=\"0\"\n",
      " bgcolor=\"1\"\n",
      " RxnAutonumberStart=\"1\"\n",
      " RxnAutonumberConditions=\"no\"\n",
      " RxnAutonumberStyle=\"Roman\"\n",
      " RxnAutonumberFormat=\"(#)\"\n",
      "><colortable>\n",
      "<color r=\"1\" g=\"1\" b=\"1\"/>\n",
      "<color r=\"0\" g=\"0\" b=\"0\"/>\n",
      "<color r=\"1\" g=\"0\" b=\"0\"/>\n",
      "<color r=\"1\" g=\"1\" b=\"0\"/>\n",
      "<color r=\"0\" g=\"1\" b=\"0\"/>\n",
      "<color r=\"0\" g=\"1\" b=\"1\"/>\n",
      "<color r=\"0\" g=\"0\" b=\"1\"/>\n",
      "<color r=\"1\" g=\"0\" b=\"1\"/>\n",
      "</colortable><fonttable>\n",
      "<font id=\"24\" charset=\"utf-8\" name=\"Arial\"/>\n",
      "</fonttable><page\n",
      " id=\"144\"\n",
      " BoundingBox=\"0 0 949.67 194.70\"\n",
      " Width=\"949.67\"\n",
      " Height=\"194.70\"\n",
      " HeaderPosition=\"36\"\n",
      " FooterPosition=\"36\"\n",
      " PageOverlap=\"0\"\n",
      " PrintTrimMarks=\"yes\"\n",
      " HeightPages=\"1\"\n",
      " WidthPages=\"1\"\n",
      " DrawingSpace=\"poster\"\n",
      "><group\n",
      " id=\"1\"\n",
      " BoundingBox=\"412.86 82.96 446.33 92.75\"\n",
      " Z=\"24\"\n",
      "><fragment\n",
      " id=\"5\"\n",
      " BoundingBox=\"412.86 82.96 430.02 92.64\"\n",
      " Z=\"25\"\n",
      "><n\n",
      " id=\"2\"\n",
      " p=\"416.47 89.03\"\n",
      " Z=\"26\"\n",
      " Element=\"11\"\n",
      " NumHydrogens=\"0\"\n",
      " Charge=\"1\"\n",
      " NeedsClean=\"yes\"\n",
      " AS=\"N\"\n",
      "><t\n",
      " p=\"412.86 92.64\"\n",
      " BoundingBox=\"412.86 82.96 430.02 92.64\"\n",
      " LabelJustification=\"Left\"\n",
      " LabelAlignment=\"Left\"\n",
      "><s font=\"24\" size=\"10\" color=\"0\" face=\"96\">Na+</s></t></n></fragment><fragment\n",
      " id=\"6\"\n",
      " BoundingBox=\"428.83 84.12 446.33 92.75\"\n",
      " Z=\"27\"\n",
      "><n\n",
      " id=\"3\"\n",
      " p=\"432.72 89.14\"\n",
      " Z=\"28\"\n",
      " Element=\"8\"\n",
      " NumHydrogens=\"1\"\n",
      " Charge=\"-1\"\n",
      " NeedsClean=\"yes\"\n",
      " AS=\"N\"\n",
      "><t\n",
      " p=\"428.83 92.75\"\n",
      " BoundingBox=\"428.83 84.12 446.33 92.75\"\n",
      " LabelJustification=\"Left\"\n",
      " LabelAlignment=\"Left\"\n",
      "><s font=\"24\" size=\"10\" color=\"0\" face=\"96\">OH-</s></t></n></fragment><annotation\n",
      " Keyword=\"Fragment Label\"\n",
      " Content=\"[II]\"\n",
      "/></group><group\n",
      " id=\"54\"\n",
      " BoundingBox=\"561.94 83.02 590.13 92.70\"\n",
      " Z=\"35\"\n",
      "><fragment\n",
      " id=\"4\"\n",
      " BoundingBox=\"561.94 83.02 579.10 92.70\"\n",
      " Z=\"36\"\n",
      "><n\n",
      " id=\"55\"\n",
      " p=\"565.55 89.09\"\n",
      " Z=\"37\"\n",
      " Element=\"11\"\n",
      " NumHydrogens=\"0\"\n",
      " Charge=\"1\"\n",
      " NeedsClean=\"yes\"\n",
      " AS=\"N\"\n",
      "><t\n",
      " p=\"561.94 92.70\"\n",
      " BoundingBox=\"561.94 83.02 579.10 92.70\"\n",
      " LabelJustification=\"Left\"\n",
      " LabelAlignment=\"Left\"\n",
      "><s font=\"24\" size=\"10\" color=\"0\" face=\"96\">Na+</s></t></n></fragment><fragment\n",
      " id=\"56\"\n",
      " BoundingBox=\"578.19 84.07 590.13 92.70\"\n",
      " Z=\"38\"\n",
      "><n\n",
      " id=\"57\"\n",
      " p=\"581.80 89.09\"\n",
      " Z=\"39\"\n",
      " Element=\"17\"\n",
      " NumHydrogens=\"0\"\n",
      " Charge=\"-1\"\n",
      " NeedsClean=\"yes\"\n",
      " AS=\"N\"\n",
      "><t\n",
      " p=\"578.19 92.70\"\n",
      " BoundingBox=\"578.19 84.07 590.13 92.70\"\n",
      " LabelJustification=\"Left\"\n",
      " LabelAlignment=\"Left\"\n",
      "><s font=\"24\" size=\"10\" color=\"0\" face=\"96\">Cl-</s></t></n></fragment><annotation\n",
      " Keyword=\"Fragment Label\"\n",
      " Content=\"[IV]\"\n",
      "/></group><fragment\n",
      " id=\"10\"\n",
      " BoundingBox=\"360.15 83.54 376.82 92.17\"\n",
      " Z=\"30\"\n",
      "><n\n",
      " id=\"11\"\n",
      " p=\"375.71 88.56\"\n",
      " Z=\"31\"\n",
      " Element=\"17\"\n",
      " NumHydrogens=\"1\"\n",
      " NeedsClean=\"yes\"\n",
      " AS=\"N\"\n",
      "><t\n",
      " p=\"376.82 92.17\"\n",
      " BoundingBox=\"360.15 83.54 376.82 92.17\"\n",
      " LabelJustification=\"Right\"\n",
      " Justification=\"Right\"\n",
      " LabelAlignment=\"Right\"\n",
      "><s font=\"24\" size=\"10\" color=\"0\" face=\"96\">ClH</s></t></n><annotation\n",
      " Keyword=\"Fragment Label\"\n",
      " Content=\"[I]\"\n",
      "/></fragment><fragment\n",
      " id=\"19\"\n",
      " BoundingBox=\"506.72 82.57 525.90 93.15\"\n",
      " Z=\"32\"\n",
      "><n\n",
      " id=\"20\"\n",
      " p=\"522.01 87.59\"\n",
      " Z=\"33\"\n",
      " Element=\"8\"\n",
      " NumHydrogens=\"2\"\n",
      " NeedsClean=\"yes\"\n",
      " AS=\"N\"\n",
      "><t\n",
      " p=\"525.90 91.20\"\n",
      " BoundingBox=\"506.72 82.57 525.90 93.15\"\n",
      " LabelJustification=\"Right\"\n",
      " Justification=\"Right\"\n",
      " LabelAlignment=\"Right\"\n",
      "><s font=\"24\" size=\"10\" color=\"0\" face=\"96\">OH2</s></t></n><annotation\n",
      " Keyword=\"Fragment Label\"\n",
      " Content=\"[III]\"\n",
      "/></fragment><t\n",
      " id=\"9\"\n",
      " p=\"391.92 89.78\"\n",
      " BoundingBox=\"391.92 82.17 397.76 93.56\"\n",
      " Z=\"29\"\n",
      " Warning=\"Chemical Interpretation is not possible for this label\"\n",
      " LineHeight=\"auto\"\n",
      "><s font=\"24\" size=\"10\" color=\"0\">+</s></t><t\n",
      " id=\"53\"\n",
      " p=\"541 89.78\"\n",
      " BoundingBox=\"541 82.17 546.84 93.56\"\n",
      " Z=\"34\"\n",
      " Warning=\"Chemical Interpretation is not possible for this label\"\n",
      " LineHeight=\"auto\"\n",
      "><s font=\"24\" size=\"10\" color=\"0\">+</s></t><t\n",
      " id=\"135\"\n",
      " p=\"368.49 108.54\"\n",
      " BoundingBox=\"364.32 99.67 372.65 111.06\"\n",
      " Z=\"85\"\n",
      " InterpretChemically=\"no\"\n",
      " CaptionJustification=\"Center\"\n",
      " Justification=\"Center\"\n",
      " LineHeight=\"auto\"\n",
      "><s font=\"24\" size=\"10\" color=\"0\">[I]</s></t><t\n",
      " id=\"137\"\n",
      " p=\"429.59 109.12\"\n",
      " BoundingBox=\"424.03 100.25 435.15 111.64\"\n",
      " Z=\"86\"\n",
      " InterpretChemically=\"no\"\n",
      " CaptionJustification=\"Center\"\n",
      " Justification=\"Center\"\n",
      " LineHeight=\"auto\"\n",
      "><s font=\"24\" size=\"10\" color=\"0\">[II]</s></t><t\n",
      " id=\"139\"\n",
      " p=\"516.31 109.52\"\n",
      " BoundingBox=\"509.36 100.65 523.26 112.04\"\n",
      " Z=\"87\"\n",
      " InterpretChemically=\"no\"\n",
      " CaptionJustification=\"Center\"\n",
      " Justification=\"Center\"\n",
      " LineHeight=\"auto\"\n",
      "><s font=\"24\" size=\"10\" color=\"0\">[III]</s></t><t\n",
      " id=\"141\"\n",
      " p=\"576.03 109.07\"\n",
      " BoundingBox=\"568.53 100.20 583.53 111.59\"\n",
      " Z=\"88\"\n",
      " InterpretChemically=\"no\"\n",
      " CaptionJustification=\"Center\"\n",
      " Justification=\"Center\"\n",
      " LineHeight=\"auto\"\n",
      "><s font=\"24\" size=\"10\" color=\"0\">[IV]</s></t><graphic\n",
      " id=\"68\"\n",
      " SupersededBy=\"145\"\n",
      " BoundingBox=\"491.63 87.86 461.43 87.86\"\n",
      " Z=\"23\"\n",
      " GraphicType=\"Line\"\n",
      " ArrowType=\"FullHead\"\n",
      " HeadSize=\"1500\"\n",
      "/><scheme\n",
      " id=\"146\"\n",
      "><step\n",
      " id=\"147\"\n",
      " ReactionStepReactants=\"10 1\"\n",
      " ReactionStepProducts=\"19 54\"\n",
      " ReactionStepArrows=\"68\"\n",
      "/></scheme><chemicalproperty\n",
      " id=\"136\"\n",
      " ChemicalPropertyDisplayID=\"135\"\n",
      " ChemicalPropertyIsActive=\"yes\"\n",
      " ChemicalPropertyType=\"24\"\n",
      " BasisObjects=\"10 11\"\n",
      "/><chemicalproperty\n",
      " id=\"138\"\n",
      " ChemicalPropertyDisplayID=\"137\"\n",
      " ChemicalPropertyIsActive=\"yes\"\n",
      " ChemicalPropertyType=\"24\"\n",
      " BasisObjects=\"1 5 2 6 3\"\n",
      "/><chemicalproperty\n",
      " id=\"140\"\n",
      " ChemicalPropertyDisplayID=\"139\"\n",
      " ChemicalPropertyIsActive=\"yes\"\n",
      " ChemicalPropertyType=\"24\"\n",
      " BasisObjects=\"19 20\"\n",
      "/><chemicalproperty\n",
      " id=\"142\"\n",
      " ChemicalPropertyDisplayID=\"141\"\n",
      " ChemicalPropertyIsActive=\"yes\"\n",
      " ChemicalPropertyType=\"24\"\n",
      " BasisObjects=\"54 4 55 56 57\"\n",
      "/><arrow\n",
      " id=\"145\"\n",
      " BoundingBox=\"461.43 84.94 491.63 90.11\"\n",
      " Z=\"23\"\n",
      " FillType=\"None\"\n",
      " ArrowheadHead=\"Full\"\n",
      " ArrowheadType=\"Solid\"\n",
      " HeadSize=\"1500\"\n",
      " ArrowheadCenterSize=\"1313\"\n",
      " ArrowheadWidth=\"375\"\n",
      " Head3D=\"491.63 87.86 0\"\n",
      " Tail3D=\"461.43 87.86 0\"\n",
      " Center3D=\"739.98 143.38 0\"\n",
      " MajorAxisEnd3D=\"770.18 143.38 0\"\n",
      " MinorAxisEnd3D=\"739.98 173.58 0\"\n",
      "/><annotation\n",
      " Keyword=\"Fragment Label\"\n",
      " Content=\"[I]\"\n",
      "/></page></CDXML>\n"
     ]
    }
   ],
   "source": [
    "cdxml_file = chemical_drawing.get_content(format=ChemicalDrawingFormat.CDXML)\n",
    "print(cdxml_file.content.decode('utf-8'))"
   ],
   "metadata": {
    "collapsed": false,
    "pycharm": {
     "name": "#%%\n"
    }
   }
  },
  {
   "cell_type": "code",
   "execution_count": 11,
   "outputs": [],
   "source": [
    "from signals_notebook.entities import ChemicalDrawing\n",
    "chem_draw = ChemicalDrawing.create(container=experiment, name='Test chemDraw', content_type=cdxml_file.content_type, content=cdxml_file.content)\n",
    "chem_draw.delete()"
   ],
   "metadata": {
    "collapsed": false,
    "pycharm": {
     "name": "#%%\n"
    }
   }
  },
  {
   "cell_type": "code",
   "execution_count": 12,
   "outputs": [],
   "source": [
    "chem_draw = ChemicalDrawing.create(container=experiment, name='Test chemDraw', content_type=mol_file.content_type, content=mol_file.content)\n",
    "chem_draw.delete()"
   ],
   "metadata": {
    "collapsed": false,
    "pycharm": {
     "name": "#%%\n"
    }
   }
  },
  {
   "cell_type": "code",
   "execution_count": 13,
   "outputs": [],
   "source": [
    "chem_draw = ChemicalDrawing.create(container=experiment, name='Test chemDraw', content_type=smiles_file.content_type, content=smiles_file.content)\n",
    "chem_draw.delete()"
   ],
   "metadata": {
    "collapsed": false,
    "pycharm": {
     "name": "#%%\n"
    }
   }
  },
  {
   "cell_type": "code",
   "execution_count": 14,
   "outputs": [],
   "source": [
    "chem_draw = ChemicalDrawing.create(container=experiment, name='Test chemDraw', content_type=svg_file.content_type, content=svg_file.content)\n",
    "chem_draw.delete()"
   ],
   "metadata": {
    "collapsed": false,
    "pycharm": {
     "name": "#%%\n"
    }
   }
  },
  {
   "cell_type": "code",
   "execution_count": null,
   "outputs": [],
   "source": [],
   "metadata": {
    "collapsed": false,
    "pycharm": {
     "name": "#%%\n"
    }
   }
  }
 ],
 "metadata": {
  "kernelspec": {
   "display_name": "Python 3",
   "language": "python",
   "name": "python3"
  },
  "language_info": {
   "codemirror_mode": {
    "name": "ipython",
    "version": 2
   },
   "file_extension": ".py",
   "mimetype": "text/x-python",
   "name": "python",
   "nbconvert_exporter": "python",
   "pygments_lexer": "ipython2",
   "version": "2.7.6"
  }
 },
 "nbformat": 4,
 "nbformat_minor": 0
}
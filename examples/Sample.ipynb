{
 "cells": [
  {
   "cell_type": "code",
   "execution_count": 1,
   "outputs": [],
   "source": [
    "%load_ext dotenv\n",
    "%dotenv\n",
    "import os\n",
    "\n",
    "SN_API_HOST = os.getenv('SN_API_HOST')\n",
    "SN_API_KEY = os.getenv('SN_API_KEY')"
   ],
   "metadata": {
    "collapsed": false,
    "pycharm": {
     "name": "#%%\n"
    }
   }
  },
  {
   "cell_type": "code",
   "execution_count": 2,
   "outputs": [
    {
     "data": {
      "text/plain": "<signals_notebook.api.SignalsNotebookApi at 0x2afcb5e60d0>"
     },
     "execution_count": 2,
     "metadata": {},
     "output_type": "execute_result"
    }
   ],
   "source": [
    "from signals_notebook.api import SignalsNotebookApi\n",
    "SignalsNotebookApi.init(SN_API_HOST, SN_API_KEY)"
   ],
   "metadata": {
    "collapsed": false,
    "pycharm": {
     "name": "#%%\n"
    }
   }
  },
  {
   "cell_type": "code",
   "execution_count": 3,
   "outputs": [],
   "source": [
    "from signals_notebook.entities.entity_store import EntityStore\n",
    "samplesContainer = EntityStore.get('samplesContainer:b66ca054-3288-4b32-8892-2da8c2282bb8')"
   ],
   "metadata": {
    "collapsed": false,
    "pycharm": {
     "name": "#%%\n"
    }
   }
  },
  {
   "cell_type": "code",
   "execution_count": 4,
   "outputs": [
    {
     "data": {
      "text/plain": "File(name='Samples+Table.csv', content=b'ID,Created Date,Description,Comments,Amount,Attached Docs,Template,Chemical Name,FM,EM,MF,MW\\r\\nSample-1756,2022-06-02T07:27:10.072365283Z,,,,0,Sample,,,,,\\r\\nSample-1757,2022-06-02T08:00:04.957872846Z,,,,0,Chemical Sample,HCl,36.46 g/mol,35.97668,ClH,36.46 g/mol\\r\\nSample-1758,2022-06-02T08:00:25.418330849Z,,,,0,Chemical Sample,H2O,18.02 g/mol,18.01056,H2O,18.02 g/mol\\r\\nSample-1759,2022-06-02T10:37:06.717628796Z,hh,,,0,Sample,,,,,\\r\\nSample-1760,2022-06-02T10:37:06.718687326Z,hh,,,0,Sample,,,,,\\r\\n', content_type='text/csv')"
     },
     "execution_count": 4,
     "metadata": {},
     "output_type": "execute_result"
    }
   ],
   "source": [
    "samplesContainer.get_content()"
   ],
   "metadata": {
    "collapsed": false,
    "pycharm": {
     "name": "#%%\n"
    }
   }
  },
  {
   "cell_type": "code",
   "execution_count": 5,
   "outputs": [
    {
     "name": "stderr",
     "output_type": "stream",
     "text": [
      "C:\\Users\\d.cherednichenko\\AppData\\Local\\Temp\\ipykernel_21844\\3925987743.py:1: DeprecationWarning: Importing display from IPython.core.display is deprecated since IPython 7.14, please import from IPython display\n",
      "  from IPython.core.display import display, HTML\n"
     ]
    },
    {
     "data": {
      "text/plain": "<IPython.core.display.HTML object>",
      "text/html": "<div class=\"table-wrapper\" style=\"margin: 10px 10px; padding: 6px 10px; border: solid 1px #f5f5f5;\">\n    <div class=\"table-scroll\">\n        <h2>Samples Table</h2>\n        <table>\n            <thead>\n                <tr>\n                \n                    <th>ID</th>\n                \n                    <th>Created Date</th>\n                \n                    <th>Description</th>\n                \n                    <th>Comments</th>\n                \n                    <th>Amount</th>\n                \n                    <th>Attached Docs</th>\n                \n                    <th>Template</th>\n                \n                    <th>Chemical Name</th>\n                \n                    <th>FM</th>\n                \n                    <th>EM</th>\n                \n                    <th>MF</th>\n                \n                    <th>MW</th>\n                \n                </tr>\n            </thead>\n            <tbody>\n            \n                <tr>\n                \n                    \n                    <td>Sample-1756</td>\n                    \n                \n                    \n                    <td>2022-06-02T07:27:10.072365283Z</td>\n                    \n                \n                    \n                    <td></td>\n                    \n                \n                    \n                    <td></td>\n                    \n                \n                    \n                    <td></td>\n                    \n                \n                    \n                    <td>0</td>\n                    \n                \n                    \n                    <td>Sample</td>\n                    \n                \n                    \n                    <td></td>\n                    \n                \n                    \n                    <td></td>\n                    \n                \n                    \n                    <td></td>\n                    \n                \n                    \n                    <td></td>\n                    \n                \n                    \n                    <td></td>\n                    \n                \n                </tr>\n            \n                <tr>\n                \n                    \n                    <td>Sample-1757</td>\n                    \n                \n                    \n                    <td>2022-06-02T08:00:04.957872846Z</td>\n                    \n                \n                    \n                    <td></td>\n                    \n                \n                    \n                    <td></td>\n                    \n                \n                    \n                    <td></td>\n                    \n                \n                    \n                    <td>0</td>\n                    \n                \n                    \n                    <td>Chemical Sample</td>\n                    \n                \n                    \n                    <td>HCl</td>\n                    \n                \n                    \n                    <td>36.46 g/mol</td>\n                    \n                \n                    \n                    <td>35.97668</td>\n                    \n                \n                    \n                    <td>ClH</td>\n                    \n                \n                    \n                    <td>36.46 g/mol</td>\n                    \n                \n                </tr>\n            \n                <tr>\n                \n                    \n                    <td>Sample-1758</td>\n                    \n                \n                    \n                    <td>2022-06-02T08:00:25.418330849Z</td>\n                    \n                \n                    \n                    <td></td>\n                    \n                \n                    \n                    <td></td>\n                    \n                \n                    \n                    <td></td>\n                    \n                \n                    \n                    <td>0</td>\n                    \n                \n                    \n                    <td>Chemical Sample</td>\n                    \n                \n                    \n                    <td>H2O</td>\n                    \n                \n                    \n                    <td>18.02 g/mol</td>\n                    \n                \n                    \n                    <td>18.01056</td>\n                    \n                \n                    \n                    <td>H2O</td>\n                    \n                \n                    \n                    <td>18.02 g/mol</td>\n                    \n                \n                </tr>\n            \n                <tr>\n                \n                    \n                    <td>Sample-1759</td>\n                    \n                \n                    \n                    <td>2022-06-02T10:37:06.717628796Z</td>\n                    \n                \n                    \n                    <td>hh</td>\n                    \n                \n                    \n                    <td></td>\n                    \n                \n                    \n                    <td></td>\n                    \n                \n                    \n                    <td>0</td>\n                    \n                \n                    \n                    <td>Sample</td>\n                    \n                \n                    \n                    <td></td>\n                    \n                \n                    \n                    <td></td>\n                    \n                \n                    \n                    <td></td>\n                    \n                \n                    \n                    <td></td>\n                    \n                \n                    \n                    <td></td>\n                    \n                \n                </tr>\n            \n                <tr>\n                \n                    \n                    <td>Sample-1760</td>\n                    \n                \n                    \n                    <td>2022-06-02T10:37:06.718687326Z</td>\n                    \n                \n                    \n                    <td>hh</td>\n                    \n                \n                    \n                    <td></td>\n                    \n                \n                    \n                    <td></td>\n                    \n                \n                    \n                    <td>0</td>\n                    \n                \n                    \n                    <td>Sample</td>\n                    \n                \n                    \n                    <td></td>\n                    \n                \n                    \n                    <td></td>\n                    \n                \n                    \n                    <td></td>\n                    \n                \n                    \n                    <td></td>\n                    \n                \n                    \n                    <td></td>\n                    \n                \n                </tr>\n            \n            </tbody>\n        </table>\n    </div>\n</div>"
     },
     "metadata": {},
     "output_type": "display_data"
    }
   ],
   "source": [
    "from IPython.core.display import display, HTML\n",
    "\n",
    "samples_container_html = samplesContainer.get_html()\n",
    "display(HTML(data=samples_container_html))"
   ],
   "metadata": {
    "collapsed": false,
    "pycharm": {
     "name": "#%%\n"
    }
   }
  },
  {
   "cell_type": "code",
   "execution_count": 6,
   "outputs": [],
   "source": [
    "sample = EntityStore.get('sample:f356dfe9-3bd7-4ab6-885a-c73d4cc72f13')"
   ],
   "metadata": {
    "collapsed": false,
    "pycharm": {
     "name": "#%%\n"
    }
   }
  },
  {
   "cell_type": "code",
   "execution_count": 7,
   "outputs": [
    {
     "data": {
      "text/plain": "Sample(type=<EntityType.SAMPLE: 'sample'>, eid='sample:f356dfe9-3bd7-4ab6-885a-c73d4cc72f13', digest='57884754', name='Sample-1756', description='', created_at=datetime.datetime(2022, 6, 2, 7, 27, 9, 819000, tzinfo=datetime.timezone.utc), edited_at=datetime.datetime(2022, 6, 2, 7, 27, 9, 819000, tzinfo=datetime.timezone.utc))"
     },
     "execution_count": 7,
     "metadata": {},
     "output_type": "execute_result"
    }
   ],
   "source": [
    "sample"
   ],
   "metadata": {
    "collapsed": false,
    "pycharm": {
     "name": "#%%\n"
    }
   }
  },
  {
   "cell_type": "code",
   "execution_count": 8,
   "outputs": [
    {
     "ename": "KeyError",
     "evalue": "'filename'",
     "output_type": "error",
     "traceback": [
      "\u001B[1;31m---------------------------------------------------------------------------\u001B[0m",
      "\u001B[1;31mKeyError\u001B[0m                                  Traceback (most recent call last)",
      "Input \u001B[1;32mIn [8]\u001B[0m, in \u001B[0;36m<cell line: 1>\u001B[1;34m()\u001B[0m\n\u001B[1;32m----> 1\u001B[0m \u001B[43msample\u001B[49m\u001B[38;5;241;43m.\u001B[39;49m\u001B[43mget_content\u001B[49m\u001B[43m(\u001B[49m\u001B[43m)\u001B[49m\n",
      "File \u001B[1;32mC:\\coding\\pesn-python-sdk\\src\\signals_notebook\\entities\\samples\\sample.py:38\u001B[0m, in \u001B[0;36mSample.get_content\u001B[1;34m(self)\u001B[0m\n\u001B[0;32m     37\u001B[0m \u001B[38;5;28;01mdef\u001B[39;00m \u001B[38;5;21mget_content\u001B[39m(\u001B[38;5;28mself\u001B[39m) \u001B[38;5;241m-\u001B[39m\u001B[38;5;241m>\u001B[39m File:\n\u001B[1;32m---> 38\u001B[0m     \u001B[38;5;28;01mreturn\u001B[39;00m \u001B[38;5;28;43msuper\u001B[39;49m\u001B[43m(\u001B[49m\u001B[43m)\u001B[49m\u001B[38;5;241;43m.\u001B[39;49m\u001B[43m_get_content\u001B[49m\u001B[43m(\u001B[49m\u001B[43m)\u001B[49m\n",
      "File \u001B[1;32mC:\\coding\\pesn-python-sdk\\src\\signals_notebook\\entities\\contentful_entity.py:33\u001B[0m, in \u001B[0;36mContentfulEntity._get_content\u001B[1;34m(self, format)\u001B[0m\n\u001B[0;32m     29\u001B[0m content_disposition \u001B[38;5;241m=\u001B[39m response\u001B[38;5;241m.\u001B[39mheaders\u001B[38;5;241m.\u001B[39mget(\u001B[38;5;124m'\u001B[39m\u001B[38;5;124mcontent-disposition\u001B[39m\u001B[38;5;124m'\u001B[39m, \u001B[38;5;124m'\u001B[39m\u001B[38;5;124m'\u001B[39m)\n\u001B[0;32m     30\u001B[0m _, params \u001B[38;5;241m=\u001B[39m cgi\u001B[38;5;241m.\u001B[39mparse_header(content_disposition)\n\u001B[0;32m     32\u001B[0m \u001B[38;5;28;01mreturn\u001B[39;00m File(\n\u001B[1;32m---> 33\u001B[0m     name\u001B[38;5;241m=\u001B[39m\u001B[43mparams\u001B[49m\u001B[43m[\u001B[49m\u001B[38;5;124;43m'\u001B[39;49m\u001B[38;5;124;43mfilename\u001B[39;49m\u001B[38;5;124;43m'\u001B[39;49m\u001B[43m]\u001B[49m, content\u001B[38;5;241m=\u001B[39mresponse\u001B[38;5;241m.\u001B[39mcontent, content_type\u001B[38;5;241m=\u001B[39mresponse\u001B[38;5;241m.\u001B[39mheaders\u001B[38;5;241m.\u001B[39mget(\u001B[38;5;124m'\u001B[39m\u001B[38;5;124mcontent-type\u001B[39m\u001B[38;5;124m'\u001B[39m)\n\u001B[0;32m     34\u001B[0m )\n",
      "\u001B[1;31mKeyError\u001B[0m: 'filename'"
     ]
    }
   ],
   "source": [
    "sample.get_properties()"
   ],
   "metadata": {
    "collapsed": false,
    "pycharm": {
     "name": "#%%\n"
    }
   }
  },
  {
   "cell_type": "code",
   "execution_count": null,
   "outputs": [],
   "source": [
    "sample.get_property_by_id()"
   ],
   "metadata": {
    "collapsed": false,
    "pycharm": {
     "name": "#%%\n"
    }
   }
  }
 ],
 "metadata": {
  "kernelspec": {
   "display_name": "Python 3",
   "language": "python",
   "name": "python3"
  },
  "language_info": {
   "codemirror_mode": {
    "name": "ipython",
    "version": 2
   },
   "file_extension": ".py",
   "mimetype": "text/x-python",
   "name": "python",
   "nbconvert_exporter": "python",
   "pygments_lexer": "ipython2",
   "version": "2.7.6"
  }
 },
 "nbformat": 4,
 "nbformat_minor": 0
}
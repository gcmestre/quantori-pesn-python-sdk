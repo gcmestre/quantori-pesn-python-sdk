{
 "cells": [
  {
   "cell_type": "code",
   "execution_count": 1,
   "outputs": [],
   "source": [
    "%load_ext dotenv\n",
    "%dotenv\n",
    "import os\n",
    "\n",
    "SN_API_HOST = os.getenv('SN_API_HOST')\n",
    "SN_API_KEY = os.getenv('SN_API_KEY')"
   ],
   "metadata": {
    "collapsed": false,
    "pycharm": {
     "name": "#%%\n"
    }
   }
  },
  {
   "cell_type": "code",
   "execution_count": 2,
   "outputs": [
    {
     "data": {
      "text/plain": "<signals_notebook.api.SignalsNotebookApi at 0x2b16980b550>"
     },
     "execution_count": 2,
     "metadata": {},
     "output_type": "execute_result"
    }
   ],
   "source": [
    "from signals_notebook.api import SignalsNotebookApi\n",
    "SignalsNotebookApi.init(SN_API_HOST, SN_API_KEY)"
   ],
   "metadata": {
    "collapsed": false,
    "pycharm": {
     "name": "#%%\n"
    }
   }
  },
  {
   "cell_type": "code",
   "execution_count": 3,
   "outputs": [
    {
     "data": {
      "text/plain": "User(is_enabled=True, id='119', username='evgeniy.pokidov@quantori.com', email='evgeniy.pokidov@quantori.com', alias='evgeniy.pokidov', first_name='Evgeniy', last_name='Pokidov', country='USA', organization='quantori', created_at=datetime.datetime(2022, 1, 24, 13, 25, 24, 180000, tzinfo=datetime.timezone.utc), last_login_at=datetime.datetime(2022, 6, 24, 13, 15, 28, 657000, tzinfo=datetime.timezone.utc))"
     },
     "execution_count": 3,
     "metadata": {},
     "output_type": "execute_result"
    }
   ],
   "source": [
    "from signals_notebook.entities import UserStore\n",
    "\n",
    "user = UserStore.get('119')\n",
    "user"
   ],
   "metadata": {
    "collapsed": false,
    "pycharm": {
     "name": "#%%\n"
    }
   }
  },
  {
   "cell_type": "code",
   "execution_count": 4,
   "outputs": [
    {
     "data": {
      "text/plain": "User(is_enabled=True, id='103', username='sergey.kuznetsov@quantori.com', email='sergey.kuznetsov@quantori.com', alias=None, first_name='Sergey', last_name='Kuznetsov', country='USA', organization='quantori', created_at=datetime.datetime(2021, 11, 3, 3, 0, 6, 567000, tzinfo=datetime.timezone.utc), last_login_at=datetime.datetime(2022, 7, 1, 12, 51, 46, 495000, tzinfo=datetime.timezone.utc))"
     },
     "execution_count": 4,
     "metadata": {},
     "output_type": "execute_result"
    }
   ],
   "source": [
    "current_user_profile = UserStore.get_current_user()\n",
    "current_user = UserStore.get(current_user_profile.id)\n",
    "current_user"
   ],
   "metadata": {
    "collapsed": false,
    "pycharm": {
     "name": "#%%\n"
    }
   }
  },
  {
   "cell_type": "code",
   "execution_count": 5,
   "outputs": [],
   "source": [
    "from signals_notebook.common_types import File\n",
    "\n",
    "file = current_user.picture\n",
    "assert isinstance(file, File)"
   ],
   "metadata": {
    "collapsed": false,
    "pycharm": {
     "name": "#%%\n"
    }
   }
  },
  {
   "cell_type": "code",
   "execution_count": 6,
   "outputs": [
    {
     "data": {
      "text/plain": "[Group(type=<ObjectType.GROUP: 'group'>, eid='group:101', id='101', is_system=True),\n Group(type=<ObjectType.GROUP: 'group'>, eid='group:102', id='102', is_system=True)]"
     },
     "execution_count": 6,
     "metadata": {},
     "output_type": "execute_result"
    }
   ],
   "source": [
    "user.get_system_groups()"
   ],
   "metadata": {
    "collapsed": false,
    "pycharm": {
     "name": "#%%\n"
    }
   }
  },
  {
   "cell_type": "code",
   "execution_count": 7,
   "outputs": [
    {
     "data": {
      "text/plain": "User(is_enabled=True, id='119', username='evgeniy.pokidov@quantori.com', email='evgeniy.pokidov@quantori.com', alias='evgeniy.pokidov', first_name='NEW', last_name='Pokidov', country='USA', organization='quantori', created_at=datetime.datetime(2022, 1, 24, 13, 25, 24, 180000, tzinfo=datetime.timezone.utc), last_login_at=datetime.datetime(2022, 6, 24, 13, 15, 28, 657000, tzinfo=datetime.timezone.utc))"
     },
     "execution_count": 7,
     "metadata": {},
     "output_type": "execute_result"
    }
   ],
   "source": [
    "user.first_name = 'NEW'\n",
    "user"
   ],
   "metadata": {
    "collapsed": false,
    "pycharm": {
     "name": "#%%\n"
    }
   }
  },
  {
   "cell_type": "code",
   "execution_count": 8,
   "outputs": [
    {
     "data": {
      "text/plain": "User(is_enabled=True, id='119', username='evgeniy.pokidov@quantori.com', email='evgeniy.pokidov@quantori.com', alias='evgeniy.pokidov', first_name='Evgeniy', last_name='Pokidov', country='USA', organization='quantori', created_at=datetime.datetime(2022, 1, 24, 13, 25, 24, 180000, tzinfo=datetime.timezone.utc), last_login_at=datetime.datetime(2022, 6, 24, 13, 15, 28, 657000, tzinfo=datetime.timezone.utc))"
     },
     "execution_count": 8,
     "metadata": {},
     "output_type": "execute_result"
    }
   ],
   "source": [
    "user.refresh()\n",
    "user"
   ],
   "metadata": {
    "collapsed": false,
    "pycharm": {
     "name": "#%%\n"
    }
   }
  },
  {
   "cell_type": "code",
   "execution_count": 9,
   "outputs": [],
   "source": [
    "from signals_notebook.entities import User\n",
    "\n",
    "users = UserStore.get_list()\n",
    "for item in users:\n",
    "    assert isinstance(item, User)"
   ],
   "metadata": {
    "collapsed": false,
    "pycharm": {
     "name": "#%%\n"
    }
   }
  },
  {
   "cell_type": "code",
   "execution_count": 10,
   "outputs": [
    {
     "data": {
      "text/plain": "User(is_enabled=True, id='119', username='evgeniy.pokidov@quantori.com', email='evgeniy.pokidov@quantori.com', alias='evgeniy.pokidov', first_name='Evgeniy', last_name='Pokidov', country='USA', organization='quantori', created_at=datetime.datetime(2022, 1, 24, 13, 25, 24, 180000, tzinfo=datetime.timezone.utc), last_login_at=datetime.datetime(2022, 6, 24, 13, 15, 28, 657000, tzinfo=datetime.timezone.utc))"
     },
     "execution_count": 10,
     "metadata": {},
     "output_type": "execute_result"
    }
   ],
   "source": [
    "user"
   ],
   "metadata": {
    "collapsed": false,
    "pycharm": {
     "name": "#%%\n"
    }
   }
  },
  {
   "cell_type": "markdown",
   "source": [],
   "metadata": {
    "collapsed": false,
    "pycharm": {
     "name": "#%% md\n"
    }
   }
  },
  {
   "cell_type": "code",
   "execution_count": 13,
   "outputs": [
    {
     "data": {
      "text/plain": "User(is_enabled=True, id='144', username='unique2@quantori.com', email='unique2@quantori.com', alias='alias2', first_name='first_name', last_name='last_name', country='USA', organization='orga', created_at=datetime.datetime(2022, 7, 1, 12, 52, 18, 810000, tzinfo=datetime.timezone.utc), last_login_at=None)"
     },
     "execution_count": 13,
     "metadata": {},
     "output_type": "execute_result"
    }
   ],
   "source": [
    "from signals_notebook.entities.users.user import UserCreationBody\n",
    "\n",
    "new_user_body = UserCreationBody(\n",
    "    alias='alias2',\n",
    "    country='USA',\n",
    "    email='unique2@quantori.com',\n",
    "    first_name='first_name',\n",
    "    last_name='last_name',\n",
    "    organization='orga',\n",
    ")\n",
    "new_user = User.create(request=new_user_body)\n",
    "new_user"
   ],
   "metadata": {
    "collapsed": false,
    "pycharm": {
     "name": "#%%\n"
    }
   }
  },
  {
   "cell_type": "code",
   "execution_count": 15,
   "outputs": [],
   "source": [
    "new_user.alias = f'{new_user.first_name.lower()}.{new_user.last_name.lower()}'\n",
    "new_user.save()"
   ],
   "metadata": {
    "collapsed": false,
    "pycharm": {
     "name": "#%%\n"
    }
   }
  },
  {
   "cell_type": "code",
   "execution_count": 16,
   "outputs": [
    {
     "data": {
      "text/plain": "User(is_enabled=True, id='144', username='unique2@quantori.com', email='unique2@quantori.com', alias='first_name.last_name', first_name='first_name', last_name='last_name', country='USA', organization='orga', created_at=datetime.datetime(2022, 7, 1, 12, 52, 18, 810000, tzinfo=datetime.timezone.utc), last_login_at=None)"
     },
     "execution_count": 16,
     "metadata": {},
     "output_type": "execute_result"
    }
   ],
   "source": [
    "new_user.refresh()\n",
    "new_user"
   ],
   "metadata": {
    "collapsed": false,
    "pycharm": {
     "name": "#%%\n"
    }
   }
  },
  {
   "cell_type": "code",
   "execution_count": 17,
   "outputs": [],
   "source": [
    "new_user.delete()"
   ],
   "metadata": {
    "collapsed": false,
    "pycharm": {
     "name": "#%%\n"
    }
   }
  },
  {
   "cell_type": "code",
   "execution_count": 18,
   "outputs": [
    {
     "data": {
      "text/plain": "User(is_enabled=False, id='144', username='unique2@quantori.com', email='unique2@quantori.com', alias='first_name.last_name', first_name='first_name', last_name='last_name', country='USA', organization='orga', created_at=datetime.datetime(2022, 7, 1, 12, 52, 18, 810000, tzinfo=datetime.timezone.utc), last_login_at=None)"
     },
     "execution_count": 18,
     "metadata": {},
     "output_type": "execute_result"
    }
   ],
   "source": [
    "UserStore.get(new_user.id)"
   ],
   "metadata": {
    "collapsed": false,
    "pycharm": {
     "name": "#%%\n"
    }
   }
  },
  {
   "cell_type": "code",
   "execution_count": null,
   "outputs": [],
   "source": [],
   "metadata": {
    "collapsed": false,
    "pycharm": {
     "name": "#%%\n"
    }
   }
  }
 ],
 "metadata": {
  "kernelspec": {
   "display_name": "Python 3",
   "language": "python",
   "name": "python3"
  },
  "language_info": {
   "codemirror_mode": {
    "name": "ipython",
    "version": 2
   },
   "file_extension": ".py",
   "mimetype": "text/x-python",
   "name": "python",
   "nbconvert_exporter": "python",
   "pygments_lexer": "ipython2",
   "version": "2.7.6"
  }
 },
 "nbformat": 4,
 "nbformat_minor": 0
}
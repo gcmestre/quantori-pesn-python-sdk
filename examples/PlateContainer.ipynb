{
 "cells": [
  {
   "cell_type": "code",
   "execution_count": 1,
   "outputs": [],
   "source": [
    "%load_ext dotenv\n",
    "%dotenv\n",
    "import os\n",
    "\n",
    "SN_API_HOST = os.getenv('SN_API_HOST')\n",
    "SN_API_KEY = os.getenv('SN_API_KEY')"
   ],
   "metadata": {
    "collapsed": false,
    "pycharm": {
     "name": "#%%\n"
    }
   }
  },
  {
   "cell_type": "code",
   "execution_count": 2,
   "outputs": [
    {
     "data": {
      "text/plain": "<signals_notebook.api.SignalsNotebookApi at 0x140f984a490>"
     },
     "execution_count": 2,
     "metadata": {},
     "output_type": "execute_result"
    }
   ],
   "source": [
    "from signals_notebook.api import SignalsNotebookApi\n",
    "SignalsNotebookApi.init(SN_API_HOST, SN_API_KEY)"
   ],
   "metadata": {
    "collapsed": false,
    "pycharm": {
     "name": "#%%\n"
    }
   }
  },
  {
   "cell_type": "code",
   "execution_count": 3,
   "outputs": [],
   "source": [
    "from signals_notebook.entities import EntityStore\n",
    "\n",
    "experiment = EntityStore.get(\"experiment:1cf65229-dea3-4bdb-b6c5-daf8565e39a0\")"
   ],
   "metadata": {
    "collapsed": false,
    "pycharm": {
     "name": "#%%\n"
    }
   }
  },
  {
   "cell_type": "code",
   "execution_count": 4,
   "outputs": [],
   "source": [
    "plate_container = list(experiment.get_children())[-1]"
   ],
   "metadata": {
    "collapsed": false,
    "pycharm": {
     "name": "#%%\n"
    }
   }
  },
  {
   "cell_type": "code",
   "execution_count": 5,
   "outputs": [
    {
     "data": {
      "text/plain": "PlateContainer(type=<EntityType.PLATE_CONTAINER: 'plateContainer'>, eid='plateContainer:8728059f-8472-4872-929b-fa033e724fe3', digest='34718742', name='Plates-1', description='', created_at=datetime.datetime(2022, 7, 13, 9, 37, 5, 73000, tzinfo=datetime.timezone.utc), edited_at=datetime.datetime(2022, 7, 13, 9, 37, 29, 391000, tzinfo=datetime.timezone.utc))"
     },
     "execution_count": 5,
     "metadata": {},
     "output_type": "execute_result"
    }
   ],
   "source": [
    "plate_container"
   ],
   "metadata": {
    "collapsed": false,
    "pycharm": {
     "name": "#%%\n"
    }
   }
  },
  {
   "cell_type": "code",
   "execution_count": 6,
   "outputs": [
    {
     "data": {
      "text/plain": "PlateRow(id=UUID('869491dc-bf8b-3c43-a225-629e2c10900a'), type=<ObjectType.PLATE_ROW: 'plateRow'>, cells=[PlateCell(id=UUID('76a7d17a-75b7-39a5-8549-05f073a064e3'), type=<ColumnDataType.TEXT: 'TEXT'>, name='Well ID', content=CellContent(user='A1', value='A1', values=None)), PlateCell(id=UUID('59f9b60c-a571-3c8e-982d-cdfe7e88e23c'), type=<ColumnDataType.TEXT: 'TEXT'>, name='Row', content=CellContent(user='A', value='A', values=None)), PlateCell(id=UUID('b5ff1ac8-310e-3848-9367-a4b8f4dc7ecc'), type=<ColumnDataType.INTEGER: 'INTEGER'>, name='Column', content=CellContent(user='1', value=1, values=None)), PlateCell(id=UUID('5a79aad4-7b07-39f1-9634-a2669a149a5b'), type=<ColumnDataType.TEXT: 'TEXT'>, name='Plate', content=CellContent(user='Plate-1', value='Plate-1', values=None)), PlateCell(id=UUID('43a9fcf2-bf40-3ed0-ba54-204275f053df'), type=<ColumnDataType.INTEGER: 'INTEGER'>, name='Order', content=CellContent(user='1', value=1, values=None)), PlateCell(id=UUID('f2053c2d-985d-3343-97e4-ae35b7fbe9d3'), type=<ColumnDataType.TEXT: 'TEXT'>, name='Plate ID', content=CellContent(user='d', value='d', values=None))])"
     },
     "execution_count": 6,
     "metadata": {},
     "output_type": "execute_result"
    }
   ],
   "source": [
    "plate_container[0]"
   ],
   "metadata": {
    "collapsed": false,
    "pycharm": {
     "name": "#%%\n"
    }
   }
  },
  {
   "cell_type": "code",
   "execution_count": 7,
   "outputs": [
    {
     "data": {
      "text/plain": "PlateCell(id=UUID('76a7d17a-75b7-39a5-8549-05f073a064e3'), type=<ColumnDataType.TEXT: 'TEXT'>, name='Well ID', content=CellContent(user='A1', value='A1', values=None))"
     },
     "execution_count": 7,
     "metadata": {},
     "output_type": "execute_result"
    }
   ],
   "source": [
    "plate_container[0][0]"
   ],
   "metadata": {
    "collapsed": false,
    "pycharm": {
     "name": "#%%\n"
    }
   }
  },
  {
   "cell_type": "code",
   "execution_count": 8,
   "outputs": [
    {
     "name": "stdout",
     "output_type": "stream",
     "text": [
      "b'\\xff\\xd8\\xff\\xe0\\x00\\x10JFIF\\x00\\x01\\x01\\x00\\x00\\x01\\x00\\x01\\x00\\x00\\xff\\xdb\\x00\\x84\\x00\\t\\x06\\x07\\x0f\\x10\\x0f\\x10\\x10\\x10\\x10\\x12\\x10\\x10\\x13\\x11\\x11\\x10\\x10\\x18\\x16\\x10\\x17\\x10\\x10\\x0f\\x12\\x17\\x16\\x16\\x17\\x19\\x17\\x18\\x18\\x19\\x1d( \\x18\\x1d1\\'\\x16\\x19!1\"\\')+0/.\\x18\\x1f38?-C(-/+\\x01\\n\\n\\n\\x0e\\r\\x0e\\x16\\x10\\x10\\x177%\\x1f\\x1e-7-/+0++++7++07/.7-+++++252+/5-+-7/--/-/--+-++1+77\\xff\\xc0\\x00\\x11\\x08\\x00\\xc8\\x00\\xc8\\x03\\x01\"\\x00\\x02\\x11\\x01\\x03\\x11\\x01\\xff\\xc4\\x00\\x1c\\x00\\x01\\x00\\x02\\x02\\x03\\x01\\x00\\x00\\x00\\x00\\x00\\x00\\x00\\x00\\x00\\x00\\x00\\x05\\x07\\x06\\x08\\x01\\x03\\x04\\x02\\xff\\xc4\\x00>\\x10\\x00\\x02\\x02\\x01\\x01\\x05\\x05\\x04\\x07\\x06\\x05\\x05\\x00\\x00\\x00\\x00\\x00\\x01\\x02\\x03\\x04\\x11\\x05\\x06\\x12!1\\x07AQa\\x91\\x13\"q\\x8123Br\\xa1\\xb1\\xc1Rb\\x82\\x92\\xd1\\xe1\\x14#S\\xc2\\xf0\\x15$\\xa2\\xb2\\xd2\\xff\\xc4\\x00\\x1b\\x01\\x01\\x01\\x00\\x03\\x01\\x01\\x01\\x00\\x00\\x00\\x00\\x00\\x00\\x00\\x00\\x00\\x00\\x01\\x02\\x04\\x05\\x03\\x06\\x07\\xff\\xc4\\x00&\\x11\\x01\\x00\\x02\\x02\\x01\\x04\\x01\\x03\\x05\\x00\\x00\\x00\\x00\\x00\\x00\\x00\\x00\\x01\\x02\\x03\\x11\\x04\\x05\\x12!1\\x13Aaq2BQ\\xb1\\xd1\\xff\\xda\\x00\\x0c\\x03\\x01\\x00\\x02\\x11\\x03\\x11\\x00?\\x00\\xbc@\\x00\\x00\\x00\\x00\\x00\\x00\\x00\\x00\\x00\\x00\\x00\\x00\\x00\\x00\\x00\\x00\\x00\\x00\\x00\\x00\\x00\\x00\\x00\\x00\\x00\\x00\\x00\\x00\\x00\\x00\\x00\\x00\\x00\\x00\\x00\\x00\\x00\\x00:\\xed\\xb21NRj)-[oD\\x90\\x1f`\\xc5s\\xf7\\xef\\x12\\xb7\\xc3\\x0e;\\x9a\\xef\\x8a\\xd2>\\xafC\\xaf\\x17\\xb4\\x0cY=\\'\\x0b+\\xf3qR\\x8a\\xf4z\\xfe\\x07\\x9f\\xcbM\\xebm\\xb8\\xe0r&\\xbd\\xdf\\x1c\\xb2\\xe0y\\xf0\\xf3+\\xba\\nu\\xcdN/\\xa3OTz\\x0fHj\\xccLN\\xa5\\xc8\\x00 \\x00\\x00\\x00\\x00\\x00\\x00\\x00\\x00\\x00\\x00\\x00\\x00\\x00\\x00p|\\xd9db\\x9c\\xa4\\xd4b\\x96\\xad\\xb7\\xa2Iw\\xb7\\xdc`;\\xc7\\xda\\x96-\\x0eP\\xc5\\x8f\\xf8\\xab\\x17.-xiO\\xe3\\xd6_.^`X \\xd7\\x9d\\xb1\\xbf\\xbbK%\\xb5,\\x87T\\x1f\\xd9\\xab\\xfc\\xa8\\xfa\\xafy\\xfc\\xd9\\x1f\\xb06\\xf6N.L.\\xaa\\xc9\\xb9q\\xae(\\xf16\\xaeM\\xadc%\\xdf\\xa9t\\x9bl\\xa9Vo\\xbe\\xf0K\"\\xd9S\\x07\\xa5\\x15\\xbd9?\\xac\\x92\\xea\\xdf\\x97\\x81em+\\\\)\\xb6k\\xack\\x9c\\x97\\xc5E\\xb2\\x8el\\xd4\\xe4\\xdeb\"!\\xde\\xe8|z\\xde\\xf6\\xc9o\\xdb\\xe9\\xc0\\x00\\xd1}J_v\\xf6\\xe5\\x98w)&\\xddm\\xa5l{\\xa5\\x1f\\x1f\\x8a.\\nm\\x8c\\xe3\\x19E\\xeb\\x19%$\\xd7F\\x9f4Q\\x05\\xbd\\xb9\\x16\\xb9l\\xfa\\x1b\\xea\\x94\\xa3\\xf2\\x8c\\xa5\\x15\\xf8#s\\x8by\\xf3W\\xceu\\xde=b+\\x96=\\xcf\\x89O\\x00\\r\\xc7\\xce\\x00\\x00\\x00\\x00\\x00\\x00\\x00\\x00\\x00\\x00\\x00\\x00\\x04N\\xf1o\\x06>\\x05.\\xdb\\xe5\\xa7U\\x08\\xaes\\xb2^\\x11Cy\\xb6\\xf58\\x18\\xf2\\xbe\\xd7\\xd3\\xdd\\x84S\\xf7\\xad\\x9b\\xe9\\x15\\xff\\x00;\\x99\\xaf{\\xc1\\xb7/\\xce\\xbeW\\xdf-[\\xe5\\x14\\xbe\\x85q\\xee\\x8cW\\x81Re%\\xbd\\xbb\\xe7\\x95\\xb4$\\xd4\\x9f\\xb3\\xa3]cT_\\xbb\\xf1\\x93\\xfbo\\xfe#\\x1b\\x8c[i%\\xaboD\\x97W\\xfdI}\\xda\\xdd\\xcc\\x9d\\xa1o\\xb3\\xa2<\\x97;&\\xf9WR}\\xed\\xf8\\xf9\\x17~\\xea\\xee^&\\xcf\\x8ap\\x8f\\xb5\\xbf\\xed[5\\xef\\xff\\x00\\n\\xfb\\x0b\\xe1\\xea\\xcb\\xe9=\\xaa\\xbd\\x83\\xd9\\xae\\xd0\\xc9JVEcV\\xf4z\\xd9\\xf5\\x8dyAs_=\\x0b\\x07w;3\\xc3\\xc4\\xb2\\x17Ns\\xc8\\xb6\\rJ<IF\\xb8\\xc9t\\x97\\x02\\xef\\xf8\\xb6g \\x9b]:\\xee\\x82\\x94e\\x17\\xcd4\\xd3\\xf82\\x90\\xdaXR\\xa2\\xeb*\\x9a\\xe7\\t5\\xf1]S\\xf9\\xaee\\xe4c\\xdb\\xd3\\xbb0\\xcc\\\\Qj\\x17Ei\\x19wIxK\\xc8\\xd7\\xcf\\x8eo\\x1e=\\xba\\xbd/\\x9b\\x1cl\\x93\\x17\\xfd6T\\xa0\\x95\\xcf\\xdd\\xdc\\xca^\\x93\\xa2mx\\xc5q\\xc5\\xfc\\xd1\\xd5\\x8b\\xb12\\xedzB\\x8b\\x1f\\xc6\\x0e1\\xf5|\\x8d\\x0e\\xcboZ}drp\\xcd{\\xa2\\xf1\\xaf\\xcb\\xc3\\x0895\\x14\\x9bm\\xe8\\x92\\xea\\xd9t\\xec\\x1c\\x1f\\xf0\\xf8\\xd4\\xd5\\xdf\\x18./\\xbc\\xf9\\xcb\\xf1l\\x80\\xddM\\xcfX\\xf2W^\\xd4\\xee_F+\\x9ck\\xf3\\xf3goi\\x99wU\\xb3/\\x9d-\\xc6O\\x82\\x12\\x92\\xfaP\\x84\\xa4\\x94\\x9f\\x97\\x87\\xcc\\xde\\xe3\\xe2\\x9a\\xf9\\x97\\xccu~}s\\xccR\\x9e\\xa3\\xfbdUf\\xd39\\xba\\xe3mr\\x9a\\xfaQS\\x8b\\x9c~)=Q\\xe95c\\x17&\\xca\\xa7\\x1b+\\x9b\\x84\\xe2\\xf8\\xa3$\\xf4\\x94Y|v\\x7f\\xbe1\\xda5p\\xcfH\\xe5V\\x97\\xb4\\x8fE5\\xd3\\x8e?\\xaa\\xee\\x7f#gN,K/\\x00\\x11@\\x00\\x00\\x00\\x00\\x00\\x00\\x00\\x03\\xae\\xdb\\x14b\\xe5&\\xa3\\x18\\xa7)7\\xc9E.\\xad\\x9fe\\x7f\\xdb\\x0e\\xdetb\\xc7\\x16\\x0fK25\\xe3\\xd3\\xaa\\xa6=}[K\\xe0\\xa4\\x05o\\xbf{\\xcd-\\xa1\\x95)\\xa6\\xd5\\x15\\xeb\\n#\\xfb\\xbf\\xb4\\xfc\\xdf_E\\xdcx\\xf7[w\\xee\\xda\\x191\\xa2\\xbeK\\xe9[6\\xbd\\xda\\xa1\\xcbW\\xe7\\xe4\\xbc\\xc8\\x98\\xc5\\xb6\\x92Z\\xb6\\xf4Iuo\\xf56\\x17p\\xb7n;?\\x120i{{4\\x9d\\xef\\xf7\\xbb\\xa3\\xaf\\x82\\xe9\\xeb\\xe2e\\xe9\\x8f\\xb4\\xae\\xc3\\xd8\\xf4a\\xd1\\x1a(\\x8f\\x0c#\\xd5\\xfd\\xa9\\xcb\\xbeR}\\xec\\x91\\x00\\xc5\\x90\\x00\\x00\\x00\\x01\\xa1\\xc6\\x87 \\x01\\xd5}0\\xb2\\x12\\x84\\xe2\\xa7\\t\\'\\x19&\\xb5\\x8c\\x93\\xea\\x9a;@\\x14\\'h\\x9b\\x9a\\xf6}\\xbe\\xd2\\xa4\\xde-\\x8f\\xdc}]R\\xeb\\xec\\xdb\\xfc\\x9f\\xf41\\xad\\x8f\\xb4\\xed\\xc4\\xbe\\xbc\\x8a^\\x93\\x84\\xb5^\\x12]\\x1c_\\x93OCd\\xf6\\xc6\\xcd\\xab*\\x8b1\\xedZ\\xd7dx_\\x8a}T\\x97\\x83O\\x99\\xad\\xbboe\\xd9\\x89\\x91n=\\x9fJ\\xb9i\\xafE$\\xf9\\xc6K\\xc9\\xa6\\x99a\\x8c\\xb6;`mz\\xf31\\xaa\\xc8\\xad\\xfb\\xb3\\x8e\\xadw\\xc2]%\\x17\\xf0d\\x89Lv7\\xb7\\x9dY\\x13\\xc3\\x9b\\xff\\x00.\\xefz\\xbf\\x05lW\\xea\\x97\\xfe(\\xb9\\xc8\\xb0\\x00\\x02\\x80\\x00\\x00\\x00\\x00\\x00\\x06\\xbcv\\x8d\\xb5^N\\xd2\\xc8\\x96\\xba\\xc2\\xb9{\\n\\xfe\\xedz\\xa7\\xea\\xf8\\x9f\\xcc\\xd8sZ7\\x8bbdb\\xe4\\xd9U\\xd0\\x97\\x17\\x1c\\xb8%\\xc2\\xf4\\xb96\\xda\\x94_~\\xa5\\x84\\x94\\xf7e\\x1b\\x15d\\xed\\x08\\xd9%\\xadx\\xeb\\xdb?\\x07>\\x90^\\xbc\\xff\\x00\\x84\\xbeL\\x1b\\xb2}\\x83f&\\x1c\\xe7t\\x1c-\\xbejz5\\xa4\\xa3\\\\V\\x90\\xd5uO\\x9c\\x9e\\x9efr$\\x80\\x00E\\x08-\\xe6\\xde\\xbcM\\x9f\\x14\\xef\\x9e\\xb3kXW\\x1fz\\xc9\\xf9\\xe9\\xd1/67\\xcbx#\\xb3\\xf1\\'{\\xd2V?r\\x98\\xfe\\xdd\\x8f]>KF\\xdf\\x925\\xdfhf\\xdb\\x91l\\xee\\xban\\xcb&\\xf8\\xa4\\xdf\\x7f\\xf4,BL\\xac\\x1d\\xa1\\xda\\xf6T\\xa4\\xfd\\x86=U\\xc7\\xbb\\x8d\\xca\\xd9~\\x0e+\\xe4tb\\xf6\\xb7\\x9f\\x17\\xfee8\\xf6G\\xbfH\\xce\\x12\\xf5\\xe2iz\\x15\\xe8.\\x98\\xed\\x7fn\\xb7h8y\\xd2U=q\\xef|\\x94&\\xf5S\\x7f\\xb9>\\x92\\xf8rf^j\\x9ams\\\\\\x9fT^\\x1d\\x96\\xefl\\xb3i\\x96=\\xf2\\xe2\\xc8\\xa5&\\xa4\\xfa\\xddWN\\'\\xe6\\xb9\\'\\xf1D\\x98e\\x12\\xcf\\x00\\x04P\\xaa\\xfbk\\xd8\\xda\\xc6\\x9c\\xd8\\xaei\\xfb\\x0b|\\xd3\\xd6P\\x7f\\xfb/\\x9a-B\\x0f}p\\x16F\\xce\\xcb\\xabM_\\xb2\\x94\\xe3\\xf7\\xe1\\xef\\xc7\\xf1\\x8a\\t-v\\xc1\\xca\\x9d6\\xd7t\\x1e\\x93\\xaeq\\xb2?\\x18\\xb4\\xcd\\x9d\\xc0\\xca\\x8d\\xd4\\xd5t>\\x8d\\x90\\x85\\x91\\xf8I&\\xbf3V\\x8b\\xfb\\xb2\\xbc\\xdfk\\xb2\\xa8M\\xea\\xebvR\\xfeRm~\\rz\\x16R\\x19x\\x00\\x8c\\x80\\x00\\x00\\x00\\x03\\x80|[5\\x14\\xe5&\\x94Rm\\xb7\\xd1%\\xcfPL\\xe9\\xf6y\\xee\\xcd\\xaa\\x0fI\\xd9\\x08\\xbf\\x074\\x99Yo>\\xf9]|\\xa5]\\x12uP\\x9e\\x9a\\xafvv\\xf9\\xb7\\xd5//S\\x14l\\xde\\xc7\\xc2\\x99\\x8d\\xdat\\xe3\\xe6\\xea\\xd5\\xad\\xbbi\\x1b\\xfb\\xaf\\xd8Y\\x19-b\\xd3]\\xda=Q\\xf6Q[?i_\\x8f.:l\\x94\\x1f-t~\\xeb\\xf8\\xae\\x8c\\xb4\\xf7Gy#\\x9b\\x06\\xa4\\x94o\\x86\\x9cq]\\x1a\\xfd\\xa8\\xf9~G\\x96n5\\xb1\\xc6\\xfd\\xc3\\xdf\\x89\\xd4i\\x9e{f5,\\x8c\\x00k:*o\\xb6\\xdc\\xe7,\\xacz5\\xf7k\\xa5\\xdb\\xfcS\\x93\\\\\\xfeP^\\xa5lX]\\xb5c8\\xe7\\xd5g\\xd9\\x9e<R\\xfb\\xd1\\x9c\\xf5\\xfc\\xe3\\xeaW\\xa6P\\xc2@\\x00\\x03#\\xec\\xf39\\xd1\\xb51$\\x9f)\\xd8\\xa9\\x97\\x9a\\xb3\\xdc\\xfc\\xda\\x7f#\\x1c\\'7#\\x19\\xdb\\xb4\\xf0\\xa2\\xba\\xac\\x8a\\xe6\\xfe\\x15\\xbe7\\xf8E\\x81\\xb2 \\x03\\x16a\\xf38\\xa6\\x9a}\\x1ai\\xfc\\x0f\\xa3\\x805Z\\xe8p\\xcaQ\\xf0n>\\x9a\\x97\\'b6k\\x85\\x91\\x1f\\x0c\\x97/Z\\xe1\\xfd\\nw&|S\\x9c\\x97G)K\\xd5\\xb2\\xe0\\xecB\\x1f\\xf6y2\\xeey\\x1azB/\\xf52\\x960\\xb2\\x00\\x06,\\x80\\x00\\x00\\x00\\x1c\\x18\\xafh\\xf9\\xae\\xac>\\x08\\xbd\\x1d\\xb3U\\xbf\\x1e\\x1er\\x7f\\x92_3*0\\xfe\\xd3q\\x9c\\xb1!4\\xbe\\xae\\xd8\\xb9yE\\xa7\\x1d}Z\\xf5=pk\\xe4\\xae\\xda\\xbc\\xd9\\x98\\xc1~\\xdf\\xe1W\\x80\\x0e\\xe3\\xe3\\xc2[u3]\\x19\\xb4M>Nj\\xb9x8\\xcf\\x93\\xfc\\xf5\\xf9\\x11$\\x8e\\xefc;r\\xf1\\xe0\\xbb\\xed\\x83\\x7fv/\\x89\\xfe\\t\\x98d\\xd7l\\xed\\xeb\\x82f2W^\\xf6\\xbc\\x10\\x08\\x1c\\x17\\xda\\xb1\\x0e\\xd37q\\xe7a\\xebR\\xd6\\xfa[\\xb2\\xa5\\xdf4\\xd7\\xbd\\x0f\\x9e\\x89\\xfcb\\x8a\\t\\xad9>O\\xa3\\xf9\\x1bX`{\\xe9\\xd9\\xcd9\\x92\\x95\\xf8\\xf2Td>r\\xd5\\x7f\\x95k\\xf1z}\\x17\\xe6\\xbd\\x0b\\x12\\x93\\n8\\x19\\x1e\\xd1\\xdcm\\xa9CjX\\x96Mw:\\x97\\xb6O\\xf95~\\xa7F.\\xe8m+_\\x0cp\\xafO\\xf7\\xebuG\\xd6z$V(2\\xd9\\xecsv\\xa5\\x1e,\\xfbc\\xa6\\xb1u\\xe3\\xa6\\xba\\xaf\\xb5?\\xd1|\\xc6\\xeavU\\xc3(\\xdb\\x9f(\\xcbNj\\xa8=S\\xfb\\xf2\\xfd\\x17\\xa9h\\xd7\\x05\\x14\\xa3\\x14\\x94RI$\\xb4I.Z%\\xdcI\\x95\\x88}\\x80\\x08\\xc8#7\\x977\\xd8ad\\xdd\\xae\\x9c\\x14\\xd8\\xe3\\xf7\\xb8_\\x0f\\xe3\\xa1&@\\xef\\xb6\\xca\\xb33g\\xe4c\\xd5\\xf5\\x92\\x8c\\\\9\\xe8\\xa4\\xe18\\xcf\\x87\\x9f.|:\\x01\\xae\\x05\\xf1\\xd9\\x16\\'\\xb3\\xd9p\\x97\\xfa\\xb6\\xdbo\\xe2\\xab\\xff\\x00aOb\\xee\\xd6u\\x97*#\\x8bw\\xb4\\xd7F\\x9dr\\x8a\\x8f\\x9c\\x9b\\xe4\\x97\\x99\\xb1\\x1b\\x13g\\xaclj1\\xd7?e\\\\ \\xdf\\xed4\\xb9\\xbf\\x9b\\xd5\\xfc\\xcb,a\\xee\\x00\\x11\\x90\\x00\\x00\\x00\\x00y\\xb3\\xb1aus\\xaakX\\xce./\\xe0\\xff\\x00S\\xd0\\x04xI\\x88\\x98\\xd4\\xa9m\\xe1\\xd8\\x17a\\xd8\\xe34\\xddm\\xfb\\x93\\xd3\\xdd\\x92\\xfd\\x1f\\x91\\x10_\\x97S\\x19\\xc5\\xc6qR\\x8b\\xe4\\xd3Z\\xa7\\xf2d%\\xdb\\x9b\\xb3\\xe4\\xf5t$\\xff\\x00vs\\x82\\xf4ODtq\\xf3cZ\\xb48Y\\xfaD\\xcd\\xb7\\x8e|}\\xd5\\x04 \\xe4\\xd2I\\xb6\\xde\\x89%\\xabl\\xb3w\\x13ve\\x8e\\x9eE\\xebKd\\xb4\\x8c\\x7f\\xd3\\x8f\\x9f\\x9b\\xfc\\x0c\\x83gl<\\\\~t\\xd3\\x08?\\x1d8\\xa5\\xfc\\xcf\\x99\\r\\x9b\\xda\\x0e\\xcc\\xaa\\xe7L\\xaf\\xd6I\\xf0\\xc9\\xc6\\xb9N\\xb8>\\x8fY%\\xcf\\xe5\\xa9\\xe5\\x9f\\x959#\\xb6\\xb1\\xe1\\xb1\\xc3\\xe9\\xb1\\x86\\xdd\\xf7\\x9d\\xcb+\\x07U\\x17Fq\\x8c\\xe1%8I)E\\xa7\\xacd\\x9fF\\x99\\xdai\\xba\\xc0\\x00\\x00\\x00\\x00\\x00\\x0e5\"\\xb2\\xf6\\xccb\\xda\\x82\\xe2~?g\\xfb\\x9cm\\xcc\\x97\\x14\\xa0\\x9e\\x8e_K\\xe0A\\x1f3\\xd5\\xfa\\xbd\\xf1_\\xe1\\xc3\\xe2c\\xdc\\xff\\x00\\x8d\\xcc\\x18\"\\xd1\\xddd\\x97\\xfdf\\xdf\\x08\\xfa\\x7fs\\xd9\\x89\\xb6#\\'\\xa4\\xd7\\x0b\\xf1\\xd7\\x97\\xf6 A\\xc6\\xc3\\xd69X\\xed\\xb9\\xbe\\xfe\\xd2\\xd8\\xb7\\x1e\\x93\\x1a\\xd33L\\x11[\\x0f%\\xca.\\r\\xf3\\x8fO\\x81*}\\xb7\\x13\\x91^F*\\xe4\\xaf\\xd5\\xcd\\xbd&\\x96\\x98\\x97 \\x03e\\x88\\x00\\x00\\x00\\x00\\x00\\x00\\x00\\x03\\xcd\\xb4*\\x9c\\xe9\\xb6\\x15\\xbe\\x19\\xca\\xb9\\xc6\\x0f\\xf6d\\xe2\\xd2~\\xa6\\xb0\\xe5c\\xce\\xa9\\xca\\xbb\"\\xe1d\\x1b\\x8c\\xa2\\xd6\\x8e,\\xdas\\x10\\xdf\\xad\\xc8\\xabh\\xc7\\xdaCJ\\xb2\\xa2\\xb4\\x8c\\xf4\\xf7lK\\xec\\xcfO\\xcf\\xaa,$\\xc2\\xb3\\xdcM\\xfb\\xb7g\\xb5U\\xa9\\xdb\\x88\\xde\\xae:\\xfb\\xf4\\xbe\\xf7\\x0f\\xfeK\\xbbe\\xed:2\\xaaWQdl\\xad\\xf7\\xa7\\xd1\\xf85\\xd6/\\xc9\\x9a\\xd7\\xb5\\xb6]\\xf8\\xb6\\xca\\x9c\\x8a\\xdds]\\xcf\\xa4\\x97\\x8ak\\xe9/4}\\xec}\\xb1\\x93\\x89g\\xb4\\xc7\\xb6UK\\x96\\xba?vIwJ=%\\xf3\\x1aH\\x96\\xcf\\x02\\xac\\xd8=\\xad\\xc5\\xa5\\x1c\\xda\\\\_N:\\xb9\\xc5\\xfc`\\xf9\\xaf\\x93\\x7f\\x037\\xd9\\xbb\\xdb\\xb3\\xb2\\x12\\xf6yu6\\xfb\\xa5/g?\\xe5\\x9e\\x8c\\x8b\\xb4\\xe0>a$\\xd6\\xa9\\xa6\\xbb\\xb4z\\xa3\\x90\\xaeA\\x19\\x9f\\xbc\\x18T}vU5\\xe9\\xdc\\xec\\x8f\\x17\\xf2\\xf5g\\x93cov\\xcf\\xcc\\xb1\\xd5\\x8f\\x91\\x19\\xd9\\xcd\\xa8\\xb8\\xce\\xb9KNo\\x87\\x8d./\\x90\\x1d[w\\xeb\\xbf\\x85~l\\x8e\\'v\\xee+\\x92V.\\xb1\\xe5/\\x87\\xfc\\xfc\\xc8#\\xf3\\xfe\\xaf\\x86\\xd8\\xf9W\\xdf\\xd7\\xcc:\\x9c{D\\xd24\\x00\\x0ec\\xdd#\\xb0\\xbe\\xb7\\xf8_\\xe6\\x8c\\x88\\x8a\\xd8x\\xdc1sk\\x9c\\xb9/\\xbaJ\\x9f{\\xd1\\xb0\\xdb\\x17\\x16\\xbd\\xdf_._\"\\xd1k\\xce\\x9c\\x80\\x0e\\xb3\\xc0\\x00\\x00\\x00\\x00\\x00\\x00\\x00\\x00\\x00\\x01\\x1b\\xb6\\xf6\\x1e6m~\\xcf\"\\xa8\\xd9\\x1e|/\\xa4\\xe0\\xdf|e\\xd5\\x15N\\xf1\\xf6U\\x93Ss\\xc3\\x97\\xf8\\x8a\\xf9\\xbe\\t5\\x0b\\xa3\\xfaK\\xf0\\xf8\\x17@\\t\\xa6\\xac\\xe6a\\xdbL\\xdc.\\xaeuMuS\\x8b\\x84\\xbd\\x19\\xd0m.f\\x157G\\x82\\xea\\xa1l|\\'\\x058\\xfa3\\x19\\xcf\\xec\\xdfe[\\xabT:\\x9b\\xef\\xae\\xc9G\\xf0z\\xc5z\\x17i\\xa5\\x07]\\xb2\\x8f\\xd1\\x93\\x8f\\xc1\\xe8}Y\\x919r\\x94\\xe5%\\xe7&\\xff\\x002\\xe2\\xb7\\xb2\\x1c\\'\\xf4r2#\\xf1p\\x97\\xfbQ\\xf3\\x0e\\xc80\\xfe\\xd6M\\xedy(/\\xcd2\\xec\\xd2\\x9a%\\xb7S\\x1e\\xeb3\\xb1cB~\\xd3\\xdbW%\\xa7\\xd9Q\\x92nO\\xc1$\\\\8}\\x97\\xec\\xba\\xfe\\x94-\\xbb\\xef\\xda\\xff\\x00\\xd9\\xc2d\\xfb7c\\xe2\\xe3-1\\xe8\\xae\\xady>\\x18(\\xca_\\x17\\xd5\\xfc\\xc9\\xb3OsDN^\\xc6Rm\\xc1\\xf0\\xbf\\x0e\\xef\\xecK\\x03W\\x93\\xc4\\xc5\\xc8\\xafnJ\\xed\\xebK\\xda\\x93\\xb8\\x96;\\xff\\x00F\\xbb\\xf7}Y\\xec\\xc4\\xd8\\xd1\\x8e\\x8eo\\x89\\xf8i\\xee\\xff\\x00r\\\\\\xe0\\xd2\\xc3\\xd1x\\xb8\\xad\\xdd\\xad\\xfe^\\x96\\xe4^\\xd1\\xad\\x89\\x1c\\x80u\\x9e\\x00\\x00\\x00\\x00\\x00\\x00\\x00\\x00\\x00\\x00\\x00\\x00\\x00\\x00\\x00\\x00\\x00\\x00\\x00\\x00\\x00\\x00\\x00\\x00\\x00\\x00\\x00\\x00\\x00\\x00\\x00\\x00\\x00\\x00\\x00\\x00\\x00\\x00\\x00\\x00\\x00\\x00\\x00\\x00\\x00\\x00\\x00\\x00\\x00\\x00\\x00\\x00\\x00\\x00\\x00\\x00\\x0f\\xff\\xd9'\n",
      "b'ID,Created Date,Description,Comments,Amount,Attached Docs,Template\\r\\nSample-1787,2022-07-13T11:52:01.385038846Z,,,,0,Sample\\r\\n'\n"
     ]
    }
   ],
   "source": [
    "experiment_html = experiment.get_html()"
   ],
   "metadata": {
    "collapsed": false,
    "pycharm": {
     "name": "#%%\n"
    }
   }
  },
  {
   "cell_type": "code",
   "execution_count": 10,
   "outputs": [
    {
     "name": "stdout",
     "output_type": "stream",
     "text": [
      "b'{\"eid\":\"plateContainer:8728059f-8472-4872-929b-fa033e724fe3\",\"name\":\"Plates-1\",\"numberOfRows\":32,\"numberOfColumns\":48,\"plates\":[{\"eid\":\"plate:f7cde4a2-f481-4c04-951f-83f59c45dd64\",\"name\":\"Plate-1\",\"plateCustomName\":\"d\",\"plateContainerEid\":\"plateContainer:8728059f-8472-4872-929b-fa033e724fe3\",\"isTemplate\":false,\"numberOfRows\":32,\"numberOfColumns\":48,\"annotationLayers\":{},\"fields\":[]},{\"eid\":\"plate:0b34fefd-71e4-4bbd-ba56-df2363e64877\",\"name\":\"Plate-2\",\"plateContainerEid\":\"plateContainer:8728059f-8472-4872-929b-fa033e724fe3\",\"isTemplate\":false,\"numberOfRows\":32,\"numberOfColumns\":48,\"annotationLayers\":{},\"fields\":[]}],\"annotationLayers\":[{\"id\":\"9c41b7eb-e684-4354-9386-2bf97ae961a5\",\"name\":\"Well Format\",\"isPredefined\":true,\"isHidden\":false,\"annotationClass\":\"wellformat\",\"dataType\":\"TEXT\",\"annotationLayerValues\":{},\"trashed\":false,\"order\":0,\"suggestions\":[]},{\"id\":\"b31bfe68-daa9-45e5-bda7-6f65733c792c\",\"name\":\"Concentration\",\"isPredefined\":true,\"isHidden\":false,\"annotationClass\":\"concentration\",\"dataType\":\"DECIMAL\",\"annotationLayerValues\":{},\"trashed\":false,\"order\":1,\"suggestions\":[]},{\"id\":\"212dfeb9-fa0d-49d5-927b-7c69054074a6\",\"name\":\"Material\",\"isPredefined\":true,\"isHidden\":false,\"annotationClass\":\"material\",\"dataType\":\"LINK\",\"annotationLayerValues\":{},\"trashed\":false,\"order\":2,\"suggestions\":[]},{\"id\":\"8dc52048-9c71-4442-b397-78bfdd164f4c\",\"name\":\"Amount\",\"isPredefined\":true,\"isHidden\":false,\"annotationClass\":\"amount\",\"dataType\":\"DECIMAL\",\"annotationLayerValues\":{},\"trashed\":false,\"order\":3,\"suggestions\":[]},{\"id\":\"e523e1dc-bb17-492e-8a9a-110060dfe561\",\"name\":\"Replicate\",\"isPredefined\":true,\"isHidden\":false,\"annotationClass\":\"replicate\",\"dataType\":\"INTEGER\",\"annotationLayerValues\":{},\"trashed\":false,\"order\":4,\"suggestions\":[]},{\"id\":\"24ea6db0-56ab-4542-9e1f-3b116915cd21\",\"name\":\"Deviation\",\"isPredefined\":true,\"isHidden\":false,\"annotationClass\":\"deviation\",\"dataType\":\"TEXT\",\"annotationLayerValues\":{},\"trashed\":false,\"order\":5,\"suggestions\":[]}],\"fields\":[]}'\n"
     ]
    },
    {
     "data": {
      "text/plain": "File(name='Plates-1', content=b'{\"eid\":\"plateContainer:8728059f-8472-4872-929b-fa033e724fe3\",\"name\":\"Plates-1\",\"numberOfRows\":32,\"numberOfColumns\":48,\"plates\":[{\"eid\":\"plate:f7cde4a2-f481-4c04-951f-83f59c45dd64\",\"name\":\"Plate-1\",\"plateCustomName\":\"d\",\"plateContainerEid\":\"plateContainer:8728059f-8472-4872-929b-fa033e724fe3\",\"isTemplate\":false,\"numberOfRows\":32,\"numberOfColumns\":48,\"annotationLayers\":{},\"fields\":[]},{\"eid\":\"plate:0b34fefd-71e4-4bbd-ba56-df2363e64877\",\"name\":\"Plate-2\",\"plateContainerEid\":\"plateContainer:8728059f-8472-4872-929b-fa033e724fe3\",\"isTemplate\":false,\"numberOfRows\":32,\"numberOfColumns\":48,\"annotationLayers\":{},\"fields\":[]}],\"annotationLayers\":[{\"id\":\"9c41b7eb-e684-4354-9386-2bf97ae961a5\",\"name\":\"Well Format\",\"isPredefined\":true,\"isHidden\":false,\"annotationClass\":\"wellformat\",\"dataType\":\"TEXT\",\"annotationLayerValues\":{},\"trashed\":false,\"order\":0,\"suggestions\":[]},{\"id\":\"b31bfe68-daa9-45e5-bda7-6f65733c792c\",\"name\":\"Concentration\",\"isPredefined\":true,\"isHidden\":false,\"annotationClass\":\"concentration\",\"dataType\":\"DECIMAL\",\"annotationLayerValues\":{},\"trashed\":false,\"order\":1,\"suggestions\":[]},{\"id\":\"212dfeb9-fa0d-49d5-927b-7c69054074a6\",\"name\":\"Material\",\"isPredefined\":true,\"isHidden\":false,\"annotationClass\":\"material\",\"dataType\":\"LINK\",\"annotationLayerValues\":{},\"trashed\":false,\"order\":2,\"suggestions\":[]},{\"id\":\"8dc52048-9c71-4442-b397-78bfdd164f4c\",\"name\":\"Amount\",\"isPredefined\":true,\"isHidden\":false,\"annotationClass\":\"amount\",\"dataType\":\"DECIMAL\",\"annotationLayerValues\":{},\"trashed\":false,\"order\":3,\"suggestions\":[]},{\"id\":\"e523e1dc-bb17-492e-8a9a-110060dfe561\",\"name\":\"Replicate\",\"isPredefined\":true,\"isHidden\":false,\"annotationClass\":\"replicate\",\"dataType\":\"INTEGER\",\"annotationLayerValues\":{},\"trashed\":false,\"order\":4,\"suggestions\":[]},{\"id\":\"24ea6db0-56ab-4542-9e1f-3b116915cd21\",\"name\":\"Deviation\",\"isPredefined\":true,\"isHidden\":false,\"annotationClass\":\"deviation\",\"dataType\":\"TEXT\",\"annotationLayerValues\":{},\"trashed\":false,\"order\":5,\"suggestions\":[]}],\"fields\":[]}', content_type='application/json; charset=utf-8')"
     },
     "execution_count": 10,
     "metadata": {},
     "output_type": "execute_result"
    }
   ],
   "source": [
    "plate_container.get_content()"
   ],
   "metadata": {
    "collapsed": false,
    "pycharm": {
     "name": "#%%\n"
    }
   }
  },
  {
   "cell_type": "code",
   "execution_count": 9,
   "outputs": [],
   "source": [
    "with open('test_file.html', 'w') as f:\n",
    "    f.write(experiment_html)"
   ],
   "metadata": {
    "collapsed": false,
    "pycharm": {
     "name": "#%%\n"
    }
   }
  },
  {
   "cell_type": "code",
   "execution_count": 10,
   "outputs": [],
   "source": [],
   "metadata": {
    "collapsed": false,
    "pycharm": {
     "name": "#%%\n"
    }
   }
  }
 ],
 "metadata": {
  "kernelspec": {
   "display_name": "Python 3",
   "language": "python",
   "name": "python3"
  },
  "language_info": {
   "codemirror_mode": {
    "name": "ipython",
    "version": 2
   },
   "file_extension": ".py",
   "mimetype": "text/x-python",
   "name": "python",
   "nbconvert_exporter": "python",
   "pygments_lexer": "ipython2",
   "version": "2.7.6"
  }
 },
 "nbformat": 4,
 "nbformat_minor": 0
}
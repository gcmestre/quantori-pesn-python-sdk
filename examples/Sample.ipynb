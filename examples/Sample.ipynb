{
 "cells": [
  {
   "cell_type": "code",
   "execution_count": 1,
   "outputs": [],
   "source": [
    "%load_ext dotenv\n",
    "%dotenv\n",
    "import os\n",
    "\n",
    "SN_API_HOST = os.getenv('SN_API_HOST')\n",
    "SN_API_KEY = os.getenv('SN_API_KEY')"
   ],
   "metadata": {
    "collapsed": false,
    "pycharm": {
     "name": "#%%\n"
    }
   }
  },
  {
   "cell_type": "code",
   "execution_count": 2,
   "outputs": [
    {
     "data": {
      "text/plain": "<signals_notebook.api.SignalsNotebookApi at 0x2b6a8f85400>"
     },
     "execution_count": 2,
     "metadata": {},
     "output_type": "execute_result"
    }
   ],
   "source": [
    "from signals_notebook.api import SignalsNotebookApi\n",
    "SignalsNotebookApi.init(SN_API_HOST, SN_API_KEY)"
   ],
   "metadata": {
    "collapsed": false,
    "pycharm": {
     "name": "#%%\n"
    }
   }
  },
  {
   "cell_type": "code",
   "execution_count": 3,
   "outputs": [],
   "source": [
    "from signals_notebook.entities.entity_store import EntityStore\n",
    "samplesContainer = EntityStore.get('samplesContainer:b66ca054-3288-4b32-8892-2da8c2282bb8')"
   ],
   "metadata": {
    "collapsed": false,
    "pycharm": {
     "name": "#%%\n"
    }
   }
  },
  {
   "cell_type": "code",
   "execution_count": 4,
   "outputs": [
    {
     "data": {
      "text/plain": "File(name='Samples+Table.csv', content=b'ID,Created Date,Description,Comments,Amount,Attached Docs,Template,Chemical Name,FM,EM,MF,MW\\r\\nSample-1756,2022-06-02T07:27:10.072365283Z,simple,555,,0,Sample,,,,,\\r\\nSample-1757,2022-06-02T08:00:04.957872846Z,,,,0,Chemical Sample,HCl,36.46 g/mol,35.97668,ClH,36.46 g/mol\\r\\nSample-1758,2022-06-02T08:00:25.418330849Z,,,,0,Chemical Sample,H2O,18.02 g/mol,18.01056,H2O,18.02 g/mol\\r\\nSample-1759,2022-06-02T10:37:06.717628796Z,hh,,,0,Sample,,,,,\\r\\nSample-1760,2022-06-02T10:37:06.718687326Z,hh,,,0,Sample,,,,,\\r\\nSample-1766,2022-06-06T12:02:27.441740719Z,,,,0,Chemical Sample,sodium chloride,58.44 g/mol,57.95862,ClNa,58.44 g/mol\\r\\nSample-1767,2022-06-06T12:02:27.442275004Z,,,,0,Chemical Sample,sodium chloride,58.44 g/mol,57.95862,ClNa,58.44 g/mol\\r\\n', content_type='text/csv')"
     },
     "execution_count": 4,
     "metadata": {},
     "output_type": "execute_result"
    }
   ],
   "source": [
    "samplesContainer.get_content()"
   ],
   "metadata": {
    "collapsed": false,
    "pycharm": {
     "name": "#%%\n"
    }
   }
  },
  {
   "cell_type": "code",
   "execution_count": 5,
   "outputs": [
    {
     "name": "stderr",
     "output_type": "stream",
     "text": [
      "C:\\Users\\d.cherednichenko\\AppData\\Local\\Temp\\ipykernel_5836\\3925987743.py:1: DeprecationWarning: Importing display from IPython.core.display is deprecated since IPython 7.14, please import from IPython display\n",
      "  from IPython.core.display import display, HTML\n"
     ]
    },
    {
     "data": {
      "text/plain": "<IPython.core.display.HTML object>",
      "text/html": "\n<div class=\"table-wrapper\" style=\"margin: 10px 10px; padding: 6px 10px; border: solid 1px #f5f5f5;\">\n    <div class=\"table-scroll\">\n        <h2>Samples Table</h2>\n        <table>\n            <thead>\n                <tr>\n                \n                    <th>ID</th>\n                \n                    <th>Created Date</th>\n                \n                    <th>Description</th>\n                \n                    <th>Comments</th>\n                \n                    <th>Amount</th>\n                \n                    <th>Attached Docs</th>\n                \n                    <th>Template</th>\n                \n                    <th>Chemical Name</th>\n                \n                    <th>FM</th>\n                \n                    <th>EM</th>\n                \n                    <th>MF</th>\n                \n                    <th>MW</th>\n                \n                </tr>\n            </thead>\n            <tbody>\n            \n                <tr>\n                \n                    <td>Sample-1756</td>\n                \n                    <td>2022-06-02T07:27:10.072365283Z</td>\n                \n                    <td>simple</td>\n                \n                    <td>555</td>\n                \n                    <td></td>\n                \n                    <td>0</td>\n                \n                    <td>Sample</td>\n                \n                    <td></td>\n                \n                    <td></td>\n                \n                    <td></td>\n                \n                    <td></td>\n                \n                    <td></td>\n                \n                </tr>\n            \n                <tr>\n                \n                    <td>Sample-1757</td>\n                \n                    <td>2022-06-02T08:00:04.957872846Z</td>\n                \n                    <td></td>\n                \n                    <td></td>\n                \n                    <td></td>\n                \n                    <td>0</td>\n                \n                    <td>Chemical Sample</td>\n                \n                    <td>HCl</td>\n                \n                    <td>36.46 g/mol</td>\n                \n                    <td>35.97668</td>\n                \n                    <td>ClH</td>\n                \n                    <td>36.46 g/mol</td>\n                \n                </tr>\n            \n                <tr>\n                \n                    <td>Sample-1758</td>\n                \n                    <td>2022-06-02T08:00:25.418330849Z</td>\n                \n                    <td></td>\n                \n                    <td></td>\n                \n                    <td></td>\n                \n                    <td>0</td>\n                \n                    <td>Chemical Sample</td>\n                \n                    <td>H2O</td>\n                \n                    <td>18.02 g/mol</td>\n                \n                    <td>18.01056</td>\n                \n                    <td>H2O</td>\n                \n                    <td>18.02 g/mol</td>\n                \n                </tr>\n            \n                <tr>\n                \n                    <td>Sample-1759</td>\n                \n                    <td>2022-06-02T10:37:06.717628796Z</td>\n                \n                    <td>hh</td>\n                \n                    <td></td>\n                \n                    <td></td>\n                \n                    <td>0</td>\n                \n                    <td>Sample</td>\n                \n                    <td></td>\n                \n                    <td></td>\n                \n                    <td></td>\n                \n                    <td></td>\n                \n                    <td></td>\n                \n                </tr>\n            \n                <tr>\n                \n                    <td>Sample-1760</td>\n                \n                    <td>2022-06-02T10:37:06.718687326Z</td>\n                \n                    <td>hh</td>\n                \n                    <td></td>\n                \n                    <td></td>\n                \n                    <td>0</td>\n                \n                    <td>Sample</td>\n                \n                    <td></td>\n                \n                    <td></td>\n                \n                    <td></td>\n                \n                    <td></td>\n                \n                    <td></td>\n                \n                </tr>\n            \n                <tr>\n                \n                    <td>Sample-1766</td>\n                \n                    <td>2022-06-06T12:02:27.441740719Z</td>\n                \n                    <td></td>\n                \n                    <td></td>\n                \n                    <td></td>\n                \n                    <td>0</td>\n                \n                    <td>Chemical Sample</td>\n                \n                    <td>sodium chloride</td>\n                \n                    <td>58.44 g/mol</td>\n                \n                    <td>57.95862</td>\n                \n                    <td>ClNa</td>\n                \n                    <td>58.44 g/mol</td>\n                \n                </tr>\n            \n                <tr>\n                \n                    <td>Sample-1767</td>\n                \n                    <td>2022-06-06T12:02:27.442275004Z</td>\n                \n                    <td></td>\n                \n                    <td></td>\n                \n                    <td></td>\n                \n                    <td>0</td>\n                \n                    <td>Chemical Sample</td>\n                \n                    <td>sodium chloride</td>\n                \n                    <td>58.44 g/mol</td>\n                \n                    <td>57.95862</td>\n                \n                    <td>ClNa</td>\n                \n                    <td>58.44 g/mol</td>\n                \n                </tr>\n            \n            </tbody>\n        </table>\n    </div>\n</div>\n"
     },
     "metadata": {},
     "output_type": "display_data"
    }
   ],
   "source": [
    "from IPython.core.display import display, HTML\n",
    "\n",
    "samples_container_html = samplesContainer.get_html()\n",
    "display(HTML(data=samples_container_html))"
   ],
   "metadata": {
    "collapsed": false,
    "pycharm": {
     "name": "#%%\n"
    }
   }
  },
  {
   "cell_type": "code",
   "execution_count": 6,
   "outputs": [],
   "source": [
    "sample = EntityStore.get('sample:f356dfe9-3bd7-4ab6-885a-c73d4cc72f13')"
   ],
   "metadata": {
    "collapsed": false,
    "pycharm": {
     "name": "#%%\n"
    }
   }
  },
  {
   "cell_type": "code",
   "execution_count": 7,
   "outputs": [
    {
     "data": {
      "text/plain": "Sample(type=<EntityType.SAMPLE: 'sample'>, eid='sample:f356dfe9-3bd7-4ab6-885a-c73d4cc72f13', digest='23238703', name='Sample-1756', description='', created_at=datetime.datetime(2022, 6, 2, 7, 27, 9, 819000, tzinfo=datetime.timezone.utc), edited_at=datetime.datetime(2022, 6, 8, 14, 26, 11, 410000, tzinfo=datetime.timezone.utc), fields=None)"
     },
     "execution_count": 7,
     "metadata": {},
     "output_type": "execute_result"
    }
   ],
   "source": [
    "sample"
   ],
   "metadata": {
    "collapsed": false,
    "pycharm": {
     "name": "#%%\n"
    }
   }
  },
  {
   "cell_type": "code",
   "execution_count": 8,
   "outputs": [
    {
     "data": {
      "text/plain": "[SampleProperty(id=UUID('b718adec-73e0-3ce3-ac72-0dd11a06a308'), name='ID', content=CellPropertyContent(value='Sample-1756', name=None, eid=None, values=None)),\n SampleProperty(id=UUID('278c491b-dd8a-3361-8c14-9c4ac790da34'), name='Template', content=CellPropertyContent(value='Sample', name=None, eid=None, values=None)),\n SampleProperty(id='digests.self', name=None, content=None),\n SampleProperty(id='digests.external', name=None, content=None),\n SampleProperty(id='1', name='Created Date', content=CellPropertyContent(value='2022-06-02T07:27:10.072365283Z', name=None, eid=None, values=None)),\n SampleProperty(id='2', name='Description', content=CellPropertyContent(value='simple', name=None, eid=None, values=None)),\n SampleProperty(id='3', name='Comments', content=CellPropertyContent(value='555', name=None, eid=None, values=None)),\n SampleProperty(id='4', name='Amount', content=None),\n SampleProperty(id='10', name='Attached Docs', content=CellPropertyContent(value='0', name=None, eid='sample:f356dfe9-3bd7-4ab6-885a-c73d4cc72f13', values=None)),\n SampleProperty(id='sampleId', name='ID', content=CellPropertyContent(value='sample:f356dfe9-3bd7-4ab6-885a-c73d4cc72f13', name=None, eid=None, values=None)),\n SampleProperty(id='sourceName', name='Template', content=CellPropertyContent(value='Sample', name=None, eid=None, values=None)),\n SampleProperty(id='5', name='Chemical Name', content=None),\n SampleProperty(id='6', name='FM', content=None),\n SampleProperty(id='7', name='EM', content=None),\n SampleProperty(id='8', name='MF', content=None),\n SampleProperty(id='9', name='MW', content=None)]"
     },
     "execution_count": 8,
     "metadata": {},
     "output_type": "execute_result"
    }
   ],
   "source": [
    "properties = sample.get_properties()\n",
    "list(properties)"
   ],
   "metadata": {
    "collapsed": false,
    "pycharm": {
     "name": "#%%\n"
    }
   }
  },
  {
   "cell_type": "code",
   "execution_count": 9,
   "outputs": [
    {
     "data": {
      "text/plain": "generator"
     },
     "execution_count": 9,
     "metadata": {},
     "output_type": "execute_result"
    }
   ],
   "source": [
    "type(properties)"
   ],
   "metadata": {
    "collapsed": false,
    "pycharm": {
     "name": "#%%\n"
    }
   }
  },
  {
   "cell_type": "code",
   "execution_count": 10,
   "outputs": [
    {
     "data": {
      "text/plain": "SampleProperty(id='3', name='Comments', content=CellPropertyContent(value='555', name=None, eid=None, values=None))"
     },
     "execution_count": 10,
     "metadata": {},
     "output_type": "execute_result"
    }
   ],
   "source": [
    "sample_property = sample.get_property_by_id('3')\n",
    "sample_property"
   ],
   "metadata": {
    "collapsed": false,
    "pycharm": {
     "name": "#%%\n"
    }
   }
  },
  {
   "cell_type": "code",
   "execution_count": 11,
   "outputs": [],
   "source": [
    "for item in sample.properties:\n",
    "    if item.id == '3':\n",
    "        item.content.set_value('555')"
   ],
   "metadata": {
    "collapsed": false,
    "pycharm": {
     "name": "#%%\n"
    }
   }
  },
  {
   "cell_type": "code",
   "execution_count": 12,
   "outputs": [
    {
     "data": {
      "text/plain": "SampleProperty(id='3', name='Comments', content=CellPropertyContent(value='5', name=None, eid=None, values=None))"
     },
     "execution_count": 12,
     "metadata": {},
     "output_type": "execute_result"
    }
   ],
   "source": [
    "from signals_notebook.entities.samples.sample import SampleProperty\n",
    "from typing import cast\n",
    "\n",
    "property = cast(SampleProperty, sample_property)\n",
    "property.content.set_value('5')\n",
    "property"
   ],
   "metadata": {
    "collapsed": false,
    "pycharm": {
     "name": "#%%\n"
    }
   }
  },
  {
   "cell_type": "code",
   "execution_count": 13,
   "outputs": [],
   "source": [
    "sample_property_patched = sample.patch_property_by_id('3')"
   ],
   "metadata": {
    "collapsed": false,
    "pycharm": {
     "name": "#%%\n"
    }
   }
  },
  {
   "cell_type": "code",
   "execution_count": 14,
   "outputs": [
    {
     "data": {
      "text/plain": "SampleProperty(id='3', name='Comments', content=CellPropertyContent(value='555', name=None, eid=None, values=None))"
     },
     "execution_count": 14,
     "metadata": {},
     "output_type": "execute_result"
    }
   ],
   "source": [
    "sample_property_patched"
   ],
   "metadata": {
    "collapsed": false,
    "pycharm": {
     "name": "#%%\n"
    }
   }
  },
  {
   "cell_type": "code",
   "execution_count": 15,
   "outputs": [
    {
     "ename": "AttributeError",
     "evalue": "no properties changed here",
     "output_type": "error",
     "traceback": [
      "\u001B[1;31m---------------------------------------------------------------------------\u001B[0m",
      "\u001B[1;31mAttributeError\u001B[0m                            Traceback (most recent call last)",
      "Input \u001B[1;32mIn [15]\u001B[0m, in \u001B[0;36m<cell line: 2>\u001B[1;34m()\u001B[0m\n\u001B[0;32m      1\u001B[0m \u001B[38;5;66;03m# if we are trying to change this property again - we will get an exception\u001B[39;00m\n\u001B[1;32m----> 2\u001B[0m sample_property_pathed_again \u001B[38;5;241m=\u001B[39m \u001B[43msample\u001B[49m\u001B[38;5;241;43m.\u001B[39;49m\u001B[43mpatch_property_by_id\u001B[49m\u001B[43m(\u001B[49m\u001B[38;5;124;43m'\u001B[39;49m\u001B[38;5;124;43m3\u001B[39;49m\u001B[38;5;124;43m'\u001B[39;49m\u001B[43m)\u001B[49m\n",
      "File \u001B[1;32mC:\\coding\\pesn-python-sdk\\src\\signals_notebook\\entities\\samples\\sample.py:137\u001B[0m, in \u001B[0;36mSample.patch_property_by_id\u001B[1;34m(self, property_id, digest, force)\u001B[0m\n\u001B[0;32m    135\u001B[0m     \u001B[38;5;28;01mif\u001B[39;00m item\u001B[38;5;241m.\u001B[39mid \u001B[38;5;241m==\u001B[39m property_id:\n\u001B[0;32m    136\u001B[0m         \u001B[38;5;28;01mif\u001B[39;00m \u001B[38;5;129;01mnot\u001B[39;00m item\u001B[38;5;241m.\u001B[39mis_changed:\n\u001B[1;32m--> 137\u001B[0m             \u001B[38;5;28;01mraise\u001B[39;00m \u001B[38;5;167;01mAttributeError\u001B[39;00m(\u001B[38;5;124m'\u001B[39m\u001B[38;5;124mno properties changed here\u001B[39m\u001B[38;5;124m'\u001B[39m)\n\u001B[0;32m    138\u001B[0m         request_body \u001B[38;5;241m=\u001B[39m item\u001B[38;5;241m.\u001B[39mrepresentation_for_update_by_id\n\u001B[0;32m    140\u001B[0m response \u001B[38;5;241m=\u001B[39m api\u001B[38;5;241m.\u001B[39mcall(\n\u001B[0;32m    141\u001B[0m     method\u001B[38;5;241m=\u001B[39m\u001B[38;5;124m'\u001B[39m\u001B[38;5;124mPATCH\u001B[39m\u001B[38;5;124m'\u001B[39m,\n\u001B[0;32m    142\u001B[0m     path\u001B[38;5;241m=\u001B[39m(\u001B[38;5;28mself\u001B[39m\u001B[38;5;241m.\u001B[39m_get_samples_endpoint(), \u001B[38;5;28mself\u001B[39m\u001B[38;5;241m.\u001B[39meid, \u001B[38;5;124m'\u001B[39m\u001B[38;5;124mproperties\u001B[39m\u001B[38;5;124m'\u001B[39m, _property_id),\n\u001B[1;32m   (...)\u001B[0m\n\u001B[0;32m    150\u001B[0m     },\n\u001B[0;32m    151\u001B[0m )\n",
      "\u001B[1;31mAttributeError\u001B[0m: no properties changed here"
     ]
    }
   ],
   "source": [
    "# if we are trying to change this property again - we will get an exception\n",
    "sample_property_pathed_again = sample.patch_property_by_id('3')"
   ],
   "metadata": {
    "collapsed": false,
    "pycharm": {
     "name": "#%%\n"
    }
   }
  },
  {
   "cell_type": "code",
   "execution_count": null,
   "outputs": [],
   "source": [],
   "metadata": {
    "collapsed": false,
    "pycharm": {
     "name": "#%%\n"
    }
   }
  }
 ],
 "metadata": {
  "kernelspec": {
   "display_name": "Python 3",
   "language": "python",
   "name": "python3"
  },
  "language_info": {
   "codemirror_mode": {
    "name": "ipython",
    "version": 2
   },
   "file_extension": ".py",
   "mimetype": "text/x-python",
   "name": "python",
   "nbconvert_exporter": "python",
   "pygments_lexer": "ipython2",
   "version": "2.7.6"
  }
 },
 "nbformat": 4,
 "nbformat_minor": 0
}
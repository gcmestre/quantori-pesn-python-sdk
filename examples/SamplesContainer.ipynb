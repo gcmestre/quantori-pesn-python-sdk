{
 "cells": [
  {
   "cell_type": "code",
   "execution_count": 1,
   "outputs": [],
   "source": [
    "%load_ext dotenv\n",
    "%dotenv\n",
    "import os\n",
    "\n",
    "SN_API_HOST = os.getenv('SN_API_HOST')\n",
    "SN_API_KEY = os.getenv('SN_API_KEY')"
   ],
   "metadata": {
    "collapsed": false,
    "pycharm": {
     "name": "#%%\n"
    }
   }
  },
  {
   "cell_type": "code",
   "execution_count": 2,
   "outputs": [
    {
     "data": {
      "text/plain": "<signals_notebook.api.SignalsNotebookApi at 0x1efd34b9550>"
     },
     "execution_count": 2,
     "metadata": {},
     "output_type": "execute_result"
    }
   ],
   "source": [
    "from signals_notebook.api import SignalsNotebookApi\n",
    "SignalsNotebookApi.init(SN_API_HOST, SN_API_KEY)"
   ],
   "metadata": {
    "collapsed": false,
    "pycharm": {
     "name": "#%%\n"
    }
   }
  },
  {
   "cell_type": "code",
   "execution_count": 3,
   "outputs": [],
   "source": [
    "from signals_notebook.entities.entity_store import EntityStore\n",
    "samplesContainer = EntityStore.get('samplesContainer:3cd945e0-134d-4ae5-94a9-b6aee55528b2')"
   ],
   "metadata": {
    "collapsed": false,
    "pycharm": {
     "name": "#%%\n"
    }
   }
  },
  {
   "cell_type": "code",
   "execution_count": 4,
   "outputs": [
    {
     "data": {
      "text/plain": "File(name='Samples+Table.csv', content=b'ID,Created Date,Description,Comments,Amount,Attached Docs,Template\\r\\nSample-1776,2022-06-13T13:54:43.380521116Z,,www,,0,Sample\\r\\nSample-1777,2022-06-13T13:55:51.211451408Z,5545,www,,0,Sample\\r\\nSample-1778,2022-06-13T13:59:34.535249108Z,,www,,0,Sample\\r\\nSample-1779,2022-06-13T14:00:31.649713156Z,,www,,0,Sample\\r\\nSample-1781,2022-06-14T09:51:10.942740735Z,,www,,0,Sample\\r\\n', content_type='text/csv')"
     },
     "execution_count": 4,
     "metadata": {},
     "output_type": "execute_result"
    }
   ],
   "source": [
    "samplesContainer.get_content()"
   ],
   "metadata": {
    "collapsed": false,
    "pycharm": {
     "name": "#%%\n"
    }
   }
  },
  {
   "cell_type": "code",
   "execution_count": 5,
   "outputs": [
    {
     "data": {
      "text/plain": "<IPython.core.display.HTML object>",
      "text/html": "\n<div class=\"table-wrapper\" style=\"margin: 10px 10px; padding: 6px 10px; border: solid 1px #f5f5f5;\">\n    <div class=\"table-scroll\">\n        <h2>Samples Table</h2>\n        <table>\n            <thead>\n                <tr>\n                \n                    <th>ID</th>\n                \n                    <th>Created Date</th>\n                \n                    <th>Description</th>\n                \n                    <th>Comments</th>\n                \n                    <th>Amount</th>\n                \n                    <th>Attached Docs</th>\n                \n                    <th>Template</th>\n                \n                </tr>\n            </thead>\n            <tbody>\n            \n                <tr>\n                \n                    <td>Sample-1776</td>\n                \n                    <td>2022-06-13T13:54:43.380521116Z</td>\n                \n                    <td></td>\n                \n                    <td>www</td>\n                \n                    <td></td>\n                \n                    <td>0</td>\n                \n                    <td>Sample</td>\n                \n                </tr>\n            \n                <tr>\n                \n                    <td>Sample-1777</td>\n                \n                    <td>2022-06-13T13:55:51.211451408Z</td>\n                \n                    <td>5545</td>\n                \n                    <td>www</td>\n                \n                    <td></td>\n                \n                    <td>0</td>\n                \n                    <td>Sample</td>\n                \n                </tr>\n            \n                <tr>\n                \n                    <td>Sample-1778</td>\n                \n                    <td>2022-06-13T13:59:34.535249108Z</td>\n                \n                    <td></td>\n                \n                    <td>www</td>\n                \n                    <td></td>\n                \n                    <td>0</td>\n                \n                    <td>Sample</td>\n                \n                </tr>\n            \n                <tr>\n                \n                    <td>Sample-1779</td>\n                \n                    <td>2022-06-13T14:00:31.649713156Z</td>\n                \n                    <td></td>\n                \n                    <td>www</td>\n                \n                    <td></td>\n                \n                    <td>0</td>\n                \n                    <td>Sample</td>\n                \n                </tr>\n            \n                <tr>\n                \n                    <td>Sample-1781</td>\n                \n                    <td>2022-06-14T09:51:10.942740735Z</td>\n                \n                    <td></td>\n                \n                    <td>www</td>\n                \n                    <td></td>\n                \n                    <td>0</td>\n                \n                    <td>Sample</td>\n                \n                </tr>\n            \n            </tbody>\n        </table>\n    </div>\n</div>\n"
     },
     "metadata": {},
     "output_type": "display_data"
    }
   ],
   "source": [
    "import warnings # added to ignore deprecation warnings\n",
    "warnings.filterwarnings('ignore')\n",
    "from IPython.core.display import display, HTML\n",
    "\n",
    "samples_container_html = samplesContainer.get_html()\n",
    "display(HTML(data=samples_container_html))"
   ],
   "metadata": {
    "collapsed": false,
    "pycharm": {
     "name": "#%%\n"
    }
   }
  },
  {
   "cell_type": "code",
   "execution_count": 6,
   "outputs": [],
   "source": [
    "NEW_VALUE = 'www'\n",
    "for sample in samplesContainer:\n",
    "    sample[6].set_content_value(NEW_VALUE)"
   ],
   "metadata": {
    "collapsed": false,
    "pycharm": {
     "name": "#%%\n"
    }
   }
  },
  {
   "cell_type": "code",
   "execution_count": 7,
   "outputs": [
    {
     "name": "stdout",
     "output_type": "stream",
     "text": [
      "id='3' name='Comments' content=CellPropertyContent(value='www', name=None, eid=None, values=None)\n",
      "True\n",
      "id='3' name='Comments' content=CellPropertyContent(value='www', name=None, eid=None, values=None)\n",
      "True\n",
      "id='3' name='Comments' content=CellPropertyContent(value='www', name=None, eid=None, values=None)\n",
      "True\n",
      "id='3' name='Comments' content=CellPropertyContent(value='www', name=None, eid=None, values=None)\n",
      "True\n",
      "id='3' name='Comments' content=CellPropertyContent(value='www', name=None, eid=None, values=None)\n",
      "True\n"
     ]
    }
   ],
   "source": [
    "for sample in samplesContainer:\n",
    "    print(sample[6])\n",
    "    print(sample[6].is_changed)"
   ],
   "metadata": {
    "collapsed": false,
    "pycharm": {
     "name": "#%%\n"
    }
   }
  },
  {
   "cell_type": "code",
   "execution_count": 8,
   "outputs": [],
   "source": [
    "samplesContainer.save()"
   ],
   "metadata": {
    "collapsed": false,
    "pycharm": {
     "name": "#%%\n"
    }
   }
  },
  {
   "cell_type": "code",
   "execution_count": 9,
   "outputs": [
    {
     "name": "stdout",
     "output_type": "stream",
     "text": [
      "www\n",
      "www\n",
      "www\n",
      "www\n",
      "www\n"
     ]
    }
   ],
   "source": [
    "for sample in samplesContainer:\n",
    "    print(sample[6].content_value)\n",
    "    assert sample[6].content_value == NEW_VALUE"
   ],
   "metadata": {
    "collapsed": false,
    "pycharm": {
     "name": "#%%\n"
    }
   }
  },
  {
   "cell_type": "code",
   "execution_count": 10,
   "outputs": [
    {
     "name": "stdout",
     "output_type": "stream",
     "text": [
      "id=UUID('b718adec-73e0-3ce3-ac72-0dd11a06a308') name='ID' content=CellPropertyContent(value='Sample-1776', name=None, eid=None, values=None)\n",
      "id=UUID('278c491b-dd8a-3361-8c14-9c4ac790da34') name='Template' content=CellPropertyContent(value='Sample', name=None, eid=None, values=None)\n",
      "id='digests.self' name=None content=CellPropertyContent(value=None, name=None, eid=None, values=None)\n",
      "id='digests.external' name=None content=CellPropertyContent(value=None, name=None, eid=None, values=None)\n",
      "id='1' name='Created Date' content=CellPropertyContent(value='2022-06-13T13:54:43.380521116Z', name=None, eid=None, values=None)\n",
      "id='2' name='Description' content=CellPropertyContent(value=None, name=None, eid=None, values=None)\n",
      "id='3' name='Comments' content=CellPropertyContent(value='www', name=None, eid=None, values=None)\n",
      "id='4' name='Amount' content=CellPropertyContent(value=None, name=None, eid=None, values=None)\n",
      "id='10' name='Attached Docs' content=CellPropertyContent(value='0', name=None, eid='sample:fa34c835-6271-4c59-b320-ff26089e89c6', values=None)\n",
      "id='sampleId' name='ID' content=CellPropertyContent(value='sample:fa34c835-6271-4c59-b320-ff26089e89c6', name=None, eid=None, values=None)\n",
      "id='sourceName' name='Template' content=CellPropertyContent(value='Sample', name=None, eid=None, values=None)\n"
     ]
    }
   ],
   "source": [
    "# we can iterate in properties:\n",
    "sample = samplesContainer[0]\n",
    "for item in sample:\n",
    "    print(item)"
   ],
   "metadata": {
    "collapsed": false,
    "pycharm": {
     "name": "#%%\n"
    }
   }
  },
  {
   "cell_type": "code",
   "execution_count": 11,
   "outputs": [
    {
     "data": {
      "text/plain": "SampleProperty(id=UUID('b718adec-73e0-3ce3-ac72-0dd11a06a308'), name='ID', content=CellPropertyContent(value='Sample-1776', name=None, eid=None, values=None))"
     },
     "execution_count": 11,
     "metadata": {},
     "output_type": "execute_result"
    }
   ],
   "source": [
    "# Get property by id\n",
    "sample['b718adec-73e0-3ce3-ac72-0dd11a06a308']"
   ],
   "metadata": {
    "collapsed": false,
    "pycharm": {
     "name": "#%%\n"
    }
   }
  },
  {
   "cell_type": "code",
   "execution_count": 12,
   "outputs": [
    {
     "data": {
      "text/plain": "SampleProperty(id=UUID('b718adec-73e0-3ce3-ac72-0dd11a06a308'), name='ID', content=CellPropertyContent(value='Sample-1776', name=None, eid=None, values=None))"
     },
     "execution_count": 12,
     "metadata": {},
     "output_type": "execute_result"
    }
   ],
   "source": [
    "# Get any property of sample from Container\n",
    "samplesContainer[0]['b718adec-73e0-3ce3-ac72-0dd11a06a308']"
   ],
   "metadata": {
    "collapsed": false,
    "pycharm": {
     "name": "#%%\n"
    }
   }
  }
 ],
 "metadata": {
  "kernelspec": {
   "display_name": "Python 3",
   "language": "python",
   "name": "python3"
  },
  "language_info": {
   "codemirror_mode": {
    "name": "ipython",
    "version": 2
   },
   "file_extension": ".py",
   "mimetype": "text/x-python",
   "name": "python",
   "nbconvert_exporter": "python",
   "pygments_lexer": "ipython2",
   "version": "2.7.6"
  }
 },
 "nbformat": 4,
 "nbformat_minor": 0
}
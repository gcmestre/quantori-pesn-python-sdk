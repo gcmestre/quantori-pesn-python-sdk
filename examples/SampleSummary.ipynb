{
 "cells": [
  {
   "cell_type": "code",
   "execution_count": 8,
   "outputs": [
    {
     "name": "stdout",
     "output_type": "stream",
     "text": [
      "The dotenv extension is already loaded. To reload it, use:\n",
      "  %reload_ext dotenv\n"
     ]
    }
   ],
   "source": [
    "%load_ext dotenv\n",
    "%dotenv\n",
    "import os\n",
    "\n",
    "SN_API_HOST = os.getenv('SN_API_HOST')\n",
    "SN_API_KEY = os.getenv('SN_API_KEY')"
   ],
   "metadata": {
    "collapsed": false,
    "pycharm": {
     "name": "#%%\n"
    }
   }
  },
  {
   "cell_type": "code",
   "execution_count": 9,
   "outputs": [
    {
     "data": {
      "text/plain": "<signals_notebook.api.SignalsNotebookApi at 0x26a334b3e50>"
     },
     "execution_count": 9,
     "metadata": {},
     "output_type": "execute_result"
    }
   ],
   "source": [
    "from signals_notebook.api import SignalsNotebookApi\n",
    "SignalsNotebookApi.init(SN_API_HOST, SN_API_KEY)"
   ],
   "metadata": {
    "collapsed": false,
    "pycharm": {
     "name": "#%%\n"
    }
   }
  },
  {
   "cell_type": "code",
   "execution_count": 10,
   "outputs": [],
   "source": [
    "from signals_notebook.entities.entity_store import EntityStore\n",
    "sample_summary = EntityStore.get('paraSamplesGrid:7ceaecb1-65e8-4e91-baa6-9401d93f8538')"
   ],
   "metadata": {
    "collapsed": false,
    "pycharm": {
     "name": "#%%\n"
    }
   }
  },
  {
   "cell_type": "code",
   "execution_count": 11,
   "outputs": [
    {
     "data": {
      "text/plain": "SampleSummary(type=<EntityType.SAMPLE_SUMMARY: 'paraSamplesGrid'>, eid='paraSamplesGrid:7ceaecb1-65e8-4e91-baa6-9401d93f8538', digest='44192643', name='Sample Summary', description='', created_at=datetime.datetime(2022, 6, 6, 8, 47, 49, 213000, tzinfo=datetime.timezone.utc), edited_at=datetime.datetime(2022, 6, 8, 10, 35, 27, 253000, tzinfo=datetime.timezone.utc))"
     },
     "execution_count": 11,
     "metadata": {},
     "output_type": "execute_result"
    }
   ],
   "source": [
    "sample_summary"
   ],
   "metadata": {
    "collapsed": false,
    "pycharm": {
     "name": "#%%\n"
    }
   }
  },
  {
   "cell_type": "code",
   "execution_count": 12,
   "outputs": [
    {
     "data": {
      "text/plain": "[Sample(type=<EntityType.SAMPLE: 'sample'>, eid='sample:0f96db87-a4af-46ae-9aff-711867f23d73', digest='82858260', name='Sample-1764', description='', created_at=datetime.datetime(2022, 6, 6, 8, 54, 51, 624000, tzinfo=datetime.timezone.utc), edited_at=datetime.datetime(2022, 6, 6, 8, 54, 51, 624000, tzinfo=datetime.timezone.utc), fields={'Amount': FieldData(display='1 g', value='1', units='g', eid=None), 'Attached Docs': FieldData(display=None, value='0', units=None, eid='sample:0f96db87-a4af-46ae-9aff-711867f23d73'), 'Comments': FieldData(display=None, value='Comments 1', units=None, eid=None), 'Created Date': FieldData(display=None, value='2022-06-06T08:54:51.677884071Z', units=None, eid=None), 'Description': FieldData(display=None, value='Description 1', units=None, eid=None), 'ID': FieldData(display='Sample-1764', value='sample:0f96db87-a4af-46ae-9aff-711867f23d73', units=None, eid=None), 'Name': FieldData(display='Sub-experiment-1', value='parasubexp:413779cf-16b9-49ce-bb85-85b2fa6964da', units=None, eid=None), 'Template': FieldData(display=None, value='Sample', units=None, eid=None)}),\n Sample(type=<EntityType.SAMPLE: 'sample'>, eid='sample:ba804b7d-f61c-4a8b-b2f9-4be4652b6286', digest='47537404', name='Sample-1774', description='', created_at=datetime.datetime(2022, 6, 8, 10, 35, 27, 253000, tzinfo=datetime.timezone.utc), edited_at=datetime.datetime(2022, 6, 8, 10, 35, 27, 253000, tzinfo=datetime.timezone.utc), fields={'Attached Docs': FieldData(display=None, value='0', units=None, eid='sample:ba804b7d-f61c-4a8b-b2f9-4be4652b6286'), 'Created Date': FieldData(display=None, value='2022-06-08T10:35:27.346810619Z', units=None, eid=None), 'ID': FieldData(display='Sample-1774', value='sample:ba804b7d-f61c-4a8b-b2f9-4be4652b6286', units=None, eid=None), 'Name': FieldData(display='Sub-experiment-3', value='parasubexp:797df7e4-81b1-43b5-93b1-933f2b6082a5', units=None, eid=None), 'Template': FieldData(display=None, value='Sample', units=None, eid=None)})]"
     },
     "execution_count": 12,
     "metadata": {},
     "output_type": "execute_result"
    }
   ],
   "source": [
    "list(sample_summary.fetch_samples_from_sample_summary())"
   ],
   "metadata": {
    "collapsed": false,
    "pycharm": {
     "name": "#%%\n"
    }
   }
  },
  {
   "cell_type": "code",
   "execution_count": 13,
   "outputs": [],
   "source": [
    "samples = sample_summary.fetch_sample_from_table(['sample:0f96db87-a4af-46ae-9aff-711867f23d73'])"
   ],
   "metadata": {
    "collapsed": false,
    "pycharm": {
     "name": "#%%\n"
    }
   }
  },
  {
   "cell_type": "code",
   "execution_count": 14,
   "outputs": [
    {
     "name": "stdout",
     "output_type": "stream",
     "text": [
      "sample:0f96db87-a4af-46ae-9aff-711867f23d73\n",
      "https://quantori.signalsnotebook.perkinelmer.cloud//api/rest/v1.0/samplesTables/paraSamplesGrid:7ceaecb1-65e8-4e91-baa6-9401d93f8538/rows?sampleIds=sample%3A0f96db87-a4af-46ae-9aff-711867f23d73&fields= {'links': {'self': 'https://quantori.signalsnotebook.perkinelmer.cloud/api/rest/v1.0/samplesTables/paraSamplesGrid:7ceaecb1-65e8-4e91-baa6-9401d93f8538/rows'}, 'data': [{'type': 'samplesTableRow', 'id': 'sample:0f96db87-a4af-46ae-9aff-711867f23d73', 'attributes': {'eid': 'sample:0f96db87-a4af-46ae-9aff-711867f23d73', 'columns': {'subExpName': {'key': 'subExpName', 'type': 'LINK', 'name': 'Name', 'content': {'type': 'parasubexp', 'display': 'Sub-experiment-1', 'value': 'parasubexp:413779cf-16b9-49ce-bb85-85b2fa6964da'}}, 'sampleId': {'key': 'sampleId', 'type': 'LINK', 'name': 'ID', 'content': {'type': 'sample', 'display': 'Sample-1764', 'value': 'sample:0f96db87-a4af-46ae-9aff-711867f23d73'}}, '1': {'key': '1', 'type': 'DATETIME', 'name': 'Created Date', 'content': {'value': '2022-06-06T08:54:51.677884071Z'}}, '2': {'key': '2', 'type': 'TEXT', 'name': 'Description', 'content': {'value': 'Description 1'}}, '3': {'key': '3', 'type': 'TEXT', 'name': 'Comments', 'content': {'value': 'Comments 1'}}, '4': {'key': '4', 'type': 'UNIT', 'name': 'Amount', 'content': {'display': '1 g', 'value': 1.0, 'units': 'g'}}, '10': {'key': '10', 'type': 'CHILD_ENTITY_COUNT', 'name': 'Attached Docs', 'content': {'value': '0', 'eid': 'sample:0f96db87-a4af-46ae-9aff-711867f23d73'}}, 'sourceName': {'key': 'sourceName', 'type': 'TEXT', 'name': 'Template', 'content': {'value': 'Sample'}}}}, 'relationships': {'samplesTable': {'links': {'self': 'https://quantori.signalsnotebook.perkinelmer.cloud/api/rest/v1.0/entities/paraSamplesGrid:7ceaecb1-65e8-4e91-baa6-9401d93f8538'}, 'data': {'type': 'entity', 'id': 'paraSamplesGrid:7ceaecb1-65e8-4e91-baa6-9401d93f8538'}}, 'columnDefinition': {'data': {'type': 'samplesTableColumnDefinition', 'id': 'paraSamplesGrid:7ceaecb1-65e8-4e91-baa6-9401d93f8538'}}}}], 'included': [{'type': 'entity', 'id': 'paraSamplesGrid:7ceaecb1-65e8-4e91-baa6-9401d93f8538', 'links': {'self': 'https://quantori.signalsnotebook.perkinelmer.cloud/api/rest/v1.0/entities/paraSamplesGrid:7ceaecb1-65e8-4e91-baa6-9401d93f8538'}, 'attributes': {'type': 'paraSamplesGrid', 'eid': 'paraSamplesGrid:7ceaecb1-65e8-4e91-baa6-9401d93f8538', 'name': 'Sample Summary', 'digest': '44192643', 'fields': {'Description': {'value': ''}, 'Name': {'value': 'Sample Summary'}}}}, {'type': 'samplesTableColumnDefinition', 'id': 'paraSamplesGrid:7ceaecb1-65e8-4e91-baa6-9401d93f8538', 'attributes': {'id': 'paraSamplesGrid:7ceaecb1-65e8-4e91-baa6-9401d93f8538', 'type': 'samplesTableColumnDefinition', 'columns': [{'key': 'subExpName', 'title': 'Name', 'type': 'LINK', 'dataType': 'LINK'}, {'key': 'sampleId', 'title': 'ID', 'type': 'LINK', 'dataType': 'LINK'}, {'key': '1', 'title': 'Created Date', 'type': 'DATETIME', 'dataType': 'DATETIME'}, {'key': '2', 'title': 'Description', 'type': 'TEXT', 'dataType': 'TEXT'}, {'key': '3', 'title': 'Comments', 'type': 'TEXT', 'dataType': 'TEXT'}, {'key': '4', 'title': 'Amount', 'type': 'UNIT', 'dataType': 'UNIT', 'measure': 'mass'}, {'key': '10', 'title': 'Attached Docs', 'type': 'CHILD_ENTITY_COUNT', 'dataType': 'CHILD_ENTITY_COUNT'}, {'key': 'sourceName', 'title': 'Template', 'type': 'TEXT', 'dataType': 'TEXT'}, {'key': '5', 'title': 'Chemical Name', 'type': 'TEXT', 'dataType': 'TEXT'}, {'key': '6', 'title': 'FM', 'type': 'UNIT', 'dataType': 'UNIT', 'measure': 'molecular mass'}, {'key': '7', 'title': 'EM', 'type': 'UNIT', 'dataType': 'UNIT', 'measure': 'molecular mass'}, {'key': '8', 'title': 'MF', 'type': 'FORMULA', 'dataType': 'FORMULA'}, {'key': '9', 'title': 'MW', 'type': 'UNIT', 'dataType': 'UNIT', 'measure': 'molecular mass'}, {'key': 'materialId', 'title': 'Material ID', 'type': 'LINK', 'dataType': 'LINK'}]}}]}\n"
     ]
    },
    {
     "data": {
      "text/plain": "[SampleTableRow(type=<ObjectType.SAMPLES_TABLE_ROW: 'samplesTableRow'>, eid='sample:0f96db87-a4af-46ae-9aff-711867f23d73', columns={'subExpName': SampleProperty(id=None, name='Name', content=CellPropertyContent(value='parasubexp:413779cf-16b9-49ce-bb85-85b2fa6964da', name=None, eid=None, values=None)), 'sampleId': SampleProperty(id=None, name='ID', content=CellPropertyContent(value='sample:0f96db87-a4af-46ae-9aff-711867f23d73', name=None, eid=None, values=None)), '1': SampleProperty(id=None, name='Created Date', content=CellPropertyContent(value='2022-06-06T08:54:51.677884071Z', name=None, eid=None, values=None)), '2': SampleProperty(id=None, name='Description', content=CellPropertyContent(value='Description 1', name=None, eid=None, values=None)), '3': SampleProperty(id=None, name='Comments', content=CellPropertyContent(value='Comments 1', name=None, eid=None, values=None)), '4': SampleProperty(id=None, name='Amount', content=CellPropertyContent(value=1.0, name=None, eid=None, values=None)), '10': SampleProperty(id=None, name='Attached Docs', content=CellPropertyContent(value='0', name=None, eid='sample:0f96db87-a4af-46ae-9aff-711867f23d73', values=None)), 'sourceName': SampleProperty(id=None, name='Template', content=CellPropertyContent(value='Sample', name=None, eid=None, values=None))})]"
     },
     "execution_count": 14,
     "metadata": {},
     "output_type": "execute_result"
    }
   ],
   "source": [
    "list(samples)"
   ],
   "metadata": {
    "collapsed": false,
    "pycharm": {
     "name": "#%%\n"
    }
   }
  },
  {
   "cell_type": "code",
   "execution_count": 14,
   "outputs": [],
   "source": [],
   "metadata": {
    "collapsed": false,
    "pycharm": {
     "name": "#%%\n"
    }
   }
  }
 ],
 "metadata": {
  "kernelspec": {
   "display_name": "Python 3",
   "language": "python",
   "name": "python3"
  },
  "language_info": {
   "codemirror_mode": {
    "name": "ipython",
    "version": 2
   },
   "file_extension": ".py",
   "mimetype": "text/x-python",
   "name": "python",
   "nbconvert_exporter": "python",
   "pygments_lexer": "ipython2",
   "version": "2.7.6"
  }
 },
 "nbformat": 4,
 "nbformat_minor": 0
}
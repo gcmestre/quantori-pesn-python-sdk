{
 "cells": [
  {
   "cell_type": "code",
   "execution_count": 1,
   "outputs": [],
   "source": [
    "%load_ext dotenv\n",
    "%dotenv\n",
    "import os\n",
    "\n",
    "SN_API_HOST = os.getenv('SN_API_HOST')\n",
    "SN_API_KEY = os.getenv('SN_API_KEY')"
   ],
   "metadata": {
    "collapsed": false,
    "pycharm": {
     "name": "#%%\n"
    }
   }
  },
  {
   "cell_type": "code",
   "execution_count": 2,
   "outputs": [
    {
     "data": {
      "text/plain": "<signals_notebook.api.SignalsNotebookApi at 0x2938ed84580>"
     },
     "execution_count": 2,
     "metadata": {},
     "output_type": "execute_result"
    }
   ],
   "source": [
    "from signals_notebook.api import SignalsNotebookApi\n",
    "\n",
    "SignalsNotebookApi.init(SN_API_HOST, SN_API_KEY)"
   ],
   "metadata": {
    "collapsed": false,
    "pycharm": {
     "name": "#%%\n"
    }
   }
  },
  {
   "cell_type": "code",
   "execution_count": 3,
   "outputs": [],
   "source": [
    "from signals_notebook.entities import EntityStore\n",
    "\n",
    "todo_list = EntityStore.get(\"linkedTaskContainer:8be0ca31-1077-406f-afe9-27a42dfad149\")"
   ],
   "metadata": {
    "collapsed": false,
    "pycharm": {
     "name": "#%%\n"
    }
   }
  },
  {
   "cell_type": "code",
   "execution_count": 4,
   "outputs": [
    {
     "data": {
      "text/plain": "TodoList(type=<EntityType.TODO_LIST: 'linkedTaskContainer'>, eid='linkedTaskContainer:8be0ca31-1077-406f-afe9-27a42dfad149', digest='89425949', name='Tasks to do', description='', created_at=datetime.datetime(2022, 8, 30, 9, 25, 34, 243000, tzinfo=datetime.timezone.utc), edited_at=datetime.datetime(2022, 8, 30, 9, 26, 17, 752000, tzinfo=datetime.timezone.utc))"
     },
     "execution_count": 4,
     "metadata": {},
     "output_type": "execute_result"
    }
   ],
   "source": [
    "todo_list"
   ],
   "metadata": {
    "collapsed": false,
    "pycharm": {
     "name": "#%%\n"
    }
   }
  },
  {
   "cell_type": "code",
   "execution_count": 5,
   "outputs": [
    {
     "data": {
      "text/plain": "File(name='Tasks+to+do.txt', content=b'{\"cols\":[{\"key\":\"1\",\"title\":\"Task ID\",\"type\":\"link\",\"isEditableInRequest\":false,\"isEditableInExperiment\":false,\"isTaskIdField\":true},{\"key\":\"2\",\"title\":\"Task Type\",\"type\":\"text\",\"isEditableInRequest\":false,\"isEditableInExperiment\":false},{\"key\":\"3\",\"title\":\"Reference ID\",\"type\":\"link\",\"isEditableInRequest\":true,\"isEditableInExperiment\":false},{\"key\":\"4\",\"title\":\"Requestor Comment\",\"type\":\"text\",\"isEditableInRequest\":true,\"isEditableInExperiment\":false},{\"key\":\"5\",\"title\":\"Analyst Comment\",\"type\":\"text\",\"isEditableInRequest\":false,\"isEditableInExperiment\":true},{\"key\":\"6\",\"title\":\"Required By\",\"type\":\"datetime\",\"isEditableInRequest\":true,\"isEditableInExperiment\":false},{\"key\":\"7\",\"title\":\"Analyst\",\"type\":\"user\",\"isEditableInRequest\":false,\"isEditableInExperiment\":false},{\"key\":\"8\",\"title\":\"Experiment Link\",\"type\":\"link\",\"isEditableInRequest\":false,\"isEditableInExperiment\":false},{\"key\":\"9\",\"title\":\"Request Link\",\"type\":\"link\",\"isEditableInRequest\":false,\"isEditableInExperiment\":false},{\"key\":\"10\",\"title\":\"Status\",\"type\":\"attributeList\",\"attributeListEid\":\"attribute:14\",\"isEditableInRequest\":false,\"isEditableInExperiment\":false,\"isStatusField\":true},{\"key\":\"11\",\"title\":\"Attached Docs\",\"type\":\"childEntityCount\",\"isEditableInRequest\":false,\"isEditableInExperiment\":false},{\"key\":\"100\",\"title\":\"My Assigned To (SK)\",\"type\":\"list\",\"options\":[\"Sergey Kuznetsov\",\"Anatoliy Kind\",\"Darya Korkina\",\"Denis Sapegin\"],\"isEditableInRequest\":true,\"isEditableInExperiment\":true}],\"rows\":[{\"_id\":\"f196c419-52ee-43c3-841e-384f8c080593\",\"sourceEid\":\"task:aad65584-f51d-4368-bc66-819c5d5b7f9f\",\"eid\":\"task:cf03cbcf-864d-4558-ab3f-cbe3dca051de\",\"1\":{\"auto\":\"Task-32\",\"value\":\"task:cf03cbcf-864d-4558-ab3f-cbe3dca051de\",\"type\":\"task\"},\"2\":{\"auto\":\"Investigation\",\"value\":\"Investigation\"},\"3\":{\"user\":\"Container-0044\",\"value\":\"container:e488892c-770d-4c6a-8765-7977b71ce47a:ivt\",\"type\":\"container\"},\"4\":{\"user\":\"www\",\"value\":\"www\"},\"5\":{},\"6\":{},\"7\":{\"auto\":{\"userId\":\"136\",\"userName\":\"daniil.cherednichenko@quantori.com\",\"email\":\"daniil.cherednichenko@quantori.com\",\"firstName\":\"Daniil\",\"lastName\":\"Cherednichenko\",\"picture\":{}},\"value\":{\"userId\":\"136\",\"userName\":\"daniil.cherednichenko@quantori.com\",\"email\":\"daniil.cherednichenko@quantori.com\",\"firstName\":\"Daniil\",\"lastName\":\"Cherednichenko\",\"picture\":{}}},\"8\":{\"auto\":\"Example\",\"value\":\"experiment:a16616ef-e1d5-4409-a9b6-c253c359d504\",\"type\":\"experiment\"},\"9\":{\"auto\":\"NMR-2 Alprostadil\",\"value\":\"request:7ada3be4-e225-4ded-819c-8dee521c68ac\",\"type\":\"request\"},\"10\":{\"auto\":\"In Progress\",\"value\":\"In Progress\"},\"11\":{\"eid\":\"task:cf03cbcf-864d-4558-ab3f-cbe3dca051de\",\"auto\":\"0\",\"value\":\"0\"},\"100\":{\"user\":\"Anatoliy Kind\"},\"status\":\"in progress\",\"validStateTransitions\":[\"unassign\",\"complete\"],\"requestTaskContainerEid\":\"taskContainer:ebb95c56-626f-4614-9534-88471f46b835\",\"experimentTaskContainerEid\":\"linkedTaskContainer:8be0ca31-1077-406f-afe9-27a42dfad149\"}]}', content_type='text/plain')"
     },
     "execution_count": 5,
     "metadata": {},
     "output_type": "execute_result"
    }
   ],
   "source": [
    "todo_list.get_content()"
   ],
   "metadata": {
    "collapsed": false,
    "pycharm": {
     "name": "#%%\n"
    }
   }
  },
  {
   "cell_type": "code",
   "execution_count": 6,
   "outputs": [
    {
     "data": {
      "text/plain": "<IPython.core.display.HTML object>",
      "text/html": "<div class=\"table-wrapper\" style=\"margin: 10px 10px; padding: 6px 10px; border: solid 1px #f5f5f5;\">\n    <div class=\"table-scroll\">\n        <h2>Tasks to do</h2>\n        <table>\n            <thead>\n                <tr>\n                \n                    <th>Task ID</th>\n                \n                    <th>Task Type</th>\n                \n                    <th>Reference ID</th>\n                \n                    <th>Requestor Comment</th>\n                \n                    <th>Analyst Comment</th>\n                \n                    <th>Required By</th>\n                \n                    <th>Analyst</th>\n                \n                    <th>Experiment Link</th>\n                \n                    <th>Request Link</th>\n                \n                    <th>Status</th>\n                \n                    <th>Attached Docs</th>\n                \n                    <th>My Assigned To (SK)</th>\n                \n                </tr>\n            </thead>\n            <tbody>\n            \n                <tr>\n                \n                    \n                        \n                        <td><a href=\"task:cf03cbcf-864d-4558-ab3f-cbe3dca051de\"> Task-32 </a></td>\n                        \n                    \n                \n                    \n                        \n                        <td> Investigation </td>\n                        \n                    \n                \n                    \n                        \n                        <td><a href=\"container:e488892c-770d-4c6a-8765-7977b71ce47a:ivt\">  </a></td>\n                        \n                    \n                \n                    \n                        \n                        <td>  </td>\n                        \n                    \n                \n                    \n                        \n                        <td>  </td>\n                        \n                    \n                \n                    \n                        \n                        <td>  </td>\n                        \n                    \n                \n                    \n                        \n                        <td> Daniil Cherednichenko </td>\n                        \n                    \n                \n                    \n                        \n                        <td><a href=\"experiment:a16616ef-e1d5-4409-a9b6-c253c359d504\"> Example </a></td>\n                        \n                    \n                \n                    \n                        \n                        <td><a href=\"request:7ada3be4-e225-4ded-819c-8dee521c68ac\"> NMR-2 Alprostadil </a></td>\n                        \n                    \n                \n                    \n                        \n                        <td> In Progress </td>\n                        \n                    \n                \n                    \n                        \n                        <td> 0 </td>\n                        \n                    \n                \n                    \n                        \n                        <td>  </td>\n                        \n                    \n                \n                </tr>\n            \n            </tbody>\n        </table>\n    </div>\n</div>"
     },
     "metadata": {},
     "output_type": "display_data"
    }
   ],
   "source": [
    "import warnings # added to ignore deprecation warnings\n",
    "warnings.filterwarnings('ignore')\n",
    "\n",
    "from IPython.core.display import display, HTML\n",
    "\n",
    "todo_html = todo_list.get_html()\n",
    "display(HTML(data=todo_html))"
   ],
   "metadata": {
    "collapsed": false,
    "pycharm": {
     "name": "#%%\n"
    }
   }
  },
  {
   "cell_type": "code",
   "execution_count": 7,
   "outputs": [],
   "source": [
    "NEW_VALUE = 'www'\n",
    "for task in todo_list:\n",
    "    task['4'].set_content_value(NEW_VALUE)"
   ],
   "metadata": {
    "collapsed": false,
    "pycharm": {
     "name": "#%%\n"
    }
   }
  },
  {
   "cell_type": "code",
   "execution_count": 8,
   "outputs": [
    {
     "name": "stdout",
     "output_type": "stream",
     "text": [
      "id='4' name='Requestor Comment' content=TaskCellContent(value='www', name=None, eid=None, values=None)\n",
      "True\n"
     ]
    }
   ],
   "source": [
    "for task in todo_list:\n",
    "    print(task['4'])\n",
    "    print(task['4'].is_changed)"
   ],
   "metadata": {
    "collapsed": false,
    "pycharm": {
     "name": "#%%\n"
    }
   }
  },
  {
   "cell_type": "code",
   "execution_count": 9,
   "outputs": [],
   "source": [
    "todo_list.save()"
   ],
   "metadata": {
    "collapsed": false,
    "pycharm": {
     "name": "#%%\n"
    }
   }
  },
  {
   "cell_type": "code",
   "execution_count": 10,
   "outputs": [
    {
     "name": "stdout",
     "output_type": "stream",
     "text": [
      "www\n"
     ]
    }
   ],
   "source": [
    "for task in todo_list:\n",
    "    print(task['4'].content_value)\n",
    "    assert task['4'].content_value == NEW_VALUE"
   ],
   "metadata": {
    "collapsed": false,
    "pycharm": {
     "name": "#%%\n"
    }
   }
  },
  {
   "cell_type": "code",
   "execution_count": 11,
   "outputs": [
    {
     "name": "stdout",
     "output_type": "stream",
     "text": [
      "id='1' name='Task ID' content=TaskCellContent(value='task:cf03cbcf-864d-4558-ab3f-cbe3dca051de', name=None, eid=None, values=None)\n",
      "id='2' name='Task Type' content=TaskCellContent(value='Investigation', name=None, eid=None, values=None)\n",
      "id='3' name='Reference ID' content=TaskCellContent(value='container:e488892c-770d-4c6a-8765-7977b71ce47a:ivt', name=None, eid=None, values=None)\n",
      "id='4' name='Requestor Comment' content=TaskCellContent(value='www', name=None, eid=None, values=None)\n",
      "id='5' name='Analyst Comment' content=TaskCellContent(value=None, name=None, eid=None, values=None)\n",
      "id='6' name='Required By' content=TaskCellContent(value=None, name=None, eid=None, values=None)\n",
      "id='7' name='Analyst' content=TaskCellContent(value={'userId': '136', 'userName': 'daniil.cherednichenko@quantori.com', 'email': 'daniil.cherednichenko@quantori.com', 'firstName': 'Daniil', 'lastName': 'Cherednichenko', 'picture': {}}, name=None, eid=None, values=None)\n",
      "id='8' name='Experiment Link' content=TaskCellContent(value='experiment:a16616ef-e1d5-4409-a9b6-c253c359d504', name=None, eid=None, values=None)\n",
      "id='9' name='Request Link' content=TaskCellContent(value='request:7ada3be4-e225-4ded-819c-8dee521c68ac', name=None, eid=None, values=None)\n",
      "id='10' name='Status' content=TaskCellContent(value='In Progress', name=None, eid=None, values=None)\n",
      "id='11' name='Attached Docs' content=TaskCellContent(value='0', name=None, eid='task:cf03cbcf-864d-4558-ab3f-cbe3dca051de', values=None)\n",
      "id='100' name='My Assigned To (SK)' content=TaskCellContent(value='Anatoliy Kind', name=None, eid=None, values=None)\n"
     ]
    }
   ],
   "source": [
    "task = todo_list[0]\n",
    "for item in task:\n",
    "    print(item)"
   ],
   "metadata": {
    "collapsed": false,
    "pycharm": {
     "name": "#%%\n"
    }
   }
  },
  {
   "cell_type": "code",
   "execution_count": 12,
   "outputs": [
    {
     "name": "stdout",
     "output_type": "stream",
     "text": [
      "id='10' name='Status' content=TaskCellContent(value='In Progress', name=None, eid=None, values=None)\n",
      "id='11' name='Attached Docs' content=TaskCellContent(value='0', name=None, eid='task:cf03cbcf-864d-4558-ab3f-cbe3dca051de', values=None)\n"
     ]
    }
   ],
   "source": [
    "# Get property by id\n",
    "print(task['10'])\n",
    "\n",
    "# or by index\n",
    "print(task[10])"
   ],
   "metadata": {
    "collapsed": false,
    "pycharm": {
     "name": "#%%\n"
    }
   }
  },
  {
   "cell_type": "code",
   "execution_count": 13,
   "outputs": [
    {
     "name": "stdout",
     "output_type": "stream",
     "text": [
      "id='1' name='Task ID' content=TaskCellContent(value='task:cf03cbcf-864d-4558-ab3f-cbe3dca051de', name=None, eid=None, values=None)\n",
      "id='10' name='Status' content=TaskCellContent(value='In Progress', name=None, eid=None, values=None)\n"
     ]
    }
   ],
   "source": [
    "# Get any property of task from TodoList:\n",
    "# by index\n",
    "print(todo_list[0][0])\n",
    "\n",
    "# by uuid\n",
    "print(todo_list[0]['10'])"
   ],
   "metadata": {
    "collapsed": false,
    "pycharm": {
     "name": "#%%\n"
    }
   }
  }
 ],
 "metadata": {
  "kernelspec": {
   "display_name": "Python 3",
   "language": "python",
   "name": "python3"
  },
  "language_info": {
   "codemirror_mode": {
    "name": "ipython",
    "version": 2
   },
   "file_extension": ".py",
   "mimetype": "text/x-python",
   "name": "python",
   "nbconvert_exporter": "python",
   "pygments_lexer": "ipython2",
   "version": "2.7.6"
  }
 },
 "nbformat": 4,
 "nbformat_minor": 0
}
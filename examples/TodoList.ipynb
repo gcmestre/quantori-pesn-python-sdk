{
 "cells": [
  {
   "cell_type": "code",
   "execution_count": 1,
   "outputs": [],
   "source": [
    "%load_ext dotenv\n",
    "%dotenv\n",
    "import os\n",
    "\n",
    "SN_API_HOST = os.getenv('SN_API_HOST')\n",
    "SN_API_KEY = os.getenv('SN_API_KEY')"
   ],
   "metadata": {
    "collapsed": false,
    "pycharm": {
     "name": "#%%\n"
    }
   }
  },
  {
   "cell_type": "code",
   "execution_count": 2,
   "outputs": [
    {
     "data": {
      "text/plain": "<signals_notebook.api.SignalsNotebookApi at 0x14f9de6b550>"
     },
     "execution_count": 2,
     "metadata": {},
     "output_type": "execute_result"
    }
   ],
   "source": [
    "from signals_notebook.api import SignalsNotebookApi\n",
    "\n",
    "SignalsNotebookApi.init(SN_API_HOST, SN_API_KEY)"
   ],
   "metadata": {
    "collapsed": false,
    "pycharm": {
     "name": "#%%\n"
    }
   }
  },
  {
   "cell_type": "code",
   "execution_count": 3,
   "outputs": [],
   "source": [
    "from signals_notebook.entities import EntityStore\n",
    "\n",
    "todo_list = EntityStore.get(\"linkedTaskContainer:1bd246f0-8b65-4360-8fb1-ddac9e02c332\")"
   ],
   "metadata": {
    "collapsed": false,
    "pycharm": {
     "name": "#%%\n"
    }
   }
  },
  {
   "cell_type": "code",
   "execution_count": 4,
   "outputs": [
    {
     "data": {
      "text/plain": "TodoList(type=<EntityType.TODO_LIST: 'linkedTaskContainer'>, eid='linkedTaskContainer:1bd246f0-8b65-4360-8fb1-ddac9e02c332', digest='83303316', name='Tasks to do', description='', created_at=datetime.datetime(2022, 6, 21, 10, 23, 20, 533000, tzinfo=datetime.timezone.utc), edited_at=datetime.datetime(2022, 6, 23, 10, 6, 0, 34000, tzinfo=datetime.timezone.utc))"
     },
     "execution_count": 4,
     "metadata": {},
     "output_type": "execute_result"
    }
   ],
   "source": [
    "todo_list"
   ],
   "metadata": {
    "collapsed": false,
    "pycharm": {
     "name": "#%%\n"
    }
   }
  },
  {
   "cell_type": "code",
   "execution_count": 5,
   "outputs": [
    {
     "data": {
      "text/plain": "File(name='Tasks+to+do.txt', content=b'{\"cols\":[{\"key\":\"1\",\"title\":\"Task ID\",\"type\":\"link\",\"isEditableInRequest\":false,\"isEditableInExperiment\":false,\"isTaskIdField\":true,\"internalSearchQuery\":{}},{\"key\":\"2\",\"title\":\"Task Type\",\"type\":\"text\",\"isEditableInRequest\":false,\"isEditableInExperiment\":false},{\"key\":\"3\",\"title\":\"Reference ID\",\"type\":\"link\",\"isEditableInRequest\":true,\"isEditableInExperiment\":false},{\"key\":\"4\",\"title\":\"Requestor Comment\",\"type\":\"text\",\"isEditableInRequest\":true,\"isEditableInExperiment\":false},{\"key\":\"5\",\"title\":\"Analyst Comment\",\"type\":\"text\",\"isEditableInRequest\":false,\"isEditableInExperiment\":true},{\"key\":\"6\",\"title\":\"Required By\",\"type\":\"datetime\",\"isEditableInRequest\":true,\"isEditableInExperiment\":false},{\"key\":\"7\",\"title\":\"Analyst\",\"type\":\"user\",\"isEditableInRequest\":false,\"isEditableInExperiment\":false},{\"key\":\"8\",\"title\":\"Experiment Link\",\"type\":\"link\",\"isEditableInRequest\":false,\"isEditableInExperiment\":false,\"internalSearchQuery\":{}},{\"key\":\"9\",\"title\":\"Request Link\",\"type\":\"link\",\"isEditableInRequest\":false,\"isEditableInExperiment\":false,\"internalSearchQuery\":{}},{\"key\":\"10\",\"title\":\"Status\",\"type\":\"attributeList\",\"attributeListEid\":\"attribute:14\",\"isEditableInRequest\":false,\"isEditableInExperiment\":false,\"isStatusField\":true},{\"key\":\"11\",\"title\":\"Attached Docs\",\"type\":\"childEntityCount\",\"isEditableInRequest\":false,\"isEditableInExperiment\":false},{\"key\":\"13\",\"title\":\"Created Date\",\"type\":\"datetime\",\"isEditableInRequest\":false,\"isEditableInExperiment\":false},{\"key\":\"100\",\"title\":\"My Assigned To (SK)\",\"type\":\"list\",\"options\":[\"Sergey Kuznetsov\",\"Anatoliy Kind\",\"Darya Korkina\",\"Denis Sapegin\"],\"hidden\":true,\"isEditableInRequest\":true,\"isEditableInExperiment\":true},{\"key\":\"12\",\"title\":\"Creator\",\"type\":\"user\",\"hidden\":true,\"isEditableInRequest\":false,\"isEditableInExperiment\":false}],\"rows\":[{\"_id\":\"5cbd2656-bebc-43f8-801b-56c09d721e22\",\"sourceEid\":\"task:73bb7697-e3fd-4dc0-9653-ae3da440dbe1\",\"eid\":\"task:58ebedd9-c158-4bf3-b737-b45aea636a61\",\"1\":{\"auto\":\"Task-4\",\"value\":\"task:58ebedd9-c158-4bf3-b737-b45aea636a61\",\"type\":\"task\"},\"2\":{\"auto\":\"Task\",\"value\":\"Task\"},\"3\":{\"user\":\"Synthesis of SPI\",\"value\":\"experiment:8d7eab5c-75a5-4458-ae6a-285ab0116a44\",\"type\":\"experiment\"},\"4\":{},\"5\":{},\"6\":{},\"7\":{\"auto\":{\"userId\":\"119\",\"userName\":\"evgeniy.pokidov@quantori.com\",\"email\":\"evgeniy.pokidov@quantori.com\",\"firstName\":\"Evgeniy\",\"lastName\":\"Pokidov\",\"picture\":{}},\"value\":{\"userId\":\"119\",\"userName\":\"evgeniy.pokidov@quantori.com\",\"email\":\"evgeniy.pokidov@quantori.com\",\"firstName\":\"Evgeniy\",\"lastName\":\"Pokidov\",\"picture\":{}}},\"8\":{\"auto\":\"Test experiment creation by SDK\",\"value\":\"experiment:f7fb12b2-1180-4fa0-9bcd-ccc2f7ec0e8f\",\"type\":\"experiment\"},\"9\":{\"auto\":\"TRX-000002\",\"value\":\"request:f56f61c5-9e1a-4c33-aa89-e9416027a586\",\"type\":\"request\"},\"10\":{\"auto\":\"In Progress\",\"value\":\"In Progress\"},\"11\":{\"eid\":\"task:58ebedd9-c158-4bf3-b737-b45aea636a61\",\"auto\":\"0\",\"value\":\"0\"},\"13\":{\"user\":\"2022-06-15T21:00:00.000Z\"},\"status\":\"in progress\",\"validStateTransitions\":[\"complete\",\"unassign\"],\"requestTaskContainerEid\":\"taskContainer:07ff9900-bd24-45c0-b3ac-0f06793bc8d0\",\"experimentTaskContainerEid\":\"linkedTaskContainer:1bd246f0-8b65-4360-8fb1-ddac9e02c332\"}]}', content_type='text/plain')"
     },
     "execution_count": 5,
     "metadata": {},
     "output_type": "execute_result"
    }
   ],
   "source": [
    "todo_list.get_content()"
   ],
   "metadata": {
    "collapsed": false,
    "pycharm": {
     "name": "#%%\n"
    }
   }
  },
  {
   "cell_type": "code",
   "execution_count": 6,
   "outputs": [
    {
     "data": {
      "text/plain": "<IPython.core.display.HTML object>",
      "text/html": "\n<div class=\"table-wrapper\" style=\"margin: 10px 10px; padding: 6px 10px; border: solid 1px #f5f5f5;\">\n    <div class=\"table-scroll\">\n        <h2>Tasks to do</h2>\n        <table>\n            <thead>\n                <tr>\n                \n                    <th>Task ID</th>\n                \n                    <th>Task Type</th>\n                \n                    <th>Reference ID</th>\n                \n                    <th>Requestor Comment</th>\n                \n                    <th>Analyst Comment</th>\n                \n                    <th>Required By</th>\n                \n                    <th>Analyst</th>\n                \n                    <th>Experiment Link</th>\n                \n                    <th>Request Link</th>\n                \n                    <th>Status</th>\n                \n                    <th>Attached Docs</th>\n                \n                    <th>Created Date</th>\n                \n                    <th>My Assigned To (SK)</th>\n                \n                    <th>Creator</th>\n                \n                </tr>\n            </thead>\n            <tbody>\n            \n                <tr>\n                \n                    \n                        \n                        <td><a href=\"task:58ebedd9-c158-4bf3-b737-b45aea636a61\"> Task-4 </a></td>\n                        \n                    \n                \n                    \n                        \n                        <td> Task </td>\n                        \n                    \n                \n                    \n                        \n                        <td><a href=\"experiment:8d7eab5c-75a5-4458-ae6a-285ab0116a44\">  </a></td>\n                        \n                    \n                \n                    \n                        \n                        <td>  </td>\n                        \n                    \n                \n                    \n                        \n                        <td>  </td>\n                        \n                    \n                \n                    \n                        \n                        <td>  </td>\n                        \n                    \n                \n                    \n                        \n                        <td> Evgeniy Pokidov </td>\n                        \n                    \n                \n                    \n                        \n                        <td><a href=\"experiment:f7fb12b2-1180-4fa0-9bcd-ccc2f7ec0e8f\"> Test experiment creation by SDK </a></td>\n                        \n                    \n                \n                    \n                        \n                        <td><a href=\"request:f56f61c5-9e1a-4c33-aa89-e9416027a586\"> TRX-000002 </a></td>\n                        \n                    \n                \n                    \n                        \n                        <td> In Progress </td>\n                        \n                    \n                \n                    \n                        \n                        <td> 0 </td>\n                        \n                    \n                \n                    \n                        \n                        <td> 2022-06-15T21:00:00.000Z </td>\n                        \n                    \n                \n                    \n                \n                    \n                \n                </tr>\n            \n            </tbody>\n        </table>\n    </div>\n</div>\n"
     },
     "metadata": {},
     "output_type": "display_data"
    }
   ],
   "source": [
    "import warnings # added to ignore deprecation warnings\n",
    "warnings.filterwarnings('ignore')\n",
    "\n",
    "from IPython.core.display import display, HTML\n",
    "\n",
    "todo_html = todo_list.get_html()\n",
    "display(HTML(data=todo_html))"
   ],
   "metadata": {
    "collapsed": false,
    "pycharm": {
     "name": "#%%\n"
    }
   }
  },
  {
   "cell_type": "code",
   "execution_count": 7,
   "outputs": [],
   "source": [
    "with open('test_file.html', 'w') as f:\n",
    "    f.write(todo_html)"
   ],
   "metadata": {
    "collapsed": false,
    "pycharm": {
     "name": "#%%\n"
    }
   }
  },
  {
   "cell_type": "code",
   "execution_count": 8,
   "outputs": [],
   "source": [
    "todo_list._reload_tasks()"
   ],
   "metadata": {
    "collapsed": false,
    "pycharm": {
     "name": "#%%\n"
    }
   }
  },
  {
   "cell_type": "code",
   "execution_count": 9,
   "outputs": [
    {
     "data": {
      "text/plain": "Task(type=<EntityType.TASK: 'task'>, eid='task:58ebedd9-c158-4bf3-b737-b45aea636a61', digest='93193478', name='Task-4', description='', created_at=datetime.datetime(2021, 11, 11, 11, 31, 32, 289000, tzinfo=datetime.timezone.utc), edited_at=datetime.datetime(2022, 6, 23, 10, 6, 0, 34000, tzinfo=datetime.timezone.utc))"
     },
     "execution_count": 9,
     "metadata": {},
     "output_type": "execute_result"
    }
   ],
   "source": [
    "todo_list[0]"
   ],
   "metadata": {
    "collapsed": false,
    "pycharm": {
     "name": "#%%\n"
    }
   }
  },
  {
   "cell_type": "code",
   "execution_count": 9,
   "outputs": [],
   "source": [],
   "metadata": {
    "collapsed": false,
    "pycharm": {
     "name": "#%%\n"
    }
   }
  }
 ],
 "metadata": {
  "kernelspec": {
   "display_name": "Python 3",
   "language": "python",
   "name": "python3"
  },
  "language_info": {
   "codemirror_mode": {
    "name": "ipython",
    "version": 2
   },
   "file_extension": ".py",
   "mimetype": "text/x-python",
   "name": "python",
   "nbconvert_exporter": "python",
   "pygments_lexer": "ipython2",
   "version": "2.7.6"
  }
 },
 "nbformat": 4,
 "nbformat_minor": 0
}
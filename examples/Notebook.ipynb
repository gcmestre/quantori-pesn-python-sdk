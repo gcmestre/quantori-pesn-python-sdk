{
 "cells": [
  {
   "cell_type": "code",
   "execution_count": 1,
   "outputs": [],
   "source": [
    "%load_ext dotenv\n",
    "%dotenv\n",
    "import os\n",
    "\n",
    "SN_API_HOST = os.getenv('SN_API_HOST')\n",
    "SN_API_KEY = os.getenv('SN_API_KEY')"
   ],
   "metadata": {
    "collapsed": false,
    "pycharm": {
     "name": "#%%\n"
    }
   }
  },
  {
   "cell_type": "code",
   "execution_count": 2,
   "outputs": [
    {
     "data": {
      "text/plain": "<signals_notebook.api.SignalsNotebookApi at 0x250f2f3b550>"
     },
     "execution_count": 2,
     "metadata": {},
     "output_type": "execute_result"
    }
   ],
   "source": [
    "from signals_notebook.api import SignalsNotebookApi\n",
    "\n",
    "SignalsNotebookApi.init(SN_API_HOST, SN_API_KEY)"
   ],
   "metadata": {
    "collapsed": false,
    "pycharm": {
     "name": "#%%\n"
    }
   }
  },
  {
   "cell_type": "code",
   "execution_count": 3,
   "metadata": {
    "collapsed": true,
    "pycharm": {
     "name": "#%%\n"
    }
   },
   "outputs": [],
   "source": [
    "from signals_notebook.entities.notebook import Notebook\n",
    "\n",
    "notebook = Notebook.create(\n",
    "    name='Example notebook created by SDK',\n",
    "    description='Delete if you see this in UI',\n",
    ")"
   ]
  },
  {
   "cell_type": "code",
   "execution_count": 4,
   "outputs": [
    {
     "name": "stdout",
     "output_type": "stream",
     "text": [
      "[{'attributes': {'name': 'Name', 'value': 'Test save by SDK'}}, {'attributes': {'name': 'Description', 'value': 'Changed by me'}}]\n"
     ]
    }
   ],
   "source": [
    "notebook.name = \"Test save by SDK\"\n",
    "notebook.description = \"Changed by me\"\n",
    "notebook.save()"
   ],
   "metadata": {
    "collapsed": false,
    "pycharm": {
     "name": "#%%\n"
    }
   }
  },
  {
   "cell_type": "code",
   "execution_count": 5,
   "outputs": [],
   "source": [
    "notebook.delete()"
   ],
   "metadata": {
    "collapsed": false,
    "pycharm": {
     "name": "#%%\n"
    }
   }
  },
  {
   "cell_type": "code",
   "execution_count": 6,
   "outputs": [
    {
     "data": {
      "text/plain": "<generator object Container.get_children at 0x00000250FF6A73C0>"
     },
     "execution_count": 6,
     "metadata": {},
     "output_type": "execute_result"
    }
   ],
   "source": [
    "from signals_notebook.entities import EntityStore\n",
    "\n",
    "notebook = EntityStore.get(\"journal:111a8a0d-2772-47b0-b5b8-2e4faf04119e\")\n",
    "notebook.get_children()"
   ],
   "metadata": {
    "collapsed": false,
    "pycharm": {
     "name": "#%%\n"
    }
   }
  },
  {
   "cell_type": "code",
   "execution_count": 7,
   "outputs": [
    {
     "data": {
      "text/plain": "[Notebook(type=<EntityType.NOTEBOOK: 'journal'>, eid='journal:cbabfd5e-b6d3-4a0b-b8ca-fb4abe40ff6f', digest='95590489', name='DEFAULT_NOTEBOOK', description='', created_at=datetime.datetime(2021, 10, 22, 13, 36, 1, 989000, tzinfo=datetime.timezone.utc), edited_at=datetime.datetime(2021, 11, 8, 8, 23, 19, 789000, tzinfo=datetime.timezone.utc)),\n Notebook(type=<EntityType.NOTEBOOK: 'journal'>, eid='journal:5736bb66-320b-418b-afd8-33799f623022', digest='39244831', name='My Notebook 1 (SK)', description='Description of notebook 1', created_at=datetime.datetime(2021, 11, 3, 10, 56, 40, 96000, tzinfo=datetime.timezone.utc), edited_at=datetime.datetime(2021, 11, 9, 13, 39, 52, 451000, tzinfo=datetime.timezone.utc)),\n Notebook(type=<EntityType.NOTEBOOK: 'journal'>, eid='journal:81742b56-963c-451a-85f7-1819ff4abef7', digest='38821397', name='My Notebook 2 (SK)', description='', created_at=datetime.datetime(2021, 11, 3, 10, 59, 47, 949000, tzinfo=datetime.timezone.utc), edited_at=datetime.datetime(2021, 11, 9, 13, 37, 13, 410000, tzinfo=datetime.timezone.utc)),\n Notebook(type=<EntityType.NOTEBOOK: 'journal'>, eid='journal:c3c9774c-8634-48fa-be40-991bbf617741', digest='48894246', name='My Notebook 3 (SK)', description='', created_at=datetime.datetime(2021, 11, 3, 11, 20, 32, 405000, tzinfo=datetime.timezone.utc), edited_at=datetime.datetime(2021, 11, 9, 13, 37, 38, 792000, tzinfo=datetime.timezone.utc)),\n Notebook(type=<EntityType.NOTEBOOK: 'journal'>, eid='journal:41e64f1c-595c-4b58-bd0d-c22c192e520f', digest='93994397', name='My Notebook 4 with Custom Object (SK)', description='', created_at=datetime.datetime(2021, 11, 8, 7, 35, 47, 69000, tzinfo=datetime.timezone.utc), edited_at=datetime.datetime(2021, 11, 9, 13, 36, 51, 230000, tzinfo=datetime.timezone.utc)),\n Notebook(type=<EntityType.NOTEBOOK: 'journal'>, eid='journal:23515a28-16cc-45a0-a241-e0eb7c806531', digest='65975512', name='My Notebook 5 (SK)', description='', created_at=datetime.datetime(2021, 11, 8, 8, 25, 36, 397000, tzinfo=datetime.timezone.utc), edited_at=datetime.datetime(2021, 11, 23, 15, 14, 2, 556000, tzinfo=datetime.timezone.utc)),\n Notebook(type=<EntityType.NOTEBOOK: 'journal'>, eid='journal:e2df7e46-53a2-435b-bbfd-704beeb2e956', digest='52696933', name='Book-SL-1', description='', created_at=datetime.datetime(2021, 11, 12, 6, 13, 6, 594000, tzinfo=datetime.timezone.utc), edited_at=datetime.datetime(2021, 11, 12, 6, 13, 6, 594000, tzinfo=datetime.timezone.utc)),\n Notebook(type=<EntityType.NOTEBOOK: 'journal'>, eid='journal:d7f9b227-7c55-46ec-8476-dad41250126f', digest='18056131', name='Alprostadil', description='The notebook is purposed to model the laboratory workflow of obtainment and analysis of Alprostadil.', created_at=datetime.datetime(2021, 11, 18, 7, 56, 47, 565000, tzinfo=datetime.timezone.utc), edited_at=datetime.datetime(2021, 11, 18, 7, 56, 47, 565000, tzinfo=datetime.timezone.utc)),\n Notebook(type=<EntityType.NOTEBOOK: 'journal'>, eid='journal:64014286-7d05-4630-9556-0e5db62d0550', digest='94852597', name='Insulin', description='The notebook is purposed to model the laboratory workflow of biosynthesis and analysis of recombinant Insulin.', created_at=datetime.datetime(2021, 11, 30, 13, 34, 4, 55000, tzinfo=datetime.timezone.utc), edited_at=datetime.datetime(2021, 11, 30, 13, 34, 4, 55000, tzinfo=datetime.timezone.utc)),\n Notebook(type=<EntityType.NOTEBOOK: 'journal'>, eid='journal:8618c2b5-bc0b-4fee-a972-e45827d8c6ee', digest='83301414', name='Peptide Synthesis', description='approaches to peptide synthesis', created_at=datetime.datetime(2021, 12, 3, 9, 46, 43, 67000, tzinfo=datetime.timezone.utc), edited_at=datetime.datetime(2021, 12, 3, 9, 46, 43, 67000, tzinfo=datetime.timezone.utc)),\n Notebook(type=<EntityType.NOTEBOOK: 'journal'>, eid='journal:111a8a0d-2772-47b0-b5b8-2e4faf04119e', digest='49635439', name='Test creation by SDK', description='Created by Eugene Pokidov', created_at=datetime.datetime(2022, 2, 3, 14, 24, 39, 792000, tzinfo=datetime.timezone.utc), edited_at=datetime.datetime(2022, 2, 3, 14, 24, 39, 792000, tzinfo=datetime.timezone.utc)),\n Notebook(type=<EntityType.NOTEBOOK: 'journal'>, eid='journal:107105ef-4479-431f-9f75-7143a550c650', digest='46680482', name='journal-example-01', description='', created_at=datetime.datetime(2022, 5, 16, 8, 31, 3, 997000, tzinfo=datetime.timezone.utc), edited_at=datetime.datetime(2022, 5, 16, 8, 31, 3, 997000, tzinfo=datetime.timezone.utc)),\n Notebook(type=<EntityType.NOTEBOOK: 'journal'>, eid='journal:8ebf5e9b-b2b7-4945-84d1-b10fc2c61318', digest='80456148', name='journal-example-02', description='', created_at=datetime.datetime(2022, 5, 18, 13, 22, 26, 289000, tzinfo=datetime.timezone.utc), edited_at=datetime.datetime(2022, 5, 18, 13, 22, 26, 289000, tzinfo=datetime.timezone.utc)),\n Notebook(type=<EntityType.NOTEBOOK: 'journal'>, eid='journal:06798683-1010-498f-8f00-75fcd1a9ad7d', digest='87154622', name='journal-example22', description='', created_at=datetime.datetime(2022, 6, 29, 8, 12, 43, 325000, tzinfo=datetime.timezone.utc), edited_at=datetime.datetime(2022, 6, 29, 8, 12, 43, 325000, tzinfo=datetime.timezone.utc)),\n Notebook(type=<EntityType.NOTEBOOK: 'journal'>, eid='journal:73bb6358-c749-4e6c-94a4-03f741c00b2d', digest='39043325', name='restore:Test creation by SDK', description='Created by Eugene Pokidov', created_at=datetime.datetime(2022, 6, 29, 9, 52, 3, 888000, tzinfo=datetime.timezone.utc), edited_at=datetime.datetime(2022, 6, 29, 9, 52, 3, 888000, tzinfo=datetime.timezone.utc)),\n Notebook(type=<EntityType.NOTEBOOK: 'journal'>, eid='journal:0178b553-7654-45b9-85e7-073408d9c479', digest='51089008', name='unique name', description='', created_at=datetime.datetime(2022, 6, 29, 10, 59, 19, 418000, tzinfo=datetime.timezone.utc), edited_at=datetime.datetime(2022, 6, 29, 10, 59, 19, 418000, tzinfo=datetime.timezone.utc)),\n Notebook(type=<EntityType.NOTEBOOK: 'journal'>, eid='journal:52f4238d-f119-4910-be16-524411dbbb5b', digest='19274385', name='Initial notebook', description='', created_at=datetime.datetime(2021, 11, 3, 13, 34, 35, 533000, tzinfo=datetime.timezone.utc), edited_at=datetime.datetime(2021, 11, 3, 13, 34, 35, 533000, tzinfo=datetime.timezone.utc)),\n Notebook(type=<EntityType.NOTEBOOK: 'journal'>, eid='journal:5b9d1d1e-5b51-40c5-9fa1-907aa6899af2', digest='19420221', name='Electrophoresis', description='Protocols of analysis for gel electrophoresis for monoclonal antibodies', created_at=datetime.datetime(2021, 11, 9, 14, 10, 24, 82000, tzinfo=datetime.timezone.utc), edited_at=datetime.datetime(2021, 11, 10, 11, 7, 0, 496000, tzinfo=datetime.timezone.utc)),\n Notebook(type=<EntityType.NOTEBOOK: 'journal'>, eid='journal:9ac7b7c5-9583-4089-948e-00a2f61847b6', digest='52707259', name='test notebook', description='description 1', created_at=datetime.datetime(2021, 11, 9, 20, 4, 28, 42000, tzinfo=datetime.timezone.utc), edited_at=datetime.datetime(2021, 11, 9, 20, 4, 28, 42000, tzinfo=datetime.timezone.utc)),\n Notebook(type=<EntityType.NOTEBOOK: 'journal'>, eid='journal:d2f6b7a7-7ba8-4463-aa83-d125256bedd2', digest='30648310', name='SPI', description='Sulfonated polyimides as perspective materials for the development of diffusion membranes', created_at=datetime.datetime(2021, 11, 10, 7, 12, 45, 741000, tzinfo=datetime.timezone.utc), edited_at=datetime.datetime(2021, 11, 10, 7, 12, 45, 741000, tzinfo=datetime.timezone.utc)),\n Notebook(type=<EntityType.NOTEBOOK: 'journal'>, eid='journal:6c9f69ac-ff4f-44a2-b1c5-1770f329c387', digest='22763523', name='AK_Test_NoteBook', description='Test Notebook', created_at=datetime.datetime(2021, 11, 10, 7, 44, 10, 772000, tzinfo=datetime.timezone.utc), edited_at=datetime.datetime(2021, 11, 10, 7, 44, 10, 772000, tzinfo=datetime.timezone.utc)),\n Notebook(type=<EntityType.NOTEBOOK: 'journal'>, eid='journal:e4f22a7f-961e-415c-a966-b6f5e91dd070', digest='66478609', name='TGA_ILs', description='', created_at=datetime.datetime(2021, 11, 10, 17, 15, 38, 595000, tzinfo=datetime.timezone.utc), edited_at=datetime.datetime(2021, 11, 10, 17, 15, 38, 595000, tzinfo=datetime.timezone.utc)),\n Notebook(type=<EntityType.NOTEBOOK: 'journal'>, eid='journal:eb3b4666-f772-4bb9-8383-6012dde4fe08', digest='91593159', name='AK-001_Notebook', description=\"Anatoliy's work book\", created_at=datetime.datetime(2021, 11, 11, 10, 23, 10, 987000, tzinfo=datetime.timezone.utc), edited_at=datetime.datetime(2021, 11, 11, 10, 23, 10, 987000, tzinfo=datetime.timezone.utc)),\n Notebook(type=<EntityType.NOTEBOOK: 'journal'>, eid='journal:110a8af2-010b-491d-a8fa-6168c80d9910', digest='98451096', name='TSK-000001', description='', created_at=datetime.datetime(2021, 11, 11, 10, 53, 27, 938000, tzinfo=datetime.timezone.utc), edited_at=datetime.datetime(2021, 11, 11, 10, 53, 27, 938000, tzinfo=datetime.timezone.utc)),\n Notebook(type=<EntityType.NOTEBOOK: 'journal'>, eid='journal:3bdeff97-4dc4-438e-a5f3-e6131fd66281', digest='92266913', name='Laboratory1', description='analytical laboratory journal', created_at=datetime.datetime(2021, 11, 12, 7, 32, 59, 678000, tzinfo=datetime.timezone.utc), edited_at=datetime.datetime(2021, 11, 12, 7, 32, 59, 678000, tzinfo=datetime.timezone.utc)),\n Notebook(type=<EntityType.NOTEBOOK: 'journal'>, eid='journal:8adab7fc-9a4e-4180-8bf3-f0835dd4a938', digest='79045577', name='Alprostadil notebook', description='Full cycle of alrprostadil synthesys, QC, and phase 1 trial parts.', created_at=datetime.datetime(2021, 11, 21, 9, 51, 51, 955000, tzinfo=datetime.timezone.utc), edited_at=datetime.datetime(2021, 11, 21, 9, 51, 51, 955000, tzinfo=datetime.timezone.utc)),\n Notebook(type=<EntityType.NOTEBOOK: 'journal'>, eid='journal:97ddfe93-96dd-48cc-a50b-a40b47a3f131', digest='14260877', name='Alprostadil 2', description='Test 2', created_at=datetime.datetime(2021, 11, 22, 17, 5, 28, 269000, tzinfo=datetime.timezone.utc), edited_at=datetime.datetime(2021, 11, 22, 17, 5, 28, 269000, tzinfo=datetime.timezone.utc)),\n Notebook(type=<EntityType.NOTEBOOK: 'journal'>, eid='journal:81992115-5e21-4643-9187-9eb5a1dcf3db', digest='77298028', name='Biologic assays', description='Examples of biologic assays', created_at=datetime.datetime(2021, 11, 24, 10, 40, 10, 654000, tzinfo=datetime.timezone.utc), edited_at=datetime.datetime(2021, 11, 24, 10, 40, 10, 654000, tzinfo=datetime.timezone.utc)),\n Notebook(type=<EntityType.NOTEBOOK: 'journal'>, eid='journal:ca6dfc61-eaea-40ee-8810-505874a565a5', digest='56249659', name='Functions testing', description='Try to use different features separately', created_at=datetime.datetime(2021, 11, 25, 8, 20, 57, 721000, tzinfo=datetime.timezone.utc), edited_at=datetime.datetime(2021, 11, 25, 8, 20, 57, 721000, tzinfo=datetime.timezone.utc)),\n Notebook(type=<EntityType.NOTEBOOK: 'journal'>, eid='journal:daa080ee-50a2-496b-ba8f-8dacb3c38fbe', digest='13079140', name='Custom API Features', description='This notebook contains entities which demonstrate the possibilities of SIgnals enhancment through API added functionality', created_at=datetime.datetime(2021, 11, 26, 8, 32, 24, 523000, tzinfo=datetime.timezone.utc), edited_at=datetime.datetime(2021, 11, 26, 8, 32, 24, 523000, tzinfo=datetime.timezone.utc)),\n Notebook(type=<EntityType.NOTEBOOK: 'journal'>, eid='journal:92beda21-d1c7-4fa8-b99b-6ed5003c611c', digest='44514572', name='BPVA_01', description='', created_at=datetime.datetime(2022, 1, 14, 14, 23, 51, 174000, tzinfo=datetime.timezone.utc), edited_at=datetime.datetime(2022, 1, 14, 14, 23, 51, 174000, tzinfo=datetime.timezone.utc)),\n Notebook(type=<EntityType.NOTEBOOK: 'journal'>, eid='journal:6c621c7b-8dc2-478d-9458-1e23bdd6ccbf', digest='69963091', name='Test_1', description='', created_at=datetime.datetime(2022, 1, 20, 9, 0, 55, 851000, tzinfo=datetime.timezone.utc), edited_at=datetime.datetime(2022, 1, 20, 9, 0, 55, 851000, tzinfo=datetime.timezone.utc)),\n Notebook(type=<EntityType.NOTEBOOK: 'journal'>, eid='journal:26c23881-cf45-4402-8f19-01c328debc08', digest='21155561', name='OLED', description='', created_at=datetime.datetime(2022, 2, 2, 13, 49, 22, 424000, tzinfo=datetime.timezone.utc), edited_at=datetime.datetime(2022, 2, 2, 13, 49, 22, 424000, tzinfo=datetime.timezone.utc)),\n Notebook(type=<EntityType.NOTEBOOK: 'journal'>, eid='journal:9fb3517d-12c4-4e08-ad77-d2f32f47ead4', digest='35545938', name='test34556', description='3456', created_at=datetime.datetime(2022, 2, 2, 14, 22, 47, 325000, tzinfo=datetime.timezone.utc), edited_at=datetime.datetime(2022, 2, 2, 14, 22, 47, 325000, tzinfo=datetime.timezone.utc)),\n Notebook(type=<EntityType.NOTEBOOK: 'journal'>, eid='journal:95008b65-672b-425e-a525-b4abd1e7b7b5', digest='74537190', name='Brain rodents clinical research', description='', created_at=datetime.datetime(2022, 2, 2, 14, 47, 42, 499000, tzinfo=datetime.timezone.utc), edited_at=datetime.datetime(2022, 2, 2, 14, 47, 42, 499000, tzinfo=datetime.timezone.utc)),\n Notebook(type=<EntityType.NOTEBOOK: 'journal'>, eid='journal:3b825137-c2c7-467a-b196-e57baab4b247', digest='64125703', name='qPCR', description='', created_at=datetime.datetime(2022, 2, 15, 11, 38, 46, 378000, tzinfo=datetime.timezone.utc), edited_at=datetime.datetime(2022, 2, 15, 11, 38, 46, 378000, tzinfo=datetime.timezone.utc)),\n Notebook(type=<EntityType.NOTEBOOK: 'journal'>, eid='journal:80fee219-7d50-4abd-8698-22175eb980d4', digest='33129414', name='OLED workflow', description='', created_at=datetime.datetime(2022, 2, 15, 12, 19, 57, 934000, tzinfo=datetime.timezone.utc), edited_at=datetime.datetime(2022, 2, 15, 12, 19, 57, 934000, tzinfo=datetime.timezone.utc)),\n Notebook(type=<EntityType.NOTEBOOK: 'journal'>, eid='journal:20f305a1-e73b-4f4b-9b43-48569a837d91', digest='15344620', name='Hansen solubility Parameters', description='The Experiment describes a procedure for the determination of a Hansen solubility parameters set for a given polymer', created_at=datetime.datetime(2022, 2, 21, 7, 7, 31, 390000, tzinfo=datetime.timezone.utc), edited_at=datetime.datetime(2022, 2, 21, 7, 7, 31, 390000, tzinfo=datetime.timezone.utc)),\n Notebook(type=<EntityType.NOTEBOOK: 'journal'>, eid='journal:37928338-cf49-4786-a69f-fda0a05c8d27', digest='66719520', name='Animal research', description='Demo', created_at=datetime.datetime(2022, 2, 21, 9, 54, 17, 382000, tzinfo=datetime.timezone.utc), edited_at=datetime.datetime(2022, 3, 9, 9, 33, 27, 932000, tzinfo=datetime.timezone.utc)),\n Notebook(type=<EntityType.NOTEBOOK: 'journal'>, eid='journal:9429bd81-da81-46af-b180-e0a8694b1f95', digest='86440261', name='Open Experiments', description='', created_at=datetime.datetime(2022, 2, 23, 16, 34, 11, 232000, tzinfo=datetime.timezone.utc), edited_at=datetime.datetime(2022, 2, 23, 16, 34, 11, 232000, tzinfo=datetime.timezone.utc)),\n Notebook(type=<EntityType.NOTEBOOK: 'journal'>, eid='journal:f2649a74-faba-4566-b62b-bef58a0f88e6', digest='23628373', name='Smoke check list Signals', description='Smoke check list Signals according to Alprostadil and Insulin flow of experiment', created_at=datetime.datetime(2022, 2, 25, 3, 44, 36, 114000, tzinfo=datetime.timezone.utc), edited_at=datetime.datetime(2022, 2, 25, 3, 44, 36, 114000, tzinfo=datetime.timezone.utc)),\n Notebook(type=<EntityType.NOTEBOOK: 'journal'>, eid='journal:1a2e876f-14ee-4f78-bd7f-ed769c117c4d', digest='37512485', name='Speech transcript', description='', created_at=datetime.datetime(2022, 3, 16, 9, 9, 47, 203000, tzinfo=datetime.timezone.utc), edited_at=datetime.datetime(2022, 3, 16, 9, 9, 47, 203000, tzinfo=datetime.timezone.utc)),\n Notebook(type=<EntityType.NOTEBOOK: 'journal'>, eid='journal:07cfb2bf-420a-490a-a2df-b2ca6bc8b8c7', digest='58823484', name='Revised_Insulin', description='Revision of the Insulin case', created_at=datetime.datetime(2022, 3, 17, 11, 22, 46, 399000, tzinfo=datetime.timezone.utc), edited_at=datetime.datetime(2022, 3, 17, 11, 22, 46, 399000, tzinfo=datetime.timezone.utc)),\n Notebook(type=<EntityType.NOTEBOOK: 'journal'>, eid='journal:8b48da9c-6173-4b08-8b07-1d35edea06ef', digest='23274544', name='Ol', description='Determination platinum content', created_at=datetime.datetime(2022, 4, 18, 6, 58, 53, 435000, tzinfo=datetime.timezone.utc), edited_at=datetime.datetime(2022, 4, 18, 6, 58, 53, 435000, tzinfo=datetime.timezone.utc)),\n Notebook(type=<EntityType.NOTEBOOK: 'journal'>, eid='journal:ad8ac8ab-7bd2-4efc-a7fc-0e8871069242', digest='66495326', name='1', description='123', created_at=datetime.datetime(2022, 4, 20, 5, 40, 29, 60000, tzinfo=datetime.timezone.utc), edited_at=datetime.datetime(2022, 4, 20, 5, 40, 29, 60000, tzinfo=datetime.timezone.utc)),\n Notebook(type=<EntityType.NOTEBOOK: 'journal'>, eid='journal:7e4f0c41-1458-4b68-8830-34178fe7c151', digest='50989237', name='PrimetTest', description='', created_at=datetime.datetime(2022, 5, 5, 16, 10, 29, 324000, tzinfo=datetime.timezone.utc), edited_at=datetime.datetime(2022, 5, 5, 16, 10, 29, 324000, tzinfo=datetime.timezone.utc)),\n Notebook(type=<EntityType.NOTEBOOK: 'journal'>, eid='journal:0a8fc59f-653d-48b0-96d8-bef47e95ce2d', digest='98252257', name='PrimerNET-1', description='', created_at=datetime.datetime(2022, 5, 11, 10, 47, 51, 716000, tzinfo=datetime.timezone.utc), edited_at=datetime.datetime(2022, 5, 11, 10, 47, 51, 716000, tzinfo=datetime.timezone.utc)),\n Notebook(type=<EntityType.NOTEBOOK: 'journal'>, eid='journal:44c5a1a1-e181-4df1-ba34-ca078508d457', digest='61907977', name='TestNotebook', description='', created_at=datetime.datetime(2022, 5, 16, 6, 58, 20, 547000, tzinfo=datetime.timezone.utc), edited_at=datetime.datetime(2022, 5, 16, 6, 58, 20, 547000, tzinfo=datetime.timezone.utc)),\n Notebook(type=<EntityType.NOTEBOOK: 'journal'>, eid='journal:e21317c4-70db-4722-b193-b7bbae4ec2c5', digest='30891396', name='journal-example', description='', created_at=datetime.datetime(2022, 5, 16, 8, 22, 49, 320000, tzinfo=datetime.timezone.utc), edited_at=datetime.datetime(2022, 5, 16, 8, 22, 49, 320000, tzinfo=datetime.timezone.utc)),\n Notebook(type=<EntityType.NOTEBOOK: 'journal'>, eid='journal:89dc15c0-2e67-4616-b21d-166384dad377', digest='50237847', name='Messenger Integration', description='A test notebook for messenger integration', created_at=datetime.datetime(2022, 5, 23, 9, 5, 13, 338000, tzinfo=datetime.timezone.utc), edited_at=datetime.datetime(2022, 5, 23, 9, 5, 13, 338000, tzinfo=datetime.timezone.utc)),\n Notebook(type=<EntityType.NOTEBOOK: 'journal'>, eid='journal:7bf9562a-e67a-4cb5-90e5-61c1512ef47b', digest='61927367', name='journal-example_01', description='', created_at=datetime.datetime(2022, 6, 1, 3, 41, 53, 367000, tzinfo=datetime.timezone.utc), edited_at=datetime.datetime(2022, 6, 1, 3, 41, 53, 367000, tzinfo=datetime.timezone.utc)),\n Notebook(type=<EntityType.NOTEBOOK: 'journal'>, eid='journal:37099516-3b68-4f9d-acf9-79ab31cd7742', digest='52018540', name='journal-example-03', description='', created_at=datetime.datetime(2022, 6, 4, 6, 1, 40, 919000, tzinfo=datetime.timezone.utc), edited_at=datetime.datetime(2022, 6, 4, 6, 1, 40, 919000, tzinfo=datetime.timezone.utc)),\n Notebook(type=<EntityType.NOTEBOOK: 'journal'>, eid='journal:a22226d6-30a4-4e8c-aaff-64ec1f3145e5', digest='38012918', name='Andrey sandbox', description='', created_at=datetime.datetime(2022, 6, 22, 15, 2, 19, 629000, tzinfo=datetime.timezone.utc), edited_at=datetime.datetime(2022, 6, 22, 15, 2, 19, 629000, tzinfo=datetime.timezone.utc)),\n Notebook(type=<EntityType.NOTEBOOK: 'journal'>, eid='journal:dfb87eaa-d4aa-4a94-b515-84417dc6fdb8', digest='48573787', name='Testqa', description='', created_at=datetime.datetime(2022, 6, 28, 12, 3, 24, 297000, tzinfo=datetime.timezone.utc), edited_at=datetime.datetime(2022, 6, 28, 12, 3, 24, 297000, tzinfo=datetime.timezone.utc)),\n Notebook(type=<EntityType.NOTEBOOK: 'journal'>, eid='journal:ae0763a5-e934-4ac3-8d70-de57c2ff2014', digest='72574544', name='restore:Test creation by SDK', description='Created by Eugene Pokidov', created_at=datetime.datetime(2022, 6, 28, 21, 33, 34, 74000, tzinfo=datetime.timezone.utc), edited_at=datetime.datetime(2022, 6, 28, 21, 39, 5, 35000, tzinfo=datetime.timezone.utc)),\n Notebook(type=<EntityType.NOTEBOOK: 'journal'>, eid='journal:9d1df6f9-c2d4-4a98-92b2-ed377a7eb419', digest='96567059', name='restore:Test creation by SDK', description='Created by Eugene Pokidov', created_at=datetime.datetime(2022, 6, 29, 9, 33, 0, 979000, tzinfo=datetime.timezone.utc), edited_at=datetime.datetime(2022, 6, 29, 9, 34, 25, 172000, tzinfo=datetime.timezone.utc)),\n Notebook(type=<EntityType.NOTEBOOK: 'journal'>, eid='journal:725fe016-a535-458e-b84b-aa2fdcf91123', digest='81823865', name='restore:Test creation by SDK', description='Created by Eugene Pokidov', created_at=datetime.datetime(2022, 6, 29, 9, 34, 40, 800000, tzinfo=datetime.timezone.utc), edited_at=datetime.datetime(2022, 6, 29, 9, 35, 32, 484000, tzinfo=datetime.timezone.utc)),\n Notebook(type=<EntityType.NOTEBOOK: 'journal'>, eid='journal:7b8dd6f2-a58c-4370-befd-8f68823be6e8', digest='34061266', name='restore:Test creation by SDK', description='Created by Eugene Pokidov', created_at=datetime.datetime(2022, 6, 29, 9, 35, 44, 432000, tzinfo=datetime.timezone.utc), edited_at=datetime.datetime(2022, 6, 29, 9, 36, 56, 764000, tzinfo=datetime.timezone.utc)),\n Notebook(type=<EntityType.NOTEBOOK: 'journal'>, eid='journal:195d688a-b021-4320-a85a-e63f5b563365', digest='88191690', name='restore:Test creation by SDK', description='Created by Eugene Pokidov', created_at=datetime.datetime(2022, 6, 29, 9, 37, 6, 536000, tzinfo=datetime.timezone.utc), edited_at=datetime.datetime(2022, 6, 29, 9, 38, 48, 571000, tzinfo=datetime.timezone.utc)),\n Notebook(type=<EntityType.NOTEBOOK: 'journal'>, eid='journal:739ff8ab-4915-43d1-a66b-022a2e3625a2', digest='52317254', name='restore:Test creation by SDK', description='Created by Eugene Pokidov', created_at=datetime.datetime(2022, 6, 29, 9, 39, 0, 436000, tzinfo=datetime.timezone.utc), edited_at=datetime.datetime(2022, 6, 29, 9, 42, 44, 714000, tzinfo=datetime.timezone.utc)),\n Notebook(type=<EntityType.NOTEBOOK: 'journal'>, eid='journal:0cbdb26b-4f5f-47d0-a588-3dba2b9247ce', digest='25831209', name='restore:Test creation by SDK', description='Created by Eugene Pokidov', created_at=datetime.datetime(2022, 6, 29, 9, 42, 55, 310000, tzinfo=datetime.timezone.utc), edited_at=datetime.datetime(2022, 6, 29, 9, 44, 36, 137000, tzinfo=datetime.timezone.utc)),\n Notebook(type=<EntityType.NOTEBOOK: 'journal'>, eid='journal:3f4b59fa-9543-4cb1-8812-ffd45658fd3b', digest='68189918', name='restore:Test creation by SDK', description='Created by Eugene Pokidov', created_at=datetime.datetime(2022, 6, 29, 9, 44, 48, 682000, tzinfo=datetime.timezone.utc), edited_at=datetime.datetime(2022, 6, 29, 9, 51, 48, 673000, tzinfo=datetime.timezone.utc)),\n Notebook(type=<EntityType.NOTEBOOK: 'journal'>, eid='journal:75ff5bbd-2e0c-480a-a259-740c6047d6e9', digest='98902911', name='Test save by SDK', description='Changed by me', created_at=datetime.datetime(2022, 6, 29, 14, 4, 16, 746000, tzinfo=datetime.timezone.utc), edited_at=datetime.datetime(2022, 6, 29, 14, 4, 18, 862000, tzinfo=datetime.timezone.utc)),\n Notebook(type=<EntityType.NOTEBOOK: 'journal'>, eid='journal:4055600e-524b-433c-bd98-61a219688a79', digest='85089244', name='Test save by SDK', description='Changed by me', created_at=datetime.datetime(2022, 6, 29, 14, 13, 56, 20000, tzinfo=datetime.timezone.utc), edited_at=datetime.datetime(2022, 6, 29, 14, 13, 58, 51000, tzinfo=datetime.timezone.utc)),\n Notebook(type=<EntityType.NOTEBOOK: 'journal'>, eid='journal:ab6962f6-b3fe-4833-ba35-f6a4d908e5e9', digest='63380516', name='Test save by SDK', description='Changed by me', created_at=datetime.datetime(2022, 6, 29, 14, 15, 56, 801000, tzinfo=datetime.timezone.utc), edited_at=datetime.datetime(2022, 6, 29, 14, 15, 58, 831000, tzinfo=datetime.timezone.utc)),\n Notebook(type=<EntityType.NOTEBOOK: 'journal'>, eid='journal:17970cfa-fedf-4348-b4e9-3153849a9840', digest='72157112', name='Test save by SDK', description='Changed by me', created_at=datetime.datetime(2022, 6, 29, 14, 16, 55, 716000, tzinfo=datetime.timezone.utc), edited_at=datetime.datetime(2022, 6, 29, 14, 16, 58, 14000, tzinfo=datetime.timezone.utc))]"
     },
     "execution_count": 7,
     "metadata": {},
     "output_type": "execute_result"
    }
   ],
   "source": [
    "from signals_notebook.common_types import EntityType\n",
    "\n",
    "list(EntityStore.get_list(include_types=[EntityType.NOTEBOOK]))"
   ],
   "metadata": {
    "collapsed": false,
    "pycharm": {
     "name": "#%%\n"
    }
   }
  },
  {
   "cell_type": "code",
   "execution_count": 8,
   "outputs": [
    {
     "name": "stdout",
     "output_type": "stream",
     "text": [
      "id='3101' type=None name='My Notebook Field 1 (SK)' description=None value=''\n",
      "id='3100' type=None name='My Notebook Field 2 (SK)' description=None value=''\n"
     ]
    }
   ],
   "source": [
    "for _property in notebook:\n",
    "    print(_property)"
   ],
   "metadata": {
    "collapsed": false,
    "pycharm": {
     "name": "#%%\n"
    }
   }
  },
  {
   "cell_type": "code",
   "execution_count": 9,
   "outputs": [
    {
     "name": "stdout",
     "output_type": "stream",
     "text": [
      "id='3101' type=None name='My Notebook Field 1 (SK)' description=None value=''\n",
      "id='3100' type=None name='My Notebook Field 2 (SK)' description=None value=''\n"
     ]
    }
   ],
   "source": [
    "# You can get Property by 2 ways:\n",
    "# 1. By index of position:\n",
    "print(notebook[0])\n",
    "\n",
    "# 2. By key-word (ID):\n",
    "print(notebook['3100'])"
   ],
   "metadata": {
    "collapsed": false,
    "pycharm": {
     "name": "#%%\n"
    }
   }
  },
  {
   "cell_type": "code",
   "execution_count": 12,
   "outputs": [
    {
     "data": {
      "text/plain": "Property(id='3100', type=None, name='My Notebook Field 2 (SK)', description=None, value='NEW VALUE')"
     },
     "execution_count": 12,
     "metadata": {},
     "output_type": "execute_result"
    }
   ],
   "source": [
    "notebook[1].set_value('NEW VALUE')\n",
    "notebook[1]"
   ],
   "metadata": {
    "collapsed": false,
    "pycharm": {
     "name": "#%%\n"
    }
   }
  },
  {
   "cell_type": "code",
   "execution_count": 13,
   "outputs": [
    {
     "name": "stdout",
     "output_type": "stream",
     "text": [
      "[{'attributes': {'name': 'Name', 'value': 'Test creation by SDK'}}, {'attributes': {'name': 'Description', 'value': 'Created by Eugene Pokidov'}}, {'attributes': {'name': 'My Notebook Field 2 (SK)', 'value': 'NEW VALUE'}}]\n"
     ]
    }
   ],
   "source": [
    "notebook.save()"
   ],
   "metadata": {
    "collapsed": false,
    "pycharm": {
     "name": "#%%\n"
    }
   }
  },
  {
   "cell_type": "code",
   "execution_count": 11,
   "outputs": [],
   "source": [],
   "metadata": {
    "collapsed": false,
    "pycharm": {
     "name": "#%%\n"
    }
   }
  }
 ],
 "metadata": {
  "kernelspec": {
   "display_name": "Python 3",
   "language": "python",
   "name": "python3"
  },
  "language_info": {
   "codemirror_mode": {
    "name": "ipython",
    "version": 2
   },
   "file_extension": ".py",
   "mimetype": "text/x-python",
   "name": "python",
   "nbconvert_exporter": "python",
   "pygments_lexer": "ipython2",
   "version": "2.7.6"
  }
 },
 "nbformat": 4,
 "nbformat_minor": 0
}
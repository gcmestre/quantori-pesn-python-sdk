{
 "cells": [
  {
   "cell_type": "code",
   "execution_count": 1,
   "outputs": [],
   "source": [
    "%load_ext dotenv\n",
    "%dotenv\n",
    "import os\n",
    "\n",
    "SN_API_HOST = os.getenv('SN_API_HOST')\n",
    "SN_API_KEY = os.getenv('SN_API_KEY')"
   ],
   "metadata": {
    "collapsed": false,
    "pycharm": {
     "name": "#%%\n"
    }
   }
  },
  {
   "cell_type": "code",
   "execution_count": 2,
   "outputs": [
    {
     "data": {
      "text/plain": "<signals_notebook.api.SignalsNotebookApi at 0x1affacf04f0>"
     },
     "execution_count": 2,
     "metadata": {},
     "output_type": "execute_result"
    }
   ],
   "source": [
    "from signals_notebook.api import SignalsNotebookApi\n",
    "\n",
    "SignalsNotebookApi.init(SN_API_HOST, SN_API_KEY)"
   ],
   "metadata": {
    "collapsed": false,
    "pycharm": {
     "name": "#%%\n"
    }
   }
  },
  {
   "cell_type": "code",
   "execution_count": 3,
   "outputs": [],
   "source": [
    "from signals_notebook.entities import EntityStore\n",
    "\n",
    "ado = EntityStore.get(\"ado-2:263eb93b-2404-461f-85e0-1a71d0567cd3\")"
   ],
   "metadata": {
    "collapsed": false,
    "pycharm": {
     "name": "#%%\n"
    }
   }
  },
  {
   "cell_type": "code",
   "execution_count": 4,
   "outputs": [
    {
     "data": {
      "text/plain": "AdminDefinedObject(type=<EntityType.ADO: 'ado'>, eid='ado-2:263eb93b-2404-461f-85e0-1a71d0567cd3', digest='76548067', name='TEST121233', description='', created_at=datetime.datetime(2022, 8, 9, 11, 5, 31, 614000, tzinfo=datetime.timezone.utc), edited_at=datetime.datetime(2022, 8, 9, 11, 5, 31, 614000, tzinfo=datetime.timezone.utc))"
     },
     "execution_count": 4,
     "metadata": {},
     "output_type": "execute_result"
    }
   ],
   "source": [
    "ado"
   ],
   "metadata": {
    "collapsed": false,
    "pycharm": {
     "name": "#%%\n"
    }
   }
  },
  {
   "cell_type": "code",
   "execution_count": 5,
   "outputs": [],
   "source": [
    "children = list(ado.get_children())"
   ],
   "metadata": {
    "collapsed": false,
    "pycharm": {
     "name": "#%%\n"
    }
   }
  },
  {
   "cell_type": "code",
   "execution_count": 6,
   "outputs": [
    {
     "data": {
      "text/plain": "[TodoList(type=<EntityType.TODO_LIST: 'linkedTaskContainer'>, eid='linkedTaskContainer:81e3b116-ec7b-4666-9038-b5a725b9948f', digest='0', name='Tasks to do', description='', created_at=datetime.datetime(2022, 8, 9, 11, 5, 31, 614000, tzinfo=datetime.timezone.utc), edited_at=datetime.datetime(2022, 8, 9, 11, 5, 31, 614000, tzinfo=datetime.timezone.utc)),\n Text(type=<EntityType.TEXT: 'text'>, eid='text:70fc9f66-1534-4346-9ff9-872d722f546b', digest='0', name='Text', description='', created_at=datetime.datetime(2022, 8, 9, 11, 5, 31, 614000, tzinfo=datetime.timezone.utc), edited_at=datetime.datetime(2022, 8, 9, 11, 5, 31, 614000, tzinfo=datetime.timezone.utc))]"
     },
     "execution_count": 6,
     "metadata": {},
     "output_type": "execute_result"
    }
   ],
   "source": [
    "children"
   ],
   "metadata": {
    "collapsed": false,
    "pycharm": {
     "name": "#%%\n"
    }
   }
  },
  {
   "cell_type": "code",
   "execution_count": 7,
   "outputs": [
    {
     "data": {
      "text/plain": "<IPython.core.display.HTML object>",
      "text/html": "<!DOCTYPE html>\n<html lang=\"en\">\n<head>\n    <meta charset=\"utf-8\">\n    <meta name=\"viewport\" content=\"width=device-width, initial-scale=1.0\">\n    <link rel=\"icon\" href=\"data:;base64,iVBORw0KGgo=\">\n    <title>TEST121233</title>\n    <style>\n        h1 {\n            margin-top: 1.7rem;\n            margin-bottom: 0.3rem;\n            font-size: 1.6rem;\n        }\n\n        h2 {\n            margin-top: 1.2rem;\n            margin-bottom: 0.3rem;\n            font-size: 1.2rem;\n            color: #00A0E1;\n        }\n\n        table.props th, table.props td {\n            text-align: left;\n            padding: 3px;\n        }\n        .table-scroll {\n            overflow:auto;\n        }\n        .table-wrapper {\n            position:relative;\n        }\n        table, th, td {\n            border: 1px solid #cccccc;\n            border-collapse: collapse;\n            table-layout: fixed;\n        }\n        .table-wrapper th, td {\n            padding: 10px 20px;\n        }\n        .table-wrapper table td {\n            text-align: center;\n            vertical-align: middle;\n            padding: 5px;\n        }\n        .parent {\n            display: flex;\n            justify-content: center;\n            align-items: center;\n            width: 100%;\n            aspect-ratio: auto;\n        }\n        .image-container {\n            width: 60%;\n            height: 60%;\n            overflow: hidden;\n        }\n\n        .image-container img {\n            width: 100%;\n            min-height: 100%;\n            object-fit: cover;\n        }\n\n    </style>\n</head>\n<body>\n<table class=\"props\" style=\"margin: 10px 10px; padding: 6px 10px;\">\n    <tr>\n        <th>AdminDefinedObject name:</th>\n        <td>TEST121233</td>\n    </tr>\n    <tr>\n        <th>Description:</th>\n        <td></td>\n    </tr>\n    <tr>\n        <th>Last edited at:</th>\n        <td>11:05:31 2022-08-09</td>\n    </tr>\n</table>\n\n\n    \n        <div class=\"table-wrapper\" style=\"margin: 10px 10px; padding: 6px 10px; border: solid 1px #f5f5f5;\">\n    <div class=\"table-scroll\">\n        <h2>Tasks to do</h2>\n        <table>\n            <thead>\n                <tr>\n                \n                </tr>\n            </thead>\n            <tbody>\n            \n            </tbody>\n        </table>\n    </div>\n</div>\n    \n\n    \n        <div style=\"margin: 10px 10px; padding: 6px 10px; border: solid 1px #f5f5f5;\">\n    <h2>Text</h2>\n    <div>\n        <span><table style=\"width: 99.8279%;\" border=\"1\" cellspacing=\"0\" cellpadding=\"6\">\n<tbody>\n<tr>\n<td style=\"width: 9.98379%;\">&nbsp;</td>\n<td style=\"width: 9.98379%;\">&nbsp;</td>\n<td style=\"width: 9.98379%;\">&nbsp;</td>\n<td style=\"width: 9.98379%;\">&nbsp;</td>\n<td style=\"width: 9.98379%;\">&nbsp;</td>\n<td style=\"width: 9.98379%;\">&nbsp;</td>\n<td style=\"width: 9.98379%;\">&nbsp;</td>\n<td style=\"width: 9.98379%;\">&nbsp;</td>\n<td style=\"width: 9.99138%;\">&nbsp;</td>\n</tr>\n<tr>\n<td style=\"width: 9.98379%;\">&nbsp;</td>\n<td style=\"width: 9.98379%;\">&nbsp;</td>\n<td style=\"width: 9.98379%;\">&nbsp;</td>\n<td style=\"width: 9.98379%;\">&nbsp;</td>\n<td style=\"width: 9.98379%;\">&nbsp;</td>\n<td style=\"width: 9.98379%;\">&nbsp;</td>\n<td style=\"width: 9.98379%;\">&nbsp;</td>\n<td style=\"width: 9.98379%;\">&nbsp;</td>\n<td style=\"width: 9.99138%;\">&nbsp;</td>\n</tr>\n<tr>\n<td style=\"width: 9.98379%;\">&nbsp;</td>\n<td style=\"width: 9.98379%;\">&nbsp;</td>\n<td style=\"width: 9.98379%;\">&nbsp;</td>\n<td style=\"width: 9.98379%;\">&nbsp;</td>\n<td style=\"width: 9.98379%;\">&nbsp;</td>\n<td style=\"width: 9.98379%;\">&nbsp;</td>\n<td style=\"width: 9.98379%;\">&nbsp;</td>\n<td style=\"width: 9.98379%;\">&nbsp;</td>\n<td style=\"width: 9.99138%;\">&nbsp;</td>\n</tr>\n<tr>\n<td style=\"width: 9.98379%;\">&nbsp;</td>\n<td style=\"width: 9.98379%;\">&nbsp;</td>\n<td style=\"width: 9.98379%;\">&nbsp;</td>\n<td style=\"width: 9.98379%;\">&nbsp;</td>\n<td style=\"width: 9.98379%;\">&nbsp;</td>\n<td style=\"width: 9.98379%;\">&nbsp;</td>\n<td style=\"width: 9.98379%;\">&nbsp;</td>\n<td style=\"width: 9.98379%;\">&nbsp;</td>\n<td style=\"width: 9.99138%;\">&nbsp;</td>\n</tr>\n<tr>\n<td style=\"width: 9.98379%;\">&nbsp;</td>\n<td style=\"width: 9.98379%;\">&nbsp;</td>\n<td style=\"width: 9.98379%;\">&nbsp;</td>\n<td style=\"width: 9.98379%;\">&nbsp;</td>\n<td style=\"width: 9.98379%;\">&nbsp;</td>\n<td style=\"width: 9.98379%;\">&nbsp;</td>\n<td style=\"width: 9.98379%;\">&nbsp;</td>\n<td style=\"width: 9.98379%;\">&nbsp;</td>\n<td style=\"width: 9.99138%;\">&nbsp;</td>\n</tr>\n<tr>\n<td style=\"width: 9.98379%;\">&nbsp;</td>\n<td style=\"width: 9.98379%;\">&nbsp;</td>\n<td style=\"width: 9.98379%;\">&nbsp;</td>\n<td style=\"width: 9.98379%;\">&nbsp;</td>\n<td style=\"width: 9.98379%;\">&nbsp;</td>\n<td style=\"width: 9.98379%;\">&nbsp;</td>\n<td style=\"width: 9.98379%;\">&nbsp;</td>\n<td style=\"width: 9.98379%;\">&nbsp;</td>\n<td style=\"width: 9.99138%;\">&nbsp;</td>\n</tr>\n<tr>\n<td style=\"width: 9.98379%;\">&nbsp;</td>\n<td style=\"width: 9.98379%;\">&nbsp;</td>\n<td style=\"width: 9.98379%;\">&nbsp;</td>\n<td style=\"width: 9.98379%;\">&nbsp;</td>\n<td style=\"width: 9.98379%;\">&nbsp;</td>\n<td style=\"width: 9.98379%;\">&nbsp;</td>\n<td style=\"width: 9.98379%;\">&nbsp;</td>\n<td style=\"width: 9.98379%;\">&nbsp;</td>\n<td style=\"width: 9.99138%;\">&nbsp;</td>\n</tr>\n<tr>\n<td style=\"width: 9.98379%;\">&nbsp;</td>\n<td style=\"width: 9.98379%;\">&nbsp;</td>\n<td style=\"width: 9.98379%;\">&nbsp;</td>\n<td style=\"width: 9.98379%;\">&nbsp;</td>\n<td style=\"width: 9.98379%;\">&nbsp;</td>\n<td style=\"width: 9.98379%;\">&nbsp;</td>\n<td style=\"width: 9.98379%;\">&nbsp;</td>\n<td style=\"width: 9.98379%;\">&nbsp;</td>\n<td style=\"width: 9.99138%;\">&nbsp;</td>\n</tr>\n<tr>\n<td style=\"width: 9.98379%;\">&nbsp;</td>\n<td style=\"width: 9.98379%;\">&nbsp;</td>\n<td style=\"width: 9.98379%;\">&nbsp;</td>\n<td style=\"width: 9.98379%;\">&nbsp;</td>\n<td style=\"width: 9.98379%;\">&nbsp;</td>\n<td style=\"width: 9.98379%;\">&nbsp;</td>\n<td style=\"width: 9.98379%;\">&nbsp;</td>\n<td style=\"width: 9.98379%;\">&nbsp;</td>\n<td style=\"width: 9.99138%;\">&nbsp;</td>\n</tr>\n</tbody>\n</table></span>\n    </div>\n</div>\n    \n\n\n\n</body>\n</html>"
     },
     "metadata": {},
     "output_type": "display_data"
    }
   ],
   "source": [
    "import warnings # added to ignore deprecation warnings\n",
    "warnings.filterwarnings('ignore')\n",
    "\n",
    "from IPython.core.display import display, HTML\n",
    "\n",
    "ado_html = ado.get_html()\n",
    "display(HTML(data=ado_html))  # pycharm cannot display html correctly. Use web version to see html response."
   ],
   "metadata": {
    "collapsed": false,
    "pycharm": {
     "name": "#%%\n"
    }
   }
  },
  {
   "cell_type": "code",
   "execution_count": 10,
   "outputs": [
    {
     "name": "stdout",
     "output_type": "stream",
     "text": [
      "{'data': {'type': <EntityType.ADO: 'ado'>, 'meta': {'adoTypeName': 'New System Object (SK)'}, 'attributes': {'name': 'AdminDefinedObject experiment created by SDK', 'description': 'Delete if you see this in UI'}, 'relationships': {'ancestors': {'data': [{'type': <EntityType.NOTEBOOK: 'journal'>, 'id': 'journal:151542f5-dcc2-4dc7-bfc3-c5f0d204ea4c'}]}}}}\n"
     ]
    }
   ],
   "source": [
    "from signals_notebook.entities import AdminDefinedObject\n",
    "\n",
    "notebook = EntityStore.get('journal:151542f5-dcc2-4dc7-bfc3-c5f0d204ea4c')\n",
    "new_ado = AdminDefinedObject.create(\n",
    "    name='AdminDefinedObject experiment created by SDK',\n",
    "    ado_type_name=AdminDefinedObject.TypeName.NEW_OBJECT,\n",
    "    description='Delete if you see this in UI',\n",
    "    notebook=notebook,\n",
    ")"
   ],
   "metadata": {
    "collapsed": false,
    "pycharm": {
     "name": "#%%\n"
    }
   }
  },
  {
   "cell_type": "code",
   "execution_count": 11,
   "outputs": [],
   "source": [
    "EntityStore.delete(new_ado.eid)"
   ],
   "metadata": {
    "collapsed": false,
    "pycharm": {
     "name": "#%%\n"
    }
   }
  },
  {
   "cell_type": "code",
   "execution_count": 9,
   "outputs": [],
   "source": [],
   "metadata": {
    "collapsed": false,
    "pycharm": {
     "name": "#%%\n"
    }
   }
  }
 ],
 "metadata": {
  "kernelspec": {
   "display_name": "Python 3",
   "language": "python",
   "name": "python3"
  },
  "language_info": {
   "codemirror_mode": {
    "name": "ipython",
    "version": 2
   },
   "file_extension": ".py",
   "mimetype": "text/x-python",
   "name": "python",
   "nbconvert_exporter": "python",
   "pygments_lexer": "ipython2",
   "version": "2.7.6"
  }
 },
 "nbformat": 4,
 "nbformat_minor": 0
}
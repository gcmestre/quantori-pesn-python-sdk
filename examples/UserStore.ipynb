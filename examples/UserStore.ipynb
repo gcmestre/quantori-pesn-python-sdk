{
 "cells": [
  {
   "cell_type": "code",
   "execution_count": 1,
   "outputs": [],
   "source": [
    "%load_ext dotenv\n",
    "%dotenv\n",
    "import os\n",
    "\n",
    "SN_API_HOST = os.getenv('SN_API_HOST')\n",
    "SN_API_KEY = os.getenv('SN_API_KEY')"
   ],
   "metadata": {
    "collapsed": false,
    "pycharm": {
     "name": "#%%\n"
    }
   }
  },
  {
   "cell_type": "code",
   "execution_count": 2,
   "outputs": [
    {
     "data": {
      "text/plain": "<signals_notebook.api.SignalsNotebookApi at 0x2888a5262e0>"
     },
     "execution_count": 2,
     "metadata": {},
     "output_type": "execute_result"
    }
   ],
   "source": [
    "from signals_notebook.api import SignalsNotebookApi\n",
    "SignalsNotebookApi.init(SN_API_HOST, SN_API_KEY)"
   ],
   "metadata": {
    "collapsed": false,
    "pycharm": {
     "name": "#%%\n"
    }
   }
  },
  {
   "cell_type": "code",
   "execution_count": 18,
   "outputs": [
    {
     "data": {
      "text/plain": "User(is_enabled=False, id='147', username='unique3@quantori.com', email='unique3@quantori.com', alias='alias2', first_name='first_name', last_name='last_name', country='USA', organization='orga', created_at=datetime.datetime(2022, 7, 7, 11, 49, 14, 627000, tzinfo=datetime.timezone.utc), last_login_at=None)"
     },
     "execution_count": 18,
     "metadata": {},
     "output_type": "execute_result"
    }
   ],
   "source": [
    "from signals_notebook.entities import UserStore\n",
    "\n",
    "user = UserStore.get('147')\n",
    "user"
   ],
   "metadata": {
    "collapsed": false,
    "pycharm": {
     "name": "#%%\n"
    }
   }
  },
  {
   "cell_type": "code",
   "execution_count": 12,
   "outputs": [
    {
     "data": {
      "text/plain": "Profile(id='103', first_name='Sergey', last_name='Kuznetsov', email='sergey.kuznetsov@quantori.com', created_at=datetime.datetime(2021, 11, 3, 3, 0, 6, 567956, tzinfo=datetime.timezone.utc), tenant='quantori', roles=[Role(id='1', name='System Admin', description=None, privileges=None), Role(id='3', name='Standard User', description=None, privileges=None)], licenses=[Licence(id='SIGNALS_NOTEBOOK', name='SIGNALS_NOTEBOOK', expires_at=datetime.datetime(2022, 10, 20, 0, 0, tzinfo=datetime.timezone.utc), valid=True, has_service_expired=False, has_user_found=False, has_user_activated=False)])"
     },
     "execution_count": 12,
     "metadata": {},
     "output_type": "execute_result"
    }
   ],
   "source": [
    "current_user_profile = UserStore.get_current_user()\n",
    "current_user = UserStore.get(current_user_profile.id)\n",
    "current_user"
   ],
   "metadata": {
    "collapsed": false,
    "pycharm": {
     "name": "#%%\n"
    }
   }
  },
  {
   "cell_type": "code",
   "execution_count": 5,
   "outputs": [],
   "source": [
    "from signals_notebook.common_types import File\n",
    "\n",
    "file = current_user.picture\n",
    "assert isinstance(file, File)"
   ],
   "metadata": {
    "collapsed": false,
    "pycharm": {
     "name": "#%%\n"
    }
   }
  },
  {
   "cell_type": "code",
   "execution_count": 6,
   "outputs": [
    {
     "data": {
      "text/plain": "[Group(type=<ObjectType.GROUP: 'group'>, id='102', is_system=True, name='All users', description='Group containing all users', created_at=datetime.datetime(2021, 10, 22, 13, 35, 58, 625000, tzinfo=datetime.timezone.utc), edited_at=datetime.datetime(2021, 10, 22, 13, 35, 58, 625000, tzinfo=datetime.timezone.utc), digest='65302166'),\n Group(type=<ObjectType.GROUP: 'group'>, id='101', is_system=True, name='Administrators', description='Group containing all administrators', created_at=datetime.datetime(2021, 10, 22, 13, 35, 58, 444000, tzinfo=datetime.timezone.utc), edited_at=datetime.datetime(2021, 10, 22, 13, 35, 58, 444000, tzinfo=datetime.timezone.utc), digest='50604421')]"
     },
     "execution_count": 6,
     "metadata": {},
     "output_type": "execute_result"
    }
   ],
   "source": [
    "user.get_system_groups()"
   ],
   "metadata": {
    "collapsed": false,
    "pycharm": {
     "name": "#%%\n"
    }
   }
  },
  {
   "cell_type": "code",
   "execution_count": 7,
   "outputs": [
    {
     "data": {
      "text/plain": "User(is_enabled=False, id='147', username='unique3@quantori.com', email='unique3@quantori.com', alias='alias2', first_name='NEW', last_name='last_name', country='USA', organization='orga', created_at=datetime.datetime(2022, 7, 7, 11, 49, 14, 627000, tzinfo=datetime.timezone.utc), last_login_at=None)"
     },
     "execution_count": 7,
     "metadata": {},
     "output_type": "execute_result"
    }
   ],
   "source": [
    "user.first_name = 'NEW'\n",
    "user"
   ],
   "metadata": {
    "collapsed": false,
    "pycharm": {
     "name": "#%%\n"
    }
   }
  },
  {
   "cell_type": "code",
   "execution_count": 8,
   "outputs": [
    {
     "data": {
      "text/plain": "User(is_enabled=False, id='147', username='unique3@quantori.com', email='unique3@quantori.com', alias='alias2', first_name='first_name', last_name='last_name', country='USA', organization='orga', created_at=datetime.datetime(2022, 7, 7, 11, 49, 14, 627000, tzinfo=datetime.timezone.utc), last_login_at=None)"
     },
     "execution_count": 8,
     "metadata": {},
     "output_type": "execute_result"
    }
   ],
   "source": [
    "user.refresh()\n",
    "user"
   ],
   "metadata": {
    "collapsed": false,
    "pycharm": {
     "name": "#%%\n"
    }
   }
  },
  {
   "cell_type": "code",
   "execution_count": 14,
   "outputs": [
    {
     "data": {
      "text/plain": "[User(is_enabled=True, id='100', username='stephen.tharp@perkinelmer.com', email='stephen.tharp@perkinelmer.com', alias=None, first_name='Stephen', last_name='Tharp', country='USA', organization='quantori', created_at=datetime.datetime(2021, 10, 22, 13, 35, 40, 214000, tzinfo=datetime.timezone.utc), last_login_at=datetime.datetime(2021, 11, 2, 12, 19, 13, 408000, tzinfo=datetime.timezone.utc)),\n User(is_enabled=True, id='101', username='richard.golob@quantori.com', email='richard.golob@quantori.com', alias=None, first_name='Richard', last_name='Golob', country='USA', organization='quantori', created_at=datetime.datetime(2021, 11, 2, 12, 19, 59, 879000, tzinfo=datetime.timezone.utc), last_login_at=datetime.datetime(2021, 11, 2, 22, 6, 40, 57000, tzinfo=datetime.timezone.utc)),\n User(is_enabled=True, id='102', username='vitaliy.aronov@quantori.com', email='vitaliy.aronov@quantori.com', alias=None, first_name='Vitaliy', last_name='Aronov', country='USA', organization='quantori', created_at=datetime.datetime(2021, 11, 2, 22, 9, 18, 866000, tzinfo=datetime.timezone.utc), last_login_at=datetime.datetime(2021, 11, 3, 19, 34, 28, 409000, tzinfo=datetime.timezone.utc)),\n User(is_enabled=True, id='103', username='sergey.kuznetsov@quantori.com', email='sergey.kuznetsov@quantori.com', alias=None, first_name='Sergey', last_name='Kuznetsov', country='USA', organization='quantori', created_at=datetime.datetime(2021, 11, 3, 3, 0, 6, 567000, tzinfo=datetime.timezone.utc), last_login_at=datetime.datetime(2022, 7, 7, 12, 23, 17, 443000, tzinfo=datetime.timezone.utc)),\n User(is_enabled=True, id='104', username='ricardas.ralys@quantori.com', email='ricardas.ralys@quantori.com', alias=None, first_name='Ricardas', last_name='Ralys', country='USA', organization='quantori', created_at=datetime.datetime(2021, 11, 3, 13, 19, 8, 786000, tzinfo=datetime.timezone.utc), last_login_at=datetime.datetime(2022, 6, 22, 8, 21, 39, 221000, tzinfo=datetime.timezone.utc)),\n User(is_enabled=True, id='105', username='denis.sapegin@quantori.com', email='denis.sapegin@quantori.com', alias=None, first_name='Denis', last_name='Sapegin', country='USA', organization='quantori', created_at=datetime.datetime(2021, 11, 3, 13, 20, 45, 742000, tzinfo=datetime.timezone.utc), last_login_at=datetime.datetime(2022, 7, 5, 5, 56, 29, 538000, tzinfo=datetime.timezone.utc)),\n User(is_enabled=True, id='106', username='darya.korkina@quantori.com', email='darya.korkina@quantori.com', alias=None, first_name='Darya', last_name='Korkina', country='USA', organization='quantori', created_at=datetime.datetime(2021, 11, 3, 13, 21, 17, 897000, tzinfo=datetime.timezone.utc), last_login_at=datetime.datetime(2021, 12, 27, 8, 17, 39, 527000, tzinfo=datetime.timezone.utc)),\n User(is_enabled=True, id='107', username='yana.ivanova@quantori.com', email='yana.ivanova@quantori.com', alias=None, first_name='Yana', last_name='Ivanova', country='USA', organization='quantori', created_at=datetime.datetime(2021, 11, 3, 13, 21, 49, 364000, tzinfo=datetime.timezone.utc), last_login_at=datetime.datetime(2022, 5, 11, 13, 19, 19, 341000, tzinfo=datetime.timezone.utc)),\n User(is_enabled=True, id='109', username='anatoliy.kind@quantori.com', email='anatoliy.kind@quantori.com', alias=None, first_name='Anatoliy', last_name='Kind', country='USA', organization='quantori', created_at=datetime.datetime(2021, 11, 3, 13, 23, 44, 419000, tzinfo=datetime.timezone.utc), last_login_at=datetime.datetime(2022, 6, 30, 17, 12, 17, 63000, tzinfo=datetime.timezone.utc)),\n User(is_enabled=True, id='110', username='fedor.kortikov@quantori.com', email='fedor.kortikov@quantori.com', alias=None, first_name='Fedor', last_name='Kortikov', country='USA', organization='quantori', created_at=datetime.datetime(2021, 11, 3, 13, 33, 29, 279000, tzinfo=datetime.timezone.utc), last_login_at=None),\n User(is_enabled=True, id='111', username='lidiya.smyshlyaeva@quantori.com', email='lidiya.smyshlyaeva@quantori.com', alias=None, first_name='Lidiya', last_name='Smyshlyaeva', country='USA', organization='quantori', created_at=datetime.datetime(2021, 11, 3, 18, 32, 16, 557000, tzinfo=datetime.timezone.utc), last_login_at=datetime.datetime(2022, 3, 23, 11, 12, 8, 959000, tzinfo=datetime.timezone.utc)),\n User(is_enabled=True, id='112', username='dmitry.lushnikov@quantori.com', email='dmitry.lushnikov@quantori.com', alias=None, first_name='Dmitry', last_name='Lushnikov', country='USA', organization='quantori', created_at=datetime.datetime(2021, 11, 9, 12, 57, 36, 899000, tzinfo=datetime.timezone.utc), last_login_at=datetime.datetime(2021, 11, 22, 17, 2, 7, 477000, tzinfo=datetime.timezone.utc)),\n User(is_enabled=True, id='113', username='vladimir.arefyev@quantori.com', email='vladimir.arefyev@quantori.com', alias=None, first_name='Vladimir', last_name='Arefyev', country='USA', organization='quantori', created_at=datetime.datetime(2021, 11, 15, 10, 3, 6, 433000, tzinfo=datetime.timezone.utc), last_login_at=None),\n User(is_enabled=True, id='114', username='roman.maksimov@quantori.com', email='roman.maksimov@quantori.com', alias=None, first_name='Roman', last_name='Maksimov', country='USA', organization='quantori', created_at=datetime.datetime(2021, 11, 15, 14, 56, 6, 965000, tzinfo=datetime.timezone.utc), last_login_at=None),\n User(is_enabled=True, id='115', username='vladislav.kuznetsov@quantori.com', email='vladislav.kuznetsov@quantori.com', alias=None, first_name='Vlad', last_name='Kuznetsov', country='USA', organization='quantori', created_at=datetime.datetime(2021, 11, 18, 16, 17, 37, 748000, tzinfo=datetime.timezone.utc), last_login_at=datetime.datetime(2022, 5, 30, 18, 26, 30, 550000, tzinfo=datetime.timezone.utc)),\n User(is_enabled=True, id='117', username='grigol.tchkoidze@quantori.com', email='grigol.tchkoidze@quantori.com', alias=None, first_name='Grigol', last_name='Tchkoidze', country='USA', organization='quantori', created_at=datetime.datetime(2021, 12, 13, 15, 46, 15, 384000, tzinfo=datetime.timezone.utc), last_login_at=datetime.datetime(2021, 12, 22, 8, 57, 41, 492000, tzinfo=datetime.timezone.utc)),\n User(is_enabled=True, id='118', username='roman.voronov@quantori.com', email='roman.voronov@quantori.com', alias=None, first_name='Roman', last_name='Voronov', country='USA', organization='quantori', created_at=datetime.datetime(2022, 1, 11, 15, 24, 10, 954000, tzinfo=datetime.timezone.utc), last_login_at=datetime.datetime(2022, 1, 13, 11, 26, 20, 97000, tzinfo=datetime.timezone.utc)),\n User(is_enabled=True, id='119', username='evgeniy.pokidov@quantori.com', email='evgeniy.pokidov@quantori.com', alias='evgeniy.pokidov', first_name='Evgeniy', last_name='Pokidov', country='USA', organization='quantori', created_at=datetime.datetime(2022, 1, 24, 13, 25, 24, 180000, tzinfo=datetime.timezone.utc), last_login_at=datetime.datetime(2022, 6, 24, 13, 15, 28, 657000, tzinfo=datetime.timezone.utc)),\n User(is_enabled=True, id='120', username='elena.krutenkova@quantori.com', email='elena.krutenkova@quantori.com', alias=None, first_name='Elena', last_name='Krutenkova', country='USA', organization='quantori', created_at=datetime.datetime(2022, 2, 1, 14, 14, 37, 871000, tzinfo=datetime.timezone.utc), last_login_at=datetime.datetime(2022, 7, 7, 12, 2, 51, 742000, tzinfo=datetime.timezone.utc)),\n User(is_enabled=True, id='121', username='pavel.bogdanov@quantori.com', email='pavel.bogdanov@quantori.com', alias=None, first_name='Pavel', last_name='Bogdanov', country='USA', organization='quantori', created_at=datetime.datetime(2022, 2, 1, 14, 15, 35, 245000, tzinfo=datetime.timezone.utc), last_login_at=datetime.datetime(2022, 5, 5, 16, 28, 15, 203000, tzinfo=datetime.timezone.utc)),\n User(is_enabled=True, id='122', username='vladislav.teryaev@quantori.com', email='vladislav.teryaev@quantori.com', alias=None, first_name='Vladislav', last_name='Teryaev', country='USA', organization='quantori', created_at=datetime.datetime(2022, 2, 1, 14, 16, 26, 382000, tzinfo=datetime.timezone.utc), last_login_at=datetime.datetime(2022, 4, 22, 9, 18, 56, 196000, tzinfo=datetime.timezone.utc)),\n User(is_enabled=True, id='124', username='andrey.brovko@quantori.com', email='andrey.brovko@quantori.com', alias=None, first_name='Andrey', last_name='Brovko', country='USA', organization='quantori', created_at=datetime.datetime(2022, 3, 17, 7, 21, 5, 910000, tzinfo=datetime.timezone.utc), last_login_at=datetime.datetime(2022, 4, 5, 8, 24, 43, 681000, tzinfo=datetime.timezone.utc)),\n User(is_enabled=True, id='125', username='sergey.ruzin@quantori.com', email='sergey.ruzin@quantori.com', alias=None, first_name='Sergey', last_name='Ruzin', country='USA', organization='quantori', created_at=datetime.datetime(2022, 3, 23, 11, 34, 8, 810000, tzinfo=datetime.timezone.utc), last_login_at=datetime.datetime(2022, 4, 5, 8, 29, 42, 607000, tzinfo=datetime.timezone.utc)),\n User(is_enabled=True, id='127', username='olesya.minakova@quantori.com', email='olesya.minakova@quantori.com', alias=None, first_name='Olesya', last_name='Minakova', country='USA', organization='quantori', created_at=datetime.datetime(2022, 4, 7, 5, 4, 49, 236000, tzinfo=datetime.timezone.utc), last_login_at=datetime.datetime(2022, 6, 10, 6, 54, 7, 518000, tzinfo=datetime.timezone.utc)),\n User(is_enabled=True, id='128', username='daria.ivanova@quantori.com', email='daria.ivanova@quantori.com', alias=None, first_name='Daria', last_name='Ivanova', country='USA', organization='quantori', created_at=datetime.datetime(2022, 4, 19, 14, 17, 45, 871000, tzinfo=datetime.timezone.utc), last_login_at=datetime.datetime(2022, 4, 28, 14, 9, 32, 128000, tzinfo=datetime.timezone.utc)),\n User(is_enabled=True, id='129', username='alexandra.rykachevskaya@quantori.com', email='alexandra.rykachevskaya@quantori.com', alias=None, first_name='Alexandra', last_name='Rykachevskaya', country='USA', organization='quantori', created_at=datetime.datetime(2022, 4, 26, 12, 6, 18, 246000, tzinfo=datetime.timezone.utc), last_login_at=None),\n User(is_enabled=True, id='130', username='alexander.abrosimov@quantori.com', email='alexander.abrosimov@quantori.com', alias=None, first_name='Alexander', last_name='Abrosimov', country='USA', organization='quantori', created_at=datetime.datetime(2022, 4, 28, 10, 15, 52, 997000, tzinfo=datetime.timezone.utc), last_login_at=None),\n User(is_enabled=True, id='131', username='elizaveta.lazareva@quantori.com', email='elizaveta.lazareva@quantori.com', alias=None, first_name='Elizaveta', last_name='Lazareva', country='USA', organization='quantori', created_at=datetime.datetime(2022, 4, 28, 10, 16, 41, 443000, tzinfo=datetime.timezone.utc), last_login_at=None),\n User(is_enabled=True, id='132', username='svyatoslav.surin@quantori.com', email='svyatoslav.surin@quantori.com', alias=None, first_name='Svyatoslav', last_name='Surin', country='USA', organization='quantori', created_at=datetime.datetime(2022, 4, 28, 10, 17, 36, 317000, tzinfo=datetime.timezone.utc), last_login_at=None),\n User(is_enabled=True, id='133', username='andrey.shishkin@quantori.com', email='andrey.shishkin@quantori.com', alias=None, first_name='Andrey', last_name='Shishkin', country='USA', organization='quantori', created_at=datetime.datetime(2022, 4, 29, 18, 38, 54, 731000, tzinfo=datetime.timezone.utc), last_login_at=datetime.datetime(2022, 7, 7, 10, 0, 38, 765000, tzinfo=datetime.timezone.utc)),\n User(is_enabled=True, id='134', username='sayat.petrosyan@quantori.com', email='sayat.petrosyan@quantori.com', alias=None, first_name='Sayat', last_name='Petrosyan', country='USA', organization='quantori', created_at=datetime.datetime(2022, 5, 11, 12, 19, 5, 666000, tzinfo=datetime.timezone.utc), last_login_at=datetime.datetime(2022, 6, 9, 13, 43, 4, 738000, tzinfo=datetime.timezone.utc)),\n User(is_enabled=True, id='135', username='roman.basharin@quantori.com', email='roman.basharin@quantori.com', alias=None, first_name='Roman', last_name='Basharin', country='USA', organization='quantori', created_at=datetime.datetime(2022, 5, 12, 12, 13, 56, 225000, tzinfo=datetime.timezone.utc), last_login_at=None),\n User(is_enabled=True, id='136', username='daniil.cherednichenko@quantori.com', email='daniil.cherednichenko@quantori.com', alias=None, first_name='Daniil', last_name='Cherednichenko', country='USA', organization='quantori', created_at=datetime.datetime(2022, 5, 12, 12, 35, 31, 672000, tzinfo=datetime.timezone.utc), last_login_at=datetime.datetime(2022, 7, 1, 13, 35, 53, 517000, tzinfo=datetime.timezone.utc)),\n User(is_enabled=True, id='137', username='david.paskoshev@quantori.com', email='david.paskoshev@quantori.com', alias=None, first_name='David', last_name='Paskoshev', country='USA', organization='quantori', created_at=datetime.datetime(2022, 5, 18, 12, 48, 9, 321000, tzinfo=datetime.timezone.utc), last_login_at=datetime.datetime(2022, 7, 6, 15, 23, 47, 307000, tzinfo=datetime.timezone.utc)),\n User(is_enabled=True, id='138', username='alexander.tikhanovskiy@quantori.com', email='alexander.tikhanovskiy@quantori.com', alias=None, first_name='Alexander', last_name='Tikhanovskiy', country='USA', organization='quantori', created_at=datetime.datetime(2022, 6, 16, 6, 45, 7, 965000, tzinfo=datetime.timezone.utc), last_login_at=None),\n User(is_enabled=True, id='139', username='andrey.guschin@quantori.com', email='andrey.guschin@quantori.com', alias=None, first_name='Andrey', last_name='Guschin', country='USA', organization='quantori', created_at=datetime.datetime(2022, 6, 20, 7, 57, 21, 251000, tzinfo=datetime.timezone.utc), last_login_at=datetime.datetime(2022, 7, 6, 9, 53, 8, 713000, tzinfo=datetime.timezone.utc)),\n User(is_enabled=True, id='140', username='alexander.shlyonov@quantori.com', email='alexander.shlyonov@quantori.com', alias=None, first_name='Alexander', last_name='Shlyonov', country='USA', organization='quantori', created_at=datetime.datetime(2022, 6, 20, 8, 29, 26, 881000, tzinfo=datetime.timezone.utc), last_login_at=datetime.datetime(2022, 6, 20, 9, 5, 40, 280000, tzinfo=datetime.timezone.utc)),\n User(is_enabled=True, id='141', username='evgenia.tikeeva@quantori.com', email='evgenia.tikeeva@quantori.com', alias=None, first_name='Evgenia', last_name='Tikeeva', country='USA', organization='quantori', created_at=datetime.datetime(2022, 6, 21, 14, 48, 51, 348000, tzinfo=datetime.timezone.utc), last_login_at=datetime.datetime(2022, 7, 6, 13, 13, 45, 965000, tzinfo=datetime.timezone.utc)),\n User(is_enabled=True, id='142', username='ksenia.yankovskaya@quantori.com', email='ksenia.yankovskaya@quantori.com', alias=None, first_name='Ksenia', last_name='Yankovskaya', country='USA', organization='quantori', created_at=datetime.datetime(2022, 6, 21, 14, 49, 23, 854000, tzinfo=datetime.timezone.utc), last_login_at=datetime.datetime(2022, 6, 30, 11, 11, 42, 558000, tzinfo=datetime.timezone.utc)),\n User(is_enabled=True, id='143', username='unique@quantori.com', email='unique@quantori.com', alias='alias', first_name='first_name', last_name='last_name', country='USA', organization='orga', created_at=datetime.datetime(2022, 7, 1, 12, 50, 5, 244000, tzinfo=datetime.timezone.utc), last_login_at=None),\n User(is_enabled=True, id='145', username='test.account@perkinelmer.com', email='test.account@perkinelmer.com', alias='test', first_name='test', last_name='account', country='USA', organization='perkinelmer', created_at=datetime.datetime(2022, 7, 6, 12, 50, 40, 586000, tzinfo=datetime.timezone.utc), last_login_at=None),\n User(is_enabled=True, id='146', username='elena.test_this@perkinelmer.com', email='elena.test_this@perkinelmer.com', alias='Elena_test_this', first_name='test', last_name='account', country='USA', organization='perkinelmer', created_at=datetime.datetime(2022, 7, 6, 12, 56, 12, 668000, tzinfo=datetime.timezone.utc), last_login_at=None),\n User(is_enabled=True, id='148', username='unique4@quantori.com', email='unique4@quantori.com', alias='alias4', first_name='first_name', last_name='last_name', country='USA', organization='orga', created_at=datetime.datetime(2022, 7, 7, 11, 51, 41, 547000, tzinfo=datetime.timezone.utc), last_login_at=None),\n User(is_enabled=True, id='149', username='unique5@quantori.com', email='unique5@quantori.com', alias='alias5', first_name='first_name', last_name='last_name', country='USA', organization='orga', created_at=datetime.datetime(2022, 7, 7, 11, 53, 25, 144000, tzinfo=datetime.timezone.utc), last_login_at=None),\n User(is_enabled=True, id='150', username='unique6@quantori.com', email='unique6@quantori.com', alias='alias6', first_name='first_name', last_name='last_name', country='USA', organization='orga', created_at=datetime.datetime(2022, 7, 7, 12, 20, 1, 868000, tzinfo=datetime.timezone.utc), last_login_at=None)]"
     },
     "execution_count": 14,
     "metadata": {},
     "output_type": "execute_result"
    }
   ],
   "source": [
    "from signals_notebook.entities import User\n",
    "\n",
    "users = UserStore.get_list()\n",
    "for item in users:\n",
    "    assert isinstance(item, User)\n"
   ],
   "metadata": {
    "collapsed": false,
    "pycharm": {
     "name": "#%%\n"
    }
   }
  },
  {
   "cell_type": "code",
   "execution_count": 10,
   "outputs": [
    {
     "data": {
      "text/plain": "User(is_enabled=False, id='147', username='unique3@quantori.com', email='unique3@quantori.com', alias='alias2', first_name='first_name', last_name='last_name', country='USA', organization='orga', created_at=datetime.datetime(2022, 7, 7, 11, 49, 14, 627000, tzinfo=datetime.timezone.utc), last_login_at=None)"
     },
     "execution_count": 10,
     "metadata": {},
     "output_type": "execute_result"
    }
   ],
   "source": [
    "user"
   ],
   "metadata": {
    "collapsed": false,
    "pycharm": {
     "name": "#%%\n"
    }
   }
  },
  {
   "cell_type": "markdown",
   "source": [],
   "metadata": {
    "collapsed": false,
    "pycharm": {
     "name": "#%% md\n"
    }
   }
  },
  {
   "cell_type": "code",
   "execution_count": 11,
   "outputs": [
    {
     "data": {
      "text/plain": "User(is_enabled=True, id='150', username='unique6@quantori.com', email='unique6@quantori.com', alias='alias6', first_name='first_name', last_name='last_name', country='USA', organization='orga', created_at=datetime.datetime(2022, 7, 7, 12, 20, 1, 868000, tzinfo=datetime.timezone.utc), last_login_at=None)"
     },
     "execution_count": 11,
     "metadata": {},
     "output_type": "execute_result"
    }
   ],
   "source": [
    "from signals_notebook.entities.users.user import UserCreationBody\n",
    "from signals_notebook.entities.users.profile import Role\n",
    "\n",
    "role = Role.get('1')\n",
    "\n",
    "new_user_body = UserCreationBody(\n",
    "    alias='alias6',\n",
    "    country='USA',\n",
    "    email='unique6@quantori.com',\n",
    "    first_name='first_name',\n",
    "    last_name='last_name',\n",
    "    organization='orga',\n",
    "    roles=[role]\n",
    ")\n",
    "new_user = User.create(request=new_user_body)\n",
    "new_user"
   ],
   "metadata": {
    "collapsed": false,
    "pycharm": {
     "name": "#%%\n"
    }
   }
  },
  {
   "cell_type": "code",
   "execution_count": null,
   "outputs": [],
   "source": [
    "new_user.alias = f'{new_user.first_name.lower()}.{new_user.last_name.lower()}'\n",
    "new_user.save()"
   ],
   "metadata": {
    "collapsed": false,
    "pycharm": {
     "name": "#%%\n"
    }
   }
  },
  {
   "cell_type": "code",
   "execution_count": null,
   "outputs": [],
   "source": [
    "new_user.refresh()\n",
    "new_user"
   ],
   "metadata": {
    "collapsed": false,
    "pycharm": {
     "name": "#%%\n"
    }
   }
  },
  {
   "cell_type": "code",
   "execution_count": 17,
   "outputs": [],
   "source": [
    "new_user.delete()"
   ],
   "metadata": {
    "collapsed": false,
    "pycharm": {
     "name": "#%%\n"
    }
   }
  },
  {
   "cell_type": "code",
   "execution_count": null,
   "outputs": [],
   "source": [
    "UserStore.get(new_user.id)"
   ],
   "metadata": {
    "collapsed": false,
    "pycharm": {
     "name": "#%%\n"
    }
   }
  }
 ],
 "metadata": {
  "kernelspec": {
   "display_name": "Python 3",
   "language": "python",
   "name": "python3"
  },
  "language_info": {
   "codemirror_mode": {
    "name": "ipython",
    "version": 2
   },
   "file_extension": ".py",
   "mimetype": "text/x-python",
   "name": "python",
   "nbconvert_exporter": "python",
   "pygments_lexer": "ipython2",
   "version": "2.7.6"
  }
 },
 "nbformat": 4,
 "nbformat_minor": 0
}
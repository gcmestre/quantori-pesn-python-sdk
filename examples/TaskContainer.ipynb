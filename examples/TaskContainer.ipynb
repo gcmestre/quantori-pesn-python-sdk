{
 "cells": [
  {
   "cell_type": "code",
   "execution_count": 1,
   "outputs": [],
   "source": [
    "%load_ext dotenv\n",
    "%dotenv\n",
    "import os\n",
    "\n",
    "SN_API_HOST = os.getenv('SN_API_HOST')\n",
    "SN_API_KEY = os.getenv('SN_API_KEY')"
   ],
   "metadata": {
    "collapsed": false,
    "pycharm": {
     "name": "#%%\n"
    }
   }
  },
  {
   "cell_type": "code",
   "execution_count": 2,
   "outputs": [
    {
     "data": {
      "text/plain": "<signals_notebook.api.SignalsNotebookApi at 0x29608d10580>"
     },
     "execution_count": 2,
     "metadata": {},
     "output_type": "execute_result"
    }
   ],
   "source": [
    "from signals_notebook.api import SignalsNotebookApi\n",
    "SignalsNotebookApi.init(SN_API_HOST, SN_API_KEY)"
   ],
   "metadata": {
    "collapsed": false,
    "pycharm": {
     "name": "#%%\n"
    }
   }
  },
  {
   "cell_type": "code",
   "execution_count": 3,
   "outputs": [],
   "source": [
    "from signals_notebook.entities.entity_store import EntityStore"
   ],
   "metadata": {
    "collapsed": false,
    "pycharm": {
     "name": "#%%\n"
    }
   }
  },
  {
   "cell_type": "code",
   "execution_count": 4,
   "outputs": [],
   "source": [
    "from signals_notebook.entities import RequestContainer\n",
    "\n",
    "notebook = EntityStore.get('journal:c54da414-87d0-448f-8987-b3f58d819f1e')\n",
    "request = RequestContainer.create(\n",
    "    name='Example request created by SDK example',\n",
    "    description='Delete if you see this in UI',\n",
    "    notebook=notebook,\n",
    ")"
   ],
   "metadata": {
    "collapsed": false,
    "pycharm": {
     "name": "#%%\n"
    }
   }
  },
  {
   "cell_type": "code",
   "execution_count": 5,
   "outputs": [
    {
     "data": {
      "text/plain": "[TaskContainer(type=<EntityType.TASK_CONTAINER: 'taskContainer'>, eid='taskContainer:cf999fb1-cfcb-4c83-8eb3-477568acf9e6', digest='0', name='Task Container', description='', created_at=datetime.datetime(2022, 8, 30, 9, 32, 18, 220000, tzinfo=datetime.timezone.utc), edited_at=datetime.datetime(2022, 8, 30, 9, 32, 18, 220000, tzinfo=datetime.timezone.utc))]"
     },
     "execution_count": 5,
     "metadata": {},
     "output_type": "execute_result"
    }
   ],
   "source": [
    "children = list(request.get_children())\n",
    "children"
   ],
   "metadata": {
    "collapsed": false,
    "pycharm": {
     "name": "#%%\n"
    }
   }
  },
  {
   "cell_type": "code",
   "execution_count": 6,
   "outputs": [],
   "source": [
    "task_container = children[0]"
   ],
   "metadata": {
    "collapsed": false,
    "pycharm": {
     "name": "#%%\n"
    }
   }
  },
  {
   "cell_type": "code",
   "execution_count": 7,
   "outputs": [
    {
     "data": {
      "text/plain": "TaskContainer(type=<EntityType.TASK_CONTAINER: 'taskContainer'>, eid='taskContainer:cf999fb1-cfcb-4c83-8eb3-477568acf9e6', digest='0', name='Task Container', description='', created_at=datetime.datetime(2022, 8, 30, 9, 32, 18, 220000, tzinfo=datetime.timezone.utc), edited_at=datetime.datetime(2022, 8, 30, 9, 32, 18, 220000, tzinfo=datetime.timezone.utc))"
     },
     "execution_count": 7,
     "metadata": {},
     "output_type": "execute_result"
    }
   ],
   "source": [
    "task_container"
   ],
   "metadata": {
    "collapsed": false,
    "pycharm": {
     "name": "#%%\n"
    }
   }
  },
  {
   "cell_type": "code",
   "execution_count": 8,
   "outputs": [],
   "source": [
    "request2 = EntityStore.get('request:cd55d951-d21d-4001-b9f8-c076bc047466')"
   ],
   "metadata": {
    "collapsed": false,
    "pycharm": {
     "name": "#%%\n"
    }
   }
  },
  {
   "cell_type": "code",
   "execution_count": 9,
   "outputs": [],
   "source": [
    "request2_children = list()"
   ],
   "metadata": {
    "collapsed": false,
    "pycharm": {
     "name": "#%%\n"
    }
   }
  },
  {
   "cell_type": "code",
   "execution_count": 10,
   "outputs": [
    {
     "name": "stdout",
     "output_type": "stream",
     "text": [
      "<TaskContainer eid=taskContainer:afef41be-2747-4d7c-932b-db0b8b5345d5>\n",
      "<Word eid=viewonly:3e97bd50-7d7d-4e93-ba07-6a292f020f4a>\n",
      "<Text eid=text:ff9e548a-1b0e-4c92-baf6-18d7f52611c3>\n"
     ]
    }
   ],
   "source": [
    "from signals_notebook.common_types import EntityType\n",
    "\n",
    "task_container2 = None\n",
    "for item in request2.get_children():\n",
    "    print(item)\n",
    "    if item.type == EntityType.TASK_CONTAINER:\n",
    "        task_container2 = item"
   ],
   "metadata": {
    "collapsed": false,
    "pycharm": {
     "name": "#%%\n"
    }
   }
  },
  {
   "cell_type": "code",
   "execution_count": 11,
   "outputs": [
    {
     "data": {
      "text/plain": "TaskContainer(type=<EntityType.TASK_CONTAINER: 'taskContainer'>, eid='taskContainer:afef41be-2747-4d7c-932b-db0b8b5345d5', digest='72107232', name='Task Container', description='', created_at=datetime.datetime(2022, 8, 30, 9, 0, 13, 612000, tzinfo=datetime.timezone.utc), edited_at=datetime.datetime(2022, 8, 30, 9, 1, 5, 402000, tzinfo=datetime.timezone.utc))"
     },
     "execution_count": 11,
     "metadata": {},
     "output_type": "execute_result"
    }
   ],
   "source": [
    "task_container2"
   ],
   "metadata": {
    "collapsed": false,
    "pycharm": {
     "name": "#%%\n"
    }
   }
  },
  {
   "cell_type": "code",
   "execution_count": 12,
   "outputs": [
    {
     "data": {
      "text/plain": "File(name='Task+Container.txt', content=b'{\"cols\":[{\"key\":\"1\",\"title\":\"Task ID\",\"type\":\"link\",\"isEditableInRequest\":false,\"isEditableInExperiment\":false,\"isTaskIdField\":true},{\"key\":\"2\",\"title\":\"Task Type\",\"type\":\"text\",\"isEditableInRequest\":false,\"isEditableInExperiment\":false},{\"key\":\"3\",\"title\":\"Reference ID\",\"type\":\"link\",\"multiSelect\":true,\"isEditableInRequest\":true,\"isEditableInExperiment\":false,\"isEntityUnderTest\":true},{\"key\":\"4\",\"title\":\"Requestor Comment\",\"type\":\"text\",\"isEditableInRequest\":true,\"isEditableInExperiment\":false},{\"key\":\"5\",\"title\":\"Analyst Comment\",\"type\":\"text\",\"isEditableInRequest\":false,\"isEditableInExperiment\":true},{\"key\":\"6\",\"title\":\"Required By\",\"type\":\"datetime\",\"isEditableInRequest\":true,\"isEditableInExperiment\":false},{\"key\":\"7\",\"title\":\"Analyst\",\"type\":\"user\",\"isEditableInRequest\":false,\"isEditableInExperiment\":false},{\"key\":\"8\",\"title\":\"Experiment Link\",\"type\":\"link\",\"isEditableInRequest\":false,\"isEditableInExperiment\":false,\"hideInExperiment\":true},{\"key\":\"9\",\"title\":\"Request Link\",\"type\":\"link\",\"isEditableInRequest\":false,\"isEditableInExperiment\":false,\"hideInRequest\":true},{\"key\":\"10\",\"title\":\"Status\",\"type\":\"attributeList\",\"attributeListEid\":\"attribute:14\",\"isEditableInRequest\":false,\"isEditableInExperiment\":false,\"isStatusField\":true},{\"key\":\"11\",\"title\":\"Attached Docs\",\"type\":\"childEntityCount\",\"isEditableInRequest\":false,\"isEditableInExperiment\":false},{\"key\":\"100\",\"title\":\"My Assigned To (SK)\",\"type\":\"list\",\"options\":[\"Sergey Kuznetsov\",\"Anatoliy Kind\",\"Darya Korkina\"],\"isEditableInRequest\":true,\"isEditableInExperiment\":true},{\"key\":\"12\",\"title\":\"Creator\",\"type\":\"user\",\"isEditableInRequest\":false,\"isEditableInExperiment\":false},{\"key\":\"13\",\"title\":\"Created Date\",\"type\":\"datetime\",\"hidden\":true,\"isEditableInRequest\":false,\"isEditableInExperiment\":false}],\"rows\":[{\"_id\":\"33b64606-18cd-4b76-8c71-c589c9f94f6b\",\"sourceEid\":\"task:73bb7697-e3fd-4dc0-9653-ae3da440dbe1\",\"eid\":\"task:e8ef3044-9684-4f1b-b426-7917f633a79e\",\"1\":{\"auto\":\"Task-104\",\"value\":\"task:e8ef3044-9684-4f1b-b426-7917f633a79e\",\"type\":\"task\"},\"2\":{\"auto\":\"Task\",\"value\":\"Task\"},\"3\":{\"user\":\"\",\"values\":[]},\"4\":{},\"5\":{},\"6\":{},\"7\":{},\"8\":{},\"9\":{\"auto\":\"Example Request\",\"value\":\"request:cd55d951-d21d-4001-b9f8-c076bc047466\",\"type\":\"request\"},\"10\":{\"auto\":\"New\",\"value\":\"New\"},\"11\":{\"eid\":\"task:e8ef3044-9684-4f1b-b426-7917f633a79e\",\"auto\":\"0\",\"value\":\"0\"},\"100\":{},\"12\":{\"auto\":{\"userId\":\"136\",\"userName\":\"daniil.cherednichenko@quantori.com\",\"email\":\"daniil.cherednichenko@quantori.com\",\"firstName\":\"Daniil\",\"lastName\":\"Cherednichenko\",\"picture\":{}},\"value\":{\"userId\":\"136\",\"userName\":\"daniil.cherednichenko@quantori.com\",\"email\":\"daniil.cherednichenko@quantori.com\",\"firstName\":\"Daniil\",\"lastName\":\"Cherednichenko\",\"picture\":{}}},\"status\":\"new\",\"validStateTransitions\":[\"delete\",\"submit\"],\"requestTaskContainerEid\":\"taskContainer:afef41be-2747-4d7c-932b-db0b8b5345d5\"},{\"_id\":\"6581b96f-4369-4c8d-8a63-16942ee77bcf\",\"sourceEid\":\"task:c3d74311-444e-4805-8406-55ae3c21318c\",\"eid\":\"task:d86f443d-9c11-48a5-8943-091f6eeafde4\",\"1\":{\"auto\":\"Task-105\",\"value\":\"task:d86f443d-9c11-48a5-8943-091f6eeafde4\",\"type\":\"task\"},\"2\":{\"auto\":\"Test\",\"value\":\"Test\"},\"3\":{\"user\":\"\",\"values\":[]},\"4\":{},\"5\":{},\"6\":{},\"7\":{},\"8\":{},\"9\":{\"auto\":\"Example Request\",\"value\":\"request:cd55d951-d21d-4001-b9f8-c076bc047466\",\"type\":\"request\"},\"10\":{\"auto\":\"New\",\"value\":\"New\"},\"11\":{\"eid\":\"task:d86f443d-9c11-48a5-8943-091f6eeafde4\",\"auto\":\"0\",\"value\":\"0\"},\"12\":{\"auto\":{\"userId\":\"136\",\"userName\":\"daniil.cherednichenko@quantori.com\",\"email\":\"daniil.cherednichenko@quantori.com\",\"firstName\":\"Daniil\",\"lastName\":\"Cherednichenko\",\"picture\":{}},\"value\":{\"userId\":\"136\",\"userName\":\"daniil.cherednichenko@quantori.com\",\"email\":\"daniil.cherednichenko@quantori.com\",\"firstName\":\"Daniil\",\"lastName\":\"Cherednichenko\",\"picture\":{}}},\"status\":\"new\",\"validStateTransitions\":[\"delete\",\"submit\"],\"requestTaskContainerEid\":\"taskContainer:afef41be-2747-4d7c-932b-db0b8b5345d5\"},{\"_id\":\"7832ef77-bfd0-4d0d-9eb6-ece2facccc7f\",\"sourceEid\":\"task:aad65584-f51d-4368-bc66-819c5d5b7f9f\",\"eid\":\"task:637ddfa4-0406-4328-84c7-677a61296af2\",\"1\":{\"auto\":\"Task-106\",\"value\":\"task:637ddfa4-0406-4328-84c7-677a61296af2\",\"type\":\"task\"},\"2\":{\"auto\":\"Investigation\",\"value\":\"Investigation\"},\"3\":{\"user\":\"\",\"values\":[]},\"4\":{},\"5\":{},\"6\":{},\"7\":{},\"8\":{},\"9\":{\"auto\":\"Example Request\",\"value\":\"request:cd55d951-d21d-4001-b9f8-c076bc047466\",\"type\":\"request\"},\"10\":{\"auto\":\"New\",\"value\":\"New\"},\"11\":{\"eid\":\"task:637ddfa4-0406-4328-84c7-677a61296af2\",\"auto\":\"0\",\"value\":\"0\"},\"12\":{\"auto\":{\"userId\":\"136\",\"userName\":\"daniil.cherednichenko@quantori.com\",\"email\":\"daniil.cherednichenko@quantori.com\",\"firstName\":\"Daniil\",\"lastName\":\"Cherednichenko\",\"picture\":{}},\"value\":{\"userId\":\"136\",\"userName\":\"daniil.cherednichenko@quantori.com\",\"email\":\"daniil.cherednichenko@quantori.com\",\"firstName\":\"Daniil\",\"lastName\":\"Cherednichenko\",\"picture\":{}}},\"status\":\"new\",\"validStateTransitions\":[\"delete\",\"submit\"],\"requestTaskContainerEid\":\"taskContainer:afef41be-2747-4d7c-932b-db0b8b5345d5\"}]}', content_type='text/plain')"
     },
     "execution_count": 12,
     "metadata": {},
     "output_type": "execute_result"
    }
   ],
   "source": [
    "task_container2.get_content()"
   ],
   "metadata": {
    "collapsed": false,
    "pycharm": {
     "name": "#%%\n"
    }
   }
  },
  {
   "cell_type": "code",
   "execution_count": 13,
   "outputs": [
    {
     "name": "stdout",
     "output_type": "stream",
     "text": [
      "<Task eid=task:e8ef3044-9684-4f1b-b426-7917f633a79e>\n",
      "<Task eid=task:d86f443d-9c11-48a5-8943-091f6eeafde4>\n",
      "<Task eid=task:637ddfa4-0406-4328-84c7-677a61296af2>\n"
     ]
    }
   ],
   "source": [
    "for item in task_container2:\n",
    "    print(item)"
   ],
   "metadata": {
    "collapsed": false,
    "pycharm": {
     "name": "#%%\n"
    }
   }
  },
  {
   "cell_type": "code",
   "execution_count": 14,
   "outputs": [
    {
     "data": {
      "text/plain": "Task(type=<EntityType.TASK: 'task'>, eid='task:e8ef3044-9684-4f1b-b426-7917f633a79e', digest='39222517', name='Task-104', description='', created_at=datetime.datetime(2022, 8, 30, 9, 0, 54, 870000, tzinfo=datetime.timezone.utc), edited_at=datetime.datetime(2022, 8, 30, 9, 0, 54, 870000, tzinfo=datetime.timezone.utc))"
     },
     "execution_count": 14,
     "metadata": {},
     "output_type": "execute_result"
    }
   ],
   "source": [
    "task_container2[0]"
   ],
   "metadata": {
    "collapsed": false,
    "pycharm": {
     "name": "#%%\n"
    }
   }
  },
  {
   "cell_type": "code",
   "execution_count": 15,
   "outputs": [
    {
     "data": {
      "text/plain": "TaskCell(id='12', name='Creator', content=TaskCellContent(value={'userId': '136', 'userName': 'daniil.cherednichenko@quantori.com', 'email': 'daniil.cherednichenko@quantori.com', 'firstName': 'Daniil', 'lastName': 'Cherednichenko', 'picture': {}}, name=None, eid=None, values=None))"
     },
     "execution_count": 15,
     "metadata": {},
     "output_type": "execute_result"
    }
   ],
   "source": [
    "task_container2[0][12]"
   ],
   "metadata": {
    "collapsed": false,
    "pycharm": {
     "name": "#%%\n"
    }
   }
  },
  {
   "cell_type": "code",
   "execution_count": 16,
   "outputs": [],
   "source": [
    "request.delete()"
   ],
   "metadata": {
    "collapsed": false,
    "pycharm": {
     "name": "#%%\n"
    }
   }
  },
  {
   "cell_type": "code",
   "execution_count": 16,
   "outputs": [],
   "source": [],
   "metadata": {
    "collapsed": false,
    "pycharm": {
     "name": "#%%\n"
    }
   }
  }
 ],
 "metadata": {
  "kernelspec": {
   "display_name": "Python 3",
   "language": "python",
   "name": "python3"
  },
  "language_info": {
   "codemirror_mode": {
    "name": "ipython",
    "version": 2
   },
   "file_extension": ".py",
   "mimetype": "text/x-python",
   "name": "python",
   "nbconvert_exporter": "python",
   "pygments_lexer": "ipython2",
   "version": "2.7.6"
  }
 },
 "nbformat": 4,
 "nbformat_minor": 0
}
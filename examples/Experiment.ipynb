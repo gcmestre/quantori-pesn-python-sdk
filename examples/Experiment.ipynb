{
 "cells": [
  {
   "cell_type": "code",
   "execution_count": 1,
   "metadata": {
    "pycharm": {
     "name": "#%%\n"
    }
   },
   "outputs": [],
   "source": [
    "%load_ext dotenv\n",
    "%dotenv\n",
    "import os\n",
    "\n",
    "SN_API_HOST = os.getenv('SN_API_HOST')\n",
    "SN_API_KEY = os.getenv('SN_API_KEY')"
   ]
  },
  {
   "cell_type": "code",
   "execution_count": 2,
   "metadata": {
    "pycharm": {
     "name": "#%%\n"
    }
   },
   "outputs": [
    {
     "data": {
      "text/plain": "<signals_notebook.api.SignalsNotebookApi at 0x1de64ab4580>"
     },
     "execution_count": 2,
     "metadata": {},
     "output_type": "execute_result"
    }
   ],
   "source": [
    "from signals_notebook.api import SignalsNotebookApi\n",
    "\n",
    "SignalsNotebookApi.init(SN_API_HOST, SN_API_KEY)"
   ]
  },
  {
   "cell_type": "code",
   "execution_count": 3,
   "metadata": {
    "pycharm": {
     "name": "#%%\n"
    }
   },
   "outputs": [],
   "source": [
    "from signals_notebook.entities import EntityStore\n",
    "\n",
    "experiment = EntityStore.get(\"experiment:a16616ef-e1d5-4409-a9b6-c253c359d504\")"
   ]
  },
  {
   "cell_type": "code",
   "execution_count": 4,
   "outputs": [
    {
     "data": {
      "text/plain": "<IPython.core.display.HTML object>",
      "text/html": "<!DOCTYPE html>\n<html lang=\"en\">\n<head>\n    <meta charset=\"utf-8\">\n    <meta name=\"viewport\" content=\"width=device-width, initial-scale=1.0\">\n    <link rel=\"icon\" href=\"data:;base64,iVBORw0KGgo=\">\n    <title>Example</title>\n    <style>\n        h1 {\n            margin-top: 1.7rem;\n            margin-bottom: 0.3rem;\n            font-size: 1.6rem;\n        }\n\n        h2 {\n            margin-top: 1.2rem;\n            margin-bottom: 0.3rem;\n            font-size: 1.2rem;\n            color: #00A0E1;\n        }\n\n        table.props th, table.props td {\n            text-align: left;\n            padding: 3px;\n        }\n        .table-scroll {\n            overflow:auto;\n        }\n        .table-wrapper {\n            position:relative;\n        }\n        table, th, td {\n            border: 1px solid #cccccc;\n            border-collapse: collapse;\n            table-layout: fixed;\n        }\n        .table-wrapper th, td {\n            padding: 10px 20px;\n        }\n        .table-wrapper table td {\n            text-align: center;\n            vertical-align: middle;\n            padding: 5px;\n        }\n        .parent {\n            display: flex;\n            justify-content: center;\n            align-items: center;\n            width: 100%;\n            aspect-ratio: auto;\n        }\n        .image-container {\n            width: 60%;\n            height: 60%;\n            overflow: hidden;\n        }\n\n        .image-container img {\n            width: 100%;\n            min-height: 100%;\n            object-fit: cover;\n        }\n\n    </style>\n</head>\n<body>\n<table class=\"props\" style=\"margin: 10px 10px; padding: 6px 10px;\">\n    <tr>\n        <th>Experiment name:</th>\n        <td>Example</td>\n    </tr>\n    <tr>\n        <th>Description:</th>\n        <td></td>\n    </tr>\n    <tr>\n        <th>Last edited at:</th>\n        <td>09:17:26 2022-08-30</td>\n    </tr>\n    <tr>\n        <th>State:</th>\n        <td>open</td>\n    </tr>\n</table>\n\n\n<div class=\"table-wrapper\" style=\"margin: 10px 10px; padding: 6px 10px; border: solid 1px #f5f5f5;\">\n    <div class=\"table-scroll\">\n        <h2>All Table Column Types (SK)</h2>\n        <table>\n            <thead>\n                <tr>\n                \n                    <th>Col. Text</th>\n                \n                    <th>Col. Date/Time</th>\n                \n                    <th>Col. Number</th>\n                \n                    <th>Col. Number w/Unit</th>\n                \n                    <th>Col. Ext. Hyperlink</th>\n                \n                    <th>Col. Autotext List</th>\n                \n                    <th>Col. Checkbox</th>\n                \n                    <th>Col. Internal Reference</th>\n                \n                    <th>Col. List</th>\n                \n                    <th>Col. Integer</th>\n                \n                    <th>Col. Multi Select List</th>\n                \n                    <th>Col. Attribute List</th>\n                \n                    <th>Col. Multi Attribute List</th>\n                \n                </tr>\n            </thead>\n            <tbody>\n            \n                <tr>\n                \n                    \n                    <td>text</td>\n                    \n                \n                    \n                    <td></td>\n                    \n                \n                    \n                    <td></td>\n                    \n                \n                    \n                    <td></td>\n                    \n                \n                    \n                    <td></td>\n                    \n                \n                    \n                    <td></td>\n                    \n                \n                    \n                    <td></td>\n                    \n                \n                    \n                    <td></td>\n                    \n                \n                    \n                    <td></td>\n                    \n                \n                    \n                    <td></td>\n                    \n                \n                    \n                    <td></td>\n                    \n                \n                    \n                    <td></td>\n                    \n                \n                    \n                    <td></td>\n                    \n                \n                </tr>\n            \n            </tbody>\n        </table>\n    </div>\n</div>\n\n\n<div class=\"table-wrapper\" style=\"margin: 10px 10px; padding: 6px 10px; border: solid 1px #f5f5f5;\">\n    <div class=\"table-scroll\">\n        <h2>Plates</h2>\n        <table>\n            <thead>\n                <tr>\n                \n                    <th>Well ID</th>\n                \n                    <th>Row</th>\n                \n                    <th>Column</th>\n                \n                    <th>Plate</th>\n                \n                    <th>Order</th>\n                \n                    <th>Plate ID</th>\n                \n                </tr>\n            </thead>\n            <tbody>\n                \n                <tr>\n                    \n                        \n                            <td>A1</td>\n                        \n                    \n                        \n                            <td>A</td>\n                        \n                    \n                        \n                            <td>1</td>\n                        \n                    \n                        \n                            <td>Plate-1</td>\n                        \n                    \n                        \n                            <td>1</td>\n                        \n                    \n                        \n                            <td></td>\n                        \n                    \n                </tr>\n                \n                <tr>\n                    \n                        \n                            <td>A2</td>\n                        \n                    \n                        \n                            <td>A</td>\n                        \n                    \n                        \n                            <td>2</td>\n                        \n                    \n                        \n                            <td>Plate-1</td>\n                        \n                    \n                        \n                            <td>1</td>\n                        \n                    \n                        \n                            <td></td>\n                        \n                    \n                </tr>\n                \n                <tr>\n                    \n                        \n                            <td>A3</td>\n                        \n                    \n                        \n                            <td>A</td>\n                        \n                    \n                        \n                            <td>3</td>\n                        \n                    \n                        \n                            <td>Plate-1</td>\n                        \n                    \n                        \n                            <td>1</td>\n                        \n                    \n                        \n                            <td></td>\n                        \n                    \n                </tr>\n                \n                <tr>\n                    \n                        \n                            <td>A4</td>\n                        \n                    \n                        \n                            <td>A</td>\n                        \n                    \n                        \n                            <td>4</td>\n                        \n                    \n                        \n                            <td>Plate-1</td>\n                        \n                    \n                        \n                            <td>1</td>\n                        \n                    \n                        \n                            <td></td>\n                        \n                    \n                </tr>\n                \n                <tr>\n                    \n                        \n                            <td>A5</td>\n                        \n                    \n                        \n                            <td>A</td>\n                        \n                    \n                        \n                            <td>5</td>\n                        \n                    \n                        \n                            <td>Plate-1</td>\n                        \n                    \n                        \n                            <td>1</td>\n                        \n                    \n                        \n                            <td></td>\n                        \n                    \n                </tr>\n                \n                <tr>\n                    \n                        \n                            <td>A6</td>\n                        \n                    \n                        \n                            <td>A</td>\n                        \n                    \n                        \n                            <td>6</td>\n                        \n                    \n                        \n                            <td>Plate-1</td>\n                        \n                    \n                        \n                            <td>1</td>\n                        \n                    \n                        \n                            <td></td>\n                        \n                    \n                </tr>\n                \n                <tr>\n                    \n                        \n                            <td>B1</td>\n                        \n                    \n                        \n                            <td>B</td>\n                        \n                    \n                        \n                            <td>1</td>\n                        \n                    \n                        \n                            <td>Plate-1</td>\n                        \n                    \n                        \n                            <td>1</td>\n                        \n                    \n                        \n                            <td></td>\n                        \n                    \n                </tr>\n                \n                <tr>\n                    \n                        \n                            <td>B2</td>\n                        \n                    \n                        \n                            <td>B</td>\n                        \n                    \n                        \n                            <td>2</td>\n                        \n                    \n                        \n                            <td>Plate-1</td>\n                        \n                    \n                        \n                            <td>1</td>\n                        \n                    \n                        \n                            <td></td>\n                        \n                    \n                </tr>\n                \n                <tr>\n                    \n                        \n                            <td>B3</td>\n                        \n                    \n                        \n                            <td>B</td>\n                        \n                    \n                        \n                            <td>3</td>\n                        \n                    \n                        \n                            <td>Plate-1</td>\n                        \n                    \n                        \n                            <td>1</td>\n                        \n                    \n                        \n                            <td></td>\n                        \n                    \n                </tr>\n                \n                <tr>\n                    \n                        \n                            <td>B4</td>\n                        \n                    \n                        \n                            <td>B</td>\n                        \n                    \n                        \n                            <td>4</td>\n                        \n                    \n                        \n                            <td>Plate-1</td>\n                        \n                    \n                        \n                            <td>1</td>\n                        \n                    \n                        \n                            <td></td>\n                        \n                    \n                </tr>\n                \n                <tr>\n                    \n                        \n                            <td>B5</td>\n                        \n                    \n                        \n                            <td>B</td>\n                        \n                    \n                        \n                            <td>5</td>\n                        \n                    \n                        \n                            <td>Plate-1</td>\n                        \n                    \n                        \n                            <td>1</td>\n                        \n                    \n                        \n                            <td></td>\n                        \n                    \n                </tr>\n                \n                <tr>\n                    \n                        \n                            <td>B6</td>\n                        \n                    \n                        \n                            <td>B</td>\n                        \n                    \n                        \n                            <td>6</td>\n                        \n                    \n                        \n                            <td>Plate-1</td>\n                        \n                    \n                        \n                            <td>1</td>\n                        \n                    \n                        \n                            <td></td>\n                        \n                    \n                </tr>\n                \n                <tr>\n                    \n                        \n                            <td>C1</td>\n                        \n                    \n                        \n                            <td>C</td>\n                        \n                    \n                        \n                            <td>1</td>\n                        \n                    \n                        \n                            <td>Plate-1</td>\n                        \n                    \n                        \n                            <td>1</td>\n                        \n                    \n                        \n                            <td></td>\n                        \n                    \n                </tr>\n                \n                <tr>\n                    \n                        \n                            <td>C2</td>\n                        \n                    \n                        \n                            <td>C</td>\n                        \n                    \n                        \n                            <td>2</td>\n                        \n                    \n                        \n                            <td>Plate-1</td>\n                        \n                    \n                        \n                            <td>1</td>\n                        \n                    \n                        \n                            <td></td>\n                        \n                    \n                </tr>\n                \n                <tr>\n                    \n                        \n                            <td>C3</td>\n                        \n                    \n                        \n                            <td>C</td>\n                        \n                    \n                        \n                            <td>3</td>\n                        \n                    \n                        \n                            <td>Plate-1</td>\n                        \n                    \n                        \n                            <td>1</td>\n                        \n                    \n                        \n                            <td></td>\n                        \n                    \n                </tr>\n                \n                <tr>\n                    \n                        \n                            <td>C4</td>\n                        \n                    \n                        \n                            <td>C</td>\n                        \n                    \n                        \n                            <td>4</td>\n                        \n                    \n                        \n                            <td>Plate-1</td>\n                        \n                    \n                        \n                            <td>1</td>\n                        \n                    \n                        \n                            <td></td>\n                        \n                    \n                </tr>\n                \n                <tr>\n                    \n                        \n                            <td>C5</td>\n                        \n                    \n                        \n                            <td>C</td>\n                        \n                    \n                        \n                            <td>5</td>\n                        \n                    \n                        \n                            <td>Plate-1</td>\n                        \n                    \n                        \n                            <td>1</td>\n                        \n                    \n                        \n                            <td></td>\n                        \n                    \n                </tr>\n                \n                <tr>\n                    \n                        \n                            <td>C6</td>\n                        \n                    \n                        \n                            <td>C</td>\n                        \n                    \n                        \n                            <td>6</td>\n                        \n                    \n                        \n                            <td>Plate-1</td>\n                        \n                    \n                        \n                            <td>1</td>\n                        \n                    \n                        \n                            <td></td>\n                        \n                    \n                </tr>\n                \n                <tr>\n                    \n                        \n                            <td>D1</td>\n                        \n                    \n                        \n                            <td>D</td>\n                        \n                    \n                        \n                            <td>1</td>\n                        \n                    \n                        \n                            <td>Plate-1</td>\n                        \n                    \n                        \n                            <td>1</td>\n                        \n                    \n                        \n                            <td></td>\n                        \n                    \n                </tr>\n                \n                <tr>\n                    \n                        \n                            <td>D2</td>\n                        \n                    \n                        \n                            <td>D</td>\n                        \n                    \n                        \n                            <td>2</td>\n                        \n                    \n                        \n                            <td>Plate-1</td>\n                        \n                    \n                        \n                            <td>1</td>\n                        \n                    \n                        \n                            <td></td>\n                        \n                    \n                </tr>\n                \n                <tr>\n                    \n                        \n                            <td>D3</td>\n                        \n                    \n                        \n                            <td>D</td>\n                        \n                    \n                        \n                            <td>3</td>\n                        \n                    \n                        \n                            <td>Plate-1</td>\n                        \n                    \n                        \n                            <td>1</td>\n                        \n                    \n                        \n                            <td></td>\n                        \n                    \n                </tr>\n                \n                <tr>\n                    \n                        \n                            <td>D4</td>\n                        \n                    \n                        \n                            <td>D</td>\n                        \n                    \n                        \n                            <td>4</td>\n                        \n                    \n                        \n                            <td>Plate-1</td>\n                        \n                    \n                        \n                            <td>1</td>\n                        \n                    \n                        \n                            <td></td>\n                        \n                    \n                </tr>\n                \n                <tr>\n                    \n                        \n                            <td>D5</td>\n                        \n                    \n                        \n                            <td>D</td>\n                        \n                    \n                        \n                            <td>5</td>\n                        \n                    \n                        \n                            <td>Plate-1</td>\n                        \n                    \n                        \n                            <td>1</td>\n                        \n                    \n                        \n                            <td></td>\n                        \n                    \n                </tr>\n                \n                <tr>\n                    \n                        \n                            <td>D6</td>\n                        \n                    \n                        \n                            <td>D</td>\n                        \n                    \n                        \n                            <td>6</td>\n                        \n                    \n                        \n                            <td>Plate-1</td>\n                        \n                    \n                        \n                            <td>1</td>\n                        \n                    \n                        \n                            <td></td>\n                        \n                    \n                </tr>\n                \n            </tbody>\n        </table>\n    </div>\n</div>\n\n\n<div style=\"margin: 10px 10px; padding: 6px 10px; border: solid 1px #f5f5f5;\">\n    <h2>example resource.json</h2>\n    \n    <a href=\"data:application/json;base64,\" download=\"example resource.json\">DOWNLOAD UPLOADED FILE FILE</a>\n    \n</div>\n\n<div style=\"margin: 10px 10px; padding: 6px 10px; border: solid 1px #f5f5f5;\">\n    <h2>Text</h2>\n    <div>\n        <span><p>IMPORTANT TEXT</p></span>\n    </div>\n</div>\n\n\n\n</body>\n</html>"
     },
     "metadata": {},
     "output_type": "display_data"
    }
   ],
   "source": [
    "import warnings # added to ignore deprecation warnings\n",
    "warnings.filterwarnings('ignore')\n",
    "\n",
    "from IPython.core.display import display, HTML\n",
    "\n",
    "experiment_html = experiment.get_html()\n",
    "display(HTML(data=experiment_html))  # pycharm cannot display html correctly. Use web version to see html response."
   ],
   "metadata": {
    "collapsed": false,
    "pycharm": {
     "name": "#%%\n"
    }
   }
  },
  {
   "cell_type": "code",
   "execution_count": 5,
   "outputs": [],
   "source": [
    "with open('test_file.html', 'w') as f:\n",
    "    f.write(experiment_html)"
   ],
   "metadata": {
    "collapsed": false,
    "pycharm": {
     "name": "#%%\n"
    }
   }
  },
  {
   "cell_type": "code",
   "execution_count": 6,
   "outputs": [
    {
     "data": {
      "text/plain": "<IPython.core.display.HTML object>",
      "text/html": "<!DOCTYPE html>\n<html lang=\"en\">\n<head>\n    <meta charset=\"utf-8\">\n    <meta name=\"viewport\" content=\"width=device-width, initial-scale=1.0\">\n    <link rel=\"icon\" href=\"data:;base64,iVBORw0KGgo=\">\n    <title>Example</title>\n    <style>\n        h1 {\n            margin-top: 1.7rem;\n            margin-bottom: 0.3rem;\n            font-size: 1.6rem;\n        }\n\n        h2 {\n            margin-top: 1.2rem;\n            margin-bottom: 0.3rem;\n            font-size: 1.2rem;\n            color: #00A0E1;\n        }\n\n        table.props th, table.props td {\n            text-align: left;\n            padding: 3px;\n        }\n        .table-scroll {\n            overflow:auto;\n        }\n        .table-wrapper {\n            position:relative;\n        }\n        table, th, td {\n            border: 1px solid #cccccc;\n            border-collapse: collapse;\n            table-layout: fixed;\n        }\n        .table-wrapper th, td {\n            padding: 10px 20px;\n        }\n        .table-wrapper table td {\n            text-align: center;\n            vertical-align: middle;\n            padding: 5px;\n        }\n        .parent {\n            display: flex;\n            justify-content: center;\n            align-items: center;\n            width: 100%;\n            aspect-ratio: auto;\n        }\n        .image-container {\n            width: 60%;\n            height: 60%;\n            overflow: hidden;\n        }\n\n        .image-container img {\n            width: 100%;\n            min-height: 100%;\n            object-fit: cover;\n        }\n\n    </style>\n</head>\n<body>\n<table class=\"props\" style=\"margin: 10px 10px; padding: 6px 10px;\">\n    <tr>\n        <th>Experiment name:</th>\n        <td>Example</td>\n    </tr>\n    <tr>\n        <th>Description:</th>\n        <td></td>\n    </tr>\n    <tr>\n        <th>Last edited at:</th>\n        <td>09:17:26 2022-08-30</td>\n    </tr>\n    <tr>\n        <th>State:</th>\n        <td>open</td>\n    </tr>\n</table>\n\n\n<div class=\"table-wrapper\" style=\"margin: 10px 10px; padding: 6px 10px; border: solid 1px #f5f5f5;\">\n    <div class=\"table-scroll\">\n        <h2>All Table Column Types (SK)</h2>\n        <table>\n            <thead>\n                <tr>\n                \n                    <th>Col. Text</th>\n                \n                    <th>Col. Date/Time</th>\n                \n                    <th>Col. Number</th>\n                \n                    <th>Col. Number w/Unit</th>\n                \n                    <th>Col. Ext. Hyperlink</th>\n                \n                    <th>Col. Autotext List</th>\n                \n                    <th>Col. Checkbox</th>\n                \n                    <th>Col. Internal Reference</th>\n                \n                    <th>Col. List</th>\n                \n                    <th>Col. Integer</th>\n                \n                    <th>Col. Multi Select List</th>\n                \n                    <th>Col. Attribute List</th>\n                \n                    <th>Col. Multi Attribute List</th>\n                \n                </tr>\n            </thead>\n            <tbody>\n            \n                <tr>\n                \n                    \n                    <td>text</td>\n                    \n                \n                    \n                    <td></td>\n                    \n                \n                    \n                    <td></td>\n                    \n                \n                    \n                    <td></td>\n                    \n                \n                    \n                    <td></td>\n                    \n                \n                    \n                    <td></td>\n                    \n                \n                    \n                    <td></td>\n                    \n                \n                    \n                    <td></td>\n                    \n                \n                    \n                    <td></td>\n                    \n                \n                    \n                    <td></td>\n                    \n                \n                    \n                    <td></td>\n                    \n                \n                    \n                    <td></td>\n                    \n                \n                    \n                    <td></td>\n                    \n                \n                </tr>\n            \n            </tbody>\n        </table>\n    </div>\n</div>\n\n\n<div class=\"table-wrapper\" style=\"margin: 10px 10px; padding: 6px 10px; border: solid 1px #f5f5f5;\">\n    <div class=\"table-scroll\">\n        <h2>Plates</h2>\n        <table>\n            <thead>\n                <tr>\n                \n                    <th>Well ID</th>\n                \n                    <th>Row</th>\n                \n                    <th>Column</th>\n                \n                    <th>Plate</th>\n                \n                    <th>Order</th>\n                \n                    <th>Plate ID</th>\n                \n                </tr>\n            </thead>\n            <tbody>\n                \n                <tr>\n                    \n                        \n                            <td>A1</td>\n                        \n                    \n                        \n                            <td>A</td>\n                        \n                    \n                        \n                            <td>1</td>\n                        \n                    \n                        \n                            <td>Plate-1</td>\n                        \n                    \n                        \n                            <td>1</td>\n                        \n                    \n                        \n                            <td></td>\n                        \n                    \n                </tr>\n                \n                <tr>\n                    \n                        \n                            <td>A2</td>\n                        \n                    \n                        \n                            <td>A</td>\n                        \n                    \n                        \n                            <td>2</td>\n                        \n                    \n                        \n                            <td>Plate-1</td>\n                        \n                    \n                        \n                            <td>1</td>\n                        \n                    \n                        \n                            <td></td>\n                        \n                    \n                </tr>\n                \n                <tr>\n                    \n                        \n                            <td>A3</td>\n                        \n                    \n                        \n                            <td>A</td>\n                        \n                    \n                        \n                            <td>3</td>\n                        \n                    \n                        \n                            <td>Plate-1</td>\n                        \n                    \n                        \n                            <td>1</td>\n                        \n                    \n                        \n                            <td></td>\n                        \n                    \n                </tr>\n                \n                <tr>\n                    \n                        \n                            <td>A4</td>\n                        \n                    \n                        \n                            <td>A</td>\n                        \n                    \n                        \n                            <td>4</td>\n                        \n                    \n                        \n                            <td>Plate-1</td>\n                        \n                    \n                        \n                            <td>1</td>\n                        \n                    \n                        \n                            <td></td>\n                        \n                    \n                </tr>\n                \n                <tr>\n                    \n                        \n                            <td>A5</td>\n                        \n                    \n                        \n                            <td>A</td>\n                        \n                    \n                        \n                            <td>5</td>\n                        \n                    \n                        \n                            <td>Plate-1</td>\n                        \n                    \n                        \n                            <td>1</td>\n                        \n                    \n                        \n                            <td></td>\n                        \n                    \n                </tr>\n                \n                <tr>\n                    \n                        \n                            <td>A6</td>\n                        \n                    \n                        \n                            <td>A</td>\n                        \n                    \n                        \n                            <td>6</td>\n                        \n                    \n                        \n                            <td>Plate-1</td>\n                        \n                    \n                        \n                            <td>1</td>\n                        \n                    \n                        \n                            <td></td>\n                        \n                    \n                </tr>\n                \n                <tr>\n                    \n                        \n                            <td>B1</td>\n                        \n                    \n                        \n                            <td>B</td>\n                        \n                    \n                        \n                            <td>1</td>\n                        \n                    \n                        \n                            <td>Plate-1</td>\n                        \n                    \n                        \n                            <td>1</td>\n                        \n                    \n                        \n                            <td></td>\n                        \n                    \n                </tr>\n                \n                <tr>\n                    \n                        \n                            <td>B2</td>\n                        \n                    \n                        \n                            <td>B</td>\n                        \n                    \n                        \n                            <td>2</td>\n                        \n                    \n                        \n                            <td>Plate-1</td>\n                        \n                    \n                        \n                            <td>1</td>\n                        \n                    \n                        \n                            <td></td>\n                        \n                    \n                </tr>\n                \n                <tr>\n                    \n                        \n                            <td>B3</td>\n                        \n                    \n                        \n                            <td>B</td>\n                        \n                    \n                        \n                            <td>3</td>\n                        \n                    \n                        \n                            <td>Plate-1</td>\n                        \n                    \n                        \n                            <td>1</td>\n                        \n                    \n                        \n                            <td></td>\n                        \n                    \n                </tr>\n                \n                <tr>\n                    \n                        \n                            <td>B4</td>\n                        \n                    \n                        \n                            <td>B</td>\n                        \n                    \n                        \n                            <td>4</td>\n                        \n                    \n                        \n                            <td>Plate-1</td>\n                        \n                    \n                        \n                            <td>1</td>\n                        \n                    \n                        \n                            <td></td>\n                        \n                    \n                </tr>\n                \n                <tr>\n                    \n                        \n                            <td>B5</td>\n                        \n                    \n                        \n                            <td>B</td>\n                        \n                    \n                        \n                            <td>5</td>\n                        \n                    \n                        \n                            <td>Plate-1</td>\n                        \n                    \n                        \n                            <td>1</td>\n                        \n                    \n                        \n                            <td></td>\n                        \n                    \n                </tr>\n                \n                <tr>\n                    \n                        \n                            <td>B6</td>\n                        \n                    \n                        \n                            <td>B</td>\n                        \n                    \n                        \n                            <td>6</td>\n                        \n                    \n                        \n                            <td>Plate-1</td>\n                        \n                    \n                        \n                            <td>1</td>\n                        \n                    \n                        \n                            <td></td>\n                        \n                    \n                </tr>\n                \n                <tr>\n                    \n                        \n                            <td>C1</td>\n                        \n                    \n                        \n                            <td>C</td>\n                        \n                    \n                        \n                            <td>1</td>\n                        \n                    \n                        \n                            <td>Plate-1</td>\n                        \n                    \n                        \n                            <td>1</td>\n                        \n                    \n                        \n                            <td></td>\n                        \n                    \n                </tr>\n                \n                <tr>\n                    \n                        \n                            <td>C2</td>\n                        \n                    \n                        \n                            <td>C</td>\n                        \n                    \n                        \n                            <td>2</td>\n                        \n                    \n                        \n                            <td>Plate-1</td>\n                        \n                    \n                        \n                            <td>1</td>\n                        \n                    \n                        \n                            <td></td>\n                        \n                    \n                </tr>\n                \n                <tr>\n                    \n                        \n                            <td>C3</td>\n                        \n                    \n                        \n                            <td>C</td>\n                        \n                    \n                        \n                            <td>3</td>\n                        \n                    \n                        \n                            <td>Plate-1</td>\n                        \n                    \n                        \n                            <td>1</td>\n                        \n                    \n                        \n                            <td></td>\n                        \n                    \n                </tr>\n                \n                <tr>\n                    \n                        \n                            <td>C4</td>\n                        \n                    \n                        \n                            <td>C</td>\n                        \n                    \n                        \n                            <td>4</td>\n                        \n                    \n                        \n                            <td>Plate-1</td>\n                        \n                    \n                        \n                            <td>1</td>\n                        \n                    \n                        \n                            <td></td>\n                        \n                    \n                </tr>\n                \n                <tr>\n                    \n                        \n                            <td>C5</td>\n                        \n                    \n                        \n                            <td>C</td>\n                        \n                    \n                        \n                            <td>5</td>\n                        \n                    \n                        \n                            <td>Plate-1</td>\n                        \n                    \n                        \n                            <td>1</td>\n                        \n                    \n                        \n                            <td></td>\n                        \n                    \n                </tr>\n                \n                <tr>\n                    \n                        \n                            <td>C6</td>\n                        \n                    \n                        \n                            <td>C</td>\n                        \n                    \n                        \n                            <td>6</td>\n                        \n                    \n                        \n                            <td>Plate-1</td>\n                        \n                    \n                        \n                            <td>1</td>\n                        \n                    \n                        \n                            <td></td>\n                        \n                    \n                </tr>\n                \n                <tr>\n                    \n                        \n                            <td>D1</td>\n                        \n                    \n                        \n                            <td>D</td>\n                        \n                    \n                        \n                            <td>1</td>\n                        \n                    \n                        \n                            <td>Plate-1</td>\n                        \n                    \n                        \n                            <td>1</td>\n                        \n                    \n                        \n                            <td></td>\n                        \n                    \n                </tr>\n                \n                <tr>\n                    \n                        \n                            <td>D2</td>\n                        \n                    \n                        \n                            <td>D</td>\n                        \n                    \n                        \n                            <td>2</td>\n                        \n                    \n                        \n                            <td>Plate-1</td>\n                        \n                    \n                        \n                            <td>1</td>\n                        \n                    \n                        \n                            <td></td>\n                        \n                    \n                </tr>\n                \n                <tr>\n                    \n                        \n                            <td>D3</td>\n                        \n                    \n                        \n                            <td>D</td>\n                        \n                    \n                        \n                            <td>3</td>\n                        \n                    \n                        \n                            <td>Plate-1</td>\n                        \n                    \n                        \n                            <td>1</td>\n                        \n                    \n                        \n                            <td></td>\n                        \n                    \n                </tr>\n                \n                <tr>\n                    \n                        \n                            <td>D4</td>\n                        \n                    \n                        \n                            <td>D</td>\n                        \n                    \n                        \n                            <td>4</td>\n                        \n                    \n                        \n                            <td>Plate-1</td>\n                        \n                    \n                        \n                            <td>1</td>\n                        \n                    \n                        \n                            <td></td>\n                        \n                    \n                </tr>\n                \n                <tr>\n                    \n                        \n                            <td>D5</td>\n                        \n                    \n                        \n                            <td>D</td>\n                        \n                    \n                        \n                            <td>5</td>\n                        \n                    \n                        \n                            <td>Plate-1</td>\n                        \n                    \n                        \n                            <td>1</td>\n                        \n                    \n                        \n                            <td></td>\n                        \n                    \n                </tr>\n                \n                <tr>\n                    \n                        \n                            <td>D6</td>\n                        \n                    \n                        \n                            <td>D</td>\n                        \n                    \n                        \n                            <td>6</td>\n                        \n                    \n                        \n                            <td>Plate-1</td>\n                        \n                    \n                        \n                            <td>1</td>\n                        \n                    \n                        \n                            <td></td>\n                        \n                    \n                </tr>\n                \n            </tbody>\n        </table>\n    </div>\n</div>\n\n\n<div style=\"margin: 10px 10px; padding: 6px 10px; border: solid 1px #f5f5f5;\">\n    <h2>example resource.json</h2>\n    \n    <a href=\"data:application/json;base64,\" download=\"example resource.json\">DOWNLOAD UPLOADED FILE FILE</a>\n    \n</div>\n\n<div style=\"margin: 10px 10px; padding: 6px 10px; border: solid 1px #f5f5f5;\">\n    <h2 style=\"color: red\">Text</h2>\n    <div>\n        <b>\n            <span style=\"color: red\"><p>IMPORTANT TEXT</p></span>\n        </b>\n    </div>\n</div>\n\n\n\n</body>\n</html>"
     },
     "metadata": {},
     "output_type": "display_data"
    }
   ],
   "source": [
    "from signals_notebook.entities import Text\n",
    "\n",
    "# changing template for text (example)\n",
    "# Text.set_template_name('your path/templates/new_text_template.html')  you can use absolute or relative path\n",
    "Text.set_template_name('./templates/new_text_template.html')\n",
    "\n",
    "experiment_html = experiment.get_html()\n",
    "display(HTML(data=experiment_html))"
   ],
   "metadata": {
    "collapsed": false,
    "pycharm": {
     "name": "#%%\n"
    }
   }
  },
  {
   "cell_type": "code",
   "execution_count": 7,
   "outputs": [
    {
     "name": "stdout",
     "output_type": "stream",
     "text": [
      "Requirement already satisfied: pdfkit in c:\\coding\\pesn-python-sdk\\venv\\lib\\site-packages (1.0.0)\n"
     ]
    },
    {
     "name": "stderr",
     "output_type": "stream",
     "text": [
      "WARNING: You are using pip version 21.3.1; however, version 22.2.2 is available.\n",
      "You should consider upgrading via the 'C:\\coding\\pesn-python-sdk\\venv\\Scripts\\python.exe -m pip install --upgrade pip' command.\n"
     ]
    }
   ],
   "source": [
    "!pip install pdfkit\n",
    "# sudo apt-get install wkhtmltopdf / or check documentation https://wkhtmltopdf.org/downloads.html\n",
    "# set wkhtmltopdf to your PATH (for windows)"
   ],
   "metadata": {
    "collapsed": false,
    "pycharm": {
     "name": "#%%\n"
    }
   }
  },
  {
   "cell_type": "code",
   "execution_count": 8,
   "outputs": [
    {
     "name": "stdout",
     "output_type": "stream",
     "text": [
      "Not presented in PATH\n",
      "No wkhtmltopdf executable found: \"YOUR PATH/wkhtmltopdf/bin/wkhtmltopdf.exe\"\n",
      "If this file exists please check that this process can read it or you can pass path to it manually in method call, check README. Otherwise please install wkhtmltopdf - https://github.com/JazzCore/python-pdfkit/wiki/Installing-wkhtmltopdf\n"
     ]
    }
   ],
   "source": [
    "import pdfkit\n",
    "\n",
    "# You can configure PDF file. Use different options for it. You can change Footers, Headers, Margin, Padding and etc.\n",
    "# https://pypi.org/project/pdfkit/\n",
    "options = {\n",
    "        'margin-top': '1.25in',\n",
    "        'margin-right': '0.75in',\n",
    "        'margin-bottom': '0.75in',\n",
    "        'margin-left': '0.75in',\n",
    "        'page-size': 'A4',\n",
    "        'header-spacing': 6,\n",
    "        'footer-spacing': 6,\n",
    "        'encoding': \"UTF-8\",\n",
    "        'header-center': 'YOUR HEADER',\n",
    "        'footer-center': 'YOUR FOOTER',\n",
    "        # 'header-html': You can use this options and create header/footer as html\n",
    "        # 'footer-html':\n",
    "        'custom-header' : [\n",
    "            ('Accept-Encoding', 'gzip')\n",
    "        ],\n",
    "        'no-outline':None,\n",
    "    }\n",
    "\n",
    "try:\n",
    "    config = pdfkit.configuration(wkhtmltopdf='YOUR PATH/wkhtmltopdf/bin/wkhtmltopdf.exe')  # <- change YOUR PATH\n",
    "    pdfkit.from_string(experiment_html, 'sample.pdf', configuration=config, options=options)\n",
    "except OSError as e:\n",
    "    print('Not presented in PATH')\n",
    "    print(e)"
   ],
   "metadata": {
    "collapsed": false,
    "pycharm": {
     "name": "#%%\n"
    }
   }
  },
  {
   "cell_type": "code",
   "execution_count": 9,
   "metadata": {
    "pycharm": {
     "name": "#%%\n"
    }
   },
   "outputs": [
    {
     "data": {
      "text/plain": "<generator object Container.get_children at 0x000001DE713145F0>"
     },
     "execution_count": 9,
     "metadata": {},
     "output_type": "execute_result"
    }
   ],
   "source": [
    "experiment.get_children()"
   ]
  },
  {
   "cell_type": "code",
   "execution_count": 10,
   "metadata": {
    "pycharm": {
     "name": "#%%\n"
    }
   },
   "outputs": [],
   "source": [
    "from signals_notebook.entities import Experiment\n",
    "\n",
    "notebook = EntityStore.get('journal:c54da414-87d0-448f-8987-b3f58d819f1e')\n",
    "experiment = Experiment.create(\n",
    "    name='Example experiment created by SDK example ',\n",
    "    description='Delete if you see this in UI',\n",
    "    notebook=notebook,\n",
    ")"
   ]
  },
  {
   "cell_type": "code",
   "execution_count": 11,
   "metadata": {
    "pycharm": {
     "name": "#%%\n"
    }
   },
   "outputs": [],
   "source": [
    "EntityStore.delete(experiment.eid)"
   ]
  }
 ],
 "metadata": {
  "kernelspec": {
   "display_name": "Python 3 (ipykernel)",
   "language": "python",
   "name": "python3"
  },
  "language_info": {
   "codemirror_mode": {
    "name": "ipython",
    "version": 3
   },
   "file_extension": ".py",
   "mimetype": "text/x-python",
   "name": "python",
   "nbconvert_exporter": "python",
   "pygments_lexer": "ipython3",
   "version": "3.9.7"
  }
 },
 "nbformat": 4,
 "nbformat_minor": 1
}
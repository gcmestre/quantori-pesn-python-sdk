{
 "cells": [
  {
   "cell_type": "code",
   "execution_count": 1,
   "outputs": [],
   "source": [
    "%load_ext dotenv\n",
    "%dotenv\n",
    "import os\n",
    "\n",
    "SN_API_HOST = os.getenv('SN_API_HOST')\n",
    "SN_API_KEY = os.getenv('SN_API_KEY')"
   ],
   "metadata": {
    "collapsed": false,
    "pycharm": {
     "name": "#%%\n"
    }
   }
  },
  {
   "cell_type": "code",
   "execution_count": 2,
   "outputs": [
    {
     "data": {
      "text/plain": "<signals_notebook.api.SignalsNotebookApi at 0x1e5fa90d3c0>"
     },
     "execution_count": 2,
     "metadata": {},
     "output_type": "execute_result"
    }
   ],
   "source": [
    "from signals_notebook.api import SignalsNotebookApi\n",
    "SignalsNotebookApi.init(SN_API_HOST, SN_API_KEY)"
   ],
   "metadata": {
    "collapsed": false,
    "pycharm": {
     "name": "#%%\n"
    }
   }
  },
  {
   "cell_type": "code",
   "execution_count": 3,
   "outputs": [],
   "source": [
    "from signals_notebook.entities.entity_store import EntityStore"
   ],
   "metadata": {
    "collapsed": false,
    "pycharm": {
     "name": "#%%\n"
    }
   }
  },
  {
   "cell_type": "code",
   "execution_count": 4,
   "outputs": [],
   "source": [
    "from signals_notebook.entities import Request\n",
    "\n",
    "notebook = EntityStore.get('journal:151542f5-dcc2-4dc7-bfc3-c5f0d204ea4c')\n",
    "request = Request.create(\n",
    "    name='Example request created by SDK',\n",
    "    description='Delete if you see this in UI',\n",
    "    notebook=notebook,\n",
    ")"
   ],
   "metadata": {
    "collapsed": false,
    "pycharm": {
     "name": "#%%\n"
    }
   }
  },
  {
   "cell_type": "code",
   "execution_count": 6,
   "outputs": [
    {
     "data": {
      "text/plain": "[TaskContainer(type=<EntityType.TASK_CONTAINER: 'taskContainer'>, eid='taskContainer:86f7efdb-aef0-45f7-b29c-0611b6aae6d3', digest='0', name='Task Container', description='', created_at=datetime.datetime(2022, 8, 8, 11, 31, 37, 551000, tzinfo=datetime.timezone.utc), edited_at=datetime.datetime(2022, 8, 8, 11, 31, 37, 551000, tzinfo=datetime.timezone.utc))]"
     },
     "execution_count": 6,
     "metadata": {},
     "output_type": "execute_result"
    }
   ],
   "source": [
    "children = list(request.get_children())\n",
    "children"
   ],
   "metadata": {
    "collapsed": false,
    "pycharm": {
     "name": "#%%\n"
    }
   }
  },
  {
   "cell_type": "code",
   "execution_count": 7,
   "outputs": [],
   "source": [
    "task_container = children[0]"
   ],
   "metadata": {
    "collapsed": false,
    "pycharm": {
     "name": "#%%\n"
    }
   }
  },
  {
   "cell_type": "code",
   "execution_count": 8,
   "outputs": [
    {
     "data": {
      "text/plain": "TaskContainer(type=<EntityType.TASK_CONTAINER: 'taskContainer'>, eid='taskContainer:86f7efdb-aef0-45f7-b29c-0611b6aae6d3', digest='0', name='Task Container', description='', created_at=datetime.datetime(2022, 8, 8, 11, 31, 37, 551000, tzinfo=datetime.timezone.utc), edited_at=datetime.datetime(2022, 8, 8, 11, 31, 37, 551000, tzinfo=datetime.timezone.utc))"
     },
     "execution_count": 8,
     "metadata": {},
     "output_type": "execute_result"
    }
   ],
   "source": [
    "task_container"
   ],
   "metadata": {
    "collapsed": false,
    "pycharm": {
     "name": "#%%\n"
    }
   }
  },
  {
   "cell_type": "code",
   "execution_count": 15,
   "outputs": [],
   "source": [
    "request2 = EntityStore.get('request:4ae37fac-9713-45c4-a0ac-be01b56660c3')"
   ],
   "metadata": {
    "collapsed": false,
    "pycharm": {
     "name": "#%%\n"
    }
   }
  },
  {
   "cell_type": "code",
   "execution_count": 16,
   "outputs": [],
   "source": [
    "request2_children = list(request.get_children())"
   ],
   "metadata": {
    "collapsed": false,
    "pycharm": {
     "name": "#%%\n"
    }
   }
  },
  {
   "cell_type": "code",
   "execution_count": 17,
   "outputs": [],
   "source": [
    "task_container2 = request2_children[0]"
   ],
   "metadata": {
    "collapsed": false,
    "pycharm": {
     "name": "#%%\n"
    }
   }
  },
  {
   "cell_type": "code",
   "execution_count": 18,
   "outputs": [
    {
     "data": {
      "text/plain": "TaskContainer(type=<EntityType.TASK_CONTAINER: 'taskContainer'>, eid='taskContainer:86f7efdb-aef0-45f7-b29c-0611b6aae6d3', digest='0', name='Task Container', description='', created_at=datetime.datetime(2022, 8, 8, 11, 31, 37, 551000, tzinfo=datetime.timezone.utc), edited_at=datetime.datetime(2022, 8, 8, 11, 31, 37, 551000, tzinfo=datetime.timezone.utc))"
     },
     "execution_count": 18,
     "metadata": {},
     "output_type": "execute_result"
    }
   ],
   "source": [
    "task_container"
   ],
   "metadata": {
    "collapsed": false,
    "pycharm": {
     "name": "#%%\n"
    }
   }
  },
  {
   "cell_type": "code",
   "execution_count": 20,
   "outputs": [
    {
     "data": {
      "text/plain": "File(name='Task+Container.txt', content=b'{\"cols\":[{\"key\":\"1\",\"title\":\"Task ID\",\"type\":\"link\",\"isEditableInRequest\":false,\"isEditableInExperiment\":false,\"isTaskIdField\":true},{\"key\":\"2\",\"title\":\"Task Type\",\"type\":\"text\",\"isEditableInRequest\":false,\"isEditableInExperiment\":false},{\"key\":\"3\",\"title\":\"Reference ID\",\"type\":\"link\",\"isEditableInRequest\":true,\"isEditableInExperiment\":false,\"isEntityUnderTest\":true},{\"key\":\"4\",\"title\":\"Requestor Comment\",\"type\":\"text\",\"isEditableInRequest\":true,\"isEditableInExperiment\":false},{\"key\":\"5\",\"title\":\"Analyst Comment\",\"type\":\"text\",\"isEditableInRequest\":false,\"isEditableInExperiment\":true},{\"key\":\"6\",\"title\":\"Required By\",\"type\":\"datetime\",\"isEditableInRequest\":true,\"isEditableInExperiment\":false},{\"key\":\"7\",\"title\":\"Analyst\",\"type\":\"user\",\"isEditableInRequest\":false,\"isEditableInExperiment\":false},{\"key\":\"8\",\"title\":\"Experiment Link\",\"type\":\"link\",\"isEditableInRequest\":false,\"isEditableInExperiment\":false,\"hideInExperiment\":true},{\"key\":\"9\",\"title\":\"Request Link\",\"type\":\"link\",\"isEditableInRequest\":false,\"isEditableInExperiment\":false,\"hideInRequest\":true},{\"key\":\"10\",\"title\":\"Status\",\"type\":\"attributeList\",\"attributeListEid\":\"attribute:14\",\"isEditableInRequest\":false,\"isEditableInExperiment\":false,\"isStatusField\":true},{\"key\":\"11\",\"title\":\"Attached Docs\",\"type\":\"childEntityCount\",\"isEditableInRequest\":false,\"isEditableInExperiment\":false},{\"key\":\"100\",\"title\":\"My Assigned To (SK)\",\"type\":\"list\",\"options\":[\"Sergey Kuznetsov\",\"Anatoliy Kind\",\"Darya Korkina\"],\"isEditableInRequest\":true,\"isEditableInExperiment\":true},{\"key\":\"12\",\"title\":\"Creator\",\"type\":\"user\",\"isEditableInRequest\":false,\"isEditableInExperiment\":false},{\"key\":\"13\",\"title\":\"Created Date\",\"type\":\"datetime\",\"hidden\":true,\"isEditableInRequest\":false,\"isEditableInExperiment\":false}],\"rows\":[{\"_id\":\"58a4cd6c-1b25-4f0c-8b82-a359a2a732bf\",\"sourceEid\":\"task:73bb7697-e3fd-4dc0-9653-ae3da440dbe1\",\"eid\":\"task:596625fb-cdeb-4ca2-8dae-c72eb97510c0\",\"1\":{\"auto\":\"Task-88\",\"value\":\"task:596625fb-cdeb-4ca2-8dae-c72eb97510c0\",\"type\":\"task\"},\"2\":{\"auto\":\"Task\",\"value\":\"Task\"},\"3\":{\"user\":\"\",\"values\":[]},\"4\":{},\"5\":{},\"6\":{},\"7\":{},\"8\":{},\"9\":{\"auto\":\"Request\",\"value\":\"request:4ae37fac-9713-45c4-a0ac-be01b56660c3\",\"type\":\"request\"},\"10\":{\"auto\":\"New\",\"value\":\"New\"},\"11\":{\"eid\":\"task:596625fb-cdeb-4ca2-8dae-c72eb97510c0\",\"auto\":\"0\",\"value\":\"0\"},\"100\":{},\"12\":{\"auto\":{\"userId\":\"136\",\"userName\":\"daniil.cherednichenko@quantori.com\",\"email\":\"daniil.cherednichenko@quantori.com\",\"firstName\":\"Daniil\",\"lastName\":\"Cherednichenko\",\"picture\":{}},\"value\":{\"userId\":\"136\",\"userName\":\"daniil.cherednichenko@quantori.com\",\"email\":\"daniil.cherednichenko@quantori.com\",\"firstName\":\"Daniil\",\"lastName\":\"Cherednichenko\",\"picture\":{}}},\"status\":\"new\",\"validStateTransitions\":[\"submit\",\"delete\"],\"requestTaskContainerEid\":\"taskContainer:6e1ef147-7595-4352-963a-1d8074494903\"},{\"_id\":\"278cb156-183d-4d3c-b1f0-2fdcac483b29\",\"sourceEid\":\"task:c3d74311-444e-4805-8406-55ae3c21318c\",\"eid\":\"task:301214df-212b-4956-8cc0-f18d58d7d572\",\"1\":{\"auto\":\"Task-89\",\"value\":\"task:301214df-212b-4956-8cc0-f18d58d7d572\",\"type\":\"task\"},\"2\":{\"auto\":\"Test\",\"value\":\"Test\"},\"3\":{\"user\":\"\",\"values\":[]},\"4\":{},\"5\":{},\"6\":{},\"7\":{},\"8\":{},\"9\":{\"auto\":\"Request\",\"value\":\"request:4ae37fac-9713-45c4-a0ac-be01b56660c3\",\"type\":\"request\"},\"10\":{\"auto\":\"New\",\"value\":\"New\"},\"11\":{\"eid\":\"task:301214df-212b-4956-8cc0-f18d58d7d572\",\"auto\":\"0\",\"value\":\"0\"},\"12\":{\"auto\":{\"userId\":\"136\",\"userName\":\"daniil.cherednichenko@quantori.com\",\"email\":\"daniil.cherednichenko@quantori.com\",\"firstName\":\"Daniil\",\"lastName\":\"Cherednichenko\",\"picture\":{}},\"value\":{\"userId\":\"136\",\"userName\":\"daniil.cherednichenko@quantori.com\",\"email\":\"daniil.cherednichenko@quantori.com\",\"firstName\":\"Daniil\",\"lastName\":\"Cherednichenko\",\"picture\":{}}},\"status\":\"new\",\"validStateTransitions\":[\"submit\",\"delete\"],\"requestTaskContainerEid\":\"taskContainer:6e1ef147-7595-4352-963a-1d8074494903\"},{\"_id\":\"8f5cde58-6c3f-4355-a590-729ad52dc92f\",\"sourceEid\":\"task:aad65584-f51d-4368-bc66-819c5d5b7f9f\",\"eid\":\"task:79c47cd7-905b-4714-bb46-441b4b95c89f\",\"1\":{\"auto\":\"Task-90\",\"value\":\"task:79c47cd7-905b-4714-bb46-441b4b95c89f\",\"type\":\"task\"},\"2\":{\"auto\":\"Investigation\",\"value\":\"Investigation\"},\"3\":{\"user\":\"\",\"values\":[]},\"4\":{},\"5\":{},\"6\":{},\"7\":{},\"8\":{},\"9\":{\"auto\":\"Request\",\"value\":\"request:4ae37fac-9713-45c4-a0ac-be01b56660c3\",\"type\":\"request\"},\"10\":{\"auto\":\"New\",\"value\":\"New\"},\"11\":{\"eid\":\"task:79c47cd7-905b-4714-bb46-441b4b95c89f\",\"auto\":\"0\",\"value\":\"0\"},\"12\":{\"auto\":{\"userId\":\"136\",\"userName\":\"daniil.cherednichenko@quantori.com\",\"email\":\"daniil.cherednichenko@quantori.com\",\"firstName\":\"Daniil\",\"lastName\":\"Cherednichenko\",\"picture\":{}},\"value\":{\"userId\":\"136\",\"userName\":\"daniil.cherednichenko@quantori.com\",\"email\":\"daniil.cherednichenko@quantori.com\",\"firstName\":\"Daniil\",\"lastName\":\"Cherednichenko\",\"picture\":{}}},\"status\":\"new\",\"validStateTransitions\":[\"submit\",\"delete\"],\"requestTaskContainerEid\":\"taskContainer:6e1ef147-7595-4352-963a-1d8074494903\"}]}', content_type='text/plain')"
     },
     "execution_count": 20,
     "metadata": {},
     "output_type": "execute_result"
    }
   ],
   "source": [
    "task_container2.get_content()"
   ],
   "metadata": {
    "collapsed": false,
    "pycharm": {
     "name": "#%%\n"
    }
   }
  },
  {
   "cell_type": "code",
   "execution_count": 21,
   "outputs": [
    {
     "name": "stdout",
     "output_type": "stream",
     "text": [
      "<Task eid=task:596625fb-cdeb-4ca2-8dae-c72eb97510c0>\n",
      "<Task eid=task:301214df-212b-4956-8cc0-f18d58d7d572>\n",
      "<Task eid=task:79c47cd7-905b-4714-bb46-441b4b95c89f>\n"
     ]
    }
   ],
   "source": [
    "for item in task_container2:\n",
    "    print(item)"
   ],
   "metadata": {
    "collapsed": false,
    "pycharm": {
     "name": "#%%\n"
    }
   }
  },
  {
   "cell_type": "code",
   "execution_count": 22,
   "outputs": [
    {
     "data": {
      "text/plain": "Task(type=<EntityType.TASK: 'task'>, eid='task:596625fb-cdeb-4ca2-8dae-c72eb97510c0', digest='27623821', name='Task-88', description='', created_at=datetime.datetime(2022, 8, 8, 9, 25, 57, 97000, tzinfo=datetime.timezone.utc), edited_at=datetime.datetime(2022, 8, 8, 9, 25, 57, 97000, tzinfo=datetime.timezone.utc))"
     },
     "execution_count": 22,
     "metadata": {},
     "output_type": "execute_result"
    }
   ],
   "source": [
    "task_container2[0]"
   ],
   "metadata": {
    "collapsed": false,
    "pycharm": {
     "name": "#%%\n"
    }
   }
  },
  {
   "cell_type": "code",
   "execution_count": 24,
   "outputs": [
    {
     "data": {
      "text/plain": "TaskCell(id='12', name='Creator', content=TaskCellContent(value={'userId': '136', 'userName': 'daniil.cherednichenko@quantori.com', 'email': 'daniil.cherednichenko@quantori.com', 'firstName': 'Daniil', 'lastName': 'Cherednichenko', 'picture': {}}, name=None, eid=None, values=None))"
     },
     "execution_count": 24,
     "metadata": {},
     "output_type": "execute_result"
    }
   ],
   "source": [
    "task_container2[0][12]"
   ],
   "metadata": {
    "collapsed": false,
    "pycharm": {
     "name": "#%%\n"
    }
   }
  },
  {
   "cell_type": "code",
   "execution_count": null,
   "outputs": [],
   "source": [],
   "metadata": {
    "collapsed": false,
    "pycharm": {
     "name": "#%%\n"
    }
   }
  }
 ],
 "metadata": {
  "kernelspec": {
   "display_name": "Python 3",
   "language": "python",
   "name": "python3"
  },
  "language_info": {
   "codemirror_mode": {
    "name": "ipython",
    "version": 2
   },
   "file_extension": ".py",
   "mimetype": "text/x-python",
   "name": "python",
   "nbconvert_exporter": "python",
   "pygments_lexer": "ipython2",
   "version": "2.7.6"
  }
 },
 "nbformat": 4,
 "nbformat_minor": 0
}
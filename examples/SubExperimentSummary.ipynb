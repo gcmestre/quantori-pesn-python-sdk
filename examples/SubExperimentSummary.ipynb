{
 "cells": [
  {
   "cell_type": "code",
   "execution_count": 1,
   "outputs": [],
   "source": [
    "%load_ext dotenv\n",
    "%dotenv\n",
    "import os\n",
    "\n",
    "SN_API_HOST = os.getenv('SN_API_HOST')\n",
    "SN_API_KEY = os.getenv('SN_API_KEY')"
   ],
   "metadata": {
    "collapsed": false,
    "pycharm": {
     "name": "#%%\n"
    }
   }
  },
  {
   "cell_type": "code",
   "execution_count": 2,
   "outputs": [
    {
     "data": {
      "text/plain": "<signals_notebook.api.SignalsNotebookApi at 0x2b87226a490>"
     },
     "execution_count": 2,
     "metadata": {},
     "output_type": "execute_result"
    }
   ],
   "source": [
    "from signals_notebook.api import SignalsNotebookApi\n",
    "\n",
    "SignalsNotebookApi.init(SN_API_HOST, SN_API_KEY)"
   ],
   "metadata": {
    "collapsed": false,
    "pycharm": {
     "name": "#%%\n"
    }
   }
  },
  {
   "cell_type": "code",
   "execution_count": 8,
   "outputs": [
    {
     "data": {
      "text/plain": "SubExperimentSummary(type=<EntityType.SUB_EXPERIMENT_SUMMARY: 'paragrid'>, eid='paragrid:05ac787d-04aa-42dd-afd2-62c1eaca653d', digest='19047861', name='Reactants', description='', created_at=datetime.datetime(2021, 12, 3, 12, 0, 5, 746000, tzinfo=datetime.timezone.utc), edited_at=datetime.datetime(2021, 12, 5, 9, 3, 18, 481000, tzinfo=datetime.timezone.utc))"
     },
     "execution_count": 8,
     "metadata": {},
     "output_type": "execute_result"
    }
   ],
   "source": [
    "from signals_notebook.entities import EntityStore\n",
    "\n",
    "sub_experiment_summary = EntityStore.get('paragrid:634f5577-e435-4a10-b4a9-e20cb87d5715')\n",
    "\n",
    "sub_experiment_summary"
   ],
   "metadata": {
    "collapsed": false,
    "pycharm": {
     "name": "#%%\n"
    }
   }
  },
  {
   "cell_type": "code",
   "execution_count": 4,
   "outputs": [],
   "source": [
    "sub_experiment_summary[0]['p1:name'].set_value('test')\n",
    "sub_experiment_summary.save()\n",
    "\n",
    "assert sub_experiment_summary[0]['p1:name'].value=='test'"
   ],
   "metadata": {
    "collapsed": false,
    "pycharm": {
     "name": "#%%\n"
    }
   }
  },
  {
   "cell_type": "code",
   "execution_count": 5,
   "outputs": [
    {
     "name": "stdout",
     "output_type": "stream",
     "text": [
      "id='chemicalDrawing:b71bab5f-302b-4f2b-8abc-c3789311037e' cells=[SubExperimentSummaryCell(key='2', display='Sub-experiment-1', value='parasubexp:ea4b04cb-c262-4d4a-bd84-2321030c4af1'), SubExperimentSummaryCell(key='p1:productid', display=None, value='P1'), SubExperimentSummaryCell(key='p1:name', display=None, value='test'), SubExperimentSummaryCell(key='p1:mf', display='2.02 g/mol', value='2.02'), SubExperimentSummaryCell(key='p1:formula', display=None, value='H<sub>2</sub>'), SubExperimentSummaryCell(key='p1:mw', display='2.02 g/mol', value='2.02'), SubExperimentSummaryCell(key='p1:em', display='2.01565', value='2.01565'), SubExperimentSummaryCell(key='p2:productid', display=None, value='P2'), SubExperimentSummaryCell(key='p2:name', display=None, value='sodium hydroxide'), SubExperimentSummaryCell(key='p2:mf', display='40.00 g/mol', value='40.0'), SubExperimentSummaryCell(key='p2:formula', display=None, value='HNaO'), SubExperimentSummaryCell(key='p2:mw', display='40.00 g/mol', value='40.0'), SubExperimentSummaryCell(key='p2:em', display='39.99251', value='39.99251')]\n",
      "id='chemicalDrawing:ee8f5e33-aaea-44f0-b429-aef793807585' cells=[SubExperimentSummaryCell(key='2', display='Sub-experiment-2', value='parasubexp:50865f97-f858-4d33-bcf0-4f1455ad68a8')]\n",
      "id='chemicalDrawing:c505e999-ac1b-4fe8-a2be-71d3b69ac86c' cells=[SubExperimentSummaryCell(key='2', display='Sub-experiment-3', value='parasubexp:782d4af3-a17a-4bbc-b039-cfb7a6e6a215')]\n",
      "id='chemicalDrawing:885abfce-290c-4a45-8c32-1621b5e2f35b' cells=[SubExperimentSummaryCell(key='2', display='Sub-experiment-4', value='parasubexp:bdc4287c-eff0-4f8f-a6bf-a611d5599309')]\n",
      "id='chemicalDrawing:2d0b2d5f-2a14-42ad-bb24-106a19e48f72' cells=[SubExperimentSummaryCell(key='2', display='Sub-experiment-5', value='parasubexp:ae124ee6-7601-4785-b3e7-6adba789e06c')]\n",
      "id='chemicalDrawing:415a9d15-95d6-49a9-9a92-ee2f8fb21aeb' cells=[SubExperimentSummaryCell(key='2', display='Sub-experiment-6', value='parasubexp:c88fb21c-7cc5-4bdd-b189-19c03100d59b')]\n",
      "id='chemicalDrawing:d0773563-3b64-460f-b555-ba55eca7601b' cells=[SubExperimentSummaryCell(key='2', display='Sub-experiment-7', value='parasubexp:d386a052-f0be-4633-acac-635375cea1f6')]\n",
      "id='chemicalDrawing:875dacd4-3574-4d7d-b0db-35cdc19547ac' cells=[SubExperimentSummaryCell(key='2', display='Sub-experiment-8', value='parasubexp:7bb5b7de-8313-4b57-b3a0-6fa168e8e472')]\n",
      "id='chemicalDrawing:4305418e-c581-44bd-a420-adf0687c2e3e' cells=[SubExperimentSummaryCell(key='2', display='Sub-experiment-9', value='parasubexp:8da0e101-5f1d-43fa-ab9d-f83033b577e7')]\n"
     ]
    }
   ],
   "source": [
    "for item in sub_experiment_summary:\n",
    "    print(item)"
   ],
   "metadata": {
    "collapsed": false,
    "pycharm": {
     "name": "#%%\n"
    }
   }
  },
  {
   "cell_type": "code",
   "execution_count": 9,
   "outputs": [
    {
     "data": {
      "text/plain": "<IPython.core.display.HTML object>",
      "text/html": "\n<div class=\"table-wrapper\" style=\"margin: 10px 10px; padding: 6px 10px; border: solid 1px #f5f5f5;\">\n    <div class=\"table-scroll\">\n        <h2>Reactants</h2>\n        <table>\n            <thead>\n                <tr>\n                \n                    <th>2</th>\n                \n                    <th>r1:name</th>\n                \n                    <th>r1:mf</th>\n                \n                    <th>r1:formula</th>\n                \n                    <th>r1:mw</th>\n                \n                    <th>r2:name</th>\n                \n                    <th>r2:mf</th>\n                \n                    <th>r2:formula</th>\n                \n                    <th>r2:mw</th>\n                \n                </tr>\n            </thead>\n            <tbody>\n                \n                <tr>\n                    \n                        \n                            <td>parasubexp:8f89d653-a54d-48ee-958f-a23940b7aee8</td>\n                        \n                    \n                        \n                            <td>alanine</td>\n                        \n                    \n                        \n                            <td>89.09</td>\n                        \n                    \n                        \n                            <td>C<sub>3</sub>H<sub>7</sub>NO<sub>2</sub></td>\n                        \n                    \n                        \n                            <td>89.09</td>\n                        \n                    \n                        \n                            <td>boc2o</td>\n                        \n                    \n                        \n                            <td>218.25</td>\n                        \n                    \n                        \n                            <td>C<sub>10</sub>H<sub>18</sub>O<sub>5</sub></td>\n                        \n                    \n                        \n                            <td>218.25</td>\n                        \n                    \n                </tr>\n                \n                <tr>\n                    \n                        \n                            <td>parasubexp:17b094f3-2278-4934-b288-c267cc8f69f6</td>\n                        \n                    \n                        \n                            <td>phenylalanine</td>\n                        \n                    \n                        \n                            <td>165.19</td>\n                        \n                    \n                        \n                            <td>C<sub>9</sub>H<sub>11</sub>NO<sub>2</sub></td>\n                        \n                    \n                        \n                            <td>165.19</td>\n                        \n                    \n                        \n                            <td>boc2o</td>\n                        \n                    \n                        \n                            <td>218.25</td>\n                        \n                    \n                        \n                            <td>C<sub>10</sub>H<sub>18</sub>O<sub>5</sub></td>\n                        \n                    \n                        \n                            <td>218.25</td>\n                        \n                    \n                </tr>\n                \n                <tr>\n                    \n                        \n                            <td>parasubexp:d7a9a1d2-c8fd-4481-9daa-667b70f2f86c</td>\n                        \n                    \n                        \n                            <td>valine</td>\n                        \n                    \n                        \n                            <td>117.15</td>\n                        \n                    \n                        \n                            <td>C<sub>5</sub>H<sub>11</sub>NO<sub>2</sub></td>\n                        \n                    \n                        \n                            <td>117.15</td>\n                        \n                    \n                        \n                            <td>boc2o</td>\n                        \n                    \n                        \n                            <td>218.25</td>\n                        \n                    \n                        \n                            <td>C<sub>10</sub>H<sub>18</sub>O<sub>5</sub></td>\n                        \n                    \n                        \n                            <td>218.25</td>\n                        \n                    \n                </tr>\n                \n                <tr>\n                    \n                        \n                            <td>parasubexp:9043a1fe-42ac-4c1f-8aee-9d4c5276c3a6</td>\n                        \n                    \n                        \n                            <td>methionine</td>\n                        \n                    \n                        \n                            <td>149.21</td>\n                        \n                    \n                        \n                            <td>C<sub>5</sub>H<sub>11</sub>NO<sub>2</sub>S</td>\n                        \n                    \n                        \n                            <td>149.21</td>\n                        \n                    \n                        \n                            <td>boc2o</td>\n                        \n                    \n                        \n                            <td>218.25</td>\n                        \n                    \n                        \n                            <td>C<sub>10</sub>H<sub>18</sub>O<sub>5</sub></td>\n                        \n                    \n                        \n                            <td>218.25</td>\n                        \n                    \n                </tr>\n                \n                <tr>\n                    \n                        \n                            <td>parasubexp:68856011-d6e4-4afd-ae70-1ac1b09c285f</td>\n                        \n                    \n                        \n                            <td>leucine</td>\n                        \n                    \n                        \n                            <td>131.18</td>\n                        \n                    \n                        \n                            <td>C<sub>6</sub>H<sub>13</sub>NO<sub>2</sub></td>\n                        \n                    \n                        \n                            <td>131.18</td>\n                        \n                    \n                        \n                            <td>boc2o</td>\n                        \n                    \n                        \n                            <td>218.25</td>\n                        \n                    \n                        \n                            <td>C<sub>10</sub>H<sub>18</sub>O<sub>5</sub></td>\n                        \n                    \n                        \n                            <td>218.25</td>\n                        \n                    \n                </tr>\n                \n                <tr>\n                    \n                        \n                            <td>parasubexp:3c0fa569-30bd-4579-8060-cbf196954fb4</td>\n                        \n                    \n                        \n                            <td>2-amino-3-methylpentanoic acid</td>\n                        \n                    \n                        \n                            <td>131.18</td>\n                        \n                    \n                        \n                            <td>C<sub>6</sub>H<sub>13</sub>NO<sub>2</sub></td>\n                        \n                    \n                        \n                            <td>131.18</td>\n                        \n                    \n                        \n                            <td>boc2o</td>\n                        \n                    \n                        \n                            <td>218.25</td>\n                        \n                    \n                        \n                            <td>C<sub>10</sub>H<sub>18</sub>O<sub>5</sub></td>\n                        \n                    \n                        \n                            <td>218.25</td>\n                        \n                    \n                </tr>\n                \n                <tr>\n                    \n                        \n                            <td>parasubexp:254e3deb-c2f0-4cdb-b317-a40eaa43d771</td>\n                        \n                    \n                        \n                            <td>tryptophan</td>\n                        \n                    \n                        \n                            <td>204.23</td>\n                        \n                    \n                        \n                            <td>C<sub>11</sub>H<sub>12</sub>N<sub>2</sub>O<sub>2</sub></td>\n                        \n                    \n                        \n                            <td>204.23</td>\n                        \n                    \n                        \n                            <td>boc2o</td>\n                        \n                    \n                        \n                            <td>218.25</td>\n                        \n                    \n                        \n                            <td>C<sub>10</sub>H<sub>18</sub>O<sub>5</sub></td>\n                        \n                    \n                        \n                            <td>218.25</td>\n                        \n                    \n                </tr>\n                \n                <tr>\n                    \n                        \n                            <td>parasubexp:6880a364-a534-4e9c-8114-fc782bc95a78</td>\n                        \n                    \n                        \n                            <td>tyrosine</td>\n                        \n                    \n                        \n                            <td>181.19</td>\n                        \n                    \n                        \n                            <td>C<sub>9</sub>H<sub>11</sub>NO<sub>3</sub></td>\n                        \n                    \n                        \n                            <td>181.19</td>\n                        \n                    \n                        \n                            <td>boc2o</td>\n                        \n                    \n                        \n                            <td>218.25</td>\n                        \n                    \n                        \n                            <td>C<sub>10</sub>H<sub>18</sub>O<sub>5</sub></td>\n                        \n                    \n                        \n                            <td>218.25</td>\n                        \n                    \n                </tr>\n                \n                <tr>\n                    \n                        \n                            <td>parasubexp:dd87c78f-1975-41eb-b219-f09b16eb60b6</td>\n                        \n                    \n                        \n                            <td>serine</td>\n                        \n                    \n                        \n                            <td>105.09</td>\n                        \n                    \n                        \n                            <td>C<sub>3</sub>H<sub>7</sub>NO<sub>3</sub></td>\n                        \n                    \n                        \n                            <td>105.09</td>\n                        \n                    \n                        \n                            <td>boc2o</td>\n                        \n                    \n                        \n                            <td>218.25</td>\n                        \n                    \n                        \n                            <td>C<sub>10</sub>H<sub>18</sub>O<sub>5</sub></td>\n                        \n                    \n                        \n                            <td>218.25</td>\n                        \n                    \n                </tr>\n                \n                <tr>\n                    \n                        \n                            <td>parasubexp:06bfcea6-a9ec-4684-bfcb-f5f3e0e96346</td>\n                        \n                    \n                        \n                            <td>2-amino-3-hydroxybutanoic acid</td>\n                        \n                    \n                        \n                            <td>119.12</td>\n                        \n                    \n                        \n                            <td>C<sub>4</sub>H<sub>9</sub>NO<sub>3</sub></td>\n                        \n                    \n                        \n                            <td>119.12</td>\n                        \n                    \n                        \n                            <td>boc2o</td>\n                        \n                    \n                        \n                            <td>218.25</td>\n                        \n                    \n                        \n                            <td>C<sub>10</sub>H<sub>18</sub>O<sub>5</sub></td>\n                        \n                    \n                        \n                            <td>218.25</td>\n                        \n                    \n                </tr>\n                \n                <tr>\n                    \n                        \n                            <td>parasubexp:957ae9c0-399d-4119-96db-021f993e1507</td>\n                        \n                    \n                        \n                            <td>asparagine</td>\n                        \n                    \n                        \n                            <td>132.12</td>\n                        \n                    \n                        \n                            <td>C<sub>4</sub>H<sub>8</sub>N<sub>2</sub>O<sub>3</sub></td>\n                        \n                    \n                        \n                            <td>132.12</td>\n                        \n                    \n                        \n                            <td>boc2o</td>\n                        \n                    \n                        \n                            <td>218.25</td>\n                        \n                    \n                        \n                            <td>C<sub>10</sub>H<sub>18</sub>O<sub>5</sub></td>\n                        \n                    \n                        \n                            <td>218.25</td>\n                        \n                    \n                </tr>\n                \n                <tr>\n                    \n                        \n                            <td>parasubexp:b63878b4-26cc-412a-b0f9-c6946eb71cd8</td>\n                        \n                    \n                        \n                            <td>histidine</td>\n                        \n                    \n                        \n                            <td>155.16</td>\n                        \n                    \n                        \n                            <td>C<sub>6</sub>H<sub>9</sub>N<sub>3</sub>O<sub>2</sub></td>\n                        \n                    \n                        \n                            <td>155.16</td>\n                        \n                    \n                        \n                            <td>boc2o</td>\n                        \n                    \n                        \n                            <td>218.25</td>\n                        \n                    \n                        \n                            <td>C<sub>10</sub>H<sub>18</sub>O<sub>5</sub></td>\n                        \n                    \n                        \n                            <td>218.25</td>\n                        \n                    \n                </tr>\n                \n                <tr>\n                    \n                        \n                            <td>parasubexp:723ffd88-40fc-4a13-b190-58b3a6c99044</td>\n                        \n                    \n                        \n                            <td>cysteine</td>\n                        \n                    \n                        \n                            <td>121.15</td>\n                        \n                    \n                        \n                            <td>C<sub>3</sub>H<sub>7</sub>NO<sub>2</sub>S</td>\n                        \n                    \n                        \n                            <td>121.15</td>\n                        \n                    \n                        \n                            <td>boc2o</td>\n                        \n                    \n                        \n                            <td>218.25</td>\n                        \n                    \n                        \n                            <td>C<sub>10</sub>H<sub>18</sub>O<sub>5</sub></td>\n                        \n                    \n                        \n                            <td>218.25</td>\n                        \n                    \n                </tr>\n                \n            </tbody>\n        </table>\n    </div>\n</div>\n"
     },
     "metadata": {},
     "output_type": "display_data"
    }
   ],
   "source": [
    "import warnings # added to ignore deprecation warnings\n",
    "warnings.filterwarnings('ignore')\n",
    "\n",
    "from IPython.core.display import display, HTML\n",
    "\n",
    "experiment_html = sub_experiment_summary.get_html()\n",
    "display(HTML(data=experiment_html))  # pycharm cannot display html correctly. Use web version to see html response.\n"
   ],
   "metadata": {
    "collapsed": false,
    "pycharm": {
     "name": "#%%\n"
    }
   }
  }
 ],
 "metadata": {
  "kernelspec": {
   "display_name": "Python 3",
   "language": "python",
   "name": "python3"
  },
  "language_info": {
   "codemirror_mode": {
    "name": "ipython",
    "version": 2
   },
   "file_extension": ".py",
   "mimetype": "text/x-python",
   "name": "python",
   "nbconvert_exporter": "python",
   "pygments_lexer": "ipython2",
   "version": "2.7.6"
  }
 },
 "nbformat": 4,
 "nbformat_minor": 0
}
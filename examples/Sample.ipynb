{
 "cells": [
  {
   "cell_type": "code",
   "execution_count": 17,
   "outputs": [
    {
     "name": "stdout",
     "output_type": "stream",
     "text": [
      "The dotenv extension is already loaded. To reload it, use:\n",
      "  %reload_ext dotenv\n"
     ]
    }
   ],
   "source": [
    "%load_ext dotenv\n",
    "%dotenv\n",
    "import os\n",
    "\n",
    "SN_API_HOST = os.getenv('SN_API_HOST')\n",
    "SN_API_KEY = os.getenv('SN_API_KEY')"
   ],
   "metadata": {
    "collapsed": false,
    "pycharm": {
     "name": "#%%\n"
    }
   }
  },
  {
   "cell_type": "code",
   "execution_count": 18,
   "outputs": [
    {
     "data": {
      "text/plain": "<signals_notebook.api.SignalsNotebookApi at 0x17a6413f730>"
     },
     "execution_count": 18,
     "metadata": {},
     "output_type": "execute_result"
    }
   ],
   "source": [
    "from signals_notebook.api import SignalsNotebookApi\n",
    "SignalsNotebookApi.init(SN_API_HOST, SN_API_KEY)"
   ],
   "metadata": {
    "collapsed": false,
    "pycharm": {
     "name": "#%%\n"
    }
   }
  },
  {
   "cell_type": "code",
   "execution_count": 19,
   "outputs": [],
   "source": [
    "from signals_notebook.entities.entity_store import EntityStore"
   ],
   "metadata": {
    "collapsed": false,
    "pycharm": {
     "name": "#%%\n"
    }
   }
  },
  {
   "cell_type": "code",
   "execution_count": 20,
   "outputs": [
    {
     "name": "stdout",
     "output_type": "stream",
     "text": [
      "{'data': {'type': <EntityType.EXPERIMENT: 'experiment'>, 'attributes': {'name': 'Sample SDK'}}}\n"
     ]
    }
   ],
   "source": [
    "from signals_notebook.entities import Sample, Experiment\n",
    "\n",
    "experiment = Experiment.create(name='Sample SDK')"
   ],
   "metadata": {
    "collapsed": false,
    "pycharm": {
     "name": "#%%\n"
    }
   }
  },
  {
   "cell_type": "code",
   "execution_count": 21,
   "outputs": [
    {
     "name": "stdout",
     "output_type": "stream",
     "text": [
      "{'data': {'type': <EntityType.SAMPLE: 'sample'>, 'attributes': {}, 'relationships': {'template': {'data': {'type': <EntityType.SAMPLE: 'sample'>, 'id': 'sample:fcaa5e11-ace8-4d2c-a212-293dad3c2122'}}, 'ancestors': {'data': [{'type': <EntityType.EXPERIMENT: 'experiment'>, 'id': 'experiment:2a7bd32d-c1da-4bbc-abe7-29feb4adf2cf'}]}}}}\n"
     ]
    }
   ],
   "source": [
    "template_sample = EntityStore.get('sample:fcaa5e11-ace8-4d2c-a212-293dad3c2122')\n",
    "new_sample = Sample.create(\n",
    "    template=template_sample,\n",
    "    ancestors=[experiment],\n",
    ")"
   ],
   "metadata": {
    "collapsed": false,
    "pycharm": {
     "name": "#%%\n"
    }
   }
  },
  {
   "cell_type": "code",
   "execution_count": 22,
   "outputs": [
    {
     "data": {
      "text/plain": "Sample(type=<EntityType.SAMPLE: 'sample'>, eid='sample:b869772f-240c-4fea-a7e5-b74c6b9d2347', digest='73687306', name='Sample-1835', description='', created_at=datetime.datetime(2022, 8, 19, 10, 17, 34, 910000, tzinfo=datetime.timezone.utc), edited_at=datetime.datetime(2022, 8, 19, 10, 17, 34, 910000, tzinfo=datetime.timezone.utc))"
     },
     "execution_count": 22,
     "metadata": {},
     "output_type": "execute_result"
    }
   ],
   "source": [
    "new_sample"
   ],
   "metadata": {
    "collapsed": false,
    "pycharm": {
     "name": "#%%\n"
    }
   }
  },
  {
   "cell_type": "code",
   "execution_count": 23,
   "outputs": [],
   "source": [
    "for item in new_sample:\n",
    "    if item.id == '2':\n",
    "        item.content.set_value('5545')"
   ],
   "metadata": {
    "collapsed": false,
    "pycharm": {
     "name": "#%%\n"
    }
   }
  },
  {
   "cell_type": "code",
   "execution_count": 24,
   "outputs": [
    {
     "name": "stdout",
     "output_type": "stream",
     "text": [
      "id='b718adec-73e0-3ce3-ac72-0dd11a06a308' name='ID' content=SampleCellContent(value='Sample-1835', name=None, eid=None, values=None)\n",
      "id='278c491b-dd8a-3361-8c14-9c4ac790da34' name='Template' content=SampleCellContent(value='Sample', name=None, eid=None, values=None)\n",
      "id='digests.self' name=None content=SampleCellContent(value=None, name=None, eid=None, values=None)\n",
      "id='digests.external' name=None content=SampleCellContent(value=None, name=None, eid=None, values=None)\n",
      "id='1' name='Created Date' content=SampleCellContent(value='2022-08-19T10:17:35.117442250Z', name=None, eid=None, values=None)\n",
      "id='2' name='Description' content=SampleCellContent(value='5545', name=None, eid=None, values=None)\n",
      "id='3' name='Comments' content=SampleCellContent(value=None, name=None, eid=None, values=None)\n",
      "id='4' name='Amount' content=SampleCellContent(value=None, name=None, eid=None, values=None)\n",
      "id='10' name='Attached Docs' content=SampleCellContent(value='0', name=None, eid='sample:b869772f-240c-4fea-a7e5-b74c6b9d2347', values=None)\n",
      "id='sampleId' name='ID' content=SampleCellContent(value='sample:b869772f-240c-4fea-a7e5-b74c6b9d2347', name=None, eid=None, values=None)\n",
      "id='sourceName' name='Template' content=SampleCellContent(value='Sample', name=None, eid=None, values=None)\n"
     ]
    }
   ],
   "source": [
    "for item in new_sample:\n",
    "    print(item)"
   ],
   "metadata": {
    "collapsed": false,
    "pycharm": {
     "name": "#%%\n"
    }
   }
  },
  {
   "cell_type": "code",
   "execution_count": 25,
   "outputs": [],
   "source": [
    "new_sample.save()"
   ],
   "metadata": {
    "collapsed": false,
    "pycharm": {
     "name": "#%%\n"
    }
   }
  },
  {
   "cell_type": "code",
   "execution_count": 26,
   "outputs": [],
   "source": [
    "new_sample.delete()"
   ],
   "metadata": {
    "collapsed": false,
    "pycharm": {
     "name": "#%%\n"
    }
   }
  },
  {
   "cell_type": "code",
   "execution_count": 27,
   "outputs": [],
   "source": [
    "experiment.delete()"
   ],
   "metadata": {
    "collapsed": false,
    "pycharm": {
     "name": "#%%\n"
    }
   }
  },
  {
   "cell_type": "code",
   "execution_count": 27,
   "outputs": [],
   "source": [],
   "metadata": {
    "collapsed": false,
    "pycharm": {
     "name": "#%%\n"
    }
   }
  }
 ],
 "metadata": {
  "kernelspec": {
   "display_name": "Python 3",
   "language": "python",
   "name": "python3"
  },
  "language_info": {
   "codemirror_mode": {
    "name": "ipython",
    "version": 2
   },
   "file_extension": ".py",
   "mimetype": "text/x-python",
   "name": "python",
   "nbconvert_exporter": "python",
   "pygments_lexer": "ipython2",
   "version": "2.7.6"
  }
 },
 "nbformat": 4,
 "nbformat_minor": 0
}
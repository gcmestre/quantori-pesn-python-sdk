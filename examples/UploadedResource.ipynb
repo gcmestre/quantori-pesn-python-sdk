{
 "cells": [
  {
   "cell_type": "code",
   "execution_count": 1,
   "outputs": [],
   "source": [
    "%load_ext dotenv\n",
    "%dotenv\n",
    "import os\n",
    "\n",
    "SN_API_HOST = os.getenv('SN_API_HOST')\n",
    "SN_API_KEY = os.getenv('SN_API_KEY')"
   ],
   "metadata": {
    "collapsed": false,
    "pycharm": {
     "name": "#%%\n"
    }
   }
  },
  {
   "cell_type": "code",
   "execution_count": 2,
   "outputs": [
    {
     "data": {
      "text/plain": "<signals_notebook.api.SignalsNotebookApi at 0x1ed65ef62e0>"
     },
     "execution_count": 2,
     "metadata": {},
     "output_type": "execute_result"
    }
   ],
   "source": [
    "from signals_notebook.api import SignalsNotebookApi\n",
    "\n",
    "SignalsNotebookApi.init(SN_API_HOST, SN_API_KEY)"
   ],
   "metadata": {
    "collapsed": false,
    "pycharm": {
     "name": "#%%\n"
    }
   }
  },
  {
   "cell_type": "code",
   "execution_count": 3,
   "outputs": [],
   "source": [
    "from signals_notebook.entities import EntityStore\n",
    "\n",
    "experiment = EntityStore.get('experiment:1cf65229-dea3-4bdb-b6c5-daf8565e39a0')"
   ],
   "metadata": {
    "collapsed": false,
    "pycharm": {
     "name": "#%%\n"
    }
   }
  },
  {
   "cell_type": "code",
   "execution_count": 4,
   "outputs": [],
   "source": [
    "from signals_notebook.entities import UploadedResource\n",
    "\n",
    "uploaded_resource = UploadedResource.create(container=experiment, name='UploadedResource.zip', content='UploadedResource Content!!!!')"
   ],
   "metadata": {
    "collapsed": false,
    "pycharm": {
     "name": "#%%\n"
    }
   }
  },
  {
   "cell_type": "code",
   "execution_count": 5,
   "outputs": [
    {
     "data": {
      "text/plain": "File(name='UploadedResource.zip', content=b'UploadedResource Content!!!!', content_type='application/x-zip-compressed')"
     },
     "execution_count": 5,
     "metadata": {},
     "output_type": "execute_result"
    }
   ],
   "source": [
    "uploaded_resource.get_content()"
   ],
   "metadata": {
    "collapsed": false,
    "pycharm": {
     "name": "#%%\n"
    }
   }
  },
  {
   "cell_type": "code",
   "execution_count": 6,
   "outputs": [
    {
     "data": {
      "text/plain": "UploadedResource(type=<EntityType.UPLOADED_RESOURCE: 'uploadedResource'>, eid='uploadedResource:e371dd59-b715-4f2c-bf34-13819c1d9d66', digest='38763801', name='UploadedResource.zip', description='', created_at=datetime.datetime(2022, 7, 12, 9, 14, 4, 560000, tzinfo=datetime.timezone.utc), edited_at=datetime.datetime(2022, 7, 12, 9, 14, 4, 560000, tzinfo=datetime.timezone.utc))"
     },
     "execution_count": 6,
     "metadata": {},
     "output_type": "execute_result"
    }
   ],
   "source": [
    "uploaded_resource"
   ],
   "metadata": {
    "collapsed": false,
    "pycharm": {
     "name": "#%%\n"
    }
   }
  },
  {
   "cell_type": "code",
   "execution_count": 7,
   "outputs": [
    {
     "data": {
      "text/plain": "UploadedResource(type=<EntityType.UPLOADED_RESOURCE: 'uploadedResource'>, eid='uploadedResource:48ec6e2a-3a7b-4fd8-a278-2ddf09b0b7e8', digest='51883370', name='download (1).zip', description='', created_at=datetime.datetime(2022, 7, 11, 11, 16, 44, 32000, tzinfo=datetime.timezone.utc), edited_at=datetime.datetime(2022, 7, 11, 11, 16, 44, 32000, tzinfo=datetime.timezone.utc))"
     },
     "execution_count": 7,
     "metadata": {},
     "output_type": "execute_result"
    }
   ],
   "source": [
    "another_uploaded_resource = EntityStore.get('uploadedResource:48ec6e2a-3a7b-4fd8-a278-2ddf09b0b7e8')\n",
    "another_uploaded_resource"
   ],
   "metadata": {
    "collapsed": false,
    "pycharm": {
     "name": "#%%\n"
    }
   }
  },
  {
   "cell_type": "code",
   "execution_count": 8,
   "outputs": [],
   "source": [
    "file_ur = another_uploaded_resource.get_content()"
   ],
   "metadata": {
    "collapsed": false,
    "pycharm": {
     "name": "#%%\n"
    }
   }
  },
  {
   "cell_type": "code",
   "execution_count": 9,
   "outputs": [
    {
     "name": "stdout",
     "output_type": "stream",
     "text": [
      "download+%281%29.zip\n",
      "application/x-zip-compressed\n"
     ]
    }
   ],
   "source": [
    "print(file_ur.name)\n",
    "print(file_ur.content_type)"
   ],
   "metadata": {
    "collapsed": false,
    "pycharm": {
     "name": "#%%\n"
    }
   }
  },
  {
   "cell_type": "code",
   "execution_count": 10,
   "outputs": [
    {
     "data": {
      "text/plain": "[UploadedResource(type=<EntityType.UPLOADED_RESOURCE: 'uploadedResource'>, eid='uploadedResource:b2e61e0a-9027-4b49-93f8-4b39e698d7c3', digest='91820847', name='download (1).zip', description='', created_at=datetime.datetime(2022, 7, 11, 12, 45, 12, 760000, tzinfo=datetime.timezone.utc), edited_at=datetime.datetime(2022, 7, 11, 12, 45, 12, 760000, tzinfo=datetime.timezone.utc)),\n Image(type=<EntityType.IMAGE_RESOURCE: 'imageResource'>, eid='imageResource:05f3daae-b05a-4118-a96a-be6ee26a4a3f', digest='94396040', name='download (1).jpg', description='', created_at=datetime.datetime(2022, 7, 11, 12, 49, 16, 794000, tzinfo=datetime.timezone.utc), edited_at=datetime.datetime(2022, 7, 11, 12, 49, 18, 955000, tzinfo=datetime.timezone.utc)),\n Entity(type='materialsTable', eid='materialsTable:e2f6e4a2-8069-4356-a398-18cd05a46bb8', digest='16561316', name='Materials Table', description='', created_at=datetime.datetime(2022, 7, 12, 8, 15, 42, 611000, tzinfo=datetime.timezone.utc), edited_at=datetime.datetime(2022, 7, 12, 8, 16, 21, 866000, tzinfo=datetime.timezone.utc)),\n UploadedResource(type=<EntityType.UPLOADED_RESOURCE: 'uploadedResource'>, eid='uploadedResource:e371dd59-b715-4f2c-bf34-13819c1d9d66', digest='89427805', name='UploadedResource.zip', description='', created_at=datetime.datetime(2022, 7, 12, 9, 14, 4, 560000, tzinfo=datetime.timezone.utc), edited_at=datetime.datetime(2022, 7, 12, 9, 14, 13, 810000, tzinfo=datetime.timezone.utc))]"
     },
     "execution_count": 10,
     "metadata": {},
     "output_type": "execute_result"
    }
   ],
   "source": [
    "list(experiment.get_children())"
   ],
   "metadata": {
    "collapsed": false,
    "pycharm": {
     "name": "#%%\n"
    }
   }
  },
  {
   "cell_type": "code",
   "execution_count": 11,
   "outputs": [],
   "source": [
    "uploaded_resource.delete()"
   ],
   "metadata": {
    "collapsed": false,
    "pycharm": {
     "name": "#%%\n"
    }
   }
  },
  {
   "cell_type": "code",
   "execution_count": null,
   "outputs": [],
   "source": [],
   "metadata": {
    "collapsed": false,
    "pycharm": {
     "name": "#%%\n"
    }
   }
  }
 ],
 "metadata": {
  "kernelspec": {
   "display_name": "Python 3",
   "language": "python",
   "name": "python3"
  },
  "language_info": {
   "codemirror_mode": {
    "name": "ipython",
    "version": 2
   },
   "file_extension": ".py",
   "mimetype": "text/x-python",
   "name": "python",
   "nbconvert_exporter": "python",
   "pygments_lexer": "ipython2",
   "version": "2.7.6"
  }
 },
 "nbformat": 4,
 "nbformat_minor": 0
}
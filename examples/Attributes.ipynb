{
 "cells": [
  {
   "cell_type": "code",
   "execution_count": 1,
   "outputs": [],
   "source": [
    "%load_ext dotenv\n",
    "%dotenv\n",
    "import os\n",
    "\n",
    "SN_API_HOST = os.getenv('SN_API_HOST')\n",
    "SN_API_KEY = os.getenv('SN_API_KEY')"
   ],
   "metadata": {
    "collapsed": false,
    "pycharm": {
     "name": "#%%\n"
    }
   }
  },
  {
   "cell_type": "code",
   "execution_count": 2,
   "metadata": {
    "collapsed": true,
    "pycharm": {
     "name": "#%%\n"
    }
   },
   "outputs": [
    {
     "data": {
      "text/plain": "<signals_notebook.api.SignalsNotebookApi at 0x223854c5210>"
     },
     "execution_count": 2,
     "metadata": {},
     "output_type": "execute_result"
    }
   ],
   "source": [
    "from signals_notebook.api import SignalsNotebookApi\n",
    "SignalsNotebookApi.init(SN_API_HOST, SN_API_KEY)"
   ]
  },
  {
   "cell_type": "code",
   "execution_count": 3,
   "outputs": [],
   "source": [
    "from signals_notebook.attributes.attribute import Attribute"
   ],
   "metadata": {
    "collapsed": false,
    "pycharm": {
     "name": "#%%\n"
    }
   }
  },
  {
   "cell_type": "code",
   "execution_count": 4,
   "outputs": [
    {
     "data": {
      "text/plain": "Attribute(type=<ObjectType.ATTRIBUTE: 'attribute'>, id='attribute:2', name='Date')"
     },
     "execution_count": 4,
     "metadata": {},
     "output_type": "execute_result"
    }
   ],
   "source": [
    "attribute = Attribute.get('attribute:2')\n",
    "attribute"
   ],
   "metadata": {
    "collapsed": false,
    "pycharm": {
     "name": "#%%\n"
    }
   }
  },
  {
   "cell_type": "code",
   "execution_count": 5,
   "outputs": [
    {
     "data": {
      "text/plain": "['CURRENT_DATE']"
     },
     "execution_count": 5,
     "metadata": {},
     "output_type": "execute_result"
    }
   ],
   "source": [
    "attribute.options"
   ],
   "metadata": {
    "collapsed": false,
    "pycharm": {
     "name": "#%%\n"
    }
   }
  },
  {
   "cell_type": "code",
   "execution_count": 18,
   "outputs": [
    {
     "ename": "PermissionError",
     "evalue": "Cannot add option to system attribute",
     "output_type": "error",
     "traceback": [
      "\u001B[1;31m---------------------------------------------------------------------------\u001B[0m",
      "\u001B[1;31mPermissionError\u001B[0m                           Traceback (most recent call last)",
      "Input \u001B[1;32mIn [18]\u001B[0m, in \u001B[0;36m<cell line: 2>\u001B[1;34m()\u001B[0m\n\u001B[0;32m      1\u001B[0m \u001B[38;5;66;03m# cannot do CRUD operations with system attribute\u001B[39;00m\n\u001B[1;32m----> 2\u001B[0m \u001B[43mattribute\u001B[49m\u001B[38;5;241;43m.\u001B[39;49m\u001B[43madd_option\u001B[49m\u001B[43m(\u001B[49m\u001B[38;5;124;43m'\u001B[39;49m\u001B[38;5;124;43mWARNING\u001B[39;49m\u001B[38;5;124;43m'\u001B[39;49m\u001B[43m)\u001B[49m\n",
      "File \u001B[1;32mC:\\coding\\pesn-python-sdk\\src\\signals_notebook\\attributes\\attribute.py:186\u001B[0m, in \u001B[0;36mAttribute.add_option\u001B[1;34m(self, option)\u001B[0m\n\u001B[0;32m    177\u001B[0m \u001B[38;5;124;03m\"\"\"Update option of Attribute by id.\u001B[39;00m\n\u001B[0;32m    178\u001B[0m \n\u001B[0;32m    179\u001B[0m \u001B[38;5;124;03mArgs:\u001B[39;00m\n\u001B[1;32m   (...)\u001B[0m\n\u001B[0;32m    183\u001B[0m \n\u001B[0;32m    184\u001B[0m \u001B[38;5;124;03m\"\"\"\u001B[39;00m\n\u001B[0;32m    185\u001B[0m \u001B[38;5;28;01mif\u001B[39;00m \u001B[38;5;129;01mnot\u001B[39;00m \u001B[38;5;28mself\u001B[39m\u001B[38;5;241m.\u001B[39m_is_changeable:\n\u001B[1;32m--> 186\u001B[0m     \u001B[38;5;28;01mraise\u001B[39;00m \u001B[38;5;167;01mPermissionError\u001B[39;00m(\u001B[38;5;124m'\u001B[39m\u001B[38;5;124mCannot add option to system attribute\u001B[39m\u001B[38;5;124m'\u001B[39m)\n\u001B[0;32m    187\u001B[0m new_option \u001B[38;5;241m=\u001B[39m _OptionRepresentation(attributes\u001B[38;5;241m=\u001B[39m_Attributes(action\u001B[38;5;241m=\u001B[39mAction\u001B[38;5;241m.\u001B[39mCREATE, value\u001B[38;5;241m=\u001B[39moption))\n\u001B[0;32m    188\u001B[0m log\u001B[38;5;241m.\u001B[39mdebug(\u001B[38;5;124m'\u001B[39m\u001B[38;5;124mCreating Option: \u001B[39m\u001B[38;5;132;01m%s\u001B[39;00m\u001B[38;5;124m...\u001B[39m\u001B[38;5;124m'\u001B[39m, \u001B[38;5;28mself\u001B[39m\u001B[38;5;241m.\u001B[39mid)\n",
      "\u001B[1;31mPermissionError\u001B[0m: Cannot add option to system attribute"
     ]
    }
   ],
   "source": [
    "# cannot do CRUD operations with system attribute\n",
    "attribute.add_option('WARNING')"
   ],
   "metadata": {
    "collapsed": false,
    "pycharm": {
     "name": "#%%\n"
    }
   }
  },
  {
   "cell_type": "code",
   "execution_count": 7,
   "outputs": [
    {
     "data": {
      "text/plain": "[Attribute(type=<ObjectType.ATTRIBUTE: 'attribute'>, id='attribute:8', name='GHS Signal Words'),\n Attribute(type=<ObjectType.ATTRIBUTE: 'attribute'>, id='attribute:10', name='Hazard Statements'),\n Attribute(type=<ObjectType.ATTRIBUTE: 'attribute'>, id='attribute:11', name='GHS Hazards'),\n Attribute(type=<ObjectType.ATTRIBUTE: 'attribute'>, id='attribute:14', name='Task Status'),\n Attribute(type=<ObjectType.ATTRIBUTE: 'attribute'>, id='attribute:9', name='Precautionary Statements'),\n Attribute(type=<ObjectType.ATTRIBUTE: 'attribute'>, id='attribute:4', name='Material Library Type'),\n Attribute(type=<ObjectType.ATTRIBUTE: 'attribute'>, id='attribute:24', name='HPLC Sample Type'),\n Attribute(type=<ObjectType.ATTRIBUTE: 'attribute'>, id='attribute:26', name='newAttribute'),\n Attribute(type=<ObjectType.ATTRIBUTE: 'attribute'>, id='attribute:20', name='My List Attribute 1 (SK)'),\n Attribute(type=<ObjectType.ATTRIBUTE: 'attribute'>, id='attribute:28', name='test'),\n Attribute(type=<ObjectType.ATTRIBUTE: 'attribute'>, id='attribute:17', name='Inventory Container Library'),\n Attribute(type=<ObjectType.ATTRIBUTE: 'attribute'>, id='attribute:16', name='Inventory Location Library'),\n Attribute(type=<ObjectType.ATTRIBUTE: 'attribute'>, id='attribute:32', name='test1'),\n Attribute(type=<ObjectType.ATTRIBUTE: 'attribute'>, id='attribute:21', name='My Ext List Attribute 1 (SK)'),\n Attribute(type=<ObjectType.ATTRIBUTE: 'attribute'>, id='attribute:40', name='test2'),\n Attribute(type=<ObjectType.ATTRIBUTE: 'attribute'>, id='attribute:41', name='test3'),\n Attribute(type=<ObjectType.ATTRIBUTE: 'attribute'>, id='attribute:42', name='test37'),\n Attribute(type=<ObjectType.ATTRIBUTE: 'attribute'>, id='attribute:25', name='Primer. Forward or Reverse'),\n Attribute(type=<ObjectType.ATTRIBUTE: 'attribute'>, id='attribute:44', name='test327'),\n Attribute(type=<ObjectType.ATTRIBUTE: 'attribute'>, id='attribute:23', name='HPLC Method'),\n Attribute(type=<ObjectType.ATTRIBUTE: 'attribute'>, id='attribute:18', name='Inventory Security'),\n Attribute(type=<ObjectType.ATTRIBUTE: 'attribute'>, id='attribute:48', name='test32733'),\n Attribute(type=<ObjectType.ATTRIBUTE: 'attribute'>, id='attribute:19', name='My Number Sequence Attribute 1 (SK)'),\n Attribute(type=<ObjectType.ATTRIBUTE: 'attribute'>, id='attribute:5', name='Product Id'),\n Attribute(type=<ObjectType.ATTRIBUTE: 'attribute'>, id='attribute:6', name='Parallel Subexperiment Id'),\n Attribute(type=<ObjectType.ATTRIBUTE: 'attribute'>, id='attribute:12', name='Sample Id'),\n Attribute(type=<ObjectType.ATTRIBUTE: 'attribute'>, id='attribute:13', name='Task Id'),\n Attribute(type=<ObjectType.ATTRIBUTE: 'attribute'>, id='attribute:15', name='Order Id')]"
     },
     "execution_count": 7,
     "metadata": {},
     "output_type": "execute_result"
    }
   ],
   "source": [
    "attributes = Attribute.get_list()\n",
    "all_attributes = list(attributes)\n",
    "all_attributes"
   ],
   "metadata": {
    "collapsed": false,
    "pycharm": {
     "name": "#%%\n"
    }
   }
  },
  {
   "cell_type": "code",
   "execution_count": 10,
   "outputs": [],
   "source": [
    "# CREATION\n",
    "new_attribute = Attribute.create(name='test3273', description='descriptions', options=['option'])"
   ],
   "metadata": {
    "collapsed": false,
    "pycharm": {
     "name": "#%%\n"
    }
   }
  },
  {
   "cell_type": "code",
   "execution_count": 11,
   "outputs": [
    {
     "data": {
      "text/plain": "Attribute(type=<ObjectType.ATTRIBUTE: 'attribute'>, id='attribute:49', name='test3273')"
     },
     "execution_count": 11,
     "metadata": {},
     "output_type": "execute_result"
    }
   ],
   "source": [
    "new_attribute"
   ],
   "metadata": {
    "collapsed": false,
    "pycharm": {
     "name": "#%%\n"
    }
   }
  },
  {
   "cell_type": "code",
   "execution_count": 12,
   "outputs": [
    {
     "data": {
      "text/plain": "['option']"
     },
     "execution_count": 12,
     "metadata": {},
     "output_type": "execute_result"
    }
   ],
   "source": [
    "new_attribute.options"
   ],
   "metadata": {
    "collapsed": false,
    "pycharm": {
     "name": "#%%\n"
    }
   }
  },
  {
   "cell_type": "code",
   "execution_count": 14,
   "outputs": [
    {
     "data": {
      "text/plain": "['option', 'WARNING']"
     },
     "execution_count": 14,
     "metadata": {},
     "output_type": "execute_result"
    }
   ],
   "source": [
    "new_attribute.add_option('WARNING')\n",
    "new_attribute.options"
   ],
   "metadata": {
    "collapsed": false,
    "pycharm": {
     "name": "#%%\n"
    }
   }
  },
  {
   "cell_type": "code",
   "execution_count": 15,
   "outputs": [
    {
     "data": {
      "text/plain": "['option', 'IMPORTANT']"
     },
     "execution_count": 15,
     "metadata": {},
     "output_type": "execute_result"
    }
   ],
   "source": [
    "new_attribute.update_option('WARNING', 'IMPORTANT')\n",
    "new_attribute.options"
   ],
   "metadata": {
    "collapsed": false,
    "pycharm": {
     "name": "#%%\n"
    }
   }
  },
  {
   "cell_type": "code",
   "execution_count": 16,
   "outputs": [
    {
     "data": {
      "text/plain": "['option']"
     },
     "execution_count": 16,
     "metadata": {},
     "output_type": "execute_result"
    }
   ],
   "source": [
    "new_attribute.delete_option('IMPORTANT')\n",
    "new_attribute.options"
   ],
   "metadata": {
    "collapsed": false,
    "pycharm": {
     "name": "#%%\n"
    }
   }
  },
  {
   "cell_type": "code",
   "execution_count": 17,
   "outputs": [],
   "source": [
    "new_attribute.delete()"
   ],
   "metadata": {
    "collapsed": false,
    "pycharm": {
     "name": "#%%\n"
    }
   }
  },
  {
   "cell_type": "code",
   "execution_count": 19,
   "outputs": [
    {
     "data": {
      "text/plain": "Attribute(type=<ObjectType.ATTRIBUTE: 'attribute'>, id='attribute:8', name='GHS Signal Words')"
     },
     "execution_count": 19,
     "metadata": {},
     "output_type": "execute_result"
    }
   ],
   "source": [
    "all_attributes[0]"
   ],
   "metadata": {
    "collapsed": false,
    "pycharm": {
     "name": "#%%\n"
    }
   }
  },
  {
   "cell_type": "code",
   "execution_count": 25,
   "outputs": [
    {
     "ename": "SignalsNotebookError",
     "evalue": "<SignalsNotebookError status=403 code=Forbidden> title=Access forbidden. detail=Failed to update entity attribute:17 Forbidden:{\"error\":403,\"description\":\"com.perkinelmer.elements.commons.exceptions.AttributeNotEditableException: This attribute cannot be edited.\",\"causes\":[{\"description\":\"com.perkinelmer.elements.commons.exceptions.AttributeNotEditableException: This attribute cannot be edited.\"}]}>",
     "output_type": "error",
     "traceback": [
      "\u001B[1;31m---------------------------------------------------------------------------\u001B[0m",
      "\u001B[1;31mSignalsNotebookError\u001B[0m                      Traceback (most recent call last)",
      "Input \u001B[1;32mIn [25]\u001B[0m, in \u001B[0;36m<cell line: 1>\u001B[1;34m()\u001B[0m\n\u001B[1;32m----> 1\u001B[0m \u001B[43mall_attributes\u001B[49m\u001B[43m[\u001B[49m\u001B[38;5;241;43m10\u001B[39;49m\u001B[43m]\u001B[49m\u001B[38;5;241;43m.\u001B[39;49m\u001B[43madd_option\u001B[49m\u001B[43m(\u001B[49m\u001B[38;5;124;43m'\u001B[39;49m\u001B[38;5;124;43mnew\u001B[39;49m\u001B[38;5;124;43m'\u001B[39;49m\u001B[43m)\u001B[49m\n\u001B[0;32m      2\u001B[0m all_attributes[\u001B[38;5;241m10\u001B[39m]\u001B[38;5;241m.\u001B[39moptions\n",
      "File \u001B[1;32mC:\\coding\\pesn-python-sdk\\src\\signals_notebook\\attributes\\attribute.py:189\u001B[0m, in \u001B[0;36mAttribute.add_option\u001B[1;34m(self, option)\u001B[0m\n\u001B[0;32m    187\u001B[0m new_option \u001B[38;5;241m=\u001B[39m _OptionRepresentation(attributes\u001B[38;5;241m=\u001B[39m_Attributes(action\u001B[38;5;241m=\u001B[39mAction\u001B[38;5;241m.\u001B[39mCREATE, value\u001B[38;5;241m=\u001B[39moption))\n\u001B[0;32m    188\u001B[0m log\u001B[38;5;241m.\u001B[39mdebug(\u001B[38;5;124m'\u001B[39m\u001B[38;5;124mCreating Option: \u001B[39m\u001B[38;5;132;01m%s\u001B[39;00m\u001B[38;5;124m...\u001B[39m\u001B[38;5;124m'\u001B[39m, \u001B[38;5;28mself\u001B[39m\u001B[38;5;241m.\u001B[39mid)\n\u001B[1;32m--> 189\u001B[0m \u001B[38;5;28;43mself\u001B[39;49m\u001B[38;5;241;43m.\u001B[39;49m\u001B[43m_patch_options\u001B[49m\u001B[43m(\u001B[49m\u001B[43mnew_option\u001B[49m\u001B[43m)\u001B[49m\n",
      "File \u001B[1;32mC:\\coding\\pesn-python-sdk\\src\\signals_notebook\\attributes\\attribute.py:224\u001B[0m, in \u001B[0;36mAttribute._patch_options\u001B[1;34m(self, option)\u001B[0m\n\u001B[0;32m    222\u001B[0m \u001B[38;5;28;01mdef\u001B[39;00m \u001B[38;5;21m_patch_options\u001B[39m(\u001B[38;5;28mself\u001B[39m, option: _OptionRepresentation) \u001B[38;5;241m-\u001B[39m\u001B[38;5;241m>\u001B[39m \u001B[38;5;28;01mNone\u001B[39;00m:\n\u001B[0;32m    223\u001B[0m     api \u001B[38;5;241m=\u001B[39m SignalsNotebookApi\u001B[38;5;241m.\u001B[39mget_default_api()\n\u001B[1;32m--> 224\u001B[0m     \u001B[43mapi\u001B[49m\u001B[38;5;241;43m.\u001B[39;49m\u001B[43mcall\u001B[49m\u001B[43m(\u001B[49m\n\u001B[0;32m    225\u001B[0m \u001B[43m        \u001B[49m\u001B[43mmethod\u001B[49m\u001B[38;5;241;43m=\u001B[39;49m\u001B[38;5;124;43m'\u001B[39;49m\u001B[38;5;124;43mPATCH\u001B[39;49m\u001B[38;5;124;43m'\u001B[39;49m\u001B[43m,\u001B[49m\n\u001B[0;32m    226\u001B[0m \u001B[43m        \u001B[49m\u001B[43mpath\u001B[49m\u001B[38;5;241;43m=\u001B[39;49m\u001B[43m(\u001B[49m\u001B[38;5;28;43mself\u001B[39;49m\u001B[38;5;241;43m.\u001B[39;49m\u001B[43m_get_endpoint\u001B[49m\u001B[43m(\u001B[49m\u001B[43m)\u001B[49m\u001B[43m,\u001B[49m\u001B[43m \u001B[49m\u001B[38;5;28;43mself\u001B[39;49m\u001B[38;5;241;43m.\u001B[39;49m\u001B[43mid\u001B[49m\u001B[43m,\u001B[49m\u001B[43m \u001B[49m\u001B[38;5;124;43m'\u001B[39;49m\u001B[38;5;124;43moptions\u001B[39;49m\u001B[38;5;124;43m'\u001B[39;49m\u001B[43m)\u001B[49m\u001B[43m,\u001B[49m\n\u001B[0;32m    227\u001B[0m \u001B[43m        \u001B[49m\u001B[43mjson\u001B[49m\u001B[38;5;241;43m=\u001B[39;49m\u001B[43m{\u001B[49m\u001B[38;5;124;43m'\u001B[39;49m\u001B[38;5;124;43mdata\u001B[39;49m\u001B[38;5;124;43m'\u001B[39;49m\u001B[43m:\u001B[49m\u001B[43m \u001B[49m\u001B[43m[\u001B[49m\u001B[43moption\u001B[49m\u001B[38;5;241;43m.\u001B[39;49m\u001B[43mdict\u001B[49m\u001B[43m(\u001B[49m\u001B[43mexclude_none\u001B[49m\u001B[38;5;241;43m=\u001B[39;49m\u001B[38;5;28;43;01mTrue\u001B[39;49;00m\u001B[43m)\u001B[49m\u001B[43m]\u001B[49m\u001B[43m}\u001B[49m\u001B[43m,\u001B[49m\n\u001B[0;32m    228\u001B[0m \u001B[43m    \u001B[49m\u001B[43m)\u001B[49m\n\u001B[0;32m    229\u001B[0m     \u001B[38;5;28mself\u001B[39m\u001B[38;5;241m.\u001B[39m_reload_options()\n\u001B[0;32m    230\u001B[0m     log\u001B[38;5;241m.\u001B[39mdebug(\u001B[38;5;124m'\u001B[39m\u001B[38;5;124mAttribute: \u001B[39m\u001B[38;5;132;01m%s\u001B[39;00m\u001B[38;5;124m was reloaded successfully\u001B[39m\u001B[38;5;124m'\u001B[39m, \u001B[38;5;28mself\u001B[39m\u001B[38;5;241m.\u001B[39mid)\n",
      "File \u001B[1;32mC:\\coding\\pesn-python-sdk\\src\\signals_notebook\\api.py:152\u001B[0m, in \u001B[0;36mSignalsNotebookApi.call\u001B[1;34m(self, method, path, params, data, json, headers)\u001B[0m\n\u001B[0;32m    146\u001B[0m \u001B[38;5;28;01mif\u001B[39;00m \u001B[38;5;129;01mnot\u001B[39;00m response\u001B[38;5;241m.\u001B[39mok:\n\u001B[0;32m    147\u001B[0m     log\u001B[38;5;241m.\u001B[39merror(\n\u001B[0;32m    148\u001B[0m         \u001B[38;5;124m'\u001B[39m\u001B[38;5;124mError has been occurred while getting response, status code: \u001B[39m\u001B[38;5;132;01m%s\u001B[39;00m\u001B[38;5;124m'\u001B[39m,\n\u001B[0;32m    149\u001B[0m         response\u001B[38;5;241m.\u001B[39mstatus_code,\n\u001B[0;32m    150\u001B[0m         extra\u001B[38;5;241m=\u001B[39m{\u001B[38;5;124m'\u001B[39m\u001B[38;5;124mresponse\u001B[39m\u001B[38;5;124m'\u001B[39m: response},\n\u001B[0;32m    151\u001B[0m     )\n\u001B[1;32m--> 152\u001B[0m     \u001B[38;5;28;01mraise\u001B[39;00m SignalsNotebookError(response)\n\u001B[0;32m    153\u001B[0m log\u001B[38;5;241m.\u001B[39minfo(\u001B[38;5;124m'\u001B[39m\u001B[38;5;124mSuccessful request - HTTP url: \u001B[39m\u001B[38;5;132;01m%s\u001B[39;00m\u001B[38;5;124m, status code: \u001B[39m\u001B[38;5;132;01m%s\u001B[39;00m\u001B[38;5;124m'\u001B[39m, response\u001B[38;5;241m.\u001B[39murl, response\u001B[38;5;241m.\u001B[39mstatus_code)\n\u001B[0;32m    155\u001B[0m \u001B[38;5;28;01mreturn\u001B[39;00m response\n",
      "\u001B[1;31mSignalsNotebookError\u001B[0m: <SignalsNotebookError status=403 code=Forbidden> title=Access forbidden. detail=Failed to update entity attribute:17 Forbidden:{\"error\":403,\"description\":\"com.perkinelmer.elements.commons.exceptions.AttributeNotEditableException: This attribute cannot be edited.\",\"causes\":[{\"description\":\"com.perkinelmer.elements.commons.exceptions.AttributeNotEditableException: This attribute cannot be edited.\"}]}>"
     ]
    }
   ],
   "source": [
    "all_attributes[10].add_option('new')\n",
    "all_attributes[10].options"
   ],
   "metadata": {
    "collapsed": false,
    "pycharm": {
     "name": "#%%\n"
    }
   }
  },
  {
   "cell_type": "code",
   "execution_count": null,
   "outputs": [],
   "source": [
    "all_attributes[10]"
   ],
   "metadata": {
    "collapsed": false,
    "pycharm": {
     "name": "#%%\n"
    }
   }
  }
 ],
 "metadata": {
  "kernelspec": {
   "display_name": "Python 3",
   "language": "python",
   "name": "python3"
  },
  "language_info": {
   "codemirror_mode": {
    "name": "ipython",
    "version": 2
   },
   "file_extension": ".py",
   "mimetype": "text/x-python",
   "name": "python",
   "nbconvert_exporter": "python",
   "pygments_lexer": "ipython2",
   "version": "2.7.6"
  }
 },
 "nbformat": 4,
 "nbformat_minor": 0
}
{
 "cells": [
  {
   "cell_type": "code",
   "execution_count": 1,
   "outputs": [],
   "source": [
    "%load_ext dotenv\n",
    "%dotenv\n",
    "import os\n",
    "\n",
    "SN_API_HOST = os.getenv('SN_API_HOST')\n",
    "SN_API_KEY = os.getenv('SN_API_KEY')"
   ],
   "metadata": {
    "collapsed": false,
    "pycharm": {
     "name": "#%%\n"
    }
   }
  },
  {
   "cell_type": "code",
   "execution_count": 2,
   "outputs": [
    {
     "data": {
      "text/plain": "<signals_notebook.api.SignalsNotebookApi at 0x205b2414400>"
     },
     "execution_count": 2,
     "metadata": {},
     "output_type": "execute_result"
    }
   ],
   "source": [
    "from signals_notebook.api import SignalsNotebookApi\n",
    "SignalsNotebookApi.init(SN_API_HOST, SN_API_KEY)"
   ],
   "metadata": {
    "collapsed": false,
    "pycharm": {
     "name": "#%%\n"
    }
   }
  },
  {
   "cell_type": "code",
   "execution_count": 3,
   "outputs": [],
   "source": [
    "from signals_notebook.entities.entity_store import EntityStore"
   ],
   "metadata": {
    "collapsed": false,
    "pycharm": {
     "name": "#%%\n"
    }
   }
  },
  {
   "cell_type": "code",
   "execution_count": 4,
   "outputs": [],
   "source": [
    "sample = EntityStore.get('sample:ef8f39e5-3309-4f85-abd6-3ceedce0d8a6')"
   ],
   "metadata": {
    "collapsed": false,
    "pycharm": {
     "name": "#%%\n"
    }
   }
  },
  {
   "cell_type": "code",
   "execution_count": 5,
   "outputs": [
    {
     "data": {
      "text/plain": "Sample(type=<EntityType.SAMPLE: 'sample'>, eid='sample:ef8f39e5-3309-4f85-abd6-3ceedce0d8a6', digest='14731062', name='Sample-1777', description='', created_at=datetime.datetime(2022, 6, 13, 13, 55, 51, 150000, tzinfo=datetime.timezone.utc), edited_at=datetime.datetime(2022, 6, 14, 10, 44, 58, 781000, tzinfo=datetime.timezone.utc), fields=None)"
     },
     "execution_count": 5,
     "metadata": {},
     "output_type": "execute_result"
    }
   ],
   "source": [
    "sample"
   ],
   "metadata": {
    "collapsed": false,
    "pycharm": {
     "name": "#%%\n"
    }
   }
  },
  {
   "cell_type": "code",
   "execution_count": 6,
   "outputs": [
    {
     "data": {
      "text/plain": "[SampleProperty(id=UUID('b718adec-73e0-3ce3-ac72-0dd11a06a308'), name='ID', content=CellPropertyContent(value='Sample-1777', name=None, eid=None, values=None)),\n SampleProperty(id=UUID('278c491b-dd8a-3361-8c14-9c4ac790da34'), name='Template', content=CellPropertyContent(value='Sample', name=None, eid=None, values=None)),\n SampleProperty(id='digests.self', name=None, content=CellPropertyContent(value=None, name=None, eid=None, values=None)),\n SampleProperty(id='digests.external', name=None, content=CellPropertyContent(value=None, name=None, eid=None, values=None)),\n SampleProperty(id='1', name='Created Date', content=CellPropertyContent(value='2022-06-13T13:55:51.211451408Z', name=None, eid=None, values=None)),\n SampleProperty(id='2', name='Description', content=CellPropertyContent(value='test edit', name=None, eid=None, values=None)),\n SampleProperty(id='3', name='Comments', content=CellPropertyContent(value=None, name=None, eid=None, values=None)),\n SampleProperty(id='4', name='Amount', content=CellPropertyContent(value=None, name=None, eid=None, values=None)),\n SampleProperty(id='10', name='Attached Docs', content=CellPropertyContent(value='0', name=None, eid='sample:ef8f39e5-3309-4f85-abd6-3ceedce0d8a6', values=None)),\n SampleProperty(id='sampleId', name='ID', content=CellPropertyContent(value='sample:ef8f39e5-3309-4f85-abd6-3ceedce0d8a6', name=None, eid=None, values=None)),\n SampleProperty(id='sourceName', name='Template', content=CellPropertyContent(value='Sample', name=None, eid=None, values=None))]"
     },
     "execution_count": 6,
     "metadata": {},
     "output_type": "execute_result"
    }
   ],
   "source": [
    "properties = sample.get_properties()\n",
    "list(properties)"
   ],
   "metadata": {
    "collapsed": false,
    "pycharm": {
     "name": "#%%\n"
    }
   }
  },
  {
   "cell_type": "code",
   "execution_count": 7,
   "outputs": [
    {
     "data": {
      "text/plain": "generator"
     },
     "execution_count": 7,
     "metadata": {},
     "output_type": "execute_result"
    }
   ],
   "source": [
    "type(properties)"
   ],
   "metadata": {
    "collapsed": false,
    "pycharm": {
     "name": "#%%\n"
    }
   }
  },
  {
   "cell_type": "code",
   "execution_count": 8,
   "outputs": [
    {
     "data": {
      "text/plain": "SampleProperty(id='1', name='Created Date', content=CellPropertyContent(value='2022-06-13T13:55:51.211451408Z', name=None, eid=None, values=None))"
     },
     "execution_count": 8,
     "metadata": {},
     "output_type": "execute_result"
    }
   ],
   "source": [
    "sample_property = sample.get_property_by_id('1')\n",
    "sample_property"
   ],
   "metadata": {
    "collapsed": false,
    "pycharm": {
     "name": "#%%\n"
    }
   }
  },
  {
   "cell_type": "code",
   "execution_count": 9,
   "outputs": [],
   "source": [
    "for item in sample.properties:\n",
    "    if item.id == '2':\n",
    "        item.content.set_value('555')"
   ],
   "metadata": {
    "collapsed": false,
    "pycharm": {
     "name": "#%%\n"
    }
   }
  },
  {
   "cell_type": "code",
   "execution_count": 11,
   "outputs": [
    {
     "data": {
      "text/plain": "[SampleProperty(id=UUID('b718adec-73e0-3ce3-ac72-0dd11a06a308'), name='ID', content=CellPropertyContent(value='Sample-1777', name=None, eid=None, values=None)),\n SampleProperty(id=UUID('278c491b-dd8a-3361-8c14-9c4ac790da34'), name='Template', content=CellPropertyContent(value='Sample', name=None, eid=None, values=None)),\n SampleProperty(id='digests.self', name=None, content=CellPropertyContent(value=None, name=None, eid=None, values=None)),\n SampleProperty(id='digests.external', name=None, content=CellPropertyContent(value=None, name=None, eid=None, values=None)),\n SampleProperty(id='1', name='Created Date', content=CellPropertyContent(value='2022-06-13T13:55:51.211451408Z', name=None, eid=None, values=None)),\n SampleProperty(id='2', name='Description', content=CellPropertyContent(value='555', name=None, eid=None, values=None)),\n SampleProperty(id='3', name='Comments', content=CellPropertyContent(value=None, name=None, eid=None, values=None)),\n SampleProperty(id='4', name='Amount', content=CellPropertyContent(value=None, name=None, eid=None, values=None)),\n SampleProperty(id='10', name='Attached Docs', content=CellPropertyContent(value='0', name=None, eid='sample:ef8f39e5-3309-4f85-abd6-3ceedce0d8a6', values=None)),\n SampleProperty(id='sampleId', name='ID', content=CellPropertyContent(value='sample:ef8f39e5-3309-4f85-abd6-3ceedce0d8a6', name=None, eid=None, values=None)),\n SampleProperty(id='sourceName', name='Template', content=CellPropertyContent(value='Sample', name=None, eid=None, values=None))]"
     },
     "execution_count": 11,
     "metadata": {},
     "output_type": "execute_result"
    }
   ],
   "source": [
    "sample.properties"
   ],
   "metadata": {
    "collapsed": false,
    "pycharm": {
     "name": "#%%\n"
    }
   }
  },
  {
   "cell_type": "code",
   "execution_count": 17,
   "outputs": [
    {
     "name": "stdout",
     "output_type": "stream",
     "text": [
      "[]\n"
     ]
    },
    {
     "ename": "SignalsNotebookError",
     "evalue": "<SignalsNotebookError status=400 code=BadRequest> title=The request parameters are in bad format. detail=Wrong request body>",
     "output_type": "error",
     "traceback": [
      "\u001B[1;31m---------------------------------------------------------------------------\u001B[0m",
      "\u001B[1;31mSignalsNotebookError\u001B[0m                      Traceback (most recent call last)",
      "Input \u001B[1;32mIn [17]\u001B[0m, in \u001B[0;36m<cell line: 1>\u001B[1;34m()\u001B[0m\n\u001B[1;32m----> 1\u001B[0m \u001B[43msample\u001B[49m\u001B[38;5;241;43m.\u001B[39;49m\u001B[43msave\u001B[49m\u001B[43m(\u001B[49m\u001B[43m)\u001B[49m\n",
      "File \u001B[1;32mC:\\coding\\pesn-python-sdk\\src\\signals_notebook\\entities\\samples\\sample.py:140\u001B[0m, in \u001B[0;36mSample.save\u001B[1;34m(self, force)\u001B[0m\n\u001B[0;32m    136\u001B[0m     \u001B[38;5;28;01mif\u001B[39;00m item\u001B[38;5;241m.\u001B[39mis_changed:\n\u001B[0;32m    137\u001B[0m         request_body\u001B[38;5;241m.\u001B[39mappend(item\u001B[38;5;241m.\u001B[39mrepresentation_for_update\u001B[38;5;241m.\u001B[39mdict(exclude_none\u001B[38;5;241m=\u001B[39m\u001B[38;5;28;01mTrue\u001B[39;00m))\n\u001B[0;32m    139\u001B[0m api\u001B[38;5;241m.\u001B[39mcall(\n\u001B[1;32m--> 140\u001B[0m     method\u001B[38;5;241m=\u001B[39m\u001B[38;5;124m'\u001B[39m\u001B[38;5;124mPATCH\u001B[39m\u001B[38;5;124m'\u001B[39m,\n\u001B[0;32m    141\u001B[0m     path\u001B[38;5;241m=\u001B[39m(\u001B[38;5;28mself\u001B[39m\u001B[38;5;241m.\u001B[39m_get_samples_endpoint(), \u001B[38;5;28mself\u001B[39m\u001B[38;5;241m.\u001B[39meid, \u001B[38;5;124m'\u001B[39m\u001B[38;5;124mproperties\u001B[39m\u001B[38;5;124m'\u001B[39m),\n\u001B[0;32m    142\u001B[0m     params\u001B[38;5;241m=\u001B[39m{\n\u001B[0;32m    143\u001B[0m         \u001B[38;5;124m'\u001B[39m\u001B[38;5;124mforce\u001B[39m\u001B[38;5;124m'\u001B[39m: json\u001B[38;5;241m.\u001B[39mdumps(force),\n\u001B[0;32m    144\u001B[0m         \u001B[38;5;124m'\u001B[39m\u001B[38;5;124mvalue\u001B[39m\u001B[38;5;124m'\u001B[39m: \u001B[38;5;124m'\u001B[39m\u001B[38;5;124mnormalized\u001B[39m\u001B[38;5;124m'\u001B[39m,\n\u001B[0;32m    145\u001B[0m     },\n\u001B[0;32m    146\u001B[0m     json\u001B[38;5;241m=\u001B[39m{\n\u001B[0;32m    147\u001B[0m         \u001B[38;5;124m'\u001B[39m\u001B[38;5;124mdata\u001B[39m\u001B[38;5;124m'\u001B[39m: {\u001B[38;5;124m'\u001B[39m\u001B[38;5;124mattributes\u001B[39m\u001B[38;5;124m'\u001B[39m: {\u001B[38;5;124m'\u001B[39m\u001B[38;5;124mdata\u001B[39m\u001B[38;5;124m'\u001B[39m: request_body}},\n\u001B[0;32m    148\u001B[0m     },\n\u001B[0;32m    149\u001B[0m )\n\u001B[0;32m    150\u001B[0m \u001B[38;5;28mself\u001B[39m\u001B[38;5;241m.\u001B[39m_reload_properties()\n",
      "File \u001B[1;32mC:\\coding\\pesn-python-sdk\\src\\signals_notebook\\api.py:118\u001B[0m, in \u001B[0;36mSignalsNotebookApi.call\u001B[1;34m(self, method, path, params, data, json, headers)\u001B[0m\n\u001B[0;32m    112\u001B[0m \u001B[38;5;28;01mif\u001B[39;00m \u001B[38;5;129;01mnot\u001B[39;00m response\u001B[38;5;241m.\u001B[39mok:\n\u001B[0;32m    113\u001B[0m     log\u001B[38;5;241m.\u001B[39merror(\n\u001B[0;32m    114\u001B[0m         \u001B[38;5;124m'\u001B[39m\u001B[38;5;124mError has been occurred while getting response, status code: \u001B[39m\u001B[38;5;132;01m%s\u001B[39;00m\u001B[38;5;124m'\u001B[39m,\n\u001B[0;32m    115\u001B[0m         response\u001B[38;5;241m.\u001B[39mstatus_code,\n\u001B[0;32m    116\u001B[0m         extra\u001B[38;5;241m=\u001B[39m{\u001B[38;5;124m'\u001B[39m\u001B[38;5;124mresponse\u001B[39m\u001B[38;5;124m'\u001B[39m: response},\n\u001B[0;32m    117\u001B[0m     )\n\u001B[1;32m--> 118\u001B[0m     \u001B[38;5;28;01mraise\u001B[39;00m SignalsNotebookError(response)\n\u001B[0;32m    119\u001B[0m log\u001B[38;5;241m.\u001B[39minfo(\u001B[38;5;124m'\u001B[39m\u001B[38;5;124mSuccessful request - HTTP url: \u001B[39m\u001B[38;5;132;01m%s\u001B[39;00m\u001B[38;5;124m, status code: \u001B[39m\u001B[38;5;132;01m%s\u001B[39;00m\u001B[38;5;124m'\u001B[39m, response\u001B[38;5;241m.\u001B[39murl, response\u001B[38;5;241m.\u001B[39mstatus_code)\n\u001B[0;32m    121\u001B[0m \u001B[38;5;28;01mreturn\u001B[39;00m response\n",
      "\u001B[1;31mSignalsNotebookError\u001B[0m: <SignalsNotebookError status=400 code=BadRequest> title=The request parameters are in bad format. detail=Wrong request body>"
     ]
    }
   ],
   "source": [
    "sample.save()"
   ],
   "metadata": {
    "collapsed": false,
    "pycharm": {
     "name": "#%%\n"
    }
   }
  },
  {
   "cell_type": "code",
   "execution_count": null,
   "outputs": [],
   "source": [
    "from signals_notebook.entities import Sample\n",
    "experiment = EntityStore.get(\"experiment:f7fb12b2-1180-4fa0-9bcd-ccc2f7ec0e8f\")"
   ],
   "metadata": {
    "collapsed": false,
    "pycharm": {
     "name": "#%%\n"
    }
   }
  },
  {
   "cell_type": "code",
   "execution_count": null,
   "outputs": [],
   "source": [
    "from signals_notebook.entities import SampleProperty\n",
    "from signals_notebook.entities.samples.cell import CellPropertyContent\n",
    "\n",
    "new_sample_property = SampleProperty(\n",
    "    id='3',\n",
    "    content=CellPropertyContent(value='create_NEW_SAMPLE'),\n",
    ")\n",
    "template_sample = EntityStore.get('sample:fcaa5e11-ace8-4d2c-a212-293dad3c2122')\n",
    "new_sample = Sample.create(\n",
    "    fields=[new_sample_property],\n",
    "    template=template_sample,\n",
    "    ancestors=[experiment],\n",
    ")"
   ],
   "metadata": {
    "collapsed": false,
    "pycharm": {
     "name": "#%%\n"
    }
   }
  },
  {
   "cell_type": "code",
   "execution_count": null,
   "outputs": [],
   "source": [
    "new_sample"
   ],
   "metadata": {
    "collapsed": false,
    "pycharm": {
     "name": "#%%\n"
    }
   }
  },
  {
   "cell_type": "code",
   "execution_count": null,
   "outputs": [],
   "source": [
    "new_sample.delete()"
   ],
   "metadata": {
    "collapsed": false,
    "pycharm": {
     "name": "#%%\n"
    }
   }
  },
  {
   "cell_type": "code",
   "execution_count": null,
   "outputs": [],
   "source": [],
   "metadata": {
    "collapsed": false,
    "pycharm": {
     "name": "#%%\n"
    }
   }
  }
 ],
 "metadata": {
  "kernelspec": {
   "display_name": "Python 3",
   "language": "python",
   "name": "python3"
  },
  "language_info": {
   "codemirror_mode": {
    "name": "ipython",
    "version": 2
   },
   "file_extension": ".py",
   "mimetype": "text/x-python",
   "name": "python",
   "nbconvert_exporter": "python",
   "pygments_lexer": "ipython2",
   "version": "2.7.6"
  }
 },
 "nbformat": 4,
 "nbformat_minor": 0
}
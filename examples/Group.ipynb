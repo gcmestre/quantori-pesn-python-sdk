{
 "cells": [
  {
   "cell_type": "code",
   "execution_count": 1,
   "outputs": [],
   "source": [
    "%load_ext dotenv\n",
    "%dotenv\n",
    "import os\n",
    "\n",
    "SN_API_HOST = os.getenv('SN_API_HOST')\n",
    "SN_API_KEY = os.getenv('SN_API_KEY')"
   ],
   "metadata": {
    "collapsed": false,
    "pycharm": {
     "name": "#%%\n"
    }
   }
  },
  {
   "cell_type": "code",
   "execution_count": 2,
   "outputs": [
    {
     "data": {
      "text/plain": "<signals_notebook.api.SignalsNotebookApi at 0x1c740eb04f0>"
     },
     "execution_count": 2,
     "metadata": {},
     "output_type": "execute_result"
    }
   ],
   "source": [
    "from signals_notebook.api import SignalsNotebookApi\n",
    "SignalsNotebookApi.init(SN_API_HOST, SN_API_KEY)"
   ],
   "metadata": {
    "collapsed": false,
    "pycharm": {
     "name": "#%%\n"
    }
   }
  },
  {
   "cell_type": "code",
   "execution_count": 3,
   "outputs": [
    {
     "data": {
      "text/plain": "[Group(type=<ObjectType.GROUP: 'group'>, id='102', is_system=True, name='All users', description='Group containing all users', created_at=datetime.datetime(2021, 10, 22, 13, 35, 58, 625000, tzinfo=datetime.timezone.utc), edited_at=datetime.datetime(2021, 10, 22, 13, 35, 58, 625000, tzinfo=datetime.timezone.utc), digest='44410719'),\n Group(type=<ObjectType.GROUP: 'group'>, id='180', is_system=True, name='name3', description='New', created_at=datetime.datetime(2022, 7, 13, 9, 57, 52, 736000, tzinfo=datetime.timezone.utc), edited_at=datetime.datetime(2022, 7, 13, 9, 58, 16, 84000, tzinfo=datetime.timezone.utc), digest='33108553'),\n Group(type=<ObjectType.GROUP: 'group'>, id='152', is_system=False, name='test group', description='test', created_at=datetime.datetime(2022, 7, 6, 12, 32, 16, 957000, tzinfo=datetime.timezone.utc), edited_at=datetime.datetime(2022, 7, 6, 12, 32, 16, 957000, tzinfo=datetime.timezone.utc), digest='33844877'),\n Group(type=<ObjectType.GROUP: 'group'>, id='177', is_system=True, name='name', description='New', created_at=datetime.datetime(2022, 7, 13, 8, 11, 44, 321000, tzinfo=datetime.timezone.utc), edited_at=datetime.datetime(2022, 7, 13, 8, 11, 45, 984000, tzinfo=datetime.timezone.utc), digest='59935096'),\n Group(type=<ObjectType.GROUP: 'group'>, id='181', is_system=True, name='name4', description='New', created_at=datetime.datetime(2022, 7, 13, 10, 3, 48, 458000, tzinfo=datetime.timezone.utc), edited_at=datetime.datetime(2022, 8, 16, 11, 16, 6, 289000, tzinfo=datetime.timezone.utc), digest='86569829'),\n Group(type=<ObjectType.GROUP: 'group'>, id='155', is_system=False, name='test group2', description='test', created_at=datetime.datetime(2022, 7, 6, 12, 57, 48, 304000, tzinfo=datetime.timezone.utc), edited_at=datetime.datetime(2022, 7, 6, 12, 57, 48, 304000, tzinfo=datetime.timezone.utc), digest='98434818'),\n Group(type=<ObjectType.GROUP: 'group'>, id='101', is_system=True, name='Administrators', description='Group containing all administrators', created_at=datetime.datetime(2021, 10, 22, 13, 35, 58, 444000, tzinfo=datetime.timezone.utc), edited_at=datetime.datetime(2021, 10, 22, 13, 35, 58, 444000, tzinfo=datetime.timezone.utc), digest='78805561'),\n Group(type=<ObjectType.GROUP: 'group'>, id='121', is_system=True, name='ASG', description='The group dedicated to the synthesis, QC, and pre-clinical trials of alprostadil', created_at=datetime.datetime(2021, 11, 21, 10, 54, 45, 346000, tzinfo=datetime.timezone.utc), edited_at=datetime.datetime(2021, 11, 21, 10, 57, 27, 267000, tzinfo=datetime.timezone.utc), digest='54719442'),\n Group(type=<ObjectType.GROUP: 'group'>, id='179', is_system=True, name='name2', description='New', created_at=datetime.datetime(2022, 7, 13, 9, 42, 40, 627000, tzinfo=datetime.timezone.utc), edited_at=datetime.datetime(2022, 8, 16, 10, 57, 47, 98000, tzinfo=datetime.timezone.utc), digest='71442204')]"
     },
     "execution_count": 3,
     "metadata": {},
     "output_type": "execute_result"
    }
   ],
   "source": [
    "from signals_notebook.users.group import Group\n",
    "\n",
    "group = Group.get_list()\n",
    "list(group)"
   ],
   "metadata": {
    "collapsed": false,
    "pycharm": {
     "name": "#%%\n"
    }
   }
  },
  {
   "cell_type": "code",
   "execution_count": 4,
   "outputs": [
    {
     "data": {
      "text/plain": "Group(type=<ObjectType.GROUP: 'group'>, id='101', is_system=True, name='Administrators', description='Group containing all administrators', created_at=datetime.datetime(2021, 10, 22, 13, 35, 58, 444000, tzinfo=datetime.timezone.utc), edited_at=datetime.datetime(2021, 10, 22, 13, 35, 58, 444000, tzinfo=datetime.timezone.utc), digest='78805561')"
     },
     "execution_count": 4,
     "metadata": {},
     "output_type": "execute_result"
    }
   ],
   "source": [
    "group = Group.get('101')\n",
    "group"
   ],
   "metadata": {
    "collapsed": false,
    "pycharm": {
     "name": "#%%\n"
    }
   }
  },
  {
   "cell_type": "code",
   "execution_count": 5,
   "outputs": [
    {
     "data": {
      "text/plain": "Group(type=<ObjectType.GROUP: 'group'>, id='189', is_system=True, name='name5', description='test2', created_at=datetime.datetime(2022, 8, 30, 8, 48, 49, 746000, tzinfo=datetime.timezone.utc), edited_at=datetime.datetime(2022, 8, 30, 8, 48, 49, 746000, tzinfo=datetime.timezone.utc), digest='23180785')"
     },
     "execution_count": 5,
     "metadata": {},
     "output_type": "execute_result"
    }
   ],
   "source": [
    "group = Group.create(name='name5', description='test2', is_system=True)\n",
    "group"
   ],
   "metadata": {
    "collapsed": false,
    "pycharm": {
     "name": "#%%\n"
    }
   }
  },
  {
   "cell_type": "code",
   "execution_count": 6,
   "outputs": [],
   "source": [
    "group.description = 'New'\n",
    "group.save()"
   ],
   "metadata": {
    "collapsed": false,
    "pycharm": {
     "name": "#%%\n"
    }
   }
  },
  {
   "cell_type": "code",
   "execution_count": 7,
   "outputs": [
    {
     "data": {
      "text/plain": "[User(id='119', first_name='Evgeniy', last_name='Pokidov', email='evgeniy.pokidov@quantori.com', created_at=datetime.datetime(2022, 1, 24, 13, 25, 24, 180000, tzinfo=datetime.timezone.utc), is_enabled=True, username='evgeniy.pokidov@quantori.com', alias='evgeniy.pokidov', country='USA', organization='quantori', last_login_at=datetime.datetime(2022, 7, 26, 13, 8, 49, 410000, tzinfo=datetime.timezone.utc)),\n User(id='103', first_name='Sergey', last_name='Kuznetsov', email='sergey.kuznetsov@quantori.com', created_at=datetime.datetime(2021, 11, 3, 3, 0, 6, 567000, tzinfo=datetime.timezone.utc), is_enabled=True, username='sergey.kuznetsov@quantori.com', alias=None, country='USA', organization='quantori', last_login_at=datetime.datetime(2022, 8, 30, 8, 48, 52, 930000, tzinfo=datetime.timezone.utc))]"
     },
     "execution_count": 7,
     "metadata": {},
     "output_type": "execute_result"
    }
   ],
   "source": [
    "from signals_notebook.users.user import User\n",
    "\n",
    "user = User.get('119')\n",
    "\n",
    "group.add_user(user)"
   ],
   "metadata": {
    "collapsed": false,
    "pycharm": {
     "name": "#%%\n"
    }
   }
  },
  {
   "cell_type": "code",
   "execution_count": 8,
   "outputs": [
    {
     "data": {
      "text/plain": "[User(id='119', first_name='Evgeniy', last_name='Pokidov', email='evgeniy.pokidov@quantori.com', created_at=datetime.datetime(2022, 1, 24, 13, 25, 24, 180000, tzinfo=datetime.timezone.utc), is_enabled=True, username='evgeniy.pokidov@quantori.com', alias='evgeniy.pokidov', country='USA', organization='quantori', last_login_at=datetime.datetime(2022, 7, 26, 13, 8, 49, 410000, tzinfo=datetime.timezone.utc)),\n User(id='103', first_name='Sergey', last_name='Kuznetsov', email='sergey.kuznetsov@quantori.com', created_at=datetime.datetime(2021, 11, 3, 3, 0, 6, 567000, tzinfo=datetime.timezone.utc), is_enabled=True, username='sergey.kuznetsov@quantori.com', alias=None, country='USA', organization='quantori', last_login_at=datetime.datetime(2022, 8, 30, 8, 48, 53, 966000, tzinfo=datetime.timezone.utc))]"
     },
     "execution_count": 8,
     "metadata": {},
     "output_type": "execute_result"
    }
   ],
   "source": [
    "members = group.get_members()\n",
    "list(members)"
   ],
   "metadata": {
    "collapsed": false,
    "pycharm": {
     "name": "#%%\n"
    }
   }
  },
  {
   "cell_type": "code",
   "execution_count": 9,
   "outputs": [],
   "source": [
    "group.delete_user(user)"
   ],
   "metadata": {
    "collapsed": false,
    "pycharm": {
     "name": "#%%\n"
    }
   }
  },
  {
   "cell_type": "code",
   "execution_count": 10,
   "outputs": [],
   "source": [
    "group.delete()"
   ],
   "metadata": {
    "collapsed": false,
    "pycharm": {
     "name": "#%%\n"
    }
   }
  },
  {
   "cell_type": "markdown",
   "source": [],
   "metadata": {
    "collapsed": false,
    "pycharm": {
     "name": "#%% md\n"
    }
   }
  }
 ],
 "metadata": {
  "kernelspec": {
   "display_name": "Python 3",
   "language": "python",
   "name": "python3"
  },
  "language_info": {
   "codemirror_mode": {
    "name": "ipython",
    "version": 2
   },
   "file_extension": ".py",
   "mimetype": "text/x-python",
   "name": "python",
   "nbconvert_exporter": "python",
   "pygments_lexer": "ipython2",
   "version": "2.7.6"
  }
 },
 "nbformat": 4,
 "nbformat_minor": 0
}
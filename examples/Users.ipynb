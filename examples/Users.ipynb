{
 "cells": [
  {
   "cell_type": "code",
   "execution_count": 1,
   "outputs": [],
   "source": [
    "import random\n",
    "%load_ext dotenv\n",
    "%dotenv\n",
    "import os\n",
    "\n",
    "SN_API_HOST = os.getenv('SN_API_HOST')\n",
    "SN_API_KEY = os.getenv('SN_API_KEY')"
   ],
   "metadata": {
    "collapsed": false,
    "pycharm": {
     "name": "#%%\n"
    }
   }
  },
  {
   "cell_type": "code",
   "execution_count": 2,
   "outputs": [
    {
     "data": {
      "text/plain": "<signals_notebook.api.SignalsNotebookApi at 0x20e593b44f0>"
     },
     "execution_count": 2,
     "metadata": {},
     "output_type": "execute_result"
    }
   ],
   "source": [
    "from signals_notebook.api import SignalsNotebookApi\n",
    "SignalsNotebookApi.init(SN_API_HOST, SN_API_KEY)"
   ],
   "metadata": {
    "collapsed": false,
    "pycharm": {
     "name": "#%%\n"
    }
   }
  },
  {
   "cell_type": "code",
   "execution_count": 3,
   "outputs": [
    {
     "data": {
      "text/plain": "User(id='147', first_name='first_name', last_name='last_name', email='unique3@quantori.com', created_at=datetime.datetime(2022, 7, 7, 11, 49, 14, 627000, tzinfo=datetime.timezone.utc), is_enabled=False, username='unique3@quantori.com', alias='alias2', country='USA', organization='orga', last_login_at=None)"
     },
     "execution_count": 3,
     "metadata": {},
     "output_type": "execute_result"
    }
   ],
   "source": [
    "from signals_notebook.users.user import User\n",
    "\n",
    "user = User.get('147')\n",
    "user"
   ],
   "metadata": {
    "collapsed": false,
    "pycharm": {
     "name": "#%%\n"
    }
   }
  },
  {
   "cell_type": "code",
   "execution_count": 4,
   "outputs": [
    {
     "data": {
      "text/plain": "[Role(id='1', name='System Admin', description='Users with this role have all privileges.', privileges=Privelege(can_move_experiments=True, can_manage_system_templates=True, can_trash_requests=True, can_trash_samples=True, can_share=True, can_add_materials=True, can_trash_experiments=True, can_trash_materials=True, can_trash_notebooks=True, can_view_materials=True, can_manage_material_libraries=True, can_share_templates=True, can_manage_attributes=True, can_manage_groups=True, can_search_eln_archive=True, can_configure=True, can_edit_materials=True)),\n Role(id='3', name='Standard User', description='All users in the system will always have this role.', privileges=Privelege(can_move_experiments=True, can_manage_system_templates=True, can_trash_requests=True, can_trash_samples=True, can_share=True, can_add_materials=True, can_trash_experiments=True, can_trash_materials=True, can_trash_notebooks=True, can_view_materials=True, can_manage_material_libraries=True, can_share_templates=True, can_manage_attributes=True, can_manage_groups=True, can_search_eln_archive=True, can_configure=True, can_edit_materials=True))]"
     },
     "execution_count": 4,
     "metadata": {},
     "output_type": "execute_result"
    }
   ],
   "source": [
    "user.roles"
   ],
   "metadata": {
    "collapsed": false,
    "pycharm": {
     "name": "#%%\n"
    }
   }
  },
  {
   "cell_type": "code",
   "execution_count": 5,
   "outputs": [
    {
     "data": {
      "text/plain": "[Group(type=<ObjectType.GROUP: 'group'>, id='102', is_system=True, name='All users', description='Group containing all users', created_at=datetime.datetime(2021, 10, 22, 13, 35, 58, 625000, tzinfo=datetime.timezone.utc), edited_at=datetime.datetime(2021, 10, 22, 13, 35, 58, 625000, tzinfo=datetime.timezone.utc), digest='66820706'),\n Group(type=<ObjectType.GROUP: 'group'>, id='101', is_system=True, name='Administrators', description='Group containing all administrators', created_at=datetime.datetime(2021, 10, 22, 13, 35, 58, 444000, tzinfo=datetime.timezone.utc), edited_at=datetime.datetime(2021, 10, 22, 13, 35, 58, 444000, tzinfo=datetime.timezone.utc), digest='27724363')]"
     },
     "execution_count": 5,
     "metadata": {},
     "output_type": "execute_result"
    }
   ],
   "source": [
    "user.groups"
   ],
   "metadata": {
    "collapsed": false,
    "pycharm": {
     "name": "#%%\n"
    }
   }
  },
  {
   "cell_type": "code",
   "execution_count": 6,
   "outputs": [
    {
     "data": {
      "text/plain": "User(id='103', first_name='Sergey', last_name='Kuznetsov', email='sergey.kuznetsov@quantori.com', created_at=datetime.datetime(2021, 11, 3, 3, 0, 6, 567000, tzinfo=datetime.timezone.utc), is_enabled=True, username='sergey.kuznetsov@quantori.com', alias=None, country='USA', organization='quantori', last_login_at=datetime.datetime(2022, 8, 30, 9, 15, 0, 141000, tzinfo=datetime.timezone.utc))"
     },
     "execution_count": 6,
     "metadata": {},
     "output_type": "execute_result"
    }
   ],
   "source": [
    "current_user_profile = User.get_current_user()\n",
    "current_user = User.get(current_user_profile.id)\n",
    "current_user"
   ],
   "metadata": {
    "collapsed": false,
    "pycharm": {
     "name": "#%%\n"
    }
   }
  },
  {
   "cell_type": "code",
   "execution_count": 7,
   "outputs": [],
   "source": [
    "file = user.picture\n",
    "file\n"
   ],
   "metadata": {
    "collapsed": false,
    "pycharm": {
     "name": "#%%\n"
    }
   }
  },
  {
   "cell_type": "code",
   "execution_count": 8,
   "outputs": [
    {
     "data": {
      "text/plain": "User(id='147', first_name='NEW', last_name='last_name', email='unique3@quantori.com', created_at=datetime.datetime(2022, 7, 7, 11, 49, 14, 627000, tzinfo=datetime.timezone.utc), is_enabled=False, username='unique3@quantori.com', alias='alias2', country='USA', organization='orga', last_login_at=None)"
     },
     "execution_count": 8,
     "metadata": {},
     "output_type": "execute_result"
    }
   ],
   "source": [
    "user.first_name = 'NEW'\n",
    "user"
   ],
   "metadata": {
    "collapsed": false,
    "pycharm": {
     "name": "#%%\n"
    }
   }
  },
  {
   "cell_type": "code",
   "execution_count": 9,
   "outputs": [
    {
     "data": {
      "text/plain": "User(id='147', first_name='first_name', last_name='last_name', email='unique3@quantori.com', created_at=datetime.datetime(2022, 7, 7, 11, 49, 14, 627000, tzinfo=datetime.timezone.utc), is_enabled=False, username='unique3@quantori.com', alias='alias2', country='USA', organization='orga', last_login_at=None)"
     },
     "execution_count": 9,
     "metadata": {},
     "output_type": "execute_result"
    }
   ],
   "source": [
    "user.refresh()\n",
    "user"
   ],
   "metadata": {
    "collapsed": false,
    "pycharm": {
     "name": "#%%\n"
    }
   }
  },
  {
   "cell_type": "code",
   "execution_count": 10,
   "outputs": [],
   "source": [
    "from signals_notebook.users.user import User\n",
    "\n",
    "users = User.get_list()\n",
    "for item in users:\n",
    "    assert isinstance(item, User)\n"
   ],
   "metadata": {
    "collapsed": false,
    "pycharm": {
     "name": "#%%\n"
    }
   }
  },
  {
   "cell_type": "code",
   "execution_count": 11,
   "outputs": [
    {
     "data": {
      "text/plain": "User(id='147', first_name='first_name', last_name='last_name', email='unique3@quantori.com', created_at=datetime.datetime(2022, 7, 7, 11, 49, 14, 627000, tzinfo=datetime.timezone.utc), is_enabled=False, username='unique3@quantori.com', alias='alias2', country='USA', organization='orga', last_login_at=None)"
     },
     "execution_count": 11,
     "metadata": {},
     "output_type": "execute_result"
    }
   ],
   "source": [
    "user"
   ],
   "metadata": {
    "collapsed": false,
    "pycharm": {
     "name": "#%%\n"
    }
   }
  },
  {
   "cell_type": "markdown",
   "source": [],
   "metadata": {
    "collapsed": false,
    "pycharm": {
     "name": "#%% md\n"
    }
   }
  },
  {
   "cell_type": "code",
   "execution_count": 12,
   "outputs": [
    {
     "data": {
      "text/plain": "User(id='161', first_name='first_name', last_name='last_name', email='uniqued4124450426236008@quantori.com', created_at=datetime.datetime(2022, 8, 30, 9, 15, 6, 804000, tzinfo=datetime.timezone.utc), is_enabled=True, username='uniqued4124450426236008@quantori.com', alias='aliasd4124450426236008', country='USA', organization='orga', last_login_at=None)"
     },
     "execution_count": 12,
     "metadata": {},
     "output_type": "execute_result"
    }
   ],
   "source": [
    "from signals_notebook.users.role import Role\n",
    "import random\n",
    "\n",
    "role = Role.get('1')\n",
    "\n",
    "number = str(random.random())[2:]\n",
    "\n",
    "new_user = User.create(alias=f'aliasd{number}',\n",
    "    country='USA',\n",
    "    email=f'uniqued{number}@quantori.com',\n",
    "    first_name='first_name',\n",
    "    last_name='last_name',\n",
    "    organization='orga',\n",
    "    roles=[role])\n",
    "\n",
    "new_user"
   ],
   "metadata": {
    "collapsed": false,
    "pycharm": {
     "name": "#%%\n"
    }
   }
  },
  {
   "cell_type": "code",
   "execution_count": 13,
   "outputs": [],
   "source": [
    "new_user.first_name = 'Test User'\n",
    "new_user.save()"
   ],
   "metadata": {
    "collapsed": false,
    "pycharm": {
     "name": "#%%\n"
    }
   }
  },
  {
   "cell_type": "code",
   "execution_count": 14,
   "outputs": [
    {
     "data": {
      "text/plain": "User(id='161', first_name='Test User', last_name='last_name', email='uniqued4124450426236008@quantori.com', created_at=datetime.datetime(2022, 8, 30, 9, 15, 6, 804000, tzinfo=datetime.timezone.utc), is_enabled=True, username='uniqued4124450426236008@quantori.com', alias='aliasd4124450426236008', country='USA', organization='orga', last_login_at=None)"
     },
     "execution_count": 14,
     "metadata": {},
     "output_type": "execute_result"
    }
   ],
   "source": [
    "new_user.refresh()\n",
    "new_user"
   ],
   "metadata": {
    "collapsed": false,
    "pycharm": {
     "name": "#%%\n"
    }
   }
  },
  {
   "cell_type": "code",
   "execution_count": 15,
   "outputs": [],
   "source": [
    "new_user.delete()"
   ],
   "metadata": {
    "collapsed": false,
    "pycharm": {
     "name": "#%%\n"
    }
   }
  }
 ],
 "metadata": {
  "kernelspec": {
   "display_name": "Python 3",
   "language": "python",
   "name": "python3"
  },
  "language_info": {
   "codemirror_mode": {
    "name": "ipython",
    "version": 2
   },
   "file_extension": ".py",
   "mimetype": "text/x-python",
   "name": "python",
   "nbconvert_exporter": "python",
   "pygments_lexer": "ipython2",
   "version": "2.7.6"
  }
 },
 "nbformat": 4,
 "nbformat_minor": 0
}
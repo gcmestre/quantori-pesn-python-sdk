{
 "cells": [
  {
   "cell_type": "code",
   "execution_count": 1,
   "outputs": [],
   "source": [
    "%load_ext dotenv\n",
    "%dotenv\n",
    "import os\n",
    "\n",
    "SN_API_HOST = os.getenv('SN_API_HOST')\n",
    "SN_API_KEY = os.getenv('SN_API_KEY')"
   ],
   "metadata": {
    "collapsed": false,
    "pycharm": {
     "name": "#%%\n"
    }
   }
  },
  {
   "cell_type": "code",
   "execution_count": 2,
   "outputs": [
    {
     "data": {
      "text/plain": "<signals_notebook.api.SignalsNotebookApi at 0x12ebe888220>"
     },
     "execution_count": 2,
     "metadata": {},
     "output_type": "execute_result"
    }
   ],
   "source": [
    "from signals_notebook.api import SignalsNotebookApi\n",
    "\n",
    "SignalsNotebookApi.init(SN_API_HOST, SN_API_KEY)"
   ],
   "metadata": {
    "collapsed": false,
    "pycharm": {
     "name": "#%%\n"
    }
   }
  },
  {
   "cell_type": "code",
   "execution_count": 3,
   "outputs": [
    {
     "data": {
      "text/plain": "ParallelExperiment(type=<EntityType.PARALLEL_EXPERIMENT: 'paraexp'>, eid='paraexp:c94fe119-dddd-43e1-948a-0087244c727c', digest='98060703', name='Example parallel experiment created by SDK', description='Delete if you see this in UI', created_at=datetime.datetime(2022, 8, 2, 7, 27, 23, 314000, tzinfo=datetime.timezone.utc), edited_at=datetime.datetime(2022, 8, 2, 7, 27, 23, 314000, tzinfo=datetime.timezone.utc), state=<ParaExperimentState.OPEN: 'open'>)"
     },
     "execution_count": 3,
     "metadata": {},
     "output_type": "execute_result"
    }
   ],
   "source": [
    "from signals_notebook.entities import ParallelExperiment\n",
    "from signals_notebook.entities import EntityStore\n",
    "\n",
    "notebook = EntityStore.get('journal:9801ad65-9869-404f-80e8-5139a8d9ce03')\n",
    "\n",
    "parallel_experiment = ParallelExperiment.create(\n",
    "    name='Example parallel experiment created by SDK',\n",
    "    description='Delete if you see this in UI',\n",
    "    notebook=notebook,\n",
    ")\n",
    "parallel_experiment"
   ],
   "metadata": {
    "collapsed": false,
    "pycharm": {
     "name": "#%%\n"
    }
   }
  },
  {
   "cell_type": "code",
   "execution_count": 4,
   "outputs": [],
   "source": [
    "EntityStore.delete(parallel_experiment.eid)"
   ],
   "metadata": {
    "collapsed": false,
    "pycharm": {
     "name": "#%%\n"
    }
   }
  },
  {
   "cell_type": "code",
   "execution_count": 3,
   "outputs": [
    {
     "data": {
      "text/plain": "ParallelExperiment(type=<EntityType.PARALLEL_EXPERIMENT: 'paraexp'>, eid='paraexp:973e9bc9-bfa3-4e7e-a91e-51a8a9bf35ba', digest='58181685', name='create-experiment-example', description='', created_at=datetime.datetime(2022, 8, 1, 14, 12, 29, 33000, tzinfo=datetime.timezone.utc), edited_at=datetime.datetime(2022, 8, 2, 6, 34, 17, 263000, tzinfo=datetime.timezone.utc), state=<ParaExperimentState.OPEN: 'open'>)"
     },
     "execution_count": 3,
     "metadata": {},
     "output_type": "execute_result"
    }
   ],
   "source": [
    "from signals_notebook.entities import EntityStore\n",
    "\n",
    "parallel_experiment = EntityStore.get(\"paraexp:973e9bc9-bfa3-4e7e-a91e-51a8a9bf35ba\")\n",
    "\n",
    "parallel_experiment"
   ],
   "metadata": {
    "collapsed": false,
    "pycharm": {
     "name": "#%%\n"
    }
   }
  },
  {
   "cell_type": "code",
   "execution_count": 5,
   "outputs": [
    {
     "data": {
      "text/plain": "[ChemicalDrawing(type=<EntityType.CHEMICAL_DRAWING: 'chemicalDrawing'>, eid='chemicalDrawing:91876f5d-35e9-44f5-a883-3b6639160e3f', digest='87041936', name='Generic Reaction', description='', created_at=datetime.datetime(2022, 8, 1, 14, 12, 29, 33000, tzinfo=datetime.timezone.utc), edited_at=datetime.datetime(2022, 8, 1, 14, 28, 13, 573000, tzinfo=datetime.timezone.utc)),\n SubExperiment(type=<EntityType.SUB_EXPERIMENT: 'parasubexp'>, eid='parasubexp:782d4af3-a17a-4bbc-b039-cfb7a6e6a215', digest='36759963', name='Sub-experiment-3', description='Test SubExperiment', created_at=datetime.datetime(2022, 8, 1, 15, 10, 23, 369000, tzinfo=datetime.timezone.utc), edited_at=datetime.datetime(2022, 8, 1, 15, 10, 23, 369000, tzinfo=datetime.timezone.utc)),\n SubExperimentSummary(type=<EntityType.SUB_EXPERIMENT_SUMMARY: 'paragrid'>, eid='paragrid:9a7f9c17-3ba8-4916-b63d-68f0be6e117f', digest='49558344', name='Subexperiment Summary', description='', created_at=datetime.datetime(2022, 8, 1, 14, 12, 29, 33000, tzinfo=datetime.timezone.utc), edited_at=datetime.datetime(2022, 8, 1, 17, 26, 50, 140000, tzinfo=datetime.timezone.utc)),\n SubExperiment(type=<EntityType.SUB_EXPERIMENT: 'parasubexp'>, eid='parasubexp:ea4b04cb-c262-4d4a-bd84-2321030c4af1', digest='15207708', name='Sub-experiment-1', description='', created_at=datetime.datetime(2022, 8, 1, 14, 41, 31, 575000, tzinfo=datetime.timezone.utc), edited_at=datetime.datetime(2022, 8, 1, 14, 41, 31, 575000, tzinfo=datetime.timezone.utc)),\n SubExperiment(type=<EntityType.SUB_EXPERIMENT: 'parasubexp'>, eid='parasubexp:c88fb21c-7cc5-4bdd-b189-19c03100d59b', digest='10476249', name='Sub-experiment-6', description='Test SubExperiment', created_at=datetime.datetime(2022, 8, 1, 15, 33, 17, 383000, tzinfo=datetime.timezone.utc), edited_at=datetime.datetime(2022, 8, 1, 15, 33, 17, 383000, tzinfo=datetime.timezone.utc)),\n SubExperiment(type=<EntityType.SUB_EXPERIMENT: 'parasubexp'>, eid='parasubexp:d386a052-f0be-4633-acac-635375cea1f6', digest='27061768', name='Sub-experiment-7', description='Test SubExperiment', created_at=datetime.datetime(2022, 8, 1, 15, 40, 56, 694000, tzinfo=datetime.timezone.utc), edited_at=datetime.datetime(2022, 8, 1, 15, 40, 56, 694000, tzinfo=datetime.timezone.utc)),\n SubExperimentSummary(type=<EntityType.SUB_EXPERIMENT_SUMMARY: 'paragrid'>, eid='paragrid:634f5577-e435-4a10-b4a9-e20cb87d5715', digest='56885445', name='Products', description='', created_at=datetime.datetime(2022, 8, 1, 14, 12, 29, 33000, tzinfo=datetime.timezone.utc), edited_at=datetime.datetime(2022, 8, 1, 17, 26, 50, 140000, tzinfo=datetime.timezone.utc)),\n SubExperiment(type=<EntityType.SUB_EXPERIMENT: 'parasubexp'>, eid='parasubexp:ae124ee6-7601-4785-b3e7-6adba789e06c', digest='53632686', name='Sub-experiment-5', description='Test SubExperiment', created_at=datetime.datetime(2022, 8, 1, 15, 10, 51, 249000, tzinfo=datetime.timezone.utc), edited_at=datetime.datetime(2022, 8, 1, 15, 10, 51, 249000, tzinfo=datetime.timezone.utc)),\n SubExperimentSummary(type=<EntityType.SUB_EXPERIMENT_SUMMARY: 'paragrid'>, eid='paragrid:ae3378fd-d9b1-458d-b30c-e94ddc9353c2', digest='53206454', name='Subexperiment Summary-1', description='', created_at=datetime.datetime(2022, 8, 2, 6, 34, 15, 370000, tzinfo=datetime.timezone.utc), edited_at=datetime.datetime(2022, 8, 2, 6, 34, 15, 370000, tzinfo=datetime.timezone.utc)),\n Text(type=<EntityType.TEXT: 'text'>, eid='text:c567d4d3-ca30-4816-bc99-6fb56caa2ce3', digest='0', name='Procedure', description='', created_at=datetime.datetime(2022, 8, 1, 14, 12, 29, 33000, tzinfo=datetime.timezone.utc), edited_at=datetime.datetime(2022, 8, 1, 14, 12, 29, 33000, tzinfo=datetime.timezone.utc)),\n SubExperiment(type=<EntityType.SUB_EXPERIMENT: 'parasubexp'>, eid='parasubexp:bdc4287c-eff0-4f8f-a6bf-a611d5599309', digest='70889074', name='Sub-experiment-4', description='Test SubExperiment', created_at=datetime.datetime(2022, 8, 1, 15, 10, 38, 991000, tzinfo=datetime.timezone.utc), edited_at=datetime.datetime(2022, 8, 1, 15, 10, 38, 991000, tzinfo=datetime.timezone.utc)),\n Entity(type='paraLayout', eid='paraLayout:78a83746-1563-4360-aa68-22c08acddc7d', digest='71418732', name='Subexperiment Layout', description='', created_at=datetime.datetime(2022, 8, 2, 6, 27, 22, 295000, tzinfo=datetime.timezone.utc), edited_at=datetime.datetime(2022, 8, 2, 6, 27, 54, 797000, tzinfo=datetime.timezone.utc)),\n SubExperiment(type=<EntityType.SUB_EXPERIMENT: 'parasubexp'>, eid='parasubexp:50865f97-f858-4d33-bcf0-4f1455ad68a8', digest='89730139', name='Sub-experiment-2', description='', created_at=datetime.datetime(2022, 8, 1, 14, 51, 20, 99000, tzinfo=datetime.timezone.utc), edited_at=datetime.datetime(2022, 8, 1, 14, 51, 20, 99000, tzinfo=datetime.timezone.utc)),\n Entity(type='paraenum', eid='paraenum:066e6f7c-b818-4a88-b85e-8defd7ec53c0', digest='0', name='Enumerator', description='', created_at=datetime.datetime(2022, 8, 1, 14, 12, 29, 33000, tzinfo=datetime.timezone.utc), edited_at=datetime.datetime(2022, 8, 1, 14, 12, 29, 33000, tzinfo=datetime.timezone.utc)),\n SubExperimentSummary(type=<EntityType.SUB_EXPERIMENT_SUMMARY: 'paragrid'>, eid='paragrid:11270066-1b19-49a7-a753-7fcdf19ec41f', digest='72838112', name='Reactions', description='', created_at=datetime.datetime(2022, 8, 1, 14, 12, 29, 33000, tzinfo=datetime.timezone.utc), edited_at=datetime.datetime(2022, 8, 1, 17, 26, 50, 140000, tzinfo=datetime.timezone.utc)),\n SubExperimentSummary(type=<EntityType.SUB_EXPERIMENT_SUMMARY: 'paragrid'>, eid='paragrid:821e6102-7f8c-44c1-b1b5-3d89d8fa897e', digest='76075075', name='Reactants', description='', created_at=datetime.datetime(2022, 8, 1, 14, 12, 29, 33000, tzinfo=datetime.timezone.utc), edited_at=datetime.datetime(2022, 8, 2, 6, 56, 26, 957000, tzinfo=datetime.timezone.utc))]"
     },
     "execution_count": 5,
     "metadata": {},
     "output_type": "execute_result"
    }
   ],
   "source": [
    "list(parallel_experiment.get_children())"
   ],
   "metadata": {
    "collapsed": false,
    "pycharm": {
     "name": "#%%\n"
    }
   }
  },
  {
   "cell_type": "code",
   "execution_count": 4,
   "outputs": [
    {
     "ename": "AssertionError",
     "evalue": "<generator object ParallelExperiment.get_children at 0x0000012ECF0DC580>",
     "output_type": "error",
     "traceback": [
      "\u001B[1;31m---------------------------------------------------------------------------\u001B[0m",
      "\u001B[1;31mAssertionError\u001B[0m                            Traceback (most recent call last)",
      "Input \u001B[1;32mIn [4]\u001B[0m, in \u001B[0;36m<cell line: 6>\u001B[1;34m()\u001B[0m\n\u001B[0;32m      2\u001B[0m warnings\u001B[38;5;241m.\u001B[39mfilterwarnings(\u001B[38;5;124m'\u001B[39m\u001B[38;5;124mignore\u001B[39m\u001B[38;5;124m'\u001B[39m)\n\u001B[0;32m      4\u001B[0m \u001B[38;5;28;01mfrom\u001B[39;00m \u001B[38;5;21;01mIPython\u001B[39;00m\u001B[38;5;21;01m.\u001B[39;00m\u001B[38;5;21;01mcore\u001B[39;00m\u001B[38;5;21;01m.\u001B[39;00m\u001B[38;5;21;01mdisplay\u001B[39;00m \u001B[38;5;28;01mimport\u001B[39;00m display, HTML\n\u001B[1;32m----> 6\u001B[0m parallel_experiment_html \u001B[38;5;241m=\u001B[39m \u001B[43mparallel_experiment\u001B[49m\u001B[38;5;241;43m.\u001B[39;49m\u001B[43mget_html\u001B[49m\u001B[43m(\u001B[49m\u001B[43m)\u001B[49m\n\u001B[0;32m      7\u001B[0m display(HTML(data\u001B[38;5;241m=\u001B[39mparallel_experiment_html))\n",
      "File \u001B[1;32m~\\PycharmProjects\\pesn-python-sdk\\src\\signals_notebook\\entities\\parallel_experiment\\parallel_experiment.py:147\u001B[0m, in \u001B[0;36mParallelExperiment.get_html\u001B[1;34m(self)\u001B[0m\n\u001B[0;32m    135\u001B[0m \u001B[38;5;124;03m\"\"\"Get in HTML format\u001B[39;00m\n\u001B[0;32m    136\u001B[0m \n\u001B[0;32m    137\u001B[0m \u001B[38;5;124;03mReturns:\u001B[39;00m\n\u001B[0;32m    138\u001B[0m \u001B[38;5;124;03m    Rendered template as a string\u001B[39;00m\n\u001B[0;32m    139\u001B[0m \u001B[38;5;124;03m\"\"\"\u001B[39;00m\n\u001B[0;32m    140\u001B[0m data \u001B[38;5;241m=\u001B[39m {\n\u001B[0;32m    141\u001B[0m     \u001B[38;5;124m'\u001B[39m\u001B[38;5;124mtitle\u001B[39m\u001B[38;5;124m'\u001B[39m: \u001B[38;5;28mself\u001B[39m\u001B[38;5;241m.\u001B[39mname,\n\u001B[0;32m    142\u001B[0m     \u001B[38;5;124m'\u001B[39m\u001B[38;5;124mdescription\u001B[39m\u001B[38;5;124m'\u001B[39m: \u001B[38;5;28mself\u001B[39m\u001B[38;5;241m.\u001B[39mdescription,\n\u001B[1;32m   (...)\u001B[0m\n\u001B[0;32m    145\u001B[0m     \u001B[38;5;124m'\u001B[39m\u001B[38;5;124mchildren\u001B[39m\u001B[38;5;124m'\u001B[39m: \u001B[38;5;28mself\u001B[39m\u001B[38;5;241m.\u001B[39mget_children(),\n\u001B[0;32m    146\u001B[0m }\n\u001B[1;32m--> 147\u001B[0m \u001B[38;5;28;01massert\u001B[39;00m \u001B[38;5;28;01mFalse\u001B[39;00m, data[\u001B[38;5;124m'\u001B[39m\u001B[38;5;124mchildren\u001B[39m\u001B[38;5;124m'\u001B[39m]\n\u001B[0;32m    148\u001B[0m template \u001B[38;5;241m=\u001B[39m env\u001B[38;5;241m.\u001B[39mget_template(\u001B[38;5;28mself\u001B[39m\u001B[38;5;241m.\u001B[39m_template_name)\n\u001B[0;32m    149\u001B[0m log\u001B[38;5;241m.\u001B[39minfo(\u001B[38;5;124m'\u001B[39m\u001B[38;5;124mHtml template for \u001B[39m\u001B[38;5;132;01m%s\u001B[39;00m\u001B[38;5;124m:\u001B[39m\u001B[38;5;132;01m%s\u001B[39;00m\u001B[38;5;124m has been rendered.\u001B[39m\u001B[38;5;124m'\u001B[39m, \u001B[38;5;28mself\u001B[39m\u001B[38;5;241m.\u001B[39m\u001B[38;5;18m__class__\u001B[39m\u001B[38;5;241m.\u001B[39m\u001B[38;5;18m__name__\u001B[39m, \u001B[38;5;28mself\u001B[39m\u001B[38;5;241m.\u001B[39meid)\n",
      "\u001B[1;31mAssertionError\u001B[0m: <generator object ParallelExperiment.get_children at 0x0000012ECF0DC580>"
     ]
    }
   ],
   "source": [
    "import warnings # added to ignore deprecation warnings\n",
    "warnings.filterwarnings('ignore')\n",
    "\n",
    "from IPython.core.display import display, HTML\n",
    "\n",
    "parallel_experiment_html = parallel_experiment.get_html()\n",
    "display(HTML(data=parallel_experiment_html))  # pycharm cannot display html correctly. Use web version to see html response."
   ],
   "metadata": {
    "collapsed": false,
    "pycharm": {
     "name": "#%%\n"
    }
   }
  },
  {
   "cell_type": "code",
   "execution_count": null,
   "outputs": [],
   "source": [
    "list(parallel_experiment.get_children())"
   ],
   "metadata": {
    "collapsed": false,
    "pycharm": {
     "name": "#%%\n"
    }
   }
  }
 ],
 "metadata": {
  "kernelspec": {
   "display_name": "Python 3",
   "language": "python",
   "name": "python3"
  },
  "language_info": {
   "codemirror_mode": {
    "name": "ipython",
    "version": 2
   },
   "file_extension": ".py",
   "mimetype": "text/x-python",
   "name": "python",
   "nbconvert_exporter": "python",
   "pygments_lexer": "ipython2",
   "version": "2.7.6"
  }
 },
 "nbformat": 4,
 "nbformat_minor": 0
}
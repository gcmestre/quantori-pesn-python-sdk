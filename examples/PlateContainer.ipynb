{
 "cells": [
  {
   "cell_type": "code",
   "execution_count": 1,
   "outputs": [],
   "source": [
    "%load_ext dotenv\n",
    "%dotenv\n",
    "import os\n",
    "\n",
    "SN_API_HOST = os.getenv('SN_API_HOST')\n",
    "SN_API_KEY = os.getenv('SN_API_KEY')"
   ],
   "metadata": {
    "collapsed": false,
    "pycharm": {
     "name": "#%%\n"
    }
   }
  },
  {
   "cell_type": "code",
   "execution_count": 2,
   "outputs": [
    {
     "data": {
      "text/plain": "<signals_notebook.api.SignalsNotebookApi at 0x196681ea490>"
     },
     "execution_count": 2,
     "metadata": {},
     "output_type": "execute_result"
    }
   ],
   "source": [
    "from signals_notebook.api import SignalsNotebookApi\n",
    "SignalsNotebookApi.init(SN_API_HOST, SN_API_KEY)"
   ],
   "metadata": {
    "collapsed": false,
    "pycharm": {
     "name": "#%%\n"
    }
   }
  },
  {
   "cell_type": "code",
   "execution_count": 3,
   "outputs": [],
   "source": [
    "from signals_notebook.entities import EntityStore\n",
    "\n",
    "experiment = EntityStore.get(\"experiment:1cf65229-dea3-4bdb-b6c5-daf8565e39a0\")"
   ],
   "metadata": {
    "collapsed": false,
    "pycharm": {
     "name": "#%%\n"
    }
   }
  },
  {
   "cell_type": "code",
   "execution_count": 4,
   "outputs": [],
   "source": [
    "plate_container = list(experiment.get_children())[-1]"
   ],
   "metadata": {
    "collapsed": false,
    "pycharm": {
     "name": "#%%\n"
    }
   }
  },
  {
   "cell_type": "code",
   "execution_count": 5,
   "outputs": [
    {
     "data": {
      "text/plain": "PlateContainer(type=<EntityType.PLATE_CONTAINER: 'plateContainer'>, eid='plateContainer:8728059f-8472-4872-929b-fa033e724fe3', digest='34718742', name='Plates-1', description='', created_at=datetime.datetime(2022, 7, 13, 9, 37, 5, 73000, tzinfo=datetime.timezone.utc), edited_at=datetime.datetime(2022, 7, 13, 9, 37, 29, 391000, tzinfo=datetime.timezone.utc))"
     },
     "execution_count": 5,
     "metadata": {},
     "output_type": "execute_result"
    }
   ],
   "source": [
    "plate_container"
   ],
   "metadata": {
    "collapsed": false,
    "pycharm": {
     "name": "#%%\n"
    }
   }
  },
  {
   "cell_type": "code",
   "execution_count": 6,
   "outputs": [
    {
     "data": {
      "text/plain": "PlateRow(id=UUID('869491dc-bf8b-3c43-a225-629e2c10900a'), type=<ObjectType.PLATE_ROW: 'plateRow'>, cells=[PlateCell(id=UUID('76a7d17a-75b7-39a5-8549-05f073a064e3'), type=<ColumnDataType.TEXT: 'TEXT'>, name='Well ID', content=CellContent(user='A1', value='A1', values=None)), PlateCell(id=UUID('59f9b60c-a571-3c8e-982d-cdfe7e88e23c'), type=<ColumnDataType.TEXT: 'TEXT'>, name='Row', content=CellContent(user='A', value='A', values=None)), PlateCell(id=UUID('b5ff1ac8-310e-3848-9367-a4b8f4dc7ecc'), type=<ColumnDataType.INTEGER: 'INTEGER'>, name='Column', content=CellContent(user='1', value=1, values=None)), PlateCell(id=UUID('5a79aad4-7b07-39f1-9634-a2669a149a5b'), type=<ColumnDataType.TEXT: 'TEXT'>, name='Plate', content=CellContent(user='Plate-1', value='Plate-1', values=None)), PlateCell(id=UUID('43a9fcf2-bf40-3ed0-ba54-204275f053df'), type=<ColumnDataType.INTEGER: 'INTEGER'>, name='Order', content=CellContent(user='1', value=1, values=None)), PlateCell(id=UUID('f2053c2d-985d-3343-97e4-ae35b7fbe9d3'), type=<ColumnDataType.TEXT: 'TEXT'>, name='Plate ID', content=CellContent(user='d', value='d', values=None))])"
     },
     "execution_count": 6,
     "metadata": {},
     "output_type": "execute_result"
    }
   ],
   "source": [
    "plate_container[0]"
   ],
   "metadata": {
    "collapsed": false,
    "pycharm": {
     "name": "#%%\n"
    }
   }
  },
  {
   "cell_type": "code",
   "execution_count": 7,
   "outputs": [
    {
     "data": {
      "text/plain": "PlateCell(id=UUID('76a7d17a-75b7-39a5-8549-05f073a064e3'), type=<ColumnDataType.TEXT: 'TEXT'>, name='Well ID', content=CellContent(user='A1', value='A1', values=None))"
     },
     "execution_count": 7,
     "metadata": {},
     "output_type": "execute_result"
    }
   ],
   "source": [
    "plate_container[0][0]"
   ],
   "metadata": {
    "collapsed": false,
    "pycharm": {
     "name": "#%%\n"
    }
   }
  },
  {
   "cell_type": "code",
   "execution_count": 8,
   "outputs": [],
   "source": [
    "experiment_html = experiment.get_html()"
   ],
   "metadata": {
    "collapsed": false,
    "pycharm": {
     "name": "#%%\n"
    }
   }
  },
  {
   "cell_type": "code",
   "execution_count": 9,
   "outputs": [
    {
     "data": {
      "text/plain": "File(name='Plates-1', content=b'{\"eid\":\"plateContainer:8728059f-8472-4872-929b-fa033e724fe3\",\"name\":\"Plates-1\",\"numberOfRows\":32,\"numberOfColumns\":48,\"plates\":[{\"eid\":\"plate:f7cde4a2-f481-4c04-951f-83f59c45dd64\",\"name\":\"Plate-1\",\"plateCustomName\":\"d\",\"plateContainerEid\":\"plateContainer:8728059f-8472-4872-929b-fa033e724fe3\",\"isTemplate\":false,\"numberOfRows\":32,\"numberOfColumns\":48,\"annotationLayers\":{},\"fields\":[]},{\"eid\":\"plate:0b34fefd-71e4-4bbd-ba56-df2363e64877\",\"name\":\"Plate-2\",\"plateContainerEid\":\"plateContainer:8728059f-8472-4872-929b-fa033e724fe3\",\"isTemplate\":false,\"numberOfRows\":32,\"numberOfColumns\":48,\"annotationLayers\":{},\"fields\":[]}],\"annotationLayers\":[{\"id\":\"9c41b7eb-e684-4354-9386-2bf97ae961a5\",\"name\":\"Well Format\",\"isPredefined\":true,\"isHidden\":false,\"annotationClass\":\"wellformat\",\"dataType\":\"TEXT\",\"annotationLayerValues\":{},\"trashed\":false,\"order\":0,\"suggestions\":[]},{\"id\":\"b31bfe68-daa9-45e5-bda7-6f65733c792c\",\"name\":\"Concentration\",\"isPredefined\":true,\"isHidden\":false,\"annotationClass\":\"concentration\",\"dataType\":\"DECIMAL\",\"annotationLayerValues\":{},\"trashed\":false,\"order\":1,\"suggestions\":[]},{\"id\":\"212dfeb9-fa0d-49d5-927b-7c69054074a6\",\"name\":\"Material\",\"isPredefined\":true,\"isHidden\":false,\"annotationClass\":\"material\",\"dataType\":\"LINK\",\"annotationLayerValues\":{},\"trashed\":false,\"order\":2,\"suggestions\":[]},{\"id\":\"8dc52048-9c71-4442-b397-78bfdd164f4c\",\"name\":\"Amount\",\"isPredefined\":true,\"isHidden\":false,\"annotationClass\":\"amount\",\"dataType\":\"DECIMAL\",\"annotationLayerValues\":{},\"trashed\":false,\"order\":3,\"suggestions\":[]},{\"id\":\"e523e1dc-bb17-492e-8a9a-110060dfe561\",\"name\":\"Replicate\",\"isPredefined\":true,\"isHidden\":false,\"annotationClass\":\"replicate\",\"dataType\":\"INTEGER\",\"annotationLayerValues\":{},\"trashed\":false,\"order\":4,\"suggestions\":[]},{\"id\":\"24ea6db0-56ab-4542-9e1f-3b116915cd21\",\"name\":\"Deviation\",\"isPredefined\":true,\"isHidden\":false,\"annotationClass\":\"deviation\",\"dataType\":\"TEXT\",\"annotationLayerValues\":{},\"trashed\":false,\"order\":5,\"suggestions\":[]}],\"fields\":[]}', content_type='application/json; charset=utf-8')"
     },
     "execution_count": 9,
     "metadata": {},
     "output_type": "execute_result"
    }
   ],
   "source": [
    "plate_container.get_content()"
   ],
   "metadata": {
    "collapsed": false,
    "pycharm": {
     "name": "#%%\n"
    }
   }
  },
  {
   "cell_type": "code",
   "execution_count": 10,
   "outputs": [],
   "source": [
    "with open('test_file.html', 'w') as f:\n",
    "    f.write(experiment_html)"
   ],
   "metadata": {
    "collapsed": false,
    "pycharm": {
     "name": "#%%\n"
    }
   }
  }
 ],
 "metadata": {
  "kernelspec": {
   "display_name": "Python 3",
   "language": "python",
   "name": "python3"
  },
  "language_info": {
   "codemirror_mode": {
    "name": "ipython",
    "version": 2
   },
   "file_extension": ".py",
   "mimetype": "text/x-python",
   "name": "python",
   "nbconvert_exporter": "python",
   "pygments_lexer": "ipython2",
   "version": "2.7.6"
  }
 },
 "nbformat": 4,
 "nbformat_minor": 0
}
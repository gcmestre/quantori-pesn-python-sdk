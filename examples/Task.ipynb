{
 "cells": [
  {
   "cell_type": "code",
   "execution_count": 1,
   "outputs": [],
   "source": [
    "%load_ext dotenv\n",
    "%dotenv\n",
    "import os\n",
    "\n",
    "SN_API_HOST = os.getenv('SN_API_HOST')\n",
    "SN_API_KEY = os.getenv('SN_API_KEY')"
   ],
   "metadata": {
    "collapsed": false,
    "pycharm": {
     "name": "#%%\n"
    }
   }
  },
  {
   "cell_type": "code",
   "execution_count": 2,
   "outputs": [
    {
     "data": {
      "text/plain": "<signals_notebook.api.SignalsNotebookApi at 0x1ae28bf03a0>"
     },
     "execution_count": 2,
     "metadata": {},
     "output_type": "execute_result"
    }
   ],
   "source": [
    "from signals_notebook.api import SignalsNotebookApi\n",
    "\n",
    "SignalsNotebookApi.init(SN_API_HOST, SN_API_KEY)"
   ],
   "metadata": {
    "collapsed": false,
    "pycharm": {
     "name": "#%%\n"
    }
   }
  },
  {
   "cell_type": "code",
   "execution_count": 3,
   "outputs": [],
   "source": [
    "from signals_notebook.entities import EntityStore\n",
    "\n",
    "task = EntityStore.get(\"task:637ddfa4-0406-4328-84c7-677a61296af2\")"
   ],
   "metadata": {
    "collapsed": false,
    "pycharm": {
     "name": "#%%\n"
    }
   }
  },
  {
   "cell_type": "code",
   "execution_count": 4,
   "outputs": [
    {
     "data": {
      "text/plain": "Task(type=<EntityType.TASK: 'task'>, eid='task:637ddfa4-0406-4328-84c7-677a61296af2', digest='48186746', name='Task-106', description='', created_at=datetime.datetime(2022, 8, 30, 9, 1, 5, 402000, tzinfo=datetime.timezone.utc), edited_at=datetime.datetime(2022, 8, 30, 9, 1, 5, 402000, tzinfo=datetime.timezone.utc))"
     },
     "execution_count": 4,
     "metadata": {},
     "output_type": "execute_result"
    }
   ],
   "source": [
    "task"
   ],
   "metadata": {
    "collapsed": false,
    "pycharm": {
     "name": "#%%\n"
    }
   }
  },
  {
   "cell_type": "code",
   "execution_count": 5,
   "outputs": [],
   "source": [
    "for item in task:\n",
    "    if item.id == '4':\n",
    "        item.content.set_value('5545')"
   ],
   "metadata": {
    "collapsed": false,
    "pycharm": {
     "name": "#%%\n"
    }
   }
  },
  {
   "cell_type": "code",
   "execution_count": 6,
   "outputs": [
    {
     "name": "stdout",
     "output_type": "stream",
     "text": [
      "id='1' name='Task ID' content=TaskCellContent(value='task:637ddfa4-0406-4328-84c7-677a61296af2', name=None, eid=None, values=None)\n",
      "id='2' name='Task Type' content=TaskCellContent(value='Investigation', name=None, eid=None, values=None)\n",
      "id='3' name='Reference ID' content=TaskCellContent(value='', name=None, eid=None, values=[])\n",
      "id='4' name='Requestor Comment' content=TaskCellContent(value='5545', name=None, eid=None, values=None)\n",
      "id='5' name='Analyst Comment' content=TaskCellContent(value=None, name=None, eid=None, values=None)\n",
      "id='6' name='Required By' content=TaskCellContent(value=None, name=None, eid=None, values=None)\n",
      "id='7' name='Analyst' content=TaskCellContent(value=None, name=None, eid=None, values=None)\n",
      "id='8' name='Experiment Link' content=TaskCellContent(value=None, name=None, eid=None, values=None)\n",
      "id='9' name='Request Link' content=TaskCellContent(value='request:cd55d951-d21d-4001-b9f8-c076bc047466', name=None, eid=None, values=None)\n",
      "id='10' name='Status' content=TaskCellContent(value='New', name=None, eid=None, values=None)\n",
      "id='11' name='Attached Docs' content=TaskCellContent(value='0', name=None, eid='task:637ddfa4-0406-4328-84c7-677a61296af2', values=None)\n",
      "id='12' name='Creator' content=TaskCellContent(value={'userId': '136', 'userName': 'daniil.cherednichenko@quantori.com', 'email': 'daniil.cherednichenko@quantori.com', 'firstName': 'Daniil', 'lastName': 'Cherednichenko', 'picture': {}}, name=None, eid=None, values=None)\n"
     ]
    }
   ],
   "source": [
    "for item in task:\n",
    "    print(item)"
   ],
   "metadata": {
    "collapsed": false,
    "pycharm": {
     "name": "#%%\n"
    }
   }
  },
  {
   "cell_type": "code",
   "execution_count": 7,
   "outputs": [],
   "source": [
    "task.save()"
   ],
   "metadata": {
    "collapsed": false,
    "pycharm": {
     "name": "#%%\n"
    }
   }
  }
 ],
 "metadata": {
  "kernelspec": {
   "display_name": "Python 3",
   "language": "python",
   "name": "python3"
  },
  "language_info": {
   "codemirror_mode": {
    "name": "ipython",
    "version": 2
   },
   "file_extension": ".py",
   "mimetype": "text/x-python",
   "name": "python",
   "nbconvert_exporter": "python",
   "pygments_lexer": "ipython2",
   "version": "2.7.6"
  }
 },
 "nbformat": 4,
 "nbformat_minor": 0
}
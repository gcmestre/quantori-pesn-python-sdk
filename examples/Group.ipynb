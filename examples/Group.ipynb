{
 "cells": [
  {
   "cell_type": "code",
   "execution_count": 1,
   "outputs": [],
   "source": [
    "%load_ext dotenv\n",
    "%dotenv\n",
    "import os\n",
    "\n",
    "SN_API_HOST = os.getenv('SN_API_HOST')\n",
    "SN_API_KEY = os.getenv('SN_API_KEY')"
   ],
   "metadata": {
    "collapsed": false,
    "pycharm": {
     "name": "#%%\n"
    }
   }
  },
  {
   "cell_type": "code",
   "execution_count": 2,
   "outputs": [
    {
     "data": {
      "text/plain": "<signals_notebook.api.SignalsNotebookApi at 0x171af3f84c0>"
     },
     "execution_count": 2,
     "metadata": {},
     "output_type": "execute_result"
    }
   ],
   "source": [
    "from signals_notebook.api import SignalsNotebookApi\n",
    "SignalsNotebookApi.init(SN_API_HOST, SN_API_KEY)"
   ],
   "metadata": {
    "collapsed": false,
    "pycharm": {
     "name": "#%%\n"
    }
   }
  },
  {
   "cell_type": "code",
   "execution_count": 3,
   "outputs": [
    {
     "data": {
      "text/plain": "[Group(type=<ObjectType.GROUP: 'group'>, eid='group:102', id='102', is_system=True, name='All users', description='Group containing all users', created_at=datetime.datetime(2021, 10, 22, 13, 35, 58, 625000, tzinfo=datetime.timezone.utc), edited_at=datetime.datetime(2021, 10, 22, 13, 35, 58, 625000, tzinfo=datetime.timezone.utc), digest='16696189'),\n Group(type=<ObjectType.GROUP: 'group'>, eid='group:121', id='121', is_system=True, name='ASG', description='The group dedicated to the synthesis, QC, and pre-clinical trials of alprostadil', created_at=datetime.datetime(2021, 11, 21, 10, 54, 45, 346000, tzinfo=datetime.timezone.utc), edited_at=datetime.datetime(2021, 11, 21, 10, 57, 27, 267000, tzinfo=datetime.timezone.utc), digest='35011372'),\n Group(type=<ObjectType.GROUP: 'group'>, eid='group:101', id='101', is_system=True, name='Administrators', description='Group containing all administrators', created_at=datetime.datetime(2021, 10, 22, 13, 35, 58, 444000, tzinfo=datetime.timezone.utc), edited_at=datetime.datetime(2021, 10, 22, 13, 35, 58, 444000, tzinfo=datetime.timezone.utc), digest='79277658')]"
     },
     "execution_count": 3,
     "metadata": {},
     "output_type": "execute_result"
    }
   ],
   "source": [
    "from signals_notebook.entities import Group\n",
    "\n",
    "group = Group.get_list()\n",
    "list(group)"
   ],
   "metadata": {
    "collapsed": false,
    "pycharm": {
     "name": "#%%\n"
    }
   }
  },
  {
   "cell_type": "code",
   "execution_count": 5,
   "outputs": [
    {
     "data": {
      "text/plain": "Group(type=<ObjectType.GROUP: 'group'>, eid='group:121', id='121', is_system=True, name='ASG', description='The group dedicated to the synthesis, QC, and pre-clinical trials of alprostadil', created_at=datetime.datetime(2021, 11, 21, 10, 54, 45, 346000, tzinfo=datetime.timezone.utc), edited_at=datetime.datetime(2021, 11, 21, 10, 57, 27, 267000, tzinfo=datetime.timezone.utc), digest='35011372')"
     },
     "execution_count": 5,
     "metadata": {},
     "output_type": "execute_result"
    }
   ],
   "source": [
    "group = Group.get('121')\n",
    "group"
   ],
   "metadata": {
    "collapsed": false,
    "pycharm": {
     "name": "#%%\n"
    }
   }
  },
  {
   "cell_type": "markdown",
   "source": [],
   "metadata": {
    "collapsed": false,
    "pycharm": {
     "name": "#%% md\n"
    }
   }
  }
 ],
 "metadata": {
  "kernelspec": {
   "display_name": "Python 3",
   "language": "python",
   "name": "python3"
  },
  "language_info": {
   "codemirror_mode": {
    "name": "ipython",
    "version": 2
   },
   "file_extension": ".py",
   "mimetype": "text/x-python",
   "name": "python",
   "nbconvert_exporter": "python",
   "pygments_lexer": "ipython2",
   "version": "2.7.6"
  }
 },
 "nbformat": 4,
 "nbformat_minor": 0
}